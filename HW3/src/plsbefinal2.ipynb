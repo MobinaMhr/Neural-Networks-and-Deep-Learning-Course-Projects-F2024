{
 "cells": [
  {
   "cell_type": "markdown",
   "metadata": {},
   "source": [
    "## Imports"
   ]
  },
  {
   "cell_type": "code",
   "execution_count": null,
   "metadata": {
    "execution": {
     "iopub.execute_input": "2024-12-08T10:01:55.798221Z",
     "iopub.status.busy": "2024-12-08T10:01:55.797387Z",
     "iopub.status.idle": "2024-12-08T10:01:55.806650Z",
     "shell.execute_reply": "2024-12-08T10:01:55.805736Z",
     "shell.execute_reply.started": "2024-12-08T10:01:55.798183Z"
    },
    "trusted": true
   },
   "outputs": [],
   "source": [
    "import warnings\n",
    "import os\n",
    "import zipfile\n",
    "import tensorflow as tf\n",
    "from sklearn.metrics import average_precision_score\n",
    "\n",
    "from tensorflow.keras.applications import VGG16\n",
    "from tensorflow.keras.layers import Conv2D, UpSampling2D, Concatenate, Input\n",
    "from tensorflow.keras.models import Model\n",
    "from tensorflow.keras.optimizers import Adam\n",
    "from tensorflow.keras.preprocessing.image import load_img, img_to_array\n",
    "import matplotlib.pyplot as plt\n",
    "import numpy as np\n",
    "\n",
    "from PIL import Image \n",
    "from collections import Counter\n",
    "import random\n",
    "\n",
    "from sklearn.model_selection import train_test_split\n",
    "from IPython.display import clear_output\n",
    "\n",
    "import torch\n",
    "import torchvision\n",
    "from torchvision import transforms\n",
    "import torchvision.transforms as T\n",
    "from torchvision.models.detection import fasterrcnn_resnet50_fpn\n",
    "from torch.utils.data import DataLoader\n",
    "from torchvision.transforms import functional as F\n",
    "\n",
    "# from torchvision.ops import box_iou\n",
    "from torchvision.models.detection.faster_rcnn import FasterRCNN\n",
    "from torchmetrics.detection.mean_ap import MeanAveragePrecision\n",
    "from tqdm import tqdm  \n",
    "from collections import defaultdict\n",
    "\n",
    "\n",
    "from torchvision.models.detection import ssd300_vgg16, SSD300_VGG16_Weights, _utils\n",
    "from torchvision.models.detection.ssd import SSDClassificationHead\n",
    "from torchvision.models.detection.anchor_utils import AnchorGenerator\n",
    "from torchvision.models.detection._utils import retrieve_out_channels\n",
    "from torch.optim import AdamW\n"
   ]
  },
  {
   "cell_type": "markdown",
   "metadata": {},
   "source": [
    "## Constants"
   ]
  },
  {
   "cell_type": "code",
   "execution_count": 3,
   "metadata": {
    "execution": {
     "iopub.execute_input": "2024-12-08T10:01:56.991523Z",
     "iopub.status.busy": "2024-12-08T10:01:56.990799Z",
     "iopub.status.idle": "2024-12-08T10:01:56.998163Z",
     "shell.execute_reply": "2024-12-08T10:01:56.997240Z",
     "shell.execute_reply.started": "2024-12-08T10:01:56.991488Z"
    },
    "trusted": true
   },
   "outputs": [],
   "source": [
    "url = \"https://sid.erda.dk/public/archives/ff17dc924eba88d5d01a807357d6614c/FullIJCNN2013.zip\"\n",
    "filename = \"FullIJCNN2013.zip\"\n",
    "\n",
    "data_dir = '/kaggle/working/FullIJCNN2013/FullIJCNN2013'\n",
    "gt_file = '/kaggle/working/FullIJCNN2013/FullIJCNN2013/gt.txt'\n",
    "\n",
    "annotations_file = \"/kaggle/working/FullIJCNN2013/FullIJCNN2013/gt.txt\"\n",
    "images_dir       = \"/kaggle/working/FullIJCNN2013/FullIJCNN2013\"\n",
    "\n",
    "CLASS_COUNT = 5\n",
    "\n",
    "CLASS_TO_CATEGORY = {\n",
    "    1: \"prohibitory\",\n",
    "    2: \"danger\",\n",
    "    3: \"mandatory\",\n",
    "    4: \"other\"\n",
    "}\n",
    "\n",
    "class_mapping = {\n",
    "    0: \"speed limit 20 (prohibitory)\",\n",
    "    1: \"speed limit 30 (prohibitory)\",\n",
    "    2: \"speed limit 50 (prohibitory)\",\n",
    "    3: \"speed limit 60 (prohibitory)\",\n",
    "    4: \"speed limit 70 (prohibitory)\",\n",
    "    5: \"speed limit 80 (prohibitory)\",\n",
    "    6: \"restriction ends 80 (other)\",\n",
    "    7: \"speed limit 100 (prohibitory)\",\n",
    "    8: \"speed limit 120 (prohibitory)\",\n",
    "    9: \"no overtaking (prohibitory)\",\n",
    "    10: \"no overtaking (trucks) (prohibitory)\",\n",
    "    11: \"priority at next intersection (danger)\",\n",
    "    12: \"priority road (other)\",\n",
    "    13: \"give way (other)\",\n",
    "    14: \"stop (other)\",\n",
    "    15: \"no traffic both ways (prohibitory)\",\n",
    "    16: \"no trucks (prohibitory)\",\n",
    "    17: \"no entry (other)\",\n",
    "    18: \"danger (danger)\",\n",
    "    19: \"bend left (danger)\",\n",
    "    20: \"bend right (danger)\",\n",
    "    21: \"bend (danger)\",\n",
    "    22: \"uneven road (danger)\",\n",
    "    23: \"slippery road (danger)\",\n",
    "    24: \"road narrows (danger)\",\n",
    "    25: \"construction (danger)\",\n",
    "    26: \"traffic signal (danger)\",\n",
    "    27: \"pedestrian crossing (danger)\",\n",
    "    28: \"school crossing (danger)\",\n",
    "    29: \"cycles crossing (danger)\",\n",
    "    30: \"snow (danger)\",\n",
    "    31: \"animals (danger)\",\n",
    "    32: \"restriction ends (other)\",\n",
    "    33: \"go right (mandatory)\",\n",
    "    34: \"go left (mandatory)\",\n",
    "    35: \"go straight (mandatory)\",\n",
    "    36: \"go right or straight (mandatory)\",\n",
    "    37: \"go left or straight (mandatory)\",\n",
    "    38: \"keep right (mandatory)\",\n",
    "    39: \"keep left (mandatory)\",\n",
    "    40: \"roundabout (mandatory)\",\n",
    "    41: \"restriction ends (overtaking) (other)\",\n",
    "    42: \"restriction ends (overtaking (trucks)) (other)\"\n",
    "}"
   ]
  },
  {
   "cell_type": "markdown",
   "metadata": {},
   "source": [
    "## Plot Functions"
   ]
  },
  {
   "cell_type": "code",
   "execution_count": null,
   "metadata": {
    "execution": {
     "iopub.execute_input": "2024-12-08T10:01:57.455735Z",
     "iopub.status.busy": "2024-12-08T10:01:57.454970Z",
     "iopub.status.idle": "2024-12-08T10:01:57.476438Z",
     "shell.execute_reply": "2024-12-08T10:01:57.475406Z",
     "shell.execute_reply.started": "2024-12-08T10:01:57.455673Z"
    },
    "trusted": true
   },
   "outputs": [],
   "source": [
    "def get_size_group(width):\n",
    "    if width < 32:\n",
    "        return \"small\"\n",
    "    elif 32 <= width <= 45:\n",
    "        return \"medium\"\n",
    "    else:\n",
    "        return \"large\"  \n",
    "\n",
    "def classify_bbox_sizes_and_classes(dataset):\n",
    "    small = {\"prohibitory\": 0, \"mandatory\": 0, \"danger\": 0, \"other\": 0} \n",
    "    medium = {\"prohibitory\": 0, \"mandatory\": 0, \"danger\": 0, \"other\": 0} \n",
    "    large = {\"prohibitory\": 0, \"mandatory\": 0, \"danger\": 0, \"other\": 0} \n",
    "\n",
    "    for _, target in dataset:\n",
    "        boxes = target[\"boxes\"]\n",
    "        labels = target[\"labels\"]\n",
    "\n",
    "        for box, label in zip(boxes, labels):\n",
    "            size_group = get_size_group(width = box[2] - box[0])\n",
    "            major_category = CLASS_TO_CATEGORY.get(label.item(), \"other\")\n",
    "\n",
    "            if size_group == \"small\":\n",
    "                small[major_category] += 1\n",
    "\n",
    "            elif size_group == \"medium\":\n",
    "                medium[major_category] += 1\n",
    "\n",
    "            elif size_group == \"large\":\n",
    "                large[major_category] += 1\n",
    "\n",
    "    return { \"small\": small, \"medium\": medium, \"large\": large }   \n",
    "    \n",
    "def plot_annotations(image_path, annotations, image_number):\n",
    "    image = Image.open(image_path)\n",
    "    plt.imshow(image)\n",
    "    plt.axis('off')\n",
    "\n",
    "    plt.title(f\"Image: {image_number}\")\n",
    "\n",
    "    for annotation in annotations:\n",
    "        left, top, right, bottom, class_id = annotation\n",
    "        class_name = class_mapping.get(class_id, \"Unknown class\")\n",
    "        rect = plt.Rectangle((left, top), right-left, bottom-top, edgecolor='red', facecolor='none', linewidth=1)\n",
    "        plt.gca().add_patch(rect)\n",
    "        plt.text(left, top-20, class_name, color='red', fontsize=8, backgroundcolor='white', bbox=dict(facecolor='white', edgecolor='none', alpha=0.7))\n",
    "\n",
    "    plt.show()\n",
    "\n",
    "def plot_samples(data_dir, gt_file, sample_count):\n",
    "    annotations = load_annotations(gt_file)\n",
    "    img_files = sorted([f for f in os.listdir(data_dir) if f.endswith('.ppm')])\n",
    "\n",
    "    random.shuffle(img_files)\n",
    "    selected_files = img_files[:sample_count]\n",
    "\n",
    "    for img_file in selected_files:\n",
    "        img_path = os.path.join(data_dir, img_file)\n",
    "        image_number = img_file.split('.')[0]\n",
    "        if img_file in annotations:\n",
    "            plot_annotations(img_path, annotations[img_file], image_number)\n",
    "\n",
    "def plot_bar_chart(categories, counts, title, xlabel, ylabel, group_labels=None, bar_width=0.2, legend_labels=None):\n",
    "    plt.figure(figsize=(10, 6))\n",
    "\n",
    "    if group_labels:\n",
    "        x = np.arange(len(categories))\n",
    "        for i, group in enumerate(group_labels):\n",
    "            plt.bar(x + i * bar_width, counts[i], bar_width, label=group)\n",
    "        plt.xticks(x + bar_width * (len(group_labels) - 1) / 2, categories)\n",
    "    else:\n",
    "        plt.bar(categories, counts, color=['blue', 'orange', 'green'])\n",
    "\n",
    "    plt.title(title)\n",
    "    plt.xlabel(xlabel)\n",
    "    plt.ylabel(ylabel)\n",
    "\n",
    "    if legend_labels:\n",
    "        plt.legend(title=\"Class Group\")\n",
    "\n",
    "    plt.grid(axis=\"y\", linestyle=\"--\", alpha=0.7)\n",
    "    plt.tight_layout()\n",
    "    plt.show()\n",
    "\n",
    "def plot_histogram(object_sizes):\n",
    "    categories = list(object_sizes.keys())\n",
    "    counts = list(object_sizes.values())\n",
    "    plot_bar_chart(categories, counts, \n",
    "                   title=\"Object Size Distribution\", \n",
    "                   xlabel=\"Object Size\", \n",
    "                   ylabel=\"Count\")\n",
    "\n",
    "def plot_class_distribution(size_category_counts):\n",
    "    size_groups = [\"small\", \"medium\", \"large\"]\n",
    "    categories = [\"prohibitory\", \"mandatory\", \"danger\", \"other\"]\n",
    "    bar_data = [[size_category_counts[size][cat] for size in size_groups] for cat in categories]\n",
    "\n",
    "    plot_bar_chart(size_groups, bar_data, \n",
    "                   title=\"Class Distribution by Size Category\", \n",
    "                   xlabel=\"Size Category\", \n",
    "                   ylabel=\"Frequency\", \n",
    "                   group_labels=categories, \n",
    "                   bar_width=0.2, \n",
    "                   legend_labels=categories)\n",
    "\n",
    "def plot_class_histogram(data, title, xlabel, ylabel, color='purple'):\n",
    "    categories = list(data.keys())\n",
    "    counts = list(data.values())\n",
    "\n",
    "    plt.figure(figsize=(12, 8))  # Increase figure size for better spacing\n",
    "    plt.barh(categories, counts, color=color, height=0.8)  # Increase the height of bars for more spacing\n",
    "    plt.xlabel(ylabel)  # Switch xlabel and ylabel for horizontal bar chart\n",
    "    plt.ylabel(xlabel)\n",
    "    plt.title(title)\n",
    "    plt.gca().invert_yaxis()  # Invert y-axis to plot right to left\n",
    "    plt.show()\n",
    "\n",
    "def plot_map_results(map_results):\n",
    "    # Convert all keys to strings and sort them\n",
    "    iou_thresholds = sorted(map_results.keys(), key=lambda x: float(x))\n",
    "\n",
    "    ap_per_class = {class_id: [] for class_id in CLASS_TO_CATEGORY.keys() if class_id != 0}\n",
    "\n",
    "    for iou in iou_thresholds:\n",
    "        for class_id, ap in map_results[iou]['AP_per_class'].items():\n",
    "            if class_id != 0:  # Exclude background class\n",
    "                ap_per_class[class_id].append(ap)\n",
    "\n",
    "    mAP_values = [map_results[iou]['mAP'] for iou in iou_thresholds]\n",
    "\n",
    "    plt.figure(figsize=(10, 6))\n",
    "\n",
    "    for class_id, ap_values in ap_per_class.items():\n",
    "        label = CLASS_TO_CATEGORY.get(class_id, f\"Unknown ({class_id})\")\n",
    "        plt.plot(\n",
    "            iou_thresholds, ap_values, label=f\"{label} AP\", linestyle='--', marker='o'\n",
    "        )\n",
    "\n",
    "    plt.plot(\n",
    "        iou_thresholds, mAP_values, label=\"mAP\", linestyle='-', marker='x', color='black'\n",
    "    )\n",
    "\n",
    "    if 0.75 in iou_thresholds:\n",
    "        plt.axvline(x=0.75, color='purple', linestyle='--', label='IoU = 0.75')\n",
    "\n",
    "    plt.title(\"AP and mAP Across IoU Thresholds\", fontsize=14)\n",
    "    plt.xlabel(\"Intersection over Union (IoU)\", fontsize=12)\n",
    "    plt.ylabel(\"Average Precision (AP)\", fontsize=12)\n",
    "    plt.legend(fontsize=10)\n",
    "    plt.grid(True, linestyle=\"--\", alpha=0.7)\n",
    "    plt.show()\n"
   ]
  },
  {
   "cell_type": "markdown",
   "metadata": {},
   "source": [
    "## Utility functions"
   ]
  },
  {
   "cell_type": "code",
   "execution_count": 24,
   "metadata": {
    "execution": {
     "iopub.execute_input": "2024-12-08T10:05:47.296030Z",
     "iopub.status.busy": "2024-12-08T10:05:47.295687Z",
     "iopub.status.idle": "2024-12-08T10:05:47.307772Z",
     "shell.execute_reply": "2024-12-08T10:05:47.306880Z",
     "shell.execute_reply.started": "2024-12-08T10:05:47.296000Z"
    },
    "trusted": true
   },
   "outputs": [],
   "source": [
    "def get_class_value(class_number):\n",
    "    return class_mapping.get(class_number, \"Unknown class number\")\n",
    "\n",
    "def load_annotations(gt_file):\n",
    "    annotations = {}\n",
    "    with open(gt_file, 'r') as file:\n",
    "        lines = file.readlines()\n",
    "        for line in lines:\n",
    "            parts = line.strip().split(';')\n",
    "            img_file = parts[0]\n",
    "            left, top, right, bottom, class_id = map(int, parts[1:])\n",
    "            if img_file not in annotations:\n",
    "                annotations[img_file] = []\n",
    "            annotations[img_file].append((left, top, right, bottom, class_id))\n",
    "    return annotations\n",
    "\n",
    "def categorize_objects(annotations):\n",
    "    object_sizes = {'small': 0, 'medium': 0, 'large': 0}\n",
    "    for img_file, objs in annotations.items():\n",
    "        for obj in objs:\n",
    "            left, top, right, bottom, class_id = obj\n",
    "            width = right - left\n",
    "            if width < 32:\n",
    "                object_sizes['small'] += 1\n",
    "            elif 32 <= width and width < 45:\n",
    "                object_sizes['medium'] += 1\n",
    "            else:\n",
    "                object_sizes['large'] += 1\n",
    "    return object_sizes\n",
    "\n",
    "def count_objects_by_class(annotations):\n",
    "    class_counts = Counter()\n",
    "    for img_file, objs in annotations.items():\n",
    "        for obj in objs:\n",
    "            class_id = obj[4]\n",
    "            class_name = class_mapping.get(class_id, \"Unknown class\")\n",
    "            class_counts[class_name] += 1\n",
    "    return class_counts\n",
    "\n",
    "def collate_fn(batch):\n",
    "    return tuple(zip(*batch))\n",
    "\n",
    "def split_dataset(dataset, val_ratio=0.1, test_ratio=0.2, random_state=123):\n",
    "    indices = list(range(len(dataset)))\n",
    "    temp_indices, test_indices = train_test_split(indices, test_size=test_ratio, random_state=random_state)\n",
    "    train_indices, val_indices = train_test_split(temp_indices, test_size=val_ratio, random_state=random_state)\n",
    "    \n",
    "    train_dataset = Subset(dataset, train_indices)\n",
    "    val_dataset   = Subset(dataset, val_indices)\n",
    "    test_dataset  = Subset(dataset, test_indices)\n",
    "    return train_dataset, val_dataset, test_dataset\n",
    "\n",
    "def get_datasets(dataset):\n",
    "    train_dataset, val_dataset, test_dataset = split_dataset(dataset, val_ratio=0.1, test_ratio=0.2)\n",
    "    print(f'Size of Dataset: {len(dataset)}')\n",
    "    print(f'------------------------------')\n",
    "    print(f'Size of Train Dataset:      {len(train_dataset)}')\n",
    "    print(f'Size of Test Dataset:       {len(val_dataset)}')\n",
    "    print(f'Size of Validation Dataset: {len(test_dataset)}')\n",
    "    return train_dataset, val_dataset, test_dataset\n",
    "\n",
    "def get_dataloader(dataset, shuffle, batch_size=4):\n",
    "    return DataLoader(dataset, batch_size=batch_size, shuffle=True, collate_fn=collate_fn)\n",
    "\n",
    "def get_model(num_classes):\n",
    "    model = fasterrcnn_resnet50_fpn(weights=\"COCO_V1\")\n",
    "    in_features = model.roi_heads.box_predictor.cls_score.in_features\n",
    "    model.roi_heads.box_predictor = torchvision.models.detection.faster_rcnn.FastRCNNPredictor(\n",
    "        in_features, num_classes\n",
    "    )\n",
    "    return model"
   ]
  },
  {
   "cell_type": "markdown",
   "metadata": {},
   "source": [
    "## Model Functions"
   ]
  },
  {
   "cell_type": "markdown",
   "metadata": {},
   "source": [
    "### FRCNN"
   ]
  },
  {
   "cell_type": "code",
   "execution_count": null,
   "metadata": {},
   "outputs": [],
   "source": [
    "def train_faster_rcnn_staged(model, train_loader, val_loader, device, rpn_epochs, roi_epochs, \n",
    "                             fine_tune_epochs, rpn_patience=4, roi_patience=4, fine_tune_patience=4, lr=1e-3):\n",
    "    print(\"Starting staged training...\")\n",
    "    # Stage: Train ROI Head\n",
    "    for param in model.backbone.parameters():\n",
    "        param.requires_grad = False\n",
    "    for param in model.roi_heads.parameters():\n",
    "        param.requires_grad = True\n",
    "    for param in model.rpn.parameters():\n",
    "        param.requires_grad = False\n",
    "    optimizer = torch.optim.AdamW(filter(lambda p: p.requires_grad, model.parameters()), lr=lr)\n",
    "    run_stage(model, train_loader, val_loader, optimizer, roi_epochs, roi_patience, \"ROI Head\", compute_iou_loss)\n",
    "    \n",
    "    # Stage: Train RPN\n",
    "    for param in model.backbone.parameters():\n",
    "        param.requires_grad = False\n",
    "    for param in model.roi_heads.parameters():\n",
    "        param.requires_grad = False\n",
    "    for param in model.rpn.parameters():\n",
    "        param.requires_grad = True\n",
    "    optimizer = torch.optim.AdamW(filter(lambda p: p.requires_grad, model.parameters()), lr=lr)\n",
    "    run_stage(model, train_loader, val_loader, optimizer, rpn_epochs, rpn_patience, \"RPN\", compute_iou_loss)\n",
    "    \n",
    "    # Stage: Train ROI Head\n",
    "    for param in model.backbone.parameters():\n",
    "        param.requires_grad = False\n",
    "    for param in model.roi_heads.parameters():\n",
    "        param.requires_grad = True\n",
    "    for param in model.rpn.parameters():\n",
    "        param.requires_grad = False\n",
    "    optimizer = torch.optim.AdamW(filter(lambda p: p.requires_grad, model.parameters()), lr=lr)\n",
    "    run_stage(model, train_loader, val_loader, optimizer, roi_epochs, roi_patience, \"ROI Head\", calculate_map_multiclass)\n",
    "    \n",
    "    # Stage: Fine-tune Entire Network\n",
    "    for param in model.parameters():\n",
    "        param.requires_grad = True\n",
    "    optimizer = torch.optim.AdamW(model.parameters(), lr=lr) ####################################### #  * 0.1 \n",
    "    run_stage(model, train_loader, val_loader, optimizer, fine_tune_epochs, fine_tune_patience, \"Fine-tuning\", calculate_map_multiclass)\n",
    "\n",
    "    print(\"Staged training complete.\")"
   ]
  },
  {
   "cell_type": "markdown",
   "metadata": {},
   "source": [
    "### SSD"
   ]
  },
  {
   "cell_type": "code",
   "execution_count": null,
   "metadata": {},
   "outputs": [],
   "source": [
    "def create_ssd_model(num_classes=5, size=300):\n",
    "    model = torchvision.models.detection.ssd300_vgg16(weights=SSD300_VGG16_Weights.COCO_V1)\n",
    "    in_channels = _utils.retrieve_out_channels(model.backbone, (size, size))\n",
    "    num_anchors = model.anchor_generator.num_anchors_per_location()\n",
    "    model.head.classification_head = SSDClassificationHead(in_channels=in_channels, num_anchors=num_anchors, num_classes=num_classes)\n",
    "    model.transform.min_size = (size,)\n",
    "    model.transform.max_size = size\n",
    "    return model\n",
    "\n",
    "def train_ssd_staged(model, train_loader, val_loader, device, rpn_epochs, roi_epochs, \n",
    "                             fine_tune_epochs, rpn_patience=4, roi_patience=4, fine_tune_patience=4, lr=1e-3):\n",
    "    print(\"Starting staged training...\")\n",
    "    # Stage: Train ROI Head\n",
    "    for param in model.backbone.parameters():\n",
    "        param.requires_grad = False\n",
    "    for param in model.roi_heads.parameters():\n",
    "        param.requires_grad = True\n",
    "    for param in model.rpn.parameters():\n",
    "        param.requires_grad = False\n",
    "    optimizer = torch.optim.AdamW(filter(lambda p: p.requires_grad, model.parameters()), lr=lr)\n",
    "    run_stage(model, train_loader, val_loader, optimizer, roi_epochs, roi_patience, \"ROI Head\", compute_iou_loss)\n",
    "    \n",
    "    # Stage: Train RPN\n",
    "    for param in model.backbone.parameters():\n",
    "        param.requires_grad = False\n",
    "    for param in model.roi_heads.parameters():\n",
    "        param.requires_grad = False\n",
    "    for param in model.rpn.parameters():\n",
    "        param.requires_grad = True\n",
    "    optimizer = torch.optim.AdamW(filter(lambda p: p.requires_grad, model.parameters()), lr=lr)\n",
    "    run_stage(model, train_loader, val_loader, optimizer, rpn_epochs, rpn_patience, \"RPN\", compute_iou_loss)\n",
    "    \n",
    "    # Stage: Train ROI Head\n",
    "    for param in model.backbone.parameters():\n",
    "        param.requires_grad = False\n",
    "    for param in model.roi_heads.parameters():\n",
    "        param.requires_grad = True\n",
    "    for param in model.rpn.parameters():\n",
    "        param.requires_grad = False\n",
    "    optimizer = torch.optim.AdamW(filter(lambda p: p.requires_grad, model.parameters()), lr=lr)\n",
    "    run_stage(model, train_loader, val_loader, optimizer, roi_epochs, roi_patience, \"ROI Head\", calculate_map_multiclass)\n",
    "    \n",
    "    # Stage: Fine-tune Entire Network\n",
    "    for param in model.parameters():\n",
    "        param.requires_grad = True\n",
    "    optimizer = torch.optim.AdamW(model.parameters(), lr=lr) ####################################### #  * 0.1 \n",
    "    run_stage(model, train_loader, val_loader, optimizer, fine_tune_epochs, fine_tune_patience, \"Fine-tuning\", calculate_map_multiclass)\n",
    "\n",
    "    print(\"Staged training complete.\")"
   ]
  },
  {
   "cell_type": "markdown",
   "metadata": {},
   "source": [
    "### Metrics"
   ]
  },
  {
   "cell_type": "code",
   "execution_count": null,
   "metadata": {
    "execution": {
     "iopub.execute_input": "2024-12-08T10:02:07.830482Z",
     "iopub.status.busy": "2024-12-08T10:02:07.830126Z",
     "iopub.status.idle": "2024-12-08T10:02:07.834906Z",
     "shell.execute_reply": "2024-12-08T10:02:07.834035Z",
     "shell.execute_reply.started": "2024-12-08T10:02:07.830447Z"
    },
    "trusted": true
   },
   "outputs": [],
   "source": [
    "def box_iou(boxes1, boxes2):\n",
    "    if boxes1.numel() == 0 or boxes2.numel() == 0:\n",
    "        return torch.zeros((boxes1.size(0), boxes2.size(0)), device=boxes1.device)\n",
    "\n",
    "    x1 = torch.max(boxes1[:, None, 0], boxes2[:, 0])  # Top-left x\n",
    "    y1 = torch.max(boxes1[:, None, 1], boxes2[:, 1])  # Top-left y\n",
    "    x2 = torch.min(boxes1[:, None, 2], boxes2[:, 2])  # Bottom-right x\n",
    "    y2 = torch.min(boxes1[:, None, 3], boxes2[:, 3])  # Bottom-right y\n",
    "\n",
    "    inter_width = (x2 - x1).clamp(min=0)\n",
    "    inter_height = (y2 - y1).clamp(min=0)\n",
    "    inter_area = inter_width * inter_height\n",
    "\n",
    "    area1 = (boxes1[:, 2] - boxes1[:, 0]) * (boxes1[:, 3] - boxes1[:, 1])  # Area of boxes1\n",
    "    area2 = (boxes2[:, 2] - boxes2[:, 0]) * (boxes2[:, 3] - boxes2[:, 1])  # Area of boxes2\n",
    "\n",
    "    union_area = area1[:, None] + area2 - inter_area\n",
    "    iou = inter_area / union_area\n",
    "\n",
    "    return iou\n",
    "\n",
    "def early_stop(metric_values, patience):\n",
    "    if not metric_values: return False\n",
    "    best_metric = max(metric_values)\n",
    "    best_metric_epoch = len(metric_values) - 1 - metric_values[::-1].index(best_metric)\n",
    "    if len(metric_values) - best_metric_epoch - 1 >= patience:\n",
    "        recent_metrics = metric_values[best_metric_epoch + 1:]\n",
    "        if all(m <= best_metric for m in recent_metrics[:patience]): return True\n",
    "    return False\n",
    "\n",
    "def compute_iou_loss(model, val_loader):\n",
    "    model.eval()\n",
    "    total_iou = 0\n",
    "    total_samples = 0\n",
    "    with torch.no_grad():\n",
    "        for images, targets in val_loader:\n",
    "            images = list(img.to(device) for img in images)\n",
    "            targets = [{k: v.to(device) for k, v in t.items()} for t in targets]\n",
    "            \n",
    "            outputs = model(images)\n",
    "            \n",
    "            for output, target in zip(outputs, targets):\n",
    "                pred_boxes, target_boxes = output['boxes'], target['boxes']\n",
    "                if pred_boxes.numel() == 0 or target_boxes.numel() == 0:\n",
    "                    # print(f\"Empty boxes found. Predicted: {pred_boxes.numel()}, Target: {target_boxes.numel()}\")\n",
    "                    continue\n",
    "                \n",
    "                ious = box_iou(pred_boxes, target_boxes)                   \n",
    "                if ious.numel() == 0: \n",
    "                    # print(f\"No valid IoUs found between predicted and target boxes.\")\n",
    "                    continue\n",
    "                \n",
    "                mean_iou = ious.mean().item()\n",
    "                if torch.isnan(torch.tensor(mean_iou)):\n",
    "                    # print(f\"NaN IoU found. Predicted boxes: {pred_boxes}, Target boxes: {target_boxes}\")\n",
    "                    continue\n",
    "                \n",
    "                total_iou += mean_iou\n",
    "                total_samples += 1\n",
    "    \n",
    "    if total_samples == 0:\n",
    "        print(\"No valid samples found in validation set for IoU computation.\")\n",
    "        return float('nan')  \n",
    "    \n",
    "    return total_iou / total_samples, None\n",
    "\n",
    "def run_stage(model, train_loader, val_loader, optimizer, num_epochs, patience, stage_name, eval_metric_fn):\n",
    "    best_metric = 0\n",
    "    metric_values = []\n",
    "    for epoch in range(num_epochs):\n",
    "        print(f\"\\n{stage_name} Training - Epoch {epoch + 1}/{num_epochs}\")\n",
    "        model.train()\n",
    "        epoch_loss = 0\n",
    "        for images, targets in tqdm(train_loader, desc=\"Batch\", leave=True, ncols=100):\n",
    "            images = list(img.to(device) for img in images)\n",
    "            targets = [{k: v.to(device) for k, v in t.items()} for t in targets]\n",
    "\n",
    "            loss_dict = model(images, targets)\n",
    "            total_loss = sum(loss for loss in loss_dict.values())\n",
    "            \n",
    "            optimizer.zero_grad()\n",
    "            total_loss.backward()\n",
    "            optimizer.step()\n",
    "            \n",
    "            epoch_loss += total_loss.item()\n",
    "        \n",
    "        print(f\"Epoch {epoch + 1}/{num_epochs} - Loss: {epoch_loss:.4f}\")\n",
    "        \n",
    "        metric_value, _ = eval_metric_fn(model, val_loader)\n",
    "        metric_values.append(metric_value)\n",
    "                    \n",
    "        print(f\"Validation Metric ({stage_name}): {metric_value}\")\n",
    "        \n",
    "        if metric_value > best_metric:\n",
    "            best_metric = metric_value\n",
    "            torch.save(model.state_dict(), f\"best_{stage_name.lower()}_model.pth\")\n",
    "            print(f\"Best model for {stage_name} saved.\")\n",
    "\n",
    "        if early_stop(metric_values, patience):\n",
    "            print(f\"Early stopping triggered for {stage_name}.\")\n",
    "            break\n",
    "\n"
   ]
  },
  {
   "cell_type": "markdown",
   "metadata": {},
   "source": [
    "## Metric Functoins"
   ]
  },
  {
   "cell_type": "code",
   "execution_count": null,
   "metadata": {},
   "outputs": [],
   "source": [
    "def calculate_map_multiclass(model, val_loader, iou_thresholds=[0.5, 0.75]):\n",
    "    model.eval()\n",
    "    ap_scores_per_class = {iou: defaultdict(list) for iou in iou_thresholds}\n",
    "\n",
    "    with torch.no_grad():\n",
    "        for images, targets in val_loader:\n",
    "            images = [img.to(device) for img in images]\n",
    "            targets = [{k: v.to(device) for k, v in t.items()} for t in targets]\n",
    "            outputs = model(images)\n",
    "\n",
    "            for output, target in zip(outputs, targets):\n",
    "                pred_boxes = output['boxes']\n",
    "                pred_scores = output['scores']\n",
    "                pred_labels = output['labels']\n",
    "                target_boxes = target['boxes']\n",
    "                target_labels = target['labels']\n",
    "                \n",
    "                if pred_boxes.numel() == 0 or target_boxes.numel() == 0:\n",
    "                    continue\n",
    "\n",
    "                # Sort predictions by confidence score\n",
    "                sorted_indices = torch.argsort(pred_scores, descending=True)\n",
    "                pred_boxes = pred_boxes[sorted_indices]\n",
    "                pred_scores = pred_scores[sorted_indices]\n",
    "                pred_labels = pred_labels[sorted_indices]\n",
    "\n",
    "                for iou_threshold in iou_thresholds:\n",
    "                    for cls in range(1, CLASS_COUNT):\n",
    "                        # Filter predictions and targets for the current class\n",
    "                        cls_pred_boxes = pred_boxes[pred_labels == cls]\n",
    "                        cls_pred_scores = pred_scores[pred_labels == cls]\n",
    "                        cls_target_boxes = target_boxes[target_labels == cls]\n",
    "\n",
    "                        if cls_pred_boxes.numel() == 0 and cls_target_boxes.numel() == 0:\n",
    "                            continue\n",
    "\n",
    "                        # Initialize True Positives (TP) and False Positives (FP)\n",
    "                        tp = torch.zeros(len(cls_pred_boxes), dtype=torch.float32, device=device)\n",
    "                        fp = torch.zeros(len(cls_pred_boxes), dtype=torch.float32, device=device)\n",
    "\n",
    "                        if cls_target_boxes.numel() > 0:\n",
    "                            matches = torch.zeros(len(cls_target_boxes), dtype=torch.bool, device=device)\n",
    "\n",
    "                            for i, pred_box in enumerate(cls_pred_boxes):\n",
    "                                \n",
    "                                ious = box_iou(pred_box.unsqueeze(0), cls_target_boxes).squeeze(0)\n",
    "                                max_iou, max_idx = torch.max(ious, dim=0)\n",
    "\n",
    "                                if max_iou >= iou_threshold and not matches[max_idx]:\n",
    "                                    tp[i] = 1\n",
    "                                    matches[max_idx] = True\n",
    "                                else:\n",
    "                                    fp[i] = 1\n",
    "                        else:\n",
    "                            fp[:] = 1\n",
    "\n",
    "                        # Calculate precision and recall\n",
    "                        tp_cumsum = torch.cumsum(tp, dim=0)\n",
    "                        fp_cumsum = torch.cumsum(fp, dim=0)\n",
    "                        precisions = tp_cumsum / (tp_cumsum + fp_cumsum + 1e-6)\n",
    "                        recalls = tp_cumsum / max(len(cls_target_boxes), 1)\n",
    "\n",
    "                        # Append average precision score for the class\n",
    "                        ap = compute_ap(precisions, recalls)\n",
    "                        ap_scores_per_class[iou_threshold][cls].append(ap)\n",
    "\n",
    "    # Compute AP per class and mAP for each IoU threshold\n",
    "    map_results = {}\n",
    "    for iou_threshold in iou_thresholds:\n",
    "        ap_per_class = {\n",
    "            cls: torch.tensor(ap_scores_per_class[iou_threshold][cls]).mean().item() if ap_scores_per_class[iou_threshold][cls] else float('nan')\n",
    "            for cls in range(1, CLASS_COUNT)\n",
    "        }\n",
    "        map_results[iou_threshold] = {\n",
    "            'AP_per_class': ap_per_class,\n",
    "            'mAP': sum(ap_per_class.values()) / CLASS_COUNT\n",
    "        }\n",
    "\n",
    "    map_results['overall_mAP'] = sum(map_results[iou]['mAP'] for iou in iou_thresholds) / len(iou_thresholds)\n",
    "\n",
    "    return map_results['overall_mAP'], map_results\n",
    "\n",
    "def compute_ap(precisions, recalls):\n",
    "    precisions = torch.cat([torch.tensor([0.], device=device), precisions, torch.tensor([0.], device=device)])\n",
    "    recalls = torch.cat([torch.tensor([0.], device=device), recalls, torch.tensor([1.], device=device)])\n",
    "\n",
    "    for i in range(precisions.size(0) - 1, 0, -1):\n",
    "        precisions[i - 1] = torch.max(precisions[i - 1], precisions[i])\n",
    "\n",
    "    indices = torch.where(recalls[1:] != recalls[:-1])[0]\n",
    "    ap = torch.sum((recalls[indices + 1] - recalls[indices]) * precisions[indices + 1])\n",
    "    return ap.item()\n"
   ]
  },
  {
   "cell_type": "markdown",
   "metadata": {},
   "source": [
    "## Load Dataset"
   ]
  },
  {
   "cell_type": "code",
   "execution_count": 7,
   "metadata": {
    "execution": {
     "iopub.execute_input": "2024-12-08T10:02:09.216171Z",
     "iopub.status.busy": "2024-12-08T10:02:09.215590Z",
     "iopub.status.idle": "2024-12-08T10:02:09.282662Z",
     "shell.execute_reply": "2024-12-08T10:02:09.281732Z",
     "shell.execute_reply.started": "2024-12-08T10:02:09.216135Z"
    },
    "trusted": true
   },
   "outputs": [
    {
     "name": "stdout",
     "output_type": "stream",
     "text": [
      "cuda\n"
     ]
    }
   ],
   "source": [
    "device = torch.device(\"cuda\") if torch.cuda.is_available() else torch.device(\"cpu\")\n",
    "print(device)"
   ]
  },
  {
   "cell_type": "code",
   "execution_count": 8,
   "metadata": {
    "execution": {
     "iopub.execute_input": "2024-12-08T10:02:10.351691Z",
     "iopub.status.busy": "2024-12-08T10:02:10.350955Z",
     "iopub.status.idle": "2024-12-08T10:03:11.741173Z",
     "shell.execute_reply": "2024-12-08T10:03:11.740359Z",
     "shell.execute_reply.started": "2024-12-08T10:02:10.351655Z"
    },
    "trusted": true
   },
   "outputs": [
    {
     "name": "stdout",
     "output_type": "stream",
     "text": [
      "FullIJCNN2013.zip downloaded successfully.\n"
     ]
    }
   ],
   "source": [
    "try:\n",
    "    os.system(f\"wget -O {filename} {url}\")\n",
    "    clear_output(wait=True)\n",
    "    print(f\"{filename} downloaded successfully.\")\n",
    "except Exception as e:\n",
    "    print(\"An error occurred while downloading the dataset:\", str(e))"
   ]
  },
  {
   "cell_type": "code",
   "execution_count": 9,
   "metadata": {
    "execution": {
     "iopub.execute_input": "2024-12-08T10:03:11.743697Z",
     "iopub.status.busy": "2024-12-08T10:03:11.743051Z",
     "iopub.status.idle": "2024-12-08T10:03:33.254297Z",
     "shell.execute_reply": "2024-12-08T10:03:33.253406Z",
     "shell.execute_reply.started": "2024-12-08T10:03:11.743654Z"
    },
    "trusted": true
   },
   "outputs": [
    {
     "name": "stdout",
     "output_type": "stream",
     "text": [
      "FullIJCNN2013.zip extracted successfully.\n"
     ]
    }
   ],
   "source": [
    "if os.path.exists(filename):\n",
    "    try:\n",
    "        with zipfile.ZipFile(filename, 'r') as zip_ref:\n",
    "            zip_ref.extractall(\"FullIJCNN2013\")  \n",
    "        print(f\"{filename} extracted successfully.\")\n",
    "    except Exception as e:\n",
    "        print(\"An error occurred while extracting the dataset:\", str(e))\n",
    "else:\n",
    "    print(f\"{filename} not found for extraction.\")"
   ]
  },
  {
   "cell_type": "code",
   "execution_count": 10,
   "metadata": {
    "execution": {
     "iopub.execute_input": "2024-12-08T10:03:33.255564Z",
     "iopub.status.busy": "2024-12-08T10:03:33.255295Z",
     "iopub.status.idle": "2024-12-08T10:03:33.260431Z",
     "shell.execute_reply": "2024-12-08T10:03:33.259510Z",
     "shell.execute_reply.started": "2024-12-08T10:03:33.255538Z"
    },
    "trusted": true
   },
   "outputs": [
    {
     "name": "stdout",
     "output_type": "stream",
     "text": [
      "Class 5: speed limit 80 (prohibitory)\n"
     ]
    }
   ],
   "source": [
    "print(f\"Class {CLASS_COUNT}: {get_class_value(CLASS_COUNT)}\")"
   ]
  },
  {
   "cell_type": "code",
   "execution_count": null,
   "metadata": {
    "execution": {
     "iopub.status.busy": "2024-12-08T09:59:15.919175Z",
     "iopub.status.idle": "2024-12-08T09:59:15.919589Z",
     "shell.execute_reply": "2024-12-08T09:59:15.919398Z",
     "shell.execute_reply.started": "2024-12-08T09:59:15.919377Z"
    },
    "trusted": true
   },
   "outputs": [],
   "source": [
    "plot_samples(data_dir, gt_file, sample_count=3)"
   ]
  },
  {
   "cell_type": "code",
   "execution_count": 11,
   "metadata": {
    "execution": {
     "iopub.execute_input": "2024-12-08T10:03:33.263088Z",
     "iopub.status.busy": "2024-12-08T10:03:33.262737Z",
     "iopub.status.idle": "2024-12-08T10:03:33.556476Z",
     "shell.execute_reply": "2024-12-08T10:03:33.555809Z",
     "shell.execute_reply.started": "2024-12-08T10:03:33.263060Z"
    },
    "trusted": true
   },
   "outputs": [
    {
     "data": {
      "image/png": "[encoded data removed]",
      "text/plain": [
       "<Figure size 1000x600 with 1 Axes>"
      ]
     },
     "metadata": {},
     "output_type": "display_data"
    }
   ],
   "source": [
    "annotations = load_annotations(gt_file)\n",
    "object_sizes = categorize_objects(annotations)\n",
    "plot_histogram(object_sizes)"
   ]
  },
  {
   "cell_type": "code",
   "execution_count": null,
   "metadata": {
    "execution": {
     "iopub.status.busy": "2024-12-08T09:59:15.923150Z",
     "iopub.status.idle": "2024-12-08T09:59:15.923570Z",
     "shell.execute_reply": "2024-12-08T09:59:15.923375Z",
     "shell.execute_reply.started": "2024-12-08T09:59:15.923346Z"
    },
    "trusted": true
   },
   "outputs": [],
   "source": [
    "annotations = load_annotations(gt_file)\n",
    "object_sizes = categorize_objects(annotations)\n",
    "plot_histogram(object_sizes)"
   ]
  },
  {
   "cell_type": "code",
   "execution_count": null,
   "metadata": {
    "execution": {
     "iopub.execute_input": "2024-12-08T10:03:33.557607Z",
     "iopub.status.busy": "2024-12-08T10:03:33.557351Z",
     "iopub.status.idle": "2024-12-08T10:03:34.009852Z",
     "shell.execute_reply": "2024-12-08T10:03:34.009019Z",
     "shell.execute_reply.started": "2024-12-08T10:03:33.557580Z"
    },
    "trusted": true
   },
   "outputs": [
    {
     "data": {
      "image/png": "[encoded data removed]",
      "text/plain": [
       "<Figure size 1200x800 with 1 Axes>"
      ]
     },
     "metadata": {},
     "output_type": "display_data"
    }
   ],
   "source": [
    "class_counts = count_objects_by_class(annotations)\n",
    "# plot_class_histogram(class_counts, \"Class Distribution\", \"Class\", \"Count\", color='purple')"
   ]
  },
  {
   "cell_type": "markdown",
   "metadata": {},
   "source": [
    "## Dataset Class"
   ]
  },
  {
   "cell_type": "code",
   "execution_count": 13,
   "metadata": {
    "execution": {
     "iopub.execute_input": "2024-12-08T10:03:34.011822Z",
     "iopub.status.busy": "2024-12-08T10:03:34.011475Z",
     "iopub.status.idle": "2024-12-08T10:03:34.023778Z",
     "shell.execute_reply": "2024-12-08T10:03:34.022897Z",
     "shell.execute_reply.started": "2024-12-08T10:03:34.011783Z"
    },
    "trusted": true
   },
   "outputs": [],
   "source": [
    "from torch.utils.data import Dataset, Subset\n",
    "\n",
    "class FullIJCNN2013Dataset(Dataset):\n",
    "    def __init__(self, annotations_file, images_dir, transform=None):\n",
    "        self.annotations = self._load_annotations(annotations_file)\n",
    "        self.images_dir = images_dir\n",
    "        self.transform = transform\n",
    "        self.label_to_id = {\n",
    "            \"prohibitory\": 1,\n",
    "            \"danger\": 2,\n",
    "            \"mandatory\": 3,\n",
    "            \"other\": 4\n",
    "        }\n",
    "\n",
    "    def _load_annotations(self, annotations_file):\n",
    "        category_mapping = {\n",
    "            \"prohibitory\": list(range(0, 6)) + list(range(7, 11)) + [15, 16],\n",
    "            \"danger\": list(range(18, 32)) + [11],\n",
    "            \"mandatory\": list(range(33, 41)),\n",
    "            \"other\": [6, 12, 13, 14, 17, 32, 41, 42]\n",
    "        }\n",
    "\n",
    "        category_lookup = {}\n",
    "        for category, ids in category_mapping.items():\n",
    "            for cid in ids:\n",
    "                category_lookup[cid] = category\n",
    "\n",
    "        annotations = {}\n",
    "        with open(annotations_file, \"r\") as file:\n",
    "            for line in file:\n",
    "                parts = line.strip().split(\";\")\n",
    "                img_name = parts[0]\n",
    "                bbox = tuple(map(int, parts[1:5]))\n",
    "                class_id = int(parts[5])\n",
    "                category = category_lookup.get(class_id, \"other\")\n",
    "\n",
    "                if img_name not in annotations:\n",
    "                    annotations[img_name] = []\n",
    "                annotations[img_name].append({\"bbox\": bbox, \"label\": category})\n",
    "        return annotations\n",
    "\n",
    "    def __len__(self):\n",
    "        return len(self.annotations)\n",
    "\n",
    "    def __getitem__(self, idx):\n",
    "        img_name = list(self.annotations.keys())[idx]\n",
    "        img_path = os.path.join(self.images_dir, img_name)\n",
    "        image = Image.open(img_path).convert(\"RGB\")\n",
    "\n",
    "        objects = self.annotations[img_name]\n",
    "        bboxes = torch.tensor([obj[\"bbox\"] for obj in objects], dtype=torch.float32)\n",
    "        labels = torch.tensor(\n",
    "            [self.label_to_id[obj[\"label\"]] for obj in objects], dtype=torch.int64\n",
    "        )\n",
    "\n",
    "        target = {\n",
    "            \"boxes\": bboxes,\n",
    "            \"labels\": labels\n",
    "        }\n",
    "\n",
    "        if self.transform: image = self.transform(image)\n",
    "\n",
    "        return image, target"
   ]
  },
  {
   "cell_type": "markdown",
   "metadata": {},
   "source": [
    "## Install Requirements"
   ]
  },
  {
   "cell_type": "code",
   "execution_count": null,
   "metadata": {},
   "outputs": [],
   "source": [
    "!pip install -U pycocotools\n",
    "!pip install -U faster-coco-eval\n",
    "!pip install -U torchmetrics[detection]\n",
    "clear_output(wait=True)\n",
    "os.system('clear')"
   ]
  },
  {
   "cell_type": "markdown",
   "metadata": {},
   "source": [
    "## Faser RCNN"
   ]
  },
  {
   "cell_type": "code",
   "execution_count": null,
   "metadata": {
    "execution": {
     "iopub.execute_input": "2024-12-08T02:51:18.729455Z",
     "iopub.status.busy": "2024-12-08T02:51:18.729126Z",
     "iopub.status.idle": "2024-12-08T02:51:18.744531Z",
     "shell.execute_reply": "2024-12-08T02:51:18.743625Z",
     "shell.execute_reply.started": "2024-12-08T02:51:18.729428Z"
    },
    "trusted": true
   },
   "outputs": [],
   "source": [
    "transform = T.Compose([\n",
    "    T.ToTensor(),\n",
    "])\n",
    "\n",
    "dataset = FullIJCNN2013Dataset(annotations_file, images_dir, transform=transform)"
   ]
  },
  {
   "cell_type": "code",
   "execution_count": null,
   "metadata": {
    "execution": {
     "iopub.execute_input": "2024-12-08T02:51:18.746108Z",
     "iopub.status.busy": "2024-12-08T02:51:18.745674Z",
     "iopub.status.idle": "2024-12-08T02:51:29.091150Z",
     "shell.execute_reply": "2024-12-08T02:51:29.090252Z",
     "shell.execute_reply.started": "2024-12-08T02:51:18.746069Z"
    },
    "trusted": true
   },
   "outputs": [],
   "source": [
    "size_category_counts = classify_bbox_sizes_and_classes(dataset)\n",
    "# plot_class_distribution(size_category_counts)"
   ]
  },
  {
   "cell_type": "code",
   "execution_count": 18,
   "metadata": {
    "execution": {
     "iopub.execute_input": "2024-12-08T02:51:38.327093Z",
     "iopub.status.busy": "2024-12-08T02:51:38.326706Z",
     "iopub.status.idle": "2024-12-08T02:51:38.334218Z",
     "shell.execute_reply": "2024-12-08T02:51:38.333280Z",
     "shell.execute_reply.started": "2024-12-08T02:51:38.327053Z"
    },
    "trusted": true
   },
   "outputs": [
    {
     "name": "stdout",
     "output_type": "stream",
     "text": [
      "Size of Dataset: 741\n",
      "------------------------------\n",
      "Size of Train Dataset:      532\n",
      "Size of Test Dataset:       60\n",
      "Size of Validation Dataset: 149\n"
     ]
    }
   ],
   "source": [
    "train_dataset, val_dataset, test_dataset = get_datasets(dataset)"
   ]
  },
  {
   "cell_type": "code",
   "execution_count": null,
   "metadata": {
    "execution": {
     "iopub.execute_input": "2024-12-08T02:51:38.335733Z",
     "iopub.status.busy": "2024-12-08T02:51:38.335383Z",
     "iopub.status.idle": "2024-12-08T02:51:38.345521Z",
     "shell.execute_reply": "2024-12-08T02:51:38.344854Z",
     "shell.execute_reply.started": "2024-12-08T02:51:38.335694Z"
    },
    "trusted": true
   },
   "outputs": [],
   "source": [
    "# size_category_counts = classify_bbox_sizes_and_classes(train_dataset)\n",
    "# plot_class_distribution(size_category_counts)"
   ]
  },
  {
   "cell_type": "code",
   "execution_count": null,
   "metadata": {
    "execution": {
     "iopub.execute_input": "2024-12-08T02:51:38.347181Z",
     "iopub.status.busy": "2024-12-08T02:51:38.346628Z",
     "iopub.status.idle": "2024-12-08T02:51:38.357921Z",
     "shell.execute_reply": "2024-12-08T02:51:38.357109Z",
     "shell.execute_reply.started": "2024-12-08T02:51:38.347128Z"
    },
    "trusted": true
   },
   "outputs": [],
   "source": [
    "# size_category_counts = classify_bbox_sizes_and_classes(test_dataset)\n",
    "# plot_class_distribution(size_category_counts)"
   ]
  },
  {
   "cell_type": "code",
   "execution_count": null,
   "metadata": {
    "execution": {
     "iopub.execute_input": "2024-12-08T02:51:38.359260Z",
     "iopub.status.busy": "2024-12-08T02:51:38.358941Z",
     "iopub.status.idle": "2024-12-08T02:51:38.368862Z",
     "shell.execute_reply": "2024-12-08T02:51:38.368151Z",
     "shell.execute_reply.started": "2024-12-08T02:51:38.359221Z"
    },
    "trusted": true
   },
   "outputs": [],
   "source": [
    "# size_category_counts = classify_bbox_sizes_and_classes(test_dataset)\n",
    "# plot_class_distribution(size_category_counts)"
   ]
  },
  {
   "cell_type": "code",
   "execution_count": 22,
   "metadata": {
    "execution": {
     "iopub.execute_input": "2024-12-08T02:51:38.369988Z",
     "iopub.status.busy": "2024-12-08T02:51:38.369693Z",
     "iopub.status.idle": "2024-12-08T02:51:38.379726Z",
     "shell.execute_reply": "2024-12-08T02:51:38.378866Z",
     "shell.execute_reply.started": "2024-12-08T02:51:38.369961Z"
    },
    "trusted": true
   },
   "outputs": [],
   "source": [
    "train_loader = get_dataloader(train_dataset, True)\n",
    "val_loader = get_dataloader(val_dataset, False)\n",
    "test_loader = get_dataloader(test_dataset, False)"
   ]
  },
  {
   "cell_type": "code",
   "execution_count": null,
   "metadata": {
    "execution": {
     "iopub.execute_input": "2024-12-08T02:52:05.260432Z",
     "iopub.status.busy": "2024-12-08T02:52:05.259846Z",
     "iopub.status.idle": "2024-12-08T05:12:39.179753Z",
     "shell.execute_reply": "2024-12-08T05:12:39.178737Z",
     "shell.execute_reply.started": "2024-12-08T02:52:05.260405Z"
    },
    "trusted": true
   },
   "outputs": [],
   "source": [
    "faster_rcnn_model = get_model(CLASS_COUNT).to(device)\n",
    "train_faster_rcnn_staged(\n",
    "    faster_rcnn_model, train_loader, val_loader, device, \n",
    "    rpn_epochs=100, roi_epochs=100, fine_tune_epochs=100, # 100\n",
    "    rpn_patience=5, roi_patience=5, fine_tune_patience=5,\n",
    "    lr=1e-4\n",
    ")"
   ]
  },
  {
   "cell_type": "code",
   "execution_count": 28,
   "metadata": {
    "execution": {
     "iopub.execute_input": "2024-12-08T05:12:39.184298Z",
     "iopub.status.busy": "2024-12-08T05:12:39.184016Z",
     "iopub.status.idle": "2024-12-08T05:12:39.371009Z",
     "shell.execute_reply": "2024-12-08T05:12:39.370122Z",
     "shell.execute_reply.started": "2024-12-08T05:12:39.184266Z"
    },
    "trusted": true
   },
   "outputs": [
    {
     "name": "stdout",
     "output_type": "stream",
     "text": [
      "Evaluating...\n"
     ]
    }
   ],
   "source": [
    "stage_name = \"Fine-tuning\"\n",
    "faster_rcnn_model.load_state_dict(torch.load(f\"best_{stage_name.lower()}_model.pth\", weights_only=True))\n",
    "print(\"Evaluating...\")"
   ]
  },
  {
   "cell_type": "code",
   "execution_count": 29,
   "metadata": {
    "execution": {
     "iopub.execute_input": "2024-12-08T05:12:39.372249Z",
     "iopub.status.busy": "2024-12-08T05:12:39.371986Z",
     "iopub.status.idle": "2024-12-08T05:13:26.587276Z",
     "shell.execute_reply": "2024-12-08T05:13:26.586459Z",
     "shell.execute_reply.started": "2024-12-08T05:12:39.372224Z"
    },
    "trusted": true
   },
   "outputs": [
    {
     "name": "stdout",
     "output_type": "stream",
     "text": [
      "IoU Loss:  0.7099245565390229\n"
     ]
    }
   ],
   "source": [
    "test_iou_loss, _ = compute_iou_loss(faster_rcnn_model, test_loader)\n",
    "print('IoU Loss: ', test_iou_loss)"
   ]
  },
  {
   "cell_type": "code",
   "execution_count": 30,
   "metadata": {
    "execution": {
     "iopub.execute_input": "2024-12-08T05:13:26.588687Z",
     "iopub.status.busy": "2024-12-08T05:13:26.588404Z",
     "iopub.status.idle": "2024-12-08T05:14:16.232476Z",
     "shell.execute_reply": "2024-12-08T05:14:16.231611Z",
     "shell.execute_reply.started": "2024-12-08T05:13:26.588652Z"
    },
    "trusted": true
   },
   "outputs": [
    {
     "name": "stdout",
     "output_type": "stream",
     "text": [
      "Overal MAP:  0.7763962388038635\n"
     ]
    }
   ],
   "source": [
    "test_map_multiclass, map_results = calculate_map_multiclass(faster_rcnn_model, test_loader)\n",
    "print('Overal MAP: ', test_map_multiclass)"
   ]
  },
  {
   "cell_type": "code",
   "execution_count": null,
   "metadata": {
    "execution": {
     "iopub.execute_input": "2024-12-08T05:14:16.233617Z",
     "iopub.status.busy": "2024-12-08T05:14:16.233369Z",
     "iopub.status.idle": "2024-12-08T05:14:16.577260Z",
     "shell.execute_reply": "2024-12-08T05:14:16.576084Z",
     "shell.execute_reply.started": "2024-12-08T05:14:16.233592Z"
    },
    "trusted": true
   },
   "outputs": [],
   "source": [
    "# plot_map_results(map_results) # TODO fix this function"
   ]
  },
  {
   "cell_type": "markdown",
   "metadata": {},
   "source": [
    "## SSD"
   ]
  },
  {
   "cell_type": "code",
   "execution_count": null,
   "metadata": {
    "execution": {
     "iopub.execute_input": "2024-12-08T10:06:00.482587Z",
     "iopub.status.busy": "2024-12-08T10:06:00.481722Z",
     "iopub.status.idle": "2024-12-08T10:06:00.492625Z",
     "shell.execute_reply": "2024-12-08T10:06:00.491898Z",
     "shell.execute_reply.started": "2024-12-08T10:06:00.482550Z"
    },
    "trusted": true
   },
   "outputs": [
    {
     "name": "stdout",
     "output_type": "stream",
     "text": [
      "Size of Dataset: 741\n",
      "------------------------------\n",
      "Size of Train Dataset:      532\n",
      "Size of Test Dataset:       60\n",
      "Size of Validation Dataset: 149\n"
     ]
    }
   ],
   "source": [
    "transform = T.Compose([\n",
    "    T.ToTensor(),\n",
    "])\n",
    "\n",
    "ssd_dataset = FullIJCNN2013Dataset(annotations_file, images_dir, transform=transform)\n",
    "\n",
    "train_ssd_dataset, val_ssd_dataset, test_ssd_dataset = get_datasets(ssd_dataset)\n",
    "\n",
    "ssd_train_loader = get_dataloader(train_ssd_dataset, True)\n",
    "ssd_val_loader = get_dataloader(val_ssd_dataset, False)\n",
    "ssd_test_loader = get_dataloader(test_ssd_dataset, False)"
   ]
  },
  {
   "cell_type": "code",
   "execution_count": 28,
   "metadata": {
    "execution": {
     "iopub.execute_input": "2024-12-08T10:06:06.337244Z",
     "iopub.status.busy": "2024-12-08T10:06:06.336878Z",
     "iopub.status.idle": "2024-12-08T10:06:12.184900Z",
     "shell.execute_reply": "2024-12-08T10:06:12.183791Z",
     "shell.execute_reply.started": "2024-12-08T10:06:06.337204Z"
    },
    "trusted": true
   },
   "outputs": [
    {
     "name": "stderr",
     "output_type": "stream",
     "text": [
      "Downloading: \"https://download.pytorch.org/models/ssd300_vgg16_coco-b556d3b4.pth\" to /root/.cache/torch/hub/checkpoints/ssd300_vgg16_coco-b556d3b4.pth\n",
      "100%|██████████| 136M/136M [00:01<00:00, 81.3MB/s] \n"
     ]
    },
    {
     "ename": "NameError",
     "evalue": "name 'fine_tune_and_evaluate' is not defined",
     "output_type": "error",
     "traceback": [
      "\u001b[0;31m---------------------------------------------------------------------------\u001b[0m",
      "\u001b[0;31mNameError\u001b[0m                                 Traceback (most recent call last)",
      "Cell \u001b[0;32mIn[28], line 5\u001b[0m\n\u001b[1;32m      2\u001b[0m optimizer \u001b[38;5;241m=\u001b[39m AdamW(ssd_model\u001b[38;5;241m.\u001b[39mparameters(), lr\u001b[38;5;241m=\u001b[39m\u001b[38;5;241m0.0001\u001b[39m)\n\u001b[1;32m      3\u001b[0m num_epochs \u001b[38;5;241m=\u001b[39m \u001b[38;5;241m40\u001b[39m\n\u001b[0;32m----> 5\u001b[0m \u001b[43mfine_tune_and_evaluate\u001b[49m(ssd_model, train_loader, test_loader, optimizer, num_epochs, device, num_classes\u001b[38;5;241m=\u001b[39mnum_classes)\n\u001b[1;32m      8\u001b[0m train_ssd_staged(\n\u001b[1;32m      9\u001b[0m     ssd_model, ssd_train_loader, ssd_val_loader, device, \n\u001b[1;32m     10\u001b[0m     rpn_epochs\u001b[38;5;241m=\u001b[39m\u001b[38;5;241m100\u001b[39m, roi_epochs\u001b[38;5;241m=\u001b[39m\u001b[38;5;241m100\u001b[39m, fine_tune_epochs\u001b[38;5;241m=\u001b[39m\u001b[38;5;241m100\u001b[39m, \u001b[38;5;66;03m# 100\u001b[39;00m\n\u001b[1;32m     11\u001b[0m     rpn_patience\u001b[38;5;241m=\u001b[39m\u001b[38;5;241m5\u001b[39m, roi_patience\u001b[38;5;241m=\u001b[39m\u001b[38;5;241m5\u001b[39m, fine_tune_patience\u001b[38;5;241m=\u001b[39m\u001b[38;5;241m5\u001b[39m,\n\u001b[1;32m     12\u001b[0m     lr\u001b[38;5;241m=\u001b[39m\u001b[38;5;241m1e-4\u001b[39m\n\u001b[1;32m     13\u001b[0m )\n",
      "\u001b[0;31mNameError\u001b[0m: name 'fine_tune_and_evaluate' is not defined"
     ]
    }
   ],
   "source": [
    "ssd_model = create_ssd_model().to(device)\n",
    "optimizer = AdamW(ssd_model.parameters(), lr=0.0001)\n",
    "num_epochs = 40\n",
    "\n",
    "fine_tune_and_evaluate(ssd_model, train_loader, test_loader, optimizer, num_epochs, device, num_classes=num_classes)\n",
    "\n",
    "\n",
    "train_ssd_staged(\n",
    "    ssd_model, ssd_train_loader, ssd_val_loader, device, \n",
    "    rpn_epochs=100, roi_epochs=100, fine_tune_epochs=100, # 100\n",
    "    rpn_patience=5, roi_patience=5, fine_tune_patience=5,\n",
    "    lr=1e-4\n",
    ")"
   ]
  },
  {
   "cell_type": "code",
   "execution_count": null,
   "metadata": {
    "trusted": true
   },
   "outputs": [],
   "source": []
  }
 ],
 "metadata": {
  "kaggle": {
   "accelerator": "gpu",
   "dataSources": [],
   "dockerImageVersionId": 30805,
   "isGpuEnabled": true,
   "isInternetEnabled": true,
   "language": "python",
   "sourceType": "notebook"
  },
  "kernelspec": {
   "display_name": "Python 3",
   "language": "python",
   "name": "python3"
  },
  "language_info": {
   "codemirror_mode": {
    "name": "ipython",
    "version": 3
   },
   "file_extension": ".py",
   "mimetype": "text/x-python",
   "name": "python",
   "nbconvert_exporter": "python",
   "pygments_lexer": "ipython3",
   "version": "3.10.14"
  }
 },
 "nbformat": 4,
 "nbformat_minor": 4
}
