{
    "cells": [
        {
            "cell_type": "markdown",
            "metadata": {},
            "source": [
                "# Analysis and Design of Multi-Layer Neural Networks (MLP)\n",
                "\n",
                "## Table of Contents\n",
                "- [MLP Design](#mlp-design)\n",
                "- [Train Two Different Models](#train-two-different-models)\n",
                "- [Back Propagation Algorithm](#back-propagation-algorithm)\n",
                "- [Analysis of Different Hyperparameters](#analysis-of-different-hyperparameters)\n",
                "- [References](#references)"
            ]
        },
        {
            "cell_type": "markdown",
            "metadata": {},
            "source": []
        },
        {
            "cell_type": "markdown",
            "metadata": {},
            "source": [
                "## MLP Design"
            ]
        },
        {
            "cell_type": "markdown",
            "metadata": {},
            "source": [
                "## Train Two Different Models"
            ]
        },
        {
            "cell_type": "markdown",
            "metadata": {},
            "source": [
                "## Back Propagation Algorithm"
            ]
        },
        {
            "cell_type": "markdown",
            "metadata": {},
            "source": [
                "## References\n",
                "\n",
                "- [Ref1]()\n",
                "- [Ref2]()\n",
                "- [Ref3]()"
            ]
        },
        {
            "cell_type": "markdown",
            "metadata": {},
            "source": []
        }
    ],
    "metadata": {
        "colab": {
            "provenance": []
        },
        "kaggle": {
            "accelerator": "nvidiaTeslaT4",
            "dataSources": [
                {
                    "datasetId": 5131935,
                    "sourceId": 8581129,
                    "sourceType": "datasetVersion"
                }
            ],
            "dockerImageVersionId": 30715,
            "isGpuEnabled": true,
            "isInternetEnabled": true,
            "language": "python",
            "sourceType": "notebook"
        },
        "kernelspec": {
            "display_name": "Python 3",
            "language": "python",
            "name": "python3"
        },
        "language_info": {
            "codemirror_mode": {
                "name": "ipython",
                "version": 3
            },
            "file_extension": ".py",
            "mimetype": "text/x-python",
            "name": "python",
            "nbconvert_exporter": "python",
            "pygments_lexer": "ipython3",
            "version": "3.11.9"
        }
    },
    "nbformat": 4,
    "nbformat_minor": 4
}
