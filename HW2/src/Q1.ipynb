{
 "cells": [
  {
   "cell_type": "code",
   "execution_count": 16,
   "metadata": {},
   "outputs": [],
   "source": [
    "import numpy as np\n",
    "import torch\n",
    "import torch.nn as nn\n",
    "import torch.nn.functional as F\n",
    "from torch import optim\n",
    "from torch.utils.data import Dataset, DataLoader, ConcatDataset\n",
    "from torchvision import transforms\n",
    "import glob\n",
    "import matplotlib.pyplot as plt\n",
    "from sklearn.metrics import confusion_matrix, accuracy_score\n",
    "from sklearn.model_selection import train_test_split\n",
    "import random\n",
    "import cv2\n",
    "import sys"
   ]
  },
  {
   "cell_type": "code",
   "execution_count": null,
   "metadata": {},
   "outputs": [],
   "source": [
    "def load_from_dataset (path , img_size_w , img_size_h):\n",
    "  data = []\n",
    "  for f in glob.iglob(path):\n",
    "    img = cv2.imread(f , cv2.IMREAD_COLOR)\n",
    "    img = cv2.resize(img,(img_size_w,img_size_h))\n",
    "    data.append(img)\n",
    "  return data"
   ]
  },
  {
   "cell_type": "code",
   "execution_count": null,
   "metadata": {},
   "outputs": [],
   "source": [
    "class Data(Dataset):\n",
    "    def __init__(self, img_size_w = 224, img_size_h = 224, mode='train', train_transform=None, val_transform=None):\n",
    "        self.img_size_w = img_size_w\n",
    "\n",
    "        self.img_size_h = img_size_h\n",
    "\n",
    "        self.X_train, self.y_train, self.X_test, self.y_test = None, None, None, None\n",
    "\n",
    "        self.mode = mode\n",
    "\n",
    "        benign_path = \"../data/benign/*.jpg\"\n",
    "        malignant_path = \"../data/malignant/*.jpg\"\n",
    "\n",
    "        benign = load_from_dataset (benign_path , img_size_w , img_size_h)\n",
    "        malignant = load_from_dataset (malignant_path , img_size_w , img_size_h)\n",
    "\n",
    "        benign = np.array(benign , dtype=np.float32)\n",
    "        malignant = np.array(malignant , dtype=np.float32)\n",
    "\n",
    "        benign_labels = np.zeros(benign.shape[0], dtype=np.float32)\n",
    "        malignant_labels = np.full(malignant.shape[0], 1.0)\n",
    "\n",
    "        self.images = np.concatenate((benign, malignant), axis=0)\n",
    "        self.labels = np.concatenate((benign_labels, malignant_labels))\n",
    "\n",
    "        self.train_transform = train_transform if train_transform else transforms.Compose([\n",
    "            transforms.ToPILImage(),\n",
    "            #transforms.Resize((img_size_h, img_size_w)),\n",
    "            transforms.RandomHorizontalFlip(),\n",
    "            transforms.RandomRotation(10),\n",
    "            transforms.ToTensor(),\n",
    "            #transforms.Normalize(mean=[0.485, 0.456, 0.406], std=[0.229, 0.224, 0.225])\n",
    "        ])\n",
    "\n",
    "        self.val_transform = val_transform if val_transform else transforms.Compose([\n",
    "            transforms.ToPILImage(),\n",
    "            #transforms.Resize((img_size_h, img_size_w)),\n",
    "            transforms.ToTensor(),\n",
    "            #transforms.Normalize(mean=[0.485, 0.456, 0.406], std=[0.229, 0.224, 0.225])\n",
    "        ])\n",
    "\n",
    "    def train_val_split(self):\n",
    "        self.X_train, self.X_test, self.y_train, self.y_test = \\\n",
    "        train_test_split(self.images, self.labels, test_size=0.20, random_state=42)\n",
    "\n",
    "    def __len__(self):\n",
    "        if self.mode == 'train':\n",
    "          return self.X_train.shape[0]\n",
    "        elif self.mode == 'val':\n",
    "          return self.X_test.shape[0]\n",
    "\n",
    "    def __getitem__(self, idx):\n",
    "        if self.mode == 'train':\n",
    "            image, label = self.X_train[idx], self.y_train[idx]\n",
    "            image = self.train_transform(image)\n",
    "        elif self.mode == 'val':\n",
    "            image, label = self.X_test[idx], self.y_test[idx]\n",
    "            image = self.val_transform(image)\n",
    "\n",
    "        label = torch.tensor(label, dtype=torch.float32)\n",
    "        return {'image': image, 'label': label}\n",
    "\n",
    "    def normalize(self):\n",
    "        self.images = self.images/255.0"
   ]
  },
  {
   "cell_type": "code",
   "execution_count": null,
   "metadata": {},
   "outputs": [],
   "source": [
    "custom_train_transform = transforms.Compose([\n",
    "    transforms.ToPILImage(),\n",
    "    transforms.RandomHorizontalFlip(),\n",
    "    transforms.RandomVerticalFlip(),\n",
    "    transforms.RandomRotation(15),\n",
    "    transforms.RandomResizedCrop(28, scale=(0.9, 1.1)),\n",
    "    transforms.ColorJitter(brightness=0.1, contrast=0.1, saturation=0.1),\n",
    "    transforms.ToTensor(),\n",
    "])\n",
    "\n",
    "custom_val_transform = transforms.Compose([\n",
    "    transforms.ToPILImage(),\n",
    "    transforms.ToTensor(),\n",
    "])"
   ]
  },
  {
   "cell_type": "code",
   "execution_count": 11,
   "metadata": {},
   "outputs": [],
   "source": [
    "class SkinCancerCNN(nn.Module):\n",
    "    def __init__(self):\n",
    "        super(SkinCancerCNN, self).__init__()\n",
    "        \n",
    "        self.conv1 = nn.Conv2d(in_channels=3, out_channels=16, kernel_size=3, padding=1)  \n",
    "        self.pool1 = nn.MaxPool2d(kernel_size=2, stride=2)  \n",
    "        \n",
    "        self.conv2 = nn.Conv2d(in_channels=16, out_channels=32, kernel_size=3, padding=1)  \n",
    "        self.pool2 = nn.MaxPool2d(kernel_size=2, stride=2) \n",
    "        \n",
    "        self.conv3 = nn.Conv2d(in_channels=32, out_channels=64, kernel_size=3, padding=1) \n",
    "        self.pool3 = nn.MaxPool2d(kernel_size=2, stride=2)\n",
    "        \n",
    "        self.conv4 = nn.Conv2d(in_channels=64, out_channels=128, kernel_size=3, padding=1)\n",
    "        self.pool4 = nn.MaxPool2d(kernel_size=2, stride=2)\n",
    "        \n",
    "        self.flatten = nn.Flatten()\n",
    "        \n",
    "        self.fc1 = nn.Linear(2 * 2 * 128, 64) \n",
    "        self.fc2 = nn.Linear(64, 32)  \n",
    "        self.fc3 = nn.Linear(32, 2)   \n",
    "\n",
    "    def forward(self, x):\n",
    "        x = F.relu(self.conv1(x))\n",
    "        x = self.pool1(x)\n",
    "        \n",
    "        x = F.relu(self.conv2(x))\n",
    "        x = self.pool2(x)\n",
    "        \n",
    "        x = F.relu(self.conv3(x))\n",
    "        x = self.pool3(x)\n",
    "        \n",
    "        x = F.relu(self.conv4(x))\n",
    "        x = self.pool4(x)\n",
    "        \n",
    "        x = self.flatten(x)\n",
    "        \n",
    "        x = F.relu(self.fc1(x))\n",
    "        x = F.relu(self.fc2(x))\n",
    "        x = self.fc3(x)  \n",
    "        return x"
   ]
  },
  {
   "cell_type": "code",
   "execution_count": 14,
   "metadata": {},
   "outputs": [],
   "source": [
    "in_channels = 3\n",
    "num_classes = 2\n",
    "learning_rate = 3e-4 # karpathy's constant\n",
    "batch_size = 64\n",
    "num_epochs = 100"
   ]
  },
  {
   "cell_type": "code",
   "execution_count": 12,
   "metadata": {},
   "outputs": [
    {
     "name": "stdout",
     "output_type": "stream",
     "text": [
      "cuda\n"
     ]
    }
   ],
   "source": [
    "device = torch.device(\"cuda\" if torch.cuda.is_available() else \"cpu\")\n",
    "print(device)"
   ]
  },
  {
   "cell_type": "code",
   "execution_count": 17,
   "metadata": {},
   "outputs": [],
   "source": [
    "model = SkinCancerCNN().to(device)\n",
    "criterion = nn.CrossEntropyLoss()\n",
    "optimizer = optim.Adam(model.parameters(), lr=learning_rate)"
   ]
  },
  {
   "cell_type": "code",
   "execution_count": null,
   "metadata": {},
   "outputs": [],
   "source": []
  }
 ],
 "metadata": {
  "kernelspec": {
   "display_name": "GPU2",
   "language": "python",
   "name": "python3"
  },
  "language_info": {
   "codemirror_mode": {
    "name": "ipython",
    "version": 3
   },
   "file_extension": ".py",
   "mimetype": "text/x-python",
   "name": "python",
   "nbconvert_exporter": "python",
   "pygments_lexer": "ipython3",
   "version": "3.11.9"
  }
 },
 "nbformat": 4,
 "nbformat_minor": 2
}
