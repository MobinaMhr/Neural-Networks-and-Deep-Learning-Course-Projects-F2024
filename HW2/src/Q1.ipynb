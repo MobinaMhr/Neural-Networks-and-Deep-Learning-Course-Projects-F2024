{
 "cells": [
  {
   "cell_type": "code",
   "execution_count": 1,
   "metadata": {},
   "outputs": [],
   "source": [
    "import numpy as np\n",
    "import torch\n",
    "import torch.nn as nn\n",
    "import torch.nn.functional as F\n",
    "from torch import optim\n",
    "from torch.utils.data import Dataset, DataLoader, ConcatDataset\n",
    "from torchvision import transforms\n",
    "import glob\n",
    "import matplotlib.pyplot as plt\n",
    "from sklearn.metrics import confusion_matrix, accuracy_score\n",
    "from sklearn.model_selection import train_test_split\n",
    "import random\n",
    "import cv2\n",
    "import sys\n",
    "from tqdm import tqdm"
   ]
  },
  {
   "cell_type": "code",
   "execution_count": 2,
   "metadata": {},
   "outputs": [
    {
     "name": "stdout",
     "output_type": "stream",
     "text": [
      "cuda\n"
     ]
    }
   ],
   "source": [
    "device = torch.device(\"cuda\" if torch.cuda.is_available() else \"cpu\")\n",
    "print(device)"
   ]
  },
  {
   "cell_type": "code",
   "execution_count": 3,
   "metadata": {},
   "outputs": [],
   "source": [
    "def load_from_dataset (path , img_size_w , img_size_h):\n",
    "  data = []\n",
    "  for f in glob.iglob(path):\n",
    "    img = cv2.imread(f)\n",
    "    img = cv2.resize(img,(img_size_w,img_size_h))\n",
    "    data.append(img)\n",
    "  return data"
   ]
  },
  {
   "cell_type": "code",
   "execution_count": 4,
   "metadata": {},
   "outputs": [],
   "source": [
    "class Data(Dataset):\n",
    "    def __init__(self, device, img_size_w = 224, img_size_h = 224, mode='train', train_transform=None, val_transform=None):\n",
    "        self.img_size_w = img_size_w\n",
    "\n",
    "        self.img_size_h = img_size_h\n",
    "\n",
    "        self.X_train, self.y_train, self.X_test, self.y_test = None, None, None, None\n",
    "\n",
    "        self.mode = mode\n",
    "\n",
    "        benign_path = \"../data/benign/*.jpg\"\n",
    "        malignant_path = \"../data/malignant/*.jpg\"\n",
    "\n",
    "        benign = load_from_dataset (benign_path , img_size_w , img_size_h)\n",
    "        malignant = load_from_dataset (malignant_path , img_size_w , img_size_h)\n",
    "\n",
    "        benign = np.array(benign , dtype=np.float32)\n",
    "        malignant = np.array(malignant , dtype=np.float32)\n",
    "        print (f'dataset shape is : {benign.shape}')\n",
    "\n",
    "        benign_labels = np.zeros(benign.shape[0], dtype=np.float32)\n",
    "        malignant_labels = np.full(malignant.shape[0], 1.0)\n",
    "\n",
    "        self.images = np.concatenate((benign, malignant), axis=0)\n",
    "        self.labels = np.concatenate((benign_labels, malignant_labels))\n",
    "\n",
    "        self.train_transform = train_transform if train_transform else transforms.Compose([\n",
    "            transforms.ToPILImage(),\n",
    "            #transforms.Resize((img_size_h, img_size_w)),\n",
    "            transforms.RandomHorizontalFlip(),\n",
    "            transforms.RandomRotation(10),\n",
    "            transforms.ToTensor(),\n",
    "            #transforms.Normalize(mean=[0.485, 0.456, 0.406], std=[0.229, 0.224, 0.225])\n",
    "        ])\n",
    "\n",
    "        self.val_transform = val_transform if val_transform else transforms.Compose([\n",
    "            transforms.ToPILImage(),\n",
    "            #transforms.Resize((img_size_h, img_size_w)),\n",
    "            transforms.ToTensor(),\n",
    "            #transforms.Normalize(mean=[0.485, 0.456, 0.406], std=[0.229, 0.224, 0.225])\n",
    "        ])\n",
    "\n",
    "    def train_val_split(self):\n",
    "        self.X_train, self.X_test, self.y_train, self.y_test = \\\n",
    "        train_test_split(self.images, self.labels, test_size=0.20, random_state=42)\n",
    "\n",
    "    def __len__(self):\n",
    "        if self.mode == 'train':\n",
    "          return self.X_train.shape[0]\n",
    "        elif self.mode == 'val':\n",
    "          return self.X_test.shape[0]\n",
    "\n",
    "    def __getitem__(self, idx):\n",
    "        if self.mode == 'train':\n",
    "            image, label = self.X_train[idx], self.y_train[idx]\n",
    "            image = self.train_transform(image)\n",
    "        elif self.mode == 'val':\n",
    "            image, label = self.X_test[idx], self.y_test[idx]\n",
    "            image = self.val_transform(image)\n",
    "\n",
    "        label = torch.tensor(label, dtype=torch.float32).to(device)\n",
    "        return {'image': image, 'label': label}\n",
    "\n",
    "    def normalize(self):\n",
    "        self.images = self.images/255.0"
   ]
  },
  {
   "cell_type": "code",
   "execution_count": 5,
   "metadata": {},
   "outputs": [],
   "source": [
    "class ToTensorAndMove: \n",
    "    def __init__(self, device): \n",
    "        self.to_tensor = transforms.ToTensor() \n",
    "        self.device = device \n",
    "    def __call__(self, img): \n",
    "        tensor = self.to_tensor(img) \n",
    "        return tensor.to(self.device)"
   ]
  },
  {
   "cell_type": "code",
   "execution_count": 6,
   "metadata": {},
   "outputs": [],
   "source": [
    "custom_train_transform = transforms.Compose([\n",
    "    transforms.ToPILImage(),\n",
    "    transforms.RandomHorizontalFlip(),\n",
    "    transforms.RandomVerticalFlip(),\n",
    "    transforms.RandomRotation(15),\n",
    "    transforms.RandomResizedCrop(28, scale=(0.9, 1.1)),\n",
    "    transforms.ColorJitter(brightness=0.1, contrast=0.1, saturation=0.1),\n",
    "    ToTensorAndMove(device),\n",
    "])\n",
    "\n",
    "custom_val_transform = transforms.Compose([\n",
    "    transforms.ToPILImage(),\n",
    "    ToTensorAndMove(device),\n",
    "])"
   ]
  },
  {
   "cell_type": "code",
   "execution_count": 7,
   "metadata": {},
   "outputs": [],
   "source": [
    "class SkinCancerCNN(nn.Module):\n",
    "    def __init__(self):\n",
    "        super(SkinCancerCNN, self).__init__()\n",
    "        \n",
    "        self.conv1 = nn.Conv2d(in_channels=3, out_channels=16, kernel_size=3, padding=1, stride=1)  \n",
    "        self.pool1 = nn.MaxPool2d(kernel_size=2, stride=2)  \n",
    "        \n",
    "        self.conv2 = nn.Conv2d(in_channels=16, out_channels=32, kernel_size=3, padding=1, stride=1)  \n",
    "        self.pool2 = nn.MaxPool2d(kernel_size=2, stride=2) \n",
    "        \n",
    "        self.conv3 = nn.Conv2d(in_channels=32, out_channels=64, kernel_size=3, padding=1, stride=1) \n",
    "        self.pool3 = nn.MaxPool2d(kernel_size=1, stride=2)\n",
    "        \n",
    "        self.conv4 = nn.Conv2d(in_channels=64, out_channels=128, kernel_size=3, padding=1, stride=1)\n",
    "        self.pool4 = nn.MaxPool2d(kernel_size=2, stride=2)\n",
    "        \n",
    "        self.flatten = nn.Flatten()\n",
    "        \n",
    "        self.fc1 = nn.Linear(2 * 2 * 128, 64) \n",
    "        self.fc2 = nn.Linear(64, 32)  \n",
    "        self.fc3 = nn.Linear(32, 2)   \n",
    "\n",
    "    def forward(self, x):\n",
    "        x = F.relu(self.conv1(x))\n",
    "        x = self.pool1(x)\n",
    "        \n",
    "        x = F.relu(self.conv2(x))\n",
    "        x = self.pool2(x)\n",
    "        \n",
    "        x = F.relu(self.conv3(x))\n",
    "        x = self.pool3(x)\n",
    "        \n",
    "        x = F.relu(self.conv4(x))\n",
    "        x = self.pool4(x)\n",
    "        \n",
    "        x = self.flatten(x)\n",
    "        \n",
    "        x = F.relu(self.fc1(x))\n",
    "        x = F.relu(self.fc2(x))\n",
    "        x = self.fc3(x)  \n",
    "        return x"
   ]
  },
  {
   "cell_type": "code",
   "execution_count": 13,
   "metadata": {},
   "outputs": [],
   "source": [
    "in_channels = 3\n",
    "num_classes = 2\n",
    "learning_rate = 3e-4 # karpathy's constant\n",
    "batch_size = 256\n",
    "num_epochs = 100"
   ]
  },
  {
   "cell_type": "code",
   "execution_count": 20,
   "metadata": {},
   "outputs": [],
   "source": [
    "model = SkinCancerCNN().to(device)\n",
    "criterion = nn.CrossEntropyLoss()\n",
    "optimizer = optim.Adam(model.parameters(), lr=learning_rate)"
   ]
  },
  {
   "cell_type": "code",
   "execution_count": 18,
   "metadata": {},
   "outputs": [],
   "source": [
    "def train_model(model, optimizer, criterion, train_loader, val_loader, dataset, num_epochs=10, device='cuda'):\n",
    "    model.to(device)\n",
    "    train_accuracies = []\n",
    "    train_losses = []\n",
    "    val_accuracies = []\n",
    "    val_losses = []\n",
    "    scheduler = torch.optim.lr_scheduler.ReduceLROnPlateau(optimizer, factor=0.1, patience=10, verbose=True)\n",
    "    \n",
    "    for epoch in range(num_epochs):\n",
    "        print(f\"Epoch [{epoch + 1}/{num_epochs}]\")\n",
    "        dataset.mode = 'train'\n",
    "        model.train()\n",
    "        train_loss = 0.0\n",
    "        correct = 0\n",
    "        total = 0\n",
    "        \n",
    "        with tqdm(total=len(train_loader), desc=\"Training\", unit=\"batch\") as pbar:\n",
    "            for batch in train_loader:\n",
    "                images, labels = batch['image'].to(device), batch['label'].to(device)\n",
    "                \n",
    "                optimizer.zero_grad()  \n",
    "                outputs = model(images)\n",
    "                loss = criterion(outputs, labels.long())  \n",
    "                \n",
    "                loss.backward()\n",
    "                optimizer.step()\n",
    "                \n",
    "                train_loss += loss.item()\n",
    "                _, predicted = outputs.max(1)\n",
    "                total += labels.size(0)\n",
    "                correct += predicted.eq(labels).sum().item()\n",
    "                \n",
    "                pbar.set_postfix(loss=loss.item(), accuracy=100. * correct / total)\n",
    "                pbar.update(1)\n",
    "        \n",
    "        avg_train_loss = train_loss / len(train_loader)\n",
    "        train_accuracy = 100. * correct / total\n",
    "        # print(f\"Training Loss: {avg_train_loss:.4f}, Accuracy: {train_accuracy:.2f}%\")\n",
    "        train_accuracies.append(train_accuracy)\n",
    "        train_losses.append(avg_train_loss)\n",
    "        \n",
    "        model.eval()  \n",
    "        dataset.mode = 'val'\n",
    "        val_loss = 0.0\n",
    "        correct = 0\n",
    "        total = 0\n",
    "        \n",
    "        with torch.no_grad():\n",
    "            with tqdm(total=len(val_loader), desc=\"Validation\", unit=\"batch\") as pbar:\n",
    "                for batch in val_loader:\n",
    "                    images, labels = batch['image'].to(device), batch['label'].to(device)\n",
    "\n",
    "                    outputs = model(images)\n",
    "                    loss = criterion(outputs, labels.long())\n",
    "                    \n",
    "                    val_loss += loss.item()\n",
    "                    _, predicted = outputs.max(1)\n",
    "                    total += labels.size(0)\n",
    "                    correct += predicted.eq(labels).sum().item()\n",
    "\n",
    "                    pbar.set_postfix(loss=loss.item(), accuracy=100. * correct / total)\n",
    "                    pbar.update(1)\n",
    "        \n",
    "        avg_val_loss = val_loss / len(val_loader)\n",
    "        val_accuracy = 100. * correct / total\n",
    "        # print(f\"Validation Loss: {avg_val_loss:.4f}, Accuracy: {val_accuracy:.2f}%\")\n",
    "        print(\"-\" * 30)\n",
    "        val_accuracies.append(val_accuracy)\n",
    "        val_losses.append(avg_val_loss)\n",
    "        mean_loss = sum(train_losses) / len(train_losses)\n",
    "        mean_loss = round(mean_loss, 2)\n",
    "        scheduler.step(mean_loss)\n",
    "    \n",
    "    return train_accuracies, train_losses, val_accuracies, val_losses\n"
   ]
  },
  {
   "cell_type": "code",
   "execution_count": 11,
   "metadata": {},
   "outputs": [
    {
     "name": "stdout",
     "output_type": "stream",
     "text": [
      "dataset shape is : (1800, 28, 28, 3)\n"
     ]
    }
   ],
   "source": [
    "dataset = train_dataset = Data(device, img_size_w=28, img_size_h=28, mode='train', \n",
    "                               train_transform=custom_train_transform, val_transform=custom_val_transform)\n",
    "\n",
    "dataset.normalize()\n",
    "dataset.train_val_split()\n",
    "\n",
    "train_dataloader = DataLoader(dataset, batch_size=batch_size, shuffle=True)\n",
    "test_dataloader = DataLoader(dataset, batch_size=batch_size, shuffle=False)"
   ]
  },
  {
   "cell_type": "code",
   "execution_count": 21,
   "metadata": {},
   "outputs": [
    {
     "name": "stdout",
     "output_type": "stream",
     "text": [
      "Epoch [1/100]\n"
     ]
    },
    {
     "name": "stderr",
     "output_type": "stream",
     "text": [
      "Training: 100%|██████████| 11/11 [00:03<00:00,  3.34batch/s, accuracy=54, loss=0.699]  \n",
      "Validation: 100%|██████████| 3/3 [00:00<00:00, 11.14batch/s, accuracy=56.8, loss=0.681]\n"
     ]
    },
    {
     "name": "stdout",
     "output_type": "stream",
     "text": [
      "------------------------------\n",
      "Epoch [2/100]\n"
     ]
    },
    {
     "name": "stderr",
     "output_type": "stream",
     "text": [
      "Training: 100%|██████████| 11/11 [00:03<00:00,  2.98batch/s, accuracy=54, loss=0.689] \n",
      "Validation: 100%|██████████| 3/3 [00:00<00:00, 13.89batch/s, accuracy=56.8, loss=0.678]\n"
     ]
    },
    {
     "name": "stdout",
     "output_type": "stream",
     "text": [
      "------------------------------\n",
      "Epoch [3/100]\n"
     ]
    },
    {
     "name": "stderr",
     "output_type": "stream",
     "text": [
      "Training: 100%|██████████| 11/11 [00:03<00:00,  3.08batch/s, accuracy=54, loss=0.674] \n",
      "Validation: 100%|██████████| 3/3 [00:00<00:00, 11.51batch/s, accuracy=56.8, loss=0.665]\n"
     ]
    },
    {
     "name": "stdout",
     "output_type": "stream",
     "text": [
      "------------------------------\n",
      "Epoch [4/100]\n"
     ]
    },
    {
     "name": "stderr",
     "output_type": "stream",
     "text": [
      "Training: 100%|██████████| 11/11 [00:03<00:00,  3.16batch/s, accuracy=55.8, loss=0.647]\n",
      "Validation: 100%|██████████| 3/3 [00:00<00:00, 10.63batch/s, accuracy=73.9, loss=0.633]\n"
     ]
    },
    {
     "name": "stdout",
     "output_type": "stream",
     "text": [
      "------------------------------\n",
      "Epoch [5/100]\n"
     ]
    },
    {
     "name": "stderr",
     "output_type": "stream",
     "text": [
      "Training: 100%|██████████| 11/11 [00:03<00:00,  3.10batch/s, accuracy=70.6, loss=0.527]\n",
      "Validation: 100%|██████████| 3/3 [00:00<00:00, 10.75batch/s, accuracy=70.5, loss=0.533]\n"
     ]
    },
    {
     "name": "stdout",
     "output_type": "stream",
     "text": [
      "------------------------------\n",
      "Epoch [6/100]\n"
     ]
    },
    {
     "name": "stderr",
     "output_type": "stream",
     "text": [
      "Training: 100%|██████████| 11/11 [00:03<00:00,  3.09batch/s, accuracy=74.2, loss=0.53] \n",
      "Validation: 100%|██████████| 3/3 [00:00<00:00, 11.45batch/s, accuracy=76.4, loss=0.516]\n"
     ]
    },
    {
     "name": "stdout",
     "output_type": "stream",
     "text": [
      "------------------------------\n",
      "Epoch [7/100]\n"
     ]
    },
    {
     "name": "stderr",
     "output_type": "stream",
     "text": [
      "Training: 100%|██████████| 11/11 [00:03<00:00,  3.42batch/s, accuracy=75.5, loss=0.41] \n",
      "Validation: 100%|██████████| 3/3 [00:00<00:00, 11.49batch/s, accuracy=77.1, loss=0.425]\n"
     ]
    },
    {
     "name": "stdout",
     "output_type": "stream",
     "text": [
      "------------------------------\n",
      "Epoch [8/100]\n"
     ]
    },
    {
     "name": "stderr",
     "output_type": "stream",
     "text": [
      "Training: 100%|██████████| 11/11 [00:03<00:00,  3.08batch/s, accuracy=76.4, loss=0.511]\n",
      "Validation: 100%|██████████| 3/3 [00:00<00:00, 11.51batch/s, accuracy=78.5, loss=0.412]\n"
     ]
    },
    {
     "name": "stdout",
     "output_type": "stream",
     "text": [
      "------------------------------\n",
      "Epoch [9/100]\n"
     ]
    },
    {
     "name": "stderr",
     "output_type": "stream",
     "text": [
      "Training: 100%|██████████| 11/11 [00:03<00:00,  3.18batch/s, accuracy=77.3, loss=0.453]\n",
      "Validation: 100%|██████████| 3/3 [00:00<00:00, 14.29batch/s, accuracy=79.4, loss=0.4]  \n"
     ]
    },
    {
     "name": "stdout",
     "output_type": "stream",
     "text": [
      "------------------------------\n",
      "Epoch [10/100]\n"
     ]
    },
    {
     "name": "stderr",
     "output_type": "stream",
     "text": [
      "Training: 100%|██████████| 11/11 [00:03<00:00,  3.29batch/s, accuracy=78, loss=0.467]  \n",
      "Validation: 100%|██████████| 3/3 [00:00<00:00, 11.57batch/s, accuracy=78.6, loss=0.435]\n"
     ]
    },
    {
     "name": "stdout",
     "output_type": "stream",
     "text": [
      "------------------------------\n",
      "Epoch [11/100]\n"
     ]
    },
    {
     "name": "stderr",
     "output_type": "stream",
     "text": [
      "Training: 100%|██████████| 11/11 [00:03<00:00,  3.13batch/s, accuracy=77.9, loss=0.395]\n",
      "Validation: 100%|██████████| 3/3 [00:00<00:00, 11.19batch/s, accuracy=80.5, loss=0.388]\n"
     ]
    },
    {
     "name": "stdout",
     "output_type": "stream",
     "text": [
      "------------------------------\n",
      "Epoch [12/100]\n"
     ]
    },
    {
     "name": "stderr",
     "output_type": "stream",
     "text": [
      "Training: 100%|██████████| 11/11 [00:03<00:00,  3.16batch/s, accuracy=79, loss=0.476] \n",
      "Validation: 100%|██████████| 3/3 [00:00<00:00, 13.33batch/s, accuracy=78.6, loss=0.435]\n"
     ]
    },
    {
     "name": "stdout",
     "output_type": "stream",
     "text": [
      "------------------------------\n",
      "Epoch [13/100]\n"
     ]
    },
    {
     "name": "stderr",
     "output_type": "stream",
     "text": [
      "Training: 100%|██████████| 11/11 [00:03<00:00,  3.30batch/s, accuracy=77.2, loss=0.344]\n",
      "Validation: 100%|██████████| 3/3 [00:00<00:00, 11.49batch/s, accuracy=77.3, loss=0.403]\n"
     ]
    },
    {
     "name": "stdout",
     "output_type": "stream",
     "text": [
      "------------------------------\n",
      "Epoch [14/100]\n"
     ]
    },
    {
     "name": "stderr",
     "output_type": "stream",
     "text": [
      "Training: 100%|██████████| 11/11 [00:03<00:00,  3.12batch/s, accuracy=77.9, loss=0.432]\n",
      "Validation: 100%|██████████| 3/3 [00:00<00:00, 11.36batch/s, accuracy=78.9, loss=0.406]\n"
     ]
    },
    {
     "name": "stdout",
     "output_type": "stream",
     "text": [
      "------------------------------\n",
      "Epoch [15/100]\n"
     ]
    },
    {
     "name": "stderr",
     "output_type": "stream",
     "text": [
      "Training: 100%|██████████| 11/11 [00:03<00:00,  3.39batch/s, accuracy=78.8, loss=0.503]\n",
      "Validation: 100%|██████████| 3/3 [00:00<00:00, 10.26batch/s, accuracy=78.8, loss=0.403]\n"
     ]
    },
    {
     "name": "stdout",
     "output_type": "stream",
     "text": [
      "------------------------------\n",
      "Epoch [16/100]\n"
     ]
    },
    {
     "name": "stderr",
     "output_type": "stream",
     "text": [
      "Training: 100%|██████████| 11/11 [00:03<00:00,  3.04batch/s, accuracy=78.5, loss=0.429]\n",
      "Validation: 100%|██████████| 3/3 [00:00<00:00,  9.68batch/s, accuracy=80.8, loss=0.392]\n"
     ]
    },
    {
     "name": "stdout",
     "output_type": "stream",
     "text": [
      "------------------------------\n",
      "Epoch [17/100]\n"
     ]
    },
    {
     "name": "stderr",
     "output_type": "stream",
     "text": [
      "Training: 100%|██████████| 11/11 [00:03<00:00,  2.82batch/s, accuracy=78.2, loss=0.535]\n",
      "Validation: 100%|██████████| 3/3 [00:00<00:00, 10.87batch/s, accuracy=79.1, loss=0.384]\n"
     ]
    },
    {
     "name": "stdout",
     "output_type": "stream",
     "text": [
      "------------------------------\n",
      "Epoch [18/100]\n"
     ]
    },
    {
     "name": "stderr",
     "output_type": "stream",
     "text": [
      "Training: 100%|██████████| 11/11 [00:03<00:00,  3.13batch/s, accuracy=78.5, loss=0.498]\n",
      "Validation: 100%|██████████| 3/3 [00:00<00:00, 14.21batch/s, accuracy=81.1, loss=0.385]\n"
     ]
    },
    {
     "name": "stdout",
     "output_type": "stream",
     "text": [
      "------------------------------\n",
      "Epoch [19/100]\n"
     ]
    },
    {
     "name": "stderr",
     "output_type": "stream",
     "text": [
      "Training: 100%|██████████| 11/11 [00:03<00:00,  3.17batch/s, accuracy=78.7, loss=0.45] \n",
      "Validation: 100%|██████████| 3/3 [00:00<00:00, 11.49batch/s, accuracy=80.8, loss=0.391]\n"
     ]
    },
    {
     "name": "stdout",
     "output_type": "stream",
     "text": [
      "------------------------------\n",
      "Epoch [20/100]\n"
     ]
    },
    {
     "name": "stderr",
     "output_type": "stream",
     "text": [
      "Training: 100%|██████████| 11/11 [00:03<00:00,  3.11batch/s, accuracy=78.6, loss=0.514]\n",
      "Validation: 100%|██████████| 3/3 [00:00<00:00, 11.81batch/s, accuracy=80.2, loss=0.378]\n"
     ]
    },
    {
     "name": "stdout",
     "output_type": "stream",
     "text": [
      "------------------------------\n",
      "Epoch [21/100]\n"
     ]
    },
    {
     "name": "stderr",
     "output_type": "stream",
     "text": [
      "Training: 100%|██████████| 11/11 [00:03<00:00,  3.45batch/s, accuracy=79, loss=0.382]  \n",
      "Validation: 100%|██████████| 3/3 [00:00<00:00, 11.20batch/s, accuracy=80.6, loss=0.378]\n"
     ]
    },
    {
     "name": "stdout",
     "output_type": "stream",
     "text": [
      "------------------------------\n",
      "Epoch [22/100]\n"
     ]
    },
    {
     "name": "stderr",
     "output_type": "stream",
     "text": [
      "Training: 100%|██████████| 11/11 [00:03<00:00,  3.21batch/s, accuracy=78.2, loss=0.48] \n",
      "Validation: 100%|██████████| 3/3 [00:00<00:00, 12.30batch/s, accuracy=79.5, loss=0.411]\n"
     ]
    },
    {
     "name": "stdout",
     "output_type": "stream",
     "text": [
      "------------------------------\n",
      "Epoch [23/100]\n"
     ]
    },
    {
     "name": "stderr",
     "output_type": "stream",
     "text": [
      "Training: 100%|██████████| 11/11 [00:03<00:00,  3.37batch/s, accuracy=77.9, loss=0.374]\n",
      "Validation: 100%|██████████| 3/3 [00:00<00:00, 11.70batch/s, accuracy=80.6, loss=0.39] \n"
     ]
    },
    {
     "name": "stdout",
     "output_type": "stream",
     "text": [
      "------------------------------\n",
      "Epoch [24/100]\n"
     ]
    },
    {
     "name": "stderr",
     "output_type": "stream",
     "text": [
      "Training: 100%|██████████| 11/11 [00:03<00:00,  3.13batch/s, accuracy=79.1, loss=0.476]\n",
      "Validation: 100%|██████████| 3/3 [00:00<00:00, 11.36batch/s, accuracy=80.3, loss=0.372]\n"
     ]
    },
    {
     "name": "stdout",
     "output_type": "stream",
     "text": [
      "------------------------------\n",
      "Epoch [25/100]\n"
     ]
    },
    {
     "name": "stderr",
     "output_type": "stream",
     "text": [
      "Training: 100%|██████████| 11/11 [00:03<00:00,  3.44batch/s, accuracy=78.8, loss=0.459]\n",
      "Validation: 100%|██████████| 3/3 [00:00<00:00, 11.67batch/s, accuracy=81.2, loss=0.375]\n"
     ]
    },
    {
     "name": "stdout",
     "output_type": "stream",
     "text": [
      "------------------------------\n",
      "Epoch [26/100]\n"
     ]
    },
    {
     "name": "stderr",
     "output_type": "stream",
     "text": [
      "Training: 100%|██████████| 11/11 [00:03<00:00,  3.17batch/s, accuracy=79, loss=0.367] \n",
      "Validation: 100%|██████████| 3/3 [00:00<00:00, 11.89batch/s, accuracy=81.2, loss=0.37] \n"
     ]
    },
    {
     "name": "stdout",
     "output_type": "stream",
     "text": [
      "------------------------------\n",
      "Epoch [27/100]\n"
     ]
    },
    {
     "name": "stderr",
     "output_type": "stream",
     "text": [
      "Training: 100%|██████████| 11/11 [00:03<00:00,  3.46batch/s, accuracy=79.6, loss=0.452]\n",
      "Validation: 100%|██████████| 3/3 [00:00<00:00, 11.63batch/s, accuracy=80.3, loss=0.382]\n"
     ]
    },
    {
     "name": "stdout",
     "output_type": "stream",
     "text": [
      "------------------------------\n",
      "Epoch [28/100]\n"
     ]
    },
    {
     "name": "stderr",
     "output_type": "stream",
     "text": [
      "Training: 100%|██████████| 11/11 [00:03<00:00,  3.09batch/s, accuracy=79, loss=0.435] \n",
      "Validation: 100%|██████████| 3/3 [00:00<00:00, 11.58batch/s, accuracy=80.8, loss=0.37] \n"
     ]
    },
    {
     "name": "stdout",
     "output_type": "stream",
     "text": [
      "------------------------------\n",
      "Epoch [29/100]\n"
     ]
    },
    {
     "name": "stderr",
     "output_type": "stream",
     "text": [
      "Training: 100%|██████████| 11/11 [00:03<00:00,  3.24batch/s, accuracy=79.2, loss=0.478]\n",
      "Validation: 100%|██████████| 3/3 [00:00<00:00, 14.07batch/s, accuracy=80.2, loss=0.366]\n"
     ]
    },
    {
     "name": "stdout",
     "output_type": "stream",
     "text": [
      "------------------------------\n",
      "Epoch [30/100]\n"
     ]
    },
    {
     "name": "stderr",
     "output_type": "stream",
     "text": [
      "Training: 100%|██████████| 11/11 [00:03<00:00,  3.27batch/s, accuracy=79.8, loss=0.393]\n",
      "Validation: 100%|██████████| 3/3 [00:00<00:00, 10.80batch/s, accuracy=80, loss=0.386]  \n"
     ]
    },
    {
     "name": "stdout",
     "output_type": "stream",
     "text": [
      "------------------------------\n",
      "Epoch [31/100]\n"
     ]
    },
    {
     "name": "stderr",
     "output_type": "stream",
     "text": [
      "Training: 100%|██████████| 11/11 [00:03<00:00,  3.12batch/s, accuracy=79.8, loss=0.454]\n",
      "Validation: 100%|██████████| 3/3 [00:00<00:00, 10.92batch/s, accuracy=81.1, loss=0.365]\n"
     ]
    },
    {
     "name": "stdout",
     "output_type": "stream",
     "text": [
      "------------------------------\n",
      "Epoch [32/100]\n"
     ]
    },
    {
     "name": "stderr",
     "output_type": "stream",
     "text": [
      "Training: 100%|██████████| 11/11 [00:03<00:00,  3.41batch/s, accuracy=79.7, loss=0.396]\n",
      "Validation: 100%|██████████| 3/3 [00:00<00:00, 14.21batch/s, accuracy=79.4, loss=0.411]\n"
     ]
    },
    {
     "name": "stdout",
     "output_type": "stream",
     "text": [
      "------------------------------\n",
      "Epoch [33/100]\n"
     ]
    },
    {
     "name": "stderr",
     "output_type": "stream",
     "text": [
      "Training: 100%|██████████| 11/11 [00:03<00:00,  3.24batch/s, accuracy=79.5, loss=0.426]\n",
      "Validation: 100%|██████████| 3/3 [00:00<00:00, 11.76batch/s, accuracy=79.8, loss=0.364]\n"
     ]
    },
    {
     "name": "stdout",
     "output_type": "stream",
     "text": [
      "------------------------------\n",
      "Epoch [34/100]\n"
     ]
    },
    {
     "name": "stderr",
     "output_type": "stream",
     "text": [
      "Training: 100%|██████████| 11/11 [00:03<00:00,  3.43batch/s, accuracy=79, loss=0.403]  \n",
      "Validation: 100%|██████████| 3/3 [00:00<00:00, 12.98batch/s, accuracy=80.3, loss=0.407]\n"
     ]
    },
    {
     "name": "stdout",
     "output_type": "stream",
     "text": [
      "------------------------------\n",
      "Epoch [35/100]\n"
     ]
    },
    {
     "name": "stderr",
     "output_type": "stream",
     "text": [
      "Training: 100%|██████████| 11/11 [00:03<00:00,  3.18batch/s, accuracy=79.8, loss=0.432]\n",
      "Validation: 100%|██████████| 3/3 [00:00<00:00, 11.45batch/s, accuracy=80.8, loss=0.363]\n"
     ]
    },
    {
     "name": "stdout",
     "output_type": "stream",
     "text": [
      "------------------------------\n",
      "Epoch [36/100]\n"
     ]
    },
    {
     "name": "stderr",
     "output_type": "stream",
     "text": [
      "Training: 100%|██████████| 11/11 [00:03<00:00,  3.15batch/s, accuracy=80.7, loss=0.424]\n",
      "Validation: 100%|██████████| 3/3 [00:00<00:00,  9.90batch/s, accuracy=81.5, loss=0.361]\n"
     ]
    },
    {
     "name": "stdout",
     "output_type": "stream",
     "text": [
      "------------------------------\n",
      "Epoch [37/100]\n"
     ]
    },
    {
     "name": "stderr",
     "output_type": "stream",
     "text": [
      "Training: 100%|██████████| 11/11 [00:03<00:00,  3.49batch/s, accuracy=80.4, loss=0.492]\n",
      "Validation: 100%|██████████| 3/3 [00:00<00:00, 11.19batch/s, accuracy=80.3, loss=0.363]\n"
     ]
    },
    {
     "name": "stdout",
     "output_type": "stream",
     "text": [
      "------------------------------\n",
      "Epoch [38/100]\n"
     ]
    },
    {
     "name": "stderr",
     "output_type": "stream",
     "text": [
      "Training: 100%|██████████| 11/11 [00:03<00:00,  3.16batch/s, accuracy=79.2, loss=0.367]\n",
      "Validation: 100%|██████████| 3/3 [00:00<00:00, 10.78batch/s, accuracy=81.4, loss=0.361]\n"
     ]
    },
    {
     "name": "stdout",
     "output_type": "stream",
     "text": [
      "------------------------------\n",
      "Epoch [39/100]\n"
     ]
    },
    {
     "name": "stderr",
     "output_type": "stream",
     "text": [
      "Training: 100%|██████████| 11/11 [00:03<00:00,  3.33batch/s, accuracy=79.7, loss=0.427]\n",
      "Validation: 100%|██████████| 3/3 [00:00<00:00, 14.70batch/s, accuracy=81.1, loss=0.368]\n"
     ]
    },
    {
     "name": "stdout",
     "output_type": "stream",
     "text": [
      "------------------------------\n",
      "Epoch [40/100]\n"
     ]
    },
    {
     "name": "stderr",
     "output_type": "stream",
     "text": [
      "Training: 100%|██████████| 11/11 [00:03<00:00,  3.26batch/s, accuracy=81, loss=0.325] \n",
      "Validation: 100%|██████████| 3/3 [00:00<00:00, 11.47batch/s, accuracy=80.6, loss=0.406]\n"
     ]
    },
    {
     "name": "stdout",
     "output_type": "stream",
     "text": [
      "------------------------------\n",
      "Epoch [41/100]\n"
     ]
    },
    {
     "name": "stderr",
     "output_type": "stream",
     "text": [
      "Training: 100%|██████████| 11/11 [00:03<00:00,  3.37batch/s, accuracy=80.5, loss=0.482]\n",
      "Validation: 100%|██████████| 3/3 [00:00<00:00, 14.63batch/s, accuracy=80.9, loss=0.358]\n"
     ]
    },
    {
     "name": "stdout",
     "output_type": "stream",
     "text": [
      "------------------------------\n",
      "Epoch [42/100]\n"
     ]
    },
    {
     "name": "stderr",
     "output_type": "stream",
     "text": [
      "Training: 100%|██████████| 11/11 [00:03<00:00,  3.22batch/s, accuracy=80.3, loss=0.481]\n",
      "Validation: 100%|██████████| 3/3 [00:00<00:00, 11.58batch/s, accuracy=81.5, loss=0.375]\n"
     ]
    },
    {
     "name": "stdout",
     "output_type": "stream",
     "text": [
      "------------------------------\n",
      "Epoch [43/100]\n"
     ]
    },
    {
     "name": "stderr",
     "output_type": "stream",
     "text": [
      "Training: 100%|██████████| 11/11 [00:03<00:00,  3.20batch/s, accuracy=79.2, loss=0.405]\n",
      "Validation: 100%|██████████| 3/3 [00:00<00:00, 14.56batch/s, accuracy=79.2, loss=0.422]\n"
     ]
    },
    {
     "name": "stdout",
     "output_type": "stream",
     "text": [
      "------------------------------\n",
      "Epoch [44/100]\n"
     ]
    },
    {
     "name": "stderr",
     "output_type": "stream",
     "text": [
      "Training: 100%|██████████| 11/11 [00:03<00:00,  3.45batch/s, accuracy=79, loss=0.447]  \n",
      "Validation: 100%|██████████| 3/3 [00:00<00:00, 11.15batch/s, accuracy=81.1, loss=0.354]\n"
     ]
    },
    {
     "name": "stdout",
     "output_type": "stream",
     "text": [
      "------------------------------\n",
      "Epoch [45/100]\n"
     ]
    },
    {
     "name": "stderr",
     "output_type": "stream",
     "text": [
      "Training: 100%|██████████| 11/11 [00:03<00:00,  3.44batch/s, accuracy=78, loss=0.462]  \n",
      "Validation: 100%|██████████| 3/3 [00:00<00:00,  8.15batch/s, accuracy=79.2, loss=0.367]\n"
     ]
    },
    {
     "name": "stdout",
     "output_type": "stream",
     "text": [
      "------------------------------\n",
      "Epoch [46/100]\n"
     ]
    },
    {
     "name": "stderr",
     "output_type": "stream",
     "text": [
      "Training: 100%|██████████| 11/11 [00:03<00:00,  2.86batch/s, accuracy=77.7, loss=0.47] \n",
      "Validation: 100%|██████████| 3/3 [00:00<00:00, 10.82batch/s, accuracy=81.2, loss=0.357]\n"
     ]
    },
    {
     "name": "stdout",
     "output_type": "stream",
     "text": [
      "------------------------------\n",
      "Epoch [47/100]\n"
     ]
    },
    {
     "name": "stderr",
     "output_type": "stream",
     "text": [
      "Training: 100%|██████████| 11/11 [00:03<00:00,  3.10batch/s, accuracy=80.2, loss=0.398]\n",
      "Validation: 100%|██████████| 3/3 [00:00<00:00, 11.45batch/s, accuracy=80.2, loss=0.41] \n"
     ]
    },
    {
     "name": "stdout",
     "output_type": "stream",
     "text": [
      "------------------------------\n",
      "Epoch [48/100]\n"
     ]
    },
    {
     "name": "stderr",
     "output_type": "stream",
     "text": [
      "Training: 100%|██████████| 11/11 [00:03<00:00,  3.35batch/s, accuracy=80.5, loss=0.362]\n",
      "Validation: 100%|██████████| 3/3 [00:00<00:00, 10.54batch/s, accuracy=80.5, loss=0.398]\n"
     ]
    },
    {
     "name": "stdout",
     "output_type": "stream",
     "text": [
      "------------------------------\n",
      "Epoch [49/100]\n"
     ]
    },
    {
     "name": "stderr",
     "output_type": "stream",
     "text": [
      "Training: 100%|██████████| 11/11 [00:03<00:00,  3.09batch/s, accuracy=80.9, loss=0.392]\n",
      "Validation: 100%|██████████| 3/3 [00:00<00:00, 11.32batch/s, accuracy=81.2, loss=0.358]\n"
     ]
    },
    {
     "name": "stdout",
     "output_type": "stream",
     "text": [
      "------------------------------\n",
      "Epoch [50/100]\n"
     ]
    },
    {
     "name": "stderr",
     "output_type": "stream",
     "text": [
      "Training: 100%|██████████| 11/11 [00:03<00:00,  3.42batch/s, accuracy=81, loss=0.456]  \n",
      "Validation: 100%|██████████| 3/3 [00:00<00:00, 12.13batch/s, accuracy=82.6, loss=0.347]\n"
     ]
    },
    {
     "name": "stdout",
     "output_type": "stream",
     "text": [
      "------------------------------\n",
      "Epoch [51/100]\n"
     ]
    },
    {
     "name": "stderr",
     "output_type": "stream",
     "text": [
      "Training: 100%|██████████| 11/11 [00:03<00:00,  3.08batch/s, accuracy=81.1, loss=0.32]\n",
      "Validation: 100%|██████████| 3/3 [00:00<00:00, 11.21batch/s, accuracy=81.8, loss=0.368]\n"
     ]
    },
    {
     "name": "stdout",
     "output_type": "stream",
     "text": [
      "------------------------------\n",
      "Epoch [52/100]\n"
     ]
    },
    {
     "name": "stderr",
     "output_type": "stream",
     "text": [
      "Training: 100%|██████████| 11/11 [00:03<00:00,  3.09batch/s, accuracy=81.7, loss=0.451]\n",
      "Validation: 100%|██████████| 3/3 [00:00<00:00, 10.89batch/s, accuracy=81.7, loss=0.379]\n"
     ]
    },
    {
     "name": "stdout",
     "output_type": "stream",
     "text": [
      "------------------------------\n",
      "Epoch [53/100]\n"
     ]
    },
    {
     "name": "stderr",
     "output_type": "stream",
     "text": [
      "Training: 100%|██████████| 11/11 [00:03<00:00,  3.27batch/s, accuracy=80.8, loss=0.467]\n",
      "Validation: 100%|██████████| 3/3 [00:00<00:00, 11.19batch/s, accuracy=81.8, loss=0.374]\n"
     ]
    },
    {
     "name": "stdout",
     "output_type": "stream",
     "text": [
      "------------------------------\n",
      "Epoch [54/100]\n"
     ]
    },
    {
     "name": "stderr",
     "output_type": "stream",
     "text": [
      "Training: 100%|██████████| 11/11 [00:03<00:00,  3.12batch/s, accuracy=80.5, loss=0.488]\n",
      "Validation: 100%|██████████| 3/3 [00:00<00:00, 11.20batch/s, accuracy=81.8, loss=0.359]\n"
     ]
    },
    {
     "name": "stdout",
     "output_type": "stream",
     "text": [
      "------------------------------\n",
      "Epoch [55/100]\n"
     ]
    },
    {
     "name": "stderr",
     "output_type": "stream",
     "text": [
      "Training: 100%|██████████| 11/11 [00:03<00:00,  3.41batch/s, accuracy=80.8, loss=0.389]\n",
      "Validation: 100%|██████████| 3/3 [00:00<00:00, 10.71batch/s, accuracy=82.1, loss=0.347]\n"
     ]
    },
    {
     "name": "stdout",
     "output_type": "stream",
     "text": [
      "------------------------------\n",
      "Epoch [56/100]\n"
     ]
    },
    {
     "name": "stderr",
     "output_type": "stream",
     "text": [
      "Training: 100%|██████████| 11/11 [00:03<00:00,  3.06batch/s, accuracy=80.8, loss=0.39] \n",
      "Validation: 100%|██████████| 3/3 [00:00<00:00,  9.93batch/s, accuracy=82.1, loss=0.364]\n"
     ]
    },
    {
     "name": "stdout",
     "output_type": "stream",
     "text": [
      "------------------------------\n",
      "Epoch [57/100]\n"
     ]
    },
    {
     "name": "stderr",
     "output_type": "stream",
     "text": [
      "Training: 100%|██████████| 11/11 [00:03<00:00,  2.95batch/s, accuracy=81.4, loss=0.357]\n",
      "Validation: 100%|██████████| 3/3 [00:00<00:00, 10.52batch/s, accuracy=82.3, loss=0.368]\n"
     ]
    },
    {
     "name": "stdout",
     "output_type": "stream",
     "text": [
      "------------------------------\n",
      "Epoch [58/100]\n"
     ]
    },
    {
     "name": "stderr",
     "output_type": "stream",
     "text": [
      "Training: 100%|██████████| 11/11 [00:03<00:00,  3.33batch/s, accuracy=81.7, loss=0.422]\n",
      "Validation: 100%|██████████| 3/3 [00:00<00:00, 10.86batch/s, accuracy=81.5, loss=0.387]\n"
     ]
    },
    {
     "name": "stdout",
     "output_type": "stream",
     "text": [
      "------------------------------\n",
      "Epoch [59/100]\n"
     ]
    },
    {
     "name": "stderr",
     "output_type": "stream",
     "text": [
      "Training: 100%|██████████| 11/11 [00:03<00:00,  3.11batch/s, accuracy=81.2, loss=0.386]\n",
      "Validation: 100%|██████████| 3/3 [00:00<00:00, 11.41batch/s, accuracy=81.5, loss=0.393]\n"
     ]
    },
    {
     "name": "stdout",
     "output_type": "stream",
     "text": [
      "------------------------------\n",
      "Epoch [60/100]\n"
     ]
    },
    {
     "name": "stderr",
     "output_type": "stream",
     "text": [
      "Training: 100%|██████████| 11/11 [00:03<00:00,  3.24batch/s, accuracy=81.5, loss=0.407]\n",
      "Validation: 100%|██████████| 3/3 [00:00<00:00, 13.62batch/s, accuracy=82.6, loss=0.344]\n"
     ]
    },
    {
     "name": "stdout",
     "output_type": "stream",
     "text": [
      "------------------------------\n",
      "Epoch [61/100]\n"
     ]
    },
    {
     "name": "stderr",
     "output_type": "stream",
     "text": [
      "Training: 100%|██████████| 11/11 [00:03<00:00,  3.30batch/s, accuracy=81.4, loss=0.329]\n",
      "Validation: 100%|██████████| 3/3 [00:00<00:00, 10.90batch/s, accuracy=82, loss=0.373]  \n"
     ]
    },
    {
     "name": "stdout",
     "output_type": "stream",
     "text": [
      "------------------------------\n",
      "Epoch [62/100]\n"
     ]
    },
    {
     "name": "stderr",
     "output_type": "stream",
     "text": [
      "Training: 100%|██████████| 11/11 [00:03<00:00,  3.04batch/s, accuracy=81.7, loss=0.484]\n",
      "Validation: 100%|██████████| 3/3 [00:00<00:00, 13.83batch/s, accuracy=82.9, loss=0.352]\n"
     ]
    },
    {
     "name": "stdout",
     "output_type": "stream",
     "text": [
      "------------------------------\n",
      "Epoch [63/100]\n"
     ]
    },
    {
     "name": "stderr",
     "output_type": "stream",
     "text": [
      "Training: 100%|██████████| 11/11 [00:03<00:00,  3.31batch/s, accuracy=81.7, loss=0.459]\n",
      "Validation: 100%|██████████| 3/3 [00:00<00:00, 11.41batch/s, accuracy=82.9, loss=0.356]\n"
     ]
    },
    {
     "name": "stdout",
     "output_type": "stream",
     "text": [
      "------------------------------\n",
      "Epoch [64/100]\n"
     ]
    },
    {
     "name": "stderr",
     "output_type": "stream",
     "text": [
      "Training: 100%|██████████| 11/11 [00:03<00:00,  3.14batch/s, accuracy=82.4, loss=0.453]\n",
      "Validation: 100%|██████████| 3/3 [00:00<00:00, 10.31batch/s, accuracy=82.1, loss=0.36] \n"
     ]
    },
    {
     "name": "stdout",
     "output_type": "stream",
     "text": [
      "------------------------------\n",
      "Epoch [65/100]\n"
     ]
    },
    {
     "name": "stderr",
     "output_type": "stream",
     "text": [
      "Training: 100%|██████████| 11/11 [00:03<00:00,  3.44batch/s, accuracy=82.1, loss=0.314]\n",
      "Validation: 100%|██████████| 3/3 [00:00<00:00, 10.90batch/s, accuracy=82.3, loss=0.367]\n"
     ]
    },
    {
     "name": "stdout",
     "output_type": "stream",
     "text": [
      "------------------------------\n",
      "Epoch [66/100]\n"
     ]
    },
    {
     "name": "stderr",
     "output_type": "stream",
     "text": [
      "Training: 100%|██████████| 11/11 [00:03<00:00,  3.11batch/s, accuracy=82.1, loss=0.407]\n",
      "Validation: 100%|██████████| 3/3 [00:00<00:00, 11.45batch/s, accuracy=81.7, loss=0.364]\n"
     ]
    },
    {
     "name": "stdout",
     "output_type": "stream",
     "text": [
      "------------------------------\n",
      "Epoch [67/100]\n"
     ]
    },
    {
     "name": "stderr",
     "output_type": "stream",
     "text": [
      "Training: 100%|██████████| 11/11 [00:03<00:00,  3.33batch/s, accuracy=82.7, loss=0.387]\n",
      "Validation: 100%|██████████| 3/3 [00:00<00:00, 13.95batch/s, accuracy=81.8, loss=0.4]\n"
     ]
    },
    {
     "name": "stdout",
     "output_type": "stream",
     "text": [
      "------------------------------\n",
      "Epoch [68/100]\n"
     ]
    },
    {
     "name": "stderr",
     "output_type": "stream",
     "text": [
      "Training: 100%|██████████| 11/11 [00:03<00:00,  3.07batch/s, accuracy=82.4, loss=0.399]\n",
      "Validation: 100%|██████████| 3/3 [00:00<00:00, 10.75batch/s, accuracy=81.8, loss=0.38] \n"
     ]
    },
    {
     "name": "stdout",
     "output_type": "stream",
     "text": [
      "------------------------------\n",
      "Epoch [69/100]\n"
     ]
    },
    {
     "name": "stderr",
     "output_type": "stream",
     "text": [
      "Training: 100%|██████████| 11/11 [00:03<00:00,  3.38batch/s, accuracy=81.9, loss=0.379]\n",
      "Validation: 100%|██████████| 3/3 [00:00<00:00, 13.76batch/s, accuracy=80, loss=0.35]   \n"
     ]
    },
    {
     "name": "stdout",
     "output_type": "stream",
     "text": [
      "------------------------------\n",
      "Epoch [70/100]\n"
     ]
    },
    {
     "name": "stderr",
     "output_type": "stream",
     "text": [
      "Training: 100%|██████████| 11/11 [00:03<00:00,  3.14batch/s, accuracy=80.2, loss=0.285]\n",
      "Validation: 100%|██████████| 3/3 [00:00<00:00, 11.63batch/s, accuracy=82, loss=0.37]   \n"
     ]
    },
    {
     "name": "stdout",
     "output_type": "stream",
     "text": [
      "------------------------------\n",
      "Epoch [71/100]\n"
     ]
    },
    {
     "name": "stderr",
     "output_type": "stream",
     "text": [
      "Training: 100%|██████████| 11/11 [00:03<00:00,  3.14batch/s, accuracy=82.1, loss=0.435]\n",
      "Validation: 100%|██████████| 3/3 [00:00<00:00, 11.56batch/s, accuracy=80.6, loss=0.414]\n"
     ]
    },
    {
     "name": "stdout",
     "output_type": "stream",
     "text": [
      "------------------------------\n",
      "Epoch [72/100]\n"
     ]
    },
    {
     "name": "stderr",
     "output_type": "stream",
     "text": [
      "Training: 100%|██████████| 11/11 [00:03<00:00,  3.43batch/s, accuracy=82.5, loss=0.387]\n",
      "Validation: 100%|██████████| 3/3 [00:00<00:00, 10.14batch/s, accuracy=82.4, loss=0.367]\n"
     ]
    },
    {
     "name": "stdout",
     "output_type": "stream",
     "text": [
      "------------------------------\n",
      "Epoch [73/100]\n"
     ]
    },
    {
     "name": "stderr",
     "output_type": "stream",
     "text": [
      "Training: 100%|██████████| 11/11 [00:03<00:00,  3.04batch/s, accuracy=82.6, loss=0.331]\n",
      "Validation: 100%|██████████| 3/3 [00:00<00:00, 11.22batch/s, accuracy=82.4, loss=0.377]\n"
     ]
    },
    {
     "name": "stdout",
     "output_type": "stream",
     "text": [
      "------------------------------\n",
      "Epoch [74/100]\n"
     ]
    },
    {
     "name": "stderr",
     "output_type": "stream",
     "text": [
      "Training: 100%|██████████| 11/11 [00:03<00:00,  3.34batch/s, accuracy=82.6, loss=0.288]\n",
      "Validation: 100%|██████████| 3/3 [00:00<00:00, 14.08batch/s, accuracy=83, loss=0.343]  \n"
     ]
    },
    {
     "name": "stdout",
     "output_type": "stream",
     "text": [
      "------------------------------\n",
      "Epoch [75/100]\n"
     ]
    },
    {
     "name": "stderr",
     "output_type": "stream",
     "text": [
      "Training: 100%|██████████| 11/11 [00:03<00:00,  3.17batch/s, accuracy=82.2, loss=0.346]\n",
      "Validation: 100%|██████████| 3/3 [00:00<00:00, 11.29batch/s, accuracy=74.8, loss=0.521]\n"
     ]
    },
    {
     "name": "stdout",
     "output_type": "stream",
     "text": [
      "------------------------------\n",
      "Epoch [76/100]\n"
     ]
    },
    {
     "name": "stderr",
     "output_type": "stream",
     "text": [
      "Training: 100%|██████████| 11/11 [00:03<00:00,  3.11batch/s, accuracy=81.1, loss=0.407]\n",
      "Validation: 100%|██████████| 3/3 [00:00<00:00, 10.97batch/s, accuracy=82.7, loss=0.336]\n"
     ]
    },
    {
     "name": "stdout",
     "output_type": "stream",
     "text": [
      "------------------------------\n",
      "Epoch [77/100]\n"
     ]
    },
    {
     "name": "stderr",
     "output_type": "stream",
     "text": [
      "Training: 100%|██████████| 11/11 [00:03<00:00,  3.44batch/s, accuracy=82.3, loss=0.395]\n",
      "Validation: 100%|██████████| 3/3 [00:00<00:00, 11.11batch/s, accuracy=82.4, loss=0.356]\n"
     ]
    },
    {
     "name": "stdout",
     "output_type": "stream",
     "text": [
      "------------------------------\n",
      "Epoch [78/100]\n"
     ]
    },
    {
     "name": "stderr",
     "output_type": "stream",
     "text": [
      "Training: 100%|██████████| 11/11 [00:03<00:00,  3.05batch/s, accuracy=82.6, loss=0.393]\n",
      "Validation: 100%|██████████| 3/3 [00:00<00:00, 13.35batch/s, accuracy=82.9, loss=0.363]\n"
     ]
    },
    {
     "name": "stdout",
     "output_type": "stream",
     "text": [
      "------------------------------\n",
      "Epoch [79/100]\n"
     ]
    },
    {
     "name": "stderr",
     "output_type": "stream",
     "text": [
      "Training: 100%|██████████| 11/11 [00:03<00:00,  3.37batch/s, accuracy=83.4, loss=0.404]\n",
      "Validation: 100%|██████████| 3/3 [00:00<00:00,  9.96batch/s, accuracy=83.9, loss=0.352]\n"
     ]
    },
    {
     "name": "stdout",
     "output_type": "stream",
     "text": [
      "------------------------------\n",
      "Epoch [80/100]\n"
     ]
    },
    {
     "name": "stderr",
     "output_type": "stream",
     "text": [
      "Training: 100%|██████████| 11/11 [00:03<00:00,  3.04batch/s, accuracy=82.7, loss=0.294]\n",
      "Validation: 100%|██████████| 3/3 [00:00<00:00, 14.92batch/s, accuracy=84.1, loss=0.355]\n"
     ]
    },
    {
     "name": "stdout",
     "output_type": "stream",
     "text": [
      "------------------------------\n",
      "Epoch [81/100]\n"
     ]
    },
    {
     "name": "stderr",
     "output_type": "stream",
     "text": [
      "Training: 100%|██████████| 11/11 [00:03<00:00,  3.58batch/s, accuracy=82.4, loss=0.273]\n",
      "Validation: 100%|██████████| 3/3 [00:00<00:00, 11.36batch/s, accuracy=83.6, loss=0.359]\n"
     ]
    },
    {
     "name": "stdout",
     "output_type": "stream",
     "text": [
      "------------------------------\n",
      "Epoch [82/100]\n"
     ]
    },
    {
     "name": "stderr",
     "output_type": "stream",
     "text": [
      "Training: 100%|██████████| 11/11 [00:03<00:00,  3.14batch/s, accuracy=82.9, loss=0.318]\n",
      "Validation: 100%|██████████| 3/3 [00:00<00:00, 13.70batch/s, accuracy=83.8, loss=0.35] \n"
     ]
    },
    {
     "name": "stdout",
     "output_type": "stream",
     "text": [
      "------------------------------\n",
      "Epoch [83/100]\n"
     ]
    },
    {
     "name": "stderr",
     "output_type": "stream",
     "text": [
      "Training: 100%|██████████| 11/11 [00:03<00:00,  3.33batch/s, accuracy=82.7, loss=0.395]\n",
      "Validation: 100%|██████████| 3/3 [00:00<00:00, 10.27batch/s, accuracy=82.9, loss=0.363]\n"
     ]
    },
    {
     "name": "stdout",
     "output_type": "stream",
     "text": [
      "------------------------------\n",
      "Epoch [84/100]\n"
     ]
    },
    {
     "name": "stderr",
     "output_type": "stream",
     "text": [
      "Training: 100%|██████████| 11/11 [00:03<00:00,  3.11batch/s, accuracy=82.1, loss=0.329]\n",
      "Validation: 100%|██████████| 3/3 [00:00<00:00,  9.55batch/s, accuracy=83.9, loss=0.356]\n"
     ]
    },
    {
     "name": "stdout",
     "output_type": "stream",
     "text": [
      "------------------------------\n",
      "Epoch [85/100]\n"
     ]
    },
    {
     "name": "stderr",
     "output_type": "stream",
     "text": [
      "Training: 100%|██████████| 11/11 [00:03<00:00,  3.26batch/s, accuracy=82.3, loss=0.362]\n",
      "Validation: 100%|██████████| 3/3 [00:00<00:00, 10.64batch/s, accuracy=83.8, loss=0.361]\n"
     ]
    },
    {
     "name": "stdout",
     "output_type": "stream",
     "text": [
      "------------------------------\n",
      "Epoch [86/100]\n"
     ]
    },
    {
     "name": "stderr",
     "output_type": "stream",
     "text": [
      "Training: 100%|██████████| 11/11 [00:03<00:00,  2.89batch/s, accuracy=82.5, loss=0.371]\n",
      "Validation: 100%|██████████| 3/3 [00:00<00:00, 10.79batch/s, accuracy=83.6, loss=0.356]\n"
     ]
    },
    {
     "name": "stdout",
     "output_type": "stream",
     "text": [
      "------------------------------\n",
      "Epoch [87/100]\n"
     ]
    },
    {
     "name": "stderr",
     "output_type": "stream",
     "text": [
      "Training: 100%|██████████| 11/11 [00:03<00:00,  3.07batch/s, accuracy=83.7, loss=0.413]\n",
      "Validation: 100%|██████████| 3/3 [00:00<00:00, 12.67batch/s, accuracy=83.8, loss=0.359]\n"
     ]
    },
    {
     "name": "stdout",
     "output_type": "stream",
     "text": [
      "------------------------------\n",
      "Epoch [88/100]\n"
     ]
    },
    {
     "name": "stderr",
     "output_type": "stream",
     "text": [
      "Training: 100%|██████████| 11/11 [00:03<00:00,  2.94batch/s, accuracy=82.8, loss=0.426]\n",
      "Validation: 100%|██████████| 3/3 [00:00<00:00, 11.25batch/s, accuracy=84.1, loss=0.35] \n"
     ]
    },
    {
     "name": "stdout",
     "output_type": "stream",
     "text": [
      "------------------------------\n",
      "Epoch [89/100]\n"
     ]
    },
    {
     "name": "stderr",
     "output_type": "stream",
     "text": [
      "Training: 100%|██████████| 11/11 [00:03<00:00,  3.03batch/s, accuracy=83.2, loss=0.293]\n",
      "Validation: 100%|██████████| 3/3 [00:00<00:00, 14.71batch/s, accuracy=82.9, loss=0.361]\n"
     ]
    },
    {
     "name": "stdout",
     "output_type": "stream",
     "text": [
      "------------------------------\n",
      "Epoch [90/100]\n"
     ]
    },
    {
     "name": "stderr",
     "output_type": "stream",
     "text": [
      "Training: 100%|██████████| 11/11 [00:02<00:00,  3.69batch/s, accuracy=82.7, loss=0.324]\n",
      "Validation: 100%|██████████| 3/3 [00:00<00:00, 10.83batch/s, accuracy=84.1, loss=0.353]\n"
     ]
    },
    {
     "name": "stdout",
     "output_type": "stream",
     "text": [
      "------------------------------\n",
      "Epoch [91/100]\n"
     ]
    },
    {
     "name": "stderr",
     "output_type": "stream",
     "text": [
      "Training: 100%|██████████| 11/11 [00:03<00:00,  3.11batch/s, accuracy=83.1, loss=0.355]\n",
      "Validation: 100%|██████████| 3/3 [00:00<00:00, 13.51batch/s, accuracy=83.8, loss=0.351]\n"
     ]
    },
    {
     "name": "stdout",
     "output_type": "stream",
     "text": [
      "------------------------------\n",
      "Epoch [92/100]\n"
     ]
    },
    {
     "name": "stderr",
     "output_type": "stream",
     "text": [
      "Training: 100%|██████████| 11/11 [00:03<00:00,  3.36batch/s, accuracy=82.6, loss=0.393]\n",
      "Validation: 100%|██████████| 3/3 [00:00<00:00, 10.27batch/s, accuracy=84.2, loss=0.354]\n"
     ]
    },
    {
     "name": "stdout",
     "output_type": "stream",
     "text": [
      "------------------------------\n",
      "Epoch [93/100]\n"
     ]
    },
    {
     "name": "stderr",
     "output_type": "stream",
     "text": [
      "Training: 100%|██████████| 11/11 [00:03<00:00,  3.12batch/s, accuracy=82.3, loss=0.367]\n",
      "Validation: 100%|██████████| 3/3 [00:00<00:00, 11.58batch/s, accuracy=83.3, loss=0.359]\n"
     ]
    },
    {
     "name": "stdout",
     "output_type": "stream",
     "text": [
      "------------------------------\n",
      "Epoch [94/100]\n"
     ]
    },
    {
     "name": "stderr",
     "output_type": "stream",
     "text": [
      "Training: 100%|██████████| 11/11 [00:03<00:00,  3.25batch/s, accuracy=82.4, loss=0.341]\n",
      "Validation: 100%|██████████| 3/3 [00:00<00:00, 10.17batch/s, accuracy=83.8, loss=0.358]\n"
     ]
    },
    {
     "name": "stdout",
     "output_type": "stream",
     "text": [
      "------------------------------\n",
      "Epoch [95/100]\n"
     ]
    },
    {
     "name": "stderr",
     "output_type": "stream",
     "text": [
      "Training: 100%|██████████| 11/11 [00:03<00:00,  3.09batch/s, accuracy=83.3, loss=0.475]\n",
      "Validation: 100%|██████████| 3/3 [00:00<00:00, 11.49batch/s, accuracy=84.1, loss=0.357]\n"
     ]
    },
    {
     "name": "stdout",
     "output_type": "stream",
     "text": [
      "------------------------------\n",
      "Epoch [96/100]\n"
     ]
    },
    {
     "name": "stderr",
     "output_type": "stream",
     "text": [
      "Training: 100%|██████████| 11/11 [00:03<00:00,  3.30batch/s, accuracy=83.3, loss=0.293]\n",
      "Validation: 100%|██████████| 3/3 [00:00<00:00, 13.57batch/s, accuracy=84.1, loss=0.357]\n"
     ]
    },
    {
     "name": "stdout",
     "output_type": "stream",
     "text": [
      "------------------------------\n",
      "Epoch [97/100]\n"
     ]
    },
    {
     "name": "stderr",
     "output_type": "stream",
     "text": [
      "Training: 100%|██████████| 11/11 [00:03<00:00,  3.13batch/s, accuracy=83.1, loss=0.282]\n",
      "Validation: 100%|██████████| 3/3 [00:00<00:00, 10.55batch/s, accuracy=84.1, loss=0.357]\n"
     ]
    },
    {
     "name": "stdout",
     "output_type": "stream",
     "text": [
      "------------------------------\n",
      "Epoch [98/100]\n"
     ]
    },
    {
     "name": "stderr",
     "output_type": "stream",
     "text": [
      "Training: 100%|██████████| 11/11 [00:03<00:00,  3.28batch/s, accuracy=83, loss=0.337] \n",
      "Validation: 100%|██████████| 3/3 [00:00<00:00, 14.49batch/s, accuracy=84.1, loss=0.357]\n"
     ]
    },
    {
     "name": "stdout",
     "output_type": "stream",
     "text": [
      "------------------------------\n",
      "Epoch [99/100]\n"
     ]
    },
    {
     "name": "stderr",
     "output_type": "stream",
     "text": [
      "Training: 100%|██████████| 11/11 [00:03<00:00,  3.27batch/s, accuracy=82.5, loss=0.415]\n",
      "Validation: 100%|██████████| 3/3 [00:00<00:00, 10.79batch/s, accuracy=84.1, loss=0.357]\n"
     ]
    },
    {
     "name": "stdout",
     "output_type": "stream",
     "text": [
      "------------------------------\n",
      "Epoch [100/100]\n"
     ]
    },
    {
     "name": "stderr",
     "output_type": "stream",
     "text": [
      "Training: 100%|██████████| 11/11 [00:03<00:00,  3.19batch/s, accuracy=82.9, loss=0.432]\n",
      "Validation: 100%|██████████| 3/3 [00:00<00:00, 13.01batch/s, accuracy=84.2, loss=0.355]"
     ]
    },
    {
     "name": "stdout",
     "output_type": "stream",
     "text": [
      "------------------------------\n"
     ]
    },
    {
     "name": "stderr",
     "output_type": "stream",
     "text": [
      "\n"
     ]
    }
   ],
   "source": [
    "train_accuracies, train_losses, val_accuracy, val_losses = train_model(model, optimizer, criterion, \n",
    "                                                                       train_dataloader, test_dataloader, dataset, num_epochs=num_epochs, device=device)"
   ]
  },
  {
   "cell_type": "code",
   "execution_count": 16,
   "metadata": {},
   "outputs": [],
   "source": [
    "def plot_metric(metric, train_metric, val_metric, epochs=50):\n",
    "    plt.figure(figsize=(10, 5)) \n",
    "    plt.plot(range(1, epochs + 1), train_metric, label=f'Training {metric}', alpha=0.5) \n",
    "    plt.plot(range(1, epochs + 1), val_metric, label=f'Validation {metric}', alpha=0.5)  \n",
    "    plt.xlabel('Epoch') \n",
    "    plt.ylabel(metric) \n",
    "    plt.title(f'Training and Validation {metric} Over Epochs') \n",
    "    plt.legend() \n",
    "    plt.show()"
   ]
  },
  {
   "cell_type": "code",
   "execution_count": 22,
   "metadata": {},
   "outputs": [
    {
     "data": {
      "image/png": "[encoded data removed]",
      "text/plain": [
       "<Figure size 1000x500 with 1 Axes>"
      ]
     },
     "metadata": {},
     "output_type": "display_data"
    },
    {
     "data": {
      "image/png": "[encoded data removed]",
      "text/plain": [
       "<Figure size 1000x500 with 1 Axes>"
      ]
     },
     "metadata": {},
     "output_type": "display_data"
    }
   ],
   "source": [
    "plot_metric('Accuracy', train_accuracies, val_accuracy, epochs=num_epochs)\n",
    "plot_metric('Loss', train_losses, val_losses, epochs=num_epochs)"
   ]
  },
  {
   "cell_type": "code",
   "execution_count": 23,
   "metadata": {},
   "outputs": [],
   "source": [
    "class conv_block(nn.Module):\n",
    "  def __init__(self, in_channels, out_channels, **kwargs):\n",
    "    super(conv_block, self).__init__()\n",
    "    self.relu = nn.ReLU()\n",
    "    self.conv = nn.Conv2d(in_channels, out_channels, **kwargs)\n",
    "    self.batchnorm = nn.BatchNorm2d(out_channels)\n",
    "\n",
    "  def forward(self, x):\n",
    "    return self.relu(self.batchnorm(self.conv(x)))"
   ]
  },
  {
   "cell_type": "code",
   "execution_count": 40,
   "metadata": {},
   "outputs": [],
   "source": [
    "class ImprovedSkinCancerCNN(nn.Module):\n",
    "    def __init__(self):\n",
    "        super(ImprovedSkinCancerCNN, self).__init__()\n",
    "        \n",
    "        self.conv1 = conv_block(in_channels=3, out_channels=64, kernel_size=3, padding=1, stride=1)  \n",
    "        self.pool1 = nn.MaxPool2d(kernel_size=2, stride=2)  \n",
    "        self.dropout1 = nn.Dropout(p=0.15) \n",
    "        \n",
    "        self.conv2 = conv_block(in_channels=64, out_channels=128, kernel_size=3, padding=1, stride=1)  \n",
    "        self.pool2 = nn.MaxPool2d(kernel_size=2, stride=2) \n",
    "        self.dropout2 = nn.Dropout(p=0.15) \n",
    "        \n",
    "        self.conv3 = conv_block(in_channels=128, out_channels=256, kernel_size=3, padding=1, stride=1) \n",
    "        self.pool3 = nn.MaxPool2d(kernel_size=1, stride=2)\n",
    "        self.dropout3 = nn.Dropout(p=0.15) \n",
    "        \n",
    "        self.conv4 = conv_block(in_channels=256, out_channels=512, kernel_size=3, padding=1, stride=1)\n",
    "        self.pool4 = nn.MaxPool2d(kernel_size=2, stride=2)\n",
    "        self.dropout4 = nn.Dropout(p=0.15) \n",
    "        \n",
    "        self.flatten = nn.Flatten()\n",
    "        \n",
    "        self.fc1 = nn.Linear(2 * 2 * 512, 512) \n",
    "        self.fc2 = nn.Linear(512, 64)  \n",
    "        self.fc3 = nn.Linear(64, 2)   \n",
    "\n",
    "    def forward(self, x):\n",
    "        x = self.conv1(x)\n",
    "        x = self.pool1(x)\n",
    "        x = self.dropout1(x) \n",
    "        \n",
    "        x = self.conv2(x)\n",
    "        x = self.pool2(x)\n",
    "        x = self.dropout2(x) \n",
    "        \n",
    "        x = self.conv3(x)\n",
    "        x = self.pool3(x)\n",
    "        x = self.dropout3(x) \n",
    "        \n",
    "        x = self.conv4(x)\n",
    "        x = self.pool4(x)\n",
    "        x = self.dropout4(x) \n",
    "        \n",
    "        x = self.flatten(x)\n",
    "        \n",
    "        x = F.relu(self.fc1(x))\n",
    "        x = F.relu(self.fc2(x))\n",
    "        x = self.fc3(x)  \n",
    "        return x"
   ]
  },
  {
   "cell_type": "code",
   "execution_count": 41,
   "metadata": {},
   "outputs": [
    {
     "name": "stdout",
     "output_type": "stream",
     "text": [
      "Epoch [1/100]\n"
     ]
    },
    {
     "name": "stderr",
     "output_type": "stream",
     "text": [
      "Training: 100%|██████████| 11/11 [00:03<00:00,  2.97batch/s, accuracy=65.8, loss=0.494]\n",
      "Validation: 100%|██████████| 3/3 [00:00<00:00, 11.87batch/s, accuracy=56.8, loss=0.653]\n"
     ]
    },
    {
     "name": "stdout",
     "output_type": "stream",
     "text": [
      "------------------------------\n",
      "Epoch [2/100]\n"
     ]
    },
    {
     "name": "stderr",
     "output_type": "stream",
     "text": [
      "Training: 100%|██████████| 11/11 [00:03<00:00,  2.96batch/s, accuracy=78.3, loss=0.37] \n",
      "Validation: 100%|██████████| 3/3 [00:00<00:00, 11.19batch/s, accuracy=61.8, loss=0.73] \n"
     ]
    },
    {
     "name": "stdout",
     "output_type": "stream",
     "text": [
      "------------------------------\n",
      "Epoch [3/100]\n"
     ]
    },
    {
     "name": "stderr",
     "output_type": "stream",
     "text": [
      "Training: 100%|██████████| 11/11 [00:03<00:00,  3.04batch/s, accuracy=79.4, loss=0.392]\n",
      "Validation: 100%|██████████| 3/3 [00:00<00:00, 11.72batch/s, accuracy=76.7, loss=0.419]\n"
     ]
    },
    {
     "name": "stdout",
     "output_type": "stream",
     "text": [
      "------------------------------\n",
      "Epoch [4/100]\n"
     ]
    },
    {
     "name": "stderr",
     "output_type": "stream",
     "text": [
      "Training: 100%|██████████| 11/11 [00:03<00:00,  2.95batch/s, accuracy=79.5, loss=0.454]\n",
      "Validation: 100%|██████████| 3/3 [00:00<00:00, 11.92batch/s, accuracy=77.1, loss=0.416]\n"
     ]
    },
    {
     "name": "stdout",
     "output_type": "stream",
     "text": [
      "------------------------------\n",
      "Epoch [5/100]\n"
     ]
    },
    {
     "name": "stderr",
     "output_type": "stream",
     "text": [
      "Training: 100%|██████████| 11/11 [00:03<00:00,  3.09batch/s, accuracy=81.5, loss=0.363]\n",
      "Validation: 100%|██████████| 3/3 [00:00<00:00, 12.15batch/s, accuracy=82.7, loss=0.336]\n"
     ]
    },
    {
     "name": "stdout",
     "output_type": "stream",
     "text": [
      "------------------------------\n",
      "Epoch [6/100]\n"
     ]
    },
    {
     "name": "stderr",
     "output_type": "stream",
     "text": [
      "Training: 100%|██████████| 11/11 [00:03<00:00,  3.16batch/s, accuracy=82.1, loss=0.351]\n",
      "Validation: 100%|██████████| 3/3 [00:00<00:00, 11.81batch/s, accuracy=81.2, loss=0.362]\n"
     ]
    },
    {
     "name": "stdout",
     "output_type": "stream",
     "text": [
      "------------------------------\n",
      "Epoch [7/100]\n"
     ]
    },
    {
     "name": "stderr",
     "output_type": "stream",
     "text": [
      "Training: 100%|██████████| 11/11 [00:03<00:00,  3.11batch/s, accuracy=81.8, loss=0.463]\n",
      "Validation: 100%|██████████| 3/3 [00:00<00:00, 10.96batch/s, accuracy=83, loss=0.335]  \n"
     ]
    },
    {
     "name": "stdout",
     "output_type": "stream",
     "text": [
      "------------------------------\n",
      "Epoch [8/100]\n"
     ]
    },
    {
     "name": "stderr",
     "output_type": "stream",
     "text": [
      "Training: 100%|██████████| 11/11 [00:03<00:00,  3.05batch/s, accuracy=81.5, loss=0.327]\n",
      "Validation: 100%|██████████| 3/3 [00:00<00:00, 11.86batch/s, accuracy=79.8, loss=0.381]\n"
     ]
    },
    {
     "name": "stdout",
     "output_type": "stream",
     "text": [
      "------------------------------\n",
      "Epoch [9/100]\n"
     ]
    },
    {
     "name": "stderr",
     "output_type": "stream",
     "text": [
      "Training: 100%|██████████| 11/11 [00:03<00:00,  3.31batch/s, accuracy=82.1, loss=0.348]\n",
      "Validation: 100%|██████████| 3/3 [00:00<00:00, 10.95batch/s, accuracy=83.5, loss=0.331]\n"
     ]
    },
    {
     "name": "stdout",
     "output_type": "stream",
     "text": [
      "------------------------------\n",
      "Epoch [10/100]\n"
     ]
    },
    {
     "name": "stderr",
     "output_type": "stream",
     "text": [
      "Training: 100%|██████████| 11/11 [00:03<00:00,  3.20batch/s, accuracy=83.3, loss=0.425]\n",
      "Validation: 100%|██████████| 3/3 [00:00<00:00, 12.30batch/s, accuracy=83.6, loss=0.33]\n"
     ]
    },
    {
     "name": "stdout",
     "output_type": "stream",
     "text": [
      "------------------------------\n",
      "Epoch [11/100]\n"
     ]
    },
    {
     "name": "stderr",
     "output_type": "stream",
     "text": [
      "Training: 100%|██████████| 11/11 [00:03<00:00,  3.25batch/s, accuracy=83, loss=0.318] \n",
      "Validation: 100%|██████████| 3/3 [00:00<00:00, 11.56batch/s, accuracy=82.3, loss=0.37] \n"
     ]
    },
    {
     "name": "stdout",
     "output_type": "stream",
     "text": [
      "------------------------------\n",
      "Epoch [12/100]\n"
     ]
    },
    {
     "name": "stderr",
     "output_type": "stream",
     "text": [
      "Training: 100%|██████████| 11/11 [00:03<00:00,  3.08batch/s, accuracy=83, loss=0.312]  \n",
      "Validation: 100%|██████████| 3/3 [00:00<00:00, 10.11batch/s, accuracy=83.5, loss=0.318]\n"
     ]
    },
    {
     "name": "stdout",
     "output_type": "stream",
     "text": [
      "------------------------------\n",
      "Epoch [13/100]\n"
     ]
    },
    {
     "name": "stderr",
     "output_type": "stream",
     "text": [
      "Training: 100%|██████████| 11/11 [00:03<00:00,  3.06batch/s, accuracy=83.6, loss=0.384]\n",
      "Validation: 100%|██████████| 3/3 [00:00<00:00, 11.44batch/s, accuracy=83.5, loss=0.316]\n"
     ]
    },
    {
     "name": "stdout",
     "output_type": "stream",
     "text": [
      "------------------------------\n",
      "Epoch [14/100]\n"
     ]
    },
    {
     "name": "stderr",
     "output_type": "stream",
     "text": [
      "Training: 100%|██████████| 11/11 [00:03<00:00,  3.02batch/s, accuracy=83.5, loss=0.336]\n",
      "Validation: 100%|██████████| 3/3 [00:00<00:00, 11.57batch/s, accuracy=82.4, loss=0.345]\n"
     ]
    },
    {
     "name": "stdout",
     "output_type": "stream",
     "text": [
      "------------------------------\n",
      "Epoch [15/100]\n"
     ]
    },
    {
     "name": "stderr",
     "output_type": "stream",
     "text": [
      "Training: 100%|██████████| 11/11 [00:03<00:00,  3.07batch/s, accuracy=84.2, loss=0.339]\n",
      "Validation: 100%|██████████| 3/3 [00:00<00:00, 12.13batch/s, accuracy=80.3, loss=0.386]\n"
     ]
    },
    {
     "name": "stdout",
     "output_type": "stream",
     "text": [
      "------------------------------\n",
      "Epoch [16/100]\n"
     ]
    },
    {
     "name": "stderr",
     "output_type": "stream",
     "text": [
      "Training: 100%|██████████| 11/11 [00:03<00:00,  3.09batch/s, accuracy=83.6, loss=0.359]\n",
      "Validation: 100%|██████████| 3/3 [00:00<00:00, 11.12batch/s, accuracy=81.1, loss=0.344]\n"
     ]
    },
    {
     "name": "stdout",
     "output_type": "stream",
     "text": [
      "------------------------------\n",
      "Epoch [17/100]\n"
     ]
    },
    {
     "name": "stderr",
     "output_type": "stream",
     "text": [
      "Training: 100%|██████████| 11/11 [00:03<00:00,  3.03batch/s, accuracy=83.6, loss=0.394]\n",
      "Validation: 100%|██████████| 3/3 [00:00<00:00, 11.95batch/s, accuracy=82.7, loss=0.336]\n"
     ]
    },
    {
     "name": "stdout",
     "output_type": "stream",
     "text": [
      "------------------------------\n",
      "Epoch [18/100]\n"
     ]
    },
    {
     "name": "stderr",
     "output_type": "stream",
     "text": [
      "Training: 100%|██████████| 11/11 [00:03<00:00,  3.14batch/s, accuracy=84.1, loss=0.441]\n",
      "Validation: 100%|██████████| 3/3 [00:00<00:00, 12.14batch/s, accuracy=84.1, loss=0.322]\n"
     ]
    },
    {
     "name": "stdout",
     "output_type": "stream",
     "text": [
      "------------------------------\n",
      "Epoch [19/100]\n"
     ]
    },
    {
     "name": "stderr",
     "output_type": "stream",
     "text": [
      "Training: 100%|██████████| 11/11 [00:03<00:00,  3.19batch/s, accuracy=83.3, loss=0.38] \n",
      "Validation: 100%|██████████| 3/3 [00:00<00:00, 11.37batch/s, accuracy=84.7, loss=0.302]\n"
     ]
    },
    {
     "name": "stdout",
     "output_type": "stream",
     "text": [
      "------------------------------\n",
      "Epoch [20/100]\n"
     ]
    },
    {
     "name": "stderr",
     "output_type": "stream",
     "text": [
      "Training: 100%|██████████| 11/11 [00:03<00:00,  3.12batch/s, accuracy=84.8, loss=0.311]\n",
      "Validation: 100%|██████████| 3/3 [00:00<00:00, 12.77batch/s, accuracy=83, loss=0.341]  \n"
     ]
    },
    {
     "name": "stdout",
     "output_type": "stream",
     "text": [
      "------------------------------\n",
      "Epoch [21/100]\n"
     ]
    },
    {
     "name": "stderr",
     "output_type": "stream",
     "text": [
      "Training: 100%|██████████| 11/11 [00:03<00:00,  3.30batch/s, accuracy=84.6, loss=0.313]\n",
      "Validation: 100%|██████████| 3/3 [00:00<00:00, 11.46batch/s, accuracy=84.2, loss=0.312]\n"
     ]
    },
    {
     "name": "stdout",
     "output_type": "stream",
     "text": [
      "------------------------------\n",
      "Epoch [22/100]\n"
     ]
    },
    {
     "name": "stderr",
     "output_type": "stream",
     "text": [
      "Training: 100%|██████████| 11/11 [00:03<00:00,  3.02batch/s, accuracy=84.6, loss=0.426]\n",
      "Validation: 100%|██████████| 3/3 [00:00<00:00, 12.24batch/s, accuracy=83.5, loss=0.32]\n"
     ]
    },
    {
     "name": "stdout",
     "output_type": "stream",
     "text": [
      "------------------------------\n",
      "Epoch [23/100]\n"
     ]
    },
    {
     "name": "stderr",
     "output_type": "stream",
     "text": [
      "Training: 100%|██████████| 11/11 [00:03<00:00,  3.17batch/s, accuracy=85.2, loss=0.455]\n",
      "Validation: 100%|██████████| 3/3 [00:00<00:00, 12.00batch/s, accuracy=82.6, loss=0.313]\n"
     ]
    },
    {
     "name": "stdout",
     "output_type": "stream",
     "text": [
      "------------------------------\n",
      "Epoch [24/100]\n"
     ]
    },
    {
     "name": "stderr",
     "output_type": "stream",
     "text": [
      "Training: 100%|██████████| 11/11 [00:03<00:00,  3.23batch/s, accuracy=84.5, loss=0.341]\n",
      "Validation: 100%|██████████| 3/3 [00:00<00:00, 12.44batch/s, accuracy=80, loss=0.409] \n"
     ]
    },
    {
     "name": "stdout",
     "output_type": "stream",
     "text": [
      "------------------------------\n",
      "Epoch [25/100]\n"
     ]
    },
    {
     "name": "stderr",
     "output_type": "stream",
     "text": [
      "Training: 100%|██████████| 11/11 [00:03<00:00,  3.24batch/s, accuracy=85.6, loss=0.279]\n",
      "Validation: 100%|██████████| 3/3 [00:00<00:00, 12.66batch/s, accuracy=82.9, loss=0.316]\n"
     ]
    },
    {
     "name": "stdout",
     "output_type": "stream",
     "text": [
      "------------------------------\n",
      "Epoch [26/100]\n"
     ]
    },
    {
     "name": "stderr",
     "output_type": "stream",
     "text": [
      "Training: 100%|██████████| 11/11 [00:03<00:00,  3.18batch/s, accuracy=84.5, loss=0.274]\n",
      "Validation: 100%|██████████| 3/3 [00:00<00:00, 11.22batch/s, accuracy=80.6, loss=0.391]\n"
     ]
    },
    {
     "name": "stdout",
     "output_type": "stream",
     "text": [
      "------------------------------\n",
      "Epoch [27/100]\n"
     ]
    },
    {
     "name": "stderr",
     "output_type": "stream",
     "text": [
      "Training: 100%|██████████| 11/11 [00:03<00:00,  3.07batch/s, accuracy=84.9, loss=0.226]\n",
      "Validation: 100%|██████████| 3/3 [00:00<00:00, 10.05batch/s, accuracy=85, loss=0.311]  \n"
     ]
    },
    {
     "name": "stdout",
     "output_type": "stream",
     "text": [
      "------------------------------\n",
      "Epoch [28/100]\n"
     ]
    },
    {
     "name": "stderr",
     "output_type": "stream",
     "text": [
      "Training: 100%|██████████| 11/11 [00:03<00:00,  2.92batch/s, accuracy=86.2, loss=0.206]\n",
      "Validation: 100%|██████████| 3/3 [00:00<00:00, 12.72batch/s, accuracy=84.5, loss=0.3]\n"
     ]
    },
    {
     "name": "stdout",
     "output_type": "stream",
     "text": [
      "------------------------------\n",
      "Epoch [29/100]\n"
     ]
    },
    {
     "name": "stderr",
     "output_type": "stream",
     "text": [
      "Training: 100%|██████████| 11/11 [00:03<00:00,  3.13batch/s, accuracy=85.6, loss=0.26] \n",
      "Validation: 100%|██████████| 3/3 [00:00<00:00, 11.67batch/s, accuracy=84.4, loss=0.312]\n"
     ]
    },
    {
     "name": "stdout",
     "output_type": "stream",
     "text": [
      "------------------------------\n",
      "Epoch [30/100]\n"
     ]
    },
    {
     "name": "stderr",
     "output_type": "stream",
     "text": [
      "Training: 100%|██████████| 11/11 [00:03<00:00,  2.99batch/s, accuracy=85.6, loss=0.2]  \n",
      "Validation: 100%|██████████| 3/3 [00:00<00:00, 11.71batch/s, accuracy=81.7, loss=0.335]\n"
     ]
    },
    {
     "name": "stdout",
     "output_type": "stream",
     "text": [
      "------------------------------\n",
      "Epoch [31/100]\n"
     ]
    },
    {
     "name": "stderr",
     "output_type": "stream",
     "text": [
      "Training: 100%|██████████| 11/11 [00:03<00:00,  3.02batch/s, accuracy=86, loss=0.335]  \n",
      "Validation: 100%|██████████| 3/3 [00:00<00:00,  9.92batch/s, accuracy=81.8, loss=0.352]\n"
     ]
    },
    {
     "name": "stdout",
     "output_type": "stream",
     "text": [
      "------------------------------\n",
      "Epoch [32/100]\n"
     ]
    },
    {
     "name": "stderr",
     "output_type": "stream",
     "text": [
      "Training: 100%|██████████| 11/11 [00:03<00:00,  3.07batch/s, accuracy=86.4, loss=0.281]\n",
      "Validation: 100%|██████████| 3/3 [00:00<00:00, 10.07batch/s, accuracy=84.8, loss=0.295]\n"
     ]
    },
    {
     "name": "stdout",
     "output_type": "stream",
     "text": [
      "------------------------------\n",
      "Epoch [33/100]\n"
     ]
    },
    {
     "name": "stderr",
     "output_type": "stream",
     "text": [
      "Training: 100%|██████████| 11/11 [00:03<00:00,  3.11batch/s, accuracy=86.4, loss=0.248]\n",
      "Validation: 100%|██████████| 3/3 [00:00<00:00, 11.39batch/s, accuracy=78.6, loss=0.437]\n"
     ]
    },
    {
     "name": "stdout",
     "output_type": "stream",
     "text": [
      "------------------------------\n",
      "Epoch [34/100]\n"
     ]
    },
    {
     "name": "stderr",
     "output_type": "stream",
     "text": [
      "Training: 100%|██████████| 11/11 [00:03<00:00,  3.12batch/s, accuracy=86, loss=0.318]  \n",
      "Validation: 100%|██████████| 3/3 [00:00<00:00,  9.97batch/s, accuracy=82.9, loss=0.357]\n"
     ]
    },
    {
     "name": "stdout",
     "output_type": "stream",
     "text": [
      "------------------------------\n",
      "Epoch [35/100]\n"
     ]
    },
    {
     "name": "stderr",
     "output_type": "stream",
     "text": [
      "Training: 100%|██████████| 11/11 [00:03<00:00,  3.10batch/s, accuracy=86.6, loss=0.352]\n",
      "Validation: 100%|██████████| 3/3 [00:00<00:00, 10.05batch/s, accuracy=86.2, loss=0.284]\n"
     ]
    },
    {
     "name": "stdout",
     "output_type": "stream",
     "text": [
      "------------------------------\n",
      "Epoch [36/100]\n"
     ]
    },
    {
     "name": "stderr",
     "output_type": "stream",
     "text": [
      "Training: 100%|██████████| 11/11 [00:03<00:00,  3.13batch/s, accuracy=86.4, loss=0.348]\n",
      "Validation: 100%|██████████| 3/3 [00:00<00:00, 11.19batch/s, accuracy=82.1, loss=0.35] \n"
     ]
    },
    {
     "name": "stdout",
     "output_type": "stream",
     "text": [
      "------------------------------\n",
      "Epoch [37/100]\n"
     ]
    },
    {
     "name": "stderr",
     "output_type": "stream",
     "text": [
      "Training: 100%|██████████| 11/11 [00:03<00:00,  3.15batch/s, accuracy=86.1, loss=0.212]\n",
      "Validation: 100%|██████████| 3/3 [00:00<00:00, 11.06batch/s, accuracy=84.2, loss=0.321]\n"
     ]
    },
    {
     "name": "stdout",
     "output_type": "stream",
     "text": [
      "------------------------------\n",
      "Epoch [38/100]\n"
     ]
    },
    {
     "name": "stderr",
     "output_type": "stream",
     "text": [
      "Training: 100%|██████████| 11/11 [00:03<00:00,  3.17batch/s, accuracy=86.9, loss=0.254]\n",
      "Validation: 100%|██████████| 3/3 [00:00<00:00, 10.98batch/s, accuracy=84.8, loss=0.287]\n"
     ]
    },
    {
     "name": "stdout",
     "output_type": "stream",
     "text": [
      "------------------------------\n",
      "Epoch [39/100]\n"
     ]
    },
    {
     "name": "stderr",
     "output_type": "stream",
     "text": [
      "Training: 100%|██████████| 11/11 [00:03<00:00,  2.98batch/s, accuracy=86.8, loss=0.329]\n",
      "Validation: 100%|██████████| 3/3 [00:00<00:00, 10.53batch/s, accuracy=86.1, loss=0.278]\n"
     ]
    },
    {
     "name": "stdout",
     "output_type": "stream",
     "text": [
      "------------------------------\n",
      "Epoch [40/100]\n"
     ]
    },
    {
     "name": "stderr",
     "output_type": "stream",
     "text": [
      "Training: 100%|██████████| 11/11 [00:03<00:00,  2.99batch/s, accuracy=86.4, loss=0.298]\n",
      "Validation: 100%|██████████| 3/3 [00:00<00:00, 11.04batch/s, accuracy=84.5, loss=0.268]\n"
     ]
    },
    {
     "name": "stdout",
     "output_type": "stream",
     "text": [
      "------------------------------\n",
      "Epoch [41/100]\n"
     ]
    },
    {
     "name": "stderr",
     "output_type": "stream",
     "text": [
      "Training: 100%|██████████| 11/11 [00:04<00:00,  2.37batch/s, accuracy=87.5, loss=0.261]\n",
      "Validation: 100%|██████████| 3/3 [00:00<00:00,  5.05batch/s, accuracy=79.4, loss=0.439]\n"
     ]
    },
    {
     "name": "stdout",
     "output_type": "stream",
     "text": [
      "------------------------------\n",
      "Epoch [42/100]\n"
     ]
    },
    {
     "name": "stderr",
     "output_type": "stream",
     "text": [
      "Training: 100%|██████████| 11/11 [00:03<00:00,  2.77batch/s, accuracy=86.3, loss=0.256]\n",
      "Validation: 100%|██████████| 3/3 [00:00<00:00, 10.78batch/s, accuracy=85.8, loss=0.273]\n"
     ]
    },
    {
     "name": "stdout",
     "output_type": "stream",
     "text": [
      "------------------------------\n",
      "Epoch [43/100]\n"
     ]
    },
    {
     "name": "stderr",
     "output_type": "stream",
     "text": [
      "Training: 100%|██████████| 11/11 [00:03<00:00,  2.94batch/s, accuracy=86.3, loss=0.263]\n",
      "Validation: 100%|██████████| 3/3 [00:00<00:00,  6.69batch/s, accuracy=84.4, loss=0.337]\n"
     ]
    },
    {
     "name": "stdout",
     "output_type": "stream",
     "text": [
      "------------------------------\n",
      "Epoch [44/100]\n"
     ]
    },
    {
     "name": "stderr",
     "output_type": "stream",
     "text": [
      "Training: 100%|██████████| 11/11 [00:05<00:00,  1.99batch/s, accuracy=86, loss=0.303]  \n",
      "Validation: 100%|██████████| 3/3 [00:00<00:00, 10.24batch/s, accuracy=86.2, loss=0.282]\n"
     ]
    },
    {
     "name": "stdout",
     "output_type": "stream",
     "text": [
      "------------------------------\n",
      "Epoch [45/100]\n"
     ]
    },
    {
     "name": "stderr",
     "output_type": "stream",
     "text": [
      "Training: 100%|██████████| 11/11 [00:04<00:00,  2.33batch/s, accuracy=87, loss=0.369]  \n",
      "Validation: 100%|██████████| 3/3 [00:00<00:00, 11.93batch/s, accuracy=82.9, loss=0.324]\n"
     ]
    },
    {
     "name": "stdout",
     "output_type": "stream",
     "text": [
      "------------------------------\n",
      "Epoch [46/100]\n"
     ]
    },
    {
     "name": "stderr",
     "output_type": "stream",
     "text": [
      "Training: 100%|██████████| 11/11 [00:03<00:00,  2.97batch/s, accuracy=86.8, loss=0.207]\n",
      "Validation: 100%|██████████| 3/3 [00:00<00:00, 11.34batch/s, accuracy=84.4, loss=0.308]\n"
     ]
    },
    {
     "name": "stdout",
     "output_type": "stream",
     "text": [
      "------------------------------\n",
      "Epoch [47/100]\n"
     ]
    },
    {
     "name": "stderr",
     "output_type": "stream",
     "text": [
      "Training: 100%|██████████| 11/11 [00:03<00:00,  2.86batch/s, accuracy=87.6, loss=0.238]\n",
      "Validation: 100%|██████████| 3/3 [00:00<00:00, 11.08batch/s, accuracy=86.4, loss=0.28] \n"
     ]
    },
    {
     "name": "stdout",
     "output_type": "stream",
     "text": [
      "------------------------------\n",
      "Epoch [48/100]\n"
     ]
    },
    {
     "name": "stderr",
     "output_type": "stream",
     "text": [
      "Training: 100%|██████████| 11/11 [00:04<00:00,  2.52batch/s, accuracy=87.9, loss=0.229]\n",
      "Validation: 100%|██████████| 3/3 [00:00<00:00, 11.63batch/s, accuracy=80.8, loss=0.374]\n"
     ]
    },
    {
     "name": "stdout",
     "output_type": "stream",
     "text": [
      "------------------------------\n",
      "Epoch [49/100]\n"
     ]
    },
    {
     "name": "stderr",
     "output_type": "stream",
     "text": [
      "Training: 100%|██████████| 11/11 [00:03<00:00,  2.93batch/s, accuracy=87.5, loss=0.24] \n",
      "Validation: 100%|██████████| 3/3 [00:00<00:00, 10.44batch/s, accuracy=86.1, loss=0.318]\n"
     ]
    },
    {
     "name": "stdout",
     "output_type": "stream",
     "text": [
      "------------------------------\n",
      "Epoch [50/100]\n"
     ]
    },
    {
     "name": "stderr",
     "output_type": "stream",
     "text": [
      "Training: 100%|██████████| 11/11 [00:04<00:00,  2.26batch/s, accuracy=87.5, loss=0.252]\n",
      "Validation: 100%|██████████| 3/3 [00:00<00:00,  7.33batch/s, accuracy=87, loss=0.289]  \n"
     ]
    },
    {
     "name": "stdout",
     "output_type": "stream",
     "text": [
      "------------------------------\n",
      "Epoch [51/100]\n"
     ]
    },
    {
     "name": "stderr",
     "output_type": "stream",
     "text": [
      "Training: 100%|██████████| 11/11 [00:04<00:00,  2.24batch/s, accuracy=87.1, loss=0.284]\n",
      "Validation: 100%|██████████| 3/3 [00:00<00:00, 10.64batch/s, accuracy=82.6, loss=0.343]\n"
     ]
    },
    {
     "name": "stdout",
     "output_type": "stream",
     "text": [
      "------------------------------\n",
      "Epoch [52/100]\n"
     ]
    },
    {
     "name": "stderr",
     "output_type": "stream",
     "text": [
      "Training: 100%|██████████| 11/11 [00:06<00:00,  1.75batch/s, accuracy=87.9, loss=0.266]\n",
      "Validation: 100%|██████████| 3/3 [00:00<00:00, 10.31batch/s, accuracy=86.8, loss=0.264]\n"
     ]
    },
    {
     "name": "stdout",
     "output_type": "stream",
     "text": [
      "------------------------------\n",
      "Epoch [53/100]\n"
     ]
    },
    {
     "name": "stderr",
     "output_type": "stream",
     "text": [
      "Training: 100%|██████████| 11/11 [00:04<00:00,  2.44batch/s, accuracy=87.4, loss=0.274]\n",
      "Validation: 100%|██████████| 3/3 [00:00<00:00, 11.53batch/s, accuracy=84.8, loss=0.329]\n"
     ]
    },
    {
     "name": "stdout",
     "output_type": "stream",
     "text": [
      "------------------------------\n",
      "Epoch [54/100]\n"
     ]
    },
    {
     "name": "stderr",
     "output_type": "stream",
     "text": [
      "Training: 100%|██████████| 11/11 [00:04<00:00,  2.55batch/s, accuracy=87.2, loss=0.317]\n",
      "Validation: 100%|██████████| 3/3 [00:00<00:00, 10.87batch/s, accuracy=86.5, loss=0.258]\n"
     ]
    },
    {
     "name": "stdout",
     "output_type": "stream",
     "text": [
      "------------------------------\n",
      "Epoch [55/100]\n"
     ]
    },
    {
     "name": "stderr",
     "output_type": "stream",
     "text": [
      "Training: 100%|██████████| 11/11 [00:04<00:00,  2.68batch/s, accuracy=87.4, loss=0.271]\n",
      "Validation: 100%|██████████| 3/3 [00:00<00:00, 10.96batch/s, accuracy=80.9, loss=0.4]  \n"
     ]
    },
    {
     "name": "stdout",
     "output_type": "stream",
     "text": [
      "------------------------------\n",
      "Epoch [56/100]\n"
     ]
    },
    {
     "name": "stderr",
     "output_type": "stream",
     "text": [
      "Training: 100%|██████████| 11/11 [00:04<00:00,  2.57batch/s, accuracy=88.2, loss=0.203]\n",
      "Validation: 100%|██████████| 3/3 [00:00<00:00,  9.97batch/s, accuracy=86.4, loss=0.268]\n"
     ]
    },
    {
     "name": "stdout",
     "output_type": "stream",
     "text": [
      "------------------------------\n",
      "Epoch [57/100]\n"
     ]
    },
    {
     "name": "stderr",
     "output_type": "stream",
     "text": [
      "Training: 100%|██████████| 11/11 [00:03<00:00,  2.86batch/s, accuracy=88.6, loss=0.248]\n",
      "Validation: 100%|██████████| 3/3 [00:00<00:00, 11.55batch/s, accuracy=86.1, loss=0.286]\n"
     ]
    },
    {
     "name": "stdout",
     "output_type": "stream",
     "text": [
      "------------------------------\n",
      "Epoch [58/100]\n"
     ]
    },
    {
     "name": "stderr",
     "output_type": "stream",
     "text": [
      "Training: 100%|██████████| 11/11 [00:04<00:00,  2.70batch/s, accuracy=87.9, loss=0.229]\n",
      "Validation: 100%|██████████| 3/3 [00:00<00:00,  7.81batch/s, accuracy=86.4, loss=0.301]\n"
     ]
    },
    {
     "name": "stdout",
     "output_type": "stream",
     "text": [
      "------------------------------\n",
      "Epoch [59/100]\n"
     ]
    },
    {
     "name": "stderr",
     "output_type": "stream",
     "text": [
      "Training: 100%|██████████| 11/11 [00:04<00:00,  2.70batch/s, accuracy=88.5, loss=0.188]\n",
      "Validation: 100%|██████████| 3/3 [00:00<00:00, 10.64batch/s, accuracy=85.3, loss=0.282]\n"
     ]
    },
    {
     "name": "stdout",
     "output_type": "stream",
     "text": [
      "------------------------------\n",
      "Epoch [60/100]\n"
     ]
    },
    {
     "name": "stderr",
     "output_type": "stream",
     "text": [
      "Training: 100%|██████████| 11/11 [00:03<00:00,  3.05batch/s, accuracy=87.8, loss=0.168]\n",
      "Validation: 100%|██████████| 3/3 [00:00<00:00, 11.90batch/s, accuracy=86.5, loss=0.284]\n"
     ]
    },
    {
     "name": "stdout",
     "output_type": "stream",
     "text": [
      "------------------------------\n",
      "Epoch [61/100]\n"
     ]
    },
    {
     "name": "stderr",
     "output_type": "stream",
     "text": [
      "Training: 100%|██████████| 11/11 [00:04<00:00,  2.47batch/s, accuracy=87.4, loss=0.199]\n",
      "Validation: 100%|██████████| 3/3 [00:00<00:00, 10.67batch/s, accuracy=87.1, loss=0.26] \n"
     ]
    },
    {
     "name": "stdout",
     "output_type": "stream",
     "text": [
      "------------------------------\n",
      "Epoch [62/100]\n"
     ]
    },
    {
     "name": "stderr",
     "output_type": "stream",
     "text": [
      "Training: 100%|██████████| 11/11 [00:04<00:00,  2.45batch/s, accuracy=88.8, loss=0.245]\n",
      "Validation: 100%|██████████| 3/3 [00:00<00:00,  8.98batch/s, accuracy=86.1, loss=0.29] \n"
     ]
    },
    {
     "name": "stdout",
     "output_type": "stream",
     "text": [
      "------------------------------\n",
      "Epoch [63/100]\n"
     ]
    },
    {
     "name": "stderr",
     "output_type": "stream",
     "text": [
      "Training: 100%|██████████| 11/11 [00:03<00:00,  2.84batch/s, accuracy=88.6, loss=0.124]\n",
      "Validation: 100%|██████████| 3/3 [00:00<00:00, 10.67batch/s, accuracy=85.3, loss=0.285]\n"
     ]
    },
    {
     "name": "stdout",
     "output_type": "stream",
     "text": [
      "------------------------------\n",
      "Epoch [64/100]\n"
     ]
    },
    {
     "name": "stderr",
     "output_type": "stream",
     "text": [
      "Training: 100%|██████████| 11/11 [00:03<00:00,  2.80batch/s, accuracy=88.5, loss=0.235]\n",
      "Validation: 100%|██████████| 3/3 [00:00<00:00,  7.88batch/s, accuracy=81.4, loss=0.383]\n"
     ]
    },
    {
     "name": "stdout",
     "output_type": "stream",
     "text": [
      "------------------------------\n",
      "Epoch [65/100]\n"
     ]
    },
    {
     "name": "stderr",
     "output_type": "stream",
     "text": [
      "Training: 100%|██████████| 11/11 [00:03<00:00,  2.93batch/s, accuracy=88.4, loss=0.309]\n",
      "Validation: 100%|██████████| 3/3 [00:00<00:00, 10.46batch/s, accuracy=86.2, loss=0.258]\n"
     ]
    },
    {
     "name": "stdout",
     "output_type": "stream",
     "text": [
      "------------------------------\n",
      "Epoch [66/100]\n"
     ]
    },
    {
     "name": "stderr",
     "output_type": "stream",
     "text": [
      "Training: 100%|██████████| 11/11 [00:05<00:00,  2.15batch/s, accuracy=88.2, loss=0.28] \n",
      "Validation: 100%|██████████| 3/3 [00:00<00:00,  8.33batch/s, accuracy=86.7, loss=0.265]\n"
     ]
    },
    {
     "name": "stdout",
     "output_type": "stream",
     "text": [
      "------------------------------\n",
      "Epoch [67/100]\n"
     ]
    },
    {
     "name": "stderr",
     "output_type": "stream",
     "text": [
      "Training: 100%|██████████| 11/11 [00:04<00:00,  2.28batch/s, accuracy=89.3, loss=0.189]\n",
      "Validation: 100%|██████████| 3/3 [00:00<00:00,  6.92batch/s, accuracy=86.7, loss=0.279]\n"
     ]
    },
    {
     "name": "stdout",
     "output_type": "stream",
     "text": [
      "------------------------------\n",
      "Epoch [68/100]\n"
     ]
    },
    {
     "name": "stderr",
     "output_type": "stream",
     "text": [
      "Training: 100%|██████████| 11/11 [00:04<00:00,  2.68batch/s, accuracy=89, loss=0.276]  \n",
      "Validation: 100%|██████████| 3/3 [00:00<00:00, 10.98batch/s, accuracy=87.9, loss=0.278]\n"
     ]
    },
    {
     "name": "stdout",
     "output_type": "stream",
     "text": [
      "------------------------------\n",
      "Epoch [69/100]\n"
     ]
    },
    {
     "name": "stderr",
     "output_type": "stream",
     "text": [
      "Training: 100%|██████████| 11/11 [00:03<00:00,  3.07batch/s, accuracy=88.6, loss=0.295]\n",
      "Validation: 100%|██████████| 3/3 [00:00<00:00, 11.15batch/s, accuracy=85.3, loss=0.267]\n"
     ]
    },
    {
     "name": "stdout",
     "output_type": "stream",
     "text": [
      "------------------------------\n",
      "Epoch [70/100]\n"
     ]
    },
    {
     "name": "stderr",
     "output_type": "stream",
     "text": [
      "Training: 100%|██████████| 11/11 [00:03<00:00,  3.07batch/s, accuracy=88.6, loss=0.169]\n",
      "Validation: 100%|██████████| 3/3 [00:00<00:00, 11.48batch/s, accuracy=87.1, loss=0.264]\n"
     ]
    },
    {
     "name": "stdout",
     "output_type": "stream",
     "text": [
      "------------------------------\n",
      "Epoch [71/100]\n"
     ]
    },
    {
     "name": "stderr",
     "output_type": "stream",
     "text": [
      "Training: 100%|██████████| 11/11 [00:03<00:00,  3.05batch/s, accuracy=89.1, loss=0.283]\n",
      "Validation: 100%|██████████| 3/3 [00:00<00:00, 11.06batch/s, accuracy=87.7, loss=0.302]\n"
     ]
    },
    {
     "name": "stdout",
     "output_type": "stream",
     "text": [
      "------------------------------\n",
      "Epoch [72/100]\n"
     ]
    },
    {
     "name": "stderr",
     "output_type": "stream",
     "text": [
      "Training: 100%|██████████| 11/11 [00:03<00:00,  3.14batch/s, accuracy=89.2, loss=0.212]\n",
      "Validation: 100%|██████████| 3/3 [00:00<00:00,  9.96batch/s, accuracy=88.3, loss=0.316]\n"
     ]
    },
    {
     "name": "stdout",
     "output_type": "stream",
     "text": [
      "------------------------------\n",
      "Epoch [73/100]\n"
     ]
    },
    {
     "name": "stderr",
     "output_type": "stream",
     "text": [
      "Training: 100%|██████████| 11/11 [00:03<00:00,  3.01batch/s, accuracy=89.4, loss=0.249]\n",
      "Validation: 100%|██████████| 3/3 [00:00<00:00, 10.53batch/s, accuracy=86.1, loss=0.28] \n"
     ]
    },
    {
     "name": "stdout",
     "output_type": "stream",
     "text": [
      "------------------------------\n",
      "Epoch [74/100]\n"
     ]
    },
    {
     "name": "stderr",
     "output_type": "stream",
     "text": [
      "Training: 100%|██████████| 11/11 [00:03<00:00,  3.10batch/s, accuracy=89.6, loss=0.185]\n",
      "Validation: 100%|██████████| 3/3 [00:00<00:00, 11.49batch/s, accuracy=88.2, loss=0.311]\n"
     ]
    },
    {
     "name": "stdout",
     "output_type": "stream",
     "text": [
      "------------------------------\n",
      "Epoch [75/100]\n"
     ]
    },
    {
     "name": "stderr",
     "output_type": "stream",
     "text": [
      "Training: 100%|██████████| 11/11 [00:03<00:00,  3.07batch/s, accuracy=89.1, loss=0.368]\n",
      "Validation: 100%|██████████| 3/3 [00:00<00:00,  9.82batch/s, accuracy=83.5, loss=0.361]\n"
     ]
    },
    {
     "name": "stdout",
     "output_type": "stream",
     "text": [
      "------------------------------\n",
      "Epoch [76/100]\n"
     ]
    },
    {
     "name": "stderr",
     "output_type": "stream",
     "text": [
      "Training: 100%|██████████| 11/11 [00:03<00:00,  3.02batch/s, accuracy=89.6, loss=0.169]\n",
      "Validation: 100%|██████████| 3/3 [00:00<00:00, 11.39batch/s, accuracy=86.8, loss=0.318]\n"
     ]
    },
    {
     "name": "stdout",
     "output_type": "stream",
     "text": [
      "------------------------------\n",
      "Epoch [77/100]\n"
     ]
    },
    {
     "name": "stderr",
     "output_type": "stream",
     "text": [
      "Training: 100%|██████████| 11/11 [00:03<00:00,  3.16batch/s, accuracy=89.7, loss=0.185]\n",
      "Validation: 100%|██████████| 3/3 [00:00<00:00, 12.24batch/s, accuracy=87.4, loss=0.287]\n"
     ]
    },
    {
     "name": "stdout",
     "output_type": "stream",
     "text": [
      "------------------------------\n",
      "Epoch [78/100]\n"
     ]
    },
    {
     "name": "stderr",
     "output_type": "stream",
     "text": [
      "Training: 100%|██████████| 11/11 [00:03<00:00,  3.08batch/s, accuracy=89.3, loss=0.206]\n",
      "Validation: 100%|██████████| 3/3 [00:00<00:00, 10.07batch/s, accuracy=83, loss=0.346]  \n"
     ]
    },
    {
     "name": "stdout",
     "output_type": "stream",
     "text": [
      "------------------------------\n",
      "Epoch [79/100]\n"
     ]
    },
    {
     "name": "stderr",
     "output_type": "stream",
     "text": [
      "Training: 100%|██████████| 11/11 [00:03<00:00,  2.83batch/s, accuracy=89.1, loss=0.308]\n",
      "Validation: 100%|██████████| 3/3 [00:00<00:00, 11.26batch/s, accuracy=83.9, loss=0.354]\n"
     ]
    },
    {
     "name": "stdout",
     "output_type": "stream",
     "text": [
      "------------------------------\n",
      "Epoch [80/100]\n"
     ]
    },
    {
     "name": "stderr",
     "output_type": "stream",
     "text": [
      "Training: 100%|██████████| 11/11 [00:04<00:00,  2.75batch/s, accuracy=88.9, loss=0.23] \n",
      "Validation: 100%|██████████| 3/3 [00:00<00:00, 11.60batch/s, accuracy=87.3, loss=0.269]\n"
     ]
    },
    {
     "name": "stdout",
     "output_type": "stream",
     "text": [
      "------------------------------\n",
      "Epoch [81/100]\n"
     ]
    },
    {
     "name": "stderr",
     "output_type": "stream",
     "text": [
      "Training: 100%|██████████| 11/11 [00:03<00:00,  2.79batch/s, accuracy=89.7, loss=0.143]\n",
      "Validation: 100%|██████████| 3/3 [00:00<00:00, 10.04batch/s, accuracy=84.5, loss=0.37] \n"
     ]
    },
    {
     "name": "stdout",
     "output_type": "stream",
     "text": [
      "------------------------------\n",
      "Epoch [82/100]\n"
     ]
    },
    {
     "name": "stderr",
     "output_type": "stream",
     "text": [
      "Training: 100%|██████████| 11/11 [00:03<00:00,  2.76batch/s, accuracy=90.4, loss=0.226]\n",
      "Validation: 100%|██████████| 3/3 [00:00<00:00,  6.26batch/s, accuracy=87.6, loss=0.28] \n"
     ]
    },
    {
     "name": "stdout",
     "output_type": "stream",
     "text": [
      "------------------------------\n",
      "Epoch [83/100]\n"
     ]
    },
    {
     "name": "stderr",
     "output_type": "stream",
     "text": [
      "Training: 100%|██████████| 11/11 [00:04<00:00,  2.72batch/s, accuracy=90.3, loss=0.269]\n",
      "Validation: 100%|██████████| 3/3 [00:00<00:00,  8.43batch/s, accuracy=87.3, loss=0.286]\n"
     ]
    },
    {
     "name": "stdout",
     "output_type": "stream",
     "text": [
      "------------------------------\n",
      "Epoch [84/100]\n"
     ]
    },
    {
     "name": "stderr",
     "output_type": "stream",
     "text": [
      "Training: 100%|██████████| 11/11 [00:05<00:00,  2.15batch/s, accuracy=89, loss=0.281]  \n",
      "Validation: 100%|██████████| 3/3 [00:00<00:00, 10.23batch/s, accuracy=87.1, loss=0.297]\n"
     ]
    },
    {
     "name": "stdout",
     "output_type": "stream",
     "text": [
      "------------------------------\n",
      "Epoch [85/100]\n"
     ]
    },
    {
     "name": "stderr",
     "output_type": "stream",
     "text": [
      "Training: 100%|██████████| 11/11 [00:03<00:00,  3.15batch/s, accuracy=90.1, loss=0.181]\n",
      "Validation: 100%|██████████| 3/3 [00:00<00:00, 10.65batch/s, accuracy=87.1, loss=0.285]\n"
     ]
    },
    {
     "name": "stdout",
     "output_type": "stream",
     "text": [
      "------------------------------\n",
      "Epoch [86/100]\n"
     ]
    },
    {
     "name": "stderr",
     "output_type": "stream",
     "text": [
      "Training: 100%|██████████| 11/11 [00:03<00:00,  3.09batch/s, accuracy=90.9, loss=0.348]\n",
      "Validation: 100%|██████████| 3/3 [00:00<00:00, 10.49batch/s, accuracy=85.2, loss=0.32] \n"
     ]
    },
    {
     "name": "stdout",
     "output_type": "stream",
     "text": [
      "------------------------------\n",
      "Epoch [87/100]\n"
     ]
    },
    {
     "name": "stderr",
     "output_type": "stream",
     "text": [
      "Training: 100%|██████████| 11/11 [00:03<00:00,  3.10batch/s, accuracy=89.6, loss=0.302]\n",
      "Validation: 100%|██████████| 3/3 [00:00<00:00, 11.86batch/s, accuracy=85.9, loss=0.308]\n"
     ]
    },
    {
     "name": "stdout",
     "output_type": "stream",
     "text": [
      "------------------------------\n",
      "Epoch [88/100]\n"
     ]
    },
    {
     "name": "stderr",
     "output_type": "stream",
     "text": [
      "Training: 100%|██████████| 11/11 [00:03<00:00,  3.10batch/s, accuracy=90.5, loss=0.268]\n",
      "Validation: 100%|██████████| 3/3 [00:00<00:00, 11.14batch/s, accuracy=88.5, loss=0.267]\n"
     ]
    },
    {
     "name": "stdout",
     "output_type": "stream",
     "text": [
      "------------------------------\n",
      "Epoch [89/100]\n"
     ]
    },
    {
     "name": "stderr",
     "output_type": "stream",
     "text": [
      "Training: 100%|██████████| 11/11 [00:03<00:00,  3.08batch/s, accuracy=90, loss=0.116]  \n",
      "Validation: 100%|██████████| 3/3 [00:00<00:00,  9.90batch/s, accuracy=87, loss=0.326]  \n"
     ]
    },
    {
     "name": "stdout",
     "output_type": "stream",
     "text": [
      "------------------------------\n",
      "Epoch [90/100]\n"
     ]
    },
    {
     "name": "stderr",
     "output_type": "stream",
     "text": [
      "Training: 100%|██████████| 11/11 [00:03<00:00,  2.93batch/s, accuracy=90.4, loss=0.218]\n",
      "Validation: 100%|██████████| 3/3 [00:00<00:00,  9.26batch/s, accuracy=88, loss=0.288]  \n"
     ]
    },
    {
     "name": "stdout",
     "output_type": "stream",
     "text": [
      "------------------------------\n",
      "Epoch [91/100]\n"
     ]
    },
    {
     "name": "stderr",
     "output_type": "stream",
     "text": [
      "Training: 100%|██████████| 11/11 [00:03<00:00,  3.06batch/s, accuracy=90.5, loss=0.247]\n",
      "Validation: 100%|██████████| 3/3 [00:00<00:00, 10.74batch/s, accuracy=87.3, loss=0.292]\n"
     ]
    },
    {
     "name": "stdout",
     "output_type": "stream",
     "text": [
      "------------------------------\n",
      "Epoch [92/100]\n"
     ]
    },
    {
     "name": "stderr",
     "output_type": "stream",
     "text": [
      "Training: 100%|██████████| 11/11 [00:03<00:00,  3.12batch/s, accuracy=90.2, loss=0.196]\n",
      "Validation: 100%|██████████| 3/3 [00:00<00:00,  9.97batch/s, accuracy=87.3, loss=0.267]\n"
     ]
    },
    {
     "name": "stdout",
     "output_type": "stream",
     "text": [
      "------------------------------\n",
      "Epoch [93/100]\n"
     ]
    },
    {
     "name": "stderr",
     "output_type": "stream",
     "text": [
      "Training: 100%|██████████| 11/11 [00:03<00:00,  3.08batch/s, accuracy=91.4, loss=0.244]\n",
      "Validation: 100%|██████████| 3/3 [00:00<00:00, 11.53batch/s, accuracy=85.3, loss=0.346]\n"
     ]
    },
    {
     "name": "stdout",
     "output_type": "stream",
     "text": [
      "------------------------------\n",
      "Epoch [94/100]\n"
     ]
    },
    {
     "name": "stderr",
     "output_type": "stream",
     "text": [
      "Training: 100%|██████████| 11/11 [00:03<00:00,  3.01batch/s, accuracy=91.1, loss=0.14] \n",
      "Validation: 100%|██████████| 3/3 [00:00<00:00, 10.86batch/s, accuracy=86.4, loss=0.316]\n"
     ]
    },
    {
     "name": "stdout",
     "output_type": "stream",
     "text": [
      "------------------------------\n",
      "Epoch [95/100]\n"
     ]
    },
    {
     "name": "stderr",
     "output_type": "stream",
     "text": [
      "Training: 100%|██████████| 11/11 [00:03<00:00,  3.15batch/s, accuracy=90.8, loss=0.239]\n",
      "Validation: 100%|██████████| 3/3 [00:00<00:00, 12.34batch/s, accuracy=87.7, loss=0.329]\n"
     ]
    },
    {
     "name": "stdout",
     "output_type": "stream",
     "text": [
      "------------------------------\n",
      "Epoch [96/100]\n"
     ]
    },
    {
     "name": "stderr",
     "output_type": "stream",
     "text": [
      "Training: 100%|██████████| 11/11 [00:03<00:00,  3.20batch/s, accuracy=90.9, loss=0.253]\n",
      "Validation: 100%|██████████| 3/3 [00:00<00:00,  9.52batch/s, accuracy=86.8, loss=0.296]\n"
     ]
    },
    {
     "name": "stdout",
     "output_type": "stream",
     "text": [
      "------------------------------\n",
      "Epoch [97/100]\n"
     ]
    },
    {
     "name": "stderr",
     "output_type": "stream",
     "text": [
      "Training: 100%|██████████| 11/11 [00:03<00:00,  3.00batch/s, accuracy=90.8, loss=0.107]\n",
      "Validation: 100%|██████████| 3/3 [00:00<00:00, 12.11batch/s, accuracy=87.4, loss=0.311]\n"
     ]
    },
    {
     "name": "stdout",
     "output_type": "stream",
     "text": [
      "------------------------------\n",
      "Epoch [98/100]\n"
     ]
    },
    {
     "name": "stderr",
     "output_type": "stream",
     "text": [
      "Training: 100%|██████████| 11/11 [00:03<00:00,  3.03batch/s, accuracy=90.6, loss=0.154]\n",
      "Validation: 100%|██████████| 3/3 [00:00<00:00, 11.52batch/s, accuracy=84.8, loss=0.369]\n"
     ]
    },
    {
     "name": "stdout",
     "output_type": "stream",
     "text": [
      "------------------------------\n",
      "Epoch [99/100]\n"
     ]
    },
    {
     "name": "stderr",
     "output_type": "stream",
     "text": [
      "Training: 100%|██████████| 11/11 [00:03<00:00,  3.10batch/s, accuracy=92.5, loss=0.216]\n",
      "Validation: 100%|██████████| 3/3 [00:00<00:00, 11.60batch/s, accuracy=83.5, loss=0.436]\n"
     ]
    },
    {
     "name": "stdout",
     "output_type": "stream",
     "text": [
      "------------------------------\n",
      "Epoch [100/100]\n"
     ]
    },
    {
     "name": "stderr",
     "output_type": "stream",
     "text": [
      "Training: 100%|██████████| 11/11 [00:04<00:00,  2.52batch/s, accuracy=90.9, loss=0.211]\n",
      "Validation: 100%|██████████| 3/3 [00:00<00:00,  8.75batch/s, accuracy=87.7, loss=0.334]"
     ]
    },
    {
     "name": "stdout",
     "output_type": "stream",
     "text": [
      "------------------------------\n"
     ]
    },
    {
     "name": "stderr",
     "output_type": "stream",
     "text": [
      "\n"
     ]
    }
   ],
   "source": [
    "improvedModel = ImprovedSkinCancerCNN().to(device)\n",
    "optimizer = optim.Adam(improvedModel.parameters(), lr=learning_rate)\n",
    "train_accuracies, train_losses, val_accuracy, val_losses = train_model(improvedModel, optimizer, criterion, \n",
    "                                                                       train_dataloader, test_dataloader, dataset, \n",
    "                                                                       num_epochs=num_epochs, device=device)"
   ]
  },
  {
   "cell_type": "code",
   "execution_count": 42,
   "metadata": {},
   "outputs": [
    {
     "data": {
      "image/png": "[encoded data removed]",
      "text/plain": [
       "<Figure size 1000x500 with 1 Axes>"
      ]
     },
     "metadata": {},
     "output_type": "display_data"
    },
    {
     "data": {
      "image/png": "[encoded data removed]",
      "text/plain": [
       "<Figure size 1000x500 with 1 Axes>"
      ]
     },
     "metadata": {},
     "output_type": "display_data"
    }
   ],
   "source": [
    "plot_metric('Accuracy', train_accuracies, val_accuracy, epochs=num_epochs)\n",
    "plot_metric('Loss', train_losses, val_losses, epochs=num_epochs)"
   ]
  },
  {
   "cell_type": "code",
   "execution_count": null,
   "metadata": {},
   "outputs": [],
   "source": []
  }
 ],
 "metadata": {
  "kernelspec": {
   "display_name": "GPU2",
   "language": "python",
   "name": "python3"
  },
  "language_info": {
   "codemirror_mode": {
    "name": "ipython",
    "version": 3
   },
   "file_extension": ".py",
   "mimetype": "text/x-python",
   "name": "python",
   "nbconvert_exporter": "python",
   "pygments_lexer": "ipython3",
   "version": "3.11.9"
  }
 },
 "nbformat": 4,
 "nbformat_minor": 2
}
