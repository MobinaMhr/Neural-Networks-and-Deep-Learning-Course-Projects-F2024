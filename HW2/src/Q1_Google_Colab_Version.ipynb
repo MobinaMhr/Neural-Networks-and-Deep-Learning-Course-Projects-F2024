{
  "cells": [
    {
      "cell_type": "markdown",
      "source": [
        "## Imports"
      ],
      "metadata": {
        "id": "xXecN_NllIQ3"
      }
    },
    {
      "cell_type": "code",
      "source": [
        "import numpy as np\n",
        "import torch\n",
        "from torch import nn\n",
        "import matplotlib.pyplot as plt\n",
        "import torch.nn as nn\n",
        "import torch.nn.functional as F\n",
        "from torch import optim\n",
        "from torch.utils.data import Dataset, DataLoader, ConcatDataset\n",
        "from torchvision import transforms\n",
        "import glob\n",
        "import matplotlib.pyplot as plt\n",
        "from sklearn.metrics import confusion_matrix, accuracy_score\n",
        "from sklearn.model_selection import train_test_split\n",
        "import random\n",
        "import cv2\n",
        "import zipfile\n",
        "import sys\n",
        "from tqdm import tqdm\n",
        "from imblearn.over_sampling import RandomOverSampler\n",
        "from imblearn.under_sampling import RandomUnderSampler\n",
        "from imblearn.combine import SMOTETomek\n",
        "import torch\n",
        "import torch.nn as nn\n",
        "import torch.optim as optim\n",
        "from tqdm import tqdm\n"
      ],
      "metadata": {
        "id": "LVdtafC_lJ2o"
      },
      "execution_count": 1,
      "outputs": []
    },
    {
      "cell_type": "code",
      "source": [
        "# drive.mount('/content/drive')\n",
        "# dataset_path = '/content/drive/MyDrive/Deep-HW2-Data.zip'"
      ],
      "metadata": {
        "id": "iJp178llFtFO"
      },
      "execution_count": 2,
      "outputs": []
    },
    {
      "cell_type": "code",
      "source": [
        "device = torch.device(\"cuda\" if torch.cuda.is_available() else \"cpu\")\n",
        "print(device)"
      ],
      "metadata": {
        "colab": {
          "base_uri": "https://localhost:8080/"
        },
        "id": "p2JQwV3vlGi8",
        "outputId": "8d0866bf-c5fd-4078-dd39-0964dab008ac"
      },
      "execution_count": 3,
      "outputs": [
        {
          "output_type": "stream",
          "name": "stdout",
          "text": [
            "cuda\n"
          ]
        }
      ]
    },
    {
      "cell_type": "code",
      "source": [
        "!gdown 'https://drive.google.com/uc?id=1gDO7-4SgEfXB_Ls5_LS0ycyMNMPyy1sG'\n",
        "with zipfile.ZipFile('/content/Deep-HW2-Data.zip', 'r') as zip_ref:\n",
        "  zip_ref.extractall('/content/')"
      ],
      "metadata": {
        "colab": {
          "base_uri": "https://localhost:8080/"
        },
        "id": "iO5qy1QYFH1R",
        "outputId": "c368b682-0e68-4f17-dacc-78044e870b81"
      },
      "execution_count": 4,
      "outputs": [
        {
          "output_type": "stream",
          "name": "stdout",
          "text": [
            "Downloading...\n",
            "From (original): https://drive.google.com/uc?id=1gDO7-4SgEfXB_Ls5_LS0ycyMNMPyy1sG\n",
            "From (redirected): https://drive.google.com/uc?id=1gDO7-4SgEfXB_Ls5_LS0ycyMNMPyy1sG&confirm=t&uuid=f3bbdc58-711a-44bc-83b7-aec01a01694c\n",
            "To: /content/Deep-HW2-Data.zip\n",
            "100% 53.2M/53.2M [00:00<00:00, 64.8MB/s]\n"
          ]
        }
      ]
    },
    {
      "cell_type": "markdown",
      "source": [
        "## Utilities"
      ],
      "metadata": {
        "id": "SeXpmxtFkdEh"
      }
    },
    {
      "cell_type": "code",
      "source": [
        "def plot_metric(metric, train_metric, val_metric, epochs=50):\n",
        "    plt.figure(figsize=(10, 5))\n",
        "    plt.plot(range(1, epochs + 1), train_metric, label=f'Training {metric}', alpha=0.5)\n",
        "    plt.plot(range(1, epochs + 1), val_metric, label=f'Validation {metric}', alpha=0.5)\n",
        "    plt.xlabel('Epoch')\n",
        "    plt.ylabel(metric)\n",
        "    plt.title(f'Training and Validation {metric} Over Epochs')\n",
        "    plt.legend()\n",
        "    plt.show()\n",
        "\n",
        "def load_from_dataset(path, img_size_w, img_size_h):\n",
        "    data = []\n",
        "    for f in glob.iglob(path):\n",
        "        img = cv2.imread(f)\n",
        "        img = cv2.resize(img,(img_size_w,img_size_h))\n",
        "        data.append(img)\n",
        "    return data\n"
      ],
      "metadata": {
        "id": "WrLmTvDokcfr"
      },
      "execution_count": 5,
      "outputs": []
    },
    {
      "cell_type": "markdown",
      "source": [
        "## Hyper Parameters"
      ],
      "metadata": {
        "id": "hvU3ACRWlWG-"
      }
    },
    {
      "cell_type": "code",
      "source": [
        "in_channels = 3\n",
        "num_classes = 2\n",
        "learning_rate = 3e-4 # karpathy's constant\n",
        "batch_size = 256\n",
        "num_epochs = 75"
      ],
      "metadata": {
        "id": "B8_WodSWlWQO"
      },
      "execution_count": 6,
      "outputs": []
    },
    {
      "cell_type": "markdown",
      "source": [
        "## Dataset"
      ],
      "metadata": {
        "id": "VBFQ3uBuoHBe"
      }
    },
    {
      "cell_type": "markdown",
      "source": [
        "#### Dataset Class"
      ],
      "metadata": {
        "id": "NH4rMJSs7deV"
      }
    },
    {
      "cell_type": "code",
      "source": [
        "class Data(Dataset):\n",
        "    def __init__(self, device, img_size_w = 224, img_size_h = 224):\n",
        "        self.img_size_w = img_size_w\n",
        "        self.img_size_h = img_size_h\n",
        "        self.device = device\n",
        "        self.mode = 'train'\n",
        "\n",
        "        self.load_data()\n",
        "        self.split_data()\n",
        "\n",
        "    def set_mode(self, mode):\n",
        "        self.mode = mode\n",
        "\n",
        "    def set_transformers(self, train_transform=None, val_transform=None):\n",
        "        # Define transforms\n",
        "        self.train_transform = train_transform if train_transform else transforms.Compose([\n",
        "            transforms.ToPILImage(),\n",
        "            # transforms.RandomHorizontalFlip(),\n",
        "            # transforms.RandomRotation(10),\n",
        "            transforms.ToTensor(),\n",
        "            #transforms.Resize((img_size_h, img_size_w)),\n",
        "            #transforms.Normalize(mean=[0.485, 0.456, 0.406], std=[0.229, 0.224, 0.225])\n",
        "        ])\n",
        "\n",
        "        self.val_transform = val_transform if val_transform else transforms.Compose([\n",
        "            transforms.ToPILImage(),\n",
        "            transforms.ToTensor(),\n",
        "            #transforms.Resize((img_size_h, img_size_w)),\n",
        "            #transforms.Normalize(mean=[0.485, 0.456, 0.406], std=[0.229, 0.224, 0.225])\n",
        "        ])\n",
        "\n",
        "    def split_data(self):\n",
        "        X_train, X_test, y_train, y_test = train_test_split(\n",
        "            self.images, self.labels, test_size=0.2, random_state=42\n",
        "        )\n",
        "\n",
        "        X_train, X_val, y_train, y_val = train_test_split(\n",
        "            X_train, y_train, test_size=0.5, random_state=42\n",
        "        )\n",
        "\n",
        "        self.X_train, self.y_train = X_train, y_train\n",
        "        self.X_val, self.y_val = X_val, y_val\n",
        "        self.X_test, self.y_test = X_test, y_test\n",
        "\n",
        "    def load_data(self):\n",
        "        benign_path = \"/content/data/benign/*.jpg\"\n",
        "        malignant_path = \"/content/data/malignant/*.jpg\"\n",
        "\n",
        "        benign = load_from_dataset(benign_path, self.img_size_w, self.img_size_h)\n",
        "        malignant = load_from_dataset(malignant_path, self.img_size_w, self.img_size_h)\n",
        "\n",
        "        benign = np.array(benign, dtype=np.float32)\n",
        "        malignant = np.array(malignant, dtype=np.float32)\n",
        "\n",
        "        benign_labels = np.zeros(benign.shape[0], dtype=np.float32)\n",
        "        malignant_labels = np.full(malignant.shape[0], 1.0)\n",
        "\n",
        "        print (f'dataset shape is : {benign.shape}')\n",
        "\n",
        "        self.images = np.concatenate((benign, malignant), axis=0)\n",
        "        self.labels = np.concatenate((benign_labels, malignant_labels))\n",
        "\n",
        "    def train_test_test(self):\n",
        "        self.X_train, self.X_test, self.y_train, self.y_test = \\\n",
        "        train_test_split(self.images, self.labels, test_size=0.20, random_state=42)\n",
        "\n",
        "    def train_val_split(self):\n",
        "        self.X_train, self.X_val, self.y_train, self.y_val = \\\n",
        "        train_test_split(self.images, self.labels, test_size=0.20, random_state=42)\n",
        "\n",
        "    def __len__(self):\n",
        "        if self.mode == 'train':\n",
        "            return self.X_train.shape[0]\n",
        "        elif self.mode == 'val':\n",
        "            return self.X_val.shape[0]\n",
        "        elif self.mode == 'test':\n",
        "            return self.X_test.shape[0]\n",
        "\n",
        "    def __getitem__(self, idx):\n",
        "        if self.mode == 'train':\n",
        "            image, label = self.X_train[idx], self.y_train[idx]\n",
        "            image = self.train_transform(image)\n",
        "        elif self.mode == 'val':\n",
        "            image, label = self.X_val[idx], self.y_val[idx]\n",
        "            image = self.val_transform(image)\n",
        "        elif self.mode == 'test':\n",
        "            image, label = self.X_test[idx], self.y_test[idx]\n",
        "            image = self.val_transform(image)\n",
        "\n",
        "        label = torch.tensor(label, dtype=torch.float32).to(device)\n",
        "        return {'image': image, 'label': label}\n",
        "\n",
        "    def normalize(self):\n",
        "        self.images = self.images/255.0\n",
        "\n",
        "    def analyze_class_distribution(self):\n",
        "        benign_count = np.sum(self.labels == 0)\n",
        "        malignant_count = np.sum(self.labels == 1)\n",
        "\n",
        "        print(f\"Class Distribution:\")\n",
        "        print(f\"  Benign:    {benign_count}\")\n",
        "        print(f\"  Malignant: {malignant_count}\")\n",
        "\n",
        "        plt.figure(figsize=(6, 4))  # Adjust the width and height as needed\n",
        "        plt.bar(['Benign', 'Malignant'], [benign_count, malignant_count], color=['blue', 'red'])\n",
        "        plt.title('Class Distribution')\n",
        "        plt.ylabel('Count')\n",
        "        plt.show()\n",
        "\n",
        "    def balance_with_oversampling(self):\n",
        "        ros = RandomOverSampler(random_state=42)\n",
        "        self.images, self.labels = ros.fit_resample(self.images.reshape(len(self.images), -1), self.labels)\n",
        "        self.images = self.images.reshape(-1, self.img_size_h, self.img_size_w, 3)  # Adjust to original dimensions\n",
        "\n",
        "    def augment_minority_class(self):\n",
        "        malignant_indices = np.where(self.labels == 1)[0]\n",
        "        additional_samples = []\n",
        "        additional_labels = []\n",
        "        for idx in malignant_indices:\n",
        "            image = self.images[idx]\n",
        "            augmented_image = self.train_transform(image)  # Apply transformations\n",
        "            additional_samples.append(augmented_image.numpy())\n",
        "            additional_labels.append(1)\n",
        "\n",
        "        self.images = np.concatenate((self.images, np.array(additional_samples)))\n",
        "        self.labels = np.concatenate((self.labels, np.array(additional_labels)))\n",
        "\n",
        "    def balance_with_undersampling(self):\n",
        "        rus = RandomUnderSampler(random_state=42)\n",
        "        self.images, self.labels = rus.fit_resample(self.images.reshape(len(self.images), -1), self.labels)\n",
        "        self.images = self.images.reshape(-1, self.img_size_h, self.img_size_w, 3)  # Adjust to original dimensions\n",
        "\n",
        "    def balance_with_smote(self):\n",
        "        smote = SMOTETomek(random_state=42)\n",
        "        self.images, self.labels = smote.fit_resample(self.images.reshape(len(self.images), -1), self.labels)\n",
        "        self.images = self.images.reshape(-1, self.img_size_h, self.img_size_w, 3)  # Adjust to original dimensions"
      ],
      "metadata": {
        "id": "s6IJlw9qoIyr"
      },
      "execution_count": 7,
      "outputs": []
    },
    {
      "cell_type": "code",
      "source": [
        "# custom_train_transform = transforms.Compose([\n",
        "#     transforms.ToPILImage(),\n",
        "#     transforms.RandomHorizontalFlip(),\n",
        "#     transforms.RandomVerticalFlip(),\n",
        "#     transforms.RandomRotation(15),\n",
        "#     transforms.RandomResizedCrop(28, scale=(0.9, 1.1)),\n",
        "#     transforms.ColorJitter(brightness=0.1, contrast=0.1, saturation=0.1),\n",
        "#     ToTensorAndMove(device),\n",
        "# ])\n",
        "\n",
        "# custom_val_transform = transforms.Compose([\n",
        "#     transforms.ToPILImage(),\n",
        "#     transforms.ColorJitter(brightness=0.1, contrast=0.1, saturation=0.1),\n",
        "#     ToTensorAndMove(device),\n",
        "# ])"
      ],
      "metadata": {
        "id": "CoNxeF06EG_t"
      },
      "execution_count": 8,
      "outputs": []
    },
    {
      "cell_type": "markdown",
      "source": [
        "#### Create Normal Dataset"
      ],
      "metadata": {
        "id": "LjjHrOTh7ihS"
      }
    },
    {
      "cell_type": "code",
      "source": [
        "def count_batches(loader):\n",
        "    return sum(1 for _ in loader)"
      ],
      "metadata": {
        "id": "k_zMDkNmOotx"
      },
      "execution_count": 9,
      "outputs": []
    },
    {
      "cell_type": "code",
      "source": [
        "dataset = Data(device=device, img_size_w=28, img_size_h=28)\n",
        "dataset.set_transformers() # custom_train_transform, custom_val_transform\n",
        "\n",
        "dataset.balance_with_undersampling()\n",
        "dataset.normalize()\n",
        "\n",
        "# Set the dataset mode for each DataLoader\n",
        "# TODO:: Not Sure\n",
        "dataset.set_mode('train')\n",
        "train_loader = DataLoader(dataset, batch_size=32, shuffle=True)\n",
        "train_size = count_batches(train_loader)\n",
        "\n",
        "dataset.set_mode('val')\n",
        "val_loader = DataLoader(dataset, batch_size=32, shuffle=False)\n",
        "val_size = count_batches(val_loader)\n",
        "\n",
        "dataset.set_mode('test')\n",
        "test_loader = DataLoader(dataset, batch_size=32, shuffle=False)\n",
        "test_size = count_batches(test_loader)\n",
        "\n",
        "print(f\"Train Loader Size: {train_size} batches\")\n",
        "print(f\"Val Loader Size: {val_size} batches\")\n",
        "print(f\"Test Loader Size: {test_size} batches\")"
      ],
      "metadata": {
        "colab": {
          "base_uri": "https://localhost:8080/"
        },
        "id": "9fGYtMuZCCPI",
        "outputId": "72f4d3f6-58d9-4fbe-c92f-6ff2880f8d00"
      },
      "execution_count": 10,
      "outputs": [
        {
          "output_type": "stream",
          "name": "stdout",
          "text": [
            "dataset shape is : (1800, 28, 28, 3)\n",
            "Train Loader Size: 42 batches\n",
            "Val Loader Size: 42 batches\n",
            "Test Loader Size: 21 batches\n"
          ]
        }
      ]
    },
    {
      "cell_type": "markdown",
      "source": [
        "#### Create GoogleNet Dataset"
      ],
      "metadata": {
        "id": "Bpe29FEd7mq9"
      }
    },
    {
      "cell_type": "code",
      "source": [
        "google_net_dataset = Data(device=device)\n",
        "google_net_dataset.set_transformers() # custom_train_transform, custom_val_transform\n",
        "\n",
        "google_net_dataset.balance_with_undersampling()\n",
        "google_net_dataset.normalize()\n",
        "\n",
        "# Set the google_net_dataset mode for each DataLoader\n",
        "# TODO:: Not Sure\n",
        "google_net_dataset.set_mode('train')\n",
        "gn_train_loader = DataLoader(google_net_dataset, batch_size=32, shuffle=True)\n",
        "\n",
        "google_net_dataset.set_mode('val')\n",
        "gn_val_loader = DataLoader(google_net_dataset, batch_size=32, shuffle=False)\n",
        "\n",
        "google_net_dataset.set_mode('test')\n",
        "gn_test_loader = DataLoader(google_net_dataset, batch_size=32, shuffle=False)"
      ],
      "metadata": {
        "colab": {
          "base_uri": "https://localhost:8080/"
        },
        "id": "qJFVS15MDetL",
        "outputId": "5ec593f5-a861-4f0c-9fcb-dd79e853fc8b"
      },
      "execution_count": 11,
      "outputs": [
        {
          "output_type": "stream",
          "name": "stdout",
          "text": [
            "dataset shape is : (1800, 224, 224, 3)\n"
          ]
        }
      ]
    },
    {
      "cell_type": "markdown",
      "source": [
        "## Model1"
      ],
      "metadata": {
        "id": "-r5Mq5Ewla1B"
      }
    },
    {
      "cell_type": "markdown",
      "source": [
        "#### Class"
      ],
      "metadata": {
        "id": "SJwNcoWe8mqo"
      }
    },
    {
      "cell_type": "code",
      "execution_count": 12,
      "metadata": {
        "id": "pvZ_ad5pEnnt"
      },
      "outputs": [],
      "source": [
        "class ToTensorAndMove:\n",
        "    def __init__(self, device):\n",
        "        self.to_tensor = transforms.ToTensor()\n",
        "        self.device = device\n",
        "    def __call__(self, img):\n",
        "        tensor = self.to_tensor(img)\n",
        "        return tensor.to(self.device)"
      ]
    },
    {
      "cell_type": "code",
      "execution_count": 13,
      "metadata": {
        "id": "OiQ4qgmIEnnt"
      },
      "outputs": [],
      "source": [
        "class SkinCancerCNN(nn.Module):\n",
        "    def __init__(self):\n",
        "        super(SkinCancerCNN, self).__init__()\n",
        "\n",
        "        self.conv1 = nn.Conv2d(in_channels=3, out_channels=16, kernel_size=3, padding=1, stride=1)\n",
        "        self.pool1 = nn.MaxPool2d(kernel_size=2, stride=2)\n",
        "\n",
        "        self.conv2 = nn.Conv2d(in_channels=16, out_channels=32, kernel_size=3, padding=1, stride=1)\n",
        "        self.pool2 = nn.MaxPool2d(kernel_size=2, stride=2)\n",
        "\n",
        "        self.conv3 = nn.Conv2d(in_channels=32, out_channels=64, kernel_size=3, padding=1, stride=1)\n",
        "        self.pool3 = nn.MaxPool2d(kernel_size=1, stride=2)\n",
        "\n",
        "        self.conv4 = nn.Conv2d(in_channels=64, out_channels=128, kernel_size=3, padding=1, stride=1)\n",
        "        self.pool4 = nn.MaxPool2d(kernel_size=2, stride=2)\n",
        "\n",
        "        self.flatten = nn.Flatten()\n",
        "\n",
        "        self.fc1 = nn.Linear(2 * 2 * 128, 64)\n",
        "        self.fc2 = nn.Linear(64, 32)\n",
        "        self.fc3 = nn.Linear(32, 2)\n",
        "\n",
        "    def forward(self, x):\n",
        "        x = F.relu(self.conv1(x))\n",
        "        x = self.pool1(x)\n",
        "\n",
        "        x = F.relu(self.conv2(x))\n",
        "        x = self.pool2(x)\n",
        "\n",
        "        x = F.relu(self.conv3(x))\n",
        "        x = self.pool3(x)\n",
        "\n",
        "        x = F.relu(self.conv4(x))\n",
        "        x = self.pool4(x)\n",
        "\n",
        "        x = self.flatten(x)\n",
        "\n",
        "        x = F.relu(self.fc1(x))\n",
        "        x = F.relu(self.fc2(x))\n",
        "        x = self.fc3(x)\n",
        "        return x"
      ]
    },
    {
      "cell_type": "code",
      "source": [
        "def eval_model(model, criterion, dataset, loader, mode):\n",
        "    model.eval()\n",
        "    dataset.set_mode(mode)\n",
        "    val_loss = 0.0\n",
        "    correct = 0\n",
        "    total = 0\n",
        "\n",
        "    with torch.no_grad():\n",
        "        with tqdm(total=len(loader), desc=\"Validation\", unit=\"batch\") as pbar:\n",
        "            for batch in loader:\n",
        "                images, labels = batch['image'].to(device), batch['label'].to(device)\n",
        "\n",
        "                outputs = model(images)\n",
        "                loss = criterion(outputs, labels.long())\n",
        "\n",
        "                val_loss += loss.item()\n",
        "                _, predicted = outputs.max(1)\n",
        "                total += labels.size(0)\n",
        "                correct += predicted.eq(labels).sum().item()\n",
        "\n",
        "                pbar.set_postfix(loss=loss.item(), accuracy=100. * correct / total)\n",
        "                pbar.update(1)\n",
        "\n",
        "    val_loss = val_loss / len(loader)\n",
        "    val_acc = 100. * correct / total\n",
        "    return val_loss, val_acc"
      ],
      "metadata": {
        "id": "Yz7Xf5_VLpxB"
      },
      "execution_count": 14,
      "outputs": []
    },
    {
      "cell_type": "code",
      "execution_count": 15,
      "metadata": {
        "id": "nodhoEM_Ennv"
      },
      "outputs": [],
      "source": [
        "def train_model(model, optimizer, criterion, dataset, train_loader, val_loader, num_epochs=10):\n",
        "    model.to(device)\n",
        "    train_accuracies = []\n",
        "    train_losses = []\n",
        "    val_accuracies = []\n",
        "    val_losses = []\n",
        "    scheduler = torch.optim.lr_scheduler.ReduceLROnPlateau(optimizer, factor=0.1, patience=10, verbose=True)\n",
        "\n",
        "    for epoch in range(num_epochs):\n",
        "        print(f\"Epoch [{epoch + 1}/{num_epochs}]\")\n",
        "        dataset.set_mode('train')\n",
        "        model.train()\n",
        "        train_loss = 0.0\n",
        "        correct = 0\n",
        "        total = 0\n",
        "\n",
        "        with tqdm(total=len(train_loader), desc=\"Training\", unit=\"batch\") as pbar:\n",
        "            for batch in train_loader:\n",
        "                images, labels = batch['image'].to(device), batch['label'].to(device)\n",
        "\n",
        "                optimizer.zero_grad()\n",
        "                outputs = model(images)\n",
        "                loss = criterion(outputs, labels.long())\n",
        "\n",
        "                loss.backward()\n",
        "                optimizer.step()\n",
        "\n",
        "                train_loss += loss.item()\n",
        "                _, predicted = outputs.max(1)\n",
        "                total += labels.size(0)\n",
        "                correct += predicted.eq(labels).sum().item()\n",
        "\n",
        "                pbar.set_postfix(loss=loss.item(), accuracy=100. * correct / total)\n",
        "                pbar.update(1)\n",
        "\n",
        "        avg_train_loss = train_loss / len(train_loader)\n",
        "        train_accuracy = 100. * correct / total\n",
        "        # print(f\"Training Loss: {avg_train_loss:.4f}, Accuracy: {train_accuracy:.2f}%\")\n",
        "        train_accuracies.append(train_accuracy)\n",
        "        train_losses.append(avg_train_loss)\n",
        "\n",
        "        val_loss, val_acc = eval_model(model, criterion, dataset, val_loader, 'val')\n",
        "        # print(f\"Validation Loss: {val_loss:.4f}, Accuracy: {val_acc:.2f}%\")\n",
        "        print(\"-\" * 30, \"\\n\")\n",
        "        val_accuracies.append(val_acc)\n",
        "        val_losses.append(val_loss)\n",
        "        mean_loss = sum(train_losses) / len(train_losses)\n",
        "        mean_loss = round(mean_loss, 2)\n",
        "        scheduler.step(mean_loss)\n",
        "\n",
        "    return train_accuracies, train_losses, val_accuracies, val_losses\n"
      ]
    },
    {
      "cell_type": "markdown",
      "source": [
        "#### Train"
      ],
      "metadata": {
        "id": "lYYS7U2n8t2_"
      }
    },
    {
      "cell_type": "code",
      "source": [
        "model = SkinCancerCNN().to(device)\n",
        "criterion = nn.CrossEntropyLoss()\n",
        "optimizer = optim.Adam(model.parameters(), lr=learning_rate)"
      ],
      "metadata": {
        "id": "drX7lYS4oA00"
      },
      "execution_count": 16,
      "outputs": []
    },
    {
      "cell_type": "code",
      "source": [
        "custom_train_transform = transforms.Compose([\n",
        "    transforms.ToPILImage(),\n",
        "    transforms.RandomHorizontalFlip(),\n",
        "    transforms.RandomVerticalFlip(),\n",
        "    transforms.RandomRotation(15),\n",
        "    transforms.RandomResizedCrop(28, scale=(0.9, 1.1)),\n",
        "    transforms.ColorJitter(brightness=0.1, contrast=0.1, saturation=0.1),\n",
        "    ToTensorAndMove(device),\n",
        "])\n",
        "\n",
        "custom_val_transform = transforms.Compose([\n",
        "    transforms.ToPILImage(),\n",
        "    transforms.ColorJitter(brightness=0.1, contrast=0.1, saturation=0.1),\n",
        "    ToTensorAndMove(device),\n",
        "])"
      ],
      "metadata": {
        "id": "w-q_DhE6YyVX"
      },
      "execution_count": 20,
      "outputs": []
    },
    {
      "cell_type": "code",
      "source": [
        "dataset = Data(device=device, img_size_w=28, img_size_h=28)\n",
        "dataset.set_transformers(custom_train_transform, custom_val_transform) # custom_train_transform, custom_val_transform\n",
        "\n",
        "dataset.balance_with_undersampling()\n",
        "dataset.normalize()\n",
        "\n",
        "dataset.set_mode('train')\n",
        "train_loader = DataLoader(dataset, batch_size=32, shuffle=True)\n",
        "print(type(train_loader))\n",
        "\n",
        "dataset.set_mode('val')\n",
        "val_loader = DataLoader(dataset, batch_size=32, shuffle=False)\n",
        "print(type(val_loader))\n",
        "\n",
        "dataset.set_mode('test')\n",
        "test_loader = DataLoader(dataset, batch_size=32, shuffle=False)\n",
        "print(type(test_loader))"
      ],
      "metadata": {
        "id": "W4S8R4f0EJtI",
        "colab": {
          "base_uri": "https://localhost:8080/"
        },
        "outputId": "d8078379-62be-4c67-865e-f2ad1c0c67d6"
      },
      "execution_count": 21,
      "outputs": [
        {
          "output_type": "stream",
          "name": "stdout",
          "text": [
            "dataset shape is : (1800, 28, 28, 3)\n",
            "<class 'torch.utils.data.dataloader.DataLoader'>\n",
            "<class 'torch.utils.data.dataloader.DataLoader'>\n",
            "<class 'torch.utils.data.dataloader.DataLoader'>\n"
          ]
        }
      ]
    },
    {
      "cell_type": "code",
      "execution_count": 22,
      "metadata": {
        "id": "uOxHtNaeEnnv",
        "colab": {
          "base_uri": "https://localhost:8080/"
        },
        "outputId": "c9aab6c4-65e0-4dd0-fc52-679926544a7d"
      },
      "outputs": [
        {
          "output_type": "stream",
          "name": "stderr",
          "text": [
            "/usr/local/lib/python3.10/dist-packages/torch/optim/lr_scheduler.py:62: UserWarning: The verbose parameter is deprecated. Please use get_last_lr() to access the learning rate.\n",
            "  warnings.warn(\n"
          ]
        },
        {
          "output_type": "stream",
          "name": "stdout",
          "text": [
            "Epoch [1/75]\n"
          ]
        },
        {
          "output_type": "stream",
          "name": "stderr",
          "text": [
            "Training: 100%|██████████| 42/42 [00:03<00:00, 13.72batch/s, accuracy=53.7, loss=0.692]\n",
            "Validation: 100%|██████████| 42/42 [00:01<00:00, 40.95batch/s, accuracy=54.4, loss=0.674]\n"
          ]
        },
        {
          "output_type": "stream",
          "name": "stdout",
          "text": [
            "------------------------------ \n",
            "\n",
            "Epoch [2/75]\n"
          ]
        },
        {
          "output_type": "stream",
          "name": "stderr",
          "text": [
            "Training: 100%|██████████| 42/42 [00:01<00:00, 24.75batch/s, accuracy=58.1, loss=0.514]\n",
            "Validation: 100%|██████████| 42/42 [00:01<00:00, 34.91batch/s, accuracy=74.8, loss=0.641]\n"
          ]
        },
        {
          "output_type": "stream",
          "name": "stdout",
          "text": [
            "------------------------------ \n",
            "\n",
            "Epoch [3/75]\n"
          ]
        },
        {
          "output_type": "stream",
          "name": "stderr",
          "text": [
            "Training: 100%|██████████| 42/42 [00:02<00:00, 18.44batch/s, accuracy=75.1, loss=0.604]\n",
            "Validation: 100%|██████████| 42/42 [00:01<00:00, 41.46batch/s, accuracy=78.4, loss=0.598]\n"
          ]
        },
        {
          "output_type": "stream",
          "name": "stdout",
          "text": [
            "------------------------------ \n",
            "\n",
            "Epoch [4/75]\n"
          ]
        },
        {
          "output_type": "stream",
          "name": "stderr",
          "text": [
            "Training: 100%|██████████| 42/42 [00:02<00:00, 15.95batch/s, accuracy=78.2, loss=0.372]\n",
            "Validation: 100%|██████████| 42/42 [00:01<00:00, 30.47batch/s, accuracy=77.8, loss=0.704]\n"
          ]
        },
        {
          "output_type": "stream",
          "name": "stdout",
          "text": [
            "------------------------------ \n",
            "\n",
            "Epoch [5/75]\n"
          ]
        },
        {
          "output_type": "stream",
          "name": "stderr",
          "text": [
            "Training: 100%|██████████| 42/42 [00:02<00:00, 14.72batch/s, accuracy=78.8, loss=0.764]\n",
            "Validation: 100%|██████████| 42/42 [00:02<00:00, 19.90batch/s, accuracy=78.4, loss=0.632]\n"
          ]
        },
        {
          "output_type": "stream",
          "name": "stdout",
          "text": [
            "------------------------------ \n",
            "\n",
            "Epoch [6/75]\n"
          ]
        },
        {
          "output_type": "stream",
          "name": "stderr",
          "text": [
            "Training: 100%|██████████| 42/42 [00:06<00:00,  6.07batch/s, accuracy=76.9, loss=0.34]\n",
            "Validation: 100%|██████████| 42/42 [00:02<00:00, 18.99batch/s, accuracy=79.8, loss=0.737]\n"
          ]
        },
        {
          "output_type": "stream",
          "name": "stdout",
          "text": [
            "------------------------------ \n",
            "\n",
            "Epoch [7/75]\n"
          ]
        },
        {
          "output_type": "stream",
          "name": "stderr",
          "text": [
            "Training: 100%|██████████| 42/42 [00:03<00:00, 12.92batch/s, accuracy=77.3, loss=0.909]\n",
            "Validation: 100%|██████████| 42/42 [00:01<00:00, 25.28batch/s, accuracy=79.5, loss=0.662]\n"
          ]
        },
        {
          "output_type": "stream",
          "name": "stdout",
          "text": [
            "------------------------------ \n",
            "\n",
            "Epoch [8/75]\n"
          ]
        },
        {
          "output_type": "stream",
          "name": "stderr",
          "text": [
            "Training: 100%|██████████| 42/42 [00:03<00:00, 11.84batch/s, accuracy=78.2, loss=0.713]\n",
            "Validation: 100%|██████████| 42/42 [00:01<00:00, 23.58batch/s, accuracy=78.5, loss=0.629]\n"
          ]
        },
        {
          "output_type": "stream",
          "name": "stdout",
          "text": [
            "------------------------------ \n",
            "\n",
            "Epoch [9/75]\n"
          ]
        },
        {
          "output_type": "stream",
          "name": "stderr",
          "text": [
            "Training: 100%|██████████| 42/42 [00:01<00:00, 22.60batch/s, accuracy=76, loss=0.473]\n",
            "Validation: 100%|██████████| 42/42 [00:01<00:00, 40.37batch/s, accuracy=80, loss=0.582]\n"
          ]
        },
        {
          "output_type": "stream",
          "name": "stdout",
          "text": [
            "------------------------------ \n",
            "\n",
            "Epoch [10/75]\n"
          ]
        },
        {
          "output_type": "stream",
          "name": "stderr",
          "text": [
            "Training: 100%|██████████| 42/42 [00:01<00:00, 25.36batch/s, accuracy=78.1, loss=0.575]\n",
            "Validation: 100%|██████████| 42/42 [00:01<00:00, 41.23batch/s, accuracy=79.5, loss=0.558]\n"
          ]
        },
        {
          "output_type": "stream",
          "name": "stdout",
          "text": [
            "------------------------------ \n",
            "\n",
            "Epoch [11/75]\n"
          ]
        },
        {
          "output_type": "stream",
          "name": "stderr",
          "text": [
            "Training: 100%|██████████| 42/42 [00:01<00:00, 23.43batch/s, accuracy=78.4, loss=0.247]\n",
            "Validation: 100%|██████████| 42/42 [00:01<00:00, 34.26batch/s, accuracy=78.6, loss=0.644]\n"
          ]
        },
        {
          "output_type": "stream",
          "name": "stdout",
          "text": [
            "------------------------------ \n",
            "\n",
            "Epoch [12/75]\n"
          ]
        },
        {
          "output_type": "stream",
          "name": "stderr",
          "text": [
            "Training: 100%|██████████| 42/42 [00:02<00:00, 17.88batch/s, accuracy=78.8, loss=0.264]\n",
            "Validation: 100%|██████████| 42/42 [00:01<00:00, 38.75batch/s, accuracy=80.4, loss=0.55]\n"
          ]
        },
        {
          "output_type": "stream",
          "name": "stdout",
          "text": [
            "------------------------------ \n",
            "\n",
            "Epoch [13/75]\n"
          ]
        },
        {
          "output_type": "stream",
          "name": "stderr",
          "text": [
            "Training: 100%|██████████| 42/42 [00:01<00:00, 24.08batch/s, accuracy=78.6, loss=0.991]\n",
            "Validation: 100%|██████████| 42/42 [00:01<00:00, 38.05batch/s, accuracy=80.3, loss=0.585]\n"
          ]
        },
        {
          "output_type": "stream",
          "name": "stdout",
          "text": [
            "------------------------------ \n",
            "\n",
            "Epoch [14/75]\n"
          ]
        },
        {
          "output_type": "stream",
          "name": "stderr",
          "text": [
            "Training: 100%|██████████| 42/42 [00:01<00:00, 25.21batch/s, accuracy=78.6, loss=0.539]\n",
            "Validation: 100%|██████████| 42/42 [00:01<00:00, 39.51batch/s, accuracy=80.7, loss=0.577]\n"
          ]
        },
        {
          "output_type": "stream",
          "name": "stdout",
          "text": [
            "------------------------------ \n",
            "\n",
            "Epoch [15/75]\n"
          ]
        },
        {
          "output_type": "stream",
          "name": "stderr",
          "text": [
            "Training: 100%|██████████| 42/42 [00:01<00:00, 24.49batch/s, accuracy=78.8, loss=0.521]\n",
            "Validation: 100%|██████████| 42/42 [00:01<00:00, 40.89batch/s, accuracy=80.1, loss=0.576]\n"
          ]
        },
        {
          "output_type": "stream",
          "name": "stdout",
          "text": [
            "------------------------------ \n",
            "\n",
            "Epoch [16/75]\n"
          ]
        },
        {
          "output_type": "stream",
          "name": "stderr",
          "text": [
            "Training: 100%|██████████| 42/42 [00:02<00:00, 20.68batch/s, accuracy=78.6, loss=0.297]\n",
            "Validation: 100%|██████████| 42/42 [00:01<00:00, 27.87batch/s, accuracy=79.1, loss=0.495]\n"
          ]
        },
        {
          "output_type": "stream",
          "name": "stdout",
          "text": [
            "------------------------------ \n",
            "\n",
            "Epoch [17/75]\n"
          ]
        },
        {
          "output_type": "stream",
          "name": "stderr",
          "text": [
            "Training: 100%|██████████| 42/42 [00:01<00:00, 25.88batch/s, accuracy=79.8, loss=0.565]\n",
            "Validation: 100%|██████████| 42/42 [00:01<00:00, 40.79batch/s, accuracy=79.2, loss=0.668]\n"
          ]
        },
        {
          "output_type": "stream",
          "name": "stdout",
          "text": [
            "------------------------------ \n",
            "\n",
            "Epoch [18/75]\n"
          ]
        },
        {
          "output_type": "stream",
          "name": "stderr",
          "text": [
            "Training: 100%|██████████| 42/42 [00:01<00:00, 24.34batch/s, accuracy=80.6, loss=0.573]\n",
            "Validation: 100%|██████████| 42/42 [00:01<00:00, 40.24batch/s, accuracy=82.1, loss=0.634]\n"
          ]
        },
        {
          "output_type": "stream",
          "name": "stdout",
          "text": [
            "------------------------------ \n",
            "\n",
            "Epoch [19/75]\n"
          ]
        },
        {
          "output_type": "stream",
          "name": "stderr",
          "text": [
            "Training: 100%|██████████| 42/42 [00:01<00:00, 25.04batch/s, accuracy=80, loss=0.385]\n",
            "Validation: 100%|██████████| 42/42 [00:01<00:00, 39.31batch/s, accuracy=80.7, loss=0.55]\n"
          ]
        },
        {
          "output_type": "stream",
          "name": "stdout",
          "text": [
            "------------------------------ \n",
            "\n",
            "Epoch [20/75]\n"
          ]
        },
        {
          "output_type": "stream",
          "name": "stderr",
          "text": [
            "Training: 100%|██████████| 42/42 [00:01<00:00, 25.32batch/s, accuracy=80.8, loss=0.456]\n",
            "Validation: 100%|██████████| 42/42 [00:01<00:00, 31.17batch/s, accuracy=81.1, loss=0.574]\n"
          ]
        },
        {
          "output_type": "stream",
          "name": "stdout",
          "text": [
            "------------------------------ \n",
            "\n",
            "Epoch [21/75]\n"
          ]
        },
        {
          "output_type": "stream",
          "name": "stderr",
          "text": [
            "Training: 100%|██████████| 42/42 [00:02<00:00, 19.44batch/s, accuracy=81.3, loss=0.564]\n",
            "Validation: 100%|██████████| 42/42 [00:01<00:00, 39.41batch/s, accuracy=81.1, loss=0.563]\n"
          ]
        },
        {
          "output_type": "stream",
          "name": "stdout",
          "text": [
            "------------------------------ \n",
            "\n",
            "Epoch [22/75]\n"
          ]
        },
        {
          "output_type": "stream",
          "name": "stderr",
          "text": [
            "Training: 100%|██████████| 42/42 [00:01<00:00, 25.17batch/s, accuracy=80.3, loss=0.349]\n",
            "Validation: 100%|██████████| 42/42 [00:01<00:00, 41.77batch/s, accuracy=82.6, loss=0.49]\n"
          ]
        },
        {
          "output_type": "stream",
          "name": "stdout",
          "text": [
            "------------------------------ \n",
            "\n",
            "Epoch [23/75]\n"
          ]
        },
        {
          "output_type": "stream",
          "name": "stderr",
          "text": [
            "Training: 100%|██████████| 42/42 [00:01<00:00, 24.94batch/s, accuracy=80.9, loss=0.587]\n",
            "Validation: 100%|██████████| 42/42 [00:01<00:00, 41.38batch/s, accuracy=78.2, loss=0.612]\n"
          ]
        },
        {
          "output_type": "stream",
          "name": "stdout",
          "text": [
            "------------------------------ \n",
            "\n",
            "Epoch [24/75]\n"
          ]
        },
        {
          "output_type": "stream",
          "name": "stderr",
          "text": [
            "Training: 100%|██████████| 42/42 [00:01<00:00, 25.64batch/s, accuracy=81.1, loss=0.571]\n",
            "Validation: 100%|██████████| 42/42 [00:01<00:00, 41.20batch/s, accuracy=81.9, loss=0.438]\n"
          ]
        },
        {
          "output_type": "stream",
          "name": "stdout",
          "text": [
            "------------------------------ \n",
            "\n",
            "Epoch [25/75]\n"
          ]
        },
        {
          "output_type": "stream",
          "name": "stderr",
          "text": [
            "Training: 100%|██████████| 42/42 [00:02<00:00, 18.07batch/s, accuracy=81, loss=0.364]\n",
            "Validation: 100%|██████████| 42/42 [00:01<00:00, 32.72batch/s, accuracy=82.4, loss=0.462]\n"
          ]
        },
        {
          "output_type": "stream",
          "name": "stdout",
          "text": [
            "------------------------------ \n",
            "\n",
            "Epoch [26/75]\n"
          ]
        },
        {
          "output_type": "stream",
          "name": "stderr",
          "text": [
            "Training: 100%|██████████| 42/42 [00:01<00:00, 25.22batch/s, accuracy=81.8, loss=0.367]\n",
            "Validation: 100%|██████████| 42/42 [00:01<00:00, 41.59batch/s, accuracy=81.7, loss=0.5]\n"
          ]
        },
        {
          "output_type": "stream",
          "name": "stdout",
          "text": [
            "------------------------------ \n",
            "\n",
            "Epoch [27/75]\n"
          ]
        },
        {
          "output_type": "stream",
          "name": "stderr",
          "text": [
            "Training: 100%|██████████| 42/42 [00:01<00:00, 24.92batch/s, accuracy=81.3, loss=0.207]\n",
            "Validation: 100%|██████████| 42/42 [00:01<00:00, 41.03batch/s, accuracy=82.9, loss=0.473]\n"
          ]
        },
        {
          "output_type": "stream",
          "name": "stdout",
          "text": [
            "------------------------------ \n",
            "\n",
            "Epoch [28/75]\n"
          ]
        },
        {
          "output_type": "stream",
          "name": "stderr",
          "text": [
            "Training: 100%|██████████| 42/42 [00:01<00:00, 24.83batch/s, accuracy=81.6, loss=0.492]\n",
            "Validation: 100%|██████████| 42/42 [00:01<00:00, 40.83batch/s, accuracy=81.7, loss=0.553]\n"
          ]
        },
        {
          "output_type": "stream",
          "name": "stdout",
          "text": [
            "------------------------------ \n",
            "\n",
            "Epoch [29/75]\n"
          ]
        },
        {
          "output_type": "stream",
          "name": "stderr",
          "text": [
            "Training: 100%|██████████| 42/42 [00:01<00:00, 24.30batch/s, accuracy=81.3, loss=0.377]\n",
            "Validation: 100%|██████████| 42/42 [00:01<00:00, 31.60batch/s, accuracy=77.5, loss=0.674]\n"
          ]
        },
        {
          "output_type": "stream",
          "name": "stdout",
          "text": [
            "------------------------------ \n",
            "\n",
            "Epoch [30/75]\n"
          ]
        },
        {
          "output_type": "stream",
          "name": "stderr",
          "text": [
            "Training: 100%|██████████| 42/42 [00:02<00:00, 19.56batch/s, accuracy=80.1, loss=0.747]\n",
            "Validation: 100%|██████████| 42/42 [00:01<00:00, 32.68batch/s, accuracy=81.4, loss=0.46]\n"
          ]
        },
        {
          "output_type": "stream",
          "name": "stdout",
          "text": [
            "------------------------------ \n",
            "\n",
            "Epoch [31/75]\n"
          ]
        },
        {
          "output_type": "stream",
          "name": "stderr",
          "text": [
            "Training: 100%|██████████| 42/42 [00:02<00:00, 19.59batch/s, accuracy=81.7, loss=0.468]\n",
            "Validation: 100%|██████████| 42/42 [00:01<00:00, 39.31batch/s, accuracy=83, loss=0.467]\n"
          ]
        },
        {
          "output_type": "stream",
          "name": "stdout",
          "text": [
            "------------------------------ \n",
            "\n",
            "Epoch [32/75]\n"
          ]
        },
        {
          "output_type": "stream",
          "name": "stderr",
          "text": [
            "Training: 100%|██████████| 42/42 [00:01<00:00, 25.35batch/s, accuracy=81.6, loss=0.228]\n",
            "Validation: 100%|██████████| 42/42 [00:01<00:00, 41.84batch/s, accuracy=82, loss=0.539]\n"
          ]
        },
        {
          "output_type": "stream",
          "name": "stdout",
          "text": [
            "------------------------------ \n",
            "\n",
            "Epoch [33/75]\n"
          ]
        },
        {
          "output_type": "stream",
          "name": "stderr",
          "text": [
            "Training: 100%|██████████| 42/42 [00:01<00:00, 25.30batch/s, accuracy=82, loss=0.237]\n",
            "Validation: 100%|██████████| 42/42 [00:01<00:00, 36.90batch/s, accuracy=82.7, loss=0.501]\n"
          ]
        },
        {
          "output_type": "stream",
          "name": "stdout",
          "text": [
            "------------------------------ \n",
            "\n",
            "Epoch [34/75]\n"
          ]
        },
        {
          "output_type": "stream",
          "name": "stderr",
          "text": [
            "Training: 100%|██████████| 42/42 [00:02<00:00, 17.75batch/s, accuracy=81.4, loss=1.01]\n",
            "Validation: 100%|██████████| 42/42 [00:01<00:00, 26.87batch/s, accuracy=81.7, loss=0.5]\n"
          ]
        },
        {
          "output_type": "stream",
          "name": "stdout",
          "text": [
            "------------------------------ \n",
            "\n",
            "Epoch [35/75]\n"
          ]
        },
        {
          "output_type": "stream",
          "name": "stderr",
          "text": [
            "Training: 100%|██████████| 42/42 [00:01<00:00, 25.03batch/s, accuracy=82.1, loss=0.497]\n",
            "Validation: 100%|██████████| 42/42 [00:01<00:00, 40.28batch/s, accuracy=82, loss=0.564]\n"
          ]
        },
        {
          "output_type": "stream",
          "name": "stdout",
          "text": [
            "------------------------------ \n",
            "\n",
            "Epoch [36/75]\n"
          ]
        },
        {
          "output_type": "stream",
          "name": "stderr",
          "text": [
            "Training: 100%|██████████| 42/42 [00:01<00:00, 25.31batch/s, accuracy=81.9, loss=0.198]\n",
            "Validation: 100%|██████████| 42/42 [00:01<00:00, 40.79batch/s, accuracy=81.4, loss=0.413]\n"
          ]
        },
        {
          "output_type": "stream",
          "name": "stdout",
          "text": [
            "------------------------------ \n",
            "\n",
            "Epoch [37/75]\n"
          ]
        },
        {
          "output_type": "stream",
          "name": "stderr",
          "text": [
            "Training: 100%|██████████| 42/42 [00:01<00:00, 25.37batch/s, accuracy=81.6, loss=0.501]\n",
            "Validation: 100%|██████████| 42/42 [00:01<00:00, 41.35batch/s, accuracy=82.7, loss=0.459]\n"
          ]
        },
        {
          "output_type": "stream",
          "name": "stdout",
          "text": [
            "------------------------------ \n",
            "\n",
            "Epoch [38/75]\n"
          ]
        },
        {
          "output_type": "stream",
          "name": "stderr",
          "text": [
            "Training: 100%|██████████| 42/42 [00:02<00:00, 20.81batch/s, accuracy=81.8, loss=0.781]\n",
            "Validation: 100%|██████████| 42/42 [00:01<00:00, 28.08batch/s, accuracy=82.6, loss=0.514]\n"
          ]
        },
        {
          "output_type": "stream",
          "name": "stdout",
          "text": [
            "------------------------------ \n",
            "\n",
            "Epoch [39/75]\n"
          ]
        },
        {
          "output_type": "stream",
          "name": "stderr",
          "text": [
            "Training: 100%|██████████| 42/42 [00:01<00:00, 22.74batch/s, accuracy=81.9, loss=0.154]\n",
            "Validation: 100%|██████████| 42/42 [00:01<00:00, 40.46batch/s, accuracy=81.3, loss=0.514]\n"
          ]
        },
        {
          "output_type": "stream",
          "name": "stdout",
          "text": [
            "------------------------------ \n",
            "\n",
            "Epoch [40/75]\n"
          ]
        },
        {
          "output_type": "stream",
          "name": "stderr",
          "text": [
            "Training: 100%|██████████| 42/42 [00:01<00:00, 24.98batch/s, accuracy=81.8, loss=0.257]\n",
            "Validation: 100%|██████████| 42/42 [00:01<00:00, 41.10batch/s, accuracy=81.4, loss=0.521]\n"
          ]
        },
        {
          "output_type": "stream",
          "name": "stdout",
          "text": [
            "------------------------------ \n",
            "\n",
            "Epoch [41/75]\n"
          ]
        },
        {
          "output_type": "stream",
          "name": "stderr",
          "text": [
            "Training: 100%|██████████| 42/42 [00:01<00:00, 25.01batch/s, accuracy=82.8, loss=0.217]\n",
            "Validation: 100%|██████████| 42/42 [00:01<00:00, 40.08batch/s, accuracy=83, loss=0.522]\n"
          ]
        },
        {
          "output_type": "stream",
          "name": "stdout",
          "text": [
            "------------------------------ \n",
            "\n",
            "Epoch [42/75]\n"
          ]
        },
        {
          "output_type": "stream",
          "name": "stderr",
          "text": [
            "Training: 100%|██████████| 42/42 [00:01<00:00, 24.24batch/s, accuracy=82.9, loss=0.953]\n",
            "Validation: 100%|██████████| 42/42 [00:01<00:00, 33.40batch/s, accuracy=81.4, loss=0.546]\n"
          ]
        },
        {
          "output_type": "stream",
          "name": "stdout",
          "text": [
            "------------------------------ \n",
            "\n",
            "Epoch [43/75]\n"
          ]
        },
        {
          "output_type": "stream",
          "name": "stderr",
          "text": [
            "Training: 100%|██████████| 42/42 [00:02<00:00, 17.82batch/s, accuracy=81.3, loss=0.267]\n",
            "Validation: 100%|██████████| 42/42 [00:01<00:00, 41.01batch/s, accuracy=83.1, loss=0.446]\n"
          ]
        },
        {
          "output_type": "stream",
          "name": "stdout",
          "text": [
            "------------------------------ \n",
            "\n",
            "Epoch [44/75]\n"
          ]
        },
        {
          "output_type": "stream",
          "name": "stderr",
          "text": [
            "Training: 100%|██████████| 42/42 [00:01<00:00, 25.21batch/s, accuracy=81.4, loss=0.0777]\n",
            "Validation: 100%|██████████| 42/42 [00:01<00:00, 40.99batch/s, accuracy=81.7, loss=0.51]\n"
          ]
        },
        {
          "output_type": "stream",
          "name": "stdout",
          "text": [
            "------------------------------ \n",
            "\n",
            "Epoch [45/75]\n"
          ]
        },
        {
          "output_type": "stream",
          "name": "stderr",
          "text": [
            "Training: 100%|██████████| 42/42 [00:01<00:00, 24.27batch/s, accuracy=83.4, loss=0.52]\n",
            "Validation: 100%|██████████| 42/42 [00:01<00:00, 40.26batch/s, accuracy=81.9, loss=0.528]\n"
          ]
        },
        {
          "output_type": "stream",
          "name": "stdout",
          "text": [
            "------------------------------ \n",
            "\n",
            "Epoch [46/75]\n"
          ]
        },
        {
          "output_type": "stream",
          "name": "stderr",
          "text": [
            "Training: 100%|██████████| 42/42 [00:01<00:00, 24.54batch/s, accuracy=82.6, loss=0.168]\n",
            "Validation: 100%|██████████| 42/42 [00:01<00:00, 40.61batch/s, accuracy=82.8, loss=0.476]\n"
          ]
        },
        {
          "output_type": "stream",
          "name": "stdout",
          "text": [
            "------------------------------ \n",
            "\n",
            "Epoch [47/75]\n"
          ]
        },
        {
          "output_type": "stream",
          "name": "stderr",
          "text": [
            "Training: 100%|██████████| 42/42 [00:02<00:00, 20.56batch/s, accuracy=83.8, loss=0.291]\n",
            "Validation: 100%|██████████| 42/42 [00:01<00:00, 29.61batch/s, accuracy=82.4, loss=0.524]\n"
          ]
        },
        {
          "output_type": "stream",
          "name": "stdout",
          "text": [
            "------------------------------ \n",
            "\n",
            "Epoch [48/75]\n"
          ]
        },
        {
          "output_type": "stream",
          "name": "stderr",
          "text": [
            "Training: 100%|██████████| 42/42 [00:01<00:00, 23.47batch/s, accuracy=83.5, loss=0.319]\n",
            "Validation: 100%|██████████| 42/42 [00:01<00:00, 40.49batch/s, accuracy=81.7, loss=0.576]\n"
          ]
        },
        {
          "output_type": "stream",
          "name": "stdout",
          "text": [
            "------------------------------ \n",
            "\n",
            "Epoch [49/75]\n"
          ]
        },
        {
          "output_type": "stream",
          "name": "stderr",
          "text": [
            "Training: 100%|██████████| 42/42 [00:01<00:00, 24.74batch/s, accuracy=84, loss=0.119]\n",
            "Validation: 100%|██████████| 42/42 [00:01<00:00, 41.01batch/s, accuracy=82, loss=0.54]\n"
          ]
        },
        {
          "output_type": "stream",
          "name": "stdout",
          "text": [
            "------------------------------ \n",
            "\n",
            "Epoch [50/75]\n"
          ]
        },
        {
          "output_type": "stream",
          "name": "stderr",
          "text": [
            "Training: 100%|██████████| 42/42 [00:01<00:00, 24.37batch/s, accuracy=83.2, loss=0.328]\n",
            "Validation: 100%|██████████| 42/42 [00:01<00:00, 40.63batch/s, accuracy=82.7, loss=0.595]\n"
          ]
        },
        {
          "output_type": "stream",
          "name": "stdout",
          "text": [
            "------------------------------ \n",
            "\n",
            "Epoch [51/75]\n"
          ]
        },
        {
          "output_type": "stream",
          "name": "stderr",
          "text": [
            "Training: 100%|██████████| 42/42 [00:01<00:00, 25.18batch/s, accuracy=84.2, loss=0.334]\n",
            "Validation: 100%|██████████| 42/42 [00:01<00:00, 31.96batch/s, accuracy=82.1, loss=0.483]\n"
          ]
        },
        {
          "output_type": "stream",
          "name": "stdout",
          "text": [
            "------------------------------ \n",
            "\n",
            "Epoch [52/75]\n"
          ]
        },
        {
          "output_type": "stream",
          "name": "stderr",
          "text": [
            "Training: 100%|██████████| 42/42 [00:02<00:00, 18.15batch/s, accuracy=82.3, loss=0.172]\n",
            "Validation: 100%|██████████| 42/42 [00:01<00:00, 41.09batch/s, accuracy=82, loss=0.533]\n"
          ]
        },
        {
          "output_type": "stream",
          "name": "stdout",
          "text": [
            "------------------------------ \n",
            "\n",
            "Epoch [53/75]\n"
          ]
        },
        {
          "output_type": "stream",
          "name": "stderr",
          "text": [
            "Training: 100%|██████████| 42/42 [00:01<00:00, 24.74batch/s, accuracy=83.2, loss=0.189]\n",
            "Validation: 100%|██████████| 42/42 [00:01<00:00, 40.38batch/s, accuracy=82.5, loss=0.559]\n"
          ]
        },
        {
          "output_type": "stream",
          "name": "stdout",
          "text": [
            "------------------------------ \n",
            "\n",
            "Epoch [54/75]\n"
          ]
        },
        {
          "output_type": "stream",
          "name": "stderr",
          "text": [
            "Training: 100%|██████████| 42/42 [00:01<00:00, 24.92batch/s, accuracy=83.4, loss=0.563]\n",
            "Validation: 100%|██████████| 42/42 [00:01<00:00, 41.14batch/s, accuracy=83.2, loss=0.549]\n"
          ]
        },
        {
          "output_type": "stream",
          "name": "stdout",
          "text": [
            "------------------------------ \n",
            "\n",
            "Epoch [55/75]\n"
          ]
        },
        {
          "output_type": "stream",
          "name": "stderr",
          "text": [
            "Training: 100%|██████████| 42/42 [00:01<00:00, 25.24batch/s, accuracy=83.8, loss=0.806]\n",
            "Validation: 100%|██████████| 42/42 [00:01<00:00, 40.71batch/s, accuracy=83.1, loss=0.541]\n"
          ]
        },
        {
          "output_type": "stream",
          "name": "stdout",
          "text": [
            "------------------------------ \n",
            "\n",
            "Epoch [56/75]\n"
          ]
        },
        {
          "output_type": "stream",
          "name": "stderr",
          "text": [
            "Training: 100%|██████████| 42/42 [00:02<00:00, 19.73batch/s, accuracy=83.3, loss=0.425]\n",
            "Validation: 100%|██████████| 42/42 [00:01<00:00, 29.55batch/s, accuracy=82.3, loss=0.5]\n"
          ]
        },
        {
          "output_type": "stream",
          "name": "stdout",
          "text": [
            "------------------------------ \n",
            "\n",
            "Epoch [57/75]\n"
          ]
        },
        {
          "output_type": "stream",
          "name": "stderr",
          "text": [
            "Training: 100%|██████████| 42/42 [00:01<00:00, 22.88batch/s, accuracy=83.3, loss=0.808]\n",
            "Validation: 100%|██████████| 42/42 [00:01<00:00, 39.82batch/s, accuracy=81.1, loss=0.49]\n"
          ]
        },
        {
          "output_type": "stream",
          "name": "stdout",
          "text": [
            "------------------------------ \n",
            "\n",
            "Epoch [58/75]\n"
          ]
        },
        {
          "output_type": "stream",
          "name": "stderr",
          "text": [
            "Training: 100%|██████████| 42/42 [00:01<00:00, 24.65batch/s, accuracy=84.1, loss=0.643]\n",
            "Validation: 100%|██████████| 42/42 [00:01<00:00, 38.94batch/s, accuracy=82.5, loss=0.6]\n"
          ]
        },
        {
          "output_type": "stream",
          "name": "stdout",
          "text": [
            "------------------------------ \n",
            "\n",
            "Epoch [59/75]\n"
          ]
        },
        {
          "output_type": "stream",
          "name": "stderr",
          "text": [
            "Training: 100%|██████████| 42/42 [00:01<00:00, 24.56batch/s, accuracy=83.8, loss=0.414]\n",
            "Validation: 100%|██████████| 42/42 [00:01<00:00, 40.60batch/s, accuracy=80.7, loss=0.521]\n"
          ]
        },
        {
          "output_type": "stream",
          "name": "stdout",
          "text": [
            "------------------------------ \n",
            "\n",
            "Epoch [60/75]\n"
          ]
        },
        {
          "output_type": "stream",
          "name": "stderr",
          "text": [
            "Training: 100%|██████████| 42/42 [00:02<00:00, 18.90batch/s, accuracy=83.7, loss=0.447]\n",
            "Validation: 100%|██████████| 42/42 [00:01<00:00, 31.74batch/s, accuracy=82.7, loss=0.47]\n"
          ]
        },
        {
          "output_type": "stream",
          "name": "stdout",
          "text": [
            "------------------------------ \n",
            "\n",
            "Epoch [61/75]\n"
          ]
        },
        {
          "output_type": "stream",
          "name": "stderr",
          "text": [
            "Training: 100%|██████████| 42/42 [00:02<00:00, 18.83batch/s, accuracy=83.5, loss=0.437]\n",
            "Validation: 100%|██████████| 42/42 [00:01<00:00, 41.05batch/s, accuracy=83.2, loss=0.496]\n"
          ]
        },
        {
          "output_type": "stream",
          "name": "stdout",
          "text": [
            "------------------------------ \n",
            "\n",
            "Epoch [62/75]\n"
          ]
        },
        {
          "output_type": "stream",
          "name": "stderr",
          "text": [
            "Training: 100%|██████████| 42/42 [00:01<00:00, 24.48batch/s, accuracy=83.3, loss=0.092]\n",
            "Validation: 100%|██████████| 42/42 [00:01<00:00, 41.60batch/s, accuracy=84, loss=0.511]\n"
          ]
        },
        {
          "output_type": "stream",
          "name": "stdout",
          "text": [
            "------------------------------ \n",
            "\n",
            "Epoch [63/75]\n"
          ]
        },
        {
          "output_type": "stream",
          "name": "stderr",
          "text": [
            "Training: 100%|██████████| 42/42 [00:01<00:00, 24.85batch/s, accuracy=83.2, loss=0.158]\n",
            "Validation: 100%|██████████| 42/42 [00:01<00:00, 40.88batch/s, accuracy=82.6, loss=0.501]\n"
          ]
        },
        {
          "output_type": "stream",
          "name": "stdout",
          "text": [
            "------------------------------ \n",
            "\n",
            "Epoch [64/75]\n"
          ]
        },
        {
          "output_type": "stream",
          "name": "stderr",
          "text": [
            "Training: 100%|██████████| 42/42 [00:01<00:00, 25.13batch/s, accuracy=83.9, loss=0.123]\n",
            "Validation: 100%|██████████| 42/42 [00:01<00:00, 40.90batch/s, accuracy=83, loss=0.692]\n"
          ]
        },
        {
          "output_type": "stream",
          "name": "stdout",
          "text": [
            "------------------------------ \n",
            "\n",
            "Epoch [65/75]\n"
          ]
        },
        {
          "output_type": "stream",
          "name": "stderr",
          "text": [
            "Training: 100%|██████████| 42/42 [00:02<00:00, 19.01batch/s, accuracy=85.1, loss=0.75]\n",
            "Validation: 100%|██████████| 42/42 [00:01<00:00, 30.53batch/s, accuracy=82.6, loss=0.531]\n"
          ]
        },
        {
          "output_type": "stream",
          "name": "stdout",
          "text": [
            "------------------------------ \n",
            "\n",
            "Epoch [66/75]\n"
          ]
        },
        {
          "output_type": "stream",
          "name": "stderr",
          "text": [
            "Training: 100%|██████████| 42/42 [00:01<00:00, 24.86batch/s, accuracy=83.2, loss=0.512]\n",
            "Validation: 100%|██████████| 42/42 [00:01<00:00, 40.90batch/s, accuracy=83.5, loss=0.542]\n"
          ]
        },
        {
          "output_type": "stream",
          "name": "stdout",
          "text": [
            "------------------------------ \n",
            "\n",
            "Epoch [67/75]\n"
          ]
        },
        {
          "output_type": "stream",
          "name": "stderr",
          "text": [
            "Training: 100%|██████████| 42/42 [00:01<00:00, 25.53batch/s, accuracy=84.5, loss=0.0861]\n",
            "Validation: 100%|██████████| 42/42 [00:01<00:00, 40.06batch/s, accuracy=81.8, loss=0.605]\n"
          ]
        },
        {
          "output_type": "stream",
          "name": "stdout",
          "text": [
            "------------------------------ \n",
            "\n",
            "Epoch [68/75]\n"
          ]
        },
        {
          "output_type": "stream",
          "name": "stderr",
          "text": [
            "Training: 100%|██████████| 42/42 [00:01<00:00, 24.71batch/s, accuracy=83.2, loss=0.715]\n",
            "Validation: 100%|██████████| 42/42 [00:01<00:00, 40.51batch/s, accuracy=82.6, loss=0.456]\n"
          ]
        },
        {
          "output_type": "stream",
          "name": "stdout",
          "text": [
            "------------------------------ \n",
            "\n",
            "Epoch [69/75]\n"
          ]
        },
        {
          "output_type": "stream",
          "name": "stderr",
          "text": [
            "Training: 100%|██████████| 42/42 [00:01<00:00, 23.59batch/s, accuracy=84.8, loss=0.528]\n",
            "Validation: 100%|██████████| 42/42 [00:01<00:00, 32.16batch/s, accuracy=83.5, loss=0.572]\n"
          ]
        },
        {
          "output_type": "stream",
          "name": "stdout",
          "text": [
            "------------------------------ \n",
            "\n",
            "Epoch [70/75]\n"
          ]
        },
        {
          "output_type": "stream",
          "name": "stderr",
          "text": [
            "Training: 100%|██████████| 42/42 [00:02<00:00, 20.01batch/s, accuracy=84.7, loss=0.106]\n",
            "Validation: 100%|██████████| 42/42 [00:01<00:00, 41.87batch/s, accuracy=82.3, loss=0.604]\n"
          ]
        },
        {
          "output_type": "stream",
          "name": "stdout",
          "text": [
            "------------------------------ \n",
            "\n",
            "Epoch [71/75]\n"
          ]
        },
        {
          "output_type": "stream",
          "name": "stderr",
          "text": [
            "Training: 100%|██████████| 42/42 [00:01<00:00, 24.46batch/s, accuracy=84, loss=0.829]\n",
            "Validation: 100%|██████████| 42/42 [00:01<00:00, 40.54batch/s, accuracy=82.5, loss=0.487]\n"
          ]
        },
        {
          "output_type": "stream",
          "name": "stdout",
          "text": [
            "------------------------------ \n",
            "\n",
            "Epoch [72/75]\n"
          ]
        },
        {
          "output_type": "stream",
          "name": "stderr",
          "text": [
            "Training: 100%|██████████| 42/42 [00:01<00:00, 24.59batch/s, accuracy=85.1, loss=0.379]\n",
            "Validation: 100%|██████████| 42/42 [00:01<00:00, 39.67batch/s, accuracy=82.2, loss=0.457]\n"
          ]
        },
        {
          "output_type": "stream",
          "name": "stdout",
          "text": [
            "------------------------------ \n",
            "\n",
            "Epoch [73/75]\n"
          ]
        },
        {
          "output_type": "stream",
          "name": "stderr",
          "text": [
            "Training: 100%|██████████| 42/42 [00:01<00:00, 25.17batch/s, accuracy=84.4, loss=0.179]\n",
            "Validation: 100%|██████████| 42/42 [00:01<00:00, 41.70batch/s, accuracy=82.3, loss=0.428]\n"
          ]
        },
        {
          "output_type": "stream",
          "name": "stdout",
          "text": [
            "------------------------------ \n",
            "\n",
            "Epoch [74/75]\n"
          ]
        },
        {
          "output_type": "stream",
          "name": "stderr",
          "text": [
            "Training: 100%|██████████| 42/42 [00:02<00:00, 18.36batch/s, accuracy=84.4, loss=0.443]\n",
            "Validation: 100%|██████████| 42/42 [00:01<00:00, 32.98batch/s, accuracy=82.9, loss=0.6]\n"
          ]
        },
        {
          "output_type": "stream",
          "name": "stdout",
          "text": [
            "------------------------------ \n",
            "\n",
            "Epoch [75/75]\n"
          ]
        },
        {
          "output_type": "stream",
          "name": "stderr",
          "text": [
            "Training: 100%|██████████| 42/42 [00:01<00:00, 24.76batch/s, accuracy=84.9, loss=0.216]\n",
            "Validation: 100%|██████████| 42/42 [00:01<00:00, 41.39batch/s, accuracy=82.3, loss=0.461]"
          ]
        },
        {
          "output_type": "stream",
          "name": "stdout",
          "text": [
            "------------------------------ \n",
            "\n"
          ]
        },
        {
          "output_type": "stream",
          "name": "stderr",
          "text": [
            "\n"
          ]
        }
      ],
      "source": [
        "train_acc, train_loss, val_acc, val_loss = train_model(model, optimizer, criterion, dataset, train_loader, val_loader, num_epochs=num_epochs)"
      ]
    },
    {
      "cell_type": "markdown",
      "source": [
        "#### Show Result"
      ],
      "metadata": {
        "id": "dBmB2bgtignC"
      }
    },
    {
      "cell_type": "code",
      "source": [
        "plot_metric('Accuracy', train_acc, val_acc, epochs=num_epochs)\n",
        "plot_metric('Loss', train_loss, val_loss, epochs=num_epochs)"
      ],
      "metadata": {
        "colab": {
          "base_uri": "https://localhost:8080/",
          "height": 977
        },
        "id": "GdeONBYqiidW",
        "outputId": "98cf8020-bdf4-483e-d1a5-ac7cc6f7c63a"
      },
      "execution_count": 23,
      "outputs": [
        {
          "output_type": "display_data",
          "data": {
            "text/plain": [
              "<Figure size 1000x500 with 1 Axes>"
            ],
            "image/png": "[encoded data removed]"
          },
          "metadata": {}
        },
        {
          "output_type": "display_data",
          "data": {
            "text/plain": [
              "<Figure size 1000x500 with 1 Axes>"
            ],
            "image/png": "[encoded data removed]"
          },
          "metadata": {}
        }
      ]
    },
    {
      "cell_type": "markdown",
      "source": [
        "#### Test"
      ],
      "metadata": {
        "id": "YhsLez4x8whr"
      }
    },
    {
      "cell_type": "code",
      "source": [
        "test_loss, test_acc = eval_model(model, criterion, dataset, test_loader, 'test')\n",
        "print(f'test loss = {test_loss}')\n",
        "print(f'test acc = {test_acc}')"
      ],
      "metadata": {
        "id": "NmVa8n6L8x5E",
        "colab": {
          "base_uri": "https://localhost:8080/"
        },
        "outputId": "d66890fb-55c2-4dec-9ceb-690dd5cb077d"
      },
      "execution_count": 24,
      "outputs": [
        {
          "output_type": "stream",
          "name": "stderr",
          "text": [
            "Validation: 100%|██████████| 21/21 [00:00<00:00, 41.32batch/s, accuracy=78.6, loss=0.267]"
          ]
        },
        {
          "output_type": "stream",
          "name": "stdout",
          "text": [
            "test loss = 0.4335316377026694\n",
            "test acc = 78.63636363636364\n"
          ]
        },
        {
          "output_type": "stream",
          "name": "stderr",
          "text": [
            "\n"
          ]
        }
      ]
    },
    {
      "cell_type": "markdown",
      "source": [
        "## Model2"
      ],
      "metadata": {
        "id": "NldwIZ6nmA9-"
      }
    },
    {
      "cell_type": "markdown",
      "source": [
        "#### Model Class"
      ],
      "metadata": {
        "id": "agX4r5dw7-xC"
      }
    },
    {
      "cell_type": "code",
      "execution_count": 25,
      "metadata": {
        "id": "Q__ecpmlEnnw"
      },
      "outputs": [],
      "source": [
        "class conv_block(nn.Module):\n",
        "  def __init__(self, in_channels, out_channels, **kwargs):\n",
        "    super(conv_block, self).__init__()\n",
        "    self.relu = nn.ReLU()\n",
        "    self.conv = nn.Conv2d(in_channels, out_channels, **kwargs)\n",
        "    self.batchnorm = nn.BatchNorm2d(out_channels)\n",
        "\n",
        "  def forward(self, x):\n",
        "    return self.relu(self.batchnorm(self.conv(x)))"
      ]
    },
    {
      "cell_type": "code",
      "execution_count": 26,
      "metadata": {
        "id": "3Z7AiwaYEnnw"
      },
      "outputs": [],
      "source": [
        "class ImprovedSkinCancerCNN(nn.Module):\n",
        "    def __init__(self):\n",
        "        super(ImprovedSkinCancerCNN, self).__init__()\n",
        "\n",
        "        self.conv1 = conv_block(in_channels=3, out_channels=64, kernel_size=3, padding=1, stride=1)\n",
        "        self.pool1 = nn.MaxPool2d(kernel_size=2, stride=2)\n",
        "        self.dropout1 = nn.Dropout(p=0.15)\n",
        "\n",
        "        self.conv2 = conv_block(in_channels=64, out_channels=128, kernel_size=3, padding=1, stride=1)\n",
        "        self.pool2 = nn.MaxPool2d(kernel_size=2, stride=2)\n",
        "        self.dropout2 = nn.Dropout(p=0.15)\n",
        "\n",
        "        self.conv3 = conv_block(in_channels=128, out_channels=256, kernel_size=3, padding=1, stride=1)\n",
        "        self.pool3 = nn.MaxPool2d(kernel_size=1, stride=2)\n",
        "        self.dropout3 = nn.Dropout(p=0.15)\n",
        "\n",
        "        self.conv4 = conv_block(in_channels=256, out_channels=512, kernel_size=3, padding=1, stride=1)\n",
        "        self.pool4 = nn.MaxPool2d(kernel_size=2, stride=2)\n",
        "        self.dropout4 = nn.Dropout(p=0.15)\n",
        "\n",
        "        self.flatten = nn.Flatten()\n",
        "\n",
        "        self.fc1 = nn.Linear(2 * 2 * 512, 512)\n",
        "        self.fc2 = nn.Linear(512, 64)\n",
        "        self.fc3 = nn.Linear(64, 2)\n",
        "\n",
        "    def forward(self, x):\n",
        "        x = self.conv1(x)\n",
        "        x = self.pool1(x)\n",
        "        x = self.dropout1(x)\n",
        "\n",
        "        x = self.conv2(x)\n",
        "        x = self.pool2(x)\n",
        "        x = self.dropout2(x)\n",
        "\n",
        "        x = self.conv3(x)\n",
        "        x = self.pool3(x)\n",
        "        x = self.dropout3(x)\n",
        "\n",
        "        x = self.conv4(x)\n",
        "        x = self.pool4(x)\n",
        "        x = self.dropout4(x)\n",
        "\n",
        "        x = self.flatten(x)\n",
        "\n",
        "        x = F.relu(self.fc1(x))\n",
        "        x = F.relu(self.fc2(x))\n",
        "        x = self.fc3(x)\n",
        "        return x"
      ]
    },
    {
      "cell_type": "markdown",
      "source": [
        "#### Train"
      ],
      "metadata": {
        "id": "mIPJNTB_8A__"
      }
    },
    {
      "cell_type": "code",
      "source": [
        "custom_train_transform = transforms.Compose([\n",
        "    transforms.ToPILImage(),\n",
        "    transforms.RandomHorizontalFlip(),\n",
        "    transforms.RandomVerticalFlip(),\n",
        "    transforms.RandomRotation(15),\n",
        "    transforms.RandomResizedCrop(28, scale=(0.9, 1.1)),\n",
        "    transforms.ColorJitter(brightness=0.1, contrast=0.1, saturation=0.1),\n",
        "    ToTensorAndMove(device),\n",
        "])\n",
        "\n",
        "custom_val_transform = transforms.Compose([\n",
        "    transforms.ToPILImage(),\n",
        "    transforms.ColorJitter(brightness=0.1, contrast=0.1, saturation=0.1),\n",
        "    ToTensorAndMove(device),\n",
        "])"
      ],
      "metadata": {
        "id": "U1rXF6hlj9NR"
      },
      "execution_count": 28,
      "outputs": []
    },
    {
      "cell_type": "code",
      "source": [
        "dataset2 = Data(device=device, img_size_w=28, img_size_h=28)\n",
        "dataset2.set_transformers(custom_train_transform, custom_val_transform) # custom_train_transform, custom_val_transform\n",
        "\n",
        "dataset2.balance_with_undersampling()\n",
        "dataset2.normalize()\n",
        "\n",
        "dataset2.set_mode('train')\n",
        "train_loader2 = DataLoader(dataset2, batch_size=32, shuffle=True)\n",
        "print(type(train_loader2))\n",
        "\n",
        "dataset2.set_mode('val')\n",
        "val_loader2 = DataLoader(dataset2, batch_size=32, shuffle=False)\n",
        "print(type(val_loader2))\n",
        "\n",
        "dataset2.set_mode('test')\n",
        "test_loader2 = DataLoader(dataset2, batch_size=32, shuffle=False)\n",
        "print(type(test_loader2))"
      ],
      "metadata": {
        "colab": {
          "base_uri": "https://localhost:8080/"
        },
        "id": "cT4WF144jzEV",
        "outputId": "2b703f12-ac78-4db8-c541-c3a7f09fb8c6"
      },
      "execution_count": 29,
      "outputs": [
        {
          "output_type": "stream",
          "name": "stdout",
          "text": [
            "dataset shape is : (1800, 28, 28, 3)\n",
            "<class 'torch.utils.data.dataloader.DataLoader'>\n",
            "<class 'torch.utils.data.dataloader.DataLoader'>\n",
            "<class 'torch.utils.data.dataloader.DataLoader'>\n"
          ]
        }
      ]
    },
    {
      "cell_type": "code",
      "execution_count": 30,
      "metadata": {
        "id": "5pV2C3MoEnnw",
        "colab": {
          "base_uri": "https://localhost:8080/"
        },
        "outputId": "9d29da24-53d9-4e24-b902-e922ccc837ab"
      },
      "outputs": [
        {
          "output_type": "stream",
          "name": "stderr",
          "text": [
            "/usr/local/lib/python3.10/dist-packages/torch/optim/lr_scheduler.py:62: UserWarning: The verbose parameter is deprecated. Please use get_last_lr() to access the learning rate.\n",
            "  warnings.warn(\n"
          ]
        },
        {
          "output_type": "stream",
          "name": "stdout",
          "text": [
            "Epoch [1/75]\n"
          ]
        },
        {
          "output_type": "stream",
          "name": "stderr",
          "text": [
            "Training: 100%|██████████| 42/42 [00:01<00:00, 22.09batch/s, accuracy=73.6, loss=0.678]\n",
            "Validation: 100%|██████████| 42/42 [00:01<00:00, 36.02batch/s, accuracy=65, loss=0.481]\n"
          ]
        },
        {
          "output_type": "stream",
          "name": "stdout",
          "text": [
            "------------------------------ \n",
            "\n",
            "Epoch [2/75]\n"
          ]
        },
        {
          "output_type": "stream",
          "name": "stderr",
          "text": [
            "Training: 100%|██████████| 42/42 [00:02<00:00, 18.60batch/s, accuracy=76.7, loss=0.397]\n",
            "Validation: 100%|██████████| 42/42 [00:01<00:00, 37.25batch/s, accuracy=78.9, loss=0.461]\n"
          ]
        },
        {
          "output_type": "stream",
          "name": "stdout",
          "text": [
            "------------------------------ \n",
            "\n",
            "Epoch [3/75]\n"
          ]
        },
        {
          "output_type": "stream",
          "name": "stderr",
          "text": [
            "Training: 100%|██████████| 42/42 [00:01<00:00, 23.77batch/s, accuracy=79.8, loss=0.262]\n",
            "Validation: 100%|██████████| 42/42 [00:01<00:00, 40.41batch/s, accuracy=81.3, loss=0.464]\n"
          ]
        },
        {
          "output_type": "stream",
          "name": "stdout",
          "text": [
            "------------------------------ \n",
            "\n",
            "Epoch [4/75]\n"
          ]
        },
        {
          "output_type": "stream",
          "name": "stderr",
          "text": [
            "Training: 100%|██████████| 42/42 [00:01<00:00, 23.80batch/s, accuracy=78.6, loss=0.608]\n",
            "Validation: 100%|██████████| 42/42 [00:01<00:00, 39.51batch/s, accuracy=80.2, loss=0.512]\n"
          ]
        },
        {
          "output_type": "stream",
          "name": "stdout",
          "text": [
            "------------------------------ \n",
            "\n",
            "Epoch [5/75]\n"
          ]
        },
        {
          "output_type": "stream",
          "name": "stderr",
          "text": [
            "Training: 100%|██████████| 42/42 [00:02<00:00, 18.49batch/s, accuracy=80.5, loss=0.669]\n",
            "Validation: 100%|██████████| 42/42 [00:01<00:00, 22.63batch/s, accuracy=83.2, loss=0.318]\n"
          ]
        },
        {
          "output_type": "stream",
          "name": "stdout",
          "text": [
            "------------------------------ \n",
            "\n",
            "Epoch [6/75]\n"
          ]
        },
        {
          "output_type": "stream",
          "name": "stderr",
          "text": [
            "Training: 100%|██████████| 42/42 [00:02<00:00, 17.72batch/s, accuracy=79.4, loss=0.844]\n",
            "Validation: 100%|██████████| 42/42 [00:01<00:00, 23.18batch/s, accuracy=83.6, loss=0.383]\n"
          ]
        },
        {
          "output_type": "stream",
          "name": "stdout",
          "text": [
            "------------------------------ \n",
            "\n",
            "Epoch [7/75]\n"
          ]
        },
        {
          "output_type": "stream",
          "name": "stderr",
          "text": [
            "Training: 100%|██████████| 42/42 [00:02<00:00, 14.97batch/s, accuracy=80.8, loss=0.536]\n",
            "Validation: 100%|██████████| 42/42 [00:01<00:00, 32.66batch/s, accuracy=81.5, loss=0.394]\n"
          ]
        },
        {
          "output_type": "stream",
          "name": "stdout",
          "text": [
            "------------------------------ \n",
            "\n",
            "Epoch [8/75]\n"
          ]
        },
        {
          "output_type": "stream",
          "name": "stderr",
          "text": [
            "Training: 100%|██████████| 42/42 [00:01<00:00, 22.39batch/s, accuracy=81.6, loss=0.481]\n",
            "Validation: 100%|██████████| 42/42 [00:01<00:00, 36.66batch/s, accuracy=82.9, loss=0.367]\n"
          ]
        },
        {
          "output_type": "stream",
          "name": "stdout",
          "text": [
            "------------------------------ \n",
            "\n",
            "Epoch [9/75]\n"
          ]
        },
        {
          "output_type": "stream",
          "name": "stderr",
          "text": [
            "Training: 100%|██████████| 42/42 [00:03<00:00, 13.62batch/s, accuracy=81, loss=0.421]\n",
            "Validation: 100%|██████████| 42/42 [00:01<00:00, 24.51batch/s, accuracy=83.6, loss=0.367]\n"
          ]
        },
        {
          "output_type": "stream",
          "name": "stdout",
          "text": [
            "------------------------------ \n",
            "\n",
            "Epoch [10/75]\n"
          ]
        },
        {
          "output_type": "stream",
          "name": "stderr",
          "text": [
            "Training: 100%|██████████| 42/42 [00:02<00:00, 14.88batch/s, accuracy=82.1, loss=0.391]\n",
            "Validation: 100%|██████████| 42/42 [00:01<00:00, 25.42batch/s, accuracy=82.3, loss=0.398]\n"
          ]
        },
        {
          "output_type": "stream",
          "name": "stdout",
          "text": [
            "------------------------------ \n",
            "\n",
            "Epoch [11/75]\n"
          ]
        },
        {
          "output_type": "stream",
          "name": "stderr",
          "text": [
            "Training: 100%|██████████| 42/42 [00:01<00:00, 22.56batch/s, accuracy=80.9, loss=0.367]\n",
            "Validation: 100%|██████████| 42/42 [00:01<00:00, 37.75batch/s, accuracy=82.7, loss=0.388]\n"
          ]
        },
        {
          "output_type": "stream",
          "name": "stdout",
          "text": [
            "------------------------------ \n",
            "\n",
            "Epoch [12/75]\n"
          ]
        },
        {
          "output_type": "stream",
          "name": "stderr",
          "text": [
            "Training: 100%|██████████| 42/42 [00:02<00:00, 17.12batch/s, accuracy=83.5, loss=0.149]\n",
            "Validation: 100%|██████████| 42/42 [00:01<00:00, 22.89batch/s, accuracy=84.1, loss=0.367]\n"
          ]
        },
        {
          "output_type": "stream",
          "name": "stdout",
          "text": [
            "------------------------------ \n",
            "\n",
            "Epoch [13/75]\n"
          ]
        },
        {
          "output_type": "stream",
          "name": "stderr",
          "text": [
            "Training: 100%|██████████| 42/42 [00:03<00:00, 11.75batch/s, accuracy=83.6, loss=0.28]\n",
            "Validation: 100%|██████████| 42/42 [00:01<00:00, 40.90batch/s, accuracy=83.2, loss=0.255]\n"
          ]
        },
        {
          "output_type": "stream",
          "name": "stdout",
          "text": [
            "------------------------------ \n",
            "\n",
            "Epoch [14/75]\n"
          ]
        },
        {
          "output_type": "stream",
          "name": "stderr",
          "text": [
            "Training: 100%|██████████| 42/42 [00:01<00:00, 23.95batch/s, accuracy=83.5, loss=0.138]\n",
            "Validation: 100%|██████████| 42/42 [00:01<00:00, 40.88batch/s, accuracy=80.5, loss=0.494]\n"
          ]
        },
        {
          "output_type": "stream",
          "name": "stdout",
          "text": [
            "------------------------------ \n",
            "\n",
            "Epoch [15/75]\n"
          ]
        },
        {
          "output_type": "stream",
          "name": "stderr",
          "text": [
            "Training: 100%|██████████| 42/42 [00:01<00:00, 23.79batch/s, accuracy=83.9, loss=0.342]\n",
            "Validation: 100%|██████████| 42/42 [00:01<00:00, 41.01batch/s, accuracy=83.5, loss=0.335]\n"
          ]
        },
        {
          "output_type": "stream",
          "name": "stdout",
          "text": [
            "------------------------------ \n",
            "\n",
            "Epoch [16/75]\n"
          ]
        },
        {
          "output_type": "stream",
          "name": "stderr",
          "text": [
            "Training: 100%|██████████| 42/42 [00:01<00:00, 23.60batch/s, accuracy=84.3, loss=0.193]\n",
            "Validation: 100%|██████████| 42/42 [00:01<00:00, 31.55batch/s, accuracy=83.2, loss=0.304]\n"
          ]
        },
        {
          "output_type": "stream",
          "name": "stdout",
          "text": [
            "------------------------------ \n",
            "\n",
            "Epoch [17/75]\n"
          ]
        },
        {
          "output_type": "stream",
          "name": "stderr",
          "text": [
            "Training: 100%|██████████| 42/42 [00:02<00:00, 18.44batch/s, accuracy=83.2, loss=0.246]\n",
            "Validation: 100%|██████████| 42/42 [00:01<00:00, 40.92batch/s, accuracy=82.9, loss=0.45]\n"
          ]
        },
        {
          "output_type": "stream",
          "name": "stdout",
          "text": [
            "------------------------------ \n",
            "\n",
            "Epoch [18/75]\n"
          ]
        },
        {
          "output_type": "stream",
          "name": "stderr",
          "text": [
            "Training: 100%|██████████| 42/42 [00:01<00:00, 23.68batch/s, accuracy=84.7, loss=0.256]\n",
            "Validation: 100%|██████████| 42/42 [00:01<00:00, 40.51batch/s, accuracy=76.6, loss=0.427]\n"
          ]
        },
        {
          "output_type": "stream",
          "name": "stdout",
          "text": [
            "------------------------------ \n",
            "\n",
            "Epoch [19/75]\n"
          ]
        },
        {
          "output_type": "stream",
          "name": "stderr",
          "text": [
            "Training: 100%|██████████| 42/42 [00:01<00:00, 24.46batch/s, accuracy=83.2, loss=0.713]\n",
            "Validation: 100%|██████████| 42/42 [00:01<00:00, 40.84batch/s, accuracy=83.6, loss=0.371]\n"
          ]
        },
        {
          "output_type": "stream",
          "name": "stdout",
          "text": [
            "------------------------------ \n",
            "\n",
            "Epoch [20/75]\n"
          ]
        },
        {
          "output_type": "stream",
          "name": "stderr",
          "text": [
            "Training: 100%|██████████| 42/42 [00:01<00:00, 23.72batch/s, accuracy=82.4, loss=0.119]\n",
            "Validation: 100%|██████████| 42/42 [00:01<00:00, 40.99batch/s, accuracy=83.6, loss=0.353]\n"
          ]
        },
        {
          "output_type": "stream",
          "name": "stdout",
          "text": [
            "------------------------------ \n",
            "\n",
            "Epoch [21/75]\n"
          ]
        },
        {
          "output_type": "stream",
          "name": "stderr",
          "text": [
            "Training: 100%|██████████| 42/42 [00:02<00:00, 18.31batch/s, accuracy=84.9, loss=0.237]\n",
            "Validation: 100%|██████████| 42/42 [00:01<00:00, 31.53batch/s, accuracy=85, loss=0.317]\n"
          ]
        },
        {
          "output_type": "stream",
          "name": "stdout",
          "text": [
            "------------------------------ \n",
            "\n",
            "Epoch [22/75]\n"
          ]
        },
        {
          "output_type": "stream",
          "name": "stderr",
          "text": [
            "Training: 100%|██████████| 42/42 [00:01<00:00, 23.94batch/s, accuracy=84.1, loss=0.146]\n",
            "Validation: 100%|██████████| 42/42 [00:01<00:00, 39.95batch/s, accuracy=81.4, loss=0.492]\n"
          ]
        },
        {
          "output_type": "stream",
          "name": "stdout",
          "text": [
            "------------------------------ \n",
            "\n",
            "Epoch [23/75]\n"
          ]
        },
        {
          "output_type": "stream",
          "name": "stderr",
          "text": [
            "Training: 100%|██████████| 42/42 [00:01<00:00, 24.16batch/s, accuracy=84.9, loss=0.362]\n",
            "Validation: 100%|██████████| 42/42 [00:01<00:00, 40.57batch/s, accuracy=86.3, loss=0.252]\n"
          ]
        },
        {
          "output_type": "stream",
          "name": "stdout",
          "text": [
            "------------------------------ \n",
            "\n",
            "Epoch [24/75]\n"
          ]
        },
        {
          "output_type": "stream",
          "name": "stderr",
          "text": [
            "Training: 100%|██████████| 42/42 [00:01<00:00, 24.10batch/s, accuracy=86.6, loss=0.432]\n",
            "Validation: 100%|██████████| 42/42 [00:01<00:00, 40.87batch/s, accuracy=85, loss=0.352]\n"
          ]
        },
        {
          "output_type": "stream",
          "name": "stdout",
          "text": [
            "------------------------------ \n",
            "\n",
            "Epoch [25/75]\n"
          ]
        },
        {
          "output_type": "stream",
          "name": "stderr",
          "text": [
            "Training: 100%|██████████| 42/42 [00:01<00:00, 22.97batch/s, accuracy=86, loss=0.442]\n",
            "Validation: 100%|██████████| 42/42 [00:01<00:00, 32.13batch/s, accuracy=83.2, loss=0.513]\n"
          ]
        },
        {
          "output_type": "stream",
          "name": "stdout",
          "text": [
            "------------------------------ \n",
            "\n",
            "Epoch [26/75]\n"
          ]
        },
        {
          "output_type": "stream",
          "name": "stderr",
          "text": [
            "Training: 100%|██████████| 42/42 [00:02<00:00, 15.81batch/s, accuracy=84.5, loss=0.213]\n",
            "Validation: 100%|██████████| 42/42 [00:01<00:00, 40.82batch/s, accuracy=83.9, loss=0.593]\n"
          ]
        },
        {
          "output_type": "stream",
          "name": "stdout",
          "text": [
            "------------------------------ \n",
            "\n",
            "Epoch [27/75]\n"
          ]
        },
        {
          "output_type": "stream",
          "name": "stderr",
          "text": [
            "Training: 100%|██████████| 42/42 [00:01<00:00, 23.62batch/s, accuracy=85.2, loss=0.394]\n",
            "Validation: 100%|██████████| 42/42 [00:01<00:00, 40.22batch/s, accuracy=85.1, loss=0.222]\n"
          ]
        },
        {
          "output_type": "stream",
          "name": "stdout",
          "text": [
            "------------------------------ \n",
            "\n",
            "Epoch [28/75]\n"
          ]
        },
        {
          "output_type": "stream",
          "name": "stderr",
          "text": [
            "Training: 100%|██████████| 42/42 [00:01<00:00, 23.48batch/s, accuracy=85.4, loss=0.655]\n",
            "Validation: 100%|██████████| 42/42 [00:01<00:00, 40.76batch/s, accuracy=84.9, loss=0.228]\n"
          ]
        },
        {
          "output_type": "stream",
          "name": "stdout",
          "text": [
            "------------------------------ \n",
            "\n",
            "Epoch [29/75]\n"
          ]
        },
        {
          "output_type": "stream",
          "name": "stderr",
          "text": [
            "Training: 100%|██████████| 42/42 [00:02<00:00, 20.66batch/s, accuracy=85.7, loss=0.116]\n",
            "Validation: 100%|██████████| 42/42 [00:01<00:00, 34.51batch/s, accuracy=86.2, loss=0.438]\n"
          ]
        },
        {
          "output_type": "stream",
          "name": "stdout",
          "text": [
            "------------------------------ \n",
            "\n",
            "Epoch [30/75]\n"
          ]
        },
        {
          "output_type": "stream",
          "name": "stderr",
          "text": [
            "Training: 100%|██████████| 42/42 [00:02<00:00, 18.25batch/s, accuracy=87.3, loss=0.667]\n",
            "Validation: 100%|██████████| 42/42 [00:01<00:00, 40.01batch/s, accuracy=87.1, loss=0.267]\n"
          ]
        },
        {
          "output_type": "stream",
          "name": "stdout",
          "text": [
            "------------------------------ \n",
            "\n",
            "Epoch [31/75]\n"
          ]
        },
        {
          "output_type": "stream",
          "name": "stderr",
          "text": [
            "Training: 100%|██████████| 42/42 [00:01<00:00, 23.67batch/s, accuracy=85.7, loss=0.401]\n",
            "Validation: 100%|██████████| 42/42 [00:01<00:00, 39.36batch/s, accuracy=86, loss=0.588]\n"
          ]
        },
        {
          "output_type": "stream",
          "name": "stdout",
          "text": [
            "------------------------------ \n",
            "\n",
            "Epoch [32/75]\n"
          ]
        },
        {
          "output_type": "stream",
          "name": "stderr",
          "text": [
            "Training: 100%|██████████| 42/42 [00:01<00:00, 23.36batch/s, accuracy=86.1, loss=0.297]\n",
            "Validation: 100%|██████████| 42/42 [00:01<00:00, 41.12batch/s, accuracy=86.6, loss=0.244]\n"
          ]
        },
        {
          "output_type": "stream",
          "name": "stdout",
          "text": [
            "------------------------------ \n",
            "\n",
            "Epoch [33/75]\n"
          ]
        },
        {
          "output_type": "stream",
          "name": "stderr",
          "text": [
            "Training: 100%|██████████| 42/42 [00:01<00:00, 23.76batch/s, accuracy=86.7, loss=0.0615]\n",
            "Validation: 100%|██████████| 42/42 [00:01<00:00, 40.70batch/s, accuracy=85.1, loss=0.229]\n"
          ]
        },
        {
          "output_type": "stream",
          "name": "stdout",
          "text": [
            "------------------------------ \n",
            "\n",
            "Epoch [34/75]\n"
          ]
        },
        {
          "output_type": "stream",
          "name": "stderr",
          "text": [
            "Training: 100%|██████████| 42/42 [00:02<00:00, 18.07batch/s, accuracy=86.7, loss=0.299]\n",
            "Validation: 100%|██████████| 42/42 [00:01<00:00, 32.01batch/s, accuracy=84.5, loss=0.538]\n"
          ]
        },
        {
          "output_type": "stream",
          "name": "stdout",
          "text": [
            "------------------------------ \n",
            "\n",
            "Epoch [35/75]\n"
          ]
        },
        {
          "output_type": "stream",
          "name": "stderr",
          "text": [
            "Training: 100%|██████████| 42/42 [00:01<00:00, 23.86batch/s, accuracy=87.3, loss=0.14]\n",
            "Validation: 100%|██████████| 42/42 [00:01<00:00, 40.54batch/s, accuracy=86.1, loss=0.384]\n"
          ]
        },
        {
          "output_type": "stream",
          "name": "stdout",
          "text": [
            "------------------------------ \n",
            "\n",
            "Epoch [36/75]\n"
          ]
        },
        {
          "output_type": "stream",
          "name": "stderr",
          "text": [
            "Training: 100%|██████████| 42/42 [00:01<00:00, 23.83batch/s, accuracy=87, loss=0.374]\n",
            "Validation: 100%|██████████| 42/42 [00:01<00:00, 41.14batch/s, accuracy=85.3, loss=0.225]\n"
          ]
        },
        {
          "output_type": "stream",
          "name": "stdout",
          "text": [
            "------------------------------ \n",
            "\n",
            "Epoch [37/75]\n"
          ]
        },
        {
          "output_type": "stream",
          "name": "stderr",
          "text": [
            "Training: 100%|██████████| 42/42 [00:01<00:00, 23.89batch/s, accuracy=86.7, loss=0.411]\n",
            "Validation: 100%|██████████| 42/42 [00:01<00:00, 39.69batch/s, accuracy=85.6, loss=0.177]\n"
          ]
        },
        {
          "output_type": "stream",
          "name": "stdout",
          "text": [
            "------------------------------ \n",
            "\n",
            "Epoch [38/75]\n"
          ]
        },
        {
          "output_type": "stream",
          "name": "stderr",
          "text": [
            "Training: 100%|██████████| 42/42 [00:01<00:00, 21.61batch/s, accuracy=86.6, loss=0.107]\n",
            "Validation: 100%|██████████| 42/42 [00:01<00:00, 30.96batch/s, accuracy=84.4, loss=0.507]\n"
          ]
        },
        {
          "output_type": "stream",
          "name": "stdout",
          "text": [
            "------------------------------ \n",
            "\n",
            "Epoch [39/75]\n"
          ]
        },
        {
          "output_type": "stream",
          "name": "stderr",
          "text": [
            "Training: 100%|██████████| 42/42 [00:01<00:00, 22.01batch/s, accuracy=87.1, loss=0.235]\n",
            "Validation: 100%|██████████| 42/42 [00:01<00:00, 41.18batch/s, accuracy=86, loss=0.403]\n"
          ]
        },
        {
          "output_type": "stream",
          "name": "stdout",
          "text": [
            "------------------------------ \n",
            "\n",
            "Epoch [40/75]\n"
          ]
        },
        {
          "output_type": "stream",
          "name": "stderr",
          "text": [
            "Training: 100%|██████████| 42/42 [00:01<00:00, 23.63batch/s, accuracy=87.9, loss=0.372]\n",
            "Validation: 100%|██████████| 42/42 [00:01<00:00, 41.12batch/s, accuracy=86.8, loss=0.425]\n"
          ]
        },
        {
          "output_type": "stream",
          "name": "stdout",
          "text": [
            "------------------------------ \n",
            "\n",
            "Epoch [41/75]\n"
          ]
        },
        {
          "output_type": "stream",
          "name": "stderr",
          "text": [
            "Training: 100%|██████████| 42/42 [00:01<00:00, 23.37batch/s, accuracy=87.3, loss=0.686]\n",
            "Validation: 100%|██████████| 42/42 [00:01<00:00, 39.95batch/s, accuracy=80.9, loss=0.891]\n"
          ]
        },
        {
          "output_type": "stream",
          "name": "stdout",
          "text": [
            "------------------------------ \n",
            "\n",
            "Epoch [42/75]\n"
          ]
        },
        {
          "output_type": "stream",
          "name": "stderr",
          "text": [
            "Training: 100%|██████████| 42/42 [00:01<00:00, 23.74batch/s, accuracy=87.3, loss=0.135]\n",
            "Validation: 100%|██████████| 42/42 [00:01<00:00, 31.43batch/s, accuracy=86.7, loss=0.227]\n"
          ]
        },
        {
          "output_type": "stream",
          "name": "stdout",
          "text": [
            "------------------------------ \n",
            "\n",
            "Epoch [43/75]\n"
          ]
        },
        {
          "output_type": "stream",
          "name": "stderr",
          "text": [
            "Training: 100%|██████████| 42/42 [00:02<00:00, 19.27batch/s, accuracy=88.9, loss=0.773]\n",
            "Validation: 100%|██████████| 42/42 [00:01<00:00, 41.41batch/s, accuracy=84.4, loss=0.459]\n"
          ]
        },
        {
          "output_type": "stream",
          "name": "stdout",
          "text": [
            "------------------------------ \n",
            "\n",
            "Epoch [44/75]\n"
          ]
        },
        {
          "output_type": "stream",
          "name": "stderr",
          "text": [
            "Training: 100%|██████████| 42/42 [00:01<00:00, 23.65batch/s, accuracy=88.8, loss=0.753]\n",
            "Validation: 100%|██████████| 42/42 [00:01<00:00, 40.76batch/s, accuracy=86.3, loss=0.503]\n"
          ]
        },
        {
          "output_type": "stream",
          "name": "stdout",
          "text": [
            "------------------------------ \n",
            "\n",
            "Epoch [45/75]\n"
          ]
        },
        {
          "output_type": "stream",
          "name": "stderr",
          "text": [
            "Training: 100%|██████████| 42/42 [00:01<00:00, 23.38batch/s, accuracy=87.1, loss=0.192]\n",
            "Validation: 100%|██████████| 42/42 [00:01<00:00, 41.03batch/s, accuracy=86.8, loss=0.383]\n"
          ]
        },
        {
          "output_type": "stream",
          "name": "stdout",
          "text": [
            "------------------------------ \n",
            "\n",
            "Epoch [46/75]\n"
          ]
        },
        {
          "output_type": "stream",
          "name": "stderr",
          "text": [
            "Training: 100%|██████████| 42/42 [00:01<00:00, 23.51batch/s, accuracy=87.7, loss=0.211]\n",
            "Validation: 100%|██████████| 42/42 [00:01<00:00, 36.44batch/s, accuracy=87.7, loss=0.368]\n"
          ]
        },
        {
          "output_type": "stream",
          "name": "stdout",
          "text": [
            "------------------------------ \n",
            "\n",
            "Epoch [47/75]\n"
          ]
        },
        {
          "output_type": "stream",
          "name": "stderr",
          "text": [
            "Training: 100%|██████████| 42/42 [00:02<00:00, 17.79batch/s, accuracy=86.8, loss=0.0458]\n",
            "Validation: 100%|██████████| 42/42 [00:01<00:00, 40.60batch/s, accuracy=86.3, loss=0.269]\n"
          ]
        },
        {
          "output_type": "stream",
          "name": "stdout",
          "text": [
            "------------------------------ \n",
            "\n",
            "Epoch [48/75]\n"
          ]
        },
        {
          "output_type": "stream",
          "name": "stderr",
          "text": [
            "Training: 100%|██████████| 42/42 [00:01<00:00, 23.40batch/s, accuracy=88.7, loss=0.678]\n",
            "Validation: 100%|██████████| 42/42 [00:01<00:00, 40.27batch/s, accuracy=84.9, loss=0.561]\n"
          ]
        },
        {
          "output_type": "stream",
          "name": "stdout",
          "text": [
            "------------------------------ \n",
            "\n",
            "Epoch [49/75]\n"
          ]
        },
        {
          "output_type": "stream",
          "name": "stderr",
          "text": [
            "Training: 100%|██████████| 42/42 [00:02<00:00, 18.41batch/s, accuracy=87.8, loss=0.0701]\n",
            "Validation: 100%|██████████| 42/42 [00:01<00:00, 41.09batch/s, accuracy=85.1, loss=0.325]\n"
          ]
        },
        {
          "output_type": "stream",
          "name": "stdout",
          "text": [
            "------------------------------ \n",
            "\n",
            "Epoch [50/75]\n"
          ]
        },
        {
          "output_type": "stream",
          "name": "stderr",
          "text": [
            "Training: 100%|██████████| 42/42 [00:01<00:00, 23.86batch/s, accuracy=87.6, loss=0.947]\n",
            "Validation: 100%|██████████| 42/42 [00:01<00:00, 39.64batch/s, accuracy=87.5, loss=0.492]\n"
          ]
        },
        {
          "output_type": "stream",
          "name": "stdout",
          "text": [
            "------------------------------ \n",
            "\n",
            "Epoch [51/75]\n"
          ]
        },
        {
          "output_type": "stream",
          "name": "stderr",
          "text": [
            "Training: 100%|██████████| 42/42 [00:02<00:00, 17.42batch/s, accuracy=88.2, loss=0.198]\n",
            "Validation: 100%|██████████| 42/42 [00:01<00:00, 35.00batch/s, accuracy=86.8, loss=0.25]\n"
          ]
        },
        {
          "output_type": "stream",
          "name": "stdout",
          "text": [
            "------------------------------ \n",
            "\n",
            "Epoch [52/75]\n"
          ]
        },
        {
          "output_type": "stream",
          "name": "stderr",
          "text": [
            "Training: 100%|██████████| 42/42 [00:01<00:00, 23.61batch/s, accuracy=89.8, loss=0.158]\n",
            "Validation: 100%|██████████| 42/42 [00:01<00:00, 40.65batch/s, accuracy=85.7, loss=0.176]\n"
          ]
        },
        {
          "output_type": "stream",
          "name": "stdout",
          "text": [
            "------------------------------ \n",
            "\n",
            "Epoch [53/75]\n"
          ]
        },
        {
          "output_type": "stream",
          "name": "stderr",
          "text": [
            "Training: 100%|██████████| 42/42 [00:01<00:00, 23.66batch/s, accuracy=89.4, loss=0.0728]\n",
            "Validation: 100%|██████████| 42/42 [00:01<00:00, 41.20batch/s, accuracy=85.7, loss=0.29]\n"
          ]
        },
        {
          "output_type": "stream",
          "name": "stdout",
          "text": [
            "------------------------------ \n",
            "\n",
            "Epoch [54/75]\n"
          ]
        },
        {
          "output_type": "stream",
          "name": "stderr",
          "text": [
            "Training: 100%|██████████| 42/42 [00:01<00:00, 24.14batch/s, accuracy=88.6, loss=0.0311]\n",
            "Validation: 100%|██████████| 42/42 [00:01<00:00, 41.03batch/s, accuracy=84.7, loss=0.396]\n"
          ]
        },
        {
          "output_type": "stream",
          "name": "stdout",
          "text": [
            "------------------------------ \n",
            "\n",
            "Epoch [55/75]\n"
          ]
        },
        {
          "output_type": "stream",
          "name": "stderr",
          "text": [
            "Training: 100%|██████████| 42/42 [00:02<00:00, 19.86batch/s, accuracy=88.5, loss=0.0879]\n",
            "Validation: 100%|██████████| 42/42 [00:01<00:00, 28.58batch/s, accuracy=84.2, loss=0.55]\n"
          ]
        },
        {
          "output_type": "stream",
          "name": "stdout",
          "text": [
            "------------------------------ \n",
            "\n",
            "Epoch [56/75]\n"
          ]
        },
        {
          "output_type": "stream",
          "name": "stderr",
          "text": [
            "Training: 100%|██████████| 42/42 [00:01<00:00, 22.54batch/s, accuracy=89.8, loss=0.582]\n",
            "Validation: 100%|██████████| 42/42 [00:01<00:00, 40.50batch/s, accuracy=86.4, loss=0.202]\n"
          ]
        },
        {
          "output_type": "stream",
          "name": "stdout",
          "text": [
            "------------------------------ \n",
            "\n",
            "Epoch [57/75]\n"
          ]
        },
        {
          "output_type": "stream",
          "name": "stderr",
          "text": [
            "Training: 100%|██████████| 42/42 [00:01<00:00, 23.50batch/s, accuracy=90.2, loss=0.399]\n",
            "Validation: 100%|██████████| 42/42 [00:01<00:00, 40.19batch/s, accuracy=85.4, loss=0.239]\n"
          ]
        },
        {
          "output_type": "stream",
          "name": "stdout",
          "text": [
            "------------------------------ \n",
            "\n",
            "Epoch [58/75]\n"
          ]
        },
        {
          "output_type": "stream",
          "name": "stderr",
          "text": [
            "Training: 100%|██████████| 42/42 [00:01<00:00, 23.97batch/s, accuracy=87.3, loss=0.186]\n",
            "Validation: 100%|██████████| 42/42 [00:01<00:00, 41.08batch/s, accuracy=87.7, loss=0.681]\n"
          ]
        },
        {
          "output_type": "stream",
          "name": "stdout",
          "text": [
            "------------------------------ \n",
            "\n",
            "Epoch [59/75]\n"
          ]
        },
        {
          "output_type": "stream",
          "name": "stderr",
          "text": [
            "Training: 100%|██████████| 42/42 [00:01<00:00, 24.01batch/s, accuracy=90.1, loss=0.144]\n",
            "Validation: 100%|██████████| 42/42 [00:01<00:00, 28.67batch/s, accuracy=85.5, loss=0.151]\n"
          ]
        },
        {
          "output_type": "stream",
          "name": "stdout",
          "text": [
            "------------------------------ \n",
            "\n",
            "Epoch [60/75]\n"
          ]
        },
        {
          "output_type": "stream",
          "name": "stderr",
          "text": [
            "Training: 100%|██████████| 42/42 [00:02<00:00, 18.79batch/s, accuracy=90.4, loss=0.037]\n",
            "Validation: 100%|██████████| 42/42 [00:01<00:00, 39.49batch/s, accuracy=83.7, loss=0.247]\n"
          ]
        },
        {
          "output_type": "stream",
          "name": "stdout",
          "text": [
            "------------------------------ \n",
            "\n",
            "Epoch [61/75]\n"
          ]
        },
        {
          "output_type": "stream",
          "name": "stderr",
          "text": [
            "Training: 100%|██████████| 42/42 [00:01<00:00, 23.39batch/s, accuracy=89.1, loss=0.369]\n",
            "Validation: 100%|██████████| 42/42 [00:01<00:00, 40.88batch/s, accuracy=86.2, loss=0.308]\n"
          ]
        },
        {
          "output_type": "stream",
          "name": "stdout",
          "text": [
            "------------------------------ \n",
            "\n",
            "Epoch [62/75]\n"
          ]
        },
        {
          "output_type": "stream",
          "name": "stderr",
          "text": [
            "Training: 100%|██████████| 42/42 [00:01<00:00, 23.59batch/s, accuracy=89.6, loss=0.665]\n",
            "Validation: 100%|██████████| 42/42 [00:01<00:00, 40.39batch/s, accuracy=85.4, loss=0.266]\n"
          ]
        },
        {
          "output_type": "stream",
          "name": "stdout",
          "text": [
            "------------------------------ \n",
            "\n",
            "Epoch [63/75]\n"
          ]
        },
        {
          "output_type": "stream",
          "name": "stderr",
          "text": [
            "Training: 100%|██████████| 42/42 [00:01<00:00, 23.61batch/s, accuracy=89.2, loss=0.0778]\n",
            "Validation: 100%|██████████| 42/42 [00:01<00:00, 40.07batch/s, accuracy=85.7, loss=0.254]\n"
          ]
        },
        {
          "output_type": "stream",
          "name": "stdout",
          "text": [
            "------------------------------ \n",
            "\n",
            "Epoch [64/75]\n"
          ]
        },
        {
          "output_type": "stream",
          "name": "stderr",
          "text": [
            "Training: 100%|██████████| 42/42 [00:02<00:00, 17.35batch/s, accuracy=89.7, loss=0.012]\n",
            "Validation: 100%|██████████| 42/42 [00:01<00:00, 35.10batch/s, accuracy=86.5, loss=0.403]\n"
          ]
        },
        {
          "output_type": "stream",
          "name": "stdout",
          "text": [
            "------------------------------ \n",
            "\n",
            "Epoch [65/75]\n"
          ]
        },
        {
          "output_type": "stream",
          "name": "stderr",
          "text": [
            "Training: 100%|██████████| 42/42 [00:01<00:00, 23.48batch/s, accuracy=90.4, loss=0.044]\n",
            "Validation: 100%|██████████| 42/42 [00:01<00:00, 39.90batch/s, accuracy=85.4, loss=0.52]\n"
          ]
        },
        {
          "output_type": "stream",
          "name": "stdout",
          "text": [
            "------------------------------ \n",
            "\n",
            "Epoch [66/75]\n"
          ]
        },
        {
          "output_type": "stream",
          "name": "stderr",
          "text": [
            "Training: 100%|██████████| 42/42 [00:01<00:00, 23.59batch/s, accuracy=91.5, loss=0.174]\n",
            "Validation: 100%|██████████| 42/42 [00:01<00:00, 40.41batch/s, accuracy=85.4, loss=0.62]\n"
          ]
        },
        {
          "output_type": "stream",
          "name": "stdout",
          "text": [
            "------------------------------ \n",
            "\n",
            "Epoch [67/75]\n"
          ]
        },
        {
          "output_type": "stream",
          "name": "stderr",
          "text": [
            "Training: 100%|██████████| 42/42 [00:01<00:00, 23.24batch/s, accuracy=89.8, loss=0.109]\n",
            "Validation: 100%|██████████| 42/42 [00:01<00:00, 39.73batch/s, accuracy=86.3, loss=0.179]\n"
          ]
        },
        {
          "output_type": "stream",
          "name": "stdout",
          "text": [
            "------------------------------ \n",
            "\n",
            "Epoch [68/75]\n"
          ]
        },
        {
          "output_type": "stream",
          "name": "stderr",
          "text": [
            "Training: 100%|██████████| 42/42 [00:02<00:00, 20.17batch/s, accuracy=89.5, loss=0.0328]\n",
            "Validation: 100%|██████████| 42/42 [00:01<00:00, 30.26batch/s, accuracy=85.9, loss=0.202]\n"
          ]
        },
        {
          "output_type": "stream",
          "name": "stdout",
          "text": [
            "------------------------------ \n",
            "\n",
            "Epoch [69/75]\n"
          ]
        },
        {
          "output_type": "stream",
          "name": "stderr",
          "text": [
            "Training: 100%|██████████| 42/42 [00:01<00:00, 21.95batch/s, accuracy=90.3, loss=0.132]\n",
            "Validation: 100%|██████████| 42/42 [00:01<00:00, 40.75batch/s, accuracy=85.4, loss=0.368]\n"
          ]
        },
        {
          "output_type": "stream",
          "name": "stdout",
          "text": [
            "------------------------------ \n",
            "\n",
            "Epoch [70/75]\n"
          ]
        },
        {
          "output_type": "stream",
          "name": "stderr",
          "text": [
            "Training: 100%|██████████| 42/42 [00:01<00:00, 23.25batch/s, accuracy=90.5, loss=0.349]\n",
            "Validation: 100%|██████████| 42/42 [00:01<00:00, 39.96batch/s, accuracy=85.5, loss=0.252]\n"
          ]
        },
        {
          "output_type": "stream",
          "name": "stdout",
          "text": [
            "------------------------------ \n",
            "\n",
            "Epoch [71/75]\n"
          ]
        },
        {
          "output_type": "stream",
          "name": "stderr",
          "text": [
            "Training: 100%|██████████| 42/42 [00:01<00:00, 23.58batch/s, accuracy=91.2, loss=0.0268]\n",
            "Validation: 100%|██████████| 42/42 [00:01<00:00, 38.79batch/s, accuracy=84.2, loss=0.806]\n"
          ]
        },
        {
          "output_type": "stream",
          "name": "stdout",
          "text": [
            "------------------------------ \n",
            "\n",
            "Epoch [72/75]\n"
          ]
        },
        {
          "output_type": "stream",
          "name": "stderr",
          "text": [
            "Training: 100%|██████████| 42/42 [00:01<00:00, 23.30batch/s, accuracy=90.3, loss=0.197]\n",
            "Validation: 100%|██████████| 42/42 [00:01<00:00, 30.86batch/s, accuracy=83.2, loss=0.769]\n"
          ]
        },
        {
          "output_type": "stream",
          "name": "stdout",
          "text": [
            "------------------------------ \n",
            "\n",
            "Epoch [73/75]\n"
          ]
        },
        {
          "output_type": "stream",
          "name": "stderr",
          "text": [
            "Training: 100%|██████████| 42/42 [00:02<00:00, 18.73batch/s, accuracy=90, loss=0.134]\n",
            "Validation: 100%|██████████| 42/42 [00:01<00:00, 39.95batch/s, accuracy=86.7, loss=0.328]\n"
          ]
        },
        {
          "output_type": "stream",
          "name": "stdout",
          "text": [
            "------------------------------ \n",
            "\n",
            "Epoch [74/75]\n"
          ]
        },
        {
          "output_type": "stream",
          "name": "stderr",
          "text": [
            "Training: 100%|██████████| 42/42 [00:01<00:00, 23.80batch/s, accuracy=90.8, loss=1.15]\n",
            "Validation: 100%|██████████| 42/42 [00:01<00:00, 40.28batch/s, accuracy=84.2, loss=0.449]\n"
          ]
        },
        {
          "output_type": "stream",
          "name": "stdout",
          "text": [
            "------------------------------ \n",
            "\n",
            "Epoch [75/75]\n"
          ]
        },
        {
          "output_type": "stream",
          "name": "stderr",
          "text": [
            "Training: 100%|██████████| 42/42 [00:01<00:00, 23.31batch/s, accuracy=90.6, loss=0.156]\n",
            "Validation: 100%|██████████| 42/42 [00:01<00:00, 40.57batch/s, accuracy=86, loss=0.378]"
          ]
        },
        {
          "output_type": "stream",
          "name": "stdout",
          "text": [
            "------------------------------ \n",
            "\n"
          ]
        },
        {
          "output_type": "stream",
          "name": "stderr",
          "text": [
            "\n"
          ]
        }
      ],
      "source": [
        "improvedModel = ImprovedSkinCancerCNN().to(device)\n",
        "optimizer = optim.Adam(improvedModel.parameters(), lr=learning_rate)\n",
        "train_acc, train_loss, val_acc, val_loss = train_model(improvedModel, optimizer, criterion, dataset2, train_loader2, val_loader2, num_epochs=num_epochs)"
      ]
    },
    {
      "cell_type": "markdown",
      "source": [
        "#### Show Results"
      ],
      "metadata": {
        "id": "Z0DFbJ0HkEZm"
      }
    },
    {
      "cell_type": "code",
      "source": [
        "plot_metric('Accuracy', train_acc, val_acc, epochs=num_epochs)\n",
        "plot_metric('Loss', train_loss, val_loss, epochs=num_epochs)"
      ],
      "metadata": {
        "colab": {
          "base_uri": "https://localhost:8080/",
          "height": 977
        },
        "id": "j06KVOm-kGkX",
        "outputId": "3b004440-84a0-4b5c-9c88-782dba993787"
      },
      "execution_count": 31,
      "outputs": [
        {
          "output_type": "display_data",
          "data": {
            "text/plain": [
              "<Figure size 1000x500 with 1 Axes>"
            ],
            "image/png": "[encoded data removed]"
          },
          "metadata": {}
        },
        {
          "output_type": "display_data",
          "data": {
            "text/plain": [
              "<Figure size 1000x500 with 1 Axes>"
            ],
            "image/png": "[encoded data removed]"
          },
          "metadata": {}
        }
      ]
    },
    {
      "cell_type": "markdown",
      "source": [
        "#### Test"
      ],
      "metadata": {
        "id": "XwNSVU3O8DpJ"
      }
    },
    {
      "cell_type": "code",
      "execution_count": 33,
      "metadata": {
        "id": "USL826YHEnnw",
        "colab": {
          "base_uri": "https://localhost:8080/"
        },
        "outputId": "4575beb8-a624-458f-a07f-fd4ad74e20d6"
      },
      "outputs": [
        {
          "output_type": "stream",
          "name": "stderr",
          "text": [
            "Validation: 100%|██████████| 21/21 [00:00<00:00, 22.74batch/s, accuracy=83.3, loss=0.365]"
          ]
        },
        {
          "output_type": "stream",
          "name": "stdout",
          "text": [
            "test loss = 0.364307117604074\n",
            "test acc = 83.33333333333333\n"
          ]
        },
        {
          "output_type": "stream",
          "name": "stderr",
          "text": [
            "\n"
          ]
        }
      ],
      "source": [
        "test_loss, test_acc = eval_model(improvedModel, criterion, dataset2, test_loader2, 'test')\n",
        "print(f'test loss = {test_loss}')\n",
        "print(f'test acc = {test_acc}')"
      ]
    },
    {
      "cell_type": "markdown",
      "source": [
        "## GoogleNet"
      ],
      "metadata": {
        "id": "gtrSwcReuJrl"
      }
    },
    {
      "cell_type": "markdown",
      "source": [
        "#### GoogleNet Model"
      ],
      "metadata": {
        "id": "C4PV3Hhc7q1G"
      }
    },
    {
      "cell_type": "code",
      "source": [
        "class GoogLeNet(nn.Module):\n",
        "  def __init__(self, aux_logits=True, num_classes=4):\n",
        "    super(GoogLeNet, self).__init__()\n",
        "    assert aux_logits == True or aux_logits == False\n",
        "    self.aux_logits = aux_logits\n",
        "\n",
        "    self.conv1 = conv_block(\n",
        "        in_channels=3,\n",
        "        out_channels=64,\n",
        "        kernel_size=7,\n",
        "        stride=2,\n",
        "        padding=3,\n",
        "    )\n",
        "\n",
        "    self.maxpool1 = nn.MaxPool2d(kernel_size=3, stride=2, padding=1)\n",
        "    self.conv2 = conv_block(64, 192, kernel_size=3, stride=1, padding=1)\n",
        "    self.maxpool2 = nn.MaxPool2d(kernel_size=3, stride=2, padding=1)\n",
        "\n",
        "    # In this order: in_channels, out_1x1, red_3x3, out_3x3, red_5x5, out_5x5, out_1x1pool\n",
        "    self.inception3a = Inception_block(192, 64, 96, 128, 16, 32, 32)\n",
        "    self.inception3b = Inception_block(256, 128, 128, 192, 32, 96, 64)\n",
        "    self.maxpool3 = nn.MaxPool2d(kernel_size=3, stride=2, padding=1)\n",
        "\n",
        "    self.inception4a = Inception_block(480, 192, 96, 208, 16, 48, 64)\n",
        "    self.inception4b = Inception_block(512, 160, 112, 224, 24, 64, 64)\n",
        "    self.inception4c = Inception_block(512, 128, 128, 256, 24, 64, 64)\n",
        "    self.inception4d = Inception_block(512, 112, 144, 288, 32, 64, 64)\n",
        "    self.inception4e = Inception_block(528, 256, 160, 320, 32, 128, 128)\n",
        "    self.maxpool4 = nn.MaxPool2d(kernel_size=3, stride=2, padding=1)\n",
        "\n",
        "    self.inception5a = Inception_block(832, 256, 160, 320, 32, 128, 128)\n",
        "    self.inception5b = Inception_block(832, 384, 192, 384, 48, 128, 128)\n",
        "\n",
        "    self.avgpool = nn.AvgPool2d(kernel_size=7, stride=1)\n",
        "    self.dropout = nn.Dropout(p=0.4)\n",
        "    self.fc1 = nn.Linear(1024, num_classes)\n",
        "\n",
        "    if self.aux_logits:\n",
        "      self.aux1 = InceptionAux(512, num_classes)\n",
        "      self.aux2 = InceptionAux(528, num_classes)\n",
        "    else:\n",
        "      self.aux1 = self.aux2 = None\n",
        "\n",
        "  def forward(self, x ):\n",
        "    x = self.conv1(x)       #\n",
        "    x = self.maxpool1(x)    #\n",
        "    x = self.conv2(x)       #\n",
        "    x = self.maxpool2(x)    #\n",
        "\n",
        "    x = self.inception3a(x) # 192, 64\n",
        "    x = self.inception3b(x) # 256, 128\n",
        "    x = self.maxpool3(x)    #\n",
        "\n",
        "    x = self.inception4a(x) #\n",
        "\n",
        "    # Auxiliary Softmax classifier 1\n",
        "    if self.aux_logits and self.training:\n",
        "      aux1 = self.aux1(x)\n",
        "\n",
        "    x = self.inception4b(x) # 512, 160\n",
        "    x = self.inception4c(x) # 512, 128\n",
        "    x = self.inception4d(x) # 512, 112\n",
        "\n",
        "    # Auxiliary Softmax classifier 2\n",
        "    if self.aux_logits and self.training:\n",
        "      aux2 = self.aux2(x)\n",
        "\n",
        "    x = self.inception4e(x)\n",
        "    x = self.maxpool4(x)\n",
        "    x = self.inception5a(x)\n",
        "    x = self.inception5b(x)\n",
        "    x = self.avgpool(x)\n",
        "    x = x.reshape(x.shape[0], -1)\n",
        "    x = self.dropout(x)\n",
        "    x = self.fc1(x)\n",
        "\n",
        "    if self.aux_logits and self.training:\n",
        "      return aux1, aux2, x\n",
        "    else:\n",
        "      return x\n",
        "\n",
        "\n",
        "class Inception_block(nn.Module):\n",
        "  def __init__(self, in_channels, out_1x1, red_3x3, out_3x3, red_5x5, out_5x5, out_1x1pool):\n",
        "    super(Inception_block, self).__init__()\n",
        "    self.branch1 = conv_block(in_channels, out_1x1, kernel_size=1)\n",
        "\n",
        "    self.branch2 = nn.Sequential(\n",
        "      conv_block(in_channels, red_3x3, kernel_size=1),\n",
        "      conv_block(red_3x3, out_3x3, kernel_size=(3, 3), padding=1),\n",
        "    )\n",
        "\n",
        "    self.branch3 = nn.Sequential(\n",
        "      conv_block(in_channels, red_5x5, kernel_size=1),\n",
        "      conv_block(red_5x5, out_5x5, kernel_size=5, padding=2),\n",
        "    )\n",
        "\n",
        "    self.branch4 = nn.Sequential(\n",
        "      nn.MaxPool2d(kernel_size=3, stride=1, padding=1),\n",
        "      conv_block(in_channels, out_1x1pool, kernel_size=1),\n",
        "    )\n",
        "\n",
        "  def forward(self, x):\n",
        "    return torch.cat([self.branch1(x), self.branch2(x), self.branch3(x), self.branch4(x)], 1)\n",
        "\n",
        "\n",
        "class InceptionAux(nn.Module):\n",
        "  def __init__(self, in_channels, num_classes):\n",
        "    super(InceptionAux, self).__init__()\n",
        "    self.relu = nn.ReLU()\n",
        "    self.dropout = nn.Dropout(p=0.7)\n",
        "    self.pool = nn.AvgPool2d(kernel_size=5, stride=3)\n",
        "    self.conv = conv_block(in_channels, 128, kernel_size=1)\n",
        "    self.fc1 = nn.Linear(2048, 1024)\n",
        "    self.fc2 = nn.Linear(1024, num_classes)\n",
        "\n",
        "  def forward(self, x):\n",
        "    x = self.pool(x)\n",
        "    x = self.conv(x)\n",
        "    x = x.reshape(x.shape[0], -1)\n",
        "    x = self.relu(self.fc1(x))\n",
        "    x = self.dropout(x)\n",
        "    x = self.fc2(x)\n",
        "    return x\n",
        "\n",
        "\n",
        "class conv_block(nn.Module):\n",
        "  def __init__(self, in_channels, out_channels, **kwargs):\n",
        "    super(conv_block, self).__init__()\n",
        "    self.relu = nn.ReLU()\n",
        "    self.conv = nn.Conv2d(in_channels, out_channels, **kwargs)\n",
        "    self.batchnorm = nn.BatchNorm2d(out_channels)\n",
        "\n",
        "  def forward(self, x):\n",
        "    return self.relu(self.batchnorm(self.conv(x)))\n",
        "\n"
      ],
      "metadata": {
        "id": "-szPFCj0uKdI"
      },
      "execution_count": 34,
      "outputs": []
    },
    {
      "cell_type": "code",
      "source": [
        "def train_model(model, optimizer, criterion, dataset, train_loader, val_loader, num_epochs=10):\n",
        "    model.to(device)\n",
        "    train_accuracies = []\n",
        "    train_losses = []\n",
        "    val_accuracies = []\n",
        "    val_losses = []\n",
        "\n",
        "    # Learning rate scheduler based on validation loss\n",
        "    scheduler = torch.optim.lr_scheduler.ReduceLROnPlateau(optimizer, factor=0.1, patience=10, verbose=True)\n",
        "\n",
        "    for epoch in range(num_epochs):\n",
        "        print(f\"Epoch [{epoch + 1}/{num_epochs}]\")\n",
        "\n",
        "        # Training phase\n",
        "        dataset.mode = 'train'\n",
        "        model.train()\n",
        "        total_train_loss = 0.0\n",
        "        correct_train = 0\n",
        "        total_train = 0\n",
        "\n",
        "        with tqdm(total=len(train_loader), desc=\"Training\", unit=\"batch\") as pbar:\n",
        "            for batch in train_loader:\n",
        "                images, labels = batch['image'].to(device), batch['label'].to(device)\n",
        "                # print('images.shape: ', images.shape)\n",
        "                # Forward pass\n",
        "                optimizer.zero_grad()\n",
        "                outputs = model(images)\n",
        "\n",
        "                # Compute loss\n",
        "                if isinstance(outputs, tuple):  # GoogLeNet produces multiple outputs\n",
        "                    loss1 = criterion(outputs[0], labels.long())\n",
        "                    loss2 = criterion(outputs[1], labels.long())\n",
        "                    loss3 = criterion(outputs[2], labels.long())\n",
        "                    loss = loss1 + loss2 + loss3\n",
        "                else:\n",
        "                    loss = criterion(outputs, labels.long())\n",
        "\n",
        "                # Backward pass\n",
        "                loss.backward()\n",
        "                optimizer.step()\n",
        "\n",
        "                total_train_loss += loss.item()\n",
        "\n",
        "                # Calculate accuracy\n",
        "                _, predicted = torch.max(outputs[2], 1)\n",
        "                # _, predicted = outputs[0].max(1)  # Use primary output for accuracy\n",
        "                total_train += labels.size(0)\n",
        "                correct_train += predicted.eq(labels).sum().item()\n",
        "\n",
        "                # Progress bar update\n",
        "                pbar.set_postfix(loss=loss.item(), accuracy=100. * correct_train / total_train)\n",
        "                pbar.update(1)\n",
        "\n",
        "        # Calculate average training loss and accuracy for the epoch\n",
        "        avg_train_loss = total_train_loss / len(train_loader)\n",
        "        train_accuracy = 100. * correct_train / total_train\n",
        "        train_accuracies.append(train_accuracy)\n",
        "        train_losses.append(avg_train_loss)\n",
        "\n",
        "        # Validation phase\n",
        "        model.eval()\n",
        "        dataset.mode = 'val'\n",
        "        total_val_loss = 0.0\n",
        "        correct_val = 0\n",
        "        total_val = 0\n",
        "\n",
        "        with torch.no_grad():\n",
        "            with tqdm(total=len(val_loader), desc=\"Validation\", unit=\"batch\") as pbar:\n",
        "                for batch in val_loader:\n",
        "                    images, labels = batch['image'].to(device), batch['label'].to(device)\n",
        "                    # print(images.shape)\n",
        "\n",
        "                    # Forward pass\n",
        "                    outputs = model(images)\n",
        "\n",
        "                    # # Compute loss\n",
        "                    # if isinstance(outputs, tuple):\n",
        "                    #     loss1 = criterion(outputs[0], labels.long())\n",
        "                    #     loss2 = criterion(outputs[1], labels.long())\n",
        "                    #     loss3 = criterion(outputs[2], labels.long())\n",
        "                    #     loss = loss1 + loss2 + loss3\n",
        "                    # else:\n",
        "                    loss = criterion(outputs, labels.long())\n",
        "\n",
        "                    total_val_loss += loss.item()\n",
        "\n",
        "                    # Calculate accuracy\n",
        "                    _, predicted = outputs.max(1)\n",
        "                    # _, predicted = torch.max(outputs[2], 1)  # Use primary output for accuracy\n",
        "                    total_val += labels.size(0)\n",
        "                    correct_val += predicted.eq(labels).sum().item()\n",
        "\n",
        "                    # Progress bar update\n",
        "                    pbar.set_postfix(loss=loss.item(), accuracy=100. * correct_val / total_val)\n",
        "                    pbar.update(1)\n",
        "\n",
        "        # Calculate average validation loss and accuracy for the epoch\n",
        "        avg_val_loss = total_val_loss / len(val_loader)\n",
        "        val_accuracy = 100. * correct_val / total_val\n",
        "        val_accuracies.append(val_accuracy)\n",
        "        val_losses.append(avg_val_loss)\n",
        "\n",
        "        # Print epoch results\n",
        "        print(f\"Training Loss: {avg_train_loss:.4f}, Accuracy: {train_accuracy:.2f}%\")\n",
        "        print(f\"Validation Loss: {avg_val_loss:.4f}, Accuracy: {val_accuracy:.2f}%\")\n",
        "        print(\"-\" * 30)\n",
        "\n",
        "        # Step the learning rate scheduler based on validation loss\n",
        "        scheduler.step(avg_val_loss)\n",
        "\n",
        "    return train_accuracies, train_losses, val_accuracies, val_losses\n"
      ],
      "metadata": {
        "id": "x6ZFhcxV7u5R"
      },
      "execution_count": 35,
      "outputs": []
    },
    {
      "cell_type": "markdown",
      "source": [
        "#### Train"
      ],
      "metadata": {
        "id": "6iOc7J8-7tbi"
      }
    },
    {
      "cell_type": "code",
      "source": [
        "custom_train_transform = transforms.Compose([\n",
        "    transforms.ToPILImage(),\n",
        "    #transforms.RandomHorizontalFlip(),\n",
        "    #transforms.RandomVerticalFlip(),\n",
        "    #transforms.RandomRotation(15),\n",
        "    #transforms.RandomResizedCrop(224, scale=(0.9, 1.1)),\n",
        "    transforms.ColorJitter(brightness=0.1, contrast=0.1, saturation=0.1),\n",
        "    ToTensorAndMove(device),\n",
        "])\n",
        "\n",
        "custom_val_transform = transforms.Compose([\n",
        "    transforms.ToPILImage(),\n",
        "    transforms.ColorJitter(brightness=0.1, contrast=0.1, saturation=0.1),\n",
        "    ToTensorAndMove(device),\n",
        "])"
      ],
      "metadata": {
        "id": "pKaBvQpeZFJM"
      },
      "execution_count": 36,
      "outputs": []
    },
    {
      "cell_type": "code",
      "execution_count": 37,
      "metadata": {
        "id": "b6BcQhSrEnnx"
      },
      "outputs": [],
      "source": [
        "# custom_train_transform = transforms.Compose([\n",
        "#     transforms.ToPILImage(),\n",
        "#     transforms.RandomHorizontalFlip(),\n",
        "#     transforms.RandomVerticalFlip(),\n",
        "#     transforms.RandomRotation(15),\n",
        "#     transforms.RandomResizedCrop(224, scale=(0.9, 1.1)),\n",
        "#     transforms.ColorJitter(brightness=0.1, contrast=0.1, saturation=0.1),\n",
        "#     ToTensorAndMove(device),\n",
        "# ])\n",
        "\n",
        "# custom_val_transform = transforms.Compose([\n",
        "#     transforms.ToPILImage(),\n",
        "#     transforms.ColorJitter(brightness=0.1, contrast=0.1, saturation=0.1),\n",
        "#     ToTensorAndMove(device),\n",
        "# ])"
      ]
    },
    {
      "cell_type": "code",
      "source": [
        "gn_dataset = Data(device=device)\n",
        "gn_dataset.set_transformers(custom_train_transform, custom_val_transform) # custom_train_transform, custom_val_transform\n",
        "\n",
        "gn_dataset.balance_with_undersampling()\n",
        "gn_dataset.normalize()\n",
        "\n",
        "gn_dataset.set_mode('train')\n",
        "gn_train_loader = DataLoader(gn_dataset, batch_size=32, shuffle=True)\n",
        "\n",
        "gn_dataset.set_mode('val')\n",
        "gn_val_loader = DataLoader(gn_dataset, batch_size=32, shuffle=False)\n",
        "\n",
        "gn_dataset.set_mode('test')\n",
        "gn_test_loader = DataLoader(gn_dataset, batch_size=32, shuffle=False)"
      ],
      "metadata": {
        "id": "xzsMRwb5HZt6",
        "colab": {
          "base_uri": "https://localhost:8080/"
        },
        "outputId": "604350ce-c04d-490e-a4e2-393c10923243"
      },
      "execution_count": 38,
      "outputs": [
        {
          "output_type": "stream",
          "name": "stdout",
          "text": [
            "dataset shape is : (1800, 224, 224, 3)\n"
          ]
        }
      ]
    },
    {
      "cell_type": "code",
      "execution_count": 39,
      "metadata": {
        "id": "YvTGMPQXEnnx",
        "colab": {
          "base_uri": "https://localhost:8080/"
        },
        "outputId": "2d763dd5-b225-4822-c631-8b9f351f094e"
      },
      "outputs": [
        {
          "output_type": "stream",
          "name": "stderr",
          "text": [
            "/usr/local/lib/python3.10/dist-packages/torch/optim/lr_scheduler.py:62: UserWarning: The verbose parameter is deprecated. Please use get_last_lr() to access the learning rate.\n",
            "  warnings.warn(\n"
          ]
        },
        {
          "output_type": "stream",
          "name": "stdout",
          "text": [
            "Epoch [1/75]\n"
          ]
        },
        {
          "output_type": "stream",
          "name": "stderr",
          "text": [
            "Training: 100%|██████████| 42/42 [00:09<00:00,  4.20batch/s, accuracy=74.6, loss=1.31]\n",
            "Validation: 100%|██████████| 42/42 [00:07<00:00,  5.33batch/s, accuracy=54.6, loss=0.811]\n"
          ]
        },
        {
          "output_type": "stream",
          "name": "stdout",
          "text": [
            "Training Loss: 1.7001, Accuracy: 74.58%\n",
            "Validation Loss: 1.1009, Accuracy: 54.59%\n",
            "------------------------------\n",
            "Epoch [2/75]\n"
          ]
        },
        {
          "output_type": "stream",
          "name": "stderr",
          "text": [
            "Training: 100%|██████████| 42/42 [00:10<00:00,  4.04batch/s, accuracy=78.4, loss=0.666]\n",
            "Validation: 100%|██████████| 42/42 [00:06<00:00,  6.32batch/s, accuracy=78.5, loss=0.539]\n"
          ]
        },
        {
          "output_type": "stream",
          "name": "stdout",
          "text": [
            "Training Loss: 1.2476, Accuracy: 78.38%\n",
            "Validation Loss: 0.4504, Accuracy: 78.47%\n",
            "------------------------------\n",
            "Epoch [3/75]\n"
          ]
        },
        {
          "output_type": "stream",
          "name": "stderr",
          "text": [
            "Training: 100%|██████████| 42/42 [00:10<00:00,  4.08batch/s, accuracy=79.8, loss=1.57]\n",
            "Validation: 100%|██████████| 42/42 [00:07<00:00,  5.76batch/s, accuracy=77.8, loss=0.623]\n"
          ]
        },
        {
          "output_type": "stream",
          "name": "stdout",
          "text": [
            "Training Loss: 1.1992, Accuracy: 79.82%\n",
            "Validation Loss: 0.4664, Accuracy: 77.79%\n",
            "------------------------------\n",
            "Epoch [4/75]\n"
          ]
        },
        {
          "output_type": "stream",
          "name": "stderr",
          "text": [
            "Training: 100%|██████████| 42/42 [00:13<00:00,  3.18batch/s, accuracy=80, loss=1.01]\n",
            "Validation: 100%|██████████| 42/42 [00:06<00:00,  6.37batch/s, accuracy=71.6, loss=0.412]\n"
          ]
        },
        {
          "output_type": "stream",
          "name": "stdout",
          "text": [
            "Training Loss: 1.1847, Accuracy: 79.97%\n",
            "Validation Loss: 0.4680, Accuracy: 71.57%\n",
            "------------------------------\n",
            "Epoch [5/75]\n"
          ]
        },
        {
          "output_type": "stream",
          "name": "stderr",
          "text": [
            "Training: 100%|██████████| 42/42 [00:10<00:00,  4.08batch/s, accuracy=78.6, loss=1.11]\n",
            "Validation: 100%|██████████| 42/42 [00:07<00:00,  5.79batch/s, accuracy=84.7, loss=0.411]\n"
          ]
        },
        {
          "output_type": "stream",
          "name": "stdout",
          "text": [
            "Training Loss: 1.1838, Accuracy: 78.60%\n",
            "Validation Loss: 0.3222, Accuracy: 84.69%\n",
            "------------------------------\n",
            "Epoch [6/75]\n"
          ]
        },
        {
          "output_type": "stream",
          "name": "stderr",
          "text": [
            "Training: 100%|██████████| 42/42 [00:09<00:00,  4.27batch/s, accuracy=82.5, loss=0.831]\n",
            "Validation: 100%|██████████| 42/42 [00:07<00:00,  5.39batch/s, accuracy=83.9, loss=0.37]\n"
          ]
        },
        {
          "output_type": "stream",
          "name": "stdout",
          "text": [
            "Training Loss: 1.0644, Accuracy: 82.55%\n",
            "Validation Loss: 0.3383, Accuracy: 83.85%\n",
            "------------------------------\n",
            "Epoch [7/75]\n"
          ]
        },
        {
          "output_type": "stream",
          "name": "stderr",
          "text": [
            "Training: 100%|██████████| 42/42 [00:10<00:00,  3.98batch/s, accuracy=82.8, loss=0.891]\n",
            "Validation: 100%|██████████| 42/42 [00:06<00:00,  6.47batch/s, accuracy=84.3, loss=0.367]\n"
          ]
        },
        {
          "output_type": "stream",
          "name": "stdout",
          "text": [
            "Training Loss: 1.0452, Accuracy: 82.78%\n",
            "Validation Loss: 0.3606, Accuracy: 84.31%\n",
            "------------------------------\n",
            "Epoch [8/75]\n"
          ]
        },
        {
          "output_type": "stream",
          "name": "stderr",
          "text": [
            "Training: 100%|██████████| 42/42 [00:10<00:00,  4.02batch/s, accuracy=83.5, loss=1.24]\n",
            "Validation: 100%|██████████| 42/42 [00:07<00:00,  5.79batch/s, accuracy=83.7, loss=0.42]\n"
          ]
        },
        {
          "output_type": "stream",
          "name": "stdout",
          "text": [
            "Training Loss: 0.9931, Accuracy: 83.46%\n",
            "Validation Loss: 0.4099, Accuracy: 83.70%\n",
            "------------------------------\n",
            "Epoch [9/75]\n"
          ]
        },
        {
          "output_type": "stream",
          "name": "stderr",
          "text": [
            "Training: 100%|██████████| 42/42 [00:10<00:00,  4.19batch/s, accuracy=85.6, loss=0.534]\n",
            "Validation: 100%|██████████| 42/42 [00:07<00:00,  5.69batch/s, accuracy=83.8, loss=0.308]\n"
          ]
        },
        {
          "output_type": "stream",
          "name": "stdout",
          "text": [
            "Training Loss: 0.9141, Accuracy: 85.58%\n",
            "Validation Loss: 0.3313, Accuracy: 83.78%\n",
            "------------------------------\n",
            "Epoch [10/75]\n"
          ]
        },
        {
          "output_type": "stream",
          "name": "stderr",
          "text": [
            "Training: 100%|██████████| 42/42 [00:10<00:00,  4.03batch/s, accuracy=85.6, loss=1.4]\n",
            "Validation: 100%|██████████| 42/42 [00:06<00:00,  6.35batch/s, accuracy=82.4, loss=0.39]\n"
          ]
        },
        {
          "output_type": "stream",
          "name": "stdout",
          "text": [
            "Training Loss: 0.9591, Accuracy: 85.58%\n",
            "Validation Loss: 0.3609, Accuracy: 82.41%\n",
            "------------------------------\n",
            "Epoch [11/75]\n"
          ]
        },
        {
          "output_type": "stream",
          "name": "stderr",
          "text": [
            "Training: 100%|██████████| 42/42 [00:10<00:00,  4.02batch/s, accuracy=85.1, loss=0.913]\n",
            "Validation: 100%|██████████| 42/42 [00:07<00:00,  5.65batch/s, accuracy=84.8, loss=0.497]\n"
          ]
        },
        {
          "output_type": "stream",
          "name": "stdout",
          "text": [
            "Training Loss: 0.9324, Accuracy: 85.05%\n",
            "Validation Loss: 0.3324, Accuracy: 84.76%\n",
            "------------------------------\n",
            "Epoch [12/75]\n"
          ]
        },
        {
          "output_type": "stream",
          "name": "stderr",
          "text": [
            "Training: 100%|██████████| 42/42 [00:10<00:00,  4.04batch/s, accuracy=85.6, loss=0.386]\n",
            "Validation: 100%|██████████| 42/42 [00:06<00:00,  6.33batch/s, accuracy=85.4, loss=0.633]\n"
          ]
        },
        {
          "output_type": "stream",
          "name": "stdout",
          "text": [
            "Training Loss: 0.8503, Accuracy: 85.58%\n",
            "Validation Loss: 0.3660, Accuracy: 85.44%\n",
            "------------------------------\n",
            "Epoch [13/75]\n"
          ]
        },
        {
          "output_type": "stream",
          "name": "stderr",
          "text": [
            "Training: 100%|██████████| 42/42 [00:10<00:00,  4.04batch/s, accuracy=86.2, loss=2.26]\n",
            "Validation: 100%|██████████| 42/42 [00:06<00:00,  6.24batch/s, accuracy=84.2, loss=0.333]\n"
          ]
        },
        {
          "output_type": "stream",
          "name": "stdout",
          "text": [
            "Training Loss: 0.9162, Accuracy: 86.19%\n",
            "Validation Loss: 0.3397, Accuracy: 84.23%\n",
            "------------------------------\n",
            "Epoch [14/75]\n"
          ]
        },
        {
          "output_type": "stream",
          "name": "stderr",
          "text": [
            "Training: 100%|██████████| 42/42 [00:10<00:00,  4.08batch/s, accuracy=85.7, loss=0.652]\n",
            "Validation: 100%|██████████| 42/42 [00:07<00:00,  5.66batch/s, accuracy=83.1, loss=0.431]\n"
          ]
        },
        {
          "output_type": "stream",
          "name": "stdout",
          "text": [
            "Training Loss: 0.9060, Accuracy: 85.66%\n",
            "Validation Loss: 0.3562, Accuracy: 83.09%\n",
            "------------------------------\n",
            "Epoch [15/75]\n"
          ]
        },
        {
          "output_type": "stream",
          "name": "stderr",
          "text": [
            "Training: 100%|██████████| 42/42 [00:10<00:00,  3.99batch/s, accuracy=87.7, loss=1.99]\n",
            "Validation: 100%|██████████| 42/42 [00:06<00:00,  6.36batch/s, accuracy=80.8, loss=0.639]\n"
          ]
        },
        {
          "output_type": "stream",
          "name": "stdout",
          "text": [
            "Training Loss: 0.8362, Accuracy: 87.71%\n",
            "Validation Loss: 0.4388, Accuracy: 80.82%\n",
            "------------------------------\n",
            "Epoch [16/75]\n"
          ]
        },
        {
          "output_type": "stream",
          "name": "stderr",
          "text": [
            "Training: 100%|██████████| 42/42 [00:10<00:00,  3.87batch/s, accuracy=87.7, loss=1.21]\n",
            "Validation: 100%|██████████| 42/42 [00:07<00:00,  5.87batch/s, accuracy=82.3, loss=0.424]\n"
          ]
        },
        {
          "output_type": "stream",
          "name": "stdout",
          "text": [
            "Training Loss: 0.8305, Accuracy: 87.71%\n",
            "Validation Loss: 0.3506, Accuracy: 82.34%\n",
            "------------------------------\n",
            "Epoch [17/75]\n"
          ]
        },
        {
          "output_type": "stream",
          "name": "stderr",
          "text": [
            "Training: 100%|██████████| 42/42 [00:10<00:00,  4.13batch/s, accuracy=89.4, loss=0.483]\n",
            "Validation: 100%|██████████| 42/42 [00:07<00:00,  5.45batch/s, accuracy=87.2, loss=0.268]\n"
          ]
        },
        {
          "output_type": "stream",
          "name": "stdout",
          "text": [
            "Training Loss: 0.6963, Accuracy: 89.38%\n",
            "Validation Loss: 0.2975, Accuracy: 87.19%\n",
            "------------------------------\n",
            "Epoch [18/75]\n"
          ]
        },
        {
          "output_type": "stream",
          "name": "stderr",
          "text": [
            "Training: 100%|██████████| 42/42 [00:10<00:00,  3.99batch/s, accuracy=90.7, loss=1.02]\n",
            "Validation: 100%|██████████| 42/42 [00:06<00:00,  6.34batch/s, accuracy=87.5, loss=0.346]\n"
          ]
        },
        {
          "output_type": "stream",
          "name": "stdout",
          "text": [
            "Training Loss: 0.6225, Accuracy: 90.67%\n",
            "Validation Loss: 0.2912, Accuracy: 87.49%\n",
            "------------------------------\n",
            "Epoch [19/75]\n"
          ]
        },
        {
          "output_type": "stream",
          "name": "stderr",
          "text": [
            "Training: 100%|██████████| 42/42 [00:10<00:00,  4.06batch/s, accuracy=91.4, loss=0.134]\n",
            "Validation: 100%|██████████| 42/42 [00:07<00:00,  5.45batch/s, accuracy=88.2, loss=0.422]\n"
          ]
        },
        {
          "output_type": "stream",
          "name": "stdout",
          "text": [
            "Training Loss: 0.5880, Accuracy: 91.35%\n",
            "Validation Loss: 0.3008, Accuracy: 88.17%\n",
            "------------------------------\n",
            "Epoch [20/75]\n"
          ]
        },
        {
          "output_type": "stream",
          "name": "stderr",
          "text": [
            "Training: 100%|██████████| 42/42 [00:10<00:00,  4.19batch/s, accuracy=92, loss=0.201]\n",
            "Validation: 100%|██████████| 42/42 [00:07<00:00,  5.65batch/s, accuracy=87.3, loss=0.661]\n"
          ]
        },
        {
          "output_type": "stream",
          "name": "stdout",
          "text": [
            "Training Loss: 0.5494, Accuracy: 91.96%\n",
            "Validation Loss: 0.3122, Accuracy: 87.34%\n",
            "------------------------------\n",
            "Epoch [21/75]\n"
          ]
        },
        {
          "output_type": "stream",
          "name": "stderr",
          "text": [
            "Training: 100%|██████████| 42/42 [00:10<00:00,  4.05batch/s, accuracy=92.6, loss=0.276]\n",
            "Validation: 100%|██████████| 42/42 [00:06<00:00,  6.49batch/s, accuracy=86.7, loss=0.508]\n"
          ]
        },
        {
          "output_type": "stream",
          "name": "stdout",
          "text": [
            "Training Loss: 0.5277, Accuracy: 92.56%\n",
            "Validation Loss: 0.3167, Accuracy: 86.66%\n",
            "------------------------------\n",
            "Epoch [22/75]\n"
          ]
        },
        {
          "output_type": "stream",
          "name": "stderr",
          "text": [
            "Training: 100%|██████████| 42/42 [00:10<00:00,  4.00batch/s, accuracy=92.6, loss=2.55]\n",
            "Validation: 100%|██████████| 42/42 [00:07<00:00,  5.66batch/s, accuracy=87, loss=0.8]\n"
          ]
        },
        {
          "output_type": "stream",
          "name": "stdout",
          "text": [
            "Training Loss: 0.5597, Accuracy: 92.56%\n",
            "Validation Loss: 0.3347, Accuracy: 87.04%\n",
            "------------------------------\n",
            "Epoch [23/75]\n"
          ]
        },
        {
          "output_type": "stream",
          "name": "stderr",
          "text": [
            "Training: 100%|██████████| 42/42 [00:10<00:00,  4.07batch/s, accuracy=91.3, loss=0.531]\n",
            "Validation: 100%|██████████| 42/42 [00:07<00:00,  5.98batch/s, accuracy=87.3, loss=0.488]\n"
          ]
        },
        {
          "output_type": "stream",
          "name": "stdout",
          "text": [
            "Training Loss: 0.5057, Accuracy: 91.27%\n",
            "Validation Loss: 0.3084, Accuracy: 87.26%\n",
            "------------------------------\n",
            "Epoch [24/75]\n"
          ]
        },
        {
          "output_type": "stream",
          "name": "stderr",
          "text": [
            "Training: 100%|██████████| 42/42 [00:10<00:00,  4.02batch/s, accuracy=92.6, loss=1.97]\n",
            "Validation: 100%|██████████| 42/42 [00:06<00:00,  6.25batch/s, accuracy=86.7, loss=0.795]\n"
          ]
        },
        {
          "output_type": "stream",
          "name": "stdout",
          "text": [
            "Training Loss: 0.4964, Accuracy: 92.64%\n",
            "Validation Loss: 0.3285, Accuracy: 86.73%\n",
            "------------------------------\n",
            "Epoch [25/75]\n"
          ]
        },
        {
          "output_type": "stream",
          "name": "stderr",
          "text": [
            "Training: 100%|██████████| 42/42 [00:10<00:00,  4.01batch/s, accuracy=94.8, loss=0.837]\n",
            "Validation: 100%|██████████| 42/42 [00:07<00:00,  5.54batch/s, accuracy=87.1, loss=0.86]\n"
          ]
        },
        {
          "output_type": "stream",
          "name": "stdout",
          "text": [
            "Training Loss: 0.4196, Accuracy: 94.76%\n",
            "Validation Loss: 0.3096, Accuracy: 87.11%\n",
            "------------------------------\n",
            "Epoch [26/75]\n"
          ]
        },
        {
          "output_type": "stream",
          "name": "stderr",
          "text": [
            "Training: 100%|██████████| 42/42 [00:10<00:00,  4.04batch/s, accuracy=94.5, loss=0.243]\n",
            "Validation: 100%|██████████| 42/42 [00:06<00:00,  6.37batch/s, accuracy=85.4, loss=1.09]\n"
          ]
        },
        {
          "output_type": "stream",
          "name": "stdout",
          "text": [
            "Training Loss: 0.4064, Accuracy: 94.54%\n",
            "Validation Loss: 0.3630, Accuracy: 85.44%\n",
            "------------------------------\n",
            "Epoch [27/75]\n"
          ]
        },
        {
          "output_type": "stream",
          "name": "stderr",
          "text": [
            "Training: 100%|██████████| 42/42 [00:10<00:00,  4.04batch/s, accuracy=96.3, loss=0.91]\n",
            "Validation: 100%|██████████| 42/42 [00:06<00:00,  6.04batch/s, accuracy=87.2, loss=0.862]\n"
          ]
        },
        {
          "output_type": "stream",
          "name": "stdout",
          "text": [
            "Training Loss: 0.3771, Accuracy: 96.28%\n",
            "Validation Loss: 0.3496, Accuracy: 87.19%\n",
            "------------------------------\n",
            "Epoch [28/75]\n"
          ]
        },
        {
          "output_type": "stream",
          "name": "stderr",
          "text": [
            "Training: 100%|██████████| 42/42 [00:10<00:00,  4.14batch/s, accuracy=95.5, loss=0.0558]\n",
            "Validation: 100%|██████████| 42/42 [00:07<00:00,  5.61batch/s, accuracy=87.1, loss=0.838]\n"
          ]
        },
        {
          "output_type": "stream",
          "name": "stdout",
          "text": [
            "Training Loss: 0.3606, Accuracy: 95.52%\n",
            "Validation Loss: 0.3557, Accuracy: 87.11%\n",
            "------------------------------\n",
            "Epoch [29/75]\n"
          ]
        },
        {
          "output_type": "stream",
          "name": "stderr",
          "text": [
            "Training: 100%|██████████| 42/42 [00:10<00:00,  4.02batch/s, accuracy=96.6, loss=0.81]\n",
            "Validation: 100%|██████████| 42/42 [00:06<00:00,  6.52batch/s, accuracy=86.9, loss=1.06]\n"
          ]
        },
        {
          "output_type": "stream",
          "name": "stdout",
          "text": [
            "Training Loss: 0.2990, Accuracy: 96.59%\n",
            "Validation Loss: 0.3968, Accuracy: 86.88%\n",
            "------------------------------\n",
            "Epoch [30/75]\n"
          ]
        },
        {
          "output_type": "stream",
          "name": "stderr",
          "text": [
            "Training: 100%|██████████| 42/42 [00:10<00:00,  4.04batch/s, accuracy=95.6, loss=0.294]\n",
            "Validation: 100%|██████████| 42/42 [00:07<00:00,  5.78batch/s, accuracy=87.3, loss=0.922]\n"
          ]
        },
        {
          "output_type": "stream",
          "name": "stdout",
          "text": [
            "Training Loss: 0.2972, Accuracy: 95.60%\n",
            "Validation Loss: 0.3614, Accuracy: 87.26%\n",
            "------------------------------\n",
            "Epoch [31/75]\n"
          ]
        },
        {
          "output_type": "stream",
          "name": "stderr",
          "text": [
            "Training: 100%|██████████| 42/42 [00:09<00:00,  4.22batch/s, accuracy=97.3, loss=3.05]\n",
            "Validation: 100%|██████████| 42/42 [00:07<00:00,  5.60batch/s, accuracy=87, loss=0.861]\n"
          ]
        },
        {
          "output_type": "stream",
          "name": "stdout",
          "text": [
            "Training Loss: 0.3314, Accuracy: 97.34%\n",
            "Validation Loss: 0.3753, Accuracy: 87.04%\n",
            "------------------------------\n",
            "Epoch [32/75]\n"
          ]
        },
        {
          "output_type": "stream",
          "name": "stderr",
          "text": [
            "Training: 100%|██████████| 42/42 [00:10<00:00,  4.02batch/s, accuracy=97.4, loss=0.286]\n",
            "Validation: 100%|██████████| 42/42 [00:06<00:00,  6.49batch/s, accuracy=86.5, loss=0.861]\n"
          ]
        },
        {
          "output_type": "stream",
          "name": "stdout",
          "text": [
            "Training Loss: 0.2709, Accuracy: 97.42%\n",
            "Validation Loss: 0.3718, Accuracy: 86.50%\n",
            "------------------------------\n",
            "Epoch [33/75]\n"
          ]
        },
        {
          "output_type": "stream",
          "name": "stderr",
          "text": [
            "Training: 100%|██████████| 42/42 [00:10<00:00,  4.05batch/s, accuracy=97.3, loss=0.124]\n",
            "Validation: 100%|██████████| 42/42 [00:07<00:00,  5.66batch/s, accuracy=87.5, loss=1.11]\n"
          ]
        },
        {
          "output_type": "stream",
          "name": "stdout",
          "text": [
            "Training Loss: 0.2449, Accuracy: 97.34%\n",
            "Validation Loss: 0.3667, Accuracy: 87.49%\n",
            "------------------------------\n",
            "Epoch [34/75]\n"
          ]
        },
        {
          "output_type": "stream",
          "name": "stderr",
          "text": [
            "Training: 100%|██████████| 42/42 [00:10<00:00,  4.03batch/s, accuracy=98.4, loss=0.113]\n",
            "Validation: 100%|██████████| 42/42 [00:06<00:00,  6.21batch/s, accuracy=87.3, loss=1.03]\n"
          ]
        },
        {
          "output_type": "stream",
          "name": "stdout",
          "text": [
            "Training Loss: 0.2402, Accuracy: 98.41%\n",
            "Validation Loss: 0.3780, Accuracy: 87.26%\n",
            "------------------------------\n",
            "Epoch [35/75]\n"
          ]
        },
        {
          "output_type": "stream",
          "name": "stderr",
          "text": [
            "Training: 100%|██████████| 42/42 [00:10<00:00,  4.02batch/s, accuracy=97.7, loss=0.308]\n",
            "Validation: 100%|██████████| 42/42 [00:06<00:00,  6.27batch/s, accuracy=87.5, loss=0.88]\n"
          ]
        },
        {
          "output_type": "stream",
          "name": "stdout",
          "text": [
            "Training Loss: 0.2629, Accuracy: 97.72%\n",
            "Validation Loss: 0.3702, Accuracy: 87.49%\n",
            "------------------------------\n",
            "Epoch [36/75]\n"
          ]
        },
        {
          "output_type": "stream",
          "name": "stderr",
          "text": [
            "Training: 100%|██████████| 42/42 [00:10<00:00,  4.07batch/s, accuracy=97.3, loss=0.837]\n",
            "Validation: 100%|██████████| 42/42 [00:07<00:00,  5.70batch/s, accuracy=87.3, loss=0.955]\n"
          ]
        },
        {
          "output_type": "stream",
          "name": "stdout",
          "text": [
            "Training Loss: 0.2485, Accuracy: 97.34%\n",
            "Validation Loss: 0.3820, Accuracy: 87.26%\n",
            "------------------------------\n",
            "Epoch [37/75]\n"
          ]
        },
        {
          "output_type": "stream",
          "name": "stderr",
          "text": [
            "Training: 100%|██████████| 42/42 [00:10<00:00,  4.02batch/s, accuracy=96.9, loss=0.166]\n",
            "Validation: 100%|██████████| 42/42 [00:06<00:00,  6.30batch/s, accuracy=87.6, loss=0.988]\n"
          ]
        },
        {
          "output_type": "stream",
          "name": "stdout",
          "text": [
            "Training Loss: 0.2754, Accuracy: 96.89%\n",
            "Validation Loss: 0.3585, Accuracy: 87.57%\n",
            "------------------------------\n",
            "Epoch [38/75]\n"
          ]
        },
        {
          "output_type": "stream",
          "name": "stderr",
          "text": [
            "Training: 100%|██████████| 42/42 [00:10<00:00,  4.04batch/s, accuracy=98.3, loss=0.218]\n",
            "Validation: 100%|██████████| 42/42 [00:07<00:00,  5.83batch/s, accuracy=87, loss=0.536]\n"
          ]
        },
        {
          "output_type": "stream",
          "name": "stdout",
          "text": [
            "Training Loss: 0.2298, Accuracy: 98.25%\n",
            "Validation Loss: 0.3747, Accuracy: 87.04%\n",
            "------------------------------\n",
            "Epoch [39/75]\n"
          ]
        },
        {
          "output_type": "stream",
          "name": "stderr",
          "text": [
            "Training: 100%|██████████| 42/42 [00:09<00:00,  4.21batch/s, accuracy=97.3, loss=0.0969]\n",
            "Validation: 100%|██████████| 42/42 [00:07<00:00,  5.49batch/s, accuracy=87.7, loss=0.818]\n"
          ]
        },
        {
          "output_type": "stream",
          "name": "stdout",
          "text": [
            "Training Loss: 0.2289, Accuracy: 97.34%\n",
            "Validation Loss: 0.3703, Accuracy: 87.72%\n",
            "------------------------------\n",
            "Epoch [40/75]\n"
          ]
        },
        {
          "output_type": "stream",
          "name": "stderr",
          "text": [
            "Training: 100%|██████████| 42/42 [00:10<00:00,  4.04batch/s, accuracy=98.1, loss=0.458]\n",
            "Validation: 100%|██████████| 42/42 [00:06<00:00,  6.41batch/s, accuracy=86.7, loss=0.857]\n"
          ]
        },
        {
          "output_type": "stream",
          "name": "stdout",
          "text": [
            "Training Loss: 0.2268, Accuracy: 98.10%\n",
            "Validation Loss: 0.3899, Accuracy: 86.73%\n",
            "------------------------------\n",
            "Epoch [41/75]\n"
          ]
        },
        {
          "output_type": "stream",
          "name": "stderr",
          "text": [
            "Training: 100%|██████████| 42/42 [00:10<00:00,  4.00batch/s, accuracy=97.7, loss=0.324]\n",
            "Validation: 100%|██████████| 42/42 [00:07<00:00,  5.73batch/s, accuracy=86.4, loss=1.01]\n"
          ]
        },
        {
          "output_type": "stream",
          "name": "stdout",
          "text": [
            "Training Loss: 0.2275, Accuracy: 97.72%\n",
            "Validation Loss: 0.4024, Accuracy: 86.35%\n",
            "------------------------------\n",
            "Epoch [42/75]\n"
          ]
        },
        {
          "output_type": "stream",
          "name": "stderr",
          "text": [
            "Training: 100%|██████████| 42/42 [00:10<00:00,  4.11batch/s, accuracy=98.1, loss=0.467]\n",
            "Validation: 100%|██████████| 42/42 [00:06<00:00,  6.14batch/s, accuracy=87.4, loss=0.994]\n"
          ]
        },
        {
          "output_type": "stream",
          "name": "stdout",
          "text": [
            "Training Loss: 0.2211, Accuracy: 98.10%\n",
            "Validation Loss: 0.3890, Accuracy: 87.41%\n",
            "------------------------------\n",
            "Epoch [43/75]\n"
          ]
        },
        {
          "output_type": "stream",
          "name": "stderr",
          "text": [
            "Training: 100%|██████████| 42/42 [00:10<00:00,  4.03batch/s, accuracy=98, loss=0.0573]\n",
            "Validation: 100%|██████████| 42/42 [00:06<00:00,  6.33batch/s, accuracy=88.4, loss=0.91]\n"
          ]
        },
        {
          "output_type": "stream",
          "name": "stdout",
          "text": [
            "Training Loss: 0.2129, Accuracy: 97.95%\n",
            "Validation Loss: 0.3675, Accuracy: 88.40%\n",
            "------------------------------\n",
            "Epoch [44/75]\n"
          ]
        },
        {
          "output_type": "stream",
          "name": "stderr",
          "text": [
            "Training: 100%|██████████| 42/42 [00:10<00:00,  4.00batch/s, accuracy=98.1, loss=0.126]\n",
            "Validation: 100%|██████████| 42/42 [00:07<00:00,  5.58batch/s, accuracy=87.5, loss=0.801]\n"
          ]
        },
        {
          "output_type": "stream",
          "name": "stdout",
          "text": [
            "Training Loss: 0.2120, Accuracy: 98.10%\n",
            "Validation Loss: 0.3721, Accuracy: 87.49%\n",
            "------------------------------\n",
            "Epoch [45/75]\n"
          ]
        },
        {
          "output_type": "stream",
          "name": "stderr",
          "text": [
            "Training: 100%|██████████| 42/42 [00:10<00:00,  4.00batch/s, accuracy=98, loss=0.213]\n",
            "Validation: 100%|██████████| 42/42 [00:06<00:00,  6.31batch/s, accuracy=87.3, loss=0.819]\n"
          ]
        },
        {
          "output_type": "stream",
          "name": "stdout",
          "text": [
            "Training Loss: 0.2215, Accuracy: 98.03%\n",
            "Validation Loss: 0.3992, Accuracy: 87.26%\n",
            "------------------------------\n",
            "Epoch [46/75]\n"
          ]
        },
        {
          "output_type": "stream",
          "name": "stderr",
          "text": [
            "Training: 100%|██████████| 42/42 [00:10<00:00,  4.00batch/s, accuracy=98.1, loss=0.0761]\n",
            "Validation: 100%|██████████| 42/42 [00:07<00:00,  5.74batch/s, accuracy=87.4, loss=0.981]\n"
          ]
        },
        {
          "output_type": "stream",
          "name": "stdout",
          "text": [
            "Training Loss: 0.2161, Accuracy: 98.10%\n",
            "Validation Loss: 0.3884, Accuracy: 87.41%\n",
            "------------------------------\n",
            "Epoch [47/75]\n"
          ]
        },
        {
          "output_type": "stream",
          "name": "stderr",
          "text": [
            "Training: 100%|██████████| 42/42 [00:10<00:00,  4.18batch/s, accuracy=98.3, loss=0.511]\n",
            "Validation: 100%|██████████| 42/42 [00:07<00:00,  5.54batch/s, accuracy=87.1, loss=0.764]\n"
          ]
        },
        {
          "output_type": "stream",
          "name": "stdout",
          "text": [
            "Training Loss: 0.2123, Accuracy: 98.33%\n",
            "Validation Loss: 0.3821, Accuracy: 87.11%\n",
            "------------------------------\n",
            "Epoch [48/75]\n"
          ]
        },
        {
          "output_type": "stream",
          "name": "stderr",
          "text": [
            "Training: 100%|██████████| 42/42 [00:10<00:00,  4.01batch/s, accuracy=98.5, loss=0.0388]\n",
            "Validation: 100%|██████████| 42/42 [00:06<00:00,  6.26batch/s, accuracy=87.4, loss=0.874]\n"
          ]
        },
        {
          "output_type": "stream",
          "name": "stdout",
          "text": [
            "Training Loss: 0.2011, Accuracy: 98.48%\n",
            "Validation Loss: 0.3777, Accuracy: 87.41%\n",
            "------------------------------\n",
            "Epoch [49/75]\n"
          ]
        },
        {
          "output_type": "stream",
          "name": "stderr",
          "text": [
            "Training: 100%|██████████| 42/42 [00:10<00:00,  3.98batch/s, accuracy=97.9, loss=0.196]\n",
            "Validation: 100%|██████████| 42/42 [00:07<00:00,  5.70batch/s, accuracy=87.4, loss=0.772]\n"
          ]
        },
        {
          "output_type": "stream",
          "name": "stdout",
          "text": [
            "Training Loss: 0.2236, Accuracy: 97.88%\n",
            "Validation Loss: 0.3626, Accuracy: 87.41%\n",
            "------------------------------\n",
            "Epoch [50/75]\n"
          ]
        },
        {
          "output_type": "stream",
          "name": "stderr",
          "text": [
            "Training: 100%|██████████| 42/42 [00:10<00:00,  4.06batch/s, accuracy=98.1, loss=1.11]\n",
            "Validation: 100%|██████████| 42/42 [00:06<00:00,  6.09batch/s, accuracy=86.6, loss=0.775]\n"
          ]
        },
        {
          "output_type": "stream",
          "name": "stdout",
          "text": [
            "Training Loss: 0.2435, Accuracy: 98.10%\n",
            "Validation Loss: 0.3876, Accuracy: 86.58%\n",
            "------------------------------\n",
            "Epoch [51/75]\n"
          ]
        },
        {
          "output_type": "stream",
          "name": "stderr",
          "text": [
            "Training: 100%|██████████| 42/42 [00:10<00:00,  4.00batch/s, accuracy=98.9, loss=0.0374]\n",
            "Validation: 100%|██████████| 42/42 [00:06<00:00,  6.08batch/s, accuracy=87.7, loss=0.932]\n"
          ]
        },
        {
          "output_type": "stream",
          "name": "stdout",
          "text": [
            "Training Loss: 0.1803, Accuracy: 98.94%\n",
            "Validation Loss: 0.3779, Accuracy: 87.72%\n",
            "------------------------------\n",
            "Epoch [52/75]\n"
          ]
        },
        {
          "output_type": "stream",
          "name": "stderr",
          "text": [
            "Training: 100%|██████████| 42/42 [00:10<00:00,  4.07batch/s, accuracy=98.1, loss=0.081]\n",
            "Validation: 100%|██████████| 42/42 [00:07<00:00,  5.72batch/s, accuracy=86.5, loss=1.01]\n"
          ]
        },
        {
          "output_type": "stream",
          "name": "stdout",
          "text": [
            "Training Loss: 0.2038, Accuracy: 98.10%\n",
            "Validation Loss: 0.3915, Accuracy: 86.50%\n",
            "------------------------------\n",
            "Epoch [53/75]\n"
          ]
        },
        {
          "output_type": "stream",
          "name": "stderr",
          "text": [
            "Training: 100%|██████████| 42/42 [00:10<00:00,  4.02batch/s, accuracy=98, loss=0.696]\n",
            "Validation: 100%|██████████| 42/42 [00:06<00:00,  6.30batch/s, accuracy=87, loss=0.756]\n"
          ]
        },
        {
          "output_type": "stream",
          "name": "stdout",
          "text": [
            "Training Loss: 0.2204, Accuracy: 98.03%\n",
            "Validation Loss: 0.3880, Accuracy: 86.96%\n",
            "------------------------------\n",
            "Epoch [54/75]\n"
          ]
        },
        {
          "output_type": "stream",
          "name": "stderr",
          "text": [
            "Training: 100%|██████████| 42/42 [00:10<00:00,  4.04batch/s, accuracy=98.2, loss=1.17]\n",
            "Validation: 100%|██████████| 42/42 [00:07<00:00,  5.59batch/s, accuracy=87.3, loss=1.05]\n"
          ]
        },
        {
          "output_type": "stream",
          "name": "stdout",
          "text": [
            "Training Loss: 0.2225, Accuracy: 98.18%\n",
            "Validation Loss: 0.4083, Accuracy: 87.34%\n",
            "------------------------------\n",
            "Epoch [55/75]\n"
          ]
        },
        {
          "output_type": "stream",
          "name": "stderr",
          "text": [
            "Training: 100%|██████████| 42/42 [00:10<00:00,  4.13batch/s, accuracy=98.3, loss=0.227]\n",
            "Validation: 100%|██████████| 42/42 [00:07<00:00,  5.93batch/s, accuracy=87.2, loss=0.894]\n"
          ]
        },
        {
          "output_type": "stream",
          "name": "stdout",
          "text": [
            "Training Loss: 0.1987, Accuracy: 98.33%\n",
            "Validation Loss: 0.3728, Accuracy: 87.19%\n",
            "------------------------------\n",
            "Epoch [56/75]\n"
          ]
        },
        {
          "output_type": "stream",
          "name": "stderr",
          "text": [
            "Training: 100%|██████████| 42/42 [00:10<00:00,  4.03batch/s, accuracy=98.2, loss=0.275]\n",
            "Validation: 100%|██████████| 42/42 [00:06<00:00,  6.12batch/s, accuracy=88.1, loss=0.863]\n"
          ]
        },
        {
          "output_type": "stream",
          "name": "stdout",
          "text": [
            "Training Loss: 0.2013, Accuracy: 98.18%\n",
            "Validation Loss: 0.3667, Accuracy: 88.10%\n",
            "------------------------------\n",
            "Epoch [57/75]\n"
          ]
        },
        {
          "output_type": "stream",
          "name": "stderr",
          "text": [
            "Training: 100%|██████████| 42/42 [00:10<00:00,  4.04batch/s, accuracy=97.9, loss=0.532]\n",
            "Validation: 100%|██████████| 42/42 [00:07<00:00,  5.70batch/s, accuracy=87.3, loss=1.09]\n"
          ]
        },
        {
          "output_type": "stream",
          "name": "stdout",
          "text": [
            "Training Loss: 0.2221, Accuracy: 97.88%\n",
            "Validation Loss: 0.3949, Accuracy: 87.26%\n",
            "------------------------------\n",
            "Epoch [58/75]\n"
          ]
        },
        {
          "output_type": "stream",
          "name": "stderr",
          "text": [
            "Training: 100%|██████████| 42/42 [00:10<00:00,  4.01batch/s, accuracy=98.3, loss=0.632]\n",
            "Validation: 100%|██████████| 42/42 [00:06<00:00,  6.35batch/s, accuracy=87.3, loss=1.13]\n"
          ]
        },
        {
          "output_type": "stream",
          "name": "stdout",
          "text": [
            "Training Loss: 0.2117, Accuracy: 98.33%\n",
            "Validation Loss: 0.3879, Accuracy: 87.34%\n",
            "------------------------------\n",
            "Epoch [59/75]\n"
          ]
        },
        {
          "output_type": "stream",
          "name": "stderr",
          "text": [
            "Training: 100%|██████████| 42/42 [00:10<00:00,  3.99batch/s, accuracy=98.2, loss=1.05]\n",
            "Validation: 100%|██████████| 42/42 [00:07<00:00,  5.62batch/s, accuracy=87.2, loss=0.701]\n"
          ]
        },
        {
          "output_type": "stream",
          "name": "stdout",
          "text": [
            "Training Loss: 0.2312, Accuracy: 98.18%\n",
            "Validation Loss: 0.3769, Accuracy: 87.19%\n",
            "------------------------------\n",
            "Epoch [60/75]\n"
          ]
        },
        {
          "output_type": "stream",
          "name": "stderr",
          "text": [
            "Training: 100%|██████████| 42/42 [00:10<00:00,  4.12batch/s, accuracy=98.1, loss=0.0707]\n",
            "Validation: 100%|██████████| 42/42 [00:07<00:00,  5.55batch/s, accuracy=87.5, loss=0.753]\n"
          ]
        },
        {
          "output_type": "stream",
          "name": "stdout",
          "text": [
            "Training Loss: 0.2048, Accuracy: 98.10%\n",
            "Validation Loss: 0.3801, Accuracy: 87.49%\n",
            "------------------------------\n",
            "Epoch [61/75]\n"
          ]
        },
        {
          "output_type": "stream",
          "name": "stderr",
          "text": [
            "Training: 100%|██████████| 42/42 [00:10<00:00,  4.02batch/s, accuracy=98.3, loss=2.69]\n",
            "Validation: 100%|██████████| 42/42 [00:06<00:00,  6.21batch/s, accuracy=86.9, loss=0.814]\n"
          ]
        },
        {
          "output_type": "stream",
          "name": "stdout",
          "text": [
            "Training Loss: 0.2569, Accuracy: 98.25%\n",
            "Validation Loss: 0.3945, Accuracy: 86.88%\n",
            "------------------------------\n",
            "Epoch [62/75]\n"
          ]
        },
        {
          "output_type": "stream",
          "name": "stderr",
          "text": [
            "Training: 100%|██████████| 42/42 [00:10<00:00,  3.96batch/s, accuracy=98, loss=0.828]\n",
            "Validation: 100%|██████████| 42/42 [00:07<00:00,  5.62batch/s, accuracy=87.3, loss=1.09]\n"
          ]
        },
        {
          "output_type": "stream",
          "name": "stdout",
          "text": [
            "Training Loss: 0.2217, Accuracy: 98.03%\n",
            "Validation Loss: 0.4030, Accuracy: 87.34%\n",
            "------------------------------\n",
            "Epoch [63/75]\n"
          ]
        },
        {
          "output_type": "stream",
          "name": "stderr",
          "text": [
            "Training: 100%|██████████| 42/42 [00:10<00:00,  4.03batch/s, accuracy=98.2, loss=0.761]\n",
            "Validation: 100%|██████████| 42/42 [00:06<00:00,  6.31batch/s, accuracy=87.3, loss=0.888]\n"
          ]
        },
        {
          "output_type": "stream",
          "name": "stdout",
          "text": [
            "Training Loss: 0.2218, Accuracy: 98.18%\n",
            "Validation Loss: 0.3883, Accuracy: 87.26%\n",
            "------------------------------\n",
            "Epoch [64/75]\n"
          ]
        },
        {
          "output_type": "stream",
          "name": "stderr",
          "text": [
            "Training: 100%|██████████| 42/42 [00:10<00:00,  4.01batch/s, accuracy=98.3, loss=0.984]\n",
            "Validation: 100%|██████████| 42/42 [00:07<00:00,  5.91batch/s, accuracy=86.3, loss=0.84]\n"
          ]
        },
        {
          "output_type": "stream",
          "name": "stdout",
          "text": [
            "Training Loss: 0.2321, Accuracy: 98.33%\n",
            "Validation Loss: 0.3847, Accuracy: 86.28%\n",
            "------------------------------\n",
            "Epoch [65/75]\n"
          ]
        },
        {
          "output_type": "stream",
          "name": "stderr",
          "text": [
            "Training: 100%|██████████| 42/42 [00:10<00:00,  4.11batch/s, accuracy=97.6, loss=0.692]\n",
            "Validation: 100%|██████████| 42/42 [00:07<00:00,  5.58batch/s, accuracy=86.2, loss=0.997]\n"
          ]
        },
        {
          "output_type": "stream",
          "name": "stdout",
          "text": [
            "Training Loss: 0.2233, Accuracy: 97.57%\n",
            "Validation Loss: 0.3843, Accuracy: 86.20%\n",
            "------------------------------\n",
            "Epoch [66/75]\n"
          ]
        },
        {
          "output_type": "stream",
          "name": "stderr",
          "text": [
            "Training: 100%|██████████| 42/42 [00:10<00:00,  4.01batch/s, accuracy=97.3, loss=2.12]\n",
            "Validation: 100%|██████████| 42/42 [00:06<00:00,  6.36batch/s, accuracy=86.7, loss=1.05]\n"
          ]
        },
        {
          "output_type": "stream",
          "name": "stdout",
          "text": [
            "Training Loss: 0.2648, Accuracy: 97.34%\n",
            "Validation Loss: 0.4010, Accuracy: 86.73%\n",
            "------------------------------\n",
            "Epoch [67/75]\n"
          ]
        },
        {
          "output_type": "stream",
          "name": "stderr",
          "text": [
            "Training: 100%|██████████| 42/42 [00:10<00:00,  4.00batch/s, accuracy=97.3, loss=1.08]\n",
            "Validation: 100%|██████████| 42/42 [00:07<00:00,  5.68batch/s, accuracy=87.6, loss=1.13]\n"
          ]
        },
        {
          "output_type": "stream",
          "name": "stdout",
          "text": [
            "Training Loss: 0.2407, Accuracy: 97.34%\n",
            "Validation Loss: 0.3942, Accuracy: 87.64%\n",
            "------------------------------\n",
            "Epoch [68/75]\n"
          ]
        },
        {
          "output_type": "stream",
          "name": "stderr",
          "text": [
            "Training: 100%|██████████| 42/42 [00:10<00:00,  4.08batch/s, accuracy=98, loss=0.148]\n",
            "Validation: 100%|██████████| 42/42 [00:06<00:00,  6.09batch/s, accuracy=87.3, loss=0.906]\n"
          ]
        },
        {
          "output_type": "stream",
          "name": "stdout",
          "text": [
            "Training Loss: 0.2130, Accuracy: 98.03%\n",
            "Validation Loss: 0.3647, Accuracy: 87.34%\n",
            "------------------------------\n",
            "Epoch [69/75]\n"
          ]
        },
        {
          "output_type": "stream",
          "name": "stderr",
          "text": [
            "Training: 100%|██████████| 42/42 [00:10<00:00,  4.01batch/s, accuracy=98.8, loss=0.0836]\n",
            "Validation: 100%|██████████| 42/42 [00:06<00:00,  6.30batch/s, accuracy=86.9, loss=0.918]\n"
          ]
        },
        {
          "output_type": "stream",
          "name": "stdout",
          "text": [
            "Training Loss: 0.1929, Accuracy: 98.79%\n",
            "Validation Loss: 0.3877, Accuracy: 86.88%\n",
            "------------------------------\n",
            "Epoch [70/75]\n"
          ]
        },
        {
          "output_type": "stream",
          "name": "stderr",
          "text": [
            "Training: 100%|██████████| 42/42 [00:10<00:00,  4.02batch/s, accuracy=97.1, loss=0.493]\n",
            "Validation: 100%|██████████| 42/42 [00:07<00:00,  5.65batch/s, accuracy=87.6, loss=0.735]\n"
          ]
        },
        {
          "output_type": "stream",
          "name": "stdout",
          "text": [
            "Training Loss: 0.2559, Accuracy: 97.12%\n",
            "Validation Loss: 0.3778, Accuracy: 87.57%\n",
            "------------------------------\n",
            "Epoch [71/75]\n"
          ]
        },
        {
          "output_type": "stream",
          "name": "stderr",
          "text": [
            "Training: 100%|██████████| 42/42 [00:10<00:00,  3.96batch/s, accuracy=98.3, loss=0.284]\n",
            "Validation: 100%|██████████| 42/42 [00:06<00:00,  6.31batch/s, accuracy=86.8, loss=1.07]\n"
          ]
        },
        {
          "output_type": "stream",
          "name": "stdout",
          "text": [
            "Training Loss: 0.2204, Accuracy: 98.25%\n",
            "Validation Loss: 0.3881, Accuracy: 86.81%\n",
            "------------------------------\n",
            "Epoch [72/75]\n"
          ]
        },
        {
          "output_type": "stream",
          "name": "stderr",
          "text": [
            "Training: 100%|██████████| 42/42 [00:10<00:00,  3.99batch/s, accuracy=98.6, loss=0.0465]\n",
            "Validation: 100%|██████████| 42/42 [00:07<00:00,  5.85batch/s, accuracy=87.7, loss=0.828]\n"
          ]
        },
        {
          "output_type": "stream",
          "name": "stdout",
          "text": [
            "Training Loss: 0.1913, Accuracy: 98.63%\n",
            "Validation Loss: 0.3835, Accuracy: 87.72%\n",
            "------------------------------\n",
            "Epoch [73/75]\n"
          ]
        },
        {
          "output_type": "stream",
          "name": "stderr",
          "text": [
            "Training: 100%|██████████| 42/42 [00:10<00:00,  4.15batch/s, accuracy=98.3, loss=0.198]\n",
            "Validation: 100%|██████████| 42/42 [00:07<00:00,  5.43batch/s, accuracy=87.5, loss=0.873]\n"
          ]
        },
        {
          "output_type": "stream",
          "name": "stdout",
          "text": [
            "Training Loss: 0.2105, Accuracy: 98.33%\n",
            "Validation Loss: 0.3707, Accuracy: 87.49%\n",
            "------------------------------\n",
            "Epoch [74/75]\n"
          ]
        },
        {
          "output_type": "stream",
          "name": "stderr",
          "text": [
            "Training: 100%|██████████| 42/42 [00:10<00:00,  3.99batch/s, accuracy=98.1, loss=0.268]\n",
            "Validation: 100%|██████████| 42/42 [00:06<00:00,  6.30batch/s, accuracy=87.6, loss=0.657]\n"
          ]
        },
        {
          "output_type": "stream",
          "name": "stdout",
          "text": [
            "Training Loss: 0.2081, Accuracy: 98.10%\n",
            "Validation Loss: 0.3712, Accuracy: 87.57%\n",
            "------------------------------\n",
            "Epoch [75/75]\n"
          ]
        },
        {
          "output_type": "stream",
          "name": "stderr",
          "text": [
            "Training: 100%|██████████| 42/42 [00:10<00:00,  3.99batch/s, accuracy=97.7, loss=0.279]\n",
            "Validation: 100%|██████████| 42/42 [00:07<00:00,  5.70batch/s, accuracy=86.6, loss=0.942]"
          ]
        },
        {
          "output_type": "stream",
          "name": "stdout",
          "text": [
            "Training Loss: 0.2229, Accuracy: 97.72%\n",
            "Validation Loss: 0.4072, Accuracy: 86.58%\n",
            "------------------------------\n"
          ]
        },
        {
          "output_type": "stream",
          "name": "stderr",
          "text": [
            "\n"
          ]
        }
      ],
      "source": [
        "gn_model = GoogLeNet().to(device)\n",
        "optimizer = optim.Adam(gn_model.parameters(), lr=learning_rate)\n",
        "train_acc, train_loss, val_acc, val_loss = train_model(gn_model, optimizer, criterion, gn_dataset, gn_train_loader, gn_val_loader, num_epochs=num_epochs)"
      ]
    },
    {
      "cell_type": "code",
      "source": [
        "plot_metric('Accuracy', train_acc, val_acc, epochs=num_epochs)\n",
        "plot_metric('Loss', train_loss, val_loss, epochs=num_epochs)"
      ],
      "metadata": {
        "id": "N6GyDNx8uG6j",
        "colab": {
          "base_uri": "https://localhost:8080/",
          "height": 977
        },
        "outputId": "b45f7afa-761e-4470-fdd4-ec9c78be332f"
      },
      "execution_count": 40,
      "outputs": [
        {
          "output_type": "display_data",
          "data": {
            "text/plain": [
              "<Figure size 1000x500 with 1 Axes>"
            ],
            "image/png": "[encoded data removed]"
          },
          "metadata": {}
        },
        {
          "output_type": "display_data",
          "data": {
            "text/plain": [
              "<Figure size 1000x500 with 1 Axes>"
            ],
            "image/png": "[encoded data removed]"
          },
          "metadata": {}
        }
      ]
    },
    {
      "cell_type": "markdown",
      "source": [
        "#### Test"
      ],
      "metadata": {
        "id": "dIaliA1r76_z"
      }
    },
    {
      "cell_type": "code",
      "source": [
        "test_loss, test_acc = eval_model(gn_model, criterion, gn_dataset, gn_test_loader, 'test')\n",
        "print(f'test loss = {test_loss}')\n",
        "print(f'test acc = {test_acc}')"
      ],
      "metadata": {
        "id": "cYd3P4sEN9Ua",
        "colab": {
          "base_uri": "https://localhost:8080/"
        },
        "outputId": "6ab383c1-2548-484b-b463-ac0e4edb8df7"
      },
      "execution_count": 41,
      "outputs": [
        {
          "output_type": "stream",
          "name": "stderr",
          "text": [
            "Validation: 100%|██████████| 21/21 [00:04<00:00,  5.22batch/s, accuracy=86.2, loss=0.41]"
          ]
        },
        {
          "output_type": "stream",
          "name": "stdout",
          "text": [
            "test loss = 0.38503676652908325\n",
            "test acc = 86.21212121212122\n"
          ]
        },
        {
          "output_type": "stream",
          "name": "stderr",
          "text": [
            "\n"
          ]
        }
      ]
    },
    {
      "cell_type": "markdown",
      "source": [
        "## Rest"
      ],
      "metadata": {
        "id": "zmRqHEn9OBdE"
      }
    },
    {
      "cell_type": "code",
      "execution_count": null,
      "metadata": {
        "id": "0AMFQ287Enny"
      },
      "outputs": [],
      "source": [
        "# custom_train_transform = transforms.Compose([\n",
        "#     transforms.ToPILImage(),\n",
        "#     #transforms.RandomHorizontalFlip(),\n",
        "#     #transforms.RandomVerticalFlip(),\n",
        "#     #transforms.RandomRotation(15),\n",
        "#     #transforms.RandomResizedCrop(224, scale=(0.9, 1.1)),\n",
        "#     transforms.ColorJitter(brightness=0.1, contrast=0.1, saturation=0.1),\n",
        "#     ToTensorAndMove(device),\n",
        "# ])\n",
        "\n",
        "# custom_val_transform = transforms.Compose([\n",
        "#     transforms.ToPILImage(),\n",
        "#     transforms.ColorJitter(brightness=0.1, contrast=0.1, saturation=0.1),\n",
        "#     ToTensorAndMove(device),\n",
        "# ])"
      ]
    },
    {
      "cell_type": "code",
      "source": [
        "# google_net_dataset = Data(device, mode='train',\n",
        "#                                train_transform=custom_train_transform, val_transform=custom_val_transform)\n",
        "\n",
        "# google_net_dataset.normalize()\n",
        "# google_net_dataset.train_val_split()\n",
        "\n",
        "# google_net_train_dataloader = DataLoader(google_net_dataset, batch_size=batch_size, shuffle=True)\n",
        "# google_net_test_dataloader = DataLoader(google_net_dataset, batch_size=batch_size, shuffle=False)"
      ],
      "metadata": {
        "id": "RCdyp4oqR9DN"
      },
      "execution_count": null,
      "outputs": []
    },
    {
      "cell_type": "code",
      "source": [
        "# google_net_model = GoogLeNet().to(device)\n",
        "# optimizer = optim.Adam(google_net_model.parameters(), lr=learning_rate)\n",
        "# train_accuracies, train_losses, val_accuracy, val_losses = train_model(google_net_model, optimizer, criterion,\n",
        "#                                                                        google_net_train_dataloader, google_net_test_dataloader,\n",
        "#                                                                        google_net_dataset, num_epochs=num_epochs, device=device)"
      ],
      "metadata": {
        "id": "Eh9oSPrGRuOk"
      },
      "execution_count": null,
      "outputs": []
    },
    {
      "cell_type": "code",
      "source": [],
      "metadata": {
        "id": "D61Vr2pdRz33"
      },
      "execution_count": null,
      "outputs": []
    }
  ],
  "metadata": {
    "kernelspec": {
      "display_name": "Python 3",
      "name": "python3"
    },
    "language_info": {
      "codemirror_mode": {
        "name": "ipython",
        "version": 3
      },
      "file_extension": ".py",
      "mimetype": "text/x-python",
      "name": "python",
      "nbconvert_exporter": "python",
      "pygments_lexer": "ipython3",
      "version": "3.12.6"
    },
    "colab": {
      "provenance": [],
      "gpuType": "T4",
      "collapsed_sections": [
        "xXecN_NllIQ3",
        "SeXpmxtFkdEh",
        "hvU3ACRWlWG-",
        "YhsLez4x8whr",
        "NldwIZ6nmA9-",
        "agX4r5dw7-xC",
        "mIPJNTB_8A__",
        "XwNSVU3O8DpJ",
        "gtrSwcReuJrl",
        "C4PV3Hhc7q1G",
        "6iOc7J8-7tbi",
        "dIaliA1r76_z",
        "zmRqHEn9OBdE"
      ]
    },
    "accelerator": "GPU"
  },
  "nbformat": 4,
  "nbformat_minor": 0
}