{
  "cells": [
    {
      "cell_type": "markdown",
      "source": [
        "## Imports"
      ],
      "metadata": {
        "id": "xXecN_NllIQ3"
      }
    },
    {
      "cell_type": "code",
      "source": [
        "import numpy as np\n",
        "import torch\n",
        "from torch import nn\n",
        "import matplotlib.pyplot as plt\n",
        "import torch.nn as nn\n",
        "import torch.nn.functional as F\n",
        "from torch import optim\n",
        "from torch.utils.data import Dataset, DataLoader, ConcatDataset\n",
        "from torchvision import transforms\n",
        "import glob\n",
        "import matplotlib.pyplot as plt\n",
        "from sklearn.metrics import confusion_matrix, accuracy_score\n",
        "from sklearn.model_selection import train_test_split\n",
        "import random\n",
        "import cv2\n",
        "import zipfile\n",
        "import sys\n",
        "from tqdm import tqdm\n",
        "from imblearn.over_sampling import RandomOverSampler\n",
        "from imblearn.under_sampling import RandomUnderSampler\n",
        "from imblearn.combine import SMOTETomek\n",
        "import torch\n",
        "import torch.nn as nn\n",
        "import torch.optim as optim\n",
        "from tqdm import tqdm\n"
      ],
      "metadata": {
        "id": "LVdtafC_lJ2o"
      },
      "execution_count": 57,
      "outputs": []
    },
    {
      "cell_type": "code",
      "source": [
        "# drive.mount('/content/drive')\n",
        "# dataset_path = '/content/drive/MyDrive/Deep-HW2-Data.zip'"
      ],
      "metadata": {
        "id": "iJp178llFtFO"
      },
      "execution_count": 26,
      "outputs": []
    },
    {
      "cell_type": "code",
      "source": [
        "device = torch.device(\"cuda\" if torch.cuda.is_available() else \"cpu\")\n",
        "print(device)"
      ],
      "metadata": {
        "colab": {
          "base_uri": "https://localhost:8080/"
        },
        "id": "p2JQwV3vlGi8",
        "outputId": "05645ea7-d83d-4381-d3f7-a86e1762704a"
      },
      "execution_count": 27,
      "outputs": [
        {
          "output_type": "stream",
          "name": "stdout",
          "text": [
            "cuda\n"
          ]
        }
      ]
    },
    {
      "cell_type": "code",
      "source": [
        "!gdown 'https://drive.google.com/uc?id=1gDO7-4SgEfXB_Ls5_LS0ycyMNMPyy1sG'\n",
        "with zipfile.ZipFile('/content/Deep-HW2-Data.zip', 'r') as zip_ref:\n",
        "  zip_ref.extractall('/content/')"
      ],
      "metadata": {
        "colab": {
          "base_uri": "https://localhost:8080/"
        },
        "id": "iO5qy1QYFH1R",
        "outputId": "0dacb907-f639-43f3-8065-a90cd15c3f4b"
      },
      "execution_count": 28,
      "outputs": [
        {
          "output_type": "stream",
          "name": "stdout",
          "text": [
            "Downloading...\n",
            "From (original): https://drive.google.com/uc?id=1gDO7-4SgEfXB_Ls5_LS0ycyMNMPyy1sG\n",
            "From (redirected): https://drive.google.com/uc?id=1gDO7-4SgEfXB_Ls5_LS0ycyMNMPyy1sG&confirm=t&uuid=c8de2618-c6ef-436d-a4bf-4910765ce706\n",
            "To: /content/Deep-HW2-Data.zip\n",
            "100% 53.2M/53.2M [00:00<00:00, 70.5MB/s]\n"
          ]
        }
      ]
    },
    {
      "cell_type": "markdown",
      "source": [
        "## Utilities"
      ],
      "metadata": {
        "id": "SeXpmxtFkdEh"
      }
    },
    {
      "cell_type": "code",
      "source": [
        "def plot_metric(metric, train_metric, val_metric, epochs=50):\n",
        "    plt.figure(figsize=(10, 5))\n",
        "    plt.plot(range(1, epochs + 1), train_metric, label=f'Training {metric}', alpha=0.5)\n",
        "    plt.plot(range(1, epochs + 1), val_metric, label=f'Validation {metric}', alpha=0.5)\n",
        "    plt.xlabel('Epoch')\n",
        "    plt.ylabel(metric)\n",
        "    plt.title(f'Training and Validation {metric} Over Epochs')\n",
        "    plt.legend()\n",
        "    plt.show()\n",
        "\n",
        "def load_from_dataset(path, img_size_w, img_size_h):\n",
        "    data = []\n",
        "    for f in glob.iglob(path):\n",
        "        img = cv2.imread(f)\n",
        "        img = cv2.resize(img,(img_size_w,img_size_h))\n",
        "        data.append(img)\n",
        "    return data\n"
      ],
      "metadata": {
        "id": "WrLmTvDokcfr"
      },
      "execution_count": 29,
      "outputs": []
    },
    {
      "cell_type": "markdown",
      "source": [
        "## Hyper Parameters"
      ],
      "metadata": {
        "id": "hvU3ACRWlWG-"
      }
    },
    {
      "cell_type": "code",
      "source": [
        "in_channels = 3\n",
        "num_classes = 2\n",
        "learning_rate = 3e-4 # karpathy's constant\n",
        "batch_size = 256\n",
        "num_epochs = 50"
      ],
      "metadata": {
        "id": "B8_WodSWlWQO"
      },
      "execution_count": 77,
      "outputs": []
    },
    {
      "cell_type": "markdown",
      "source": [
        "## Dataset"
      ],
      "metadata": {
        "id": "VBFQ3uBuoHBe"
      }
    },
    {
      "cell_type": "markdown",
      "source": [
        "#### Dataset Class"
      ],
      "metadata": {
        "id": "NH4rMJSs7deV"
      }
    },
    {
      "cell_type": "code",
      "source": [
        "class Data(Dataset):\n",
        "    def __init__(self, device, img_size_w = 224, img_size_h = 224):\n",
        "        self.img_size_w = img_size_w\n",
        "        self.img_size_h = img_size_h\n",
        "        self.device = device\n",
        "        self.mode = 'train'\n",
        "\n",
        "        self.load_data()\n",
        "        self.split_data()\n",
        "\n",
        "    def set_mode(self, mode):\n",
        "        self.mode = mode\n",
        "\n",
        "    def set_transformers(self, train_transform=None, val_transform=None):\n",
        "        # Define transforms\n",
        "        self.train_transform = train_transform if train_transform else transforms.Compose([\n",
        "            transforms.ToPILImage(),\n",
        "            # transforms.RandomHorizontalFlip(),\n",
        "            # transforms.RandomRotation(10),\n",
        "            transforms.ToTensor(),\n",
        "            #transforms.Resize((img_size_h, img_size_w)),\n",
        "            #transforms.Normalize(mean=[0.485, 0.456, 0.406], std=[0.229, 0.224, 0.225])\n",
        "        ])\n",
        "\n",
        "        self.val_transform = val_transform if val_transform else transforms.Compose([\n",
        "            transforms.ToPILImage(),\n",
        "            transforms.ToTensor(),\n",
        "            #transforms.Resize((img_size_h, img_size_w)),\n",
        "            #transforms.Normalize(mean=[0.485, 0.456, 0.406], std=[0.229, 0.224, 0.225])\n",
        "        ])\n",
        "\n",
        "    def split_data(self):\n",
        "        X_train, X_temp, y_train, y_temp = train_test_split(\n",
        "            self.images, self.labels, test_size=0.3, random_state=42\n",
        "        )\n",
        "        X_val, X_test, y_val, y_test = train_test_split(\n",
        "            X_temp, y_temp, test_size=0.5, random_state=42\n",
        "        )\n",
        "\n",
        "        self.X_train, self.y_train = X_train, y_train\n",
        "        self.X_val, self.y_val = X_val, y_val\n",
        "        self.X_test, self.y_test = X_test, y_test\n",
        "\n",
        "    def load_data(self):\n",
        "        benign_path = \"/content/data/benign/*.jpg\"\n",
        "        malignant_path = \"/content/data/malignant/*.jpg\"\n",
        "\n",
        "        benign = load_from_dataset(benign_path, self.img_size_w, self.img_size_h)\n",
        "        malignant = load_from_dataset(malignant_path, self.img_size_w, self.img_size_h)\n",
        "\n",
        "        benign = np.array(benign, dtype=np.float32)\n",
        "        malignant = np.array(malignant, dtype=np.float32)\n",
        "\n",
        "        benign_labels = np.zeros(benign.shape[0], dtype=np.float32)\n",
        "        malignant_labels = np.full(malignant.shape[0], 1.0)\n",
        "\n",
        "        print (f'dataset shape is : {benign.shape}')\n",
        "\n",
        "        self.images = np.concatenate((benign, malignant), axis=0)\n",
        "        self.labels = np.concatenate((benign_labels, malignant_labels))\n",
        "\n",
        "    def train_test_test(self):\n",
        "        self.X_train, self.X_test, self.y_train, self.y_test = \\\n",
        "        train_test_split(self.images, self.labels, test_size=0.20, random_state=42)\n",
        "\n",
        "    def train_val_split(self):\n",
        "        self.X_train, self.X_val, self.y_train, self.y_val = \\\n",
        "        train_test_split(self.images, self.labels, test_size=0.20, random_state=42)\n",
        "\n",
        "    def __len__(self):\n",
        "        if self.mode == 'train':\n",
        "            return self.X_train.shape[0]\n",
        "        elif self.mode == 'val':\n",
        "            return self.X_val.shape[0]\n",
        "        elif self.mode == 'test':\n",
        "            return self.X_test.shape[0]\n",
        "\n",
        "    def __getitem__(self, idx):\n",
        "        if self.mode == 'train':\n",
        "            image, label = self.X_train[idx], self.y_train[idx]\n",
        "            image = self.train_transform(image)\n",
        "        elif self.mode == 'val':\n",
        "            image, label = self.X_val[idx], self.y_val[idx]\n",
        "            image = self.val_transform(image)\n",
        "        elif self.mode == 'test':\n",
        "            image, label = self.X_test[idx], self.y_test[idx]\n",
        "            image = self.val_transform(image)\n",
        "\n",
        "        label = torch.tensor(label, dtype=torch.float32).to(device)\n",
        "        return {'image': image, 'label': label}\n",
        "\n",
        "    def normalize(self):\n",
        "        self.images = self.images/255.0\n",
        "\n",
        "    def analyze_class_distribution(self):\n",
        "        benign_count = np.sum(self.labels == 0)\n",
        "        malignant_count = np.sum(self.labels == 1)\n",
        "\n",
        "        print(f\"Class Distribution:\")\n",
        "        print(f\"  Benign:    {benign_count}\")\n",
        "        print(f\"  Malignant: {malignant_count}\")\n",
        "\n",
        "        plt.figure(figsize=(6, 4))  # Adjust the width and height as needed\n",
        "        plt.bar(['Benign', 'Malignant'], [benign_count, malignant_count], color=['blue', 'red'])\n",
        "        plt.title('Class Distribution')\n",
        "        plt.ylabel('Count')\n",
        "        plt.show()\n",
        "\n",
        "    def balance_with_oversampling(self):\n",
        "        ros = RandomOverSampler(random_state=42)\n",
        "        self.images, self.labels = ros.fit_resample(self.images.reshape(len(self.images), -1), self.labels)\n",
        "        self.images = self.images.reshape(-1, self.img_size_h, self.img_size_w, 3)  # Adjust to original dimensions\n",
        "\n",
        "    def augment_minority_class(self):\n",
        "        malignant_indices = np.where(self.labels == 1)[0]\n",
        "        additional_samples = []\n",
        "        additional_labels = []\n",
        "        for idx in malignant_indices:\n",
        "            image = self.images[idx]\n",
        "            augmented_image = self.train_transform(image)  # Apply transformations\n",
        "            additional_samples.append(augmented_image.numpy())\n",
        "            additional_labels.append(1)\n",
        "\n",
        "        self.images = np.concatenate((self.images, np.array(additional_samples)))\n",
        "        self.labels = np.concatenate((self.labels, np.array(additional_labels)))\n",
        "\n",
        "    def balance_with_undersampling(self):\n",
        "        rus = RandomUnderSampler(random_state=42)\n",
        "        self.images, self.labels = rus.fit_resample(self.images.reshape(len(self.images), -1), self.labels)\n",
        "        self.images = self.images.reshape(-1, self.img_size_h, self.img_size_w, 3)  # Adjust to original dimensions\n",
        "\n",
        "    def balance_with_smote(self):\n",
        "        smote = SMOTETomek(random_state=42)\n",
        "        self.images, self.labels = smote.fit_resample(self.images.reshape(len(self.images), -1), self.labels)\n",
        "        self.images = self.images.reshape(-1, self.img_size_h, self.img_size_w, 3)  # Adjust to original dimensions"
      ],
      "metadata": {
        "id": "s6IJlw9qoIyr"
      },
      "execution_count": 91,
      "outputs": []
    },
    {
      "cell_type": "code",
      "source": [
        "custom_train_transform = transforms.Compose([\n",
        "    transforms.ToPILImage(),\n",
        "    transforms.RandomHorizontalFlip(),\n",
        "    transforms.RandomVerticalFlip(),\n",
        "    transforms.RandomRotation(15),\n",
        "    transforms.RandomResizedCrop(28, scale=(0.9, 1.1)),\n",
        "    transforms.ColorJitter(brightness=0.1, contrast=0.1, saturation=0.1),\n",
        "    ToTensorAndMove(device),\n",
        "])\n",
        "\n",
        "custom_val_transform = transforms.Compose([\n",
        "    transforms.ToPILImage(),\n",
        "    transforms.ColorJitter(brightness=0.1, contrast=0.1, saturation=0.1),\n",
        "    ToTensorAndMove(device),\n",
        "])"
      ],
      "metadata": {
        "id": "CoNxeF06EG_t"
      },
      "execution_count": 92,
      "outputs": []
    },
    {
      "cell_type": "markdown",
      "source": [
        "#### Create Normal Dataset"
      ],
      "metadata": {
        "id": "LjjHrOTh7ihS"
      }
    },
    {
      "cell_type": "code",
      "source": [
        "dataset = Data(device=device, img_size_w=28, img_size_h=28)\n",
        "dataset.set_transformers() # custom_train_transform, custom_val_transform\n",
        "\n",
        "dataset.balance_with_undersampling()\n",
        "dataset.normalize()\n",
        "\n",
        "# Set the dataset mode for each DataLoader\n",
        "# TODO:: Not Sure\n",
        "dataset.set_mode('train')\n",
        "train_loader = DataLoader(dataset, batch_size=32, shuffle=True)\n",
        "\n",
        "dataset.set_mode('val')\n",
        "val_loader = DataLoader(dataset, batch_size=32, shuffle=False)\n",
        "\n",
        "dataset.set_mode('test')\n",
        "test_loader = DataLoader(dataset, batch_size=32, shuffle=False)"
      ],
      "metadata": {
        "colab": {
          "base_uri": "https://localhost:8080/"
        },
        "id": "9fGYtMuZCCPI",
        "outputId": "f91ed090-df84-41d2-c5fa-ac4bd8a0c128"
      },
      "execution_count": 93,
      "outputs": [
        {
          "output_type": "stream",
          "name": "stdout",
          "text": [
            "dataset shape is : (1800, 28, 28, 3)\n"
          ]
        }
      ]
    },
    {
      "cell_type": "markdown",
      "source": [
        "#### Create GoogleNet Dataset"
      ],
      "metadata": {
        "id": "Bpe29FEd7mq9"
      }
    },
    {
      "cell_type": "code",
      "source": [
        "google_net_dataset = Data(device=device, img_size_w=28, img_size_h=28)\n",
        "google_net_dataset.set_transformers() # custom_train_transform, custom_val_transform\n",
        "\n",
        "google_net_dataset.balance_with_undersampling()\n",
        "google_net_dataset.normalize()\n",
        "\n",
        "# Set the google_net_dataset mode for each DataLoader\n",
        "# TODO:: Not Sure\n",
        "google_net_dataset.set_mode('train')\n",
        "gn_train_loader = DataLoader(google_net_dataset, batch_size=32, shuffle=True)\n",
        "\n",
        "google_net_dataset.set_mode('val')\n",
        "gn_val_loader = DataLoader(google_net_dataset, batch_size=32, shuffle=False)\n",
        "\n",
        "google_net_dataset.set_mode('test')\n",
        "gn_test_loader = DataLoader(google_net_dataset, batch_size=32, shuffle=False)"
      ],
      "metadata": {
        "colab": {
          "base_uri": "https://localhost:8080/"
        },
        "id": "qJFVS15MDetL",
        "outputId": "df240e28-f3bb-4c27-ee31-da7a536d533b"
      },
      "execution_count": 94,
      "outputs": [
        {
          "output_type": "stream",
          "name": "stdout",
          "text": [
            "dataset shape is : (1800, 28, 28, 3)\n"
          ]
        }
      ]
    },
    {
      "cell_type": "markdown",
      "source": [
        "## Model1"
      ],
      "metadata": {
        "id": "-r5Mq5Ewla1B"
      }
    },
    {
      "cell_type": "markdown",
      "source": [
        "#### Class"
      ],
      "metadata": {
        "id": "SJwNcoWe8mqo"
      }
    },
    {
      "cell_type": "code",
      "execution_count": 95,
      "metadata": {
        "id": "pvZ_ad5pEnnt"
      },
      "outputs": [],
      "source": [
        "class ToTensorAndMove:\n",
        "    def __init__(self, device):\n",
        "        self.to_tensor = transforms.ToTensor()\n",
        "        self.device = device\n",
        "    def __call__(self, img):\n",
        "        tensor = self.to_tensor(img)\n",
        "        return tensor.to(self.device)"
      ]
    },
    {
      "cell_type": "code",
      "execution_count": 96,
      "metadata": {
        "id": "OiQ4qgmIEnnt"
      },
      "outputs": [],
      "source": [
        "class SkinCancerCNN(nn.Module):\n",
        "    def __init__(self):\n",
        "        super(SkinCancerCNN, self).__init__()\n",
        "\n",
        "        self.conv1 = nn.Conv2d(in_channels=3, out_channels=16, kernel_size=3, padding=1, stride=1)\n",
        "        self.pool1 = nn.MaxPool2d(kernel_size=2, stride=2)\n",
        "\n",
        "        self.conv2 = nn.Conv2d(in_channels=16, out_channels=32, kernel_size=3, padding=1, stride=1)\n",
        "        self.pool2 = nn.MaxPool2d(kernel_size=2, stride=2)\n",
        "\n",
        "        self.conv3 = nn.Conv2d(in_channels=32, out_channels=64, kernel_size=3, padding=1, stride=1)\n",
        "        self.pool3 = nn.MaxPool2d(kernel_size=1, stride=2)\n",
        "\n",
        "        self.conv4 = nn.Conv2d(in_channels=64, out_channels=128, kernel_size=3, padding=1, stride=1)\n",
        "        self.pool4 = nn.MaxPool2d(kernel_size=2, stride=2)\n",
        "\n",
        "        self.flatten = nn.Flatten()\n",
        "\n",
        "        self.fc1 = nn.Linear(2 * 2 * 128, 64)\n",
        "        self.fc2 = nn.Linear(64, 32)\n",
        "        self.fc3 = nn.Linear(32, 2)\n",
        "\n",
        "    def forward(self, x):\n",
        "        x = F.relu(self.conv1(x))\n",
        "        x = self.pool1(x)\n",
        "\n",
        "        x = F.relu(self.conv2(x))\n",
        "        x = self.pool2(x)\n",
        "\n",
        "        x = F.relu(self.conv3(x))\n",
        "        x = self.pool3(x)\n",
        "\n",
        "        x = F.relu(self.conv4(x))\n",
        "        x = self.pool4(x)\n",
        "\n",
        "        x = self.flatten(x)\n",
        "\n",
        "        x = F.relu(self.fc1(x))\n",
        "        x = F.relu(self.fc2(x))\n",
        "        x = self.fc3(x)\n",
        "        return x"
      ]
    },
    {
      "cell_type": "code",
      "execution_count": 97,
      "metadata": {
        "id": "nodhoEM_Ennv"
      },
      "outputs": [],
      "source": [
        "def train_model(model, optimizer, criterion, dataset, train_loader, val_loader, num_epochs=10):\n",
        "    model.to(device)\n",
        "    train_accuracies = []\n",
        "    train_losses = []\n",
        "    val_accuracies = []\n",
        "    val_losses = []\n",
        "    scheduler = torch.optim.lr_scheduler.ReduceLROnPlateau(optimizer, factor=0.1, patience=10, verbose=True)\n",
        "\n",
        "    for epoch in range(num_epochs):\n",
        "        print(f\"Epoch [{epoch + 1}/{num_epochs}]\")\n",
        "        dataset.mode = 'train'\n",
        "        model.train()\n",
        "        train_loss = 0.0\n",
        "        correct = 0\n",
        "        total = 0\n",
        "\n",
        "        with tqdm(total=len(train_loader), desc=\"Training\", unit=\"batch\") as pbar:\n",
        "            for batch in train_loader:\n",
        "                images, labels = batch['image'].to(device), batch['label'].to(device)\n",
        "\n",
        "                optimizer.zero_grad()\n",
        "                outputs = model(images)\n",
        "                loss = criterion(outputs, labels.long())\n",
        "\n",
        "                loss.backward()\n",
        "                optimizer.step()\n",
        "\n",
        "                train_loss += loss.item()\n",
        "                _, predicted = outputs.max(1)\n",
        "                total += labels.size(0)\n",
        "                correct += predicted.eq(labels).sum().item()\n",
        "\n",
        "                pbar.set_postfix(loss=loss.item(), accuracy=100. * correct / total)\n",
        "                pbar.update(1)\n",
        "\n",
        "        avg_train_loss = train_loss / len(train_loader)\n",
        "        train_accuracy = 100. * correct / total\n",
        "        # print(f\"Training Loss: {avg_train_loss:.4f}, Accuracy: {train_accuracy:.2f}%\")\n",
        "        train_accuracies.append(train_accuracy)\n",
        "        train_losses.append(avg_train_loss)\n",
        "\n",
        "        model.eval()\n",
        "        dataset.mode = 'val'\n",
        "        val_loss = 0.0\n",
        "        correct = 0\n",
        "        total = 0\n",
        "\n",
        "        with torch.no_grad():\n",
        "            with tqdm(total=len(val_loader), desc=\"Validation\", unit=\"batch\") as pbar:\n",
        "                for batch in val_loader:\n",
        "                    images, labels = batch['image'].to(device), batch['label'].to(device)\n",
        "\n",
        "                    outputs = model(images)\n",
        "                    loss = criterion(outputs, labels.long())\n",
        "\n",
        "                    val_loss += loss.item()\n",
        "                    _, predicted = outputs.max(1)\n",
        "                    total += labels.size(0)\n",
        "                    correct += predicted.eq(labels).sum().item()\n",
        "\n",
        "                    pbar.set_postfix(loss=loss.item(), accuracy=100. * correct / total)\n",
        "                    pbar.update(1)\n",
        "\n",
        "        avg_val_loss = val_loss / len(val_loader)\n",
        "        val_accuracy = 100. * correct / total\n",
        "        # print(f\"Validation Loss: {avg_val_loss:.4f}, Accuracy: {val_accuracy:.2f}%\")\n",
        "        print(\"-\" * 30)\n",
        "        val_accuracies.append(val_accuracy)\n",
        "        val_losses.append(avg_val_loss)\n",
        "        mean_loss = sum(train_losses) / len(train_losses)\n",
        "        mean_loss = round(mean_loss, 2)\n",
        "        scheduler.step(mean_loss)\n",
        "\n",
        "    return train_accuracies, train_losses, val_accuracies, val_losses\n"
      ]
    },
    {
      "cell_type": "markdown",
      "source": [
        "#### Train"
      ],
      "metadata": {
        "id": "lYYS7U2n8t2_"
      }
    },
    {
      "cell_type": "code",
      "source": [
        "model = SkinCancerCNN().to(device)\n",
        "criterion = nn.CrossEntropyLoss()\n",
        "optimizer = optim.Adam(model.parameters(), lr=learning_rate)"
      ],
      "metadata": {
        "id": "drX7lYS4oA00"
      },
      "execution_count": 98,
      "outputs": []
    },
    {
      "cell_type": "code",
      "source": [
        "dataset = Data(device=device, img_size_w=28, img_size_h=28)\n",
        "dataset.set_transformers() # custom_train_transform, custom_val_transform\n",
        "\n",
        "dataset.balance_with_undersampling()\n",
        "dataset.normalize()\n",
        "\n",
        "dataset.set_mode('train')\n",
        "train_loader = DataLoader(dataset, batch_size=32, shuffle=True)\n",
        "print(type(train_loader))\n",
        "\n",
        "dataset.set_mode('val')\n",
        "val_loader = DataLoader(dataset, batch_size=32, shuffle=False)\n",
        "print(type(val_loader))\n",
        "\n",
        "dataset.set_mode('test')\n",
        "test_loader = DataLoader(dataset, batch_size=32, shuffle=False)\n",
        "print(type(test_loader))"
      ],
      "metadata": {
        "colab": {
          "base_uri": "https://localhost:8080/"
        },
        "id": "W4S8R4f0EJtI",
        "outputId": "b8e72202-a37b-498e-e91d-7deccbf02d84"
      },
      "execution_count": 99,
      "outputs": [
        {
          "output_type": "stream",
          "name": "stdout",
          "text": [
            "dataset shape is : (1800, 28, 28, 3)\n",
            "<class 'torch.utils.data.dataloader.DataLoader'>\n",
            "<class 'torch.utils.data.dataloader.DataLoader'>\n",
            "<class 'torch.utils.data.dataloader.DataLoader'>\n"
          ]
        }
      ]
    },
    {
      "cell_type": "code",
      "execution_count": 100,
      "metadata": {
        "colab": {
          "base_uri": "https://localhost:8080/"
        },
        "id": "uOxHtNaeEnnv",
        "outputId": "e3dd2624-9a61-4c67-f4cd-06135ce641b7"
      },
      "outputs": [
        {
          "output_type": "stream",
          "name": "stderr",
          "text": [
            "/usr/local/lib/python3.10/dist-packages/torch/optim/lr_scheduler.py:62: UserWarning: The verbose parameter is deprecated. Please use get_last_lr() to access the learning rate.\n",
            "  warnings.warn(\n"
          ]
        },
        {
          "output_type": "stream",
          "name": "stdout",
          "text": [
            "Epoch [1/50]\n"
          ]
        },
        {
          "output_type": "stream",
          "name": "stderr",
          "text": [
            "Training: 100%|██████████| 73/73 [00:01<00:00, 54.49batch/s, accuracy=60.8, loss=0.332]\n",
            "Validation: 100%|██████████| 16/16 [00:00<00:00, 71.27batch/s, accuracy=73.7, loss=0.483]\n"
          ]
        },
        {
          "output_type": "stream",
          "name": "stdout",
          "text": [
            "------------------------------\n",
            "Epoch [2/50]\n"
          ]
        },
        {
          "output_type": "stream",
          "name": "stderr",
          "text": [
            "Training: 100%|██████████| 73/73 [00:01<00:00, 51.47batch/s, accuracy=74.6, loss=0.214]\n",
            "Validation: 100%|██████████| 16/16 [00:00<00:00, 69.38batch/s, accuracy=76.2, loss=0.468]\n"
          ]
        },
        {
          "output_type": "stream",
          "name": "stdout",
          "text": [
            "------------------------------\n",
            "Epoch [3/50]\n"
          ]
        },
        {
          "output_type": "stream",
          "name": "stderr",
          "text": [
            "Training: 100%|██████████| 73/73 [00:01<00:00, 63.38batch/s, accuracy=77.1, loss=0.243]\n",
            "Validation: 100%|██████████| 16/16 [00:00<00:00, 93.88batch/s, accuracy=78.4, loss=0.428]\n"
          ]
        },
        {
          "output_type": "stream",
          "name": "stdout",
          "text": [
            "------------------------------\n",
            "Epoch [4/50]\n"
          ]
        },
        {
          "output_type": "stream",
          "name": "stderr",
          "text": [
            "Training: 100%|██████████| 73/73 [00:01<00:00, 68.86batch/s, accuracy=78.6, loss=0.231]\n",
            "Validation: 100%|██████████| 16/16 [00:00<00:00, 74.89batch/s, accuracy=79, loss=0.338]\n"
          ]
        },
        {
          "output_type": "stream",
          "name": "stdout",
          "text": [
            "------------------------------\n",
            "Epoch [5/50]\n"
          ]
        },
        {
          "output_type": "stream",
          "name": "stderr",
          "text": [
            "Training: 100%|██████████| 73/73 [00:01<00:00, 64.54batch/s, accuracy=79.3, loss=0.216]\n",
            "Validation: 100%|██████████| 16/16 [00:00<00:00, 81.38batch/s, accuracy=77.6, loss=0.319]\n"
          ]
        },
        {
          "output_type": "stream",
          "name": "stdout",
          "text": [
            "------------------------------\n",
            "Epoch [6/50]\n"
          ]
        },
        {
          "output_type": "stream",
          "name": "stderr",
          "text": [
            "Training: 100%|██████████| 73/73 [00:01<00:00, 65.26batch/s, accuracy=80.2, loss=0.469]\n",
            "Validation: 100%|██████████| 16/16 [00:00<00:00, 94.26batch/s, accuracy=80, loss=0.498]\n"
          ]
        },
        {
          "output_type": "stream",
          "name": "stdout",
          "text": [
            "------------------------------\n",
            "Epoch [7/50]\n"
          ]
        },
        {
          "output_type": "stream",
          "name": "stderr",
          "text": [
            "Training: 100%|██████████| 73/73 [00:01<00:00, 68.38batch/s, accuracy=80.2, loss=0.131]\n",
            "Validation: 100%|██████████| 16/16 [00:00<00:00, 88.06batch/s, accuracy=82, loss=0.361]\n"
          ]
        },
        {
          "output_type": "stream",
          "name": "stdout",
          "text": [
            "------------------------------\n",
            "Epoch [8/50]\n"
          ]
        },
        {
          "output_type": "stream",
          "name": "stderr",
          "text": [
            "Training: 100%|██████████| 73/73 [00:01<00:00, 67.69batch/s, accuracy=81.2, loss=0.604]\n",
            "Validation: 100%|██████████| 16/16 [00:00<00:00, 72.30batch/s, accuracy=81, loss=0.233]\n"
          ]
        },
        {
          "output_type": "stream",
          "name": "stdout",
          "text": [
            "------------------------------\n",
            "Epoch [9/50]\n"
          ]
        },
        {
          "output_type": "stream",
          "name": "stderr",
          "text": [
            "Training: 100%|██████████| 73/73 [00:01<00:00, 67.83batch/s, accuracy=81.2, loss=1.13]\n",
            "Validation: 100%|██████████| 16/16 [00:00<00:00, 93.19batch/s, accuracy=79.4, loss=0.211]\n"
          ]
        },
        {
          "output_type": "stream",
          "name": "stdout",
          "text": [
            "------------------------------\n",
            "Epoch [10/50]\n"
          ]
        },
        {
          "output_type": "stream",
          "name": "stderr",
          "text": [
            "Training: 100%|██████████| 73/73 [00:01<00:00, 63.38batch/s, accuracy=80.8, loss=0.224]\n",
            "Validation: 100%|██████████| 16/16 [00:00<00:00, 80.16batch/s, accuracy=82.4, loss=0.245]\n"
          ]
        },
        {
          "output_type": "stream",
          "name": "stdout",
          "text": [
            "------------------------------\n",
            "Epoch [11/50]\n"
          ]
        },
        {
          "output_type": "stream",
          "name": "stderr",
          "text": [
            "Training: 100%|██████████| 73/73 [00:01<00:00, 53.56batch/s, accuracy=81.7, loss=0.124]\n",
            "Validation: 100%|██████████| 16/16 [00:00<00:00, 71.91batch/s, accuracy=83, loss=0.308]\n"
          ]
        },
        {
          "output_type": "stream",
          "name": "stdout",
          "text": [
            "------------------------------\n",
            "Epoch [12/50]\n"
          ]
        },
        {
          "output_type": "stream",
          "name": "stderr",
          "text": [
            "Training: 100%|██████████| 73/73 [00:01<00:00, 52.48batch/s, accuracy=80.2, loss=0.273]\n",
            "Validation: 100%|██████████| 16/16 [00:00<00:00, 43.78batch/s, accuracy=82, loss=0.439]\n"
          ]
        },
        {
          "output_type": "stream",
          "name": "stdout",
          "text": [
            "------------------------------\n",
            "Epoch [13/50]\n"
          ]
        },
        {
          "output_type": "stream",
          "name": "stderr",
          "text": [
            "Training: 100%|██████████| 73/73 [00:01<00:00, 64.38batch/s, accuracy=81.9, loss=0.385]\n",
            "Validation: 100%|██████████| 16/16 [00:00<00:00, 92.14batch/s, accuracy=80, loss=0.238]\n"
          ]
        },
        {
          "output_type": "stream",
          "name": "stdout",
          "text": [
            "------------------------------\n",
            "Epoch [14/50]\n"
          ]
        },
        {
          "output_type": "stream",
          "name": "stderr",
          "text": [
            "Training: 100%|██████████| 73/73 [00:01<00:00, 65.59batch/s, accuracy=82, loss=0.242]\n",
            "Validation: 100%|██████████| 16/16 [00:00<00:00, 94.79batch/s, accuracy=82.8, loss=0.292]\n"
          ]
        },
        {
          "output_type": "stream",
          "name": "stdout",
          "text": [
            "------------------------------\n",
            "Epoch [15/50]\n"
          ]
        },
        {
          "output_type": "stream",
          "name": "stderr",
          "text": [
            "Training: 100%|██████████| 73/73 [00:01<00:00, 59.09batch/s, accuracy=82.6, loss=0.294]\n",
            "Validation: 100%|██████████| 16/16 [00:00<00:00, 60.59batch/s, accuracy=81.4, loss=0.242]\n"
          ]
        },
        {
          "output_type": "stream",
          "name": "stdout",
          "text": [
            "------------------------------\n",
            "Epoch [16/50]\n"
          ]
        },
        {
          "output_type": "stream",
          "name": "stderr",
          "text": [
            "Training: 100%|██████████| 73/73 [00:01<00:00, 49.02batch/s, accuracy=83.1, loss=0.232]\n",
            "Validation: 100%|██████████| 16/16 [00:00<00:00, 57.77batch/s, accuracy=81.8, loss=0.188]\n"
          ]
        },
        {
          "output_type": "stream",
          "name": "stdout",
          "text": [
            "------------------------------\n",
            "Epoch [17/50]\n"
          ]
        },
        {
          "output_type": "stream",
          "name": "stderr",
          "text": [
            "Training: 100%|██████████| 73/73 [00:01<00:00, 45.57batch/s, accuracy=82.7, loss=0.456]\n",
            "Validation: 100%|██████████| 16/16 [00:00<00:00, 82.14batch/s, accuracy=83, loss=0.293]\n"
          ]
        },
        {
          "output_type": "stream",
          "name": "stdout",
          "text": [
            "------------------------------\n",
            "Epoch [18/50]\n"
          ]
        },
        {
          "output_type": "stream",
          "name": "stderr",
          "text": [
            "Training: 100%|██████████| 73/73 [00:01<00:00, 65.23batch/s, accuracy=83.8, loss=0.0195]\n",
            "Validation: 100%|██████████| 16/16 [00:00<00:00, 86.49batch/s, accuracy=82.6, loss=0.407]\n"
          ]
        },
        {
          "output_type": "stream",
          "name": "stdout",
          "text": [
            "------------------------------\n",
            "Epoch [19/50]\n"
          ]
        },
        {
          "output_type": "stream",
          "name": "stderr",
          "text": [
            "Training: 100%|██████████| 73/73 [00:01<00:00, 45.43batch/s, accuracy=83.4, loss=0.702]\n",
            "Validation: 100%|██████████| 16/16 [00:00<00:00, 26.66batch/s, accuracy=82.4, loss=0.235]\n"
          ]
        },
        {
          "output_type": "stream",
          "name": "stdout",
          "text": [
            "------------------------------\n",
            "Epoch [20/50]\n"
          ]
        },
        {
          "output_type": "stream",
          "name": "stderr",
          "text": [
            "Training: 100%|██████████| 73/73 [00:02<00:00, 25.31batch/s, accuracy=84.1, loss=0.273]\n",
            "Validation: 100%|██████████| 16/16 [00:00<00:00, 52.29batch/s, accuracy=79.2, loss=0.225]\n"
          ]
        },
        {
          "output_type": "stream",
          "name": "stdout",
          "text": [
            "------------------------------\n",
            "Epoch [21/50]\n"
          ]
        },
        {
          "output_type": "stream",
          "name": "stderr",
          "text": [
            "Training: 100%|██████████| 73/73 [00:01<00:00, 47.41batch/s, accuracy=84.4, loss=0.268]\n",
            "Validation: 100%|██████████| 16/16 [00:00<00:00, 95.24batch/s, accuracy=83.4, loss=0.279]\n"
          ]
        },
        {
          "output_type": "stream",
          "name": "stdout",
          "text": [
            "------------------------------\n",
            "Epoch [22/50]\n"
          ]
        },
        {
          "output_type": "stream",
          "name": "stderr",
          "text": [
            "Training: 100%|██████████| 73/73 [00:01<00:00, 49.15batch/s, accuracy=85, loss=0.0203]\n",
            "Validation: 100%|██████████| 16/16 [00:00<00:00, 55.26batch/s, accuracy=81, loss=0.262]\n"
          ]
        },
        {
          "output_type": "stream",
          "name": "stdout",
          "text": [
            "------------------------------\n",
            "Epoch [23/50]\n"
          ]
        },
        {
          "output_type": "stream",
          "name": "stderr",
          "text": [
            "Training: 100%|██████████| 73/73 [00:01<00:00, 37.13batch/s, accuracy=85.2, loss=0.00402]\n",
            "Validation: 100%|██████████| 16/16 [00:00<00:00, 60.03batch/s, accuracy=83, loss=0.229]\n"
          ]
        },
        {
          "output_type": "stream",
          "name": "stdout",
          "text": [
            "------------------------------\n",
            "Epoch [24/50]\n"
          ]
        },
        {
          "output_type": "stream",
          "name": "stderr",
          "text": [
            "Training: 100%|██████████| 73/73 [00:01<00:00, 43.31batch/s, accuracy=85.3, loss=0.0158]\n",
            "Validation: 100%|██████████| 16/16 [00:00<00:00, 55.97batch/s, accuracy=80.6, loss=0.507]\n"
          ]
        },
        {
          "output_type": "stream",
          "name": "stdout",
          "text": [
            "------------------------------\n",
            "Epoch [25/50]\n"
          ]
        },
        {
          "output_type": "stream",
          "name": "stderr",
          "text": [
            "Training: 100%|██████████| 73/73 [00:01<00:00, 66.03batch/s, accuracy=85.3, loss=0.151]\n",
            "Validation: 100%|██████████| 16/16 [00:00<00:00, 78.14batch/s, accuracy=81.8, loss=0.519]\n"
          ]
        },
        {
          "output_type": "stream",
          "name": "stdout",
          "text": [
            "------------------------------\n",
            "Epoch [26/50]\n"
          ]
        },
        {
          "output_type": "stream",
          "name": "stderr",
          "text": [
            "Training: 100%|██████████| 73/73 [00:02<00:00, 30.48batch/s, accuracy=84.9, loss=0.0831]\n",
            "Validation: 100%|██████████| 16/16 [00:00<00:00, 42.71batch/s, accuracy=81.8, loss=0.258]\n"
          ]
        },
        {
          "output_type": "stream",
          "name": "stdout",
          "text": [
            "------------------------------\n",
            "Epoch [27/50]\n"
          ]
        },
        {
          "output_type": "stream",
          "name": "stderr",
          "text": [
            "Training: 100%|██████████| 73/73 [00:01<00:00, 43.49batch/s, accuracy=86.1, loss=0.256]\n",
            "Validation: 100%|██████████| 16/16 [00:00<00:00, 91.89batch/s, accuracy=82.2, loss=0.246]\n"
          ]
        },
        {
          "output_type": "stream",
          "name": "stdout",
          "text": [
            "------------------------------\n",
            "Epoch [28/50]\n"
          ]
        },
        {
          "output_type": "stream",
          "name": "stderr",
          "text": [
            "Training: 100%|██████████| 73/73 [00:01<00:00, 66.57batch/s, accuracy=86.8, loss=0.0788]\n",
            "Validation: 100%|██████████| 16/16 [00:00<00:00, 90.91batch/s, accuracy=82.8, loss=0.302]\n"
          ]
        },
        {
          "output_type": "stream",
          "name": "stdout",
          "text": [
            "------------------------------\n",
            "Epoch [29/50]\n"
          ]
        },
        {
          "output_type": "stream",
          "name": "stderr",
          "text": [
            "Training: 100%|██████████| 73/73 [00:01<00:00, 69.53batch/s, accuracy=86.5, loss=0.0745]\n",
            "Validation: 100%|██████████| 16/16 [00:00<00:00, 77.13batch/s, accuracy=83.4, loss=0.369]\n"
          ]
        },
        {
          "output_type": "stream",
          "name": "stdout",
          "text": [
            "------------------------------\n",
            "Epoch [30/50]\n"
          ]
        },
        {
          "output_type": "stream",
          "name": "stderr",
          "text": [
            "Training: 100%|██████████| 73/73 [00:01<00:00, 66.56batch/s, accuracy=87.1, loss=0.364]\n",
            "Validation: 100%|██████████| 16/16 [00:00<00:00, 84.01batch/s, accuracy=80.6, loss=0.506]\n"
          ]
        },
        {
          "output_type": "stream",
          "name": "stdout",
          "text": [
            "------------------------------\n",
            "Epoch [31/50]\n"
          ]
        },
        {
          "output_type": "stream",
          "name": "stderr",
          "text": [
            "Training: 100%|██████████| 73/73 [00:01<00:00, 68.44batch/s, accuracy=86.4, loss=0.318]\n",
            "Validation: 100%|██████████| 16/16 [00:00<00:00, 91.36batch/s, accuracy=83, loss=0.37]\n"
          ]
        },
        {
          "output_type": "stream",
          "name": "stdout",
          "text": [
            "------------------------------\n",
            "Epoch [32/50]\n"
          ]
        },
        {
          "output_type": "stream",
          "name": "stderr",
          "text": [
            "Training: 100%|██████████| 73/73 [00:01<00:00, 67.07batch/s, accuracy=87.6, loss=0.328]\n",
            "Validation: 100%|██████████| 16/16 [00:00<00:00, 89.92batch/s, accuracy=83, loss=0.434]\n"
          ]
        },
        {
          "output_type": "stream",
          "name": "stdout",
          "text": [
            "------------------------------\n",
            "Epoch [33/50]\n"
          ]
        },
        {
          "output_type": "stream",
          "name": "stderr",
          "text": [
            "Training: 100%|██████████| 73/73 [00:01<00:00, 68.23batch/s, accuracy=87.1, loss=0.0615]\n",
            "Validation: 100%|██████████| 16/16 [00:00<00:00, 71.28batch/s, accuracy=81.8, loss=0.47]\n"
          ]
        },
        {
          "output_type": "stream",
          "name": "stdout",
          "text": [
            "------------------------------\n",
            "Epoch [34/50]\n"
          ]
        },
        {
          "output_type": "stream",
          "name": "stderr",
          "text": [
            "Training: 100%|██████████| 73/73 [00:01<00:00, 68.13batch/s, accuracy=88.4, loss=0.0496]\n",
            "Validation: 100%|██████████| 16/16 [00:00<00:00, 94.20batch/s, accuracy=82.2, loss=0.433]\n"
          ]
        },
        {
          "output_type": "stream",
          "name": "stdout",
          "text": [
            "------------------------------\n",
            "Epoch [35/50]\n"
          ]
        },
        {
          "output_type": "stream",
          "name": "stderr",
          "text": [
            "Training: 100%|██████████| 73/73 [00:01<00:00, 55.59batch/s, accuracy=88.7, loss=0.00227]\n",
            "Validation: 100%|██████████| 16/16 [00:00<00:00, 66.07batch/s, accuracy=81.8, loss=0.328]\n"
          ]
        },
        {
          "output_type": "stream",
          "name": "stdout",
          "text": [
            "------------------------------\n",
            "Epoch [36/50]\n"
          ]
        },
        {
          "output_type": "stream",
          "name": "stderr",
          "text": [
            "Training: 100%|██████████| 73/73 [00:01<00:00, 52.12batch/s, accuracy=88.7, loss=0.12]\n",
            "Validation: 100%|██████████| 16/16 [00:00<00:00, 92.35batch/s, accuracy=83.2, loss=0.377]\n"
          ]
        },
        {
          "output_type": "stream",
          "name": "stdout",
          "text": [
            "------------------------------\n",
            "Epoch [37/50]\n"
          ]
        },
        {
          "output_type": "stream",
          "name": "stderr",
          "text": [
            "Training: 100%|██████████| 73/73 [00:01<00:00, 68.83batch/s, accuracy=89.5, loss=0.292]\n",
            "Validation: 100%|██████████| 16/16 [00:00<00:00, 96.30batch/s, accuracy=83.2, loss=0.434]\n"
          ]
        },
        {
          "output_type": "stream",
          "name": "stdout",
          "text": [
            "------------------------------\n",
            "Epoch [38/50]\n"
          ]
        },
        {
          "output_type": "stream",
          "name": "stderr",
          "text": [
            "Training: 100%|██████████| 73/73 [00:01<00:00, 68.02batch/s, accuracy=89.3, loss=0.254]\n",
            "Validation: 100%|██████████| 16/16 [00:00<00:00, 72.40batch/s, accuracy=81.6, loss=0.671]\n"
          ]
        },
        {
          "output_type": "stream",
          "name": "stdout",
          "text": [
            "------------------------------\n",
            "Epoch [39/50]\n"
          ]
        },
        {
          "output_type": "stream",
          "name": "stderr",
          "text": [
            "Training: 100%|██████████| 73/73 [00:01<00:00, 66.88batch/s, accuracy=89.1, loss=0.00347]\n",
            "Validation: 100%|██████████| 16/16 [00:00<00:00, 94.73batch/s, accuracy=81.8, loss=0.405]\n"
          ]
        },
        {
          "output_type": "stream",
          "name": "stdout",
          "text": [
            "------------------------------\n",
            "Epoch [40/50]\n"
          ]
        },
        {
          "output_type": "stream",
          "name": "stderr",
          "text": [
            "Training: 100%|██████████| 73/73 [00:01<00:00, 67.30batch/s, accuracy=90.2, loss=0.438]\n",
            "Validation: 100%|██████████| 16/16 [00:00<00:00, 94.54batch/s, accuracy=81, loss=0.51]\n"
          ]
        },
        {
          "output_type": "stream",
          "name": "stdout",
          "text": [
            "------------------------------\n",
            "Epoch [41/50]\n"
          ]
        },
        {
          "output_type": "stream",
          "name": "stderr",
          "text": [
            "Training: 100%|██████████| 73/73 [00:01<00:00, 68.54batch/s, accuracy=90.7, loss=0.0527]\n",
            "Validation: 100%|██████████| 16/16 [00:00<00:00, 83.68batch/s, accuracy=84, loss=0.408]\n"
          ]
        },
        {
          "output_type": "stream",
          "name": "stdout",
          "text": [
            "------------------------------\n",
            "Epoch [42/50]\n"
          ]
        },
        {
          "output_type": "stream",
          "name": "stderr",
          "text": [
            "Training: 100%|██████████| 73/73 [00:01<00:00, 66.37batch/s, accuracy=91.2, loss=0.0656]\n",
            "Validation: 100%|██████████| 16/16 [00:00<00:00, 72.73batch/s, accuracy=81.8, loss=0.542]\n"
          ]
        },
        {
          "output_type": "stream",
          "name": "stdout",
          "text": [
            "------------------------------\n",
            "Epoch [43/50]\n"
          ]
        },
        {
          "output_type": "stream",
          "name": "stderr",
          "text": [
            "Training: 100%|██████████| 73/73 [00:01<00:00, 68.71batch/s, accuracy=91.2, loss=0.139]\n",
            "Validation: 100%|██████████| 16/16 [00:00<00:00, 94.68batch/s, accuracy=81.6, loss=0.478]\n"
          ]
        },
        {
          "output_type": "stream",
          "name": "stdout",
          "text": [
            "------------------------------\n",
            "Epoch [44/50]\n"
          ]
        },
        {
          "output_type": "stream",
          "name": "stderr",
          "text": [
            "Training: 100%|██████████| 73/73 [00:01<00:00, 63.29batch/s, accuracy=92.5, loss=0.402]\n",
            "Validation: 100%|██████████| 16/16 [00:00<00:00, 68.52batch/s, accuracy=82, loss=0.394]\n"
          ]
        },
        {
          "output_type": "stream",
          "name": "stdout",
          "text": [
            "------------------------------\n",
            "Epoch [45/50]\n"
          ]
        },
        {
          "output_type": "stream",
          "name": "stderr",
          "text": [
            "Training: 100%|██████████| 73/73 [00:01<00:00, 54.72batch/s, accuracy=91.8, loss=0.319]\n",
            "Validation: 100%|██████████| 16/16 [00:00<00:00, 62.15batch/s, accuracy=81, loss=0.485]\n"
          ]
        },
        {
          "output_type": "stream",
          "name": "stdout",
          "text": [
            "------------------------------\n",
            "Epoch [46/50]\n"
          ]
        },
        {
          "output_type": "stream",
          "name": "stderr",
          "text": [
            "Training: 100%|██████████| 73/73 [00:01<00:00, 54.73batch/s, accuracy=92.2, loss=0.0326]\n",
            "Validation: 100%|██████████| 16/16 [00:00<00:00, 71.92batch/s, accuracy=82, loss=0.569]\n"
          ]
        },
        {
          "output_type": "stream",
          "name": "stdout",
          "text": [
            "------------------------------\n",
            "Epoch [47/50]\n"
          ]
        },
        {
          "output_type": "stream",
          "name": "stderr",
          "text": [
            "Training: 100%|██████████| 73/73 [00:01<00:00, 68.03batch/s, accuracy=93.1, loss=0.124]\n",
            "Validation: 100%|██████████| 16/16 [00:00<00:00, 88.15batch/s, accuracy=82, loss=0.851]\n"
          ]
        },
        {
          "output_type": "stream",
          "name": "stdout",
          "text": [
            "------------------------------\n",
            "Epoch [48/50]\n"
          ]
        },
        {
          "output_type": "stream",
          "name": "stderr",
          "text": [
            "Training: 100%|██████████| 73/73 [00:01<00:00, 65.97batch/s, accuracy=92.7, loss=0.427]\n",
            "Validation: 100%|██████████| 16/16 [00:00<00:00, 74.65batch/s, accuracy=81.6, loss=0.667]\n"
          ]
        },
        {
          "output_type": "stream",
          "name": "stdout",
          "text": [
            "------------------------------\n",
            "Epoch [49/50]\n"
          ]
        },
        {
          "output_type": "stream",
          "name": "stderr",
          "text": [
            "Training: 100%|██████████| 73/73 [00:01<00:00, 58.61batch/s, accuracy=92.9, loss=0.345]\n",
            "Validation: 100%|██████████| 16/16 [00:00<00:00, 70.19batch/s, accuracy=81, loss=0.927]\n"
          ]
        },
        {
          "output_type": "stream",
          "name": "stdout",
          "text": [
            "------------------------------\n",
            "Epoch [50/50]\n"
          ]
        },
        {
          "output_type": "stream",
          "name": "stderr",
          "text": [
            "Training: 100%|██████████| 73/73 [00:01<00:00, 65.71batch/s, accuracy=93.3, loss=0.292]\n",
            "Validation: 100%|██████████| 16/16 [00:00<00:00, 85.60batch/s, accuracy=81.6, loss=0.959]"
          ]
        },
        {
          "output_type": "stream",
          "name": "stdout",
          "text": [
            "------------------------------\n"
          ]
        },
        {
          "output_type": "stream",
          "name": "stderr",
          "text": [
            "\n"
          ]
        }
      ],
      "source": [
        "train_acc, train_loss, val_acc, val_loss = train_model(model, optimizer, criterion, dataset, train_loader, val_loader, num_epochs=num_epochs)"
      ]
    },
    {
      "cell_type": "code",
      "execution_count": 101,
      "metadata": {
        "colab": {
          "base_uri": "https://localhost:8080/",
          "height": 977
        },
        "id": "hAEAL5q0Ennw",
        "outputId": "96c78c7c-cc2f-464c-90e3-6eb9d6e0e062"
      },
      "outputs": [
        {
          "output_type": "display_data",
          "data": {
            "text/plain": [
              "<Figure size 1000x500 with 1 Axes>"
            ],
            "image/png": "[encoded data removed]"
          },
          "metadata": {}
        },
        {
          "output_type": "display_data",
          "data": {
            "text/plain": [
              "<Figure size 1000x500 with 1 Axes>"
            ],
            "image/png": "[encoded data removed]"
          },
          "metadata": {}
        }
      ],
      "source": [
        "plot_metric('Accuracy', train_acc, val_acc, epochs=num_epochs)\n",
        "plot_metric('Loss', train_loss, val_loss, epochs=num_epochs)"
      ]
    },
    {
      "cell_type": "markdown",
      "source": [
        "#### Test"
      ],
      "metadata": {
        "id": "YhsLez4x8whr"
      }
    },
    {
      "cell_type": "code",
      "source": [],
      "metadata": {
        "id": "NmVa8n6L8x5E"
      },
      "execution_count": null,
      "outputs": []
    },
    {
      "cell_type": "markdown",
      "source": [
        "## Model2"
      ],
      "metadata": {
        "id": "NldwIZ6nmA9-"
      }
    },
    {
      "cell_type": "markdown",
      "source": [
        "#### Model Class"
      ],
      "metadata": {
        "id": "agX4r5dw7-xC"
      }
    },
    {
      "cell_type": "code",
      "execution_count": 102,
      "metadata": {
        "id": "Q__ecpmlEnnw"
      },
      "outputs": [],
      "source": [
        "class conv_block(nn.Module):\n",
        "  def __init__(self, in_channels, out_channels, **kwargs):\n",
        "    super(conv_block, self).__init__()\n",
        "    self.relu = nn.ReLU()\n",
        "    self.conv = nn.Conv2d(in_channels, out_channels, **kwargs)\n",
        "    self.batchnorm = nn.BatchNorm2d(out_channels)\n",
        "\n",
        "  def forward(self, x):\n",
        "    return self.relu(self.batchnorm(self.conv(x)))"
      ]
    },
    {
      "cell_type": "code",
      "execution_count": 103,
      "metadata": {
        "id": "3Z7AiwaYEnnw"
      },
      "outputs": [],
      "source": [
        "class ImprovedSkinCancerCNN(nn.Module):\n",
        "    def __init__(self):\n",
        "        super(ImprovedSkinCancerCNN, self).__init__()\n",
        "\n",
        "        self.conv1 = conv_block(in_channels=3, out_channels=64, kernel_size=3, padding=1, stride=1)\n",
        "        self.pool1 = nn.MaxPool2d(kernel_size=2, stride=2)\n",
        "        self.dropout1 = nn.Dropout(p=0.15)\n",
        "\n",
        "        self.conv2 = conv_block(in_channels=64, out_channels=128, kernel_size=3, padding=1, stride=1)\n",
        "        self.pool2 = nn.MaxPool2d(kernel_size=2, stride=2)\n",
        "        self.dropout2 = nn.Dropout(p=0.15)\n",
        "\n",
        "        self.conv3 = conv_block(in_channels=128, out_channels=256, kernel_size=3, padding=1, stride=1)\n",
        "        self.pool3 = nn.MaxPool2d(kernel_size=1, stride=2)\n",
        "        self.dropout3 = nn.Dropout(p=0.15)\n",
        "\n",
        "        self.conv4 = conv_block(in_channels=256, out_channels=512, kernel_size=3, padding=1, stride=1)\n",
        "        self.pool4 = nn.MaxPool2d(kernel_size=2, stride=2)\n",
        "        self.dropout4 = nn.Dropout(p=0.15)\n",
        "\n",
        "        self.flatten = nn.Flatten()\n",
        "\n",
        "        self.fc1 = nn.Linear(2 * 2 * 512, 512)\n",
        "        self.fc2 = nn.Linear(512, 64)\n",
        "        self.fc3 = nn.Linear(64, 2)\n",
        "\n",
        "    def forward(self, x):\n",
        "        x = self.conv1(x)\n",
        "        x = self.pool1(x)\n",
        "        x = self.dropout1(x)\n",
        "\n",
        "        x = self.conv2(x)\n",
        "        x = self.pool2(x)\n",
        "        x = self.dropout2(x)\n",
        "\n",
        "        x = self.conv3(x)\n",
        "        x = self.pool3(x)\n",
        "        x = self.dropout3(x)\n",
        "\n",
        "        x = self.conv4(x)\n",
        "        x = self.pool4(x)\n",
        "        x = self.dropout4(x)\n",
        "\n",
        "        x = self.flatten(x)\n",
        "\n",
        "        x = F.relu(self.fc1(x))\n",
        "        x = F.relu(self.fc2(x))\n",
        "        x = self.fc3(x)\n",
        "        return x"
      ]
    },
    {
      "cell_type": "markdown",
      "source": [
        "#### Train"
      ],
      "metadata": {
        "id": "mIPJNTB_8A__"
      }
    },
    {
      "cell_type": "code",
      "execution_count": 104,
      "metadata": {
        "colab": {
          "base_uri": "https://localhost:8080/"
        },
        "id": "5pV2C3MoEnnw",
        "outputId": "6880be43-3f96-4fc0-d48e-8f97039a00a2"
      },
      "outputs": [
        {
          "output_type": "stream",
          "name": "stdout",
          "text": [
            "Epoch [1/50]\n"
          ]
        },
        {
          "output_type": "stream",
          "name": "stderr",
          "text": [
            "Training: 100%|██████████| 73/73 [00:01<00:00, 45.10batch/s, accuracy=77.6, loss=0.977]\n",
            "Validation: 100%|██████████| 16/16 [00:00<00:00, 69.71batch/s, accuracy=80, loss=0.368]\n"
          ]
        },
        {
          "output_type": "stream",
          "name": "stdout",
          "text": [
            "------------------------------\n",
            "Epoch [2/50]\n"
          ]
        },
        {
          "output_type": "stream",
          "name": "stderr",
          "text": [
            "Training: 100%|██████████| 73/73 [00:01<00:00, 54.27batch/s, accuracy=81, loss=0.511]\n",
            "Validation: 100%|██████████| 16/16 [00:00<00:00, 71.89batch/s, accuracy=78.2, loss=0.265]\n"
          ]
        },
        {
          "output_type": "stream",
          "name": "stdout",
          "text": [
            "------------------------------\n",
            "Epoch [3/50]\n"
          ]
        },
        {
          "output_type": "stream",
          "name": "stderr",
          "text": [
            "Training: 100%|██████████| 73/73 [00:01<00:00, 54.97batch/s, accuracy=82.4, loss=0.101]\n",
            "Validation: 100%|██████████| 16/16 [00:00<00:00, 87.22batch/s, accuracy=77.6, loss=0.555]\n"
          ]
        },
        {
          "output_type": "stream",
          "name": "stdout",
          "text": [
            "------------------------------\n",
            "Epoch [4/50]\n"
          ]
        },
        {
          "output_type": "stream",
          "name": "stderr",
          "text": [
            "Training: 100%|██████████| 73/73 [00:01<00:00, 54.65batch/s, accuracy=82.1, loss=0.243]\n",
            "Validation: 100%|██████████| 16/16 [00:00<00:00, 73.63batch/s, accuracy=83.6, loss=0.333]\n"
          ]
        },
        {
          "output_type": "stream",
          "name": "stdout",
          "text": [
            "------------------------------\n",
            "Epoch [5/50]\n"
          ]
        },
        {
          "output_type": "stream",
          "name": "stderr",
          "text": [
            "Training: 100%|██████████| 73/73 [00:01<00:00, 54.83batch/s, accuracy=82.9, loss=1.02]\n",
            "Validation: 100%|██████████| 16/16 [00:00<00:00, 81.09batch/s, accuracy=83.8, loss=0.272]\n"
          ]
        },
        {
          "output_type": "stream",
          "name": "stdout",
          "text": [
            "------------------------------\n",
            "Epoch [6/50]\n"
          ]
        },
        {
          "output_type": "stream",
          "name": "stderr",
          "text": [
            "Training: 100%|██████████| 73/73 [00:01<00:00, 53.59batch/s, accuracy=83.7, loss=0.584]\n",
            "Validation: 100%|██████████| 16/16 [00:00<00:00, 77.10batch/s, accuracy=83.4, loss=0.285]\n"
          ]
        },
        {
          "output_type": "stream",
          "name": "stdout",
          "text": [
            "------------------------------\n",
            "Epoch [7/50]\n"
          ]
        },
        {
          "output_type": "stream",
          "name": "stderr",
          "text": [
            "Training: 100%|██████████| 73/73 [00:01<00:00, 54.56batch/s, accuracy=84.3, loss=0.00815]\n",
            "Validation: 100%|██████████| 16/16 [00:00<00:00, 81.06batch/s, accuracy=82.8, loss=0.378]\n"
          ]
        },
        {
          "output_type": "stream",
          "name": "stdout",
          "text": [
            "------------------------------\n",
            "Epoch [8/50]\n"
          ]
        },
        {
          "output_type": "stream",
          "name": "stderr",
          "text": [
            "Training: 100%|██████████| 73/73 [00:01<00:00, 45.42batch/s, accuracy=86, loss=0.195]\n",
            "Validation: 100%|██████████| 16/16 [00:00<00:00, 68.57batch/s, accuracy=84, loss=0.49]\n"
          ]
        },
        {
          "output_type": "stream",
          "name": "stdout",
          "text": [
            "------------------------------\n",
            "Epoch [9/50]\n"
          ]
        },
        {
          "output_type": "stream",
          "name": "stderr",
          "text": [
            "Training: 100%|██████████| 73/73 [00:01<00:00, 46.15batch/s, accuracy=85.9, loss=0.11]\n",
            "Validation: 100%|██████████| 16/16 [00:00<00:00, 81.36batch/s, accuracy=83.8, loss=0.372]\n"
          ]
        },
        {
          "output_type": "stream",
          "name": "stdout",
          "text": [
            "------------------------------\n",
            "Epoch [10/50]\n"
          ]
        },
        {
          "output_type": "stream",
          "name": "stderr",
          "text": [
            "Training: 100%|██████████| 73/73 [00:01<00:00, 54.65batch/s, accuracy=87.4, loss=0.385]\n",
            "Validation: 100%|██████████| 16/16 [00:00<00:00, 66.59batch/s, accuracy=85.1, loss=0.358]\n"
          ]
        },
        {
          "output_type": "stream",
          "name": "stdout",
          "text": [
            "------------------------------\n",
            "Epoch [11/50]\n"
          ]
        },
        {
          "output_type": "stream",
          "name": "stderr",
          "text": [
            "Training: 100%|██████████| 73/73 [00:01<00:00, 55.02batch/s, accuracy=88.6, loss=0.921]\n",
            "Validation: 100%|██████████| 16/16 [00:00<00:00, 85.17batch/s, accuracy=81.4, loss=0.451]\n"
          ]
        },
        {
          "output_type": "stream",
          "name": "stdout",
          "text": [
            "------------------------------\n",
            "Epoch [12/50]\n"
          ]
        },
        {
          "output_type": "stream",
          "name": "stderr",
          "text": [
            "Training: 100%|██████████| 73/73 [00:01<00:00, 53.49batch/s, accuracy=87.5, loss=2.15]\n",
            "Validation: 100%|██████████| 16/16 [00:00<00:00, 78.95batch/s, accuracy=82, loss=0.438]\n"
          ]
        },
        {
          "output_type": "stream",
          "name": "stdout",
          "text": [
            "------------------------------\n",
            "Epoch [13/50]\n"
          ]
        },
        {
          "output_type": "stream",
          "name": "stderr",
          "text": [
            "Training: 100%|██████████| 73/73 [00:01<00:00, 54.64batch/s, accuracy=87.1, loss=0.05]\n",
            "Validation: 100%|██████████| 16/16 [00:00<00:00, 58.99batch/s, accuracy=83, loss=0.556]\n"
          ]
        },
        {
          "output_type": "stream",
          "name": "stdout",
          "text": [
            "------------------------------\n",
            "Epoch [14/50]\n"
          ]
        },
        {
          "output_type": "stream",
          "name": "stderr",
          "text": [
            "Training: 100%|██████████| 73/73 [00:01<00:00, 52.77batch/s, accuracy=89.9, loss=0.932]\n",
            "Validation: 100%|██████████| 16/16 [00:00<00:00, 87.93batch/s, accuracy=81.8, loss=0.641]\n"
          ]
        },
        {
          "output_type": "stream",
          "name": "stdout",
          "text": [
            "------------------------------\n",
            "Epoch [15/50]\n"
          ]
        },
        {
          "output_type": "stream",
          "name": "stderr",
          "text": [
            "Training: 100%|██████████| 73/73 [00:01<00:00, 52.21batch/s, accuracy=90.2, loss=0.3]\n",
            "Validation: 100%|██████████| 16/16 [00:00<00:00, 50.60batch/s, accuracy=80, loss=0.581]\n"
          ]
        },
        {
          "output_type": "stream",
          "name": "stdout",
          "text": [
            "------------------------------\n",
            "Epoch [16/50]\n"
          ]
        },
        {
          "output_type": "stream",
          "name": "stderr",
          "text": [
            "Training: 100%|██████████| 73/73 [00:02<00:00, 28.13batch/s, accuracy=91.2, loss=0.184]\n",
            "Validation: 100%|██████████| 16/16 [00:00<00:00, 27.98batch/s, accuracy=84, loss=0.5]\n"
          ]
        },
        {
          "output_type": "stream",
          "name": "stdout",
          "text": [
            "------------------------------\n",
            "Epoch [17/50]\n"
          ]
        },
        {
          "output_type": "stream",
          "name": "stderr",
          "text": [
            "Training: 100%|██████████| 73/73 [00:01<00:00, 41.61batch/s, accuracy=91.5, loss=0.107]\n",
            "Validation: 100%|██████████| 16/16 [00:00<00:00, 56.34batch/s, accuracy=83.6, loss=0.476]\n"
          ]
        },
        {
          "output_type": "stream",
          "name": "stdout",
          "text": [
            "------------------------------\n",
            "Epoch [18/50]\n"
          ]
        },
        {
          "output_type": "stream",
          "name": "stderr",
          "text": [
            "Training: 100%|██████████| 73/73 [00:01<00:00, 38.03batch/s, accuracy=92.2, loss=0.58]\n",
            "Validation: 100%|██████████| 16/16 [00:00<00:00, 53.20batch/s, accuracy=82.8, loss=0.52]\n"
          ]
        },
        {
          "output_type": "stream",
          "name": "stdout",
          "text": [
            "------------------------------\n",
            "Epoch [19/50]\n"
          ]
        },
        {
          "output_type": "stream",
          "name": "stderr",
          "text": [
            "Training: 100%|██████████| 73/73 [00:02<00:00, 36.38batch/s, accuracy=92.6, loss=0.341]\n",
            "Validation: 100%|██████████| 16/16 [00:00<00:00, 65.65batch/s, accuracy=83.8, loss=0.478]\n"
          ]
        },
        {
          "output_type": "stream",
          "name": "stdout",
          "text": [
            "------------------------------\n",
            "Epoch [20/50]\n"
          ]
        },
        {
          "output_type": "stream",
          "name": "stderr",
          "text": [
            "Training: 100%|██████████| 73/73 [00:01<00:00, 52.86batch/s, accuracy=92.4, loss=1.78]\n",
            "Validation: 100%|██████████| 16/16 [00:00<00:00, 86.62batch/s, accuracy=83.2, loss=0.46]\n"
          ]
        },
        {
          "output_type": "stream",
          "name": "stdout",
          "text": [
            "------------------------------\n",
            "Epoch [21/50]\n"
          ]
        },
        {
          "output_type": "stream",
          "name": "stderr",
          "text": [
            "Training: 100%|██████████| 73/73 [00:01<00:00, 53.25batch/s, accuracy=90.7, loss=0.0162]\n",
            "Validation: 100%|██████████| 16/16 [00:00<00:00, 69.61batch/s, accuracy=84.8, loss=0.265]\n"
          ]
        },
        {
          "output_type": "stream",
          "name": "stdout",
          "text": [
            "------------------------------\n",
            "Epoch [22/50]\n"
          ]
        },
        {
          "output_type": "stream",
          "name": "stderr",
          "text": [
            "Training: 100%|██████████| 73/73 [00:01<00:00, 37.75batch/s, accuracy=93.9, loss=0.000524]\n",
            "Validation: 100%|██████████| 16/16 [00:00<00:00, 60.66batch/s, accuracy=84.2, loss=0.315]\n"
          ]
        },
        {
          "output_type": "stream",
          "name": "stdout",
          "text": [
            "------------------------------\n",
            "Epoch [23/50]\n"
          ]
        },
        {
          "output_type": "stream",
          "name": "stderr",
          "text": [
            "Training: 100%|██████████| 73/73 [00:01<00:00, 43.99batch/s, accuracy=94.7, loss=0.504]\n",
            "Validation: 100%|██████████| 16/16 [00:00<00:00, 78.41batch/s, accuracy=84.8, loss=0.699]\n"
          ]
        },
        {
          "output_type": "stream",
          "name": "stdout",
          "text": [
            "------------------------------\n",
            "Epoch [24/50]\n"
          ]
        },
        {
          "output_type": "stream",
          "name": "stderr",
          "text": [
            "Training: 100%|██████████| 73/73 [00:01<00:00, 53.77batch/s, accuracy=93.9, loss=0.0404]\n",
            "Validation: 100%|██████████| 16/16 [00:00<00:00, 87.49batch/s, accuracy=82.2, loss=1.06]\n"
          ]
        },
        {
          "output_type": "stream",
          "name": "stdout",
          "text": [
            "------------------------------\n",
            "Epoch [25/50]\n"
          ]
        },
        {
          "output_type": "stream",
          "name": "stderr",
          "text": [
            "Training: 100%|██████████| 73/73 [00:01<00:00, 53.53batch/s, accuracy=93.2, loss=0.00149]\n",
            "Validation: 100%|██████████| 16/16 [00:00<00:00, 84.40batch/s, accuracy=84.6, loss=0.65]\n"
          ]
        },
        {
          "output_type": "stream",
          "name": "stdout",
          "text": [
            "------------------------------\n",
            "Epoch [26/50]\n"
          ]
        },
        {
          "output_type": "stream",
          "name": "stderr",
          "text": [
            "Training: 100%|██████████| 73/73 [00:01<00:00, 50.69batch/s, accuracy=94.8, loss=0.00602]\n",
            "Validation: 100%|██████████| 16/16 [00:00<00:00, 41.46batch/s, accuracy=83.4, loss=0.679]\n"
          ]
        },
        {
          "output_type": "stream",
          "name": "stdout",
          "text": [
            "------------------------------\n",
            "Epoch [27/50]\n"
          ]
        },
        {
          "output_type": "stream",
          "name": "stderr",
          "text": [
            "Training: 100%|██████████| 73/73 [00:03<00:00, 22.40batch/s, accuracy=95.5, loss=0.0683]\n",
            "Validation: 100%|██████████| 16/16 [00:00<00:00, 59.71batch/s, accuracy=83.4, loss=0.666]\n"
          ]
        },
        {
          "output_type": "stream",
          "name": "stdout",
          "text": [
            "------------------------------\n",
            "Epoch [28/50]\n"
          ]
        },
        {
          "output_type": "stream",
          "name": "stderr",
          "text": [
            "Training: 100%|██████████| 73/73 [00:03<00:00, 20.73batch/s, accuracy=96.2, loss=0.0229]\n",
            "Validation: 100%|██████████| 16/16 [00:00<00:00, 26.90batch/s, accuracy=83.2, loss=1.16]\n"
          ]
        },
        {
          "output_type": "stream",
          "name": "stdout",
          "text": [
            "------------------------------\n",
            "Epoch [29/50]\n"
          ]
        },
        {
          "output_type": "stream",
          "name": "stderr",
          "text": [
            "Training: 100%|██████████| 73/73 [00:02<00:00, 29.20batch/s, accuracy=96.4, loss=0.000279]\n",
            "Validation: 100%|██████████| 16/16 [00:00<00:00, 54.63batch/s, accuracy=84.8, loss=0.866]\n"
          ]
        },
        {
          "output_type": "stream",
          "name": "stdout",
          "text": [
            "------------------------------\n",
            "Epoch [30/50]\n"
          ]
        },
        {
          "output_type": "stream",
          "name": "stderr",
          "text": [
            "Training: 100%|██████████| 73/73 [00:02<00:00, 28.60batch/s, accuracy=95.1, loss=0.0162]\n",
            "Validation: 100%|██████████| 16/16 [00:00<00:00, 53.68batch/s, accuracy=84.6, loss=0.709]\n"
          ]
        },
        {
          "output_type": "stream",
          "name": "stdout",
          "text": [
            "------------------------------\n",
            "Epoch [31/50]\n"
          ]
        },
        {
          "output_type": "stream",
          "name": "stderr",
          "text": [
            "Training: 100%|██████████| 73/73 [00:02<00:00, 35.35batch/s, accuracy=97.1, loss=0.00097]\n",
            "Validation: 100%|██████████| 16/16 [00:00<00:00, 61.18batch/s, accuracy=85.1, loss=0.547]\n"
          ]
        },
        {
          "output_type": "stream",
          "name": "stdout",
          "text": [
            "------------------------------\n",
            "Epoch [32/50]\n"
          ]
        },
        {
          "output_type": "stream",
          "name": "stderr",
          "text": [
            "Training: 100%|██████████| 73/73 [00:01<00:00, 55.26batch/s, accuracy=96.8, loss=0.154]\n",
            "Validation: 100%|██████████| 16/16 [00:00<00:00, 80.13batch/s, accuracy=84.8, loss=1.18]\n"
          ]
        },
        {
          "output_type": "stream",
          "name": "stdout",
          "text": [
            "------------------------------\n",
            "Epoch [33/50]\n"
          ]
        },
        {
          "output_type": "stream",
          "name": "stderr",
          "text": [
            "Training: 100%|██████████| 73/73 [00:01<00:00, 54.06batch/s, accuracy=96, loss=0.185]\n",
            "Validation: 100%|██████████| 16/16 [00:00<00:00, 54.42batch/s, accuracy=83.2, loss=1.11]\n"
          ]
        },
        {
          "output_type": "stream",
          "name": "stdout",
          "text": [
            "------------------------------\n",
            "Epoch [34/50]\n"
          ]
        },
        {
          "output_type": "stream",
          "name": "stderr",
          "text": [
            "Training: 100%|██████████| 73/73 [00:01<00:00, 45.84batch/s, accuracy=96.7, loss=0.00821]\n",
            "Validation: 100%|██████████| 16/16 [00:00<00:00, 60.26batch/s, accuracy=85.7, loss=0.994]\n"
          ]
        },
        {
          "output_type": "stream",
          "name": "stdout",
          "text": [
            "------------------------------\n",
            "Epoch [35/50]\n"
          ]
        },
        {
          "output_type": "stream",
          "name": "stderr",
          "text": [
            "Training: 100%|██████████| 73/73 [00:01<00:00, 48.69batch/s, accuracy=97.4, loss=0.000159]\n",
            "Validation: 100%|██████████| 16/16 [00:00<00:00, 82.82batch/s, accuracy=84.8, loss=0.959]\n"
          ]
        },
        {
          "output_type": "stream",
          "name": "stdout",
          "text": [
            "------------------------------\n",
            "Epoch [36/50]\n"
          ]
        },
        {
          "output_type": "stream",
          "name": "stderr",
          "text": [
            "Training: 100%|██████████| 73/73 [00:01<00:00, 53.29batch/s, accuracy=98, loss=0.00649]\n",
            "Validation: 100%|██████████| 16/16 [00:00<00:00, 86.72batch/s, accuracy=84, loss=1.69]\n"
          ]
        },
        {
          "output_type": "stream",
          "name": "stdout",
          "text": [
            "------------------------------\n",
            "Epoch [37/50]\n"
          ]
        },
        {
          "output_type": "stream",
          "name": "stderr",
          "text": [
            "Training: 100%|██████████| 73/73 [00:01<00:00, 53.50batch/s, accuracy=97, loss=0.425]\n",
            "Validation: 100%|██████████| 16/16 [00:00<00:00, 80.41batch/s, accuracy=82.4, loss=0.69]\n"
          ]
        },
        {
          "output_type": "stream",
          "name": "stdout",
          "text": [
            "------------------------------\n",
            "Epoch [38/50]\n"
          ]
        },
        {
          "output_type": "stream",
          "name": "stderr",
          "text": [
            "Training: 100%|██████████| 73/73 [00:01<00:00, 53.46batch/s, accuracy=96, loss=2.45]\n",
            "Validation: 100%|██████████| 16/16 [00:00<00:00, 84.62batch/s, accuracy=84, loss=1.27]\n"
          ]
        },
        {
          "output_type": "stream",
          "name": "stdout",
          "text": [
            "------------------------------\n",
            "Epoch [39/50]\n"
          ]
        },
        {
          "output_type": "stream",
          "name": "stderr",
          "text": [
            "Training: 100%|██████████| 73/73 [00:01<00:00, 54.34batch/s, accuracy=95.1, loss=0.243]\n",
            "Validation: 100%|██████████| 16/16 [00:00<00:00, 71.31batch/s, accuracy=82.8, loss=1.23]\n"
          ]
        },
        {
          "output_type": "stream",
          "name": "stdout",
          "text": [
            "------------------------------\n",
            "Epoch [40/50]\n"
          ]
        },
        {
          "output_type": "stream",
          "name": "stderr",
          "text": [
            "Training: 100%|██████████| 73/73 [00:01<00:00, 52.65batch/s, accuracy=95.8, loss=0.537]\n",
            "Validation: 100%|██████████| 16/16 [00:00<00:00, 84.64batch/s, accuracy=83.8, loss=1.09]\n"
          ]
        },
        {
          "output_type": "stream",
          "name": "stdout",
          "text": [
            "------------------------------\n",
            "Epoch [41/50]\n"
          ]
        },
        {
          "output_type": "stream",
          "name": "stderr",
          "text": [
            "Training: 100%|██████████| 73/73 [00:01<00:00, 50.20batch/s, accuracy=95.7, loss=0.599]\n",
            "Validation: 100%|██████████| 16/16 [00:00<00:00, 62.03batch/s, accuracy=82.6, loss=1.07]\n"
          ]
        },
        {
          "output_type": "stream",
          "name": "stdout",
          "text": [
            "------------------------------\n",
            "Epoch [42/50]\n"
          ]
        },
        {
          "output_type": "stream",
          "name": "stderr",
          "text": [
            "Training: 100%|██████████| 73/73 [00:01<00:00, 44.52batch/s, accuracy=96, loss=0.27]\n",
            "Validation: 100%|██████████| 16/16 [00:00<00:00, 62.51batch/s, accuracy=83, loss=0.621]\n"
          ]
        },
        {
          "output_type": "stream",
          "name": "stdout",
          "text": [
            "------------------------------\n",
            "Epoch [43/50]\n"
          ]
        },
        {
          "output_type": "stream",
          "name": "stderr",
          "text": [
            "Training: 100%|██████████| 73/73 [00:01<00:00, 50.84batch/s, accuracy=97.4, loss=0.15]\n",
            "Validation: 100%|██████████| 16/16 [00:00<00:00, 72.87batch/s, accuracy=82.4, loss=1.58]\n"
          ]
        },
        {
          "output_type": "stream",
          "name": "stdout",
          "text": [
            "------------------------------\n",
            "Epoch [44/50]\n"
          ]
        },
        {
          "output_type": "stream",
          "name": "stderr",
          "text": [
            "Training: 100%|██████████| 73/73 [00:01<00:00, 52.41batch/s, accuracy=98, loss=0.00225]\n",
            "Validation: 100%|██████████| 16/16 [00:00<00:00, 79.67batch/s, accuracy=83.6, loss=1.95]\n"
          ]
        },
        {
          "output_type": "stream",
          "name": "stdout",
          "text": [
            "------------------------------\n",
            "Epoch [45/50]\n"
          ]
        },
        {
          "output_type": "stream",
          "name": "stderr",
          "text": [
            "Training: 100%|██████████| 73/73 [00:01<00:00, 53.58batch/s, accuracy=97.5, loss=0.000105]\n",
            "Validation: 100%|██████████| 16/16 [00:00<00:00, 68.64batch/s, accuracy=84, loss=0.501]\n"
          ]
        },
        {
          "output_type": "stream",
          "name": "stdout",
          "text": [
            "------------------------------\n",
            "Epoch [46/50]\n"
          ]
        },
        {
          "output_type": "stream",
          "name": "stderr",
          "text": [
            "Training: 100%|██████████| 73/73 [00:01<00:00, 53.96batch/s, accuracy=98.4, loss=0.645]\n",
            "Validation: 100%|██████████| 16/16 [00:00<00:00, 81.31batch/s, accuracy=83.8, loss=0.921]\n"
          ]
        },
        {
          "output_type": "stream",
          "name": "stdout",
          "text": [
            "------------------------------\n",
            "Epoch [47/50]\n"
          ]
        },
        {
          "output_type": "stream",
          "name": "stderr",
          "text": [
            "Training: 100%|██████████| 73/73 [00:01<00:00, 52.78batch/s, accuracy=96.2, loss=0.0123]\n",
            "Validation: 100%|██████████| 16/16 [00:00<00:00, 78.20batch/s, accuracy=83.6, loss=0.463]\n"
          ]
        },
        {
          "output_type": "stream",
          "name": "stdout",
          "text": [
            "------------------------------\n",
            "Epoch [48/50]\n"
          ]
        },
        {
          "output_type": "stream",
          "name": "stderr",
          "text": [
            "Training: 100%|██████████| 73/73 [00:01<00:00, 53.72batch/s, accuracy=98.5, loss=0.000604]\n",
            "Validation: 100%|██████████| 16/16 [00:00<00:00, 79.48batch/s, accuracy=83.8, loss=1.24]\n"
          ]
        },
        {
          "output_type": "stream",
          "name": "stdout",
          "text": [
            "------------------------------\n",
            "Epoch [49/50]\n"
          ]
        },
        {
          "output_type": "stream",
          "name": "stderr",
          "text": [
            "Training: 100%|██████████| 73/73 [00:01<00:00, 46.54batch/s, accuracy=99, loss=1.55e-5]\n",
            "Validation: 100%|██████████| 16/16 [00:00<00:00, 68.18batch/s, accuracy=85.1, loss=1.42]\n"
          ]
        },
        {
          "output_type": "stream",
          "name": "stdout",
          "text": [
            "------------------------------\n",
            "Epoch [50/50]\n"
          ]
        },
        {
          "output_type": "stream",
          "name": "stderr",
          "text": [
            "Training: 100%|██████████| 73/73 [00:01<00:00, 42.77batch/s, accuracy=98.3, loss=0.00221]\n",
            "Validation: 100%|██████████| 16/16 [00:00<00:00, 83.17batch/s, accuracy=83.2, loss=0.832]"
          ]
        },
        {
          "output_type": "stream",
          "name": "stdout",
          "text": [
            "------------------------------\n"
          ]
        },
        {
          "output_type": "stream",
          "name": "stderr",
          "text": [
            "\n"
          ]
        }
      ],
      "source": [
        "improvedModel = ImprovedSkinCancerCNN().to(device)\n",
        "optimizer = optim.Adam(improvedModel.parameters(), lr=learning_rate)\n",
        "train_acc, train_loss, val_acc, val_loss = train_model(improvedModel, optimizer, criterion, dataset, train_loader, val_loader, num_epochs=num_epochs)"
      ]
    },
    {
      "cell_type": "code",
      "execution_count": 105,
      "metadata": {
        "colab": {
          "base_uri": "https://localhost:8080/",
          "height": 977
        },
        "id": "2xKctajkEnnw",
        "outputId": "8af7afe5-71a9-4fdb-cad5-9aec63ab6213"
      },
      "outputs": [
        {
          "output_type": "display_data",
          "data": {
            "text/plain": [
              "<Figure size 1000x500 with 1 Axes>"
            ],
            "image/png": "[encoded data removed]"
          },
          "metadata": {}
        },
        {
          "output_type": "display_data",
          "data": {
            "text/plain": [
              "<Figure size 1000x500 with 1 Axes>"
            ],
            "image/png": "[encoded data removed]"
          },
          "metadata": {}
        }
      ],
      "source": [
        "plot_metric('Accuracy', train_acc, val_acc, epochs=num_epochs)\n",
        "plot_metric('Loss', train_loss, val_loss, epochs=num_epochs)"
      ]
    },
    {
      "cell_type": "markdown",
      "source": [
        "#### Test"
      ],
      "metadata": {
        "id": "XwNSVU3O8DpJ"
      }
    },
    {
      "cell_type": "code",
      "execution_count": null,
      "metadata": {
        "id": "USL826YHEnnw"
      },
      "outputs": [],
      "source": []
    },
    {
      "cell_type": "markdown",
      "source": [
        "## GoogleNet"
      ],
      "metadata": {
        "id": "gtrSwcReuJrl"
      }
    },
    {
      "cell_type": "markdown",
      "source": [
        "#### GoogleNet Model"
      ],
      "metadata": {
        "id": "C4PV3Hhc7q1G"
      }
    },
    {
      "cell_type": "code",
      "source": [
        "class GoogLeNet(nn.Module):\n",
        "  def __init__(self, aux_logits=True, num_classes=4):\n",
        "    super(GoogLeNet, self).__init__()\n",
        "    assert aux_logits == True or aux_logits == False\n",
        "    self.aux_logits = aux_logits\n",
        "\n",
        "    self.conv1 = conv_block(\n",
        "        in_channels=3,\n",
        "        out_channels=64,\n",
        "        kernel_size=7,\n",
        "        stride=2,\n",
        "        padding=3,\n",
        "    )\n",
        "\n",
        "    self.maxpool1 = nn.MaxPool2d(kernel_size=3, stride=2, padding=1)\n",
        "    self.conv2 = conv_block(64, 192, kernel_size=3, stride=1, padding=1)\n",
        "    self.maxpool2 = nn.MaxPool2d(kernel_size=3, stride=2, padding=1)\n",
        "\n",
        "    # In this order: in_channels, out_1x1, red_3x3, out_3x3, red_5x5, out_5x5, out_1x1pool\n",
        "    self.inception3a = Inception_block(192, 64, 96, 128, 16, 32, 32)\n",
        "    self.inception3b = Inception_block(256, 128, 128, 192, 32, 96, 64)\n",
        "    self.maxpool3 = nn.MaxPool2d(kernel_size=3, stride=2, padding=1)\n",
        "\n",
        "    self.inception4a = Inception_block(480, 192, 96, 208, 16, 48, 64)\n",
        "    self.inception4b = Inception_block(512, 160, 112, 224, 24, 64, 64)\n",
        "    self.inception4c = Inception_block(512, 128, 128, 256, 24, 64, 64)\n",
        "    self.inception4d = Inception_block(512, 112, 144, 288, 32, 64, 64)\n",
        "    self.inception4e = Inception_block(528, 256, 160, 320, 32, 128, 128)\n",
        "    self.maxpool4 = nn.MaxPool2d(kernel_size=3, stride=2, padding=1)\n",
        "\n",
        "    self.inception5a = Inception_block(832, 256, 160, 320, 32, 128, 128)\n",
        "    self.inception5b = Inception_block(832, 384, 192, 384, 48, 128, 128)\n",
        "\n",
        "    self.avgpool = nn.AvgPool2d(kernel_size=7, stride=1)\n",
        "    self.dropout = nn.Dropout(p=0.4)\n",
        "    self.fc1 = nn.Linear(1024, num_classes)\n",
        "\n",
        "    if self.aux_logits:\n",
        "      self.aux1 = InceptionAux(512, num_classes)\n",
        "      self.aux2 = InceptionAux(528, num_classes)\n",
        "    else:\n",
        "      self.aux1 = self.aux2 = None\n",
        "\n",
        "  def forward(self, x ):\n",
        "    x = self.conv1(x)       #\n",
        "    x = self.maxpool1(x)    #\n",
        "    x = self.conv2(x)       #\n",
        "    x = self.maxpool2(x)    #\n",
        "\n",
        "    x = self.inception3a(x) # 192, 64\n",
        "    x = self.inception3b(x) # 256, 128\n",
        "    x = self.maxpool3(x)    #\n",
        "\n",
        "    x = self.inception4a(x) #\n",
        "\n",
        "    # Auxiliary Softmax classifier 1\n",
        "    if self.aux_logits and self.training:\n",
        "      aux1 = self.aux1(x)\n",
        "\n",
        "    x = self.inception4b(x) # 512, 160\n",
        "    x = self.inception4c(x) # 512, 128\n",
        "    x = self.inception4d(x) # 512, 112\n",
        "\n",
        "    # Auxiliary Softmax classifier 2\n",
        "    if self.aux_logits and self.training:\n",
        "      aux2 = self.aux2(x)\n",
        "\n",
        "    x = self.inception4e(x)\n",
        "    x = self.maxpool4(x)\n",
        "    x = self.inception5a(x)\n",
        "    x = self.inception5b(x)\n",
        "    x = self.avgpool(x)\n",
        "    x = x.reshape(x.shape[0], -1)\n",
        "    x = self.dropout(x)\n",
        "    x = self.fc1(x)\n",
        "\n",
        "    if self.aux_logits and self.training:\n",
        "      return aux1, aux2, x\n",
        "    else:\n",
        "      return x\n",
        "\n",
        "\n",
        "class Inception_block(nn.Module):\n",
        "  def __init__(self, in_channels, out_1x1, red_3x3, out_3x3, red_5x5, out_5x5, out_1x1pool):\n",
        "    super(Inception_block, self).__init__()\n",
        "    self.branch1 = conv_block(in_channels, out_1x1, kernel_size=1)\n",
        "\n",
        "    self.branch2 = nn.Sequential(\n",
        "      conv_block(in_channels, red_3x3, kernel_size=1),\n",
        "      conv_block(red_3x3, out_3x3, kernel_size=(3, 3), padding=1),\n",
        "    )\n",
        "\n",
        "    self.branch3 = nn.Sequential(\n",
        "      conv_block(in_channels, red_5x5, kernel_size=1),\n",
        "      conv_block(red_5x5, out_5x5, kernel_size=5, padding=2),\n",
        "    )\n",
        "\n",
        "    self.branch4 = nn.Sequential(\n",
        "      nn.MaxPool2d(kernel_size=3, stride=1, padding=1),\n",
        "      conv_block(in_channels, out_1x1pool, kernel_size=1),\n",
        "    )\n",
        "\n",
        "  def forward(self, x):\n",
        "    return torch.cat([self.branch1(x), self.branch2(x), self.branch3(x), self.branch4(x)], 1)\n",
        "\n",
        "\n",
        "class InceptionAux(nn.Module):\n",
        "  def __init__(self, in_channels, num_classes):\n",
        "    super(InceptionAux, self).__init__()\n",
        "    self.relu = nn.ReLU()\n",
        "    self.dropout = nn.Dropout(p=0.7)\n",
        "    self.pool = nn.AvgPool2d(kernel_size=5, stride=3)\n",
        "    self.conv = conv_block(in_channels, 128, kernel_size=1)\n",
        "    self.fc1 = nn.Linear(2048, 1024)\n",
        "    self.fc2 = nn.Linear(1024, num_classes)\n",
        "\n",
        "  def forward(self, x):\n",
        "    x = self.pool(x)\n",
        "    x = self.conv(x)\n",
        "    x = x.reshape(x.shape[0], -1)\n",
        "    x = self.relu(self.fc1(x))\n",
        "    x = self.dropout(x)\n",
        "    x = self.fc2(x)\n",
        "    return x\n",
        "\n",
        "\n",
        "class conv_block(nn.Module):\n",
        "  def __init__(self, in_channels, out_channels, **kwargs):\n",
        "    super(conv_block, self).__init__()\n",
        "    self.relu = nn.ReLU()\n",
        "    self.conv = nn.Conv2d(in_channels, out_channels, **kwargs)\n",
        "    self.batchnorm = nn.BatchNorm2d(out_channels)\n",
        "\n",
        "  def forward(self, x):\n",
        "    return self.relu(self.batchnorm(self.conv(x)))\n",
        "\n"
      ],
      "metadata": {
        "id": "-szPFCj0uKdI"
      },
      "execution_count": 107,
      "outputs": []
    },
    {
      "cell_type": "code",
      "source": [
        "def train_model(model, optimizer, criterion, dataset, train_loader, val_loader, num_epochs=10):\n",
        "    model.to(device)\n",
        "    train_accuracies = []\n",
        "    train_losses = []\n",
        "    val_accuracies = []\n",
        "    val_losses = []\n",
        "\n",
        "    # Learning rate scheduler based on validation loss\n",
        "    scheduler = torch.optim.lr_scheduler.ReduceLROnPlateau(optimizer, factor=0.1, patience=10, verbose=True)\n",
        "\n",
        "    for epoch in range(num_epochs):\n",
        "        print(f\"Epoch [{epoch + 1}/{num_epochs}]\")\n",
        "\n",
        "        # Training phase\n",
        "        dataset.mode = 'train'\n",
        "        model.train()\n",
        "        total_train_loss = 0.0\n",
        "        correct_train = 0\n",
        "        total_train = 0\n",
        "\n",
        "        with tqdm(total=len(train_loader), desc=\"Training\", unit=\"batch\") as pbar:\n",
        "            for batch in train_loader:\n",
        "                images, labels = batch['image'].to(device), batch['label'].to(device)\n",
        "                # print('images.shape: ', images.shape)\n",
        "                # Forward pass\n",
        "                optimizer.zero_grad()\n",
        "                outputs = model(images)\n",
        "\n",
        "                # Compute loss\n",
        "                if isinstance(outputs, tuple):  # GoogLeNet produces multiple outputs\n",
        "                    loss1 = criterion(outputs[0], labels.long())\n",
        "                    loss2 = criterion(outputs[1], labels.long())\n",
        "                    loss3 = criterion(outputs[2], labels.long())\n",
        "                    loss = loss1 + loss2 + loss3\n",
        "                else:\n",
        "                    loss = criterion(outputs, labels.long())\n",
        "\n",
        "                # Backward pass\n",
        "                loss.backward()\n",
        "                optimizer.step()\n",
        "\n",
        "                total_train_loss += loss.item()\n",
        "\n",
        "                # Calculate accuracy\n",
        "                _, predicted = torch.max(outputs[2], 1)\n",
        "                # _, predicted = outputs[0].max(1)  # Use primary output for accuracy\n",
        "                total_train += labels.size(0)\n",
        "                correct_train += predicted.eq(labels).sum().item()\n",
        "\n",
        "                # Progress bar update\n",
        "                pbar.set_postfix(loss=loss.item(), accuracy=100. * correct_train / total_train)\n",
        "                pbar.update(1)\n",
        "\n",
        "        # Calculate average training loss and accuracy for the epoch\n",
        "        avg_train_loss = total_train_loss / len(train_loader)\n",
        "        train_accuracy = 100. * correct_train / total_train\n",
        "        train_accuracies.append(train_accuracy)\n",
        "        train_losses.append(avg_train_loss)\n",
        "\n",
        "        # Validation phase\n",
        "        model.eval()\n",
        "        dataset.mode = 'val'\n",
        "        total_val_loss = 0.0\n",
        "        correct_val = 0\n",
        "        total_val = 0\n",
        "\n",
        "        with torch.no_grad():\n",
        "            with tqdm(total=len(val_loader), desc=\"Validation\", unit=\"batch\") as pbar:\n",
        "                for batch in val_loader:\n",
        "                    images, labels = batch['image'].to(device), batch['label'].to(device)\n",
        "                    # print(images.shape)\n",
        "\n",
        "                    # Forward pass\n",
        "                    outputs = model(images)\n",
        "\n",
        "                    # # Compute loss\n",
        "                    # if isinstance(outputs, tuple):\n",
        "                    #     loss1 = criterion(outputs[0], labels.long())\n",
        "                    #     loss2 = criterion(outputs[1], labels.long())\n",
        "                    #     loss3 = criterion(outputs[2], labels.long())\n",
        "                    #     loss = loss1 + loss2 + loss3\n",
        "                    # else:\n",
        "                    loss = criterion(outputs, labels.long())\n",
        "\n",
        "                    total_val_loss += loss.item()\n",
        "\n",
        "                    # Calculate accuracy\n",
        "                    _, predicted = outputs.max(1)\n",
        "                    # _, predicted = torch.max(outputs[2], 1)  # Use primary output for accuracy\n",
        "                    total_val += labels.size(0)\n",
        "                    correct_val += predicted.eq(labels).sum().item()\n",
        "\n",
        "                    # Progress bar update\n",
        "                    pbar.set_postfix(loss=loss.item(), accuracy=100. * correct_val / total_val)\n",
        "                    pbar.update(1)\n",
        "\n",
        "        # Calculate average validation loss and accuracy for the epoch\n",
        "        avg_val_loss = total_val_loss / len(val_loader)\n",
        "        val_accuracy = 100. * correct_val / total_val\n",
        "        val_accuracies.append(val_accuracy)\n",
        "        val_losses.append(avg_val_loss)\n",
        "\n",
        "        # Print epoch results\n",
        "        print(f\"Training Loss: {avg_train_loss:.4f}, Accuracy: {train_accuracy:.2f}%\")\n",
        "        print(f\"Validation Loss: {avg_val_loss:.4f}, Accuracy: {val_accuracy:.2f}%\")\n",
        "        print(\"-\" * 30)\n",
        "\n",
        "        # Step the learning rate scheduler based on validation loss\n",
        "        scheduler.step(avg_val_loss)\n",
        "\n",
        "    return train_accuracies, train_losses, val_accuracies, val_losses\n"
      ],
      "metadata": {
        "id": "x6ZFhcxV7u5R"
      },
      "execution_count": 108,
      "outputs": []
    },
    {
      "cell_type": "markdown",
      "source": [
        "#### Train"
      ],
      "metadata": {
        "id": "6iOc7J8-7tbi"
      }
    },
    {
      "cell_type": "code",
      "execution_count": 109,
      "metadata": {
        "id": "b6BcQhSrEnnx"
      },
      "outputs": [],
      "source": [
        "custom_train_transform = transforms.Compose([\n",
        "    transforms.ToPILImage(),\n",
        "    transforms.RandomHorizontalFlip(),\n",
        "    transforms.RandomVerticalFlip(),\n",
        "    transforms.RandomRotation(15),\n",
        "    transforms.RandomResizedCrop(224, scale=(0.9, 1.1)),\n",
        "    transforms.ColorJitter(brightness=0.1, contrast=0.1, saturation=0.1),\n",
        "    ToTensorAndMove(device),\n",
        "])\n",
        "\n",
        "custom_val_transform = transforms.Compose([\n",
        "    transforms.ToPILImage(),\n",
        "    transforms.ColorJitter(brightness=0.1, contrast=0.1, saturation=0.1),\n",
        "    ToTensorAndMove(device),\n",
        "])"
      ]
    },
    {
      "cell_type": "code",
      "source": [
        "gn_dataset = Data(device=device)\n",
        "gn_dataset.set_transformers() # custom_train_transform, custom_val_transform\n",
        "\n",
        "gn_dataset.balance_with_undersampling()\n",
        "gn_dataset.normalize()\n",
        "\n",
        "gn_dataset.set_mode('train')\n",
        "gn_train_loader = DataLoader(gn_dataset, batch_size=32, shuffle=True)\n",
        "\n",
        "gn_dataset.set_mode('val')\n",
        "gn_val_loader = DataLoader(gn_dataset, batch_size=32, shuffle=False)\n",
        "\n",
        "gn_dataset.set_mode('test')\n",
        "gn_test_loader = DataLoader(gn_dataset, batch_size=32, shuffle=False)"
      ],
      "metadata": {
        "colab": {
          "base_uri": "https://localhost:8080/"
        },
        "id": "xzsMRwb5HZt6",
        "outputId": "d9d139c0-75a7-490b-a0a5-31a628413523"
      },
      "execution_count": 116,
      "outputs": [
        {
          "output_type": "stream",
          "name": "stdout",
          "text": [
            "dataset shape is : (1800, 224, 224, 3)\n"
          ]
        }
      ]
    },
    {
      "cell_type": "code",
      "execution_count": 117,
      "metadata": {
        "colab": {
          "base_uri": "https://localhost:8080/"
        },
        "id": "YvTGMPQXEnnx",
        "outputId": "20d25fb6-e79a-4a42-8c36-dfbdc7c8b51b"
      },
      "outputs": [
        {
          "output_type": "stream",
          "name": "stderr",
          "text": [
            "/usr/local/lib/python3.10/dist-packages/torch/optim/lr_scheduler.py:62: UserWarning: The verbose parameter is deprecated. Please use get_last_lr() to access the learning rate.\n",
            "  warnings.warn(\n"
          ]
        },
        {
          "output_type": "stream",
          "name": "stdout",
          "text": [
            "Epoch [1/50]\n"
          ]
        },
        {
          "output_type": "stream",
          "name": "stderr",
          "text": [
            "Training: 100%|██████████| 73/73 [00:13<00:00,  5.26batch/s, accuracy=77.9, loss=3.23]\n",
            "Validation: 100%|██████████| 16/16 [00:01<00:00, 14.24batch/s, accuracy=64.4, loss=1.55]\n"
          ]
        },
        {
          "output_type": "stream",
          "name": "stdout",
          "text": [
            "Training Loss: 1.4443, Accuracy: 77.85%\n",
            "Validation Loss: 1.0587, Accuracy: 64.44%\n",
            "------------------------------\n",
            "Epoch [2/50]\n"
          ]
        },
        {
          "output_type": "stream",
          "name": "stderr",
          "text": [
            "Training: 100%|██████████| 73/73 [00:12<00:00,  6.08batch/s, accuracy=80.2, loss=0.625]\n",
            "Validation: 100%|██████████| 16/16 [00:01<00:00, 14.92batch/s, accuracy=78.6, loss=0.396]\n"
          ]
        },
        {
          "output_type": "stream",
          "name": "stdout",
          "text": [
            "Training Loss: 1.2401, Accuracy: 80.23%\n",
            "Validation Loss: 0.4394, Accuracy: 78.59%\n",
            "------------------------------\n",
            "Epoch [3/50]\n"
          ]
        },
        {
          "output_type": "stream",
          "name": "stderr",
          "text": [
            "Training: 100%|██████████| 73/73 [00:11<00:00,  6.17batch/s, accuracy=83.7, loss=0.088]\n",
            "Validation: 100%|██████████| 16/16 [00:01<00:00, 14.92batch/s, accuracy=80.4, loss=0.0653]\n"
          ]
        },
        {
          "output_type": "stream",
          "name": "stdout",
          "text": [
            "Training Loss: 1.0870, Accuracy: 83.70%\n",
            "Validation Loss: 0.7093, Accuracy: 80.40%\n",
            "------------------------------\n",
            "Epoch [4/50]\n"
          ]
        },
        {
          "output_type": "stream",
          "name": "stderr",
          "text": [
            "Training: 100%|██████████| 73/73 [00:11<00:00,  6.23batch/s, accuracy=82.8, loss=2.09]\n",
            "Validation: 100%|██████████| 16/16 [00:01<00:00, 14.85batch/s, accuracy=76.8, loss=0.617]\n"
          ]
        },
        {
          "output_type": "stream",
          "name": "stdout",
          "text": [
            "Training Loss: 1.0368, Accuracy: 82.83%\n",
            "Validation Loss: 0.4717, Accuracy: 76.77%\n",
            "------------------------------\n",
            "Epoch [5/50]\n"
          ]
        },
        {
          "output_type": "stream",
          "name": "stderr",
          "text": [
            "Training: 100%|██████████| 73/73 [00:11<00:00,  6.25batch/s, accuracy=83.7, loss=0.173]\n",
            "Validation: 100%|██████████| 16/16 [00:01<00:00, 15.04batch/s, accuracy=80.8, loss=0.399]\n"
          ]
        },
        {
          "output_type": "stream",
          "name": "stdout",
          "text": [
            "Training Loss: 1.0336, Accuracy: 83.75%\n",
            "Validation Loss: 0.3778, Accuracy: 80.81%\n",
            "------------------------------\n",
            "Epoch [6/50]\n"
          ]
        },
        {
          "output_type": "stream",
          "name": "stderr",
          "text": [
            "Training: 100%|██████████| 73/73 [00:11<00:00,  6.25batch/s, accuracy=84.5, loss=0.236]\n",
            "Validation: 100%|██████████| 16/16 [00:01<00:00, 14.87batch/s, accuracy=79.6, loss=0.335]\n"
          ]
        },
        {
          "output_type": "stream",
          "name": "stdout",
          "text": [
            "Training Loss: 0.9399, Accuracy: 84.48%\n",
            "Validation Loss: 0.3602, Accuracy: 79.60%\n",
            "------------------------------\n",
            "Epoch [7/50]\n"
          ]
        },
        {
          "output_type": "stream",
          "name": "stderr",
          "text": [
            "Training: 100%|██████████| 73/73 [00:11<00:00,  6.23batch/s, accuracy=85.2, loss=0.453]\n",
            "Validation: 100%|██████████| 16/16 [00:01<00:00, 14.57batch/s, accuracy=83.2, loss=0.257]\n"
          ]
        },
        {
          "output_type": "stream",
          "name": "stdout",
          "text": [
            "Training Loss: 0.9113, Accuracy: 85.22%\n",
            "Validation Loss: 0.3888, Accuracy: 83.23%\n",
            "------------------------------\n",
            "Epoch [8/50]\n"
          ]
        },
        {
          "output_type": "stream",
          "name": "stderr",
          "text": [
            "Training: 100%|██████████| 73/73 [00:11<00:00,  6.20batch/s, accuracy=86.6, loss=3.35]\n",
            "Validation: 100%|██████████| 16/16 [00:01<00:00, 15.08batch/s, accuracy=83, loss=0.423]\n"
          ]
        },
        {
          "output_type": "stream",
          "name": "stdout",
          "text": [
            "Training Loss: 0.9208, Accuracy: 86.65%\n",
            "Validation Loss: 0.3400, Accuracy: 83.03%\n",
            "------------------------------\n",
            "Epoch [9/50]\n"
          ]
        },
        {
          "output_type": "stream",
          "name": "stderr",
          "text": [
            "Training: 100%|██████████| 73/73 [00:11<00:00,  6.25batch/s, accuracy=85.7, loss=0.669]\n",
            "Validation: 100%|██████████| 16/16 [00:01<00:00, 15.36batch/s, accuracy=83.8, loss=0.387]\n"
          ]
        },
        {
          "output_type": "stream",
          "name": "stdout",
          "text": [
            "Training Loss: 0.9393, Accuracy: 85.70%\n",
            "Validation Loss: 0.3474, Accuracy: 83.84%\n",
            "------------------------------\n",
            "Epoch [10/50]\n"
          ]
        },
        {
          "output_type": "stream",
          "name": "stderr",
          "text": [
            "Training: 100%|██████████| 73/73 [00:11<00:00,  6.26batch/s, accuracy=85.3, loss=0.136]\n",
            "Validation: 100%|██████████| 16/16 [00:01<00:00, 15.21batch/s, accuracy=84.8, loss=0.402]\n"
          ]
        },
        {
          "output_type": "stream",
          "name": "stdout",
          "text": [
            "Training Loss: 0.8863, Accuracy: 85.31%\n",
            "Validation Loss: 0.3463, Accuracy: 84.85%\n",
            "------------------------------\n",
            "Epoch [11/50]\n"
          ]
        },
        {
          "output_type": "stream",
          "name": "stderr",
          "text": [
            "Training: 100%|██████████| 73/73 [00:11<00:00,  6.28batch/s, accuracy=87.3, loss=5.86]\n",
            "Validation: 100%|██████████| 16/16 [00:01<00:00, 15.35batch/s, accuracy=85.1, loss=0.357]\n"
          ]
        },
        {
          "output_type": "stream",
          "name": "stdout",
          "text": [
            "Training Loss: 0.9113, Accuracy: 87.34%\n",
            "Validation Loss: 0.3669, Accuracy: 85.05%\n",
            "------------------------------\n",
            "Epoch [12/50]\n"
          ]
        },
        {
          "output_type": "stream",
          "name": "stderr",
          "text": [
            "Training: 100%|██████████| 73/73 [00:11<00:00,  6.30batch/s, accuracy=85.9, loss=0.0673]\n",
            "Validation: 100%|██████████| 16/16 [00:01<00:00, 15.60batch/s, accuracy=84.6, loss=0.273]\n"
          ]
        },
        {
          "output_type": "stream",
          "name": "stdout",
          "text": [
            "Training Loss: 0.9386, Accuracy: 85.87%\n",
            "Validation Loss: 0.3850, Accuracy: 84.65%\n",
            "------------------------------\n",
            "Epoch [13/50]\n"
          ]
        },
        {
          "output_type": "stream",
          "name": "stderr",
          "text": [
            "Training: 100%|██████████| 73/73 [00:11<00:00,  6.27batch/s, accuracy=86.6, loss=5.4]\n",
            "Validation: 100%|██████████| 16/16 [00:01<00:00, 15.28batch/s, accuracy=84.8, loss=0.347]\n"
          ]
        },
        {
          "output_type": "stream",
          "name": "stdout",
          "text": [
            "Training Loss: 0.9619, Accuracy: 86.56%\n",
            "Validation Loss: 0.3497, Accuracy: 84.85%\n",
            "------------------------------\n",
            "Epoch [14/50]\n"
          ]
        },
        {
          "output_type": "stream",
          "name": "stderr",
          "text": [
            "Training: 100%|██████████| 73/73 [00:11<00:00,  6.26batch/s, accuracy=87.5, loss=0.222]\n",
            "Validation: 100%|██████████| 16/16 [00:01<00:00, 15.25batch/s, accuracy=77.6, loss=0.444]\n"
          ]
        },
        {
          "output_type": "stream",
          "name": "stdout",
          "text": [
            "Training Loss: 0.8708, Accuracy: 87.52%\n",
            "Validation Loss: 0.4964, Accuracy: 77.58%\n",
            "------------------------------\n",
            "Epoch [15/50]\n"
          ]
        },
        {
          "output_type": "stream",
          "name": "stderr",
          "text": [
            "Training: 100%|██████████| 73/73 [00:11<00:00,  6.26batch/s, accuracy=87.6, loss=4.06]\n",
            "Validation: 100%|██████████| 16/16 [00:01<00:00, 14.91batch/s, accuracy=82.8, loss=0.492]\n"
          ]
        },
        {
          "output_type": "stream",
          "name": "stdout",
          "text": [
            "Training Loss: 0.8530, Accuracy: 87.56%\n",
            "Validation Loss: 0.3540, Accuracy: 82.83%\n",
            "------------------------------\n",
            "Epoch [16/50]\n"
          ]
        },
        {
          "output_type": "stream",
          "name": "stderr",
          "text": [
            "Training: 100%|██████████| 73/73 [00:11<00:00,  6.16batch/s, accuracy=87.3, loss=1.14]\n",
            "Validation: 100%|██████████| 16/16 [00:01<00:00, 14.56batch/s, accuracy=78, loss=0.477]\n"
          ]
        },
        {
          "output_type": "stream",
          "name": "stdout",
          "text": [
            "Training Loss: 0.8141, Accuracy: 87.26%\n",
            "Validation Loss: 0.4735, Accuracy: 77.98%\n",
            "------------------------------\n",
            "Epoch [17/50]\n"
          ]
        },
        {
          "output_type": "stream",
          "name": "stderr",
          "text": [
            "Training: 100%|██████████| 73/73 [00:11<00:00,  6.21batch/s, accuracy=87.6, loss=1.8]\n",
            "Validation: 100%|██████████| 16/16 [00:01<00:00, 15.12batch/s, accuracy=83.6, loss=0.405]\n"
          ]
        },
        {
          "output_type": "stream",
          "name": "stdout",
          "text": [
            "Training Loss: 0.7888, Accuracy: 87.65%\n",
            "Validation Loss: 0.3631, Accuracy: 83.64%\n",
            "------------------------------\n",
            "Epoch [18/50]\n"
          ]
        },
        {
          "output_type": "stream",
          "name": "stderr",
          "text": [
            "Training: 100%|██████████| 73/73 [00:11<00:00,  6.24batch/s, accuracy=89, loss=4.98]\n",
            "Validation: 100%|██████████| 16/16 [00:01<00:00, 14.84batch/s, accuracy=80.8, loss=0.572]\n"
          ]
        },
        {
          "output_type": "stream",
          "name": "stdout",
          "text": [
            "Training Loss: 0.7737, Accuracy: 89.03%\n",
            "Validation Loss: 0.3973, Accuracy: 80.81%\n",
            "------------------------------\n",
            "Epoch [19/50]\n"
          ]
        },
        {
          "output_type": "stream",
          "name": "stderr",
          "text": [
            "Training: 100%|██████████| 73/73 [00:11<00:00,  6.17batch/s, accuracy=87, loss=0.0849]\n",
            "Validation: 100%|██████████| 16/16 [00:01<00:00, 14.87batch/s, accuracy=79.2, loss=0.629]\n"
          ]
        },
        {
          "output_type": "stream",
          "name": "stdout",
          "text": [
            "Training Loss: 0.7787, Accuracy: 87.04%\n",
            "Validation Loss: 0.4573, Accuracy: 79.19%\n",
            "------------------------------\n",
            "Epoch [20/50]\n"
          ]
        },
        {
          "output_type": "stream",
          "name": "stderr",
          "text": [
            "Training: 100%|██████████| 73/73 [00:11<00:00,  6.23batch/s, accuracy=90.3, loss=0.079]\n",
            "Validation: 100%|██████████| 16/16 [00:01<00:00, 14.99batch/s, accuracy=87.1, loss=0.344]\n"
          ]
        },
        {
          "output_type": "stream",
          "name": "stdout",
          "text": [
            "Training Loss: 0.6607, Accuracy: 90.33%\n",
            "Validation Loss: 0.2926, Accuracy: 87.07%\n",
            "------------------------------\n",
            "Epoch [21/50]\n"
          ]
        },
        {
          "output_type": "stream",
          "name": "stderr",
          "text": [
            "Training: 100%|██████████| 73/73 [00:11<00:00,  6.27batch/s, accuracy=92.2, loss=0.203]\n",
            "Validation: 100%|██████████| 16/16 [00:01<00:00, 15.11batch/s, accuracy=88.7, loss=0.274]\n"
          ]
        },
        {
          "output_type": "stream",
          "name": "stdout",
          "text": [
            "Training Loss: 0.5530, Accuracy: 92.24%\n",
            "Validation Loss: 0.2868, Accuracy: 88.69%\n",
            "------------------------------\n",
            "Epoch [22/50]\n"
          ]
        },
        {
          "output_type": "stream",
          "name": "stderr",
          "text": [
            "Training: 100%|██████████| 73/73 [00:11<00:00,  6.27batch/s, accuracy=92.4, loss=5.34]\n",
            "Validation: 100%|██████████| 16/16 [00:01<00:00, 15.19batch/s, accuracy=87.5, loss=0.32]\n"
          ]
        },
        {
          "output_type": "stream",
          "name": "stdout",
          "text": [
            "Training Loss: 0.5847, Accuracy: 92.37%\n",
            "Validation Loss: 0.2911, Accuracy: 87.47%\n",
            "------------------------------\n",
            "Epoch [23/50]\n"
          ]
        },
        {
          "output_type": "stream",
          "name": "stderr",
          "text": [
            "Training: 100%|██████████| 73/73 [00:11<00:00,  6.23batch/s, accuracy=93, loss=3.69]\n",
            "Validation: 100%|██████████| 16/16 [00:01<00:00, 15.14batch/s, accuracy=87.3, loss=0.359]\n"
          ]
        },
        {
          "output_type": "stream",
          "name": "stdout",
          "text": [
            "Training Loss: 0.5386, Accuracy: 93.02%\n",
            "Validation Loss: 0.3059, Accuracy: 87.27%\n",
            "------------------------------\n",
            "Epoch [24/50]\n"
          ]
        },
        {
          "output_type": "stream",
          "name": "stderr",
          "text": [
            "Training: 100%|██████████| 73/73 [00:11<00:00,  6.20batch/s, accuracy=93.3, loss=0.123]\n",
            "Validation: 100%|██████████| 16/16 [00:01<00:00, 14.76batch/s, accuracy=86.5, loss=0.302]\n"
          ]
        },
        {
          "output_type": "stream",
          "name": "stdout",
          "text": [
            "Training Loss: 0.4993, Accuracy: 93.32%\n",
            "Validation Loss: 0.3090, Accuracy: 86.46%\n",
            "------------------------------\n",
            "Epoch [25/50]\n"
          ]
        },
        {
          "output_type": "stream",
          "name": "stderr",
          "text": [
            "Training: 100%|██████████| 73/73 [00:11<00:00,  6.24batch/s, accuracy=92.5, loss=0.074]\n",
            "Validation: 100%|██████████| 16/16 [00:01<00:00, 14.29batch/s, accuracy=85.9, loss=0.297]\n"
          ]
        },
        {
          "output_type": "stream",
          "name": "stdout",
          "text": [
            "Training Loss: 0.5060, Accuracy: 92.50%\n",
            "Validation Loss: 0.2973, Accuracy: 85.86%\n",
            "------------------------------\n",
            "Epoch [26/50]\n"
          ]
        },
        {
          "output_type": "stream",
          "name": "stderr",
          "text": [
            "Training: 100%|██████████| 73/73 [00:11<00:00,  6.26batch/s, accuracy=93.9, loss=1.47]\n",
            "Validation: 100%|██████████| 16/16 [00:01<00:00, 14.63batch/s, accuracy=86.9, loss=0.362]\n"
          ]
        },
        {
          "output_type": "stream",
          "name": "stdout",
          "text": [
            "Training Loss: 0.4529, Accuracy: 93.93%\n",
            "Validation Loss: 0.3252, Accuracy: 86.87%\n",
            "------------------------------\n",
            "Epoch [27/50]\n"
          ]
        },
        {
          "output_type": "stream",
          "name": "stderr",
          "text": [
            "Training: 100%|██████████| 73/73 [00:11<00:00,  6.22batch/s, accuracy=94.2, loss=3.07]\n",
            "Validation: 100%|██████████| 16/16 [00:01<00:00, 13.73batch/s, accuracy=86.9, loss=0.462]\n"
          ]
        },
        {
          "output_type": "stream",
          "name": "stdout",
          "text": [
            "Training Loss: 0.4681, Accuracy: 94.19%\n",
            "Validation Loss: 0.3184, Accuracy: 86.87%\n",
            "------------------------------\n",
            "Epoch [28/50]\n"
          ]
        },
        {
          "output_type": "stream",
          "name": "stderr",
          "text": [
            "Training: 100%|██████████| 73/73 [00:11<00:00,  6.26batch/s, accuracy=94.2, loss=0.0389]\n",
            "Validation: 100%|██████████| 16/16 [00:01<00:00, 13.48batch/s, accuracy=85.9, loss=0.519]\n"
          ]
        },
        {
          "output_type": "stream",
          "name": "stdout",
          "text": [
            "Training Loss: 0.3995, Accuracy: 94.23%\n",
            "Validation Loss: 0.3391, Accuracy: 85.86%\n",
            "------------------------------\n",
            "Epoch [29/50]\n"
          ]
        },
        {
          "output_type": "stream",
          "name": "stderr",
          "text": [
            "Training: 100%|██████████| 73/73 [00:11<00:00,  6.21batch/s, accuracy=94.5, loss=0.828]\n",
            "Validation: 100%|██████████| 16/16 [00:01<00:00, 13.09batch/s, accuracy=87.3, loss=0.364]\n"
          ]
        },
        {
          "output_type": "stream",
          "name": "stdout",
          "text": [
            "Training Loss: 0.4155, Accuracy: 94.50%\n",
            "Validation Loss: 0.3392, Accuracy: 87.27%\n",
            "------------------------------\n",
            "Epoch [30/50]\n"
          ]
        },
        {
          "output_type": "stream",
          "name": "stderr",
          "text": [
            "Training: 100%|██████████| 73/73 [00:11<00:00,  6.20batch/s, accuracy=95.2, loss=0.358]\n",
            "Validation: 100%|██████████| 16/16 [00:01<00:00, 13.13batch/s, accuracy=85.7, loss=0.761]\n"
          ]
        },
        {
          "output_type": "stream",
          "name": "stdout",
          "text": [
            "Training Loss: 0.3614, Accuracy: 95.23%\n",
            "Validation Loss: 0.4042, Accuracy: 85.66%\n",
            "------------------------------\n",
            "Epoch [31/50]\n"
          ]
        },
        {
          "output_type": "stream",
          "name": "stderr",
          "text": [
            "Training: 100%|██████████| 73/73 [00:11<00:00,  6.22batch/s, accuracy=94.2, loss=0.0097]\n",
            "Validation: 100%|██████████| 16/16 [00:01<00:00, 13.38batch/s, accuracy=87.1, loss=0.58]\n"
          ]
        },
        {
          "output_type": "stream",
          "name": "stdout",
          "text": [
            "Training Loss: 0.3747, Accuracy: 94.23%\n",
            "Validation Loss: 0.3647, Accuracy: 87.07%\n",
            "------------------------------\n",
            "Epoch [32/50]\n"
          ]
        },
        {
          "output_type": "stream",
          "name": "stderr",
          "text": [
            "Training: 100%|██████████| 73/73 [00:11<00:00,  6.21batch/s, accuracy=95.9, loss=0.5]\n",
            "Validation: 100%|██████████| 16/16 [00:01<00:00, 13.43batch/s, accuracy=86.1, loss=0.656]\n"
          ]
        },
        {
          "output_type": "stream",
          "name": "stdout",
          "text": [
            "Training Loss: 0.3284, Accuracy: 95.93%\n",
            "Validation Loss: 0.3634, Accuracy: 86.06%\n",
            "------------------------------\n",
            "Epoch [33/50]\n"
          ]
        },
        {
          "output_type": "stream",
          "name": "stderr",
          "text": [
            "Training: 100%|██████████| 73/73 [00:11<00:00,  6.23batch/s, accuracy=95.6, loss=3.23]\n",
            "Validation: 100%|██████████| 16/16 [00:01<00:00, 13.32batch/s, accuracy=86.9, loss=0.706]\n"
          ]
        },
        {
          "output_type": "stream",
          "name": "stdout",
          "text": [
            "Training Loss: 0.3624, Accuracy: 95.62%\n",
            "Validation Loss: 0.3906, Accuracy: 86.87%\n",
            "------------------------------\n",
            "Epoch [34/50]\n"
          ]
        },
        {
          "output_type": "stream",
          "name": "stderr",
          "text": [
            "Training: 100%|██████████| 73/73 [00:11<00:00,  6.22batch/s, accuracy=97.4, loss=0.0292]\n",
            "Validation: 100%|██████████| 16/16 [00:01<00:00, 13.35batch/s, accuracy=85.5, loss=0.792]\n"
          ]
        },
        {
          "output_type": "stream",
          "name": "stdout",
          "text": [
            "Training Loss: 0.2439, Accuracy: 97.40%\n",
            "Validation Loss: 0.3955, Accuracy: 85.45%\n",
            "------------------------------\n",
            "Epoch [35/50]\n"
          ]
        },
        {
          "output_type": "stream",
          "name": "stderr",
          "text": [
            "Training: 100%|██████████| 73/73 [00:11<00:00,  6.22batch/s, accuracy=96.9, loss=1.05]\n",
            "Validation: 100%|██████████| 16/16 [00:01<00:00, 12.88batch/s, accuracy=87.3, loss=0.441]\n"
          ]
        },
        {
          "output_type": "stream",
          "name": "stdout",
          "text": [
            "Training Loss: 0.2660, Accuracy: 96.92%\n",
            "Validation Loss: 0.3821, Accuracy: 87.27%\n",
            "------------------------------\n",
            "Epoch [36/50]\n"
          ]
        },
        {
          "output_type": "stream",
          "name": "stderr",
          "text": [
            "Training: 100%|██████████| 73/73 [00:11<00:00,  6.21batch/s, accuracy=96.5, loss=0.776]\n",
            "Validation: 100%|██████████| 16/16 [00:01<00:00, 13.02batch/s, accuracy=86.3, loss=0.64]\n"
          ]
        },
        {
          "output_type": "stream",
          "name": "stdout",
          "text": [
            "Training Loss: 0.2655, Accuracy: 96.53%\n",
            "Validation Loss: 0.3804, Accuracy: 86.26%\n",
            "------------------------------\n",
            "Epoch [37/50]\n"
          ]
        },
        {
          "output_type": "stream",
          "name": "stderr",
          "text": [
            "Training: 100%|██████████| 73/73 [00:11<00:00,  6.24batch/s, accuracy=96.4, loss=0.975]\n",
            "Validation: 100%|██████████| 16/16 [00:01<00:00, 12.93batch/s, accuracy=87.1, loss=0.549]\n"
          ]
        },
        {
          "output_type": "stream",
          "name": "stdout",
          "text": [
            "Training Loss: 0.2771, Accuracy: 96.36%\n",
            "Validation Loss: 0.3844, Accuracy: 87.07%\n",
            "------------------------------\n",
            "Epoch [38/50]\n"
          ]
        },
        {
          "output_type": "stream",
          "name": "stderr",
          "text": [
            "Training: 100%|██████████| 73/73 [00:11<00:00,  6.23batch/s, accuracy=97.4, loss=1.46]\n",
            "Validation: 100%|██████████| 16/16 [00:01<00:00, 13.09batch/s, accuracy=87.3, loss=0.598]\n"
          ]
        },
        {
          "output_type": "stream",
          "name": "stdout",
          "text": [
            "Training Loss: 0.2453, Accuracy: 97.40%\n",
            "Validation Loss: 0.3841, Accuracy: 87.27%\n",
            "------------------------------\n",
            "Epoch [39/50]\n"
          ]
        },
        {
          "output_type": "stream",
          "name": "stderr",
          "text": [
            "Training: 100%|██████████| 73/73 [00:11<00:00,  6.25batch/s, accuracy=96.6, loss=3.8]\n",
            "Validation: 100%|██████████| 16/16 [00:01<00:00, 13.99batch/s, accuracy=86.5, loss=0.677]\n"
          ]
        },
        {
          "output_type": "stream",
          "name": "stdout",
          "text": [
            "Training Loss: 0.3140, Accuracy: 96.62%\n",
            "Validation Loss: 0.4054, Accuracy: 86.46%\n",
            "------------------------------\n",
            "Epoch [40/50]\n"
          ]
        },
        {
          "output_type": "stream",
          "name": "stderr",
          "text": [
            "Training: 100%|██████████| 73/73 [00:11<00:00,  6.23batch/s, accuracy=97.4, loss=0.077]\n",
            "Validation: 100%|██████████| 16/16 [00:01<00:00, 14.11batch/s, accuracy=87.1, loss=0.648]\n"
          ]
        },
        {
          "output_type": "stream",
          "name": "stdout",
          "text": [
            "Training Loss: 0.2292, Accuracy: 97.36%\n",
            "Validation Loss: 0.3952, Accuracy: 87.07%\n",
            "------------------------------\n",
            "Epoch [41/50]\n"
          ]
        },
        {
          "output_type": "stream",
          "name": "stderr",
          "text": [
            "Training: 100%|██████████| 73/73 [00:11<00:00,  6.18batch/s, accuracy=97.4, loss=0.824]\n",
            "Validation: 100%|██████████| 16/16 [00:01<00:00, 13.81batch/s, accuracy=86.5, loss=0.644]\n"
          ]
        },
        {
          "output_type": "stream",
          "name": "stdout",
          "text": [
            "Training Loss: 0.2407, Accuracy: 97.44%\n",
            "Validation Loss: 0.3842, Accuracy: 86.46%\n",
            "------------------------------\n",
            "Epoch [42/50]\n"
          ]
        },
        {
          "output_type": "stream",
          "name": "stderr",
          "text": [
            "Training: 100%|██████████| 73/73 [00:11<00:00,  6.18batch/s, accuracy=97.4, loss=4.5]\n",
            "Validation: 100%|██████████| 16/16 [00:01<00:00, 14.62batch/s, accuracy=86.3, loss=0.744]\n"
          ]
        },
        {
          "output_type": "stream",
          "name": "stdout",
          "text": [
            "Training Loss: 0.2865, Accuracy: 97.40%\n",
            "Validation Loss: 0.3898, Accuracy: 86.26%\n",
            "------------------------------\n",
            "Epoch [43/50]\n"
          ]
        },
        {
          "output_type": "stream",
          "name": "stderr",
          "text": [
            "Training: 100%|██████████| 73/73 [00:11<00:00,  6.18batch/s, accuracy=96.9, loss=0.143]\n",
            "Validation: 100%|██████████| 16/16 [00:01<00:00, 14.85batch/s, accuracy=86.1, loss=0.733]\n"
          ]
        },
        {
          "output_type": "stream",
          "name": "stdout",
          "text": [
            "Training Loss: 0.2320, Accuracy: 96.88%\n",
            "Validation Loss: 0.4065, Accuracy: 86.06%\n",
            "------------------------------\n",
            "Epoch [44/50]\n"
          ]
        },
        {
          "output_type": "stream",
          "name": "stderr",
          "text": [
            "Training: 100%|██████████| 73/73 [00:11<00:00,  6.18batch/s, accuracy=97.1, loss=0.0244]\n",
            "Validation: 100%|██████████| 16/16 [00:01<00:00, 15.00batch/s, accuracy=86.7, loss=0.599]\n"
          ]
        },
        {
          "output_type": "stream",
          "name": "stdout",
          "text": [
            "Training Loss: 0.2154, Accuracy: 97.14%\n",
            "Validation Loss: 0.3907, Accuracy: 86.67%\n",
            "------------------------------\n",
            "Epoch [45/50]\n"
          ]
        },
        {
          "output_type": "stream",
          "name": "stderr",
          "text": [
            "Training: 100%|██████████| 73/73 [00:11<00:00,  6.23batch/s, accuracy=97.4, loss=6.47]\n",
            "Validation: 100%|██████████| 16/16 [00:01<00:00, 15.09batch/s, accuracy=86.9, loss=0.648]\n"
          ]
        },
        {
          "output_type": "stream",
          "name": "stdout",
          "text": [
            "Training Loss: 0.3074, Accuracy: 97.44%\n",
            "Validation Loss: 0.4048, Accuracy: 86.87%\n",
            "------------------------------\n",
            "Epoch [46/50]\n"
          ]
        },
        {
          "output_type": "stream",
          "name": "stderr",
          "text": [
            "Training: 100%|██████████| 73/73 [00:11<00:00,  6.24batch/s, accuracy=97.2, loss=0.615]\n",
            "Validation: 100%|██████████| 16/16 [00:01<00:00, 14.92batch/s, accuracy=86.5, loss=0.77]\n"
          ]
        },
        {
          "output_type": "stream",
          "name": "stdout",
          "text": [
            "Training Loss: 0.2325, Accuracy: 97.23%\n",
            "Validation Loss: 0.3956, Accuracy: 86.46%\n",
            "------------------------------\n",
            "Epoch [47/50]\n"
          ]
        },
        {
          "output_type": "stream",
          "name": "stderr",
          "text": [
            "Training: 100%|██████████| 73/73 [00:11<00:00,  6.23batch/s, accuracy=98.2, loss=10.4]\n",
            "Validation: 100%|██████████| 16/16 [00:01<00:00, 14.98batch/s, accuracy=86.9, loss=0.711]\n"
          ]
        },
        {
          "output_type": "stream",
          "name": "stdout",
          "text": [
            "Training Loss: 0.3382, Accuracy: 98.18%\n",
            "Validation Loss: 0.4043, Accuracy: 86.87%\n",
            "------------------------------\n",
            "Epoch [48/50]\n"
          ]
        },
        {
          "output_type": "stream",
          "name": "stderr",
          "text": [
            "Training: 100%|██████████| 73/73 [00:11<00:00,  6.24batch/s, accuracy=97.6, loss=0.0178]\n",
            "Validation: 100%|██████████| 16/16 [00:01<00:00, 14.89batch/s, accuracy=86.5, loss=0.648]\n"
          ]
        },
        {
          "output_type": "stream",
          "name": "stdout",
          "text": [
            "Training Loss: 0.2038, Accuracy: 97.57%\n",
            "Validation Loss: 0.3845, Accuracy: 86.46%\n",
            "------------------------------\n",
            "Epoch [49/50]\n"
          ]
        },
        {
          "output_type": "stream",
          "name": "stderr",
          "text": [
            "Training: 100%|██████████| 73/73 [00:11<00:00,  6.20batch/s, accuracy=97.4, loss=0.128]\n",
            "Validation: 100%|██████████| 16/16 [00:01<00:00, 14.91batch/s, accuracy=86.9, loss=0.643]\n"
          ]
        },
        {
          "output_type": "stream",
          "name": "stdout",
          "text": [
            "Training Loss: 0.2233, Accuracy: 97.44%\n",
            "Validation Loss: 0.4089, Accuracy: 86.87%\n",
            "------------------------------\n",
            "Epoch [50/50]\n"
          ]
        },
        {
          "output_type": "stream",
          "name": "stderr",
          "text": [
            "Training: 100%|██████████| 73/73 [00:11<00:00,  6.21batch/s, accuracy=97.5, loss=5.5]\n",
            "Validation: 100%|██████████| 16/16 [00:01<00:00, 14.91batch/s, accuracy=85.9, loss=0.845]"
          ]
        },
        {
          "output_type": "stream",
          "name": "stdout",
          "text": [
            "Training Loss: 0.2783, Accuracy: 97.53%\n",
            "Validation Loss: 0.4056, Accuracy: 85.86%\n",
            "------------------------------\n"
          ]
        },
        {
          "output_type": "stream",
          "name": "stderr",
          "text": [
            "\n"
          ]
        }
      ],
      "source": [
        "gn_model = GoogLeNet().to(device)\n",
        "optimizer = optim.Adam(gn_model.parameters(), lr=learning_rate)\n",
        "train_acc, train_loss, val_acc, val_loss = train_model(gn_model, optimizer, criterion, gn_dataset, gn_train_loader, gn_val_loader, num_epochs=num_epochs)"
      ]
    },
    {
      "cell_type": "code",
      "source": [
        "plot_metric('Accuracy', train_acc, val_acc, epochs=num_epochs)\n",
        "plot_metric('Loss', train_loss, val_loss, epochs=num_epochs)"
      ],
      "metadata": {
        "colab": {
          "base_uri": "https://localhost:8080/",
          "height": 977
        },
        "id": "N6GyDNx8uG6j",
        "outputId": "ec827f48-715d-4d81-b0d3-0879eae16fb2"
      },
      "execution_count": 118,
      "outputs": [
        {
          "output_type": "display_data",
          "data": {
            "text/plain": [
              "<Figure size 1000x500 with 1 Axes>"
            ],
            "image/png": "[encoded data removed]"
          },
          "metadata": {}
        },
        {
          "output_type": "display_data",
          "data": {
            "text/plain": [
              "<Figure size 1000x500 with 1 Axes>"
            ],
            "image/png": "[encoded data removed]"
          },
          "metadata": {}
        }
      ]
    },
    {
      "cell_type": "code",
      "source": [],
      "metadata": {
        "id": "BvMBzbJs76yx"
      },
      "execution_count": null,
      "outputs": []
    },
    {
      "cell_type": "markdown",
      "source": [
        "#### Test"
      ],
      "metadata": {
        "id": "dIaliA1r76_z"
      }
    },
    {
      "cell_type": "code",
      "execution_count": 64,
      "metadata": {
        "id": "0AMFQ287Enny"
      },
      "outputs": [],
      "source": [
        "# custom_train_transform = transforms.Compose([\n",
        "#     transforms.ToPILImage(),\n",
        "#     #transforms.RandomHorizontalFlip(),\n",
        "#     #transforms.RandomVerticalFlip(),\n",
        "#     #transforms.RandomRotation(15),\n",
        "#     #transforms.RandomResizedCrop(224, scale=(0.9, 1.1)),\n",
        "#     transforms.ColorJitter(brightness=0.1, contrast=0.1, saturation=0.1),\n",
        "#     ToTensorAndMove(device),\n",
        "# ])\n",
        "\n",
        "# custom_val_transform = transforms.Compose([\n",
        "#     transforms.ToPILImage(),\n",
        "#     transforms.ColorJitter(brightness=0.1, contrast=0.1, saturation=0.1),\n",
        "#     ToTensorAndMove(device),\n",
        "# ])"
      ]
    },
    {
      "cell_type": "code",
      "source": [
        "# google_net_dataset = Data(device, mode='train',\n",
        "#                                train_transform=custom_train_transform, val_transform=custom_val_transform)\n",
        "\n",
        "# google_net_dataset.normalize()\n",
        "# google_net_dataset.train_val_split()\n",
        "\n",
        "# google_net_train_dataloader = DataLoader(google_net_dataset, batch_size=batch_size, shuffle=True)\n",
        "# google_net_test_dataloader = DataLoader(google_net_dataset, batch_size=batch_size, shuffle=False)"
      ],
      "metadata": {
        "id": "RCdyp4oqR9DN"
      },
      "execution_count": 65,
      "outputs": []
    },
    {
      "cell_type": "code",
      "source": [
        "# google_net_model = GoogLeNet().to(device)\n",
        "# optimizer = optim.Adam(google_net_model.parameters(), lr=learning_rate)\n",
        "# train_accuracies, train_losses, val_accuracy, val_losses = train_model(google_net_model, optimizer, criterion,\n",
        "#                                                                        google_net_train_dataloader, google_net_test_dataloader,\n",
        "#                                                                        google_net_dataset, num_epochs=num_epochs, device=device)"
      ],
      "metadata": {
        "id": "Eh9oSPrGRuOk"
      },
      "execution_count": 66,
      "outputs": []
    },
    {
      "cell_type": "code",
      "source": [],
      "metadata": {
        "id": "D61Vr2pdRz33"
      },
      "execution_count": null,
      "outputs": []
    }
  ],
  "metadata": {
    "kernelspec": {
      "display_name": "Python 3",
      "name": "python3"
    },
    "language_info": {
      "codemirror_mode": {
        "name": "ipython",
        "version": 3
      },
      "file_extension": ".py",
      "mimetype": "text/x-python",
      "name": "python",
      "nbconvert_exporter": "python",
      "pygments_lexer": "ipython3",
      "version": "3.12.6"
    },
    "colab": {
      "provenance": [],
      "gpuType": "T4",
      "collapsed_sections": [
        "xXecN_NllIQ3",
        "SeXpmxtFkdEh",
        "hvU3ACRWlWG-",
        "-r5Mq5Ewla1B",
        "SJwNcoWe8mqo",
        "lYYS7U2n8t2_",
        "YhsLez4x8whr",
        "NldwIZ6nmA9-",
        "agX4r5dw7-xC",
        "mIPJNTB_8A__",
        "XwNSVU3O8DpJ",
        "dIaliA1r76_z"
      ]
    },
    "accelerator": "GPU"
  },
  "nbformat": 4,
  "nbformat_minor": 0
}