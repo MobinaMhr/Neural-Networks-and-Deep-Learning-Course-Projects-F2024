{
  "cells": [
    {
      "cell_type": "markdown",
      "source": [
        "## Imports"
      ],
      "metadata": {
        "id": "xXecN_NllIQ3"
      }
    },
    {
      "cell_type": "code",
      "source": [
        "import numpy as np\n",
        "import torch\n",
        "from torch import nn\n",
        "import matplotlib.pyplot as plt\n",
        "import torch.nn as nn\n",
        "import torch.nn.functional as F\n",
        "from torch import optim\n",
        "from torch.utils.data import Dataset, DataLoader, ConcatDataset\n",
        "from torchvision import transforms\n",
        "import glob\n",
        "import matplotlib.pyplot as plt\n",
        "from sklearn.metrics import confusion_matrix, accuracy_score\n",
        "from sklearn.model_selection import train_test_split\n",
        "import random\n",
        "import cv2\n",
        "import zipfile\n",
        "import sys\n",
        "from tqdm import tqdm\n",
        "from imblearn.over_sampling import RandomOverSampler\n",
        "from imblearn.under_sampling import RandomUnderSampler\n",
        "from imblearn.combine import SMOTETomek\n",
        "import torch\n",
        "import torch.nn as nn\n",
        "import torch.optim as optim\n",
        "from tqdm import tqdm\n"
      ],
      "metadata": {
        "id": "LVdtafC_lJ2o"
      },
      "execution_count": 57,
      "outputs": []
    },
    {
      "cell_type": "code",
      "source": [
        "# drive.mount('/content/drive')\n",
        "# dataset_path = '/content/drive/MyDrive/Deep-HW2-Data.zip'"
      ],
      "metadata": {
        "id": "iJp178llFtFO"
      },
      "execution_count": 26,
      "outputs": []
    },
    {
      "cell_type": "code",
      "source": [
        "device = torch.device(\"cuda\" if torch.cuda.is_available() else \"cpu\")\n",
        "print(device)"
      ],
      "metadata": {
        "colab": {
          "base_uri": "https://localhost:8080/"
        },
        "id": "p2JQwV3vlGi8",
        "outputId": "05645ea7-d83d-4381-d3f7-a86e1762704a"
      },
      "execution_count": 27,
      "outputs": [
        {
          "output_type": "stream",
          "name": "stdout",
          "text": [
            "cuda\n"
          ]
        }
      ]
    },
    {
      "cell_type": "code",
      "source": [
        "!gdown 'https://drive.google.com/uc?id=1gDO7-4SgEfXB_Ls5_LS0ycyMNMPyy1sG'\n",
        "with zipfile.ZipFile('/content/Deep-HW2-Data.zip', 'r') as zip_ref:\n",
        "  zip_ref.extractall('/content/')"
      ],
      "metadata": {
        "colab": {
          "base_uri": "https://localhost:8080/"
        },
        "id": "iO5qy1QYFH1R",
        "outputId": "0dacb907-f639-43f3-8065-a90cd15c3f4b"
      },
      "execution_count": 28,
      "outputs": [
        {
          "output_type": "stream",
          "name": "stdout",
          "text": [
            "Downloading...\n",
            "From (original): https://drive.google.com/uc?id=1gDO7-4SgEfXB_Ls5_LS0ycyMNMPyy1sG\n",
            "From (redirected): https://drive.google.com/uc?id=1gDO7-4SgEfXB_Ls5_LS0ycyMNMPyy1sG&confirm=t&uuid=c8de2618-c6ef-436d-a4bf-4910765ce706\n",
            "To: /content/Deep-HW2-Data.zip\n",
            "100% 53.2M/53.2M [00:00<00:00, 70.5MB/s]\n"
          ]
        }
      ]
    },
    {
      "cell_type": "markdown",
      "source": [
        "## Utilities"
      ],
      "metadata": {
        "id": "SeXpmxtFkdEh"
      }
    },
    {
      "cell_type": "code",
      "source": [
        "def plot_metric(metric, train_metric, val_metric, epochs=50):\n",
        "    plt.figure(figsize=(10, 5))\n",
        "    plt.plot(range(1, epochs + 1), train_metric, label=f'Training {metric}', alpha=0.5)\n",
        "    plt.plot(range(1, epochs + 1), val_metric, label=f'Validation {metric}', alpha=0.5)\n",
        "    plt.xlabel('Epoch')\n",
        "    plt.ylabel(metric)\n",
        "    plt.title(f'Training and Validation {metric} Over Epochs')\n",
        "    plt.legend()\n",
        "    plt.show()\n",
        "\n",
        "def load_from_dataset(path, img_size_w, img_size_h):\n",
        "    data = []\n",
        "    for f in glob.iglob(path):\n",
        "        img = cv2.imread(f)\n",
        "        img = cv2.resize(img,(img_size_w,img_size_h))\n",
        "        data.append(img)\n",
        "    return data\n"
      ],
      "metadata": {
        "id": "WrLmTvDokcfr"
      },
      "execution_count": 29,
      "outputs": []
    },
    {
      "cell_type": "markdown",
      "source": [
        "## Hyper Parameters"
      ],
      "metadata": {
        "id": "hvU3ACRWlWG-"
      }
    },
    {
      "cell_type": "code",
      "source": [
        "in_channels = 3\n",
        "num_classes = 2\n",
        "learning_rate = 3e-4 # karpathy's constant\n",
        "batch_size = 256\n",
        "num_epochs = 100"
      ],
      "metadata": {
        "id": "B8_WodSWlWQO"
      },
      "execution_count": 30,
      "outputs": []
    },
    {
      "cell_type": "markdown",
      "source": [
        "## Dataset"
      ],
      "metadata": {
        "id": "VBFQ3uBuoHBe"
      }
    },
    {
      "cell_type": "code",
      "source": [
        "class Data(Dataset):\n",
        "    def __init__(self, device, img_size_w = 224, img_size_h = 224, mode='train', train_transform=None, val_transform=None):\n",
        "        self.img_size_w = img_size_w\n",
        "        self.img_size_h = img_size_h\n",
        "\n",
        "        self.X_train, self.y_train = None, None\n",
        "        self.X_test, self.y_test = None, None\n",
        "\n",
        "        self.mode = mode\n",
        "\n",
        "        benign_path = \"/content/data/benign/*.jpg\"\n",
        "        malignant_path = \"/content/data/malignant/*.jpg\"\n",
        "\n",
        "        benign = load_from_dataset (benign_path , img_size_w , img_size_h)\n",
        "        malignant = load_from_dataset (malignant_path , img_size_w , img_size_h)\n",
        "\n",
        "        benign = np.array(benign , dtype=np.float32)\n",
        "        malignant = np.array(malignant , dtype=np.float32)\n",
        "        print (f'dataset shape is : {benign.shape}')\n",
        "\n",
        "        benign_labels = np.zeros(benign.shape[0], dtype=np.float32)\n",
        "        malignant_labels = np.full(malignant.shape[0], 1.0)\n",
        "\n",
        "        self.images = np.concatenate((benign, malignant), axis=0)\n",
        "        self.labels = np.concatenate((benign_labels, malignant_labels))\n",
        "\n",
        "        self.train_transform = train_transform if train_transform else transforms.Compose([\n",
        "            transforms.ToPILImage(),\n",
        "            #transforms.Resize((img_size_h, img_size_w)),\n",
        "            transforms.RandomHorizontalFlip(),\n",
        "            transforms.RandomRotation(10),\n",
        "            transforms.ToTensor(),\n",
        "            #transforms.Normalize(mean=[0.485, 0.456, 0.406], std=[0.229, 0.224, 0.225])\n",
        "        ])\n",
        "\n",
        "        self.val_transform = val_transform if val_transform else transforms.Compose([\n",
        "            transforms.ToPILImage(),\n",
        "            #transforms.Resize((img_size_h, img_size_w)),\n",
        "            transforms.ToTensor(),\n",
        "            #transforms.Normalize(mean=[0.485, 0.456, 0.406], std=[0.229, 0.224, 0.225])\n",
        "        ])\n",
        "\n",
        "    def train_val_split(self):\n",
        "        self.X_train, self.X_test, self.y_train, self.y_test = \\\n",
        "        train_test_split(self.images, self.labels, test_size=0.20, random_state=42)\n",
        "\n",
        "    def __len__(self):\n",
        "        if self.mode == 'train':\n",
        "          return self.X_train.shape[0]\n",
        "        elif self.mode == 'val':\n",
        "          return self.X_test.shape[0]\n",
        "\n",
        "    def __getitem__(self, idx):\n",
        "        if self.mode == 'train':\n",
        "            image, label = self.X_train[idx], self.y_train[idx]\n",
        "            image = self.train_transform(image)\n",
        "        elif self.mode == 'val':\n",
        "            image, label = self.X_test[idx], self.y_test[idx]\n",
        "            image = self.val_transform(image)\n",
        "\n",
        "        label = torch.tensor(label, dtype=torch.float32).to(device)\n",
        "        return {'image': image, 'label': label}\n",
        "\n",
        "    def normalize(self):\n",
        "        self.images = self.images/255.0\n",
        "\n",
        "    def analyze_class_distribution(self):\n",
        "        benign_count = np.sum(self.labels == 0)\n",
        "        malignant_count = np.sum(self.labels == 1)\n",
        "\n",
        "        print(f\"Class Distribution:\")\n",
        "        print(f\"  Benign:    {benign_count}\")\n",
        "        print(f\"  Malignant: {malignant_count}\")\n",
        "\n",
        "        plt.bar(['Benign', 'Malignant'], [benign_count, malignant_count], color=['blue', 'red'])\n",
        "        plt.title('Class Distribution')\n",
        "        plt.ylabel('Count')\n",
        "        plt.show()\n",
        "\n",
        "    def balance_with_oversampling(self):\n",
        "        ros = RandomOverSampler(random_state=42)\n",
        "        self.images, self.labels = ros.fit_resample(self.images.reshape(len(self.images), -1), self.labels)\n",
        "        self.images = self.images.reshape(-1, self.img_size_h, self.img_size_w, 3)  # Adjust to original dimensions\n",
        "\n",
        "    def augment_minority_class(self):\n",
        "        malignant_indices = np.where(self.labels == 1)[0]\n",
        "        additional_samples = []\n",
        "        additional_labels = []\n",
        "        for idx in malignant_indices:\n",
        "            image = self.images[idx]\n",
        "            augmented_image = self.train_transform(image)  # Apply transformations\n",
        "            additional_samples.append(augmented_image.numpy())\n",
        "            additional_labels.append(1)\n",
        "\n",
        "        self.images = np.concatenate((self.images, np.array(additional_samples)))\n",
        "        self.labels = np.concatenate((self.labels, np.array(additional_labels)))\n",
        "\n",
        "    def balance_with_undersampling(self):\n",
        "        rus = RandomUnderSampler(random_state=42)\n",
        "        self.images, self.labels = rus.fit_resample(self.images.reshape(len(self.images), -1), self.labels)\n",
        "        self.images = self.images.reshape(-1, self.img_size_h, self.img_size_w, 3)  # Adjust to original dimensions\n",
        "\n",
        "    def balance_with_smote(self):\n",
        "        smote = SMOTETomek(random_state=42)\n",
        "        self.images, self.labels = smote.fit_resample(self.images.reshape(len(self.images), -1), self.labels)\n",
        "        self.images = self.images.reshape(-1, self.img_size_h, self.img_size_w, 3)  # Adjust to original dimensions"
      ],
      "metadata": {
        "id": "s6IJlw9qoIyr"
      },
      "execution_count": 35,
      "outputs": []
    },
    {
      "cell_type": "code",
      "source": [
        "dataset = Data(device, img_size_w=28, img_size_h=28, mode='train',\n",
        "               train_transform=custom_train_transform,\n",
        "               val_transform=custom_val_transform)"
      ],
      "metadata": {
        "colab": {
          "base_uri": "https://localhost:8080/"
        },
        "id": "R0VSSmYmofzv",
        "outputId": "4423c96e-e006-4f89-9f9e-3e15eeead429"
      },
      "execution_count": 36,
      "outputs": [
        {
          "output_type": "stream",
          "name": "stdout",
          "text": [
            "dataset shape is : (1800, 28, 28, 3)\n"
          ]
        }
      ]
    },
    {
      "cell_type": "code",
      "source": [
        "dataset.analyze_class_distribution()"
      ],
      "metadata": {
        "colab": {
          "base_uri": "https://localhost:8080/",
          "height": 524
        },
        "id": "ln1qQLg9o0Xx",
        "outputId": "058c8f6c-4524-4f87-d5bd-f35172c206a2"
      },
      "execution_count": 37,
      "outputs": [
        {
          "output_type": "stream",
          "name": "stdout",
          "text": [
            "Class Distribution:\n",
            "  Benign:    1800\n",
            "  Malignant: 1497\n"
          ]
        },
        {
          "output_type": "display_data",
          "data": {
            "text/plain": [
              "<Figure size 640x480 with 1 Axes>"
            ],
            "image/png": "[encoded data removed]"
          },
          "metadata": {}
        }
      ]
    },
    {
      "cell_type": "code",
      "source": [
        "dataset.balance_with_undersampling()\n",
        "\n",
        "# dataset.balance_with_oversampling()\n",
        "# dataset.augment_minority_class()\n",
        "# dataset.balance_with_undersampling()\n",
        "# dataset.balance_with_smote()\n",
        "\n",
        "dataset.analyze_class_distribution()"
      ],
      "metadata": {
        "colab": {
          "base_uri": "https://localhost:8080/",
          "height": 524
        },
        "id": "G4A2vPoOqKwC",
        "outputId": "2b15f7c3-bc89-4ac1-9e6f-3cf29f130f17"
      },
      "execution_count": 39,
      "outputs": [
        {
          "output_type": "stream",
          "name": "stdout",
          "text": [
            "Class Distribution:\n",
            "  Benign:    1497\n",
            "  Malignant: 1497\n"
          ]
        },
        {
          "output_type": "display_data",
          "data": {
            "text/plain": [
              "<Figure size 640x480 with 1 Axes>"
            ],
            "image/png": "[encoded data removed]"
          },
          "metadata": {}
        }
      ]
    },
    {
      "cell_type": "markdown",
      "source": [
        "## Model1"
      ],
      "metadata": {
        "id": "-r5Mq5Ewla1B"
      }
    },
    {
      "cell_type": "code",
      "execution_count": 40,
      "metadata": {
        "id": "pvZ_ad5pEnnt"
      },
      "outputs": [],
      "source": [
        "class ToTensorAndMove:\n",
        "    def __init__(self, device):\n",
        "        self.to_tensor = transforms.ToTensor()\n",
        "        self.device = device\n",
        "    def __call__(self, img):\n",
        "        tensor = self.to_tensor(img)\n",
        "        return tensor.to(self.device)"
      ]
    },
    {
      "cell_type": "code",
      "execution_count": 41,
      "metadata": {
        "id": "xgXbJY6hEnnt"
      },
      "outputs": [],
      "source": [
        "custom_train_transform = transforms.Compose([\n",
        "    transforms.ToPILImage(),\n",
        "    transforms.RandomHorizontalFlip(),\n",
        "    transforms.RandomVerticalFlip(),\n",
        "    transforms.RandomRotation(15),\n",
        "    transforms.RandomResizedCrop(28, scale=(0.9, 1.1)),\n",
        "    transforms.ColorJitter(brightness=0.1, contrast=0.1, saturation=0.1),\n",
        "    ToTensorAndMove(device),\n",
        "])\n",
        "\n",
        "custom_val_transform = transforms.Compose([\n",
        "    transforms.ToPILImage(),\n",
        "    transforms.ColorJitter(brightness=0.1, contrast=0.1, saturation=0.1),\n",
        "    ToTensorAndMove(device),\n",
        "])"
      ]
    },
    {
      "cell_type": "code",
      "execution_count": 42,
      "metadata": {
        "id": "OiQ4qgmIEnnt"
      },
      "outputs": [],
      "source": [
        "class SkinCancerCNN(nn.Module):\n",
        "    def __init__(self):\n",
        "        super(SkinCancerCNN, self).__init__()\n",
        "\n",
        "        self.conv1 = nn.Conv2d(in_channels=3, out_channels=16, kernel_size=3, padding=1, stride=1)\n",
        "        self.pool1 = nn.MaxPool2d(kernel_size=2, stride=2)\n",
        "\n",
        "        self.conv2 = nn.Conv2d(in_channels=16, out_channels=32, kernel_size=3, padding=1, stride=1)\n",
        "        self.pool2 = nn.MaxPool2d(kernel_size=2, stride=2)\n",
        "\n",
        "        self.conv3 = nn.Conv2d(in_channels=32, out_channels=64, kernel_size=3, padding=1, stride=1)\n",
        "        self.pool3 = nn.MaxPool2d(kernel_size=1, stride=2)\n",
        "\n",
        "        self.conv4 = nn.Conv2d(in_channels=64, out_channels=128, kernel_size=3, padding=1, stride=1)\n",
        "        self.pool4 = nn.MaxPool2d(kernel_size=2, stride=2)\n",
        "\n",
        "        self.flatten = nn.Flatten()\n",
        "\n",
        "        self.fc1 = nn.Linear(2 * 2 * 128, 64)\n",
        "        self.fc2 = nn.Linear(64, 32)\n",
        "        self.fc3 = nn.Linear(32, 2)\n",
        "\n",
        "    def forward(self, x):\n",
        "        x = F.relu(self.conv1(x))\n",
        "        x = self.pool1(x)\n",
        "\n",
        "        x = F.relu(self.conv2(x))\n",
        "        x = self.pool2(x)\n",
        "\n",
        "        x = F.relu(self.conv3(x))\n",
        "        x = self.pool3(x)\n",
        "\n",
        "        x = F.relu(self.conv4(x))\n",
        "        x = self.pool4(x)\n",
        "\n",
        "        x = self.flatten(x)\n",
        "\n",
        "        x = F.relu(self.fc1(x))\n",
        "        x = F.relu(self.fc2(x))\n",
        "        x = self.fc3(x)\n",
        "        return x"
      ]
    },
    {
      "cell_type": "code",
      "execution_count": 43,
      "metadata": {
        "id": "ssjaAxUnEnnu"
      },
      "outputs": [],
      "source": [
        "model = SkinCancerCNN().to(device)\n",
        "criterion = nn.CrossEntropyLoss()\n",
        "optimizer = optim.Adam(model.parameters(), lr=learning_rate)"
      ]
    },
    {
      "cell_type": "code",
      "execution_count": 44,
      "metadata": {
        "id": "nodhoEM_Ennv"
      },
      "outputs": [],
      "source": [
        "def train_model(model, optimizer, criterion, train_loader, val_loader, dataset, num_epochs=10, device='cuda'):\n",
        "    model.to(device)\n",
        "    train_accuracies = []\n",
        "    train_losses = []\n",
        "    val_accuracies = []\n",
        "    val_losses = []\n",
        "    scheduler = torch.optim.lr_scheduler.ReduceLROnPlateau(optimizer, factor=0.1, patience=10, verbose=True)\n",
        "\n",
        "    for epoch in range(num_epochs):\n",
        "        print(f\"Epoch [{epoch + 1}/{num_epochs}]\")\n",
        "        dataset.mode = 'train'\n",
        "        model.train()\n",
        "        train_loss = 0.0\n",
        "        correct = 0\n",
        "        total = 0\n",
        "\n",
        "        with tqdm(total=len(train_loader), desc=\"Training\", unit=\"batch\") as pbar:\n",
        "            for batch in train_loader:\n",
        "                images, labels = batch['image'].to(device), batch['label'].to(device)\n",
        "\n",
        "                optimizer.zero_grad()\n",
        "                outputs = model(images)\n",
        "                loss = criterion(outputs, labels.long())\n",
        "\n",
        "                loss.backward()\n",
        "                optimizer.step()\n",
        "\n",
        "                train_loss += loss.item()\n",
        "                _, predicted = outputs.max(1)\n",
        "                total += labels.size(0)\n",
        "                correct += predicted.eq(labels).sum().item()\n",
        "\n",
        "                pbar.set_postfix(loss=loss.item(), accuracy=100. * correct / total)\n",
        "                pbar.update(1)\n",
        "\n",
        "        avg_train_loss = train_loss / len(train_loader)\n",
        "        train_accuracy = 100. * correct / total\n",
        "        # print(f\"Training Loss: {avg_train_loss:.4f}, Accuracy: {train_accuracy:.2f}%\")\n",
        "        train_accuracies.append(train_accuracy)\n",
        "        train_losses.append(avg_train_loss)\n",
        "\n",
        "        model.eval()\n",
        "        dataset.mode = 'val'\n",
        "        val_loss = 0.0\n",
        "        correct = 0\n",
        "        total = 0\n",
        "\n",
        "        with torch.no_grad():\n",
        "            with tqdm(total=len(val_loader), desc=\"Validation\", unit=\"batch\") as pbar:\n",
        "                for batch in val_loader:\n",
        "                    images, labels = batch['image'].to(device), batch['label'].to(device)\n",
        "\n",
        "                    outputs = model(images)\n",
        "                    loss = criterion(outputs, labels.long())\n",
        "\n",
        "                    val_loss += loss.item()\n",
        "                    _, predicted = outputs.max(1)\n",
        "                    total += labels.size(0)\n",
        "                    correct += predicted.eq(labels).sum().item()\n",
        "\n",
        "                    pbar.set_postfix(loss=loss.item(), accuracy=100. * correct / total)\n",
        "                    pbar.update(1)\n",
        "\n",
        "        avg_val_loss = val_loss / len(val_loader)\n",
        "        val_accuracy = 100. * correct / total\n",
        "        # print(f\"Validation Loss: {avg_val_loss:.4f}, Accuracy: {val_accuracy:.2f}%\")\n",
        "        print(\"-\" * 30)\n",
        "        val_accuracies.append(val_accuracy)\n",
        "        val_losses.append(avg_val_loss)\n",
        "        mean_loss = sum(train_losses) / len(train_losses)\n",
        "        mean_loss = round(mean_loss, 2)\n",
        "        scheduler.step(mean_loss)\n",
        "\n",
        "    return train_accuracies, train_losses, val_accuracies, val_losses\n"
      ]
    },
    {
      "cell_type": "code",
      "execution_count": 44,
      "metadata": {
        "id": "meaZ2x3TEnnv"
      },
      "outputs": [],
      "source": []
    },
    {
      "cell_type": "code",
      "source": [],
      "metadata": {
        "id": "drX7lYS4oA00"
      },
      "execution_count": 44,
      "outputs": []
    },
    {
      "cell_type": "code",
      "source": [
        "dataset.normalize()\n",
        "dataset.train_val_split()\n",
        "\n",
        "train_dataloader = DataLoader(dataset, batch_size=batch_size, shuffle=True)\n",
        "test_dataloader = DataLoader(dataset, batch_size=batch_size, shuffle=False)"
      ],
      "metadata": {
        "id": "uH92lUPYnFvI"
      },
      "execution_count": 45,
      "outputs": []
    },
    {
      "cell_type": "code",
      "execution_count": 46,
      "metadata": {
        "colab": {
          "base_uri": "https://localhost:8080/"
        },
        "id": "uOxHtNaeEnnv",
        "outputId": "64d25eef-4524-4858-a036-808ad8dfe8c4"
      },
      "outputs": [
        {
          "output_type": "stream",
          "name": "stderr",
          "text": [
            "/usr/local/lib/python3.10/dist-packages/torch/optim/lr_scheduler.py:62: UserWarning: The verbose parameter is deprecated. Please use get_last_lr() to access the learning rate.\n",
            "  warnings.warn(\n"
          ]
        },
        {
          "output_type": "stream",
          "name": "stdout",
          "text": [
            "Epoch [1/100]\n"
          ]
        },
        {
          "output_type": "stream",
          "name": "stderr",
          "text": [
            "Training: 100%|██████████| 10/10 [00:04<00:00,  2.17batch/s, accuracy=50, loss=0.699]\n",
            "Validation: 100%|██████████| 3/3 [00:00<00:00,  5.60batch/s, accuracy=50.1, loss=0.692]\n"
          ]
        },
        {
          "output_type": "stream",
          "name": "stdout",
          "text": [
            "------------------------------\n",
            "Epoch [2/100]\n"
          ]
        },
        {
          "output_type": "stream",
          "name": "stderr",
          "text": [
            "Training: 100%|██████████| 10/10 [00:02<00:00,  4.10batch/s, accuracy=50.4, loss=0.693]\n",
            "Validation: 100%|██████████| 3/3 [00:00<00:00,  7.94batch/s, accuracy=51.9, loss=0.692]\n"
          ]
        },
        {
          "output_type": "stream",
          "name": "stdout",
          "text": [
            "------------------------------\n",
            "Epoch [3/100]\n"
          ]
        },
        {
          "output_type": "stream",
          "name": "stderr",
          "text": [
            "Training: 100%|██████████| 10/10 [00:02<00:00,  4.09batch/s, accuracy=52.8, loss=0.693]\n",
            "Validation: 100%|██████████| 3/3 [00:00<00:00,  8.40batch/s, accuracy=52.6, loss=0.693]\n"
          ]
        },
        {
          "output_type": "stream",
          "name": "stdout",
          "text": [
            "------------------------------\n",
            "Epoch [4/100]\n"
          ]
        },
        {
          "output_type": "stream",
          "name": "stderr",
          "text": [
            "Training: 100%|██████████| 10/10 [00:02<00:00,  4.01batch/s, accuracy=55.1, loss=0.691]\n",
            "Validation: 100%|██████████| 3/3 [00:00<00:00,  8.39batch/s, accuracy=58.1, loss=0.689]\n"
          ]
        },
        {
          "output_type": "stream",
          "name": "stdout",
          "text": [
            "------------------------------\n",
            "Epoch [5/100]\n"
          ]
        },
        {
          "output_type": "stream",
          "name": "stderr",
          "text": [
            "Training: 100%|██████████| 10/10 [00:02<00:00,  3.44batch/s, accuracy=68.7, loss=0.685]\n",
            "Validation: 100%|██████████| 3/3 [00:00<00:00,  5.57batch/s, accuracy=68.9, loss=0.683]\n"
          ]
        },
        {
          "output_type": "stream",
          "name": "stdout",
          "text": [
            "------------------------------\n",
            "Epoch [6/100]\n"
          ]
        },
        {
          "output_type": "stream",
          "name": "stderr",
          "text": [
            "Training: 100%|██████████| 10/10 [00:02<00:00,  3.68batch/s, accuracy=56.9, loss=0.667]\n",
            "Validation: 100%|██████████| 3/3 [00:00<00:00,  8.00batch/s, accuracy=67.1, loss=0.663]\n"
          ]
        },
        {
          "output_type": "stream",
          "name": "stdout",
          "text": [
            "------------------------------\n",
            "Epoch [7/100]\n"
          ]
        },
        {
          "output_type": "stream",
          "name": "stderr",
          "text": [
            "Training: 100%|██████████| 10/10 [00:02<00:00,  4.05batch/s, accuracy=67.2, loss=0.615]\n",
            "Validation: 100%|██████████| 3/3 [00:00<00:00,  8.23batch/s, accuracy=71, loss=0.595]\n"
          ]
        },
        {
          "output_type": "stream",
          "name": "stdout",
          "text": [
            "------------------------------\n",
            "Epoch [8/100]\n"
          ]
        },
        {
          "output_type": "stream",
          "name": "stderr",
          "text": [
            "Training: 100%|██████████| 10/10 [00:02<00:00,  4.06batch/s, accuracy=72.2, loss=0.549]\n",
            "Validation: 100%|██████████| 3/3 [00:00<00:00,  8.40batch/s, accuracy=77.5, loss=0.498]\n"
          ]
        },
        {
          "output_type": "stream",
          "name": "stdout",
          "text": [
            "------------------------------\n",
            "Epoch [9/100]\n"
          ]
        },
        {
          "output_type": "stream",
          "name": "stderr",
          "text": [
            "Training: 100%|██████████| 10/10 [00:02<00:00,  3.84batch/s, accuracy=76.5, loss=0.451]\n",
            "Validation: 100%|██████████| 3/3 [00:00<00:00,  6.02batch/s, accuracy=78.5, loss=0.473]\n"
          ]
        },
        {
          "output_type": "stream",
          "name": "stdout",
          "text": [
            "------------------------------\n",
            "Epoch [10/100]\n"
          ]
        },
        {
          "output_type": "stream",
          "name": "stderr",
          "text": [
            "Training: 100%|██████████| 10/10 [00:03<00:00,  3.27batch/s, accuracy=76.6, loss=0.507]\n",
            "Validation: 100%|██████████| 3/3 [00:00<00:00,  8.21batch/s, accuracy=79.3, loss=0.417]\n"
          ]
        },
        {
          "output_type": "stream",
          "name": "stdout",
          "text": [
            "------------------------------\n",
            "Epoch [11/100]\n"
          ]
        },
        {
          "output_type": "stream",
          "name": "stderr",
          "text": [
            "Training: 100%|██████████| 10/10 [00:02<00:00,  3.93batch/s, accuracy=78.5, loss=0.401]\n",
            "Validation: 100%|██████████| 3/3 [00:00<00:00,  8.28batch/s, accuracy=81, loss=0.415]\n"
          ]
        },
        {
          "output_type": "stream",
          "name": "stdout",
          "text": [
            "------------------------------\n",
            "Epoch [12/100]\n"
          ]
        },
        {
          "output_type": "stream",
          "name": "stderr",
          "text": [
            "Training: 100%|██████████| 10/10 [00:02<00:00,  4.00batch/s, accuracy=78.6, loss=0.506]\n",
            "Validation: 100%|██████████| 3/3 [00:00<00:00,  8.17batch/s, accuracy=80.8, loss=0.417]\n"
          ]
        },
        {
          "output_type": "stream",
          "name": "stdout",
          "text": [
            "------------------------------\n",
            "Epoch [13/100]\n"
          ]
        },
        {
          "output_type": "stream",
          "name": "stderr",
          "text": [
            "Training: 100%|██████████| 10/10 [00:02<00:00,  3.87batch/s, accuracy=79.4, loss=0.35]\n",
            "Validation: 100%|██████████| 3/3 [00:00<00:00,  5.94batch/s, accuracy=82, loss=0.415]\n"
          ]
        },
        {
          "output_type": "stream",
          "name": "stdout",
          "text": [
            "------------------------------\n",
            "Epoch [14/100]\n"
          ]
        },
        {
          "output_type": "stream",
          "name": "stderr",
          "text": [
            "Training: 100%|██████████| 10/10 [00:03<00:00,  3.25batch/s, accuracy=79.2, loss=0.495]\n",
            "Validation: 100%|██████████| 3/3 [00:00<00:00,  8.48batch/s, accuracy=81.5, loss=0.421]\n"
          ]
        },
        {
          "output_type": "stream",
          "name": "stdout",
          "text": [
            "------------------------------\n",
            "Epoch [15/100]\n"
          ]
        },
        {
          "output_type": "stream",
          "name": "stderr",
          "text": [
            "Training: 100%|██████████| 10/10 [00:02<00:00,  4.01batch/s, accuracy=79.8, loss=0.384]\n",
            "Validation: 100%|██████████| 3/3 [00:00<00:00,  8.37batch/s, accuracy=80.5, loss=0.416]\n"
          ]
        },
        {
          "output_type": "stream",
          "name": "stdout",
          "text": [
            "------------------------------\n",
            "Epoch [16/100]\n"
          ]
        },
        {
          "output_type": "stream",
          "name": "stderr",
          "text": [
            "Training: 100%|██████████| 10/10 [00:02<00:00,  4.01batch/s, accuracy=80.8, loss=0.566]\n",
            "Validation: 100%|██████████| 3/3 [00:00<00:00,  8.61batch/s, accuracy=81.8, loss=0.447]\n"
          ]
        },
        {
          "output_type": "stream",
          "name": "stdout",
          "text": [
            "------------------------------\n",
            "Epoch [17/100]\n"
          ]
        },
        {
          "output_type": "stream",
          "name": "stderr",
          "text": [
            "Training: 100%|██████████| 10/10 [00:02<00:00,  4.04batch/s, accuracy=80.1, loss=0.438]\n",
            "Validation: 100%|██████████| 3/3 [00:00<00:00,  6.64batch/s, accuracy=81.3, loss=0.407]\n"
          ]
        },
        {
          "output_type": "stream",
          "name": "stdout",
          "text": [
            "------------------------------\n",
            "Epoch [18/100]\n"
          ]
        },
        {
          "output_type": "stream",
          "name": "stderr",
          "text": [
            "Training: 100%|██████████| 10/10 [00:03<00:00,  3.15batch/s, accuracy=80.5, loss=0.41]\n",
            "Validation: 100%|██████████| 3/3 [00:00<00:00,  8.11batch/s, accuracy=80.8, loss=0.46]\n"
          ]
        },
        {
          "output_type": "stream",
          "name": "stdout",
          "text": [
            "------------------------------\n",
            "Epoch [19/100]\n"
          ]
        },
        {
          "output_type": "stream",
          "name": "stderr",
          "text": [
            "Training: 100%|██████████| 10/10 [00:02<00:00,  4.02batch/s, accuracy=81.4, loss=0.444]\n",
            "Validation: 100%|██████████| 3/3 [00:00<00:00,  8.33batch/s, accuracy=80.1, loss=0.413]\n"
          ]
        },
        {
          "output_type": "stream",
          "name": "stdout",
          "text": [
            "------------------------------\n",
            "Epoch [20/100]\n"
          ]
        },
        {
          "output_type": "stream",
          "name": "stderr",
          "text": [
            "Training: 100%|██████████| 10/10 [00:02<00:00,  3.47batch/s, accuracy=80.3, loss=0.45]\n",
            "Validation: 100%|██████████| 3/3 [00:00<00:00,  8.05batch/s, accuracy=78.8, loss=0.481]\n"
          ]
        },
        {
          "output_type": "stream",
          "name": "stdout",
          "text": [
            "------------------------------\n",
            "Epoch [21/100]\n"
          ]
        },
        {
          "output_type": "stream",
          "name": "stderr",
          "text": [
            "Training: 100%|██████████| 10/10 [00:02<00:00,  4.08batch/s, accuracy=79, loss=0.401]\n",
            "Validation: 100%|██████████| 3/3 [00:00<00:00,  6.95batch/s, accuracy=81, loss=0.45]\n"
          ]
        },
        {
          "output_type": "stream",
          "name": "stdout",
          "text": [
            "------------------------------\n",
            "Epoch [22/100]\n"
          ]
        },
        {
          "output_type": "stream",
          "name": "stderr",
          "text": [
            "Training: 100%|██████████| 10/10 [00:03<00:00,  3.04batch/s, accuracy=80.3, loss=0.483]\n",
            "Validation: 100%|██████████| 3/3 [00:00<00:00,  8.02batch/s, accuracy=81.8, loss=0.427]\n"
          ]
        },
        {
          "output_type": "stream",
          "name": "stdout",
          "text": [
            "------------------------------\n",
            "Epoch [23/100]\n"
          ]
        },
        {
          "output_type": "stream",
          "name": "stderr",
          "text": [
            "Training: 100%|██████████| 10/10 [00:02<00:00,  4.06batch/s, accuracy=80.8, loss=0.363]\n",
            "Validation: 100%|██████████| 3/3 [00:00<00:00,  8.41batch/s, accuracy=82.1, loss=0.428]\n"
          ]
        },
        {
          "output_type": "stream",
          "name": "stdout",
          "text": [
            "------------------------------\n",
            "Epoch [24/100]\n"
          ]
        },
        {
          "output_type": "stream",
          "name": "stderr",
          "text": [
            "Training: 100%|██████████| 10/10 [00:02<00:00,  4.10batch/s, accuracy=81.4, loss=0.394]\n",
            "Validation: 100%|██████████| 3/3 [00:00<00:00,  8.32batch/s, accuracy=82.3, loss=0.416]\n"
          ]
        },
        {
          "output_type": "stream",
          "name": "stdout",
          "text": [
            "------------------------------\n",
            "Epoch [25/100]\n"
          ]
        },
        {
          "output_type": "stream",
          "name": "stderr",
          "text": [
            "Training: 100%|██████████| 10/10 [00:02<00:00,  3.69batch/s, accuracy=80.6, loss=0.408]\n",
            "Validation: 100%|██████████| 3/3 [00:00<00:00,  6.33batch/s, accuracy=82.3, loss=0.368]\n"
          ]
        },
        {
          "output_type": "stream",
          "name": "stdout",
          "text": [
            "------------------------------\n",
            "Epoch [26/100]\n"
          ]
        },
        {
          "output_type": "stream",
          "name": "stderr",
          "text": [
            "Training: 100%|██████████| 10/10 [00:03<00:00,  2.56batch/s, accuracy=80.8, loss=0.421]\n",
            "Validation: 100%|██████████| 3/3 [00:00<00:00,  8.20batch/s, accuracy=78.8, loss=0.406]\n"
          ]
        },
        {
          "output_type": "stream",
          "name": "stdout",
          "text": [
            "------------------------------\n",
            "Epoch [27/100]\n"
          ]
        },
        {
          "output_type": "stream",
          "name": "stderr",
          "text": [
            "Training: 100%|██████████| 10/10 [00:02<00:00,  4.06batch/s, accuracy=80.7, loss=0.446]\n",
            "Validation: 100%|██████████| 3/3 [00:00<00:00,  8.33batch/s, accuracy=80.3, loss=0.375]\n"
          ]
        },
        {
          "output_type": "stream",
          "name": "stdout",
          "text": [
            "------------------------------\n",
            "Epoch [28/100]\n"
          ]
        },
        {
          "output_type": "stream",
          "name": "stderr",
          "text": [
            "Training: 100%|██████████| 10/10 [00:02<00:00,  4.05batch/s, accuracy=81.4, loss=0.51]\n",
            "Validation: 100%|██████████| 3/3 [00:00<00:00,  8.32batch/s, accuracy=83.6, loss=0.388]\n"
          ]
        },
        {
          "output_type": "stream",
          "name": "stdout",
          "text": [
            "------------------------------\n",
            "Epoch [29/100]\n"
          ]
        },
        {
          "output_type": "stream",
          "name": "stderr",
          "text": [
            "Training: 100%|██████████| 10/10 [00:02<00:00,  3.99batch/s, accuracy=81.7, loss=0.402]\n",
            "Validation: 100%|██████████| 3/3 [00:00<00:00,  8.19batch/s, accuracy=81.1, loss=0.372]\n"
          ]
        },
        {
          "output_type": "stream",
          "name": "stdout",
          "text": [
            "------------------------------\n",
            "Epoch [30/100]\n"
          ]
        },
        {
          "output_type": "stream",
          "name": "stderr",
          "text": [
            "Training: 100%|██████████| 10/10 [00:03<00:00,  3.02batch/s, accuracy=81.6, loss=0.361]\n",
            "Validation: 100%|██████████| 3/3 [00:00<00:00,  8.31batch/s, accuracy=80.6, loss=0.371]\n"
          ]
        },
        {
          "output_type": "stream",
          "name": "stdout",
          "text": [
            "------------------------------\n",
            "Epoch [31/100]\n"
          ]
        },
        {
          "output_type": "stream",
          "name": "stderr",
          "text": [
            "Training: 100%|██████████| 10/10 [00:02<00:00,  4.11batch/s, accuracy=81.3, loss=0.46]\n",
            "Validation: 100%|██████████| 3/3 [00:00<00:00,  8.56batch/s, accuracy=80.6, loss=0.369]\n"
          ]
        },
        {
          "output_type": "stream",
          "name": "stdout",
          "text": [
            "------------------------------\n",
            "Epoch [32/100]\n"
          ]
        },
        {
          "output_type": "stream",
          "name": "stderr",
          "text": [
            "Training: 100%|██████████| 10/10 [00:02<00:00,  4.07batch/s, accuracy=81.2, loss=0.397]\n",
            "Validation: 100%|██████████| 3/3 [00:00<00:00,  8.19batch/s, accuracy=81.8, loss=0.396]\n"
          ]
        },
        {
          "output_type": "stream",
          "name": "stdout",
          "text": [
            "------------------------------\n",
            "Epoch [33/100]\n"
          ]
        },
        {
          "output_type": "stream",
          "name": "stderr",
          "text": [
            "Training: 100%|██████████| 10/10 [00:02<00:00,  4.03batch/s, accuracy=80.9, loss=0.271]\n",
            "Validation: 100%|██████████| 3/3 [00:00<00:00,  8.08batch/s, accuracy=82.3, loss=0.391]\n"
          ]
        },
        {
          "output_type": "stream",
          "name": "stdout",
          "text": [
            "------------------------------\n",
            "Epoch [34/100]\n"
          ]
        },
        {
          "output_type": "stream",
          "name": "stderr",
          "text": [
            "Training: 100%|██████████| 10/10 [00:03<00:00,  2.93batch/s, accuracy=81.3, loss=0.359]\n",
            "Validation: 100%|██████████| 3/3 [00:00<00:00,  8.45batch/s, accuracy=81.6, loss=0.39]\n"
          ]
        },
        {
          "output_type": "stream",
          "name": "stdout",
          "text": [
            "------------------------------\n",
            "Epoch [35/100]\n"
          ]
        },
        {
          "output_type": "stream",
          "name": "stderr",
          "text": [
            "Training: 100%|██████████| 10/10 [00:02<00:00,  4.09batch/s, accuracy=81.8, loss=0.456]\n",
            "Validation: 100%|██████████| 3/3 [00:00<00:00,  8.13batch/s, accuracy=82, loss=0.375]\n"
          ]
        },
        {
          "output_type": "stream",
          "name": "stdout",
          "text": [
            "------------------------------\n",
            "Epoch [36/100]\n"
          ]
        },
        {
          "output_type": "stream",
          "name": "stderr",
          "text": [
            "Training: 100%|██████████| 10/10 [00:02<00:00,  4.14batch/s, accuracy=81.6, loss=0.323]\n",
            "Validation: 100%|██████████| 3/3 [00:00<00:00,  7.84batch/s, accuracy=82.3, loss=0.371]\n"
          ]
        },
        {
          "output_type": "stream",
          "name": "stdout",
          "text": [
            "------------------------------\n",
            "Epoch [37/100]\n"
          ]
        },
        {
          "output_type": "stream",
          "name": "stderr",
          "text": [
            "Training: 100%|██████████| 10/10 [00:02<00:00,  4.08batch/s, accuracy=81.3, loss=0.352]\n",
            "Validation: 100%|██████████| 3/3 [00:00<00:00,  8.20batch/s, accuracy=78.8, loss=0.381]\n"
          ]
        },
        {
          "output_type": "stream",
          "name": "stdout",
          "text": [
            "------------------------------\n",
            "Epoch [38/100]\n"
          ]
        },
        {
          "output_type": "stream",
          "name": "stderr",
          "text": [
            "Training: 100%|██████████| 10/10 [00:03<00:00,  3.21batch/s, accuracy=81.2, loss=0.392]\n",
            "Validation: 100%|██████████| 3/3 [00:00<00:00,  5.39batch/s, accuracy=81.6, loss=0.336]\n"
          ]
        },
        {
          "output_type": "stream",
          "name": "stdout",
          "text": [
            "------------------------------\n",
            "Epoch [39/100]\n"
          ]
        },
        {
          "output_type": "stream",
          "name": "stderr",
          "text": [
            "Training: 100%|██████████| 10/10 [00:02<00:00,  3.96batch/s, accuracy=81.9, loss=0.351]\n",
            "Validation: 100%|██████████| 3/3 [00:00<00:00,  8.15batch/s, accuracy=79.8, loss=0.331]\n"
          ]
        },
        {
          "output_type": "stream",
          "name": "stdout",
          "text": [
            "------------------------------\n",
            "Epoch [40/100]\n"
          ]
        },
        {
          "output_type": "stream",
          "name": "stderr",
          "text": [
            "Training: 100%|██████████| 10/10 [00:02<00:00,  4.05batch/s, accuracy=82, loss=0.383]\n",
            "Validation: 100%|██████████| 3/3 [00:00<00:00,  8.35batch/s, accuracy=82.6, loss=0.362]\n"
          ]
        },
        {
          "output_type": "stream",
          "name": "stdout",
          "text": [
            "------------------------------\n",
            "Epoch [41/100]\n"
          ]
        },
        {
          "output_type": "stream",
          "name": "stderr",
          "text": [
            "Training: 100%|██████████| 10/10 [00:02<00:00,  4.01batch/s, accuracy=81.4, loss=0.402]\n",
            "Validation: 100%|██████████| 3/3 [00:00<00:00,  7.83batch/s, accuracy=81.3, loss=0.343]\n"
          ]
        },
        {
          "output_type": "stream",
          "name": "stdout",
          "text": [
            "------------------------------\n",
            "Epoch [42/100]\n"
          ]
        },
        {
          "output_type": "stream",
          "name": "stderr",
          "text": [
            "Training: 100%|██████████| 10/10 [00:02<00:00,  3.40batch/s, accuracy=82.3, loss=0.248]\n",
            "Validation: 100%|██████████| 3/3 [00:00<00:00,  5.66batch/s, accuracy=81.8, loss=0.344]\n"
          ]
        },
        {
          "output_type": "stream",
          "name": "stdout",
          "text": [
            "------------------------------\n",
            "Epoch [43/100]\n"
          ]
        },
        {
          "output_type": "stream",
          "name": "stderr",
          "text": [
            "Training: 100%|██████████| 10/10 [00:02<00:00,  3.74batch/s, accuracy=81.1, loss=0.359]\n",
            "Validation: 100%|██████████| 3/3 [00:00<00:00,  8.35batch/s, accuracy=80.8, loss=0.33]\n"
          ]
        },
        {
          "output_type": "stream",
          "name": "stdout",
          "text": [
            "------------------------------\n",
            "Epoch [44/100]\n"
          ]
        },
        {
          "output_type": "stream",
          "name": "stderr",
          "text": [
            "Training: 100%|██████████| 10/10 [00:02<00:00,  4.08batch/s, accuracy=81.7, loss=0.27]\n",
            "Validation: 100%|██████████| 3/3 [00:00<00:00,  8.51batch/s, accuracy=81.1, loss=0.348]\n"
          ]
        },
        {
          "output_type": "stream",
          "name": "stdout",
          "text": [
            "------------------------------\n",
            "Epoch [45/100]\n"
          ]
        },
        {
          "output_type": "stream",
          "name": "stderr",
          "text": [
            "Training: 100%|██████████| 10/10 [00:02<00:00,  4.04batch/s, accuracy=82, loss=0.328]\n",
            "Validation: 100%|██████████| 3/3 [00:00<00:00,  8.34batch/s, accuracy=83.3, loss=0.33]\n"
          ]
        },
        {
          "output_type": "stream",
          "name": "stdout",
          "text": [
            "------------------------------\n",
            "Epoch [46/100]\n"
          ]
        },
        {
          "output_type": "stream",
          "name": "stderr",
          "text": [
            "Training: 100%|██████████| 10/10 [00:02<00:00,  3.69batch/s, accuracy=82.8, loss=0.451]\n",
            "Validation: 100%|██████████| 3/3 [00:00<00:00,  6.32batch/s, accuracy=83.8, loss=0.344]\n"
          ]
        },
        {
          "output_type": "stream",
          "name": "stdout",
          "text": [
            "------------------------------\n",
            "Epoch [47/100]\n"
          ]
        },
        {
          "output_type": "stream",
          "name": "stderr",
          "text": [
            "Training: 100%|██████████| 10/10 [00:02<00:00,  3.40batch/s, accuracy=81.9, loss=0.38]\n",
            "Validation: 100%|██████████| 3/3 [00:00<00:00,  8.32batch/s, accuracy=82.6, loss=0.357]\n"
          ]
        },
        {
          "output_type": "stream",
          "name": "stdout",
          "text": [
            "------------------------------\n",
            "Epoch [48/100]\n"
          ]
        },
        {
          "output_type": "stream",
          "name": "stderr",
          "text": [
            "Training: 100%|██████████| 10/10 [00:02<00:00,  4.04batch/s, accuracy=81.1, loss=0.371]\n",
            "Validation: 100%|██████████| 3/3 [00:00<00:00,  8.19batch/s, accuracy=80, loss=0.352]\n"
          ]
        },
        {
          "output_type": "stream",
          "name": "stdout",
          "text": [
            "------------------------------\n",
            "Epoch [49/100]\n"
          ]
        },
        {
          "output_type": "stream",
          "name": "stderr",
          "text": [
            "Training: 100%|██████████| 10/10 [00:02<00:00,  3.98batch/s, accuracy=81.4, loss=0.529]\n",
            "Validation: 100%|██████████| 3/3 [00:00<00:00,  8.11batch/s, accuracy=82.5, loss=0.351]\n"
          ]
        },
        {
          "output_type": "stream",
          "name": "stdout",
          "text": [
            "------------------------------\n",
            "Epoch [50/100]\n"
          ]
        },
        {
          "output_type": "stream",
          "name": "stderr",
          "text": [
            "Training: 100%|██████████| 10/10 [00:02<00:00,  4.04batch/s, accuracy=82.3, loss=0.364]\n",
            "Validation: 100%|██████████| 3/3 [00:00<00:00,  6.30batch/s, accuracy=82.8, loss=0.342]\n"
          ]
        },
        {
          "output_type": "stream",
          "name": "stdout",
          "text": [
            "------------------------------\n",
            "Epoch [51/100]\n"
          ]
        },
        {
          "output_type": "stream",
          "name": "stderr",
          "text": [
            "Training: 100%|██████████| 10/10 [00:03<00:00,  3.15batch/s, accuracy=82.3, loss=0.458]\n",
            "Validation: 100%|██████████| 3/3 [00:00<00:00,  8.09batch/s, accuracy=82.3, loss=0.344]\n"
          ]
        },
        {
          "output_type": "stream",
          "name": "stdout",
          "text": [
            "------------------------------\n",
            "Epoch [52/100]\n"
          ]
        },
        {
          "output_type": "stream",
          "name": "stderr",
          "text": [
            "Training: 100%|██████████| 10/10 [00:02<00:00,  4.08batch/s, accuracy=82.5, loss=0.27]\n",
            "Validation: 100%|██████████| 3/3 [00:00<00:00,  8.03batch/s, accuracy=82.6, loss=0.336]\n"
          ]
        },
        {
          "output_type": "stream",
          "name": "stdout",
          "text": [
            "------------------------------\n",
            "Epoch [53/100]\n"
          ]
        },
        {
          "output_type": "stream",
          "name": "stderr",
          "text": [
            "Training: 100%|██████████| 10/10 [00:02<00:00,  4.05batch/s, accuracy=81.9, loss=0.398]\n",
            "Validation: 100%|██████████| 3/3 [00:00<00:00,  8.15batch/s, accuracy=81.5, loss=0.334]\n"
          ]
        },
        {
          "output_type": "stream",
          "name": "stdout",
          "text": [
            "------------------------------\n",
            "Epoch [54/100]\n"
          ]
        },
        {
          "output_type": "stream",
          "name": "stderr",
          "text": [
            "Training: 100%|██████████| 10/10 [00:02<00:00,  4.01batch/s, accuracy=82.1, loss=0.384]\n",
            "Validation: 100%|██████████| 3/3 [00:00<00:00,  8.26batch/s, accuracy=81.3, loss=0.337]\n"
          ]
        },
        {
          "output_type": "stream",
          "name": "stdout",
          "text": [
            "------------------------------\n",
            "Epoch [55/100]\n"
          ]
        },
        {
          "output_type": "stream",
          "name": "stderr",
          "text": [
            "Training: 100%|██████████| 10/10 [00:03<00:00,  3.09batch/s, accuracy=81.9, loss=0.399]\n",
            "Validation: 100%|██████████| 3/3 [00:00<00:00,  8.47batch/s, accuracy=82.8, loss=0.353]\n"
          ]
        },
        {
          "output_type": "stream",
          "name": "stdout",
          "text": [
            "------------------------------\n",
            "Epoch [56/100]\n"
          ]
        },
        {
          "output_type": "stream",
          "name": "stderr",
          "text": [
            "Training: 100%|██████████| 10/10 [00:02<00:00,  4.07batch/s, accuracy=82, loss=0.354]\n",
            "Validation: 100%|██████████| 3/3 [00:00<00:00,  8.06batch/s, accuracy=82.8, loss=0.334]\n"
          ]
        },
        {
          "output_type": "stream",
          "name": "stdout",
          "text": [
            "------------------------------\n",
            "Epoch [57/100]\n"
          ]
        },
        {
          "output_type": "stream",
          "name": "stderr",
          "text": [
            "Training: 100%|██████████| 10/10 [00:02<00:00,  4.12batch/s, accuracy=82.6, loss=0.384]\n",
            "Validation: 100%|██████████| 3/3 [00:00<00:00,  7.91batch/s, accuracy=81.3, loss=0.325]\n"
          ]
        },
        {
          "output_type": "stream",
          "name": "stdout",
          "text": [
            "------------------------------\n",
            "Epoch [58/100]\n"
          ]
        },
        {
          "output_type": "stream",
          "name": "stderr",
          "text": [
            "Training: 100%|██████████| 10/10 [00:02<00:00,  4.09batch/s, accuracy=82.1, loss=0.309]\n",
            "Validation: 100%|██████████| 3/3 [00:00<00:00,  8.26batch/s, accuracy=82.8, loss=0.322]\n"
          ]
        },
        {
          "output_type": "stream",
          "name": "stdout",
          "text": [
            "------------------------------\n",
            "Epoch [59/100]\n"
          ]
        },
        {
          "output_type": "stream",
          "name": "stderr",
          "text": [
            "Training: 100%|██████████| 10/10 [00:03<00:00,  3.01batch/s, accuracy=82, loss=0.359]\n",
            "Validation: 100%|██████████| 3/3 [00:00<00:00,  8.43batch/s, accuracy=81.8, loss=0.341]\n"
          ]
        },
        {
          "output_type": "stream",
          "name": "stdout",
          "text": [
            "------------------------------\n",
            "Epoch [60/100]\n"
          ]
        },
        {
          "output_type": "stream",
          "name": "stderr",
          "text": [
            "Training: 100%|██████████| 10/10 [00:02<00:00,  4.00batch/s, accuracy=81.6, loss=0.391]\n",
            "Validation: 100%|██████████| 3/3 [00:00<00:00,  7.87batch/s, accuracy=83.3, loss=0.345]\n"
          ]
        },
        {
          "output_type": "stream",
          "name": "stdout",
          "text": [
            "------------------------------\n",
            "Epoch [61/100]\n"
          ]
        },
        {
          "output_type": "stream",
          "name": "stderr",
          "text": [
            "Training: 100%|██████████| 10/10 [00:02<00:00,  3.96batch/s, accuracy=81.8, loss=0.345]\n",
            "Validation: 100%|██████████| 3/3 [00:00<00:00,  8.11batch/s, accuracy=83, loss=0.348]\n"
          ]
        },
        {
          "output_type": "stream",
          "name": "stdout",
          "text": [
            "------------------------------\n",
            "Epoch [62/100]\n"
          ]
        },
        {
          "output_type": "stream",
          "name": "stderr",
          "text": [
            "Training: 100%|██████████| 10/10 [00:02<00:00,  4.02batch/s, accuracy=82.9, loss=0.338]\n",
            "Validation: 100%|██████████| 3/3 [00:00<00:00,  7.98batch/s, accuracy=82.1, loss=0.333]\n"
          ]
        },
        {
          "output_type": "stream",
          "name": "stdout",
          "text": [
            "------------------------------\n",
            "Epoch [63/100]\n"
          ]
        },
        {
          "output_type": "stream",
          "name": "stderr",
          "text": [
            "Training: 100%|██████████| 10/10 [00:03<00:00,  3.19batch/s, accuracy=82.7, loss=0.439]\n",
            "Validation: 100%|██████████| 3/3 [00:00<00:00,  5.74batch/s, accuracy=82.5, loss=0.311]\n"
          ]
        },
        {
          "output_type": "stream",
          "name": "stdout",
          "text": [
            "------------------------------\n",
            "Epoch [64/100]\n"
          ]
        },
        {
          "output_type": "stream",
          "name": "stderr",
          "text": [
            "Training: 100%|██████████| 10/10 [00:02<00:00,  3.88batch/s, accuracy=83.1, loss=0.43]\n",
            "Validation: 100%|██████████| 3/3 [00:00<00:00,  8.11batch/s, accuracy=82, loss=0.334]\n"
          ]
        },
        {
          "output_type": "stream",
          "name": "stdout",
          "text": [
            "------------------------------\n",
            "Epoch [65/100]\n"
          ]
        },
        {
          "output_type": "stream",
          "name": "stderr",
          "text": [
            "Training: 100%|██████████| 10/10 [00:02<00:00,  3.95batch/s, accuracy=82.5, loss=0.392]\n",
            "Validation: 100%|██████████| 3/3 [00:00<00:00,  8.08batch/s, accuracy=81.5, loss=0.325]\n"
          ]
        },
        {
          "output_type": "stream",
          "name": "stdout",
          "text": [
            "------------------------------\n",
            "Epoch [66/100]\n"
          ]
        },
        {
          "output_type": "stream",
          "name": "stderr",
          "text": [
            "Training: 100%|██████████| 10/10 [00:02<00:00,  4.03batch/s, accuracy=82.6, loss=0.364]\n",
            "Validation: 100%|██████████| 3/3 [00:00<00:00,  8.41batch/s, accuracy=81.5, loss=0.335]\n"
          ]
        },
        {
          "output_type": "stream",
          "name": "stdout",
          "text": [
            "------------------------------\n",
            "Epoch [67/100]\n"
          ]
        },
        {
          "output_type": "stream",
          "name": "stderr",
          "text": [
            "Training: 100%|██████████| 10/10 [00:03<00:00,  3.26batch/s, accuracy=82.3, loss=0.438]\n",
            "Validation: 100%|██████████| 3/3 [00:00<00:00,  5.23batch/s, accuracy=82.6, loss=0.315]\n"
          ]
        },
        {
          "output_type": "stream",
          "name": "stdout",
          "text": [
            "------------------------------\n",
            "Epoch [68/100]\n"
          ]
        },
        {
          "output_type": "stream",
          "name": "stderr",
          "text": [
            "Training: 100%|██████████| 10/10 [00:02<00:00,  3.71batch/s, accuracy=82.8, loss=0.279]\n",
            "Validation: 100%|██████████| 3/3 [00:00<00:00,  7.73batch/s, accuracy=82.1, loss=0.337]\n"
          ]
        },
        {
          "output_type": "stream",
          "name": "stdout",
          "text": [
            "------------------------------\n",
            "Epoch [69/100]\n"
          ]
        },
        {
          "output_type": "stream",
          "name": "stderr",
          "text": [
            "Training: 100%|██████████| 10/10 [00:02<00:00,  3.91batch/s, accuracy=81.4, loss=0.335]\n",
            "Validation: 100%|██████████| 3/3 [00:00<00:00,  8.23batch/s, accuracy=83.6, loss=0.327]\n"
          ]
        },
        {
          "output_type": "stream",
          "name": "stdout",
          "text": [
            "------------------------------\n",
            "Epoch [70/100]\n"
          ]
        },
        {
          "output_type": "stream",
          "name": "stderr",
          "text": [
            "Training: 100%|██████████| 10/10 [00:02<00:00,  3.98batch/s, accuracy=82.2, loss=0.385]\n",
            "Validation: 100%|██████████| 3/3 [00:00<00:00,  7.84batch/s, accuracy=82.1, loss=0.329]\n"
          ]
        },
        {
          "output_type": "stream",
          "name": "stdout",
          "text": [
            "------------------------------\n",
            "Epoch [71/100]\n"
          ]
        },
        {
          "output_type": "stream",
          "name": "stderr",
          "text": [
            "Training: 100%|██████████| 10/10 [00:03<00:00,  3.31batch/s, accuracy=83.7, loss=0.348]\n",
            "Validation: 100%|██████████| 3/3 [00:00<00:00,  5.73batch/s, accuracy=82.1, loss=0.318]\n"
          ]
        },
        {
          "output_type": "stream",
          "name": "stdout",
          "text": [
            "------------------------------\n",
            "Epoch [72/100]\n"
          ]
        },
        {
          "output_type": "stream",
          "name": "stderr",
          "text": [
            "Training: 100%|██████████| 10/10 [00:02<00:00,  3.79batch/s, accuracy=82.9, loss=0.263]\n",
            "Validation: 100%|██████████| 3/3 [00:00<00:00,  8.38batch/s, accuracy=83.6, loss=0.332]\n"
          ]
        },
        {
          "output_type": "stream",
          "name": "stdout",
          "text": [
            "------------------------------\n",
            "Epoch [73/100]\n"
          ]
        },
        {
          "output_type": "stream",
          "name": "stderr",
          "text": [
            "Training: 100%|██████████| 10/10 [00:02<00:00,  4.05batch/s, accuracy=82.2, loss=0.294]\n",
            "Validation: 100%|██████████| 3/3 [00:00<00:00,  8.15batch/s, accuracy=83.3, loss=0.331]\n"
          ]
        },
        {
          "output_type": "stream",
          "name": "stdout",
          "text": [
            "------------------------------\n",
            "Epoch [74/100]\n"
          ]
        },
        {
          "output_type": "stream",
          "name": "stderr",
          "text": [
            "Training: 100%|██████████| 10/10 [00:02<00:00,  4.14batch/s, accuracy=82.6, loss=0.399]\n",
            "Validation: 100%|██████████| 3/3 [00:00<00:00,  8.16batch/s, accuracy=81.3, loss=0.31]\n"
          ]
        },
        {
          "output_type": "stream",
          "name": "stdout",
          "text": [
            "------------------------------\n",
            "Epoch [75/100]\n"
          ]
        },
        {
          "output_type": "stream",
          "name": "stderr",
          "text": [
            "Training: 100%|██████████| 10/10 [00:02<00:00,  3.74batch/s, accuracy=81.8, loss=0.384]\n",
            "Validation: 100%|██████████| 3/3 [00:00<00:00,  5.89batch/s, accuracy=80.8, loss=0.34]\n"
          ]
        },
        {
          "output_type": "stream",
          "name": "stdout",
          "text": [
            "------------------------------\n",
            "Epoch [76/100]\n"
          ]
        },
        {
          "output_type": "stream",
          "name": "stderr",
          "text": [
            "Training: 100%|██████████| 10/10 [00:02<00:00,  3.42batch/s, accuracy=82.5, loss=0.301]\n",
            "Validation: 100%|██████████| 3/3 [00:00<00:00,  7.93batch/s, accuracy=80, loss=0.341]\n"
          ]
        },
        {
          "output_type": "stream",
          "name": "stdout",
          "text": [
            "------------------------------\n",
            "Epoch [77/100]\n"
          ]
        },
        {
          "output_type": "stream",
          "name": "stderr",
          "text": [
            "Training: 100%|██████████| 10/10 [00:02<00:00,  4.13batch/s, accuracy=83.4, loss=0.316]\n",
            "Validation: 100%|██████████| 3/3 [00:00<00:00,  8.29batch/s, accuracy=82.1, loss=0.325]\n"
          ]
        },
        {
          "output_type": "stream",
          "name": "stdout",
          "text": [
            "------------------------------\n",
            "Epoch [78/100]\n"
          ]
        },
        {
          "output_type": "stream",
          "name": "stderr",
          "text": [
            "Training: 100%|██████████| 10/10 [00:02<00:00,  4.01batch/s, accuracy=83.4, loss=0.361]\n",
            "Validation: 100%|██████████| 3/3 [00:00<00:00,  8.37batch/s, accuracy=83.5, loss=0.334]\n"
          ]
        },
        {
          "output_type": "stream",
          "name": "stdout",
          "text": [
            "------------------------------\n",
            "Epoch [79/100]\n"
          ]
        },
        {
          "output_type": "stream",
          "name": "stderr",
          "text": [
            "Training: 100%|██████████| 10/10 [00:02<00:00,  4.05batch/s, accuracy=82.5, loss=0.316]\n",
            "Validation: 100%|██████████| 3/3 [00:00<00:00,  3.41batch/s, accuracy=81.1, loss=0.332]\n"
          ]
        },
        {
          "output_type": "stream",
          "name": "stdout",
          "text": [
            "------------------------------\n",
            "Epoch [80/100]\n"
          ]
        },
        {
          "output_type": "stream",
          "name": "stderr",
          "text": [
            "Training: 100%|██████████| 10/10 [00:04<00:00,  2.47batch/s, accuracy=83.5, loss=0.274]\n",
            "Validation: 100%|██████████| 3/3 [00:00<00:00,  8.27batch/s, accuracy=81.1, loss=0.322]\n"
          ]
        },
        {
          "output_type": "stream",
          "name": "stdout",
          "text": [
            "------------------------------\n",
            "Epoch [81/100]\n"
          ]
        },
        {
          "output_type": "stream",
          "name": "stderr",
          "text": [
            "Training: 100%|██████████| 10/10 [00:02<00:00,  4.13batch/s, accuracy=82.5, loss=0.437]\n",
            "Validation: 100%|██████████| 3/3 [00:00<00:00,  8.17batch/s, accuracy=82.3, loss=0.317]\n"
          ]
        },
        {
          "output_type": "stream",
          "name": "stdout",
          "text": [
            "------------------------------\n",
            "Epoch [82/100]\n"
          ]
        },
        {
          "output_type": "stream",
          "name": "stderr",
          "text": [
            "Training: 100%|██████████| 10/10 [00:02<00:00,  4.13batch/s, accuracy=81.7, loss=0.339]\n",
            "Validation: 100%|██████████| 3/3 [00:00<00:00,  7.81batch/s, accuracy=82.3, loss=0.338]\n"
          ]
        },
        {
          "output_type": "stream",
          "name": "stdout",
          "text": [
            "------------------------------\n",
            "Epoch [83/100]\n"
          ]
        },
        {
          "output_type": "stream",
          "name": "stderr",
          "text": [
            "Training: 100%|██████████| 10/10 [00:02<00:00,  4.04batch/s, accuracy=81.6, loss=0.434]\n",
            "Validation: 100%|██████████| 3/3 [00:00<00:00,  5.96batch/s, accuracy=82.3, loss=0.316]\n"
          ]
        },
        {
          "output_type": "stream",
          "name": "stdout",
          "text": [
            "------------------------------\n",
            "Epoch [84/100]\n"
          ]
        },
        {
          "output_type": "stream",
          "name": "stderr",
          "text": [
            "Training: 100%|██████████| 10/10 [00:03<00:00,  3.31batch/s, accuracy=82.3, loss=0.407]\n",
            "Validation: 100%|██████████| 3/3 [00:00<00:00,  8.36batch/s, accuracy=82.6, loss=0.308]\n"
          ]
        },
        {
          "output_type": "stream",
          "name": "stdout",
          "text": [
            "------------------------------\n",
            "Epoch [85/100]\n"
          ]
        },
        {
          "output_type": "stream",
          "name": "stderr",
          "text": [
            "Training: 100%|██████████| 10/10 [00:02<00:00,  4.02batch/s, accuracy=82.8, loss=0.482]\n",
            "Validation: 100%|██████████| 3/3 [00:00<00:00,  8.22batch/s, accuracy=81.5, loss=0.314]\n"
          ]
        },
        {
          "output_type": "stream",
          "name": "stdout",
          "text": [
            "------------------------------\n",
            "Epoch [86/100]\n"
          ]
        },
        {
          "output_type": "stream",
          "name": "stderr",
          "text": [
            "Training: 100%|██████████| 10/10 [00:02<00:00,  4.07batch/s, accuracy=83.2, loss=0.311]\n",
            "Validation: 100%|██████████| 3/3 [00:00<00:00,  8.02batch/s, accuracy=80.5, loss=0.324]\n"
          ]
        },
        {
          "output_type": "stream",
          "name": "stdout",
          "text": [
            "------------------------------\n",
            "Epoch [87/100]\n"
          ]
        },
        {
          "output_type": "stream",
          "name": "stderr",
          "text": [
            "Training: 100%|██████████| 10/10 [00:02<00:00,  4.14batch/s, accuracy=82.8, loss=0.335]\n",
            "Validation: 100%|██████████| 3/3 [00:00<00:00,  7.32batch/s, accuracy=81.8, loss=0.306]\n"
          ]
        },
        {
          "output_type": "stream",
          "name": "stdout",
          "text": [
            "------------------------------\n",
            "Epoch [88/100]\n"
          ]
        },
        {
          "output_type": "stream",
          "name": "stderr",
          "text": [
            "Training: 100%|██████████| 10/10 [00:03<00:00,  2.88batch/s, accuracy=84.2, loss=0.357]\n",
            "Validation: 100%|██████████| 3/3 [00:00<00:00,  8.19batch/s, accuracy=82.3, loss=0.308]\n"
          ]
        },
        {
          "output_type": "stream",
          "name": "stdout",
          "text": [
            "------------------------------\n",
            "Epoch [89/100]\n"
          ]
        },
        {
          "output_type": "stream",
          "name": "stderr",
          "text": [
            "Training: 100%|██████████| 10/10 [00:02<00:00,  3.91batch/s, accuracy=82.8, loss=0.374]\n",
            "Validation: 100%|██████████| 3/3 [00:00<00:00,  8.37batch/s, accuracy=83, loss=0.318]\n"
          ]
        },
        {
          "output_type": "stream",
          "name": "stdout",
          "text": [
            "------------------------------\n",
            "Epoch [90/100]\n"
          ]
        },
        {
          "output_type": "stream",
          "name": "stderr",
          "text": [
            "Training: 100%|██████████| 10/10 [00:02<00:00,  4.00batch/s, accuracy=83.1, loss=0.289]\n",
            "Validation: 100%|██████████| 3/3 [00:00<00:00,  8.30batch/s, accuracy=82, loss=0.323]\n"
          ]
        },
        {
          "output_type": "stream",
          "name": "stdout",
          "text": [
            "------------------------------\n",
            "Epoch [91/100]\n"
          ]
        },
        {
          "output_type": "stream",
          "name": "stderr",
          "text": [
            "Training: 100%|██████████| 10/10 [00:02<00:00,  4.06batch/s, accuracy=83.5, loss=0.299]\n",
            "Validation: 100%|██████████| 3/3 [00:00<00:00,  8.12batch/s, accuracy=82.3, loss=0.325]\n"
          ]
        },
        {
          "output_type": "stream",
          "name": "stdout",
          "text": [
            "------------------------------\n",
            "Epoch [92/100]\n"
          ]
        },
        {
          "output_type": "stream",
          "name": "stderr",
          "text": [
            "Training: 100%|██████████| 10/10 [00:03<00:00,  3.04batch/s, accuracy=82.8, loss=0.314]\n",
            "Validation: 100%|██████████| 3/3 [00:00<00:00,  7.91batch/s, accuracy=83.3, loss=0.313]\n"
          ]
        },
        {
          "output_type": "stream",
          "name": "stdout",
          "text": [
            "------------------------------\n",
            "Epoch [93/100]\n"
          ]
        },
        {
          "output_type": "stream",
          "name": "stderr",
          "text": [
            "Training: 100%|██████████| 10/10 [00:02<00:00,  3.87batch/s, accuracy=83.3, loss=0.397]\n",
            "Validation: 100%|██████████| 3/3 [00:00<00:00,  7.97batch/s, accuracy=83, loss=0.31]\n"
          ]
        },
        {
          "output_type": "stream",
          "name": "stdout",
          "text": [
            "------------------------------\n",
            "Epoch [94/100]\n"
          ]
        },
        {
          "output_type": "stream",
          "name": "stderr",
          "text": [
            "Training: 100%|██████████| 10/10 [00:02<00:00,  4.10batch/s, accuracy=83.5, loss=0.334]\n",
            "Validation: 100%|██████████| 3/3 [00:00<00:00,  7.91batch/s, accuracy=83.1, loss=0.318]\n"
          ]
        },
        {
          "output_type": "stream",
          "name": "stdout",
          "text": [
            "------------------------------\n",
            "Epoch [95/100]\n"
          ]
        },
        {
          "output_type": "stream",
          "name": "stderr",
          "text": [
            "Training: 100%|██████████| 10/10 [00:02<00:00,  4.13batch/s, accuracy=84, loss=0.255]\n",
            "Validation: 100%|██████████| 3/3 [00:00<00:00,  8.26batch/s, accuracy=81.8, loss=0.313]\n"
          ]
        },
        {
          "output_type": "stream",
          "name": "stdout",
          "text": [
            "------------------------------\n",
            "Epoch [96/100]\n"
          ]
        },
        {
          "output_type": "stream",
          "name": "stderr",
          "text": [
            "Training: 100%|██████████| 10/10 [00:03<00:00,  3.09batch/s, accuracy=83.6, loss=0.38]\n",
            "Validation: 100%|██████████| 3/3 [00:00<00:00,  6.45batch/s, accuracy=82.3, loss=0.297]\n"
          ]
        },
        {
          "output_type": "stream",
          "name": "stdout",
          "text": [
            "------------------------------\n",
            "Epoch [97/100]\n"
          ]
        },
        {
          "output_type": "stream",
          "name": "stderr",
          "text": [
            "Training: 100%|██████████| 10/10 [00:02<00:00,  4.03batch/s, accuracy=83.3, loss=0.355]\n",
            "Validation: 100%|██████████| 3/3 [00:00<00:00,  8.45batch/s, accuracy=82.6, loss=0.287]\n"
          ]
        },
        {
          "output_type": "stream",
          "name": "stdout",
          "text": [
            "------------------------------\n",
            "Epoch [98/100]\n"
          ]
        },
        {
          "output_type": "stream",
          "name": "stderr",
          "text": [
            "Training: 100%|██████████| 10/10 [00:02<00:00,  4.09batch/s, accuracy=84.2, loss=0.349]\n",
            "Validation: 100%|██████████| 3/3 [00:00<00:00,  7.68batch/s, accuracy=83.1, loss=0.295]\n"
          ]
        },
        {
          "output_type": "stream",
          "name": "stdout",
          "text": [
            "------------------------------\n",
            "Epoch [99/100]\n"
          ]
        },
        {
          "output_type": "stream",
          "name": "stderr",
          "text": [
            "Training: 100%|██████████| 10/10 [00:02<00:00,  4.07batch/s, accuracy=83.6, loss=0.34]\n",
            "Validation: 100%|██████████| 3/3 [00:00<00:00,  7.74batch/s, accuracy=82, loss=0.319]\n"
          ]
        },
        {
          "output_type": "stream",
          "name": "stdout",
          "text": [
            "------------------------------\n",
            "Epoch [100/100]\n"
          ]
        },
        {
          "output_type": "stream",
          "name": "stderr",
          "text": [
            "Training: 100%|██████████| 10/10 [00:02<00:00,  3.42batch/s, accuracy=83.6, loss=0.398]\n",
            "Validation: 100%|██████████| 3/3 [00:00<00:00,  5.50batch/s, accuracy=81.8, loss=0.315]"
          ]
        },
        {
          "output_type": "stream",
          "name": "stdout",
          "text": [
            "------------------------------\n"
          ]
        },
        {
          "output_type": "stream",
          "name": "stderr",
          "text": [
            "\n"
          ]
        }
      ],
      "source": [
        "train_accuracies, train_losses, val_accuracy, val_losses = train_model(model, optimizer, criterion,\n",
        "                                                                       train_dataloader, test_dataloader, dataset, num_epochs=num_epochs, device=device)"
      ]
    },
    {
      "cell_type": "code",
      "execution_count": 47,
      "metadata": {
        "colab": {
          "base_uri": "https://localhost:8080/",
          "height": 977
        },
        "id": "hAEAL5q0Ennw",
        "outputId": "f6c721a2-2efa-4316-9400-2413e0bd22cf"
      },
      "outputs": [
        {
          "output_type": "display_data",
          "data": {
            "text/plain": [
              "<Figure size 1000x500 with 1 Axes>"
            ],
            "image/png": "[encoded data removed]"
          },
          "metadata": {}
        },
        {
          "output_type": "display_data",
          "data": {
            "text/plain": [
              "<Figure size 1000x500 with 1 Axes>"
            ],
            "image/png": "[encoded data removed]"
          },
          "metadata": {}
        }
      ],
      "source": [
        "plot_metric('Accuracy', train_accuracies, val_accuracy, epochs=num_epochs)\n",
        "plot_metric('Loss', train_losses, val_losses, epochs=num_epochs)"
      ]
    },
    {
      "cell_type": "markdown",
      "source": [
        "## Model2"
      ],
      "metadata": {
        "id": "NldwIZ6nmA9-"
      }
    },
    {
      "cell_type": "code",
      "execution_count": 50,
      "metadata": {
        "id": "Q__ecpmlEnnw"
      },
      "outputs": [],
      "source": [
        "class conv_block(nn.Module):\n",
        "  def __init__(self, in_channels, out_channels, **kwargs):\n",
        "    super(conv_block, self).__init__()\n",
        "    self.relu = nn.ReLU()\n",
        "    self.conv = nn.Conv2d(in_channels, out_channels, **kwargs)\n",
        "    self.batchnorm = nn.BatchNorm2d(out_channels)\n",
        "\n",
        "  def forward(self, x):\n",
        "    return self.relu(self.batchnorm(self.conv(x)))"
      ]
    },
    {
      "cell_type": "code",
      "execution_count": 51,
      "metadata": {
        "id": "3Z7AiwaYEnnw"
      },
      "outputs": [],
      "source": [
        "class ImprovedSkinCancerCNN(nn.Module):\n",
        "    def __init__(self):\n",
        "        super(ImprovedSkinCancerCNN, self).__init__()\n",
        "\n",
        "        self.conv1 = conv_block(in_channels=3, out_channels=64, kernel_size=3, padding=1, stride=1)\n",
        "        self.pool1 = nn.MaxPool2d(kernel_size=2, stride=2)\n",
        "        self.dropout1 = nn.Dropout(p=0.15)\n",
        "\n",
        "        self.conv2 = conv_block(in_channels=64, out_channels=128, kernel_size=3, padding=1, stride=1)\n",
        "        self.pool2 = nn.MaxPool2d(kernel_size=2, stride=2)\n",
        "        self.dropout2 = nn.Dropout(p=0.15)\n",
        "\n",
        "        self.conv3 = conv_block(in_channels=128, out_channels=256, kernel_size=3, padding=1, stride=1)\n",
        "        self.pool3 = nn.MaxPool2d(kernel_size=1, stride=2)\n",
        "        self.dropout3 = nn.Dropout(p=0.15)\n",
        "\n",
        "        self.conv4 = conv_block(in_channels=256, out_channels=512, kernel_size=3, padding=1, stride=1)\n",
        "        self.pool4 = nn.MaxPool2d(kernel_size=2, stride=2)\n",
        "        self.dropout4 = nn.Dropout(p=0.15)\n",
        "\n",
        "        self.flatten = nn.Flatten()\n",
        "\n",
        "        self.fc1 = nn.Linear(2 * 2 * 512, 512)\n",
        "        self.fc2 = nn.Linear(512, 64)\n",
        "        self.fc3 = nn.Linear(64, 2)\n",
        "\n",
        "    def forward(self, x):\n",
        "        x = self.conv1(x)\n",
        "        x = self.pool1(x)\n",
        "        x = self.dropout1(x)\n",
        "\n",
        "        x = self.conv2(x)\n",
        "        x = self.pool2(x)\n",
        "        x = self.dropout2(x)\n",
        "\n",
        "        x = self.conv3(x)\n",
        "        x = self.pool3(x)\n",
        "        x = self.dropout3(x)\n",
        "\n",
        "        x = self.conv4(x)\n",
        "        x = self.pool4(x)\n",
        "        x = self.dropout4(x)\n",
        "\n",
        "        x = self.flatten(x)\n",
        "\n",
        "        x = F.relu(self.fc1(x))\n",
        "        x = F.relu(self.fc2(x))\n",
        "        x = self.fc3(x)\n",
        "        return x"
      ]
    },
    {
      "cell_type": "code",
      "execution_count": 52,
      "metadata": {
        "colab": {
          "base_uri": "https://localhost:8080/"
        },
        "id": "5pV2C3MoEnnw",
        "outputId": "c85f5f2d-4672-4c26-dd00-4dc68a70a385"
      },
      "outputs": [
        {
          "output_type": "stream",
          "name": "stdout",
          "text": [
            "Epoch [1/100]\n"
          ]
        },
        {
          "output_type": "stream",
          "name": "stderr",
          "text": [
            "Training: 100%|██████████| 10/10 [00:02<00:00,  3.47batch/s, accuracy=71.7, loss=0.518]\n",
            "Validation: 100%|██████████| 3/3 [00:00<00:00,  7.69batch/s, accuracy=61.6, loss=0.681]\n"
          ]
        },
        {
          "output_type": "stream",
          "name": "stdout",
          "text": [
            "------------------------------\n",
            "Epoch [2/100]\n"
          ]
        },
        {
          "output_type": "stream",
          "name": "stderr",
          "text": [
            "Training: 100%|██████████| 10/10 [00:02<00:00,  3.65batch/s, accuracy=79.6, loss=0.431]\n",
            "Validation: 100%|██████████| 3/3 [00:00<00:00,  7.97batch/s, accuracy=64.3, loss=0.618]\n"
          ]
        },
        {
          "output_type": "stream",
          "name": "stdout",
          "text": [
            "------------------------------\n",
            "Epoch [3/100]\n"
          ]
        },
        {
          "output_type": "stream",
          "name": "stderr",
          "text": [
            "Training: 100%|██████████| 10/10 [00:03<00:00,  2.56batch/s, accuracy=81.1, loss=0.343]\n",
            "Validation: 100%|██████████| 3/3 [00:01<00:00,  2.14batch/s, accuracy=77.1, loss=0.445]\n"
          ]
        },
        {
          "output_type": "stream",
          "name": "stdout",
          "text": [
            "------------------------------\n",
            "Epoch [4/100]\n"
          ]
        },
        {
          "output_type": "stream",
          "name": "stderr",
          "text": [
            "Training: 100%|██████████| 10/10 [00:05<00:00,  1.76batch/s, accuracy=82.1, loss=0.469]\n",
            "Validation: 100%|██████████| 3/3 [00:00<00:00,  3.79batch/s, accuracy=70.3, loss=0.714]\n"
          ]
        },
        {
          "output_type": "stream",
          "name": "stdout",
          "text": [
            "------------------------------\n",
            "Epoch [5/100]\n"
          ]
        },
        {
          "output_type": "stream",
          "name": "stderr",
          "text": [
            "Training: 100%|██████████| 10/10 [00:04<00:00,  2.23batch/s, accuracy=82.1, loss=0.449]\n",
            "Validation: 100%|██████████| 3/3 [00:00<00:00,  5.35batch/s, accuracy=81, loss=0.336]\n"
          ]
        },
        {
          "output_type": "stream",
          "name": "stdout",
          "text": [
            "------------------------------\n",
            "Epoch [6/100]\n"
          ]
        },
        {
          "output_type": "stream",
          "name": "stderr",
          "text": [
            "Training: 100%|██████████| 10/10 [00:04<00:00,  2.10batch/s, accuracy=82.7, loss=0.376]\n",
            "Validation: 100%|██████████| 3/3 [00:00<00:00,  6.49batch/s, accuracy=83.5, loss=0.321]\n"
          ]
        },
        {
          "output_type": "stream",
          "name": "stdout",
          "text": [
            "------------------------------\n",
            "Epoch [7/100]\n"
          ]
        },
        {
          "output_type": "stream",
          "name": "stderr",
          "text": [
            "Training: 100%|██████████| 10/10 [00:03<00:00,  2.90batch/s, accuracy=81.9, loss=0.384]\n",
            "Validation: 100%|██████████| 3/3 [00:00<00:00,  8.05batch/s, accuracy=83.3, loss=0.315]\n"
          ]
        },
        {
          "output_type": "stream",
          "name": "stdout",
          "text": [
            "------------------------------\n",
            "Epoch [8/100]\n"
          ]
        },
        {
          "output_type": "stream",
          "name": "stderr",
          "text": [
            "Training: 100%|██████████| 10/10 [00:02<00:00,  3.77batch/s, accuracy=83, loss=0.348]\n",
            "Validation: 100%|██████████| 3/3 [00:00<00:00,  8.21batch/s, accuracy=82.5, loss=0.307]\n"
          ]
        },
        {
          "output_type": "stream",
          "name": "stdout",
          "text": [
            "------------------------------\n",
            "Epoch [9/100]\n"
          ]
        },
        {
          "output_type": "stream",
          "name": "stderr",
          "text": [
            "Training: 100%|██████████| 10/10 [00:03<00:00,  3.02batch/s, accuracy=83.6, loss=0.333]\n",
            "Validation: 100%|██████████| 3/3 [00:00<00:00,  6.13batch/s, accuracy=83.3, loss=0.316]\n"
          ]
        },
        {
          "output_type": "stream",
          "name": "stdout",
          "text": [
            "------------------------------\n",
            "Epoch [10/100]\n"
          ]
        },
        {
          "output_type": "stream",
          "name": "stderr",
          "text": [
            "Training: 100%|██████████| 10/10 [00:02<00:00,  3.55batch/s, accuracy=83, loss=0.485]\n",
            "Validation: 100%|██████████| 3/3 [00:00<00:00,  8.08batch/s, accuracy=80.6, loss=0.333]\n"
          ]
        },
        {
          "output_type": "stream",
          "name": "stdout",
          "text": [
            "------------------------------\n",
            "Epoch [11/100]\n"
          ]
        },
        {
          "output_type": "stream",
          "name": "stderr",
          "text": [
            "Training: 100%|██████████| 10/10 [00:02<00:00,  3.82batch/s, accuracy=83.7, loss=0.332]\n",
            "Validation: 100%|██████████| 3/3 [00:00<00:00,  7.64batch/s, accuracy=84.1, loss=0.289]\n"
          ]
        },
        {
          "output_type": "stream",
          "name": "stdout",
          "text": [
            "------------------------------\n",
            "Epoch [12/100]\n"
          ]
        },
        {
          "output_type": "stream",
          "name": "stderr",
          "text": [
            "Training: 100%|██████████| 10/10 [00:02<00:00,  3.78batch/s, accuracy=84.1, loss=0.398]\n",
            "Validation: 100%|██████████| 3/3 [00:00<00:00,  7.70batch/s, accuracy=82.3, loss=0.29]\n"
          ]
        },
        {
          "output_type": "stream",
          "name": "stdout",
          "text": [
            "------------------------------\n",
            "Epoch [13/100]\n"
          ]
        },
        {
          "output_type": "stream",
          "name": "stderr",
          "text": [
            "Training: 100%|██████████| 10/10 [00:03<00:00,  2.83batch/s, accuracy=84, loss=0.373]\n",
            "Validation: 100%|██████████| 3/3 [00:00<00:00,  7.99batch/s, accuracy=82.1, loss=0.286]\n"
          ]
        },
        {
          "output_type": "stream",
          "name": "stdout",
          "text": [
            "------------------------------\n",
            "Epoch [14/100]\n"
          ]
        },
        {
          "output_type": "stream",
          "name": "stderr",
          "text": [
            "Training: 100%|██████████| 10/10 [00:02<00:00,  3.77batch/s, accuracy=83.5, loss=0.265]\n",
            "Validation: 100%|██████████| 3/3 [00:00<00:00,  8.16batch/s, accuracy=84.1, loss=0.246]\n"
          ]
        },
        {
          "output_type": "stream",
          "name": "stdout",
          "text": [
            "------------------------------\n",
            "Epoch [15/100]\n"
          ]
        },
        {
          "output_type": "stream",
          "name": "stderr",
          "text": [
            "Training: 100%|██████████| 10/10 [00:02<00:00,  3.82batch/s, accuracy=84.5, loss=0.314]\n",
            "Validation: 100%|██████████| 3/3 [00:00<00:00,  8.08batch/s, accuracy=83.3, loss=0.247]\n"
          ]
        },
        {
          "output_type": "stream",
          "name": "stdout",
          "text": [
            "------------------------------\n",
            "Epoch [16/100]\n"
          ]
        },
        {
          "output_type": "stream",
          "name": "stderr",
          "text": [
            "Training: 100%|██████████| 10/10 [00:02<00:00,  3.79batch/s, accuracy=84.8, loss=0.377]\n",
            "Validation: 100%|██████████| 3/3 [00:00<00:00,  8.22batch/s, accuracy=83.6, loss=0.268]\n"
          ]
        },
        {
          "output_type": "stream",
          "name": "stdout",
          "text": [
            "------------------------------\n",
            "Epoch [17/100]\n"
          ]
        },
        {
          "output_type": "stream",
          "name": "stderr",
          "text": [
            "Training: 100%|██████████| 10/10 [00:03<00:00,  2.99batch/s, accuracy=85, loss=0.256]\n",
            "Validation: 100%|██████████| 3/3 [00:00<00:00,  8.20batch/s, accuracy=84, loss=0.264]\n"
          ]
        },
        {
          "output_type": "stream",
          "name": "stdout",
          "text": [
            "------------------------------\n",
            "Epoch [18/100]\n"
          ]
        },
        {
          "output_type": "stream",
          "name": "stderr",
          "text": [
            "Training: 100%|██████████| 10/10 [00:02<00:00,  3.81batch/s, accuracy=85.2, loss=0.311]\n",
            "Validation: 100%|██████████| 3/3 [00:00<00:00,  7.95batch/s, accuracy=86, loss=0.244]\n"
          ]
        },
        {
          "output_type": "stream",
          "name": "stdout",
          "text": [
            "------------------------------\n",
            "Epoch [19/100]\n"
          ]
        },
        {
          "output_type": "stream",
          "name": "stderr",
          "text": [
            "Training: 100%|██████████| 10/10 [00:02<00:00,  3.77batch/s, accuracy=85, loss=0.344]\n",
            "Validation: 100%|██████████| 3/3 [00:00<00:00,  7.68batch/s, accuracy=85, loss=0.236]\n"
          ]
        },
        {
          "output_type": "stream",
          "name": "stdout",
          "text": [
            "------------------------------\n",
            "Epoch [20/100]\n"
          ]
        },
        {
          "output_type": "stream",
          "name": "stderr",
          "text": [
            "Training: 100%|██████████| 10/10 [00:02<00:00,  3.79batch/s, accuracy=84.4, loss=0.427]\n",
            "Validation: 100%|██████████| 3/3 [00:00<00:00,  7.78batch/s, accuracy=82.5, loss=0.284]\n"
          ]
        },
        {
          "output_type": "stream",
          "name": "stdout",
          "text": [
            "------------------------------\n",
            "Epoch [21/100]\n"
          ]
        },
        {
          "output_type": "stream",
          "name": "stderr",
          "text": [
            "Training: 100%|██████████| 10/10 [00:03<00:00,  2.95batch/s, accuracy=85.1, loss=0.26]\n",
            "Validation: 100%|██████████| 3/3 [00:00<00:00,  7.72batch/s, accuracy=83.6, loss=0.286]\n"
          ]
        },
        {
          "output_type": "stream",
          "name": "stdout",
          "text": [
            "------------------------------\n",
            "Epoch [22/100]\n"
          ]
        },
        {
          "output_type": "stream",
          "name": "stderr",
          "text": [
            "Training: 100%|██████████| 10/10 [00:02<00:00,  3.78batch/s, accuracy=85.8, loss=0.334]\n",
            "Validation: 100%|██████████| 3/3 [00:00<00:00,  7.85batch/s, accuracy=85.3, loss=0.256]\n"
          ]
        },
        {
          "output_type": "stream",
          "name": "stdout",
          "text": [
            "------------------------------\n",
            "Epoch [23/100]\n"
          ]
        },
        {
          "output_type": "stream",
          "name": "stderr",
          "text": [
            "Training: 100%|██████████| 10/10 [00:02<00:00,  3.72batch/s, accuracy=85.7, loss=0.335]\n",
            "Validation: 100%|██████████| 3/3 [00:00<00:00,  8.07batch/s, accuracy=84, loss=0.286]\n"
          ]
        },
        {
          "output_type": "stream",
          "name": "stdout",
          "text": [
            "------------------------------\n",
            "Epoch [24/100]\n"
          ]
        },
        {
          "output_type": "stream",
          "name": "stderr",
          "text": [
            "Training: 100%|██████████| 10/10 [00:02<00:00,  3.75batch/s, accuracy=86, loss=0.371]\n",
            "Validation: 100%|██████████| 3/3 [00:00<00:00,  6.38batch/s, accuracy=83.1, loss=0.251]\n"
          ]
        },
        {
          "output_type": "stream",
          "name": "stdout",
          "text": [
            "------------------------------\n",
            "Epoch [25/100]\n"
          ]
        },
        {
          "output_type": "stream",
          "name": "stderr",
          "text": [
            "Training: 100%|██████████| 10/10 [00:03<00:00,  3.07batch/s, accuracy=85.1, loss=0.349]\n",
            "Validation: 100%|██████████| 3/3 [00:00<00:00,  7.86batch/s, accuracy=84.6, loss=0.277]\n"
          ]
        },
        {
          "output_type": "stream",
          "name": "stdout",
          "text": [
            "------------------------------\n",
            "Epoch [26/100]\n"
          ]
        },
        {
          "output_type": "stream",
          "name": "stderr",
          "text": [
            "Training: 100%|██████████| 10/10 [00:02<00:00,  3.80batch/s, accuracy=85.2, loss=0.325]\n",
            "Validation: 100%|██████████| 3/3 [00:00<00:00,  7.74batch/s, accuracy=85.1, loss=0.302]\n"
          ]
        },
        {
          "output_type": "stream",
          "name": "stdout",
          "text": [
            "------------------------------\n",
            "Epoch [27/100]\n"
          ]
        },
        {
          "output_type": "stream",
          "name": "stderr",
          "text": [
            "Training: 100%|██████████| 10/10 [00:02<00:00,  3.86batch/s, accuracy=86.4, loss=0.325]\n",
            "Validation: 100%|██████████| 3/3 [00:00<00:00,  7.64batch/s, accuracy=85.1, loss=0.239]\n"
          ]
        },
        {
          "output_type": "stream",
          "name": "stdout",
          "text": [
            "------------------------------\n",
            "Epoch [28/100]\n"
          ]
        },
        {
          "output_type": "stream",
          "name": "stderr",
          "text": [
            "Training: 100%|██████████| 10/10 [00:02<00:00,  3.73batch/s, accuracy=84.9, loss=0.322]\n",
            "Validation: 100%|██████████| 3/3 [00:00<00:00,  5.74batch/s, accuracy=84.8, loss=0.253]\n"
          ]
        },
        {
          "output_type": "stream",
          "name": "stdout",
          "text": [
            "------------------------------\n",
            "Epoch [29/100]\n"
          ]
        },
        {
          "output_type": "stream",
          "name": "stderr",
          "text": [
            "Training: 100%|██████████| 10/10 [00:03<00:00,  3.13batch/s, accuracy=86.6, loss=0.414]\n",
            "Validation: 100%|██████████| 3/3 [00:00<00:00,  7.87batch/s, accuracy=84.6, loss=0.244]\n"
          ]
        },
        {
          "output_type": "stream",
          "name": "stdout",
          "text": [
            "------------------------------\n",
            "Epoch [30/100]\n"
          ]
        },
        {
          "output_type": "stream",
          "name": "stderr",
          "text": [
            "Training: 100%|██████████| 10/10 [00:02<00:00,  3.70batch/s, accuracy=86.5, loss=0.272]\n",
            "Validation: 100%|██████████| 3/3 [00:00<00:00,  7.83batch/s, accuracy=84, loss=0.254]\n"
          ]
        },
        {
          "output_type": "stream",
          "name": "stdout",
          "text": [
            "------------------------------\n",
            "Epoch [31/100]\n"
          ]
        },
        {
          "output_type": "stream",
          "name": "stderr",
          "text": [
            "Training: 100%|██████████| 10/10 [00:02<00:00,  3.76batch/s, accuracy=85.3, loss=0.28]\n",
            "Validation: 100%|██████████| 3/3 [00:00<00:00,  7.83batch/s, accuracy=84, loss=0.254]\n"
          ]
        },
        {
          "output_type": "stream",
          "name": "stdout",
          "text": [
            "------------------------------\n",
            "Epoch [32/100]\n"
          ]
        },
        {
          "output_type": "stream",
          "name": "stderr",
          "text": [
            "Training: 100%|██████████| 10/10 [00:02<00:00,  3.55batch/s, accuracy=86.5, loss=0.262]\n",
            "Validation: 100%|██████████| 3/3 [00:00<00:00,  6.04batch/s, accuracy=85.1, loss=0.241]\n"
          ]
        },
        {
          "output_type": "stream",
          "name": "stdout",
          "text": [
            "------------------------------\n",
            "Epoch [33/100]\n"
          ]
        },
        {
          "output_type": "stream",
          "name": "stderr",
          "text": [
            "Training: 100%|██████████| 10/10 [00:03<00:00,  3.24batch/s, accuracy=87.7, loss=0.232]\n",
            "Validation: 100%|██████████| 3/3 [00:00<00:00,  7.72batch/s, accuracy=86, loss=0.247]\n"
          ]
        },
        {
          "output_type": "stream",
          "name": "stdout",
          "text": [
            "------------------------------\n",
            "Epoch [34/100]\n"
          ]
        },
        {
          "output_type": "stream",
          "name": "stderr",
          "text": [
            "Training: 100%|██████████| 10/10 [00:02<00:00,  3.77batch/s, accuracy=87.6, loss=0.283]\n",
            "Validation: 100%|██████████| 3/3 [00:00<00:00,  7.83batch/s, accuracy=82.8, loss=0.292]\n"
          ]
        },
        {
          "output_type": "stream",
          "name": "stdout",
          "text": [
            "------------------------------\n",
            "Epoch [35/100]\n"
          ]
        },
        {
          "output_type": "stream",
          "name": "stderr",
          "text": [
            "Training: 100%|██████████| 10/10 [00:02<00:00,  3.88batch/s, accuracy=87, loss=0.235]\n",
            "Validation: 100%|██████████| 3/3 [00:00<00:00,  7.77batch/s, accuracy=85.1, loss=0.282]\n"
          ]
        },
        {
          "output_type": "stream",
          "name": "stdout",
          "text": [
            "------------------------------\n",
            "Epoch [36/100]\n"
          ]
        },
        {
          "output_type": "stream",
          "name": "stderr",
          "text": [
            "Training: 100%|██████████| 10/10 [00:02<00:00,  3.50batch/s, accuracy=86.9, loss=0.229]\n",
            "Validation: 100%|██████████| 3/3 [00:00<00:00,  5.70batch/s, accuracy=85.5, loss=0.243]\n"
          ]
        },
        {
          "output_type": "stream",
          "name": "stdout",
          "text": [
            "------------------------------\n",
            "Epoch [37/100]\n"
          ]
        },
        {
          "output_type": "stream",
          "name": "stderr",
          "text": [
            "Training: 100%|██████████| 10/10 [00:02<00:00,  3.42batch/s, accuracy=87.7, loss=0.358]\n",
            "Validation: 100%|██████████| 3/3 [00:00<00:00,  8.00batch/s, accuracy=84.5, loss=0.238]\n"
          ]
        },
        {
          "output_type": "stream",
          "name": "stdout",
          "text": [
            "------------------------------\n",
            "Epoch [38/100]\n"
          ]
        },
        {
          "output_type": "stream",
          "name": "stderr",
          "text": [
            "Training: 100%|██████████| 10/10 [00:02<00:00,  3.72batch/s, accuracy=87.3, loss=0.172]\n",
            "Validation: 100%|██████████| 3/3 [00:00<00:00,  8.13batch/s, accuracy=86.3, loss=0.239]\n"
          ]
        },
        {
          "output_type": "stream",
          "name": "stdout",
          "text": [
            "------------------------------\n",
            "Epoch [39/100]\n"
          ]
        },
        {
          "output_type": "stream",
          "name": "stderr",
          "text": [
            "Training: 100%|██████████| 10/10 [00:02<00:00,  3.82batch/s, accuracy=87.5, loss=0.349]\n",
            "Validation: 100%|██████████| 3/3 [00:00<00:00,  8.06batch/s, accuracy=85.3, loss=0.241]\n"
          ]
        },
        {
          "output_type": "stream",
          "name": "stdout",
          "text": [
            "------------------------------\n",
            "Epoch [40/100]\n"
          ]
        },
        {
          "output_type": "stream",
          "name": "stderr",
          "text": [
            "Training: 100%|██████████| 10/10 [00:03<00:00,  3.29batch/s, accuracy=88.1, loss=0.245]\n",
            "Validation: 100%|██████████| 3/3 [00:00<00:00,  5.41batch/s, accuracy=85.6, loss=0.277]\n"
          ]
        },
        {
          "output_type": "stream",
          "name": "stdout",
          "text": [
            "------------------------------\n",
            "Epoch [41/100]\n"
          ]
        },
        {
          "output_type": "stream",
          "name": "stderr",
          "text": [
            "Training: 100%|██████████| 10/10 [00:02<00:00,  3.55batch/s, accuracy=88, loss=0.354]\n",
            "Validation: 100%|██████████| 3/3 [00:00<00:00,  8.09batch/s, accuracy=84.3, loss=0.212]\n"
          ]
        },
        {
          "output_type": "stream",
          "name": "stdout",
          "text": [
            "------------------------------\n",
            "Epoch [42/100]\n"
          ]
        },
        {
          "output_type": "stream",
          "name": "stderr",
          "text": [
            "Training: 100%|██████████| 10/10 [00:02<00:00,  3.74batch/s, accuracy=87.6, loss=0.415]\n",
            "Validation: 100%|██████████| 3/3 [00:00<00:00,  7.93batch/s, accuracy=83.5, loss=0.274]\n"
          ]
        },
        {
          "output_type": "stream",
          "name": "stdout",
          "text": [
            "------------------------------\n",
            "Epoch [43/100]\n"
          ]
        },
        {
          "output_type": "stream",
          "name": "stderr",
          "text": [
            "Training: 100%|██████████| 10/10 [00:02<00:00,  3.82batch/s, accuracy=86.6, loss=0.377]\n",
            "Validation: 100%|██████████| 3/3 [00:00<00:00,  7.88batch/s, accuracy=84, loss=0.302]\n"
          ]
        },
        {
          "output_type": "stream",
          "name": "stdout",
          "text": [
            "------------------------------\n",
            "Epoch [44/100]\n"
          ]
        },
        {
          "output_type": "stream",
          "name": "stderr",
          "text": [
            "Training: 100%|██████████| 10/10 [00:03<00:00,  3.17batch/s, accuracy=87, loss=0.192]\n",
            "Validation: 100%|██████████| 3/3 [00:00<00:00,  5.47batch/s, accuracy=84.1, loss=0.239]\n"
          ]
        },
        {
          "output_type": "stream",
          "name": "stdout",
          "text": [
            "------------------------------\n",
            "Epoch [45/100]\n"
          ]
        },
        {
          "output_type": "stream",
          "name": "stderr",
          "text": [
            "Training: 100%|██████████| 10/10 [00:02<00:00,  3.84batch/s, accuracy=86.8, loss=0.3]\n",
            "Validation: 100%|██████████| 3/3 [00:00<00:00,  7.83batch/s, accuracy=85, loss=0.277]\n"
          ]
        },
        {
          "output_type": "stream",
          "name": "stdout",
          "text": [
            "------------------------------\n",
            "Epoch [46/100]\n"
          ]
        },
        {
          "output_type": "stream",
          "name": "stderr",
          "text": [
            "Training: 100%|██████████| 10/10 [00:02<00:00,  3.83batch/s, accuracy=88.8, loss=0.204]\n",
            "Validation: 100%|██████████| 3/3 [00:00<00:00,  8.07batch/s, accuracy=85.6, loss=0.235]\n"
          ]
        },
        {
          "output_type": "stream",
          "name": "stdout",
          "text": [
            "------------------------------\n",
            "Epoch [47/100]\n"
          ]
        },
        {
          "output_type": "stream",
          "name": "stderr",
          "text": [
            "Training: 100%|██████████| 10/10 [00:02<00:00,  3.75batch/s, accuracy=88.9, loss=0.303]\n",
            "Validation: 100%|██████████| 3/3 [00:00<00:00,  8.10batch/s, accuracy=86, loss=0.254]\n"
          ]
        },
        {
          "output_type": "stream",
          "name": "stdout",
          "text": [
            "------------------------------\n",
            "Epoch [48/100]\n"
          ]
        },
        {
          "output_type": "stream",
          "name": "stderr",
          "text": [
            "Training: 100%|██████████| 10/10 [00:03<00:00,  2.95batch/s, accuracy=88.1, loss=0.28]\n",
            "Validation: 100%|██████████| 3/3 [00:00<00:00,  5.83batch/s, accuracy=84.3, loss=0.261]\n"
          ]
        },
        {
          "output_type": "stream",
          "name": "stdout",
          "text": [
            "------------------------------\n",
            "Epoch [49/100]\n"
          ]
        },
        {
          "output_type": "stream",
          "name": "stderr",
          "text": [
            "Training: 100%|██████████| 10/10 [00:02<00:00,  3.84batch/s, accuracy=88, loss=0.233]\n",
            "Validation: 100%|██████████| 3/3 [00:00<00:00,  7.88batch/s, accuracy=85.8, loss=0.291]\n"
          ]
        },
        {
          "output_type": "stream",
          "name": "stdout",
          "text": [
            "------------------------------\n",
            "Epoch [50/100]\n"
          ]
        },
        {
          "output_type": "stream",
          "name": "stderr",
          "text": [
            "Training: 100%|██████████| 10/10 [00:02<00:00,  3.79batch/s, accuracy=88, loss=0.249]\n",
            "Validation: 100%|██████████| 3/3 [00:00<00:00,  7.86batch/s, accuracy=84.5, loss=0.304]\n"
          ]
        },
        {
          "output_type": "stream",
          "name": "stdout",
          "text": [
            "------------------------------\n",
            "Epoch [51/100]\n"
          ]
        },
        {
          "output_type": "stream",
          "name": "stderr",
          "text": [
            "Training: 100%|██████████| 10/10 [00:02<00:00,  3.76batch/s, accuracy=87.8, loss=0.344]\n",
            "Validation: 100%|██████████| 3/3 [00:00<00:00,  7.84batch/s, accuracy=86.1, loss=0.243]\n"
          ]
        },
        {
          "output_type": "stream",
          "name": "stdout",
          "text": [
            "------------------------------\n",
            "Epoch [52/100]\n"
          ]
        },
        {
          "output_type": "stream",
          "name": "stderr",
          "text": [
            "Training: 100%|██████████| 10/10 [00:03<00:00,  2.98batch/s, accuracy=88.8, loss=0.234]\n",
            "Validation: 100%|██████████| 3/3 [00:00<00:00,  6.55batch/s, accuracy=86, loss=0.252]\n"
          ]
        },
        {
          "output_type": "stream",
          "name": "stdout",
          "text": [
            "------------------------------\n",
            "Epoch [53/100]\n"
          ]
        },
        {
          "output_type": "stream",
          "name": "stderr",
          "text": [
            "Training: 100%|██████████| 10/10 [00:02<00:00,  3.80batch/s, accuracy=88.8, loss=0.243]\n",
            "Validation: 100%|██████████| 3/3 [00:00<00:00,  7.85batch/s, accuracy=84, loss=0.272]\n"
          ]
        },
        {
          "output_type": "stream",
          "name": "stdout",
          "text": [
            "------------------------------\n",
            "Epoch [54/100]\n"
          ]
        },
        {
          "output_type": "stream",
          "name": "stderr",
          "text": [
            "Training: 100%|██████████| 10/10 [00:02<00:00,  3.83batch/s, accuracy=88.9, loss=0.295]\n",
            "Validation: 100%|██████████| 3/3 [00:00<00:00,  7.98batch/s, accuracy=84.1, loss=0.274]\n"
          ]
        },
        {
          "output_type": "stream",
          "name": "stdout",
          "text": [
            "------------------------------\n",
            "Epoch [55/100]\n"
          ]
        },
        {
          "output_type": "stream",
          "name": "stderr",
          "text": [
            "Training: 100%|██████████| 10/10 [00:02<00:00,  3.76batch/s, accuracy=89, loss=0.266]\n",
            "Validation: 100%|██████████| 3/3 [00:00<00:00,  7.97batch/s, accuracy=86.1, loss=0.248]\n"
          ]
        },
        {
          "output_type": "stream",
          "name": "stdout",
          "text": [
            "------------------------------\n",
            "Epoch [56/100]\n"
          ]
        },
        {
          "output_type": "stream",
          "name": "stderr",
          "text": [
            "Training: 100%|██████████| 10/10 [00:03<00:00,  2.95batch/s, accuracy=88.9, loss=0.264]\n",
            "Validation: 100%|██████████| 3/3 [00:00<00:00,  7.74batch/s, accuracy=87.1, loss=0.29]\n"
          ]
        },
        {
          "output_type": "stream",
          "name": "stdout",
          "text": [
            "------------------------------\n",
            "Epoch [57/100]\n"
          ]
        },
        {
          "output_type": "stream",
          "name": "stderr",
          "text": [
            "Training: 100%|██████████| 10/10 [00:02<00:00,  3.84batch/s, accuracy=88.1, loss=0.208]\n",
            "Validation: 100%|██████████| 3/3 [00:00<00:00,  7.49batch/s, accuracy=84.1, loss=0.268]\n"
          ]
        },
        {
          "output_type": "stream",
          "name": "stdout",
          "text": [
            "------------------------------\n",
            "Epoch [58/100]\n"
          ]
        },
        {
          "output_type": "stream",
          "name": "stderr",
          "text": [
            "Training: 100%|██████████| 10/10 [00:02<00:00,  3.81batch/s, accuracy=88.5, loss=0.21]\n",
            "Validation: 100%|██████████| 3/3 [00:00<00:00,  7.59batch/s, accuracy=83.6, loss=0.27]\n"
          ]
        },
        {
          "output_type": "stream",
          "name": "stdout",
          "text": [
            "------------------------------\n",
            "Epoch [59/100]\n"
          ]
        },
        {
          "output_type": "stream",
          "name": "stderr",
          "text": [
            "Training: 100%|██████████| 10/10 [00:02<00:00,  3.75batch/s, accuracy=90.3, loss=0.255]\n",
            "Validation: 100%|██████████| 3/3 [00:00<00:00,  7.46batch/s, accuracy=84.8, loss=0.259]\n"
          ]
        },
        {
          "output_type": "stream",
          "name": "stdout",
          "text": [
            "------------------------------\n",
            "Epoch [60/100]\n"
          ]
        },
        {
          "output_type": "stream",
          "name": "stderr",
          "text": [
            "Training: 100%|██████████| 10/10 [00:03<00:00,  2.83batch/s, accuracy=90.6, loss=0.218]\n",
            "Validation: 100%|██████████| 3/3 [00:00<00:00,  7.14batch/s, accuracy=83.8, loss=0.286]\n"
          ]
        },
        {
          "output_type": "stream",
          "name": "stdout",
          "text": [
            "------------------------------\n",
            "Epoch [61/100]\n"
          ]
        },
        {
          "output_type": "stream",
          "name": "stderr",
          "text": [
            "Training: 100%|██████████| 10/10 [00:02<00:00,  3.83batch/s, accuracy=90, loss=0.224]\n",
            "Validation: 100%|██████████| 3/3 [00:00<00:00,  7.54batch/s, accuracy=85, loss=0.281]\n"
          ]
        },
        {
          "output_type": "stream",
          "name": "stdout",
          "text": [
            "------------------------------\n",
            "Epoch [62/100]\n"
          ]
        },
        {
          "output_type": "stream",
          "name": "stderr",
          "text": [
            "Training: 100%|██████████| 10/10 [00:02<00:00,  3.83batch/s, accuracy=88.9, loss=0.229]\n",
            "Validation: 100%|██████████| 3/3 [00:00<00:00,  7.76batch/s, accuracy=84.8, loss=0.273]\n"
          ]
        },
        {
          "output_type": "stream",
          "name": "stdout",
          "text": [
            "------------------------------\n",
            "Epoch [63/100]\n"
          ]
        },
        {
          "output_type": "stream",
          "name": "stderr",
          "text": [
            "Training: 100%|██████████| 10/10 [00:02<00:00,  3.76batch/s, accuracy=89, loss=0.157]\n",
            "Validation: 100%|██████████| 3/3 [00:00<00:00,  8.00batch/s, accuracy=85, loss=0.248]\n"
          ]
        },
        {
          "output_type": "stream",
          "name": "stdout",
          "text": [
            "------------------------------\n",
            "Epoch [64/100]\n"
          ]
        },
        {
          "output_type": "stream",
          "name": "stderr",
          "text": [
            "Training: 100%|██████████| 10/10 [00:03<00:00,  2.90batch/s, accuracy=89.8, loss=0.21]\n",
            "Validation: 100%|██████████| 3/3 [00:00<00:00,  7.94batch/s, accuracy=85.3, loss=0.26]\n"
          ]
        },
        {
          "output_type": "stream",
          "name": "stdout",
          "text": [
            "------------------------------\n",
            "Epoch [65/100]\n"
          ]
        },
        {
          "output_type": "stream",
          "name": "stderr",
          "text": [
            "Training: 100%|██████████| 10/10 [00:02<00:00,  3.79batch/s, accuracy=89.6, loss=0.216]\n",
            "Validation: 100%|██████████| 3/3 [00:00<00:00,  7.73batch/s, accuracy=84.5, loss=0.264]\n"
          ]
        },
        {
          "output_type": "stream",
          "name": "stdout",
          "text": [
            "------------------------------\n",
            "Epoch [66/100]\n"
          ]
        },
        {
          "output_type": "stream",
          "name": "stderr",
          "text": [
            "Training: 100%|██████████| 10/10 [00:02<00:00,  3.73batch/s, accuracy=90.2, loss=0.224]\n",
            "Validation: 100%|██████████| 3/3 [00:00<00:00,  7.86batch/s, accuracy=82.8, loss=0.293]\n"
          ]
        },
        {
          "output_type": "stream",
          "name": "stdout",
          "text": [
            "------------------------------\n",
            "Epoch [67/100]\n"
          ]
        },
        {
          "output_type": "stream",
          "name": "stderr",
          "text": [
            "Training: 100%|██████████| 10/10 [00:02<00:00,  3.77batch/s, accuracy=89.7, loss=0.246]\n",
            "Validation: 100%|██████████| 3/3 [00:00<00:00,  7.97batch/s, accuracy=85.3, loss=0.316]\n"
          ]
        },
        {
          "output_type": "stream",
          "name": "stdout",
          "text": [
            "------------------------------\n",
            "Epoch [68/100]\n"
          ]
        },
        {
          "output_type": "stream",
          "name": "stderr",
          "text": [
            "Training: 100%|██████████| 10/10 [00:03<00:00,  2.92batch/s, accuracy=90.3, loss=0.238]\n",
            "Validation: 100%|██████████| 3/3 [00:00<00:00,  7.68batch/s, accuracy=76.6, loss=0.593]\n"
          ]
        },
        {
          "output_type": "stream",
          "name": "stdout",
          "text": [
            "------------------------------\n",
            "Epoch [69/100]\n"
          ]
        },
        {
          "output_type": "stream",
          "name": "stderr",
          "text": [
            "Training: 100%|██████████| 10/10 [00:02<00:00,  3.79batch/s, accuracy=89.4, loss=0.246]\n",
            "Validation: 100%|██████████| 3/3 [00:00<00:00,  7.59batch/s, accuracy=84.3, loss=0.381]\n"
          ]
        },
        {
          "output_type": "stream",
          "name": "stdout",
          "text": [
            "------------------------------\n",
            "Epoch [70/100]\n"
          ]
        },
        {
          "output_type": "stream",
          "name": "stderr",
          "text": [
            "Training: 100%|██████████| 10/10 [00:02<00:00,  3.67batch/s, accuracy=90.1, loss=0.182]\n",
            "Validation: 100%|██████████| 3/3 [00:00<00:00,  8.06batch/s, accuracy=75.6, loss=0.511]\n"
          ]
        },
        {
          "output_type": "stream",
          "name": "stdout",
          "text": [
            "------------------------------\n",
            "Epoch [71/100]\n"
          ]
        },
        {
          "output_type": "stream",
          "name": "stderr",
          "text": [
            "Training: 100%|██████████| 10/10 [00:02<00:00,  3.74batch/s, accuracy=90.6, loss=0.224]\n",
            "Validation: 100%|██████████| 3/3 [00:00<00:00,  6.57batch/s, accuracy=83.5, loss=0.407]\n"
          ]
        },
        {
          "output_type": "stream",
          "name": "stdout",
          "text": [
            "------------------------------\n",
            "Epoch [72/100]\n"
          ]
        },
        {
          "output_type": "stream",
          "name": "stderr",
          "text": [
            "Training: 100%|██████████| 10/10 [00:03<00:00,  2.97batch/s, accuracy=89.6, loss=0.233]\n",
            "Validation: 100%|██████████| 3/3 [00:00<00:00,  7.83batch/s, accuracy=83.8, loss=0.298]\n"
          ]
        },
        {
          "output_type": "stream",
          "name": "stdout",
          "text": [
            "------------------------------\n",
            "Epoch [73/100]\n"
          ]
        },
        {
          "output_type": "stream",
          "name": "stderr",
          "text": [
            "Training: 100%|██████████| 10/10 [00:02<00:00,  3.68batch/s, accuracy=90.2, loss=0.207]\n",
            "Validation: 100%|██████████| 3/3 [00:00<00:00,  7.97batch/s, accuracy=84.8, loss=0.327]\n"
          ]
        },
        {
          "output_type": "stream",
          "name": "stdout",
          "text": [
            "------------------------------\n",
            "Epoch [74/100]\n"
          ]
        },
        {
          "output_type": "stream",
          "name": "stderr",
          "text": [
            "Training: 100%|██████████| 10/10 [00:02<00:00,  3.70batch/s, accuracy=90.8, loss=0.184]\n",
            "Validation: 100%|██████████| 3/3 [00:00<00:00,  8.07batch/s, accuracy=83, loss=0.365]\n"
          ]
        },
        {
          "output_type": "stream",
          "name": "stdout",
          "text": [
            "------------------------------\n",
            "Epoch [75/100]\n"
          ]
        },
        {
          "output_type": "stream",
          "name": "stderr",
          "text": [
            "Training: 100%|██████████| 10/10 [00:02<00:00,  3.70batch/s, accuracy=90.6, loss=0.237]\n",
            "Validation: 100%|██████████| 3/3 [00:00<00:00,  5.69batch/s, accuracy=83.5, loss=0.332]\n"
          ]
        },
        {
          "output_type": "stream",
          "name": "stdout",
          "text": [
            "------------------------------\n",
            "Epoch [76/100]\n"
          ]
        },
        {
          "output_type": "stream",
          "name": "stderr",
          "text": [
            "Training: 100%|██████████| 10/10 [00:03<00:00,  3.11batch/s, accuracy=90.4, loss=0.24]\n",
            "Validation: 100%|██████████| 3/3 [00:00<00:00,  7.99batch/s, accuracy=85.1, loss=0.294]\n"
          ]
        },
        {
          "output_type": "stream",
          "name": "stdout",
          "text": [
            "------------------------------\n",
            "Epoch [77/100]\n"
          ]
        },
        {
          "output_type": "stream",
          "name": "stderr",
          "text": [
            "Training: 100%|██████████| 10/10 [00:02<00:00,  3.79batch/s, accuracy=90.9, loss=0.229]\n",
            "Validation: 100%|██████████| 3/3 [00:00<00:00,  8.02batch/s, accuracy=85.1, loss=0.221]\n"
          ]
        },
        {
          "output_type": "stream",
          "name": "stdout",
          "text": [
            "------------------------------\n",
            "Epoch [78/100]\n"
          ]
        },
        {
          "output_type": "stream",
          "name": "stderr",
          "text": [
            "Training: 100%|██████████| 10/10 [00:02<00:00,  3.74batch/s, accuracy=91.6, loss=0.265]\n",
            "Validation: 100%|██████████| 3/3 [00:00<00:00,  8.11batch/s, accuracy=85.8, loss=0.278]\n"
          ]
        },
        {
          "output_type": "stream",
          "name": "stdout",
          "text": [
            "------------------------------\n",
            "Epoch [79/100]\n"
          ]
        },
        {
          "output_type": "stream",
          "name": "stderr",
          "text": [
            "Training: 100%|██████████| 10/10 [00:02<00:00,  3.41batch/s, accuracy=90.6, loss=0.218]\n",
            "Validation: 100%|██████████| 3/3 [00:00<00:00,  6.02batch/s, accuracy=83.8, loss=0.242]\n"
          ]
        },
        {
          "output_type": "stream",
          "name": "stdout",
          "text": [
            "------------------------------\n",
            "Epoch [80/100]\n"
          ]
        },
        {
          "output_type": "stream",
          "name": "stderr",
          "text": [
            "Training: 100%|██████████| 10/10 [00:03<00:00,  3.15batch/s, accuracy=90.4, loss=0.196]\n",
            "Validation: 100%|██████████| 3/3 [00:00<00:00,  7.77batch/s, accuracy=86.1, loss=0.271]\n"
          ]
        },
        {
          "output_type": "stream",
          "name": "stdout",
          "text": [
            "------------------------------\n",
            "Epoch [81/100]\n"
          ]
        },
        {
          "output_type": "stream",
          "name": "stderr",
          "text": [
            "Training: 100%|██████████| 10/10 [00:02<00:00,  3.75batch/s, accuracy=90.4, loss=0.181]\n",
            "Validation: 100%|██████████| 3/3 [00:00<00:00,  8.01batch/s, accuracy=85.5, loss=0.292]\n"
          ]
        },
        {
          "output_type": "stream",
          "name": "stdout",
          "text": [
            "------------------------------\n",
            "Epoch [82/100]\n"
          ]
        },
        {
          "output_type": "stream",
          "name": "stderr",
          "text": [
            "Training: 100%|██████████| 10/10 [00:02<00:00,  3.81batch/s, accuracy=90.9, loss=0.238]\n",
            "Validation: 100%|██████████| 3/3 [00:00<00:00,  7.99batch/s, accuracy=85.3, loss=0.269]\n"
          ]
        },
        {
          "output_type": "stream",
          "name": "stdout",
          "text": [
            "------------------------------\n",
            "Epoch [83/100]\n"
          ]
        },
        {
          "output_type": "stream",
          "name": "stderr",
          "text": [
            "Training: 100%|██████████| 10/10 [00:02<00:00,  3.38batch/s, accuracy=90.9, loss=0.234]\n",
            "Validation: 100%|██████████| 3/3 [00:00<00:00,  5.41batch/s, accuracy=85.8, loss=0.26]\n"
          ]
        },
        {
          "output_type": "stream",
          "name": "stdout",
          "text": [
            "------------------------------\n",
            "Epoch [84/100]\n"
          ]
        },
        {
          "output_type": "stream",
          "name": "stderr",
          "text": [
            "Training: 100%|██████████| 10/10 [00:02<00:00,  3.36batch/s, accuracy=90.6, loss=0.198]\n",
            "Validation: 100%|██████████| 3/3 [00:00<00:00,  7.97batch/s, accuracy=86.1, loss=0.305]\n"
          ]
        },
        {
          "output_type": "stream",
          "name": "stdout",
          "text": [
            "------------------------------\n",
            "Epoch [85/100]\n"
          ]
        },
        {
          "output_type": "stream",
          "name": "stderr",
          "text": [
            "Training: 100%|██████████| 10/10 [00:02<00:00,  3.68batch/s, accuracy=91.3, loss=0.31]\n",
            "Validation: 100%|██████████| 3/3 [00:00<00:00,  8.03batch/s, accuracy=84.1, loss=0.243]\n"
          ]
        },
        {
          "output_type": "stream",
          "name": "stdout",
          "text": [
            "------------------------------\n",
            "Epoch [86/100]\n"
          ]
        },
        {
          "output_type": "stream",
          "name": "stderr",
          "text": [
            "Training: 100%|██████████| 10/10 [00:02<00:00,  3.70batch/s, accuracy=90.9, loss=0.231]\n",
            "Validation: 100%|██████████| 3/3 [00:00<00:00,  8.08batch/s, accuracy=84.6, loss=0.247]\n"
          ]
        },
        {
          "output_type": "stream",
          "name": "stdout",
          "text": [
            "------------------------------\n",
            "Epoch [87/100]\n"
          ]
        },
        {
          "output_type": "stream",
          "name": "stderr",
          "text": [
            "Training: 100%|██████████| 10/10 [00:03<00:00,  3.11batch/s, accuracy=90.8, loss=0.196]\n",
            "Validation: 100%|██████████| 3/3 [00:00<00:00,  5.19batch/s, accuracy=86.1, loss=0.251]\n"
          ]
        },
        {
          "output_type": "stream",
          "name": "stdout",
          "text": [
            "------------------------------\n",
            "Epoch [88/100]\n"
          ]
        },
        {
          "output_type": "stream",
          "name": "stderr",
          "text": [
            "Training: 100%|██████████| 10/10 [00:02<00:00,  3.59batch/s, accuracy=91, loss=0.106]\n",
            "Validation: 100%|██████████| 3/3 [00:00<00:00,  8.15batch/s, accuracy=86.6, loss=0.29]\n"
          ]
        },
        {
          "output_type": "stream",
          "name": "stdout",
          "text": [
            "------------------------------\n",
            "Epoch [89/100]\n"
          ]
        },
        {
          "output_type": "stream",
          "name": "stderr",
          "text": [
            "Training: 100%|██████████| 10/10 [00:02<00:00,  3.69batch/s, accuracy=90.6, loss=0.209]\n",
            "Validation: 100%|██████████| 3/3 [00:00<00:00,  8.23batch/s, accuracy=84.8, loss=0.297]\n"
          ]
        },
        {
          "output_type": "stream",
          "name": "stdout",
          "text": [
            "------------------------------\n",
            "Epoch [90/100]\n"
          ]
        },
        {
          "output_type": "stream",
          "name": "stderr",
          "text": [
            "Training: 100%|██████████| 10/10 [00:02<00:00,  3.72batch/s, accuracy=92.2, loss=0.147]\n",
            "Validation: 100%|██████████| 3/3 [00:00<00:00,  8.12batch/s, accuracy=85.8, loss=0.279]\n"
          ]
        },
        {
          "output_type": "stream",
          "name": "stdout",
          "text": [
            "------------------------------\n",
            "Epoch [91/100]\n"
          ]
        },
        {
          "output_type": "stream",
          "name": "stderr",
          "text": [
            "Training: 100%|██████████| 10/10 [00:03<00:00,  2.98batch/s, accuracy=91.4, loss=0.14]\n",
            "Validation: 100%|██████████| 3/3 [00:00<00:00,  5.59batch/s, accuracy=83.8, loss=0.403]\n"
          ]
        },
        {
          "output_type": "stream",
          "name": "stdout",
          "text": [
            "------------------------------\n",
            "Epoch [92/100]\n"
          ]
        },
        {
          "output_type": "stream",
          "name": "stderr",
          "text": [
            "Training: 100%|██████████| 10/10 [00:02<00:00,  3.78batch/s, accuracy=90.9, loss=0.15]\n",
            "Validation: 100%|██████████| 3/3 [00:00<00:00,  8.04batch/s, accuracy=83.3, loss=0.272]\n"
          ]
        },
        {
          "output_type": "stream",
          "name": "stdout",
          "text": [
            "------------------------------\n",
            "Epoch [93/100]\n"
          ]
        },
        {
          "output_type": "stream",
          "name": "stderr",
          "text": [
            "Training: 100%|██████████| 10/10 [00:02<00:00,  3.73batch/s, accuracy=91.3, loss=0.212]\n",
            "Validation: 100%|██████████| 3/3 [00:00<00:00,  8.05batch/s, accuracy=84.8, loss=0.235]\n"
          ]
        },
        {
          "output_type": "stream",
          "name": "stdout",
          "text": [
            "------------------------------\n",
            "Epoch [94/100]\n"
          ]
        },
        {
          "output_type": "stream",
          "name": "stderr",
          "text": [
            "Training: 100%|██████████| 10/10 [00:02<00:00,  3.76batch/s, accuracy=91.1, loss=0.172]\n",
            "Validation: 100%|██████████| 3/3 [00:00<00:00,  7.87batch/s, accuracy=86, loss=0.301]\n"
          ]
        },
        {
          "output_type": "stream",
          "name": "stdout",
          "text": [
            "------------------------------\n",
            "Epoch [95/100]\n"
          ]
        },
        {
          "output_type": "stream",
          "name": "stderr",
          "text": [
            "Training: 100%|██████████| 10/10 [00:03<00:00,  2.90batch/s, accuracy=92.4, loss=0.127]\n",
            "Validation: 100%|██████████| 3/3 [00:00<00:00,  6.17batch/s, accuracy=83.3, loss=0.355]\n"
          ]
        },
        {
          "output_type": "stream",
          "name": "stdout",
          "text": [
            "------------------------------\n",
            "Epoch [96/100]\n"
          ]
        },
        {
          "output_type": "stream",
          "name": "stderr",
          "text": [
            "Training: 100%|██████████| 10/10 [00:02<00:00,  3.74batch/s, accuracy=90.9, loss=0.272]\n",
            "Validation: 100%|██████████| 3/3 [00:00<00:00,  8.00batch/s, accuracy=84.1, loss=0.28]\n"
          ]
        },
        {
          "output_type": "stream",
          "name": "stdout",
          "text": [
            "------------------------------\n",
            "Epoch [97/100]\n"
          ]
        },
        {
          "output_type": "stream",
          "name": "stderr",
          "text": [
            "Training: 100%|██████████| 10/10 [00:02<00:00,  3.73batch/s, accuracy=92.8, loss=0.192]\n",
            "Validation: 100%|██████████| 3/3 [00:00<00:00,  7.43batch/s, accuracy=85.3, loss=0.298]\n"
          ]
        },
        {
          "output_type": "stream",
          "name": "stdout",
          "text": [
            "------------------------------\n",
            "Epoch [98/100]\n"
          ]
        },
        {
          "output_type": "stream",
          "name": "stderr",
          "text": [
            "Training: 100%|██████████| 10/10 [00:02<00:00,  3.74batch/s, accuracy=92.9, loss=0.156]\n",
            "Validation: 100%|██████████| 3/3 [00:00<00:00,  8.11batch/s, accuracy=86.5, loss=0.253]\n"
          ]
        },
        {
          "output_type": "stream",
          "name": "stdout",
          "text": [
            "------------------------------\n",
            "Epoch [99/100]\n"
          ]
        },
        {
          "output_type": "stream",
          "name": "stderr",
          "text": [
            "Training: 100%|██████████| 10/10 [00:03<00:00,  2.96batch/s, accuracy=93.2, loss=0.124]\n",
            "Validation: 100%|██████████| 3/3 [00:00<00:00,  8.01batch/s, accuracy=85.6, loss=0.292]\n"
          ]
        },
        {
          "output_type": "stream",
          "name": "stdout",
          "text": [
            "------------------------------\n",
            "Epoch [100/100]\n"
          ]
        },
        {
          "output_type": "stream",
          "name": "stderr",
          "text": [
            "Training: 100%|██████████| 10/10 [00:02<00:00,  3.77batch/s, accuracy=93.2, loss=0.142]\n",
            "Validation: 100%|██████████| 3/3 [00:00<00:00,  8.10batch/s, accuracy=85.3, loss=0.282]"
          ]
        },
        {
          "output_type": "stream",
          "name": "stdout",
          "text": [
            "------------------------------\n"
          ]
        },
        {
          "output_type": "stream",
          "name": "stderr",
          "text": [
            "\n"
          ]
        }
      ],
      "source": [
        "improvedModel = ImprovedSkinCancerCNN().to(device)\n",
        "optimizer = optim.Adam(improvedModel.parameters(), lr=learning_rate)\n",
        "train_accuracies, train_losses, val_accuracy, val_losses = train_model(improvedModel, optimizer, criterion,\n",
        "                                                                       train_dataloader, test_dataloader, dataset,\n",
        "                                                                       num_epochs=num_epochs, device=device)"
      ]
    },
    {
      "cell_type": "code",
      "execution_count": 53,
      "metadata": {
        "colab": {
          "base_uri": "https://localhost:8080/",
          "height": 977
        },
        "id": "2xKctajkEnnw",
        "outputId": "f6610ed4-7e21-4097-a812-56d792fa94c0"
      },
      "outputs": [
        {
          "output_type": "display_data",
          "data": {
            "text/plain": [
              "<Figure size 1000x500 with 1 Axes>"
            ],
            "image/png": "[encoded data removed]"
          },
          "metadata": {}
        },
        {
          "output_type": "display_data",
          "data": {
            "text/plain": [
              "<Figure size 1000x500 with 1 Axes>"
            ],
            "image/png": "[encoded data removed]"
          },
          "metadata": {}
        }
      ],
      "source": [
        "plot_metric('Accuracy', train_accuracies, val_accuracy, epochs=num_epochs)\n",
        "plot_metric('Loss', train_losses, val_losses, epochs=num_epochs)"
      ]
    },
    {
      "cell_type": "code",
      "execution_count": null,
      "metadata": {
        "id": "USL826YHEnnw"
      },
      "outputs": [],
      "source": []
    },
    {
      "cell_type": "markdown",
      "source": [
        "## GoogleNet"
      ],
      "metadata": {
        "id": "gtrSwcReuJrl"
      }
    },
    {
      "cell_type": "code",
      "source": [
        "class GoogLeNet(nn.Module):\n",
        "  def __init__(self, aux_logits=True, num_classes=4):\n",
        "    super(GoogLeNet, self).__init__()\n",
        "    assert aux_logits == True or aux_logits == False\n",
        "    self.aux_logits = aux_logits\n",
        "\n",
        "    self.conv1 = conv_block(\n",
        "        in_channels=3,\n",
        "        out_channels=64,\n",
        "        kernel_size=7,\n",
        "        stride=2,\n",
        "        padding=3,\n",
        "    )\n",
        "\n",
        "    self.maxpool1 = nn.MaxPool2d(kernel_size=3, stride=2, padding=1)\n",
        "    self.conv2 = conv_block(64, 192, kernel_size=3, stride=1, padding=1)\n",
        "    self.maxpool2 = nn.MaxPool2d(kernel_size=3, stride=2, padding=1)\n",
        "\n",
        "    # In this order: in_channels, out_1x1, red_3x3, out_3x3, red_5x5, out_5x5, out_1x1pool\n",
        "    self.inception3a = Inception_block(192, 64, 96, 128, 16, 32, 32)\n",
        "    self.inception3b = Inception_block(256, 128, 128, 192, 32, 96, 64)\n",
        "    self.maxpool3 = nn.MaxPool2d(kernel_size=3, stride=2, padding=1)\n",
        "\n",
        "    self.inception4a = Inception_block(480, 192, 96, 208, 16, 48, 64)\n",
        "    self.inception4b = Inception_block(512, 160, 112, 224, 24, 64, 64)\n",
        "    self.inception4c = Inception_block(512, 128, 128, 256, 24, 64, 64)\n",
        "    self.inception4d = Inception_block(512, 112, 144, 288, 32, 64, 64)\n",
        "    self.inception4e = Inception_block(528, 256, 160, 320, 32, 128, 128)\n",
        "    self.maxpool4 = nn.MaxPool2d(kernel_size=3, stride=2, padding=1)\n",
        "\n",
        "    self.inception5a = Inception_block(832, 256, 160, 320, 32, 128, 128)\n",
        "    self.inception5b = Inception_block(832, 384, 192, 384, 48, 128, 128)\n",
        "\n",
        "    self.avgpool = nn.AvgPool2d(kernel_size=7, stride=1)\n",
        "    self.dropout = nn.Dropout(p=0.4)\n",
        "    self.fc1 = nn.Linear(1024, num_classes)\n",
        "\n",
        "    if self.aux_logits:\n",
        "      self.aux1 = InceptionAux(512, num_classes)\n",
        "      self.aux2 = InceptionAux(528, num_classes)\n",
        "    else:\n",
        "      self.aux1 = self.aux2 = None\n",
        "\n",
        "  def forward(self, x ):\n",
        "    x = self.conv1(x)       #\n",
        "    x = self.maxpool1(x)    #\n",
        "    x = self.conv2(x)       #\n",
        "    x = self.maxpool2(x)    #\n",
        "\n",
        "    x = self.inception3a(x) # 192, 64\n",
        "    x = self.inception3b(x) # 256, 128\n",
        "    x = self.maxpool3(x)    #\n",
        "\n",
        "    x = self.inception4a(x) #\n",
        "\n",
        "    # Auxiliary Softmax classifier 1\n",
        "    if self.aux_logits and self.training:\n",
        "      aux1 = self.aux1(x)\n",
        "\n",
        "    x = self.inception4b(x) # 512, 160\n",
        "    x = self.inception4c(x) # 512, 128\n",
        "    x = self.inception4d(x) # 512, 112\n",
        "\n",
        "    # Auxiliary Softmax classifier 2\n",
        "    if self.aux_logits and self.training:\n",
        "      aux2 = self.aux2(x)\n",
        "\n",
        "    x = self.inception4e(x)\n",
        "    x = self.maxpool4(x)\n",
        "    x = self.inception5a(x)\n",
        "    x = self.inception5b(x)\n",
        "    x = self.avgpool(x)\n",
        "    x = x.reshape(x.shape[0], -1)\n",
        "    x = self.dropout(x)\n",
        "    x = self.fc1(x)\n",
        "\n",
        "    if self.aux_logits and self.training:\n",
        "      return aux1, aux2, x\n",
        "    else:\n",
        "      return x\n",
        "\n",
        "\n",
        "class Inception_block(nn.Module):\n",
        "  def __init__(self, in_channels, out_1x1, red_3x3, out_3x3, red_5x5, out_5x5, out_1x1pool):\n",
        "    super(Inception_block, self).__init__()\n",
        "    self.branch1 = conv_block(in_channels, out_1x1, kernel_size=1)\n",
        "\n",
        "    self.branch2 = nn.Sequential(\n",
        "      conv_block(in_channels, red_3x3, kernel_size=1),\n",
        "      conv_block(red_3x3, out_3x3, kernel_size=(3, 3), padding=1),\n",
        "    )\n",
        "\n",
        "    self.branch3 = nn.Sequential(\n",
        "      conv_block(in_channels, red_5x5, kernel_size=1),\n",
        "      conv_block(red_5x5, out_5x5, kernel_size=5, padding=2),\n",
        "    )\n",
        "\n",
        "    self.branch4 = nn.Sequential(\n",
        "      nn.MaxPool2d(kernel_size=3, stride=1, padding=1),\n",
        "      conv_block(in_channels, out_1x1pool, kernel_size=1),\n",
        "    )\n",
        "\n",
        "  def forward(self, x):\n",
        "    return torch.cat([self.branch1(x), self.branch2(x), self.branch3(x), self.branch4(x)], 1)\n",
        "\n",
        "\n",
        "class InceptionAux(nn.Module):\n",
        "  def __init__(self, in_channels, num_classes):\n",
        "    super(InceptionAux, self).__init__()\n",
        "    self.relu = nn.ReLU()\n",
        "    self.dropout = nn.Dropout(p=0.7)\n",
        "    self.pool = nn.AvgPool2d(kernel_size=5, stride=3)\n",
        "    self.conv = conv_block(in_channels, 128, kernel_size=1)\n",
        "    self.fc1 = nn.Linear(2048, 1024)\n",
        "    self.fc2 = nn.Linear(1024, num_classes)\n",
        "\n",
        "  def forward(self, x):\n",
        "    x = self.pool(x)\n",
        "    x = self.conv(x)\n",
        "    x = x.reshape(x.shape[0], -1)\n",
        "    x = self.relu(self.fc1(x))\n",
        "    x = self.dropout(x)\n",
        "    x = self.fc2(x)\n",
        "    return x\n",
        "\n",
        "\n",
        "class conv_block(nn.Module):\n",
        "  def __init__(self, in_channels, out_channels, **kwargs):\n",
        "    super(conv_block, self).__init__()\n",
        "    self.relu = nn.ReLU()\n",
        "    self.conv = nn.Conv2d(in_channels, out_channels, **kwargs)\n",
        "    self.batchnorm = nn.BatchNorm2d(out_channels)\n",
        "\n",
        "  def forward(self, x):\n",
        "    return self.relu(self.batchnorm(self.conv(x)))\n",
        "\n"
      ],
      "metadata": {
        "id": "-szPFCj0uKdI"
      },
      "execution_count": 54,
      "outputs": []
    },
    {
      "cell_type": "code",
      "execution_count": 55,
      "metadata": {
        "id": "b6BcQhSrEnnx"
      },
      "outputs": [],
      "source": [
        "custom_train_transform = transforms.Compose([\n",
        "    transforms.ToPILImage(),\n",
        "    transforms.RandomHorizontalFlip(),\n",
        "    transforms.RandomVerticalFlip(),\n",
        "    transforms.RandomRotation(15),\n",
        "    transforms.RandomResizedCrop(224, scale=(0.9, 1.1)),\n",
        "    transforms.ColorJitter(brightness=0.1, contrast=0.1, saturation=0.1),\n",
        "    ToTensorAndMove(device),\n",
        "])\n",
        "\n",
        "custom_val_transform = transforms.Compose([\n",
        "    transforms.ToPILImage(),\n",
        "    transforms.ColorJitter(brightness=0.1, contrast=0.1, saturation=0.1),\n",
        "    ToTensorAndMove(device),\n",
        "])"
      ]
    },
    {
      "cell_type": "code",
      "execution_count": 56,
      "metadata": {
        "colab": {
          "base_uri": "https://localhost:8080/"
        },
        "id": "CybZAz7sEnnx",
        "outputId": "44752394-9cee-4782-ee56-13d6bfc63859"
      },
      "outputs": [
        {
          "output_type": "stream",
          "name": "stdout",
          "text": [
            "dataset shape is : (1800, 224, 224, 3)\n"
          ]
        }
      ],
      "source": [
        "google_net_dataset = Data(device, mode='train',\n",
        "                               train_transform=custom_train_transform, val_transform=custom_val_transform)\n",
        "\n",
        "google_net_dataset.balance_with_undersampling()\n",
        "\n",
        "google_net_dataset.normalize()\n",
        "google_net_dataset.train_val_split()\n",
        "\n",
        "google_net_train_dataloader = DataLoader(google_net_dataset, batch_size=batch_size, shuffle=True)\n",
        "google_net_test_dataloader = DataLoader(google_net_dataset, batch_size=batch_size, shuffle=False)"
      ]
    },
    {
      "cell_type": "code",
      "execution_count": 58,
      "metadata": {
        "id": "ZN-lRRncEnnx"
      },
      "outputs": [],
      "source": [
        "def train_model(model, optimizer, criterion, train_loader, val_loader, dataset, num_epochs=10, device='cuda'):\n",
        "    model.to(device)\n",
        "    train_accuracies = []\n",
        "    train_losses = []\n",
        "    val_accuracies = []\n",
        "    val_losses = []\n",
        "\n",
        "    # Learning rate scheduler based on validation loss\n",
        "    scheduler = torch.optim.lr_scheduler.ReduceLROnPlateau(optimizer, factor=0.1, patience=10, verbose=True)\n",
        "\n",
        "    for epoch in range(num_epochs):\n",
        "        print(f\"Epoch [{epoch + 1}/{num_epochs}]\")\n",
        "\n",
        "        # Training phase\n",
        "        dataset.mode = 'train'\n",
        "        model.train()\n",
        "        total_train_loss = 0.0\n",
        "        correct_train = 0\n",
        "        total_train = 0\n",
        "\n",
        "        with tqdm(total=len(train_loader), desc=\"Training\", unit=\"batch\") as pbar:\n",
        "            for batch in train_loader:\n",
        "                images, labels = batch['image'].to(device), batch['label'].to(device)\n",
        "                # print('images.shape: ', images.shape)\n",
        "                # Forward pass\n",
        "                optimizer.zero_grad()\n",
        "                outputs = model(images)\n",
        "\n",
        "                # Compute loss\n",
        "                if isinstance(outputs, tuple):  # GoogLeNet produces multiple outputs\n",
        "                    loss1 = criterion(outputs[0], labels.long())\n",
        "                    loss2 = criterion(outputs[1], labels.long())\n",
        "                    loss3 = criterion(outputs[2], labels.long())\n",
        "                    loss = loss1 + loss2 + loss3\n",
        "                else:\n",
        "                    loss = criterion(outputs, labels.long())\n",
        "\n",
        "                # Backward pass\n",
        "                loss.backward()\n",
        "                optimizer.step()\n",
        "\n",
        "                total_train_loss += loss.item()\n",
        "\n",
        "                # Calculate accuracy\n",
        "                _, predicted = torch.max(outputs[2], 1)\n",
        "                # _, predicted = outputs[0].max(1)  # Use primary output for accuracy\n",
        "                total_train += labels.size(0)\n",
        "                correct_train += predicted.eq(labels).sum().item()\n",
        "\n",
        "                # Progress bar update\n",
        "                pbar.set_postfix(loss=loss.item(), accuracy=100. * correct_train / total_train)\n",
        "                pbar.update(1)\n",
        "\n",
        "        # Calculate average training loss and accuracy for the epoch\n",
        "        avg_train_loss = total_train_loss / len(train_loader)\n",
        "        train_accuracy = 100. * correct_train / total_train\n",
        "        train_accuracies.append(train_accuracy)\n",
        "        train_losses.append(avg_train_loss)\n",
        "\n",
        "        # Validation phase\n",
        "        model.eval()\n",
        "        dataset.mode = 'val'\n",
        "        total_val_loss = 0.0\n",
        "        correct_val = 0\n",
        "        total_val = 0\n",
        "\n",
        "        with torch.no_grad():\n",
        "            with tqdm(total=len(val_loader), desc=\"Validation\", unit=\"batch\") as pbar:\n",
        "                for batch in val_loader:\n",
        "                    images, labels = batch['image'].to(device), batch['label'].to(device)\n",
        "                    # print(images.shape)\n",
        "\n",
        "                    # Forward pass\n",
        "                    outputs = model(images)\n",
        "\n",
        "                    # # Compute loss\n",
        "                    # if isinstance(outputs, tuple):\n",
        "                    #     loss1 = criterion(outputs[0], labels.long())\n",
        "                    #     loss2 = criterion(outputs[1], labels.long())\n",
        "                    #     loss3 = criterion(outputs[2], labels.long())\n",
        "                    #     loss = loss1 + loss2 + loss3\n",
        "                    # else:\n",
        "                    loss = criterion(outputs, labels.long())\n",
        "\n",
        "                    total_val_loss += loss.item()\n",
        "\n",
        "                    # Calculate accuracy\n",
        "                    _, predicted = outputs.max(1)\n",
        "                    # _, predicted = torch.max(outputs[2], 1)  # Use primary output for accuracy\n",
        "                    total_val += labels.size(0)\n",
        "                    correct_val += predicted.eq(labels).sum().item()\n",
        "\n",
        "                    # Progress bar update\n",
        "                    pbar.set_postfix(loss=loss.item(), accuracy=100. * correct_val / total_val)\n",
        "                    pbar.update(1)\n",
        "\n",
        "        # Calculate average validation loss and accuracy for the epoch\n",
        "        avg_val_loss = total_val_loss / len(val_loader)\n",
        "        val_accuracy = 100. * correct_val / total_val\n",
        "        val_accuracies.append(val_accuracy)\n",
        "        val_losses.append(avg_val_loss)\n",
        "\n",
        "        # Print epoch results\n",
        "        print(f\"Training Loss: {avg_train_loss:.4f}, Accuracy: {train_accuracy:.2f}%\")\n",
        "        print(f\"Validation Loss: {avg_val_loss:.4f}, Accuracy: {val_accuracy:.2f}%\")\n",
        "        print(\"-\" * 30)\n",
        "\n",
        "        # Step the learning rate scheduler based on validation loss\n",
        "        scheduler.step(avg_val_loss)\n",
        "\n",
        "    return train_accuracies, train_losses, val_accuracies, val_losses\n"
      ]
    },
    {
      "cell_type": "code",
      "execution_count": 59,
      "metadata": {
        "colab": {
          "base_uri": "https://localhost:8080/"
        },
        "id": "YvTGMPQXEnnx",
        "outputId": "b4aa3151-0948-4006-ab0a-e4a16d9ce6e0"
      },
      "outputs": [
        {
          "metadata": {
            "tags": null
          },
          "name": "stderr",
          "output_type": "stream",
          "text": [
            "/usr/local/lib/python3.10/dist-packages/torch/optim/lr_scheduler.py:62: UserWarning: The verbose parameter is deprecated. Please use get_last_lr() to access the learning rate.\n",
            "  warnings.warn(\n"
          ]
        },
        {
          "metadata": {
            "tags": null
          },
          "name": "stdout",
          "output_type": "stream",
          "text": [
            "Epoch [1/100]\n"
          ]
        },
        {
          "metadata": {
            "tags": null
          },
          "name": "stderr",
          "output_type": "stream",
          "text": [
            "Training: 100%|██████████| 10/10 [00:24<00:00,  2.44s/batch, accuracy=73.5, loss=1.19]\n",
            "Validation: 100%|██████████| 3/3 [00:03<00:00,  1.17s/batch, accuracy=50.1, loss=1.07]\n"
          ]
        },
        {
          "metadata": {
            "tags": null
          },
          "name": "stdout",
          "output_type": "stream",
          "text": [
            "Training Loss: 1.8939, Accuracy: 73.53%\n",
            "Validation Loss: 1.0793, Accuracy: 50.08%\n",
            "------------------------------\n",
            "Epoch [2/100]\n"
          ]
        },
        {
          "metadata": {
            "tags": null
          },
          "name": "stderr",
          "output_type": "stream",
          "text": [
            "Training: 100%|██████████| 10/10 [00:20<00:00,  2.02s/batch, accuracy=81.6, loss=0.976]\n",
            "Validation: 100%|██████████| 3/3 [00:02<00:00,  1.10batch/s, accuracy=49.9, loss=0.825]\n"
          ]
        },
        {
          "metadata": {
            "tags": null
          },
          "name": "stdout",
          "output_type": "stream",
          "text": [
            "Training Loss: 1.1791, Accuracy: 81.59%\n",
            "Validation Loss: 0.8062, Accuracy: 49.92%\n",
            "------------------------------\n",
            "Epoch [3/100]\n"
          ]
        },
        {
          "metadata": {
            "tags": null
          },
          "name": "stderr",
          "output_type": "stream",
          "text": [
            "Training: 100%|██████████| 10/10 [00:20<00:00,  2.06s/batch, accuracy=83.3, loss=1.21]\n",
            "Validation: 100%|██████████| 3/3 [00:02<00:00,  1.07batch/s, accuracy=52.3, loss=1.35]\n"
          ]
        },
        {
          "metadata": {
            "tags": null
          },
          "name": "stdout",
          "output_type": "stream",
          "text": [
            "Training Loss: 1.1208, Accuracy: 83.30%\n",
            "Validation Loss: 1.2088, Accuracy: 52.25%\n",
            "------------------------------\n",
            "Epoch [4/100]\n"
          ]
        },
        {
          "metadata": {
            "tags": null
          },
          "name": "stderr",
          "output_type": "stream",
          "text": [
            "Training: 100%|██████████| 10/10 [00:20<00:00,  2.10s/batch, accuracy=83.8, loss=1.27]\n",
            "Validation: 100%|██████████| 3/3 [00:03<00:00,  1.02s/batch, accuracy=71.3, loss=0.583]\n"
          ]
        },
        {
          "metadata": {
            "tags": null
          },
          "name": "stdout",
          "output_type": "stream",
          "text": [
            "Training Loss: 1.0404, Accuracy: 83.84%\n",
            "Validation Loss: 0.5309, Accuracy: 71.29%\n",
            "------------------------------\n",
            "Epoch [5/100]\n"
          ]
        },
        {
          "metadata": {
            "tags": null
          },
          "name": "stderr",
          "output_type": "stream",
          "text": [
            "Training: 100%|██████████| 10/10 [00:21<00:00,  2.16s/batch, accuracy=84.2, loss=0.85]\n",
            "Validation: 100%|██████████| 3/3 [00:02<00:00,  1.07batch/s, accuracy=82.5, loss=0.354]\n"
          ]
        },
        {
          "metadata": {
            "tags": null
          },
          "name": "stdout",
          "output_type": "stream",
          "text": [
            "Training Loss: 0.9860, Accuracy: 84.22%\n",
            "Validation Loss: 0.3610, Accuracy: 82.47%\n",
            "------------------------------\n",
            "Epoch [6/100]\n"
          ]
        },
        {
          "metadata": {
            "tags": null
          },
          "name": "stderr",
          "output_type": "stream",
          "text": [
            "Training: 100%|██████████| 10/10 [00:20<00:00,  2.02s/batch, accuracy=84.8, loss=0.79]\n",
            "Validation: 100%|██████████| 3/3 [00:02<00:00,  1.02batch/s, accuracy=85.6, loss=0.292]\n"
          ]
        },
        {
          "metadata": {
            "tags": null
          },
          "name": "stdout",
          "output_type": "stream",
          "text": [
            "Training Loss: 0.9212, Accuracy: 84.84%\n",
            "Validation Loss: 0.3423, Accuracy: 85.64%\n",
            "------------------------------\n",
            "Epoch [7/100]\n"
          ]
        },
        {
          "metadata": {
            "tags": null
          },
          "name": "stderr",
          "output_type": "stream",
          "text": [
            "Training: 100%|██████████| 10/10 [00:20<00:00,  2.01s/batch, accuracy=85.7, loss=0.668]\n",
            "Validation: 100%|██████████| 3/3 [00:03<00:00,  1.16s/batch, accuracy=82.6, loss=0.293]\n"
          ]
        },
        {
          "metadata": {
            "tags": null
          },
          "name": "stdout",
          "output_type": "stream",
          "text": [
            "Training Loss: 0.9179, Accuracy: 85.68%\n",
            "Validation Loss: 0.3332, Accuracy: 82.64%\n",
            "------------------------------\n",
            "Epoch [8/100]\n"
          ]
        },
        {
          "metadata": {
            "tags": null
          },
          "name": "stderr",
          "output_type": "stream",
          "text": [
            "Training: 100%|██████████| 10/10 [00:20<00:00,  2.01s/batch, accuracy=86.3, loss=0.957]\n",
            "Validation: 100%|██████████| 3/3 [00:03<00:00,  1.01s/batch, accuracy=82.1, loss=0.29]\n"
          ]
        },
        {
          "metadata": {
            "tags": null
          },
          "name": "stdout",
          "output_type": "stream",
          "text": [
            "Training Loss: 0.8679, Accuracy: 86.26%\n",
            "Validation Loss: 0.4016, Accuracy: 82.14%\n",
            "------------------------------\n",
            "Epoch [9/100]\n"
          ]
        },
        {
          "metadata": {
            "tags": null
          },
          "name": "stderr",
          "output_type": "stream",
          "text": [
            "Training: 100%|██████████| 10/10 [00:20<00:00,  2.05s/batch, accuracy=87.5, loss=0.653]\n",
            "Validation: 100%|██████████| 3/3 [00:02<00:00,  1.09batch/s, accuracy=82, loss=0.391]\n"
          ]
        },
        {
          "metadata": {
            "tags": null
          },
          "name": "stdout",
          "output_type": "stream",
          "text": [
            "Training Loss: 0.8065, Accuracy: 87.52%\n",
            "Validation Loss: 0.4030, Accuracy: 81.97%\n",
            "------------------------------\n",
            "Epoch [10/100]\n"
          ]
        },
        {
          "metadata": {
            "tags": null
          },
          "name": "stderr",
          "output_type": "stream",
          "text": [
            "Training: 100%|██████████| 10/10 [00:20<00:00,  2.07s/batch, accuracy=87, loss=0.94]\n",
            "Validation: 100%|██████████| 3/3 [00:02<00:00,  1.07batch/s, accuracy=82.8, loss=0.288]\n"
          ]
        },
        {
          "metadata": {
            "tags": null
          },
          "name": "stdout",
          "output_type": "stream",
          "text": [
            "Training Loss: 0.8174, Accuracy: 86.97%\n",
            "Validation Loss: 0.3697, Accuracy: 82.80%\n",
            "------------------------------\n",
            "Epoch [11/100]\n"
          ]
        },
        {
          "metadata": {
            "tags": null
          },
          "name": "stderr",
          "output_type": "stream",
          "text": [
            "Training: 100%|██████████| 10/10 [00:20<00:00,  2.08s/batch, accuracy=88.3, loss=0.741]\n",
            "Validation: 100%|██████████| 3/3 [00:02<00:00,  1.07batch/s, accuracy=82.8, loss=0.431]\n"
          ]
        },
        {
          "metadata": {
            "tags": null
          },
          "name": "stdout",
          "output_type": "stream",
          "text": [
            "Training Loss: 0.7987, Accuracy: 88.31%\n",
            "Validation Loss: 0.4474, Accuracy: 82.80%\n",
            "------------------------------\n",
            "Epoch [12/100]\n"
          ]
        },
        {
          "metadata": {
            "tags": null
          },
          "name": "stderr",
          "output_type": "stream",
          "text": [
            "Training: 100%|██████████| 10/10 [00:20<00:00,  2.03s/batch, accuracy=88.2, loss=0.736]\n",
            "Validation: 100%|██████████| 3/3 [00:02<00:00,  1.00batch/s, accuracy=81.3, loss=0.385]\n"
          ]
        },
        {
          "metadata": {
            "tags": null
          },
          "name": "stdout",
          "output_type": "stream",
          "text": [
            "Training Loss: 0.7875, Accuracy: 88.23%\n",
            "Validation Loss: 0.4742, Accuracy: 81.30%\n",
            "------------------------------\n",
            "Epoch [13/100]\n"
          ]
        },
        {
          "metadata": {
            "tags": null
          },
          "name": "stderr",
          "output_type": "stream",
          "text": [
            "Training: 100%|██████████| 10/10 [00:19<00:00,  2.00s/batch, accuracy=87.8, loss=0.814]\n",
            "Validation: 100%|██████████| 3/3 [00:03<00:00,  1.16s/batch, accuracy=80.3, loss=0.315]\n"
          ]
        },
        {
          "metadata": {
            "tags": null
          },
          "name": "stdout",
          "output_type": "stream",
          "text": [
            "Training Loss: 0.7654, Accuracy: 87.77%\n",
            "Validation Loss: 0.3929, Accuracy: 80.30%\n",
            "------------------------------\n",
            "Epoch [14/100]\n"
          ]
        },
        {
          "metadata": {
            "tags": null
          },
          "name": "stderr",
          "output_type": "stream",
          "text": [
            "Training: 100%|██████████| 10/10 [00:19<00:00,  2.00s/batch, accuracy=88.5, loss=0.932]\n",
            "Validation: 100%|██████████| 3/3 [00:02<00:00,  1.08batch/s, accuracy=84.3, loss=0.323]\n"
          ]
        },
        {
          "metadata": {
            "tags": null
          },
          "name": "stdout",
          "output_type": "stream",
          "text": [
            "Training Loss: 0.7520, Accuracy: 88.52%\n",
            "Validation Loss: 0.3672, Accuracy: 84.31%\n",
            "------------------------------\n",
            "Epoch [15/100]\n"
          ]
        },
        {
          "metadata": {
            "tags": null
          },
          "name": "stderr",
          "output_type": "stream",
          "text": [
            "Training: 100%|██████████| 10/10 [00:20<00:00,  2.07s/batch, accuracy=89.6, loss=0.861]\n",
            "Validation: 100%|██████████| 3/3 [00:02<00:00,  1.08batch/s, accuracy=85.1, loss=0.383]\n"
          ]
        },
        {
          "metadata": {
            "tags": null
          },
          "name": "stdout",
          "output_type": "stream",
          "text": [
            "Training Loss: 0.7239, Accuracy: 89.65%\n",
            "Validation Loss: 0.3487, Accuracy: 85.14%\n",
            "------------------------------\n",
            "Epoch [16/100]\n"
          ]
        },
        {
          "metadata": {
            "tags": null
          },
          "name": "stderr",
          "output_type": "stream",
          "text": [
            "Training: 100%|██████████| 10/10 [00:20<00:00,  2.09s/batch, accuracy=88.5, loss=0.854]\n",
            "Validation: 100%|██████████| 3/3 [00:02<00:00,  1.05batch/s, accuracy=82.8, loss=0.999]\n"
          ]
        },
        {
          "metadata": {
            "tags": null
          },
          "name": "stdout",
          "output_type": "stream",
          "text": [
            "Training Loss: 0.7897, Accuracy: 88.52%\n",
            "Validation Loss: 1.1208, Accuracy: 82.80%\n",
            "------------------------------\n",
            "Epoch [17/100]\n"
          ]
        },
        {
          "metadata": {
            "tags": null
          },
          "name": "stderr",
          "output_type": "stream",
          "text": [
            "Training: 100%|██████████| 10/10 [00:20<00:00,  2.08s/batch, accuracy=86.8, loss=0.683]\n",
            "Validation: 100%|██████████| 3/3 [00:02<00:00,  1.08batch/s, accuracy=79.6, loss=0.323]\n"
          ]
        },
        {
          "metadata": {
            "tags": null
          },
          "name": "stdout",
          "output_type": "stream",
          "text": [
            "Training Loss: 0.8154, Accuracy: 86.76%\n",
            "Validation Loss: 0.4199, Accuracy: 79.63%\n",
            "------------------------------\n",
            "Epoch [18/100]\n"
          ]
        },
        {
          "metadata": {
            "tags": null
          },
          "name": "stderr",
          "output_type": "stream",
          "text": [
            "Training: 100%|██████████| 10/10 [00:20<00:00,  2.03s/batch, accuracy=89.3, loss=0.693]\n",
            "Validation: 100%|██████████| 3/3 [00:03<00:00,  1.12s/batch, accuracy=84.5, loss=0.357]\n"
          ]
        },
        {
          "metadata": {
            "tags": null
          },
          "name": "stdout",
          "output_type": "stream",
          "text": [
            "Training Loss: 0.7624, Accuracy: 89.27%\n",
            "Validation Loss: 0.3579, Accuracy: 84.47%\n",
            "------------------------------\n",
            "Epoch [19/100]\n"
          ]
        },
        {
          "metadata": {
            "tags": null
          },
          "name": "stderr",
          "output_type": "stream",
          "text": [
            "Training: 100%|██████████| 10/10 [00:20<00:00,  2.02s/batch, accuracy=89, loss=0.493]\n",
            "Validation: 100%|██████████| 3/3 [00:03<00:00,  1.08s/batch, accuracy=85.1, loss=0.254]\n"
          ]
        },
        {
          "metadata": {
            "tags": null
          },
          "name": "stdout",
          "output_type": "stream",
          "text": [
            "Training Loss: 0.6745, Accuracy: 88.98%\n",
            "Validation Loss: 0.3121, Accuracy: 85.14%\n",
            "------------------------------\n",
            "Epoch [20/100]\n"
          ]
        },
        {
          "metadata": {
            "tags": null
          },
          "name": "stderr",
          "output_type": "stream",
          "text": [
            "Training: 100%|██████████| 10/10 [00:20<00:00,  2.06s/batch, accuracy=90.4, loss=0.7]\n",
            "Validation: 100%|██████████| 3/3 [00:02<00:00,  1.08batch/s, accuracy=85.8, loss=0.237]\n"
          ]
        },
        {
          "metadata": {
            "tags": null
          },
          "name": "stdout",
          "output_type": "stream",
          "text": [
            "Training Loss: 0.6339, Accuracy: 90.44%\n",
            "Validation Loss: 0.3079, Accuracy: 85.81%\n",
            "------------------------------\n",
            "Epoch [21/100]\n"
          ]
        },
        {
          "metadata": {
            "tags": null
          },
          "name": "stderr",
          "output_type": "stream",
          "text": [
            "Training: 100%|██████████| 10/10 [00:20<00:00,  2.08s/batch, accuracy=90.6, loss=0.496]\n",
            "Validation: 100%|██████████| 3/3 [00:02<00:00,  1.07batch/s, accuracy=87.5, loss=0.293]\n"
          ]
        },
        {
          "metadata": {
            "tags": null
          },
          "name": "stdout",
          "output_type": "stream",
          "text": [
            "Training Loss: 0.6101, Accuracy: 90.56%\n",
            "Validation Loss: 0.2988, Accuracy: 87.48%\n",
            "------------------------------\n",
            "Epoch [22/100]\n"
          ]
        },
        {
          "metadata": {
            "tags": null
          },
          "name": "stderr",
          "output_type": "stream",
          "text": [
            "Training: 100%|██████████| 10/10 [00:20<00:00,  2.08s/batch, accuracy=91.6, loss=0.559]\n",
            "Validation: 100%|██████████| 3/3 [00:02<00:00,  1.07batch/s, accuracy=87.6, loss=0.278]\n"
          ]
        },
        {
          "metadata": {
            "tags": null
          },
          "name": "stdout",
          "output_type": "stream",
          "text": [
            "Training Loss: 0.5906, Accuracy: 91.65%\n",
            "Validation Loss: 0.3001, Accuracy: 87.65%\n",
            "------------------------------\n",
            "Epoch [23/100]\n"
          ]
        },
        {
          "metadata": {
            "tags": null
          },
          "name": "stderr",
          "output_type": "stream",
          "text": [
            "Training: 100%|██████████| 10/10 [00:20<00:00,  2.08s/batch, accuracy=91.3, loss=0.695]\n",
            "Validation: 100%|██████████| 3/3 [00:02<00:00,  1.09batch/s, accuracy=86.1, loss=0.288]\n"
          ]
        },
        {
          "metadata": {
            "tags": null
          },
          "name": "stdout",
          "output_type": "stream",
          "text": [
            "Training Loss: 0.6105, Accuracy: 91.27%\n",
            "Validation Loss: 0.3044, Accuracy: 86.14%\n",
            "------------------------------\n",
            "Epoch [24/100]\n"
          ]
        },
        {
          "metadata": {
            "tags": null
          },
          "name": "stderr",
          "output_type": "stream",
          "text": [
            "Training: 100%|██████████| 10/10 [00:20<00:00,  2.03s/batch, accuracy=91.7, loss=0.492]\n",
            "Validation: 100%|██████████| 3/3 [00:03<00:00,  1.06s/batch, accuracy=87.1, loss=0.282]\n"
          ]
        },
        {
          "metadata": {
            "tags": null
          },
          "name": "stdout",
          "output_type": "stream",
          "text": [
            "Training Loss: 0.5820, Accuracy: 91.69%\n",
            "Validation Loss: 0.2995, Accuracy: 87.15%\n",
            "------------------------------\n",
            "Epoch [25/100]\n"
          ]
        },
        {
          "metadata": {
            "tags": null
          },
          "name": "stderr",
          "output_type": "stream",
          "text": [
            "Training: 100%|██████████| 10/10 [00:20<00:00,  2.02s/batch, accuracy=91.9, loss=0.597]\n",
            "Validation: 100%|██████████| 3/3 [00:03<00:00,  1.14s/batch, accuracy=86, loss=0.27]\n"
          ]
        },
        {
          "metadata": {
            "tags": null
          },
          "name": "stdout",
          "output_type": "stream",
          "text": [
            "Training Loss: 0.5737, Accuracy: 91.86%\n",
            "Validation Loss: 0.3110, Accuracy: 85.98%\n",
            "------------------------------\n",
            "Epoch [26/100]\n"
          ]
        },
        {
          "metadata": {
            "tags": null
          },
          "name": "stderr",
          "output_type": "stream",
          "text": [
            "Training: 100%|██████████| 10/10 [00:20<00:00,  2.02s/batch, accuracy=91.4, loss=0.465]\n",
            "Validation: 100%|██████████| 3/3 [00:02<00:00,  1.02batch/s, accuracy=87.5, loss=0.248]\n"
          ]
        },
        {
          "metadata": {
            "tags": null
          },
          "name": "stdout",
          "output_type": "stream",
          "text": [
            "Training Loss: 0.5599, Accuracy: 91.40%\n",
            "Validation Loss: 0.2889, Accuracy: 87.48%\n",
            "------------------------------\n",
            "Epoch [27/100]\n"
          ]
        },
        {
          "metadata": {
            "tags": null
          },
          "name": "stderr",
          "output_type": "stream",
          "text": [
            "Training: 100%|██████████| 10/10 [00:20<00:00,  2.07s/batch, accuracy=92.5, loss=0.631]\n",
            "Validation: 100%|██████████| 3/3 [00:02<00:00,  1.08batch/s, accuracy=86.8, loss=0.3]\n"
          ]
        },
        {
          "metadata": {
            "tags": null
          },
          "name": "stdout",
          "output_type": "stream",
          "text": [
            "Training Loss: 0.5566, Accuracy: 92.48%\n",
            "Validation Loss: 0.3130, Accuracy: 86.81%\n",
            "------------------------------\n",
            "Epoch [28/100]\n"
          ]
        },
        {
          "metadata": {
            "tags": null
          },
          "name": "stderr",
          "output_type": "stream",
          "text": [
            "Training: 100%|██████████| 10/10 [00:20<00:00,  2.05s/batch, accuracy=92, loss=0.613]\n",
            "Validation: 100%|██████████| 3/3 [00:02<00:00,  1.06batch/s, accuracy=87.3, loss=0.32]\n"
          ]
        },
        {
          "metadata": {
            "tags": null
          },
          "name": "stdout",
          "output_type": "stream",
          "text": [
            "Training Loss: 0.5498, Accuracy: 91.98%\n",
            "Validation Loss: 0.3090, Accuracy: 87.31%\n",
            "------------------------------\n",
            "Epoch [29/100]\n"
          ]
        },
        {
          "metadata": {
            "tags": null
          },
          "name": "stderr",
          "output_type": "stream",
          "text": [
            "Training: 100%|██████████| 10/10 [00:20<00:00,  2.07s/batch, accuracy=93.1, loss=0.48]\n",
            "Validation: 100%|██████████| 3/3 [00:02<00:00,  1.07batch/s, accuracy=86.3, loss=0.319]\n"
          ]
        },
        {
          "metadata": {
            "tags": null
          },
          "name": "stdout",
          "output_type": "stream",
          "text": [
            "Training Loss: 0.5084, Accuracy: 93.07%\n",
            "Validation Loss: 0.3142, Accuracy: 86.31%\n",
            "------------------------------\n",
            "Epoch [30/100]\n"
          ]
        },
        {
          "metadata": {
            "tags": null
          },
          "name": "stderr",
          "output_type": "stream",
          "text": [
            "Training: 100%|██████████| 10/10 [00:20<00:00,  2.07s/batch, accuracy=92.9, loss=0.453]\n",
            "Validation: 100%|██████████| 3/3 [00:02<00:00,  1.08batch/s, accuracy=85.5, loss=0.34]\n"
          ]
        },
        {
          "metadata": {
            "tags": null
          },
          "name": "stdout",
          "output_type": "stream",
          "text": [
            "Training Loss: 0.5115, Accuracy: 92.86%\n",
            "Validation Loss: 0.3439, Accuracy: 85.48%\n",
            "------------------------------\n",
            "Epoch [31/100]\n"
          ]
        },
        {
          "metadata": {
            "tags": null
          },
          "name": "stderr",
          "output_type": "stream",
          "text": [
            "Training: 100%|██████████| 10/10 [00:20<00:00,  2.04s/batch, accuracy=93.4, loss=0.547]\n",
            "Validation: 100%|██████████| 3/3 [00:03<00:00,  1.07s/batch, accuracy=86.1, loss=0.321]\n"
          ]
        },
        {
          "metadata": {
            "tags": null
          },
          "name": "stdout",
          "output_type": "stream",
          "text": [
            "Training Loss: 0.5053, Accuracy: 93.36%\n",
            "Validation Loss: 0.3496, Accuracy: 86.14%\n",
            "------------------------------\n",
            "Epoch [32/100]\n"
          ]
        },
        {
          "metadata": {
            "tags": null
          },
          "name": "stderr",
          "output_type": "stream",
          "text": [
            "Training: 100%|██████████| 10/10 [00:20<00:00,  2.00s/batch, accuracy=92.2, loss=0.536]\n",
            "Validation: 100%|██████████| 3/3 [00:03<00:00,  1.11s/batch, accuracy=86.1, loss=0.328]\n"
          ]
        },
        {
          "metadata": {
            "tags": null
          },
          "name": "stdout",
          "output_type": "stream",
          "text": [
            "Training Loss: 0.5195, Accuracy: 92.23%\n",
            "Validation Loss: 0.3394, Accuracy: 86.14%\n",
            "------------------------------\n",
            "Epoch [33/100]\n"
          ]
        },
        {
          "metadata": {
            "tags": null
          },
          "name": "stderr",
          "output_type": "stream",
          "text": [
            "Training: 100%|██████████| 10/10 [00:20<00:00,  2.01s/batch, accuracy=92.3, loss=0.703]\n",
            "Validation: 100%|██████████| 3/3 [00:02<00:00,  1.02batch/s, accuracy=86.5, loss=0.299]\n"
          ]
        },
        {
          "metadata": {
            "tags": null
          },
          "name": "stdout",
          "output_type": "stream",
          "text": [
            "Training Loss: 0.5402, Accuracy: 92.28%\n",
            "Validation Loss: 0.3171, Accuracy: 86.48%\n",
            "------------------------------\n",
            "Epoch [34/100]\n"
          ]
        },
        {
          "metadata": {
            "tags": null
          },
          "name": "stderr",
          "output_type": "stream",
          "text": [
            "Training: 100%|██████████| 10/10 [00:20<00:00,  2.05s/batch, accuracy=93, loss=0.482]\n",
            "Validation: 100%|██████████| 3/3 [00:02<00:00,  1.08batch/s, accuracy=87.1, loss=0.333]\n"
          ]
        },
        {
          "metadata": {
            "tags": null
          },
          "name": "stdout",
          "output_type": "stream",
          "text": [
            "Training Loss: 0.5057, Accuracy: 92.99%\n",
            "Validation Loss: 0.3394, Accuracy: 87.15%\n",
            "------------------------------\n",
            "Epoch [35/100]\n"
          ]
        },
        {
          "metadata": {
            "tags": null
          },
          "name": "stderr",
          "output_type": "stream",
          "text": [
            "Training: 100%|██████████| 10/10 [00:20<00:00,  2.05s/batch, accuracy=93.3, loss=0.432]\n",
            "Validation: 100%|██████████| 3/3 [00:02<00:00,  1.07batch/s, accuracy=86.6, loss=0.357]\n"
          ]
        },
        {
          "metadata": {
            "tags": null
          },
          "name": "stdout",
          "output_type": "stream",
          "text": [
            "Training Loss: 0.5073, Accuracy: 93.28%\n",
            "Validation Loss: 0.3412, Accuracy: 86.64%\n",
            "------------------------------\n",
            "Epoch [36/100]\n"
          ]
        },
        {
          "metadata": {
            "tags": null
          },
          "name": "stderr",
          "output_type": "stream",
          "text": [
            "Training: 100%|██████████| 10/10 [00:20<00:00,  2.06s/batch, accuracy=92.7, loss=0.298]\n",
            "Validation: 100%|██████████| 3/3 [00:02<00:00,  1.08batch/s, accuracy=87.5, loss=0.372]\n"
          ]
        },
        {
          "metadata": {
            "tags": null
          },
          "name": "stdout",
          "output_type": "stream",
          "text": [
            "Training Loss: 0.4877, Accuracy: 92.65%\n",
            "Validation Loss: 0.3341, Accuracy: 87.48%\n",
            "------------------------------\n",
            "Epoch [37/100]\n"
          ]
        },
        {
          "metadata": {
            "tags": null
          },
          "name": "stderr",
          "output_type": "stream",
          "text": [
            "Training: 100%|██████████| 10/10 [00:20<00:00,  2.07s/batch, accuracy=92.7, loss=0.612]\n",
            "Validation: 100%|██████████| 3/3 [00:02<00:00,  1.07batch/s, accuracy=87.8, loss=0.347]\n"
          ]
        },
        {
          "metadata": {
            "tags": null
          },
          "name": "stdout",
          "output_type": "stream",
          "text": [
            "Training Loss: 0.4986, Accuracy: 92.69%\n",
            "Validation Loss: 0.3325, Accuracy: 87.81%\n",
            "------------------------------\n",
            "Epoch [38/100]\n"
          ]
        },
        {
          "metadata": {
            "tags": null
          },
          "name": "stderr",
          "output_type": "stream",
          "text": [
            "Training: 100%|██████████| 10/10 [00:20<00:00,  2.05s/batch, accuracy=94, loss=0.502]\n",
            "Validation: 100%|██████████| 3/3 [00:03<00:00,  1.07s/batch, accuracy=87.3, loss=0.377]\n"
          ]
        },
        {
          "metadata": {
            "tags": null
          },
          "name": "stdout",
          "output_type": "stream",
          "text": [
            "Training Loss: 0.4699, Accuracy: 93.99%\n",
            "Validation Loss: 0.3577, Accuracy: 87.31%\n",
            "------------------------------\n",
            "Epoch [39/100]\n"
          ]
        },
        {
          "metadata": {
            "tags": null
          },
          "name": "stderr",
          "output_type": "stream",
          "text": [
            "Training: 100%|██████████| 10/10 [00:19<00:00,  2.00s/batch, accuracy=93.2, loss=0.699]\n",
            "Validation: 100%|██████████| 3/3 [00:03<00:00,  1.13s/batch, accuracy=87.3, loss=0.326]\n"
          ]
        },
        {
          "metadata": {
            "tags": null
          },
          "name": "stdout",
          "output_type": "stream",
          "text": [
            "Training Loss: 0.4985, Accuracy: 93.24%\n",
            "Validation Loss: 0.3310, Accuracy: 87.31%\n",
            "------------------------------\n",
            "Epoch [40/100]\n"
          ]
        },
        {
          "metadata": {
            "tags": null
          },
          "name": "stderr",
          "output_type": "stream",
          "text": [
            "Training: 100%|██████████| 10/10 [00:20<00:00,  2.01s/batch, accuracy=93.9, loss=0.384]\n",
            "Validation: 100%|██████████| 3/3 [00:02<00:00,  1.01batch/s, accuracy=87.3, loss=0.357]\n"
          ]
        },
        {
          "metadata": {
            "tags": null
          },
          "name": "stdout",
          "output_type": "stream",
          "text": [
            "Training Loss: 0.4599, Accuracy: 93.90%\n",
            "Validation Loss: 0.3411, Accuracy: 87.31%\n",
            "------------------------------\n",
            "Epoch [41/100]\n"
          ]
        },
        {
          "metadata": {
            "tags": null
          },
          "name": "stderr",
          "output_type": "stream",
          "text": [
            "Training: 100%|██████████| 10/10 [00:20<00:00,  2.05s/batch, accuracy=93.7, loss=0.46]\n",
            "Validation: 100%|██████████| 3/3 [00:02<00:00,  1.06batch/s, accuracy=87.6, loss=0.335]\n"
          ]
        },
        {
          "metadata": {
            "tags": null
          },
          "name": "stdout",
          "output_type": "stream",
          "text": [
            "Training Loss: 0.4691, Accuracy: 93.74%\n",
            "Validation Loss: 0.3349, Accuracy: 87.65%\n",
            "------------------------------\n",
            "Epoch [42/100]\n"
          ]
        },
        {
          "metadata": {
            "tags": null
          },
          "name": "stderr",
          "output_type": "stream",
          "text": [
            "Training: 100%|██████████| 10/10 [00:20<00:00,  2.05s/batch, accuracy=94.1, loss=0.365]\n",
            "Validation: 100%|██████████| 3/3 [00:02<00:00,  1.07batch/s, accuracy=85.6, loss=0.37]\n"
          ]
        },
        {
          "metadata": {
            "tags": null
          },
          "name": "stdout",
          "output_type": "stream",
          "text": [
            "Training Loss: 0.4488, Accuracy: 94.11%\n",
            "Validation Loss: 0.3507, Accuracy: 85.64%\n",
            "------------------------------\n",
            "Epoch [43/100]\n"
          ]
        },
        {
          "metadata": {
            "tags": null
          },
          "name": "stderr",
          "output_type": "stream",
          "text": [
            "Training: 100%|██████████| 10/10 [00:20<00:00,  2.06s/batch, accuracy=93.5, loss=0.486]\n",
            "Validation: 100%|██████████| 3/3 [00:02<00:00,  1.09batch/s, accuracy=87.1, loss=0.361]\n"
          ]
        },
        {
          "metadata": {
            "tags": null
          },
          "name": "stdout",
          "output_type": "stream",
          "text": [
            "Training Loss: 0.4625, Accuracy: 93.53%\n",
            "Validation Loss: 0.3383, Accuracy: 87.15%\n",
            "------------------------------\n",
            "Epoch [44/100]\n"
          ]
        },
        {
          "metadata": {
            "tags": null
          },
          "name": "stderr",
          "output_type": "stream",
          "text": [
            "Training: 100%|██████████| 10/10 [00:20<00:00,  2.07s/batch, accuracy=94.2, loss=0.428]\n",
            "Validation: 100%|██████████| 3/3 [00:02<00:00,  1.09batch/s, accuracy=86.3, loss=0.393]\n"
          ]
        },
        {
          "metadata": {
            "tags": null
          },
          "name": "stdout",
          "output_type": "stream",
          "text": [
            "Training Loss: 0.4375, Accuracy: 94.24%\n",
            "Validation Loss: 0.3576, Accuracy: 86.31%\n",
            "------------------------------\n",
            "Epoch [45/100]\n"
          ]
        },
        {
          "metadata": {
            "tags": null
          },
          "name": "stderr",
          "output_type": "stream",
          "text": [
            "Training: 100%|██████████| 10/10 [00:20<00:00,  2.03s/batch, accuracy=94.4, loss=0.538]\n",
            "Validation: 100%|██████████| 3/3 [00:03<00:00,  1.05s/batch, accuracy=86.5, loss=0.382]\n"
          ]
        },
        {
          "metadata": {
            "tags": null
          },
          "name": "stdout",
          "output_type": "stream",
          "text": [
            "Training Loss: 0.4485, Accuracy: 94.41%\n",
            "Validation Loss: 0.3511, Accuracy: 86.48%\n",
            "------------------------------\n",
            "Epoch [46/100]\n"
          ]
        },
        {
          "metadata": {
            "tags": null
          },
          "name": "stderr",
          "output_type": "stream",
          "text": [
            "Training: 100%|██████████| 10/10 [00:20<00:00,  2.00s/batch, accuracy=94.2, loss=0.393]\n",
            "Validation: 100%|██████████| 3/3 [00:03<00:00,  1.12s/batch, accuracy=86.3, loss=0.359]\n"
          ]
        },
        {
          "metadata": {
            "tags": null
          },
          "name": "stdout",
          "output_type": "stream",
          "text": [
            "Training Loss: 0.4518, Accuracy: 94.20%\n",
            "Validation Loss: 0.3480, Accuracy: 86.31%\n",
            "------------------------------\n",
            "Epoch [47/100]\n"
          ]
        },
        {
          "output_type": "stream",
          "name": "stderr",
          "text": [
            "Training: 100%|██████████| 10/10 [00:20<00:00,  2.01s/batch, accuracy=93.7, loss=0.497]\n",
            "Validation: 100%|██████████| 3/3 [00:02<00:00,  1.02batch/s, accuracy=86.3, loss=0.402]\n"
          ]
        },
        {
          "output_type": "stream",
          "name": "stdout",
          "text": [
            "Training Loss: 0.4543, Accuracy: 93.65%\n",
            "Validation Loss: 0.3746, Accuracy: 86.31%\n",
            "------------------------------\n",
            "Epoch [48/100]\n"
          ]
        },
        {
          "output_type": "stream",
          "name": "stderr",
          "text": [
            "Training: 100%|██████████| 10/10 [00:20<00:00,  2.06s/batch, accuracy=93.9, loss=0.59]\n",
            "Validation: 100%|██████████| 3/3 [00:02<00:00,  1.09batch/s, accuracy=86.6, loss=0.363]\n"
          ]
        },
        {
          "output_type": "stream",
          "name": "stdout",
          "text": [
            "Training Loss: 0.4670, Accuracy: 93.90%\n",
            "Validation Loss: 0.3423, Accuracy: 86.64%\n",
            "------------------------------\n",
            "Epoch [49/100]\n"
          ]
        },
        {
          "output_type": "stream",
          "name": "stderr",
          "text": [
            "Training: 100%|██████████| 10/10 [00:20<00:00,  2.07s/batch, accuracy=94.6, loss=0.652]\n",
            "Validation: 100%|██████████| 3/3 [00:02<00:00,  1.08batch/s, accuracy=87.3, loss=0.393]\n"
          ]
        },
        {
          "output_type": "stream",
          "name": "stdout",
          "text": [
            "Training Loss: 0.4699, Accuracy: 94.57%\n",
            "Validation Loss: 0.3584, Accuracy: 87.31%\n",
            "------------------------------\n",
            "Epoch [50/100]\n"
          ]
        },
        {
          "output_type": "stream",
          "name": "stderr",
          "text": [
            "Training: 100%|██████████| 10/10 [00:20<00:00,  2.07s/batch, accuracy=94, loss=0.333]\n",
            "Validation: 100%|██████████| 3/3 [00:02<00:00,  1.08batch/s, accuracy=86.3, loss=0.4]\n"
          ]
        },
        {
          "output_type": "stream",
          "name": "stdout",
          "text": [
            "Training Loss: 0.4368, Accuracy: 93.99%\n",
            "Validation Loss: 0.3741, Accuracy: 86.31%\n",
            "------------------------------\n",
            "Epoch [51/100]\n"
          ]
        },
        {
          "output_type": "stream",
          "name": "stderr",
          "text": [
            "Training: 100%|██████████| 10/10 [00:20<00:00,  2.07s/batch, accuracy=94.3, loss=0.501]\n",
            "Validation: 100%|██████████| 3/3 [00:02<00:00,  1.07batch/s, accuracy=86.1, loss=0.386]\n"
          ]
        },
        {
          "output_type": "stream",
          "name": "stdout",
          "text": [
            "Training Loss: 0.4373, Accuracy: 94.28%\n",
            "Validation Loss: 0.3543, Accuracy: 86.14%\n",
            "------------------------------\n",
            "Epoch [52/100]\n"
          ]
        },
        {
          "output_type": "stream",
          "name": "stderr",
          "text": [
            "Training: 100%|██████████| 10/10 [00:20<00:00,  2.03s/batch, accuracy=94.3, loss=0.402]\n",
            "Validation: 100%|██████████| 3/3 [00:03<00:00,  1.08s/batch, accuracy=85.1, loss=0.38]\n"
          ]
        },
        {
          "output_type": "stream",
          "name": "stdout",
          "text": [
            "Training Loss: 0.4493, Accuracy: 94.28%\n",
            "Validation Loss: 0.3759, Accuracy: 85.14%\n",
            "------------------------------\n",
            "Epoch [53/100]\n"
          ]
        },
        {
          "output_type": "stream",
          "name": "stderr",
          "text": [
            "Training: 100%|██████████| 10/10 [00:20<00:00,  2.00s/batch, accuracy=94.4, loss=0.761]\n",
            "Validation: 100%|██████████| 3/3 [00:03<00:00,  1.11s/batch, accuracy=85.6, loss=0.359]\n"
          ]
        },
        {
          "output_type": "stream",
          "name": "stdout",
          "text": [
            "Training Loss: 0.4688, Accuracy: 94.36%\n",
            "Validation Loss: 0.3569, Accuracy: 85.64%\n",
            "------------------------------\n",
            "Epoch [54/100]\n"
          ]
        },
        {
          "output_type": "stream",
          "name": "stderr",
          "text": [
            "Training: 100%|██████████| 10/10 [00:20<00:00,  2.03s/batch, accuracy=94.7, loss=0.467]\n",
            "Validation: 100%|██████████| 3/3 [00:02<00:00,  1.07batch/s, accuracy=86.3, loss=0.383]\n"
          ]
        },
        {
          "output_type": "stream",
          "name": "stdout",
          "text": [
            "Training Loss: 0.4280, Accuracy: 94.66%\n",
            "Validation Loss: 0.3680, Accuracy: 86.31%\n",
            "------------------------------\n",
            "Epoch [55/100]\n"
          ]
        },
        {
          "output_type": "stream",
          "name": "stderr",
          "text": [
            "Training: 100%|██████████| 10/10 [00:20<00:00,  2.06s/batch, accuracy=94.2, loss=0.427]\n",
            "Validation: 100%|██████████| 3/3 [00:02<00:00,  1.07batch/s, accuracy=87, loss=0.412]\n"
          ]
        },
        {
          "output_type": "stream",
          "name": "stdout",
          "text": [
            "Training Loss: 0.4374, Accuracy: 94.15%\n",
            "Validation Loss: 0.3620, Accuracy: 86.98%\n",
            "------------------------------\n",
            "Epoch [56/100]\n"
          ]
        },
        {
          "output_type": "stream",
          "name": "stderr",
          "text": [
            "Training: 100%|██████████| 10/10 [00:20<00:00,  2.05s/batch, accuracy=94.2, loss=0.704]\n",
            "Validation: 100%|██████████| 3/3 [00:02<00:00,  1.10batch/s, accuracy=85.8, loss=0.358]\n"
          ]
        },
        {
          "output_type": "stream",
          "name": "stdout",
          "text": [
            "Training Loss: 0.4598, Accuracy: 94.20%\n",
            "Validation Loss: 0.3601, Accuracy: 85.81%\n",
            "------------------------------\n",
            "Epoch [57/100]\n"
          ]
        },
        {
          "output_type": "stream",
          "name": "stderr",
          "text": [
            "Training: 100%|██████████| 10/10 [00:20<00:00,  2.05s/batch, accuracy=94.2, loss=0.561]\n",
            "Validation: 100%|██████████| 3/3 [00:02<00:00,  1.07batch/s, accuracy=86.1, loss=0.366]\n"
          ]
        },
        {
          "output_type": "stream",
          "name": "stdout",
          "text": [
            "Training Loss: 0.4457, Accuracy: 94.15%\n",
            "Validation Loss: 0.3571, Accuracy: 86.14%\n",
            "------------------------------\n",
            "Epoch [58/100]\n"
          ]
        },
        {
          "output_type": "stream",
          "name": "stderr",
          "text": [
            "Training: 100%|██████████| 10/10 [00:20<00:00,  2.03s/batch, accuracy=94.2, loss=0.336]\n",
            "Validation: 100%|██████████| 3/3 [00:03<00:00,  1.07s/batch, accuracy=86.1, loss=0.369]\n"
          ]
        },
        {
          "output_type": "stream",
          "name": "stdout",
          "text": [
            "Training Loss: 0.4309, Accuracy: 94.15%\n",
            "Validation Loss: 0.3587, Accuracy: 86.14%\n",
            "------------------------------\n",
            "Epoch [59/100]\n"
          ]
        },
        {
          "output_type": "stream",
          "name": "stderr",
          "text": [
            "Training: 100%|██████████| 10/10 [00:20<00:00,  2.01s/batch, accuracy=94.2, loss=0.461]\n",
            "Validation: 100%|██████████| 3/3 [00:03<00:00,  1.13s/batch, accuracy=87.5, loss=0.363]\n"
          ]
        },
        {
          "output_type": "stream",
          "name": "stdout",
          "text": [
            "Training Loss: 0.4597, Accuracy: 94.20%\n",
            "Validation Loss: 0.3362, Accuracy: 87.48%\n",
            "------------------------------\n",
            "Epoch [60/100]\n"
          ]
        },
        {
          "output_type": "stream",
          "name": "stderr",
          "text": [
            "Training: 100%|██████████| 10/10 [00:19<00:00,  1.99s/batch, accuracy=94.2, loss=0.578]\n",
            "Validation: 100%|██████████| 3/3 [00:02<00:00,  1.07batch/s, accuracy=87, loss=0.395]\n"
          ]
        },
        {
          "output_type": "stream",
          "name": "stdout",
          "text": [
            "Training Loss: 0.4556, Accuracy: 94.20%\n",
            "Validation Loss: 0.3732, Accuracy: 86.98%\n",
            "------------------------------\n",
            "Epoch [61/100]\n"
          ]
        },
        {
          "output_type": "stream",
          "name": "stderr",
          "text": [
            "Training: 100%|██████████| 10/10 [00:20<00:00,  2.06s/batch, accuracy=94, loss=0.645]\n",
            "Validation: 100%|██████████| 3/3 [00:02<00:00,  1.10batch/s, accuracy=86.6, loss=0.392]\n"
          ]
        },
        {
          "output_type": "stream",
          "name": "stdout",
          "text": [
            "Training Loss: 0.4607, Accuracy: 94.03%\n",
            "Validation Loss: 0.3595, Accuracy: 86.64%\n",
            "------------------------------\n",
            "Epoch [62/100]\n"
          ]
        },
        {
          "output_type": "stream",
          "name": "stderr",
          "text": [
            "Training: 100%|██████████| 10/10 [00:20<00:00,  2.06s/batch, accuracy=94.4, loss=0.449]\n",
            "Validation: 100%|██████████| 3/3 [00:02<00:00,  1.10batch/s, accuracy=86.8, loss=0.39]\n"
          ]
        },
        {
          "output_type": "stream",
          "name": "stdout",
          "text": [
            "Training Loss: 0.4308, Accuracy: 94.36%\n",
            "Validation Loss: 0.3669, Accuracy: 86.81%\n",
            "------------------------------\n",
            "Epoch [63/100]\n"
          ]
        },
        {
          "output_type": "stream",
          "name": "stderr",
          "text": [
            "Training: 100%|██████████| 10/10 [00:20<00:00,  2.05s/batch, accuracy=94.4, loss=0.402]\n",
            "Validation: 100%|██████████| 3/3 [00:02<00:00,  1.07batch/s, accuracy=86.5, loss=0.358]\n"
          ]
        },
        {
          "output_type": "stream",
          "name": "stdout",
          "text": [
            "Training Loss: 0.4288, Accuracy: 94.45%\n",
            "Validation Loss: 0.3404, Accuracy: 86.48%\n",
            "------------------------------\n",
            "Epoch [64/100]\n"
          ]
        },
        {
          "output_type": "stream",
          "name": "stderr",
          "text": [
            "Training: 100%|██████████| 10/10 [00:20<00:00,  2.02s/batch, accuracy=94.3, loss=0.41]\n",
            "Validation: 100%|██████████| 3/3 [00:03<00:00,  1.05s/batch, accuracy=86.6, loss=0.415]\n"
          ]
        },
        {
          "output_type": "stream",
          "name": "stdout",
          "text": [
            "Training Loss: 0.4283, Accuracy: 94.32%\n",
            "Validation Loss: 0.3579, Accuracy: 86.64%\n",
            "------------------------------\n",
            "Epoch [65/100]\n"
          ]
        },
        {
          "output_type": "stream",
          "name": "stderr",
          "text": [
            "Training: 100%|██████████| 10/10 [00:20<00:00,  2.03s/batch, accuracy=94.4, loss=0.283]\n",
            "Validation: 100%|██████████| 3/3 [00:03<00:00,  1.14s/batch, accuracy=86.1, loss=0.347]\n"
          ]
        },
        {
          "output_type": "stream",
          "name": "stdout",
          "text": [
            "Training Loss: 0.4223, Accuracy: 94.45%\n",
            "Validation Loss: 0.3509, Accuracy: 86.14%\n",
            "------------------------------\n",
            "Epoch [66/100]\n"
          ]
        },
        {
          "output_type": "stream",
          "name": "stderr",
          "text": [
            "Training: 100%|██████████| 10/10 [00:20<00:00,  2.00s/batch, accuracy=94.3, loss=0.506]\n",
            "Validation: 100%|██████████| 3/3 [00:03<00:00,  1.12s/batch, accuracy=85.3, loss=0.402]\n"
          ]
        },
        {
          "output_type": "stream",
          "name": "stdout",
          "text": [
            "Training Loss: 0.4437, Accuracy: 94.28%\n",
            "Validation Loss: 0.3694, Accuracy: 85.31%\n",
            "------------------------------\n",
            "Epoch [67/100]\n"
          ]
        },
        {
          "output_type": "stream",
          "name": "stderr",
          "text": [
            "Training: 100%|██████████| 10/10 [00:20<00:00,  2.02s/batch, accuracy=94.4, loss=0.761]\n",
            "Validation: 100%|██████████| 3/3 [00:02<00:00,  1.08batch/s, accuracy=87.6, loss=0.363]\n"
          ]
        },
        {
          "output_type": "stream",
          "name": "stdout",
          "text": [
            "Training Loss: 0.4681, Accuracy: 94.36%\n",
            "Validation Loss: 0.3442, Accuracy: 87.65%\n",
            "------------------------------\n",
            "Epoch [68/100]\n"
          ]
        },
        {
          "output_type": "stream",
          "name": "stderr",
          "text": [
            "Training: 100%|██████████| 10/10 [00:20<00:00,  2.07s/batch, accuracy=93.9, loss=0.34]\n",
            "Validation: 100%|██████████| 3/3 [00:02<00:00,  1.08batch/s, accuracy=87, loss=0.327]\n"
          ]
        },
        {
          "output_type": "stream",
          "name": "stdout",
          "text": [
            "Training Loss: 0.4344, Accuracy: 93.90%\n",
            "Validation Loss: 0.3427, Accuracy: 86.98%\n",
            "------------------------------\n",
            "Epoch [69/100]\n"
          ]
        },
        {
          "output_type": "stream",
          "name": "stderr",
          "text": [
            "Training: 100%|██████████| 10/10 [00:20<00:00,  2.06s/batch, accuracy=94.6, loss=0.412]\n",
            "Validation: 100%|██████████| 3/3 [00:02<00:00,  1.07batch/s, accuracy=86.6, loss=0.334]\n"
          ]
        },
        {
          "output_type": "stream",
          "name": "stdout",
          "text": [
            "Training Loss: 0.4268, Accuracy: 94.61%\n",
            "Validation Loss: 0.3595, Accuracy: 86.64%\n",
            "------------------------------\n",
            "Epoch [70/100]\n"
          ]
        },
        {
          "output_type": "stream",
          "name": "stderr",
          "text": [
            "Training: 100%|██████████| 10/10 [00:20<00:00,  2.06s/batch, accuracy=93.6, loss=0.668]\n",
            "Validation: 100%|██████████| 3/3 [00:02<00:00,  1.07batch/s, accuracy=87.1, loss=0.33]\n"
          ]
        },
        {
          "output_type": "stream",
          "name": "stdout",
          "text": [
            "Training Loss: 0.4757, Accuracy: 93.57%\n",
            "Validation Loss: 0.3511, Accuracy: 87.15%\n",
            "------------------------------\n",
            "Epoch [71/100]\n"
          ]
        },
        {
          "output_type": "stream",
          "name": "stderr",
          "text": [
            "Training: 100%|██████████| 10/10 [00:20<00:00,  2.04s/batch, accuracy=94.7, loss=0.415]\n",
            "Validation: 100%|██████████| 3/3 [00:03<00:00,  1.06s/batch, accuracy=86, loss=0.421]\n"
          ]
        },
        {
          "output_type": "stream",
          "name": "stdout",
          "text": [
            "Training Loss: 0.4321, Accuracy: 94.74%\n",
            "Validation Loss: 0.3646, Accuracy: 85.98%\n",
            "------------------------------\n",
            "Epoch [72/100]\n"
          ]
        },
        {
          "output_type": "stream",
          "name": "stderr",
          "text": [
            "Training: 100%|██████████| 10/10 [00:20<00:00,  2.00s/batch, accuracy=94, loss=0.514]\n",
            "Validation: 100%|██████████| 3/3 [00:03<00:00,  1.12s/batch, accuracy=87.1, loss=0.351]\n"
          ]
        },
        {
          "output_type": "stream",
          "name": "stdout",
          "text": [
            "Training Loss: 0.4378, Accuracy: 94.03%\n",
            "Validation Loss: 0.3522, Accuracy: 87.15%\n",
            "------------------------------\n",
            "Epoch [73/100]\n"
          ]
        },
        {
          "output_type": "stream",
          "name": "stderr",
          "text": [
            "Training: 100%|██████████| 10/10 [00:20<00:00,  2.03s/batch, accuracy=94.2, loss=0.546]\n",
            "Validation: 100%|██████████| 3/3 [00:02<00:00,  1.03batch/s, accuracy=86, loss=0.388]\n"
          ]
        },
        {
          "output_type": "stream",
          "name": "stdout",
          "text": [
            "Training Loss: 0.4484, Accuracy: 94.15%\n",
            "Validation Loss: 0.3654, Accuracy: 85.98%\n",
            "------------------------------\n",
            "Epoch [74/100]\n"
          ]
        },
        {
          "output_type": "stream",
          "name": "stderr",
          "text": [
            "Training: 100%|██████████| 10/10 [00:20<00:00,  2.08s/batch, accuracy=93.4, loss=0.402]\n",
            "Validation: 100%|██████████| 3/3 [00:02<00:00,  1.07batch/s, accuracy=86, loss=0.357]\n"
          ]
        },
        {
          "output_type": "stream",
          "name": "stdout",
          "text": [
            "Training Loss: 0.4419, Accuracy: 93.44%\n",
            "Validation Loss: 0.3603, Accuracy: 85.98%\n",
            "------------------------------\n",
            "Epoch [75/100]\n"
          ]
        },
        {
          "output_type": "stream",
          "name": "stderr",
          "text": [
            "Training: 100%|██████████| 10/10 [00:20<00:00,  2.06s/batch, accuracy=94.4, loss=0.319]\n",
            "Validation: 100%|██████████| 3/3 [00:02<00:00,  1.05batch/s, accuracy=87, loss=0.363]\n"
          ]
        },
        {
          "output_type": "stream",
          "name": "stdout",
          "text": [
            "Training Loss: 0.4197, Accuracy: 94.36%\n",
            "Validation Loss: 0.3532, Accuracy: 86.98%\n",
            "------------------------------\n",
            "Epoch [76/100]\n"
          ]
        },
        {
          "output_type": "stream",
          "name": "stderr",
          "text": [
            "Training: 100%|██████████| 10/10 [00:20<00:00,  2.09s/batch, accuracy=94.6, loss=0.482]\n",
            "Validation: 100%|██████████| 3/3 [00:02<00:00,  1.08batch/s, accuracy=85.6, loss=0.402]\n"
          ]
        },
        {
          "output_type": "stream",
          "name": "stdout",
          "text": [
            "Training Loss: 0.4354, Accuracy: 94.61%\n",
            "Validation Loss: 0.3667, Accuracy: 85.64%\n",
            "------------------------------\n",
            "Epoch [77/100]\n"
          ]
        },
        {
          "output_type": "stream",
          "name": "stderr",
          "text": [
            "Training: 100%|██████████| 10/10 [00:20<00:00,  2.06s/batch, accuracy=93.9, loss=0.682]\n",
            "Validation: 100%|██████████| 3/3 [00:02<00:00,  1.07batch/s, accuracy=86.6, loss=0.38]\n"
          ]
        },
        {
          "output_type": "stream",
          "name": "stdout",
          "text": [
            "Training Loss: 0.4742, Accuracy: 93.86%\n",
            "Validation Loss: 0.3548, Accuracy: 86.64%\n",
            "------------------------------\n",
            "Epoch [78/100]\n"
          ]
        },
        {
          "output_type": "stream",
          "name": "stderr",
          "text": [
            "Training: 100%|██████████| 10/10 [00:20<00:00,  2.03s/batch, accuracy=94.6, loss=0.417]\n",
            "Validation: 100%|██████████| 3/3 [00:03<00:00,  1.06s/batch, accuracy=86.5, loss=0.394]\n"
          ]
        },
        {
          "output_type": "stream",
          "name": "stdout",
          "text": [
            "Training Loss: 0.4410, Accuracy: 94.57%\n",
            "Validation Loss: 0.3601, Accuracy: 86.48%\n",
            "------------------------------\n",
            "Epoch [79/100]\n"
          ]
        },
        {
          "output_type": "stream",
          "name": "stderr",
          "text": [
            "Training: 100%|██████████| 10/10 [00:19<00:00,  1.99s/batch, accuracy=93.9, loss=0.445]\n",
            "Validation: 100%|██████████| 3/3 [00:03<00:00,  1.11s/batch, accuracy=86.1, loss=0.39]\n"
          ]
        },
        {
          "output_type": "stream",
          "name": "stdout",
          "text": [
            "Training Loss: 0.4355, Accuracy: 93.86%\n",
            "Validation Loss: 0.3593, Accuracy: 86.14%\n",
            "------------------------------\n",
            "Epoch [80/100]\n"
          ]
        },
        {
          "output_type": "stream",
          "name": "stderr",
          "text": [
            "Training: 100%|██████████| 10/10 [00:20<00:00,  2.02s/batch, accuracy=94, loss=0.356]\n",
            "Validation: 100%|██████████| 3/3 [00:02<00:00,  1.08batch/s, accuracy=85.6, loss=0.372]\n"
          ]
        },
        {
          "output_type": "stream",
          "name": "stdout",
          "text": [
            "Training Loss: 0.4348, Accuracy: 93.99%\n",
            "Validation Loss: 0.3681, Accuracy: 85.64%\n",
            "------------------------------\n",
            "Epoch [81/100]\n"
          ]
        },
        {
          "output_type": "stream",
          "name": "stderr",
          "text": [
            "Training: 100%|██████████| 10/10 [00:20<00:00,  2.07s/batch, accuracy=94.5, loss=0.387]\n",
            "Validation: 100%|██████████| 3/3 [00:02<00:00,  1.10batch/s, accuracy=85.8, loss=0.399]\n"
          ]
        },
        {
          "output_type": "stream",
          "name": "stdout",
          "text": [
            "Training Loss: 0.4265, Accuracy: 94.53%\n",
            "Validation Loss: 0.3781, Accuracy: 85.81%\n",
            "------------------------------\n",
            "Epoch [82/100]\n"
          ]
        },
        {
          "output_type": "stream",
          "name": "stderr",
          "text": [
            "Training: 100%|██████████| 10/10 [00:20<00:00,  2.08s/batch, accuracy=94.4, loss=0.504]\n",
            "Validation: 100%|██████████| 3/3 [00:02<00:00,  1.07batch/s, accuracy=86.1, loss=0.345]\n"
          ]
        },
        {
          "output_type": "stream",
          "name": "stdout",
          "text": [
            "Training Loss: 0.4489, Accuracy: 94.36%\n",
            "Validation Loss: 0.3512, Accuracy: 86.14%\n",
            "------------------------------\n",
            "Epoch [83/100]\n"
          ]
        },
        {
          "output_type": "stream",
          "name": "stderr",
          "text": [
            "Training: 100%|██████████| 10/10 [00:20<00:00,  2.09s/batch, accuracy=94.7, loss=0.415]\n",
            "Validation: 100%|██████████| 3/3 [00:02<00:00,  1.07batch/s, accuracy=86.3, loss=0.355]\n"
          ]
        },
        {
          "output_type": "stream",
          "name": "stdout",
          "text": [
            "Training Loss: 0.4297, Accuracy: 94.74%\n",
            "Validation Loss: 0.3542, Accuracy: 86.31%\n",
            "------------------------------\n",
            "Epoch [84/100]\n"
          ]
        },
        {
          "output_type": "stream",
          "name": "stderr",
          "text": [
            "Training: 100%|██████████| 10/10 [00:20<00:00,  2.03s/batch, accuracy=94, loss=0.457]\n",
            "Validation: 100%|██████████| 3/3 [00:03<00:00,  1.07s/batch, accuracy=87, loss=0.427]\n"
          ]
        },
        {
          "output_type": "stream",
          "name": "stdout",
          "text": [
            "Training Loss: 0.4526, Accuracy: 93.99%\n",
            "Validation Loss: 0.3697, Accuracy: 86.98%\n",
            "------------------------------\n",
            "Epoch [85/100]\n"
          ]
        },
        {
          "output_type": "stream",
          "name": "stderr",
          "text": [
            "Training: 100%|██████████| 10/10 [00:20<00:00,  2.00s/batch, accuracy=93.8, loss=0.411]\n",
            "Validation: 100%|██████████| 3/3 [00:03<00:00,  1.13s/batch, accuracy=85.3, loss=0.404]\n"
          ]
        },
        {
          "output_type": "stream",
          "name": "stdout",
          "text": [
            "Training Loss: 0.4388, Accuracy: 93.82%\n",
            "Validation Loss: 0.3601, Accuracy: 85.31%\n",
            "------------------------------\n",
            "Epoch [86/100]\n"
          ]
        },
        {
          "output_type": "stream",
          "name": "stderr",
          "text": [
            "Training: 100%|██████████| 10/10 [00:20<00:00,  2.02s/batch, accuracy=94.6, loss=0.568]\n",
            "Validation: 100%|██████████| 3/3 [00:02<00:00,  1.07batch/s, accuracy=85.8, loss=0.386]\n"
          ]
        },
        {
          "output_type": "stream",
          "name": "stdout",
          "text": [
            "Training Loss: 0.4350, Accuracy: 94.61%\n",
            "Validation Loss: 0.3702, Accuracy: 85.81%\n",
            "------------------------------\n",
            "Epoch [87/100]\n"
          ]
        },
        {
          "output_type": "stream",
          "name": "stderr",
          "text": [
            "Training: 100%|██████████| 10/10 [00:20<00:00,  2.07s/batch, accuracy=94.2, loss=0.378]\n",
            "Validation: 100%|██████████| 3/3 [00:02<00:00,  1.07batch/s, accuracy=85, loss=0.408]\n"
          ]
        },
        {
          "output_type": "stream",
          "name": "stdout",
          "text": [
            "Training Loss: 0.4503, Accuracy: 94.15%\n",
            "Validation Loss: 0.3840, Accuracy: 84.97%\n",
            "------------------------------\n",
            "Epoch [88/100]\n"
          ]
        },
        {
          "output_type": "stream",
          "name": "stderr",
          "text": [
            "Training: 100%|██████████| 10/10 [00:20<00:00,  2.07s/batch, accuracy=94.1, loss=0.569]\n",
            "Validation: 100%|██████████| 3/3 [00:02<00:00,  1.07batch/s, accuracy=87.1, loss=0.367]\n"
          ]
        },
        {
          "output_type": "stream",
          "name": "stdout",
          "text": [
            "Training Loss: 0.4506, Accuracy: 94.11%\n",
            "Validation Loss: 0.3526, Accuracy: 87.15%\n",
            "------------------------------\n",
            "Epoch [89/100]\n"
          ]
        },
        {
          "output_type": "stream",
          "name": "stderr",
          "text": [
            "Training: 100%|██████████| 10/10 [00:20<00:00,  2.06s/batch, accuracy=94.5, loss=0.615]\n",
            "Validation: 100%|██████████| 3/3 [00:02<00:00,  1.08batch/s, accuracy=86.5, loss=0.388]\n"
          ]
        },
        {
          "output_type": "stream",
          "name": "stdout",
          "text": [
            "Training Loss: 0.4524, Accuracy: 94.53%\n",
            "Validation Loss: 0.3640, Accuracy: 86.48%\n",
            "------------------------------\n",
            "Epoch [90/100]\n"
          ]
        },
        {
          "output_type": "stream",
          "name": "stderr",
          "text": [
            "Training: 100%|██████████| 10/10 [00:20<00:00,  2.02s/batch, accuracy=94.1, loss=0.571]\n",
            "Validation: 100%|██████████| 3/3 [00:02<00:00,  1.02batch/s, accuracy=86.1, loss=0.334]\n"
          ]
        },
        {
          "output_type": "stream",
          "name": "stdout",
          "text": [
            "Training Loss: 0.4506, Accuracy: 94.11%\n",
            "Validation Loss: 0.3486, Accuracy: 86.14%\n",
            "------------------------------\n",
            "Epoch [91/100]\n"
          ]
        },
        {
          "output_type": "stream",
          "name": "stderr",
          "text": [
            "Training: 100%|██████████| 10/10 [00:19<00:00,  1.99s/batch, accuracy=94.2, loss=0.809]\n",
            "Validation: 100%|██████████| 3/3 [00:03<00:00,  1.16s/batch, accuracy=86.5, loss=0.422]\n"
          ]
        },
        {
          "output_type": "stream",
          "name": "stdout",
          "text": [
            "Training Loss: 0.4509, Accuracy: 94.20%\n",
            "Validation Loss: 0.3681, Accuracy: 86.48%\n",
            "------------------------------\n",
            "Epoch [92/100]\n"
          ]
        },
        {
          "output_type": "stream",
          "name": "stderr",
          "text": [
            "Training: 100%|██████████| 10/10 [00:19<00:00,  1.99s/batch, accuracy=94.2, loss=0.348]\n",
            "Validation: 100%|██████████| 3/3 [00:03<00:00,  1.01s/batch, accuracy=86, loss=0.36]\n"
          ]
        },
        {
          "output_type": "stream",
          "name": "stdout",
          "text": [
            "Training Loss: 0.4350, Accuracy: 94.15%\n",
            "Validation Loss: 0.3561, Accuracy: 85.98%\n",
            "------------------------------\n",
            "Epoch [93/100]\n"
          ]
        },
        {
          "output_type": "stream",
          "name": "stderr",
          "text": [
            "Training: 100%|██████████| 10/10 [00:20<00:00,  2.03s/batch, accuracy=94.2, loss=0.655]\n",
            "Validation: 100%|██████████| 3/3 [00:02<00:00,  1.07batch/s, accuracy=86.1, loss=0.363]\n"
          ]
        },
        {
          "output_type": "stream",
          "name": "stdout",
          "text": [
            "Training Loss: 0.4636, Accuracy: 94.20%\n",
            "Validation Loss: 0.3642, Accuracy: 86.14%\n",
            "------------------------------\n",
            "Epoch [94/100]\n"
          ]
        },
        {
          "output_type": "stream",
          "name": "stderr",
          "text": [
            "Training: 100%|██████████| 10/10 [00:20<00:00,  2.05s/batch, accuracy=93.9, loss=0.601]\n",
            "Validation: 100%|██████████| 3/3 [00:02<00:00,  1.08batch/s, accuracy=85.5, loss=0.332]\n"
          ]
        },
        {
          "output_type": "stream",
          "name": "stdout",
          "text": [
            "Training Loss: 0.4602, Accuracy: 93.90%\n",
            "Validation Loss: 0.3466, Accuracy: 85.48%\n",
            "------------------------------\n",
            "Epoch [95/100]\n"
          ]
        },
        {
          "output_type": "stream",
          "name": "stderr",
          "text": [
            "Training: 100%|██████████| 10/10 [00:20<00:00,  2.07s/batch, accuracy=93.9, loss=0.484]\n",
            "Validation: 100%|██████████| 3/3 [00:02<00:00,  1.07batch/s, accuracy=86.6, loss=0.389]\n"
          ]
        },
        {
          "output_type": "stream",
          "name": "stdout",
          "text": [
            "Training Loss: 0.4548, Accuracy: 93.86%\n",
            "Validation Loss: 0.3733, Accuracy: 86.64%\n",
            "------------------------------\n",
            "Epoch [96/100]\n"
          ]
        },
        {
          "output_type": "stream",
          "name": "stderr",
          "text": [
            "Training: 100%|██████████| 10/10 [00:20<00:00,  2.05s/batch, accuracy=93.8, loss=0.244]\n",
            "Validation: 100%|██████████| 3/3 [00:02<00:00,  1.07batch/s, accuracy=87.5, loss=0.366]\n"
          ]
        },
        {
          "output_type": "stream",
          "name": "stdout",
          "text": [
            "Training Loss: 0.4324, Accuracy: 93.78%\n",
            "Validation Loss: 0.3575, Accuracy: 87.48%\n",
            "------------------------------\n",
            "Epoch [97/100]\n"
          ]
        },
        {
          "output_type": "stream",
          "name": "stderr",
          "text": [
            "Training: 100%|██████████| 10/10 [00:20<00:00,  2.02s/batch, accuracy=93.9, loss=0.486]\n",
            "Validation: 100%|██████████| 3/3 [00:03<00:00,  1.07s/batch, accuracy=86.8, loss=0.386]\n"
          ]
        },
        {
          "output_type": "stream",
          "name": "stdout",
          "text": [
            "Training Loss: 0.4654, Accuracy: 93.86%\n",
            "Validation Loss: 0.3646, Accuracy: 86.81%\n",
            "------------------------------\n",
            "Epoch [98/100]\n"
          ]
        },
        {
          "output_type": "stream",
          "name": "stderr",
          "text": [
            "Training: 100%|██████████| 10/10 [00:19<00:00,  1.98s/batch, accuracy=93.6, loss=0.369]\n",
            "Validation: 100%|██████████| 3/3 [00:03<00:00,  1.11s/batch, accuracy=86.3, loss=0.379]\n"
          ]
        },
        {
          "output_type": "stream",
          "name": "stdout",
          "text": [
            "Training Loss: 0.4498, Accuracy: 93.61%\n",
            "Validation Loss: 0.3606, Accuracy: 86.31%\n",
            "------------------------------\n",
            "Epoch [99/100]\n"
          ]
        },
        {
          "output_type": "stream",
          "name": "stderr",
          "text": [
            "Training: 100%|██████████| 10/10 [00:19<00:00,  1.99s/batch, accuracy=93.9, loss=0.44]\n",
            "Validation: 100%|██████████| 3/3 [00:02<00:00,  1.08batch/s, accuracy=86.8, loss=0.35]\n"
          ]
        },
        {
          "output_type": "stream",
          "name": "stdout",
          "text": [
            "Training Loss: 0.4323, Accuracy: 93.90%\n",
            "Validation Loss: 0.3452, Accuracy: 86.81%\n",
            "------------------------------\n",
            "Epoch [100/100]\n"
          ]
        },
        {
          "output_type": "stream",
          "name": "stderr",
          "text": [
            "Training: 100%|██████████| 10/10 [00:20<00:00,  2.06s/batch, accuracy=93.9, loss=0.528]\n",
            "Validation: 100%|██████████| 3/3 [00:02<00:00,  1.08batch/s, accuracy=87.3, loss=0.34]"
          ]
        },
        {
          "output_type": "stream",
          "name": "stdout",
          "text": [
            "Training Loss: 0.4552, Accuracy: 93.90%\n",
            "Validation Loss: 0.3420, Accuracy: 87.31%\n",
            "------------------------------\n"
          ]
        },
        {
          "output_type": "stream",
          "name": "stderr",
          "text": [
            "\n"
          ]
        }
      ],
      "source": [
        "google_net_model = GoogLeNet().to(device)\n",
        "optimizer = optim.Adam(google_net_model.parameters(), lr=learning_rate)\n",
        "train_accuracies, train_losses, val_accuracy, val_losses = train_model(google_net_model, optimizer, criterion,\n",
        "                                                                       google_net_train_dataloader, google_net_test_dataloader,\n",
        "                                                                       google_net_dataset, num_epochs=num_epochs, device=device)"
      ]
    },
    {
      "cell_type": "code",
      "source": [
        "plot_metric('Accuracy', train_accuracies, val_accuracy, epochs=num_epochs)\n",
        "plot_metric('Loss', train_losses, val_losses, epochs=num_epochs)"
      ],
      "metadata": {
        "colab": {
          "base_uri": "https://localhost:8080/",
          "height": 977
        },
        "id": "N6GyDNx8uG6j",
        "outputId": "a6b3016e-6f02-4672-fee9-5da6cccbbcb8"
      },
      "execution_count": 60,
      "outputs": [
        {
          "output_type": "display_data",
          "data": {
            "text/plain": [
              "<Figure size 1000x500 with 1 Axes>"
            ],
            "image/png": "[encoded data removed]"
          },
          "metadata": {}
        },
        {
          "output_type": "display_data",
          "data": {
            "text/plain": [
              "<Figure size 1000x500 with 1 Axes>"
            ],
            "image/png": "[encoded data removed]"
          },
          "metadata": {}
        }
      ]
    },
    {
      "cell_type": "code",
      "execution_count": 64,
      "metadata": {
        "id": "0AMFQ287Enny"
      },
      "outputs": [],
      "source": [
        "# custom_train_transform = transforms.Compose([\n",
        "#     transforms.ToPILImage(),\n",
        "#     #transforms.RandomHorizontalFlip(),\n",
        "#     #transforms.RandomVerticalFlip(),\n",
        "#     #transforms.RandomRotation(15),\n",
        "#     #transforms.RandomResizedCrop(224, scale=(0.9, 1.1)),\n",
        "#     transforms.ColorJitter(brightness=0.1, contrast=0.1, saturation=0.1),\n",
        "#     ToTensorAndMove(device),\n",
        "# ])\n",
        "\n",
        "# custom_val_transform = transforms.Compose([\n",
        "#     transforms.ToPILImage(),\n",
        "#     transforms.ColorJitter(brightness=0.1, contrast=0.1, saturation=0.1),\n",
        "#     ToTensorAndMove(device),\n",
        "# ])"
      ]
    },
    {
      "cell_type": "code",
      "source": [
        "# google_net_dataset = Data(device, mode='train',\n",
        "#                                train_transform=custom_train_transform, val_transform=custom_val_transform)\n",
        "\n",
        "# google_net_dataset.normalize()\n",
        "# google_net_dataset.train_val_split()\n",
        "\n",
        "# google_net_train_dataloader = DataLoader(google_net_dataset, batch_size=batch_size, shuffle=True)\n",
        "# google_net_test_dataloader = DataLoader(google_net_dataset, batch_size=batch_size, shuffle=False)"
      ],
      "metadata": {
        "id": "RCdyp4oqR9DN"
      },
      "execution_count": 65,
      "outputs": []
    },
    {
      "cell_type": "code",
      "source": [
        "# google_net_model = GoogLeNet().to(device)\n",
        "# optimizer = optim.Adam(google_net_model.parameters(), lr=learning_rate)\n",
        "# train_accuracies, train_losses, val_accuracy, val_losses = train_model(google_net_model, optimizer, criterion,\n",
        "#                                                                        google_net_train_dataloader, google_net_test_dataloader,\n",
        "#                                                                        google_net_dataset, num_epochs=num_epochs, device=device)"
      ],
      "metadata": {
        "id": "Eh9oSPrGRuOk"
      },
      "execution_count": 66,
      "outputs": []
    },
    {
      "cell_type": "code",
      "source": [],
      "metadata": {
        "id": "D61Vr2pdRz33"
      },
      "execution_count": null,
      "outputs": []
    }
  ],
  "metadata": {
    "kernelspec": {
      "display_name": "Python 3",
      "name": "python3"
    },
    "language_info": {
      "codemirror_mode": {
        "name": "ipython",
        "version": 3
      },
      "file_extension": ".py",
      "mimetype": "text/x-python",
      "name": "python",
      "nbconvert_exporter": "python",
      "pygments_lexer": "ipython3",
      "version": "3.12.6"
    },
    "colab": {
      "provenance": [],
      "gpuType": "T4"
    },
    "accelerator": "GPU"
  },
  "nbformat": 4,
  "nbformat_minor": 0
}