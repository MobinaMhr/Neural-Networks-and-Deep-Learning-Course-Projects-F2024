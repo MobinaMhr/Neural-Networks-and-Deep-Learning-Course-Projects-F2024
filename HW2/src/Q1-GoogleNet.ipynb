{
 "cells": [
  {
   "cell_type": "code",
   "execution_count": 1,
   "metadata": {},
   "outputs": [],
   "source": [
    "import numpy as np\n",
    "import torch\n",
    "import torch.nn as nn\n",
    "import torch.nn.functional as F\n",
    "from torch import optim\n",
    "from torch.utils.data import Dataset, DataLoader, ConcatDataset\n",
    "from torchvision import transforms\n",
    "import glob\n",
    "import matplotlib.pyplot as plt\n",
    "from sklearn.metrics import confusion_matrix, accuracy_score\n",
    "from sklearn.model_selection import train_test_split\n",
    "import random\n",
    "import cv2\n",
    "import sys\n",
    "from tqdm import tqdm"
   ]
  },
  {
   "cell_type": "code",
   "execution_count": 2,
   "metadata": {},
   "outputs": [
    {
     "name": "stdout",
     "output_type": "stream",
     "text": [
      "cuda\n"
     ]
    }
   ],
   "source": [
    "device = torch.device(\"cuda\" if torch.cuda.is_available() else \"cpu\")\n",
    "print(device)"
   ]
  },
  {
   "cell_type": "code",
   "execution_count": 3,
   "metadata": {},
   "outputs": [],
   "source": [
    "def load_from_dataset (path , img_size_w , img_size_h):\n",
    "  data = []\n",
    "  for f in glob.iglob(path):\n",
    "    img = cv2.imread(f)\n",
    "    img = cv2.resize(img,(img_size_w,img_size_h))\n",
    "    data.append(img)\n",
    "  return data"
   ]
  },
  {
   "cell_type": "code",
   "execution_count": 4,
   "metadata": {},
   "outputs": [],
   "source": [
    "class Data(Dataset):\n",
    "    def __init__(self, device, img_size_w = 224, img_size_h = 224, mode='train', train_transform=None, val_transform=None):\n",
    "        self.img_size_w = img_size_w\n",
    "\n",
    "        self.img_size_h = img_size_h\n",
    "\n",
    "        self.X_train, self.y_train, self.X_test, self.y_test = None, None, None, None\n",
    "\n",
    "        self.mode = mode\n",
    "\n",
    "        benign_path = \"../data/benign/*.jpg\"\n",
    "        malignant_path = \"../data/malignant/*.jpg\"\n",
    "\n",
    "        benign = load_from_dataset (benign_path , img_size_w , img_size_h)\n",
    "        malignant = load_from_dataset (malignant_path , img_size_w , img_size_h)\n",
    "\n",
    "        benign = np.array(benign , dtype=np.float32)\n",
    "        malignant = np.array(malignant , dtype=np.float32)\n",
    "        print (f'dataset shape is : {benign.shape}')\n",
    "\n",
    "        benign_labels = np.zeros(benign.shape[0], dtype=np.float32)\n",
    "        malignant_labels = np.full(malignant.shape[0], 1.0)\n",
    "\n",
    "        self.images = np.concatenate((benign, malignant), axis=0)\n",
    "        self.labels = np.concatenate((benign_labels, malignant_labels))\n",
    "\n",
    "        self.train_transform = train_transform if train_transform else transforms.Compose([\n",
    "            transforms.ToPILImage(),\n",
    "            #transforms.Resize((img_size_h, img_size_w)),\n",
    "            transforms.RandomHorizontalFlip(),\n",
    "            transforms.RandomRotation(10),\n",
    "            transforms.ToTensor(),\n",
    "            #transforms.Normalize(mean=[0.485, 0.456, 0.406], std=[0.229, 0.224, 0.225])\n",
    "        ])\n",
    "\n",
    "        self.val_transform = val_transform if val_transform else transforms.Compose([\n",
    "            transforms.ToPILImage(),\n",
    "            #transforms.Resize((img_size_h, img_size_w)),\n",
    "            transforms.ToTensor(),\n",
    "            #transforms.Normalize(mean=[0.485, 0.456, 0.406], std=[0.229, 0.224, 0.225])\n",
    "        ])\n",
    "\n",
    "    def train_val_split(self):\n",
    "        self.X_train, self.X_test, self.y_train, self.y_test = \\\n",
    "        train_test_split(self.images, self.labels, test_size=0.20, random_state=42)\n",
    "\n",
    "    def __len__(self):\n",
    "        if self.mode == 'train':\n",
    "          return self.X_train.shape[0]\n",
    "        elif self.mode == 'val':\n",
    "          return self.X_test.shape[0]\n",
    "\n",
    "    def __getitem__(self, idx):\n",
    "        if self.mode == 'train':\n",
    "            image, label = self.X_train[idx], self.y_train[idx]\n",
    "            image = self.train_transform(image)\n",
    "        elif self.mode == 'val':\n",
    "            image, label = self.X_test[idx], self.y_test[idx]\n",
    "            image = self.val_transform(image)\n",
    "\n",
    "        label = torch.tensor(label, dtype=torch.float32).to(device)\n",
    "        return {'image': image, 'label': label}\n",
    "\n",
    "    def normalize(self):\n",
    "        self.images = self.images/255.0"
   ]
  },
  {
   "cell_type": "code",
   "execution_count": 5,
   "metadata": {},
   "outputs": [],
   "source": [
    "class ToTensorAndMove: \n",
    "    def __init__(self, device): \n",
    "        self.to_tensor = transforms.ToTensor() \n",
    "        self.device = device \n",
    "    def __call__(self, img): \n",
    "        tensor = self.to_tensor(img) \n",
    "        return tensor.to(self.device)"
   ]
  },
  {
   "cell_type": "code",
   "execution_count": 6,
   "metadata": {},
   "outputs": [],
   "source": [
    "custom_train_transform = transforms.Compose([\n",
    "    transforms.ToPILImage(),\n",
    "    transforms.RandomHorizontalFlip(),\n",
    "    transforms.RandomVerticalFlip(),\n",
    "    transforms.RandomRotation(15),\n",
    "    transforms.RandomResizedCrop(28, scale=(0.9, 1.1)),\n",
    "    transforms.ColorJitter(brightness=0.1, contrast=0.1, saturation=0.1),\n",
    "    ToTensorAndMove(device),\n",
    "])\n",
    "\n",
    "custom_val_transform = transforms.Compose([\n",
    "    transforms.ToPILImage(),\n",
    "    ToTensorAndMove(device),\n",
    "])"
   ]
  },
  {
   "cell_type": "code",
   "execution_count": 7,
   "metadata": {},
   "outputs": [],
   "source": [
    "class SkinCancerCNN(nn.Module):\n",
    "    def __init__(self):\n",
    "        super(SkinCancerCNN, self).__init__()\n",
    "        \n",
    "        self.conv1 = nn.Conv2d(in_channels=3, out_channels=16, kernel_size=3, padding=1, stride=1)  \n",
    "        self.pool1 = nn.MaxPool2d(kernel_size=2, stride=2)  \n",
    "        \n",
    "        self.conv2 = nn.Conv2d(in_channels=16, out_channels=32, kernel_size=3, padding=1, stride=1)  \n",
    "        self.pool2 = nn.MaxPool2d(kernel_size=2, stride=2) \n",
    "        \n",
    "        self.conv3 = nn.Conv2d(in_channels=32, out_channels=64, kernel_size=3, padding=1, stride=1) \n",
    "        self.pool3 = nn.MaxPool2d(kernel_size=1, stride=2)\n",
    "        \n",
    "        self.conv4 = nn.Conv2d(in_channels=64, out_channels=128, kernel_size=3, padding=1, stride=1)\n",
    "        self.pool4 = nn.MaxPool2d(kernel_size=2, stride=2)\n",
    "        \n",
    "        self.flatten = nn.Flatten()\n",
    "        \n",
    "        self.fc1 = nn.Linear(2 * 2 * 128, 64) \n",
    "        self.fc2 = nn.Linear(64, 32)  \n",
    "        self.fc3 = nn.Linear(32, 2)   \n",
    "\n",
    "    def forward(self, x):\n",
    "        x = F.relu(self.conv1(x))\n",
    "        x = self.pool1(x)\n",
    "        \n",
    "        x = F.relu(self.conv2(x))\n",
    "        x = self.pool2(x)\n",
    "        \n",
    "        x = F.relu(self.conv3(x))\n",
    "        x = self.pool3(x)\n",
    "        \n",
    "        x = F.relu(self.conv4(x))\n",
    "        x = self.pool4(x)\n",
    "        \n",
    "        x = self.flatten(x)\n",
    "        \n",
    "        x = F.relu(self.fc1(x))\n",
    "        x = F.relu(self.fc2(x))\n",
    "        x = self.fc3(x)  \n",
    "        return x"
   ]
  },
  {
   "cell_type": "code",
   "execution_count": 8,
   "metadata": {},
   "outputs": [],
   "source": [
    "in_channels = 3\n",
    "num_classes = 2\n",
    "learning_rate = 3e-4 # karpathy's constant\n",
    "batch_size = 256\n",
    "num_epochs = 100"
   ]
  },
  {
   "cell_type": "code",
   "execution_count": 9,
   "metadata": {},
   "outputs": [],
   "source": [
    "model = SkinCancerCNN().to(device)\n",
    "criterion = nn.CrossEntropyLoss()\n",
    "optimizer = optim.Adam(model.parameters(), lr=learning_rate)"
   ]
  },
  {
   "cell_type": "code",
   "execution_count": 10,
   "metadata": {},
   "outputs": [],
   "source": [
    "def train_model(model, optimizer, criterion, train_loader, val_loader, dataset, num_epochs=10, device='cuda'):\n",
    "    model.to(device)\n",
    "    train_accuracies = []\n",
    "    train_losses = []\n",
    "    val_accuracies = []\n",
    "    val_losses = []\n",
    "    scheduler = torch.optim.lr_scheduler.ReduceLROnPlateau(optimizer, factor=0.1, patience=10, verbose=True)\n",
    "    \n",
    "    for epoch in range(num_epochs):\n",
    "        print(f\"Epoch [{epoch + 1}/{num_epochs}]\")\n",
    "        dataset.mode = 'train'\n",
    "        model.train()\n",
    "        train_loss = 0.0\n",
    "        correct = 0\n",
    "        total = 0\n",
    "        \n",
    "        with tqdm(total=len(train_loader), desc=\"Training\", unit=\"batch\") as pbar:\n",
    "            for batch in train_loader:\n",
    "                images, labels = batch['image'].to(device), batch['label'].to(device)\n",
    "                \n",
    "                optimizer.zero_grad()  \n",
    "                outputs = model(images)\n",
    "                loss = criterion(outputs, labels.long())  \n",
    "                \n",
    "                loss.backward()\n",
    "                optimizer.step()\n",
    "                \n",
    "                train_loss += loss.item()\n",
    "                _, predicted = outputs.max(1)\n",
    "                total += labels.size(0)\n",
    "                correct += predicted.eq(labels).sum().item()\n",
    "                \n",
    "                pbar.set_postfix(loss=loss.item(), accuracy=100. * correct / total)\n",
    "                pbar.update(1)\n",
    "        \n",
    "        avg_train_loss = train_loss / len(train_loader)\n",
    "        train_accuracy = 100. * correct / total\n",
    "        # print(f\"Training Loss: {avg_train_loss:.4f}, Accuracy: {train_accuracy:.2f}%\")\n",
    "        train_accuracies.append(train_accuracy)\n",
    "        train_losses.append(avg_train_loss)\n",
    "        \n",
    "        model.eval()  \n",
    "        dataset.mode = 'val'\n",
    "        val_loss = 0.0\n",
    "        correct = 0\n",
    "        total = 0\n",
    "        \n",
    "        with torch.no_grad():\n",
    "            with tqdm(total=len(val_loader), desc=\"Validation\", unit=\"batch\") as pbar:\n",
    "                for batch in val_loader:\n",
    "                    images, labels = batch['image'].to(device), batch['label'].to(device)\n",
    "\n",
    "                    outputs = model(images)\n",
    "                    loss = criterion(outputs, labels.long())\n",
    "                    \n",
    "                    val_loss += loss.item()\n",
    "                    _, predicted = outputs.max(1)\n",
    "                    total += labels.size(0)\n",
    "                    correct += predicted.eq(labels).sum().item()\n",
    "\n",
    "                    pbar.set_postfix(loss=loss.item(), accuracy=100. * correct / total)\n",
    "                    pbar.update(1)\n",
    "        \n",
    "        avg_val_loss = val_loss / len(val_loader)\n",
    "        val_accuracy = 100. * correct / total\n",
    "        # print(f\"Validation Loss: {avg_val_loss:.4f}, Accuracy: {val_accuracy:.2f}%\")\n",
    "        print(\"-\" * 30)\n",
    "        val_accuracies.append(val_accuracy)\n",
    "        val_losses.append(avg_val_loss)\n",
    "        mean_loss = sum(train_losses) / len(train_losses)\n",
    "        mean_loss = round(mean_loss, 2)\n",
    "        scheduler.step(mean_loss)\n",
    "    \n",
    "    return train_accuracies, train_losses, val_accuracies, val_losses\n"
   ]
  },
  {
   "cell_type": "code",
   "execution_count": 11,
   "metadata": {},
   "outputs": [
    {
     "name": "stdout",
     "output_type": "stream",
     "text": [
      "dataset shape is : (1800, 28, 28, 3)\n"
     ]
    }
   ],
   "source": [
    "dataset = train_dataset = Data(device, img_size_w=28, img_size_h=28, mode='train', \n",
    "                               train_transform=custom_train_transform, val_transform=custom_val_transform)\n",
    "\n",
    "dataset.normalize()\n",
    "dataset.train_val_split()\n",
    "\n",
    "train_dataloader = DataLoader(dataset, batch_size=batch_size, shuffle=True)\n",
    "test_dataloader = DataLoader(dataset, batch_size=batch_size, shuffle=False)"
   ]
  },
  {
   "cell_type": "code",
   "execution_count": 12,
   "metadata": {},
   "outputs": [
    {
     "name": "stderr",
     "output_type": "stream",
     "text": [
      "c:\\Users\\USER\\AppData\\Local\\Programs\\Python\\Python312\\Lib\\site-packages\\torch\\optim\\lr_scheduler.py:62: UserWarning: The verbose parameter is deprecated. Please use get_last_lr() to access the learning rate.\n",
      "  warnings.warn(\n"
     ]
    },
    {
     "name": "stdout",
     "output_type": "stream",
     "text": [
      "Epoch [1/100]\n"
     ]
    },
    {
     "name": "stderr",
     "output_type": "stream",
     "text": [
      "Training: 100%|██████████| 11/11 [00:01<00:00,  6.87batch/s, accuracy=46, loss=0.693]  \n",
      "Validation: 100%|██████████| 3/3 [00:00<00:00, 33.30batch/s, accuracy=65.8, loss=0.693]\n"
     ]
    },
    {
     "name": "stdout",
     "output_type": "stream",
     "text": [
      "------------------------------\n",
      "Epoch [2/100]\n"
     ]
    },
    {
     "name": "stderr",
     "output_type": "stream",
     "text": [
      "Training: 100%|██████████| 11/11 [00:01<00:00,  8.16batch/s, accuracy=56, loss=0.679] \n",
      "Validation: 100%|██████████| 3/3 [00:00<00:00, 33.46batch/s, accuracy=56.8, loss=0.674]\n"
     ]
    },
    {
     "name": "stdout",
     "output_type": "stream",
     "text": [
      "------------------------------\n",
      "Epoch [3/100]\n"
     ]
    },
    {
     "name": "stderr",
     "output_type": "stream",
     "text": [
      "Training: 100%|██████████| 11/11 [00:01<00:00,  8.56batch/s, accuracy=54, loss=0.675] \n",
      "Validation: 100%|██████████| 3/3 [00:00<00:00, 29.57batch/s, accuracy=56.8, loss=0.661]\n"
     ]
    },
    {
     "name": "stdout",
     "output_type": "stream",
     "text": [
      "------------------------------\n",
      "Epoch [4/100]\n"
     ]
    },
    {
     "name": "stderr",
     "output_type": "stream",
     "text": [
      "Training: 100%|██████████| 11/11 [00:01<00:00,  8.67batch/s, accuracy=54.2, loss=0.661]\n",
      "Validation: 100%|██████████| 3/3 [00:00<00:00, 34.42batch/s, accuracy=57.7, loss=0.635]\n"
     ]
    },
    {
     "name": "stdout",
     "output_type": "stream",
     "text": [
      "------------------------------\n",
      "Epoch [5/100]\n"
     ]
    },
    {
     "name": "stderr",
     "output_type": "stream",
     "text": [
      "Training: 100%|██████████| 11/11 [00:01<00:00,  8.83batch/s, accuracy=62.4, loss=0.665]\n",
      "Validation: 100%|██████████| 3/3 [00:00<00:00, 36.98batch/s, accuracy=74.4, loss=0.571]\n"
     ]
    },
    {
     "name": "stdout",
     "output_type": "stream",
     "text": [
      "------------------------------\n",
      "Epoch [6/100]\n"
     ]
    },
    {
     "name": "stderr",
     "output_type": "stream",
     "text": [
      "Training: 100%|██████████| 11/11 [00:01<00:00,  8.63batch/s, accuracy=71.3, loss=0.51] \n",
      "Validation: 100%|██████████| 3/3 [00:00<00:00, 35.95batch/s, accuracy=75.6, loss=0.515]\n"
     ]
    },
    {
     "name": "stdout",
     "output_type": "stream",
     "text": [
      "------------------------------\n",
      "Epoch [7/100]\n"
     ]
    },
    {
     "name": "stderr",
     "output_type": "stream",
     "text": [
      "Training: 100%|██████████| 11/11 [00:01<00:00,  8.31batch/s, accuracy=74.1, loss=0.531]\n",
      "Validation: 100%|██████████| 3/3 [00:00<00:00, 30.87batch/s, accuracy=76.2, loss=0.492]\n"
     ]
    },
    {
     "name": "stdout",
     "output_type": "stream",
     "text": [
      "------------------------------\n",
      "Epoch [8/100]\n"
     ]
    },
    {
     "name": "stderr",
     "output_type": "stream",
     "text": [
      "Training: 100%|██████████| 11/11 [00:01<00:00,  7.50batch/s, accuracy=74.5, loss=0.527]\n",
      "Validation: 100%|██████████| 3/3 [00:00<00:00, 27.57batch/s, accuracy=77.6, loss=0.468]\n"
     ]
    },
    {
     "name": "stdout",
     "output_type": "stream",
     "text": [
      "------------------------------\n",
      "Epoch [9/100]\n"
     ]
    },
    {
     "name": "stderr",
     "output_type": "stream",
     "text": [
      "Training: 100%|██████████| 11/11 [00:01<00:00,  7.26batch/s, accuracy=75.7, loss=0.524]\n",
      "Validation: 100%|██████████| 3/3 [00:00<00:00, 27.24batch/s, accuracy=78.2, loss=0.448]\n"
     ]
    },
    {
     "name": "stdout",
     "output_type": "stream",
     "text": [
      "------------------------------\n",
      "Epoch [10/100]\n"
     ]
    },
    {
     "name": "stderr",
     "output_type": "stream",
     "text": [
      "Training: 100%|██████████| 11/11 [00:01<00:00,  7.13batch/s, accuracy=74.7, loss=0.502]\n",
      "Validation: 100%|██████████| 3/3 [00:00<00:00, 24.01batch/s, accuracy=78.2, loss=0.467]\n"
     ]
    },
    {
     "name": "stdout",
     "output_type": "stream",
     "text": [
      "------------------------------\n",
      "Epoch [11/100]\n"
     ]
    },
    {
     "name": "stderr",
     "output_type": "stream",
     "text": [
      "Training: 100%|██████████| 11/11 [00:01<00:00,  7.01batch/s, accuracy=76.6, loss=0.568]\n",
      "Validation: 100%|██████████| 3/3 [00:00<00:00, 27.14batch/s, accuracy=78.8, loss=0.42] \n"
     ]
    },
    {
     "name": "stdout",
     "output_type": "stream",
     "text": [
      "------------------------------\n",
      "Epoch [12/100]\n"
     ]
    },
    {
     "name": "stderr",
     "output_type": "stream",
     "text": [
      "Training: 100%|██████████| 11/11 [00:01<00:00,  6.80batch/s, accuracy=77.2, loss=0.486]\n",
      "Validation: 100%|██████████| 3/3 [00:00<00:00, 24.06batch/s, accuracy=80.8, loss=0.411]\n"
     ]
    },
    {
     "name": "stdout",
     "output_type": "stream",
     "text": [
      "------------------------------\n",
      "Epoch [13/100]\n"
     ]
    },
    {
     "name": "stderr",
     "output_type": "stream",
     "text": [
      "Training: 100%|██████████| 11/11 [00:01<00:00,  7.33batch/s, accuracy=77.4, loss=0.517]\n",
      "Validation: 100%|██████████| 3/3 [00:00<00:00, 26.11batch/s, accuracy=78.9, loss=0.47] \n"
     ]
    },
    {
     "name": "stdout",
     "output_type": "stream",
     "text": [
      "------------------------------\n",
      "Epoch [14/100]\n"
     ]
    },
    {
     "name": "stderr",
     "output_type": "stream",
     "text": [
      "Training: 100%|██████████| 11/11 [00:01<00:00,  6.97batch/s, accuracy=76.9, loss=0.501]\n",
      "Validation: 100%|██████████| 3/3 [00:00<00:00, 24.06batch/s, accuracy=77.7, loss=0.406]\n"
     ]
    },
    {
     "name": "stdout",
     "output_type": "stream",
     "text": [
      "------------------------------\n",
      "Epoch [15/100]\n"
     ]
    },
    {
     "name": "stderr",
     "output_type": "stream",
     "text": [
      "Training: 100%|██████████| 11/11 [00:01<00:00,  6.89batch/s, accuracy=77.6, loss=0.421]\n",
      "Validation: 100%|██████████| 3/3 [00:00<00:00, 27.06batch/s, accuracy=78.9, loss=0.421]\n"
     ]
    },
    {
     "name": "stdout",
     "output_type": "stream",
     "text": [
      "------------------------------\n",
      "Epoch [16/100]\n"
     ]
    },
    {
     "name": "stderr",
     "output_type": "stream",
     "text": [
      "Training: 100%|██████████| 11/11 [00:01<00:00,  6.97batch/s, accuracy=78.2, loss=0.408]\n",
      "Validation: 100%|██████████| 3/3 [00:00<00:00, 25.41batch/s, accuracy=80.9, loss=0.395]\n"
     ]
    },
    {
     "name": "stdout",
     "output_type": "stream",
     "text": [
      "------------------------------\n",
      "Epoch [17/100]\n"
     ]
    },
    {
     "name": "stderr",
     "output_type": "stream",
     "text": [
      "Training: 100%|██████████| 11/11 [00:01<00:00,  6.80batch/s, accuracy=79.1, loss=0.488]\n",
      "Validation: 100%|██████████| 3/3 [00:00<00:00, 25.32batch/s, accuracy=80.3, loss=0.397]\n"
     ]
    },
    {
     "name": "stdout",
     "output_type": "stream",
     "text": [
      "------------------------------\n",
      "Epoch [18/100]\n"
     ]
    },
    {
     "name": "stderr",
     "output_type": "stream",
     "text": [
      "Training: 100%|██████████| 11/11 [00:01<00:00,  7.01batch/s, accuracy=79.7, loss=0.372]\n",
      "Validation: 100%|██████████| 3/3 [00:00<00:00, 25.43batch/s, accuracy=79.8, loss=0.391]\n"
     ]
    },
    {
     "name": "stdout",
     "output_type": "stream",
     "text": [
      "------------------------------\n",
      "Epoch [19/100]\n"
     ]
    },
    {
     "name": "stderr",
     "output_type": "stream",
     "text": [
      "Training: 100%|██████████| 11/11 [00:01<00:00,  7.10batch/s, accuracy=79.4, loss=0.506]\n",
      "Validation: 100%|██████████| 3/3 [00:00<00:00, 27.00batch/s, accuracy=79.8, loss=0.408]\n"
     ]
    },
    {
     "name": "stdout",
     "output_type": "stream",
     "text": [
      "------------------------------\n",
      "Epoch [20/100]\n"
     ]
    },
    {
     "name": "stderr",
     "output_type": "stream",
     "text": [
      "Training: 100%|██████████| 11/11 [00:01<00:00,  6.85batch/s, accuracy=79.6, loss=0.423]\n",
      "Validation: 100%|██████████| 3/3 [00:00<00:00, 25.99batch/s, accuracy=80.5, loss=0.386]\n"
     ]
    },
    {
     "name": "stdout",
     "output_type": "stream",
     "text": [
      "------------------------------\n",
      "Epoch [21/100]\n"
     ]
    },
    {
     "name": "stderr",
     "output_type": "stream",
     "text": [
      "Training: 100%|██████████| 11/11 [00:01<00:00,  6.95batch/s, accuracy=79.3, loss=0.328]\n",
      "Validation: 100%|██████████| 3/3 [00:00<00:00, 25.84batch/s, accuracy=79.2, loss=0.399]\n"
     ]
    },
    {
     "name": "stdout",
     "output_type": "stream",
     "text": [
      "------------------------------\n",
      "Epoch [22/100]\n"
     ]
    },
    {
     "name": "stderr",
     "output_type": "stream",
     "text": [
      "Training: 100%|██████████| 11/11 [00:01<00:00,  7.07batch/s, accuracy=78.9, loss=0.493]\n",
      "Validation: 100%|██████████| 3/3 [00:00<00:00, 27.61batch/s, accuracy=79.2, loss=0.419]\n"
     ]
    },
    {
     "name": "stdout",
     "output_type": "stream",
     "text": [
      "------------------------------\n",
      "Epoch [23/100]\n"
     ]
    },
    {
     "name": "stderr",
     "output_type": "stream",
     "text": [
      "Training: 100%|██████████| 11/11 [00:01<00:00,  7.23batch/s, accuracy=80.1, loss=0.428]\n",
      "Validation: 100%|██████████| 3/3 [00:00<00:00, 26.99batch/s, accuracy=78.8, loss=0.386]\n"
     ]
    },
    {
     "name": "stdout",
     "output_type": "stream",
     "text": [
      "------------------------------\n",
      "Epoch [24/100]\n"
     ]
    },
    {
     "name": "stderr",
     "output_type": "stream",
     "text": [
      "Training: 100%|██████████| 11/11 [00:01<00:00,  7.27batch/s, accuracy=78.3, loss=0.393]\n",
      "Validation: 100%|██████████| 3/3 [00:00<00:00, 27.43batch/s, accuracy=80.9, loss=0.376]\n"
     ]
    },
    {
     "name": "stdout",
     "output_type": "stream",
     "text": [
      "------------------------------\n",
      "Epoch [25/100]\n"
     ]
    },
    {
     "name": "stderr",
     "output_type": "stream",
     "text": [
      "Training: 100%|██████████| 11/11 [00:01<00:00,  7.27batch/s, accuracy=78.8, loss=0.456]\n",
      "Validation: 100%|██████████| 3/3 [00:00<00:00, 26.26batch/s, accuracy=78.9, loss=0.418]\n"
     ]
    },
    {
     "name": "stdout",
     "output_type": "stream",
     "text": [
      "------------------------------\n",
      "Epoch [26/100]\n"
     ]
    },
    {
     "name": "stderr",
     "output_type": "stream",
     "text": [
      "Training: 100%|██████████| 11/11 [00:01<00:00,  7.29batch/s, accuracy=80.2, loss=0.417]\n",
      "Validation: 100%|██████████| 3/3 [00:00<00:00, 26.49batch/s, accuracy=79.5, loss=0.4]  \n"
     ]
    },
    {
     "name": "stdout",
     "output_type": "stream",
     "text": [
      "------------------------------\n",
      "Epoch [27/100]\n"
     ]
    },
    {
     "name": "stderr",
     "output_type": "stream",
     "text": [
      "Training: 100%|██████████| 11/11 [00:01<00:00,  7.25batch/s, accuracy=80, loss=0.379] \n",
      "Validation: 100%|██████████| 3/3 [00:00<00:00, 25.72batch/s, accuracy=80, loss=0.405]  \n"
     ]
    },
    {
     "name": "stdout",
     "output_type": "stream",
     "text": [
      "------------------------------\n",
      "Epoch [28/100]\n"
     ]
    },
    {
     "name": "stderr",
     "output_type": "stream",
     "text": [
      "Training: 100%|██████████| 11/11 [00:01<00:00,  7.24batch/s, accuracy=80.4, loss=0.346]\n",
      "Validation: 100%|██████████| 3/3 [00:00<00:00, 26.94batch/s, accuracy=77.9, loss=0.393]\n"
     ]
    },
    {
     "name": "stdout",
     "output_type": "stream",
     "text": [
      "------------------------------\n",
      "Epoch [29/100]\n"
     ]
    },
    {
     "name": "stderr",
     "output_type": "stream",
     "text": [
      "Training: 100%|██████████| 11/11 [00:01<00:00,  6.71batch/s, accuracy=79, loss=0.382]  \n",
      "Validation: 100%|██████████| 3/3 [00:00<00:00, 25.96batch/s, accuracy=73.5, loss=0.555]\n"
     ]
    },
    {
     "name": "stdout",
     "output_type": "stream",
     "text": [
      "------------------------------\n",
      "Epoch [30/100]\n"
     ]
    },
    {
     "name": "stderr",
     "output_type": "stream",
     "text": [
      "Training: 100%|██████████| 11/11 [00:01<00:00,  6.77batch/s, accuracy=77, loss=0.407] \n",
      "Validation: 100%|██████████| 3/3 [00:00<00:00, 24.04batch/s, accuracy=80.2, loss=0.373]\n"
     ]
    },
    {
     "name": "stdout",
     "output_type": "stream",
     "text": [
      "------------------------------\n",
      "Epoch [31/100]\n"
     ]
    },
    {
     "name": "stderr",
     "output_type": "stream",
     "text": [
      "Training: 100%|██████████| 11/11 [00:01<00:00,  6.89batch/s, accuracy=78.3, loss=0.262]\n",
      "Validation: 100%|██████████| 3/3 [00:00<00:00, 27.01batch/s, accuracy=80.3, loss=0.371]\n"
     ]
    },
    {
     "name": "stdout",
     "output_type": "stream",
     "text": [
      "------------------------------\n",
      "Epoch [32/100]\n"
     ]
    },
    {
     "name": "stderr",
     "output_type": "stream",
     "text": [
      "Training: 100%|██████████| 11/11 [00:01<00:00,  6.83batch/s, accuracy=79.6, loss=0.359]\n",
      "Validation: 100%|██████████| 3/3 [00:00<00:00, 26.70batch/s, accuracy=80.2, loss=0.4]\n"
     ]
    },
    {
     "name": "stdout",
     "output_type": "stream",
     "text": [
      "------------------------------\n",
      "Epoch [33/100]\n"
     ]
    },
    {
     "name": "stderr",
     "output_type": "stream",
     "text": [
      "Training: 100%|██████████| 11/11 [00:01<00:00,  6.96batch/s, accuracy=79.8, loss=0.427]\n",
      "Validation: 100%|██████████| 3/3 [00:00<00:00, 24.77batch/s, accuracy=80, loss=0.384]  \n"
     ]
    },
    {
     "name": "stdout",
     "output_type": "stream",
     "text": [
      "------------------------------\n",
      "Epoch [34/100]\n"
     ]
    },
    {
     "name": "stderr",
     "output_type": "stream",
     "text": [
      "Training: 100%|██████████| 11/11 [00:01<00:00,  7.28batch/s, accuracy=80.7, loss=0.399]\n",
      "Validation: 100%|██████████| 3/3 [00:00<00:00, 24.02batch/s, accuracy=80.5, loss=0.382]\n"
     ]
    },
    {
     "name": "stdout",
     "output_type": "stream",
     "text": [
      "------------------------------\n",
      "Epoch [35/100]\n"
     ]
    },
    {
     "name": "stderr",
     "output_type": "stream",
     "text": [
      "Training: 100%|██████████| 11/11 [00:01<00:00,  7.27batch/s, accuracy=81, loss=0.365] \n",
      "Validation: 100%|██████████| 3/3 [00:00<00:00, 26.68batch/s, accuracy=80.3, loss=0.387]\n"
     ]
    },
    {
     "name": "stdout",
     "output_type": "stream",
     "text": [
      "------------------------------\n",
      "Epoch [36/100]\n"
     ]
    },
    {
     "name": "stderr",
     "output_type": "stream",
     "text": [
      "Training: 100%|██████████| 11/11 [00:01<00:00,  7.14batch/s, accuracy=80.7, loss=0.542]\n",
      "Validation: 100%|██████████| 3/3 [00:00<00:00, 26.94batch/s, accuracy=82, loss=0.365]  \n"
     ]
    },
    {
     "name": "stdout",
     "output_type": "stream",
     "text": [
      "------------------------------\n",
      "Epoch [37/100]\n"
     ]
    },
    {
     "name": "stderr",
     "output_type": "stream",
     "text": [
      "Training: 100%|██████████| 11/11 [00:01<00:00,  7.30batch/s, accuracy=81, loss=0.354]  \n",
      "Validation: 100%|██████████| 3/3 [00:00<00:00, 24.36batch/s, accuracy=78.9, loss=0.418]\n"
     ]
    },
    {
     "name": "stdout",
     "output_type": "stream",
     "text": [
      "------------------------------\n",
      "Epoch [38/100]\n"
     ]
    },
    {
     "name": "stderr",
     "output_type": "stream",
     "text": [
      "Training: 100%|██████████| 11/11 [00:01<00:00,  6.82batch/s, accuracy=81.7, loss=0.4]  \n",
      "Validation: 100%|██████████| 3/3 [00:00<00:00, 26.09batch/s, accuracy=81.7, loss=0.36] \n"
     ]
    },
    {
     "name": "stdout",
     "output_type": "stream",
     "text": [
      "------------------------------\n",
      "Epoch [39/100]\n"
     ]
    },
    {
     "name": "stderr",
     "output_type": "stream",
     "text": [
      "Training: 100%|██████████| 11/11 [00:01<00:00,  7.03batch/s, accuracy=78.9, loss=0.539]\n",
      "Validation: 100%|██████████| 3/3 [00:00<00:00, 24.24batch/s, accuracy=79.2, loss=0.425]\n"
     ]
    },
    {
     "name": "stdout",
     "output_type": "stream",
     "text": [
      "------------------------------\n",
      "Epoch [40/100]\n"
     ]
    },
    {
     "name": "stderr",
     "output_type": "stream",
     "text": [
      "Training: 100%|██████████| 11/11 [00:01<00:00,  7.21batch/s, accuracy=80.6, loss=0.526]\n",
      "Validation: 100%|██████████| 3/3 [00:00<00:00, 25.41batch/s, accuracy=81.1, loss=0.356]\n"
     ]
    },
    {
     "name": "stdout",
     "output_type": "stream",
     "text": [
      "------------------------------\n",
      "Epoch [41/100]\n"
     ]
    },
    {
     "name": "stderr",
     "output_type": "stream",
     "text": [
      "Training: 100%|██████████| 11/11 [00:01<00:00,  6.76batch/s, accuracy=81.5, loss=0.365]\n",
      "Validation: 100%|██████████| 3/3 [00:00<00:00, 25.39batch/s, accuracy=79.2, loss=0.409]\n"
     ]
    },
    {
     "name": "stdout",
     "output_type": "stream",
     "text": [
      "------------------------------\n",
      "Epoch [42/100]\n"
     ]
    },
    {
     "name": "stderr",
     "output_type": "stream",
     "text": [
      "Training: 100%|██████████| 11/11 [00:01<00:00,  7.10batch/s, accuracy=81.8, loss=0.443]\n",
      "Validation: 100%|██████████| 3/3 [00:00<00:00, 25.18batch/s, accuracy=82.1, loss=0.358]\n"
     ]
    },
    {
     "name": "stdout",
     "output_type": "stream",
     "text": [
      "------------------------------\n",
      "Epoch [43/100]\n"
     ]
    },
    {
     "name": "stderr",
     "output_type": "stream",
     "text": [
      "Training: 100%|██████████| 11/11 [00:01<00:00,  6.64batch/s, accuracy=80.7, loss=0.458]\n",
      "Validation: 100%|██████████| 3/3 [00:00<00:00, 23.57batch/s, accuracy=79.2, loss=0.455]\n"
     ]
    },
    {
     "name": "stdout",
     "output_type": "stream",
     "text": [
      "------------------------------\n",
      "Epoch [44/100]\n"
     ]
    },
    {
     "name": "stderr",
     "output_type": "stream",
     "text": [
      "Training: 100%|██████████| 11/11 [00:01<00:00,  7.15batch/s, accuracy=79.3, loss=0.388]\n",
      "Validation: 100%|██████████| 3/3 [00:00<00:00, 24.34batch/s, accuracy=81.2, loss=0.354]\n"
     ]
    },
    {
     "name": "stdout",
     "output_type": "stream",
     "text": [
      "------------------------------\n",
      "Epoch [45/100]\n"
     ]
    },
    {
     "name": "stderr",
     "output_type": "stream",
     "text": [
      "Training: 100%|██████████| 11/11 [00:01<00:00,  7.13batch/s, accuracy=80.4, loss=0.385]\n",
      "Validation: 100%|██████████| 3/3 [00:00<00:00, 25.91batch/s, accuracy=82, loss=0.363] \n"
     ]
    },
    {
     "name": "stdout",
     "output_type": "stream",
     "text": [
      "------------------------------\n",
      "Epoch [46/100]\n"
     ]
    },
    {
     "name": "stderr",
     "output_type": "stream",
     "text": [
      "Training: 100%|██████████| 11/11 [00:01<00:00,  7.20batch/s, accuracy=81.5, loss=0.358]\n",
      "Validation: 100%|██████████| 3/3 [00:00<00:00, 23.72batch/s, accuracy=78.8, loss=0.447]\n"
     ]
    },
    {
     "name": "stdout",
     "output_type": "stream",
     "text": [
      "------------------------------\n",
      "Epoch [47/100]\n"
     ]
    },
    {
     "name": "stderr",
     "output_type": "stream",
     "text": [
      "Training: 100%|██████████| 11/11 [00:01<00:00,  7.25batch/s, accuracy=81.1, loss=0.455]\n",
      "Validation: 100%|██████████| 3/3 [00:00<00:00, 26.58batch/s, accuracy=81.4, loss=0.362]\n"
     ]
    },
    {
     "name": "stdout",
     "output_type": "stream",
     "text": [
      "------------------------------\n",
      "Epoch [48/100]\n"
     ]
    },
    {
     "name": "stderr",
     "output_type": "stream",
     "text": [
      "Training: 100%|██████████| 11/11 [00:01<00:00,  7.08batch/s, accuracy=81.7, loss=0.447]\n",
      "Validation: 100%|██████████| 3/3 [00:00<00:00, 26.35batch/s, accuracy=81.7, loss=0.35] \n"
     ]
    },
    {
     "name": "stdout",
     "output_type": "stream",
     "text": [
      "------------------------------\n",
      "Epoch [49/100]\n"
     ]
    },
    {
     "name": "stderr",
     "output_type": "stream",
     "text": [
      "Training: 100%|██████████| 11/11 [00:01<00:00,  7.16batch/s, accuracy=80.6, loss=0.415]\n",
      "Validation: 100%|██████████| 3/3 [00:00<00:00, 26.44batch/s, accuracy=79.4, loss=0.426]\n"
     ]
    },
    {
     "name": "stdout",
     "output_type": "stream",
     "text": [
      "------------------------------\n",
      "Epoch [50/100]\n"
     ]
    },
    {
     "name": "stderr",
     "output_type": "stream",
     "text": [
      "Training: 100%|██████████| 11/11 [00:01<00:00,  6.94batch/s, accuracy=79.9, loss=0.5]  \n",
      "Validation: 100%|██████████| 3/3 [00:00<00:00, 23.29batch/s, accuracy=82, loss=0.362]  \n"
     ]
    },
    {
     "name": "stdout",
     "output_type": "stream",
     "text": [
      "------------------------------\n",
      "Epoch [51/100]\n"
     ]
    },
    {
     "name": "stderr",
     "output_type": "stream",
     "text": [
      "Training: 100%|██████████| 11/11 [00:01<00:00,  6.99batch/s, accuracy=81.9, loss=0.448]\n",
      "Validation: 100%|██████████| 3/3 [00:00<00:00, 22.59batch/s, accuracy=80.6, loss=0.401]\n"
     ]
    },
    {
     "name": "stdout",
     "output_type": "stream",
     "text": [
      "------------------------------\n",
      "Epoch [52/100]\n"
     ]
    },
    {
     "name": "stderr",
     "output_type": "stream",
     "text": [
      "Training: 100%|██████████| 11/11 [00:01<00:00,  6.81batch/s, accuracy=80.5, loss=0.307]\n",
      "Validation: 100%|██████████| 3/3 [00:00<00:00, 24.68batch/s, accuracy=79.8, loss=0.404]\n"
     ]
    },
    {
     "name": "stdout",
     "output_type": "stream",
     "text": [
      "------------------------------\n",
      "Epoch [53/100]\n"
     ]
    },
    {
     "name": "stderr",
     "output_type": "stream",
     "text": [
      "Training: 100%|██████████| 11/11 [00:01<00:00,  6.73batch/s, accuracy=80.9, loss=0.362]\n",
      "Validation: 100%|██████████| 3/3 [00:00<00:00, 23.11batch/s, accuracy=81.7, loss=0.35]\n"
     ]
    },
    {
     "name": "stdout",
     "output_type": "stream",
     "text": [
      "------------------------------\n",
      "Epoch [54/100]\n"
     ]
    },
    {
     "name": "stderr",
     "output_type": "stream",
     "text": [
      "Training: 100%|██████████| 11/11 [00:01<00:00,  6.69batch/s, accuracy=80.7, loss=0.317]\n",
      "Validation: 100%|██████████| 3/3 [00:00<00:00, 24.08batch/s, accuracy=80.2, loss=0.39] \n"
     ]
    },
    {
     "name": "stdout",
     "output_type": "stream",
     "text": [
      "------------------------------\n",
      "Epoch [55/100]\n"
     ]
    },
    {
     "name": "stderr",
     "output_type": "stream",
     "text": [
      "Training: 100%|██████████| 11/11 [00:01<00:00,  7.00batch/s, accuracy=81.2, loss=0.378]\n",
      "Validation: 100%|██████████| 3/3 [00:00<00:00, 24.15batch/s, accuracy=81.2, loss=0.377]\n"
     ]
    },
    {
     "name": "stdout",
     "output_type": "stream",
     "text": [
      "------------------------------\n",
      "Epoch [56/100]\n"
     ]
    },
    {
     "name": "stderr",
     "output_type": "stream",
     "text": [
      "Training: 100%|██████████| 11/11 [00:01<00:00,  7.06batch/s, accuracy=81.1, loss=0.367]\n",
      "Validation: 100%|██████████| 3/3 [00:00<00:00, 23.09batch/s, accuracy=81.8, loss=0.351]\n"
     ]
    },
    {
     "name": "stdout",
     "output_type": "stream",
     "text": [
      "------------------------------\n",
      "Epoch [57/100]\n"
     ]
    },
    {
     "name": "stderr",
     "output_type": "stream",
     "text": [
      "Training: 100%|██████████| 11/11 [00:01<00:00,  7.30batch/s, accuracy=81.3, loss=0.397]\n",
      "Validation: 100%|██████████| 3/3 [00:00<00:00, 27.04batch/s, accuracy=80.3, loss=0.393]\n"
     ]
    },
    {
     "name": "stdout",
     "output_type": "stream",
     "text": [
      "------------------------------\n",
      "Epoch [58/100]\n"
     ]
    },
    {
     "name": "stderr",
     "output_type": "stream",
     "text": [
      "Training: 100%|██████████| 11/11 [00:01<00:00,  8.08batch/s, accuracy=81.9, loss=0.309]\n",
      "Validation: 100%|██████████| 3/3 [00:00<00:00, 28.22batch/s, accuracy=79.4, loss=0.413]\n"
     ]
    },
    {
     "name": "stdout",
     "output_type": "stream",
     "text": [
      "------------------------------\n",
      "Epoch [59/100]\n"
     ]
    },
    {
     "name": "stderr",
     "output_type": "stream",
     "text": [
      "Training: 100%|██████████| 11/11 [00:01<00:00,  7.75batch/s, accuracy=81.7, loss=0.518]\n",
      "Validation: 100%|██████████| 3/3 [00:00<00:00, 25.07batch/s, accuracy=82.3, loss=0.354]\n"
     ]
    },
    {
     "name": "stdout",
     "output_type": "stream",
     "text": [
      "------------------------------\n",
      "Epoch [60/100]\n"
     ]
    },
    {
     "name": "stderr",
     "output_type": "stream",
     "text": [
      "Training: 100%|██████████| 11/11 [00:01<00:00,  6.92batch/s, accuracy=81.3, loss=0.499]\n",
      "Validation: 100%|██████████| 3/3 [00:00<00:00, 22.76batch/s, accuracy=82.1, loss=0.368]\n"
     ]
    },
    {
     "name": "stdout",
     "output_type": "stream",
     "text": [
      "------------------------------\n",
      "Epoch [61/100]\n"
     ]
    },
    {
     "name": "stderr",
     "output_type": "stream",
     "text": [
      "Training: 100%|██████████| 11/11 [00:01<00:00,  6.53batch/s, accuracy=81.3, loss=0.486]\n",
      "Validation: 100%|██████████| 3/3 [00:00<00:00, 23.97batch/s, accuracy=80.6, loss=0.392]\n"
     ]
    },
    {
     "name": "stdout",
     "output_type": "stream",
     "text": [
      "------------------------------\n",
      "Epoch [62/100]\n"
     ]
    },
    {
     "name": "stderr",
     "output_type": "stream",
     "text": [
      "Training: 100%|██████████| 11/11 [00:01<00:00,  6.55batch/s, accuracy=81, loss=0.497]  \n",
      "Validation: 100%|██████████| 3/3 [00:00<00:00, 24.39batch/s, accuracy=82.3, loss=0.357]\n"
     ]
    },
    {
     "name": "stdout",
     "output_type": "stream",
     "text": [
      "------------------------------\n",
      "Epoch [63/100]\n"
     ]
    },
    {
     "name": "stderr",
     "output_type": "stream",
     "text": [
      "Training: 100%|██████████| 11/11 [00:01<00:00,  6.74batch/s, accuracy=81.7, loss=0.367]\n",
      "Validation: 100%|██████████| 3/3 [00:00<00:00, 24.28batch/s, accuracy=81.1, loss=0.379]\n"
     ]
    },
    {
     "name": "stdout",
     "output_type": "stream",
     "text": [
      "------------------------------\n",
      "Epoch [64/100]\n"
     ]
    },
    {
     "name": "stderr",
     "output_type": "stream",
     "text": [
      "Training: 100%|██████████| 11/11 [00:01<00:00,  6.48batch/s, accuracy=82, loss=0.365]  \n",
      "Validation: 100%|██████████| 3/3 [00:00<00:00, 23.99batch/s, accuracy=82.3, loss=0.35] \n"
     ]
    },
    {
     "name": "stdout",
     "output_type": "stream",
     "text": [
      "------------------------------\n",
      "Epoch [65/100]\n"
     ]
    },
    {
     "name": "stderr",
     "output_type": "stream",
     "text": [
      "Training: 100%|██████████| 11/11 [00:01<00:00,  6.95batch/s, accuracy=81.6, loss=0.398]\n",
      "Validation: 100%|██████████| 3/3 [00:00<00:00, 25.71batch/s, accuracy=80.5, loss=0.395]\n"
     ]
    },
    {
     "name": "stdout",
     "output_type": "stream",
     "text": [
      "------------------------------\n",
      "Epoch [66/100]\n"
     ]
    },
    {
     "name": "stderr",
     "output_type": "stream",
     "text": [
      "Training: 100%|██████████| 11/11 [00:01<00:00,  7.01batch/s, accuracy=82.7, loss=0.289]\n",
      "Validation: 100%|██████████| 3/3 [00:00<00:00, 24.01batch/s, accuracy=82.3, loss=0.352]\n"
     ]
    },
    {
     "name": "stdout",
     "output_type": "stream",
     "text": [
      "------------------------------\n",
      "Epoch [67/100]\n"
     ]
    },
    {
     "name": "stderr",
     "output_type": "stream",
     "text": [
      "Training: 100%|██████████| 11/11 [00:01<00:00,  6.97batch/s, accuracy=82.5, loss=0.357]\n",
      "Validation: 100%|██████████| 3/3 [00:00<00:00, 22.42batch/s, accuracy=82, loss=0.348]  \n"
     ]
    },
    {
     "name": "stdout",
     "output_type": "stream",
     "text": [
      "------------------------------\n",
      "Epoch [68/100]\n"
     ]
    },
    {
     "name": "stderr",
     "output_type": "stream",
     "text": [
      "Training: 100%|██████████| 11/11 [00:01<00:00,  6.67batch/s, accuracy=81.6, loss=0.367]\n",
      "Validation: 100%|██████████| 3/3 [00:00<00:00, 22.35batch/s, accuracy=83.8, loss=0.355]\n"
     ]
    },
    {
     "name": "stdout",
     "output_type": "stream",
     "text": [
      "------------------------------\n",
      "Epoch [69/100]\n"
     ]
    },
    {
     "name": "stderr",
     "output_type": "stream",
     "text": [
      "Training: 100%|██████████| 11/11 [00:01<00:00,  6.68batch/s, accuracy=81.2, loss=0.483]\n",
      "Validation: 100%|██████████| 3/3 [00:00<00:00, 24.08batch/s, accuracy=80, loss=0.415]  \n"
     ]
    },
    {
     "name": "stdout",
     "output_type": "stream",
     "text": [
      "------------------------------\n",
      "Epoch [70/100]\n"
     ]
    },
    {
     "name": "stderr",
     "output_type": "stream",
     "text": [
      "Training: 100%|██████████| 11/11 [00:01<00:00,  6.86batch/s, accuracy=81.8, loss=0.359]\n",
      "Validation: 100%|██████████| 3/3 [00:00<00:00, 23.33batch/s, accuracy=82, loss=0.356]  \n"
     ]
    },
    {
     "name": "stdout",
     "output_type": "stream",
     "text": [
      "------------------------------\n",
      "Epoch [71/100]\n"
     ]
    },
    {
     "name": "stderr",
     "output_type": "stream",
     "text": [
      "Training: 100%|██████████| 11/11 [00:01<00:00,  6.94batch/s, accuracy=82, loss=0.423]  \n",
      "Validation: 100%|██████████| 3/3 [00:00<00:00, 23.49batch/s, accuracy=82.6, loss=0.361]\n"
     ]
    },
    {
     "name": "stdout",
     "output_type": "stream",
     "text": [
      "------------------------------\n",
      "Epoch [72/100]\n"
     ]
    },
    {
     "name": "stderr",
     "output_type": "stream",
     "text": [
      "Training: 100%|██████████| 11/11 [00:01<00:00,  7.27batch/s, accuracy=82.3, loss=0.443]\n",
      "Validation: 100%|██████████| 3/3 [00:00<00:00, 23.99batch/s, accuracy=82.4, loss=0.357]\n"
     ]
    },
    {
     "name": "stdout",
     "output_type": "stream",
     "text": [
      "------------------------------\n",
      "Epoch [73/100]\n"
     ]
    },
    {
     "name": "stderr",
     "output_type": "stream",
     "text": [
      "Training: 100%|██████████| 11/11 [00:01<00:00,  6.90batch/s, accuracy=82.3, loss=0.354]\n",
      "Validation: 100%|██████████| 3/3 [00:00<00:00, 27.08batch/s, accuracy=80.3, loss=0.396]\n"
     ]
    },
    {
     "name": "stdout",
     "output_type": "stream",
     "text": [
      "------------------------------\n",
      "Epoch [74/100]\n"
     ]
    },
    {
     "name": "stderr",
     "output_type": "stream",
     "text": [
      "Training: 100%|██████████| 11/11 [00:01<00:00,  6.90batch/s, accuracy=81.4, loss=0.378]\n",
      "Validation: 100%|██████████| 3/3 [00:00<00:00, 22.66batch/s, accuracy=82.3, loss=0.362]\n"
     ]
    },
    {
     "name": "stdout",
     "output_type": "stream",
     "text": [
      "------------------------------\n",
      "Epoch [75/100]\n"
     ]
    },
    {
     "name": "stderr",
     "output_type": "stream",
     "text": [
      "Training: 100%|██████████| 11/11 [00:01<00:00,  6.83batch/s, accuracy=82.7, loss=0.368]\n",
      "Validation: 100%|██████████| 3/3 [00:00<00:00, 26.36batch/s, accuracy=81.1, loss=0.388]\n"
     ]
    },
    {
     "name": "stdout",
     "output_type": "stream",
     "text": [
      "------------------------------\n",
      "Epoch [76/100]\n"
     ]
    },
    {
     "name": "stderr",
     "output_type": "stream",
     "text": [
      "Training: 100%|██████████| 11/11 [00:01<00:00,  6.57batch/s, accuracy=82.7, loss=0.354]\n",
      "Validation: 100%|██████████| 3/3 [00:00<00:00, 24.01batch/s, accuracy=82.4, loss=0.354]\n"
     ]
    },
    {
     "name": "stdout",
     "output_type": "stream",
     "text": [
      "------------------------------\n",
      "Epoch [77/100]\n"
     ]
    },
    {
     "name": "stderr",
     "output_type": "stream",
     "text": [
      "Training: 100%|██████████| 11/11 [00:01<00:00,  7.10batch/s, accuracy=82.1, loss=0.395]\n",
      "Validation: 100%|██████████| 3/3 [00:00<00:00, 25.01batch/s, accuracy=80, loss=0.389]  \n"
     ]
    },
    {
     "name": "stdout",
     "output_type": "stream",
     "text": [
      "------------------------------\n",
      "Epoch [78/100]\n"
     ]
    },
    {
     "name": "stderr",
     "output_type": "stream",
     "text": [
      "Training: 100%|██████████| 11/11 [00:01<00:00,  6.85batch/s, accuracy=83.1, loss=0.389]\n",
      "Validation: 100%|██████████| 3/3 [00:00<00:00, 25.01batch/s, accuracy=80.6, loss=0.387]\n"
     ]
    },
    {
     "name": "stdout",
     "output_type": "stream",
     "text": [
      "------------------------------\n",
      "Epoch [79/100]\n"
     ]
    },
    {
     "name": "stderr",
     "output_type": "stream",
     "text": [
      "Training: 100%|██████████| 11/11 [00:01<00:00,  6.92batch/s, accuracy=83.2, loss=0.401]\n",
      "Validation: 100%|██████████| 3/3 [00:00<00:00, 27.47batch/s, accuracy=83.9, loss=0.346]\n"
     ]
    },
    {
     "name": "stdout",
     "output_type": "stream",
     "text": [
      "------------------------------\n",
      "Epoch [80/100]\n"
     ]
    },
    {
     "name": "stderr",
     "output_type": "stream",
     "text": [
      "Training: 100%|██████████| 11/11 [00:01<00:00,  6.81batch/s, accuracy=82.2, loss=0.415]\n",
      "Validation: 100%|██████████| 3/3 [00:00<00:00, 24.63batch/s, accuracy=81.7, loss=0.37] \n"
     ]
    },
    {
     "name": "stdout",
     "output_type": "stream",
     "text": [
      "------------------------------\n",
      "Epoch [81/100]\n"
     ]
    },
    {
     "name": "stderr",
     "output_type": "stream",
     "text": [
      "Training: 100%|██████████| 11/11 [00:01<00:00,  6.97batch/s, accuracy=81.6, loss=0.38]\n",
      "Validation: 100%|██████████| 3/3 [00:00<00:00, 25.53batch/s, accuracy=82.3, loss=0.362]\n"
     ]
    },
    {
     "name": "stdout",
     "output_type": "stream",
     "text": [
      "------------------------------\n",
      "Epoch [82/100]\n"
     ]
    },
    {
     "name": "stderr",
     "output_type": "stream",
     "text": [
      "Training: 100%|██████████| 11/11 [00:01<00:00,  6.97batch/s, accuracy=82.3, loss=0.468]\n",
      "Validation: 100%|██████████| 3/3 [00:00<00:00, 23.40batch/s, accuracy=82.9, loss=0.345]\n"
     ]
    },
    {
     "name": "stdout",
     "output_type": "stream",
     "text": [
      "------------------------------\n",
      "Epoch [83/100]\n"
     ]
    },
    {
     "name": "stderr",
     "output_type": "stream",
     "text": [
      "Training: 100%|██████████| 11/11 [00:01<00:00,  6.68batch/s, accuracy=82.1, loss=0.406]\n",
      "Validation: 100%|██████████| 3/3 [00:00<00:00, 27.00batch/s, accuracy=83.3, loss=0.355]\n"
     ]
    },
    {
     "name": "stdout",
     "output_type": "stream",
     "text": [
      "------------------------------\n",
      "Epoch [84/100]\n"
     ]
    },
    {
     "name": "stderr",
     "output_type": "stream",
     "text": [
      "Training: 100%|██████████| 11/11 [00:01<00:00,  6.89batch/s, accuracy=82.5, loss=0.409]\n",
      "Validation: 100%|██████████| 3/3 [00:00<00:00, 23.49batch/s, accuracy=81.1, loss=0.373]\n"
     ]
    },
    {
     "name": "stdout",
     "output_type": "stream",
     "text": [
      "------------------------------\n",
      "Epoch [85/100]\n"
     ]
    },
    {
     "name": "stderr",
     "output_type": "stream",
     "text": [
      "Training: 100%|██████████| 11/11 [00:01<00:00,  6.61batch/s, accuracy=82.6, loss=0.336]\n",
      "Validation: 100%|██████████| 3/3 [00:00<00:00, 20.38batch/s, accuracy=82.3, loss=0.363]\n"
     ]
    },
    {
     "name": "stdout",
     "output_type": "stream",
     "text": [
      "------------------------------\n",
      "Epoch [86/100]\n"
     ]
    },
    {
     "name": "stderr",
     "output_type": "stream",
     "text": [
      "Training: 100%|██████████| 11/11 [00:01<00:00,  6.82batch/s, accuracy=82.6, loss=0.293]\n",
      "Validation: 100%|██████████| 3/3 [00:00<00:00, 23.77batch/s, accuracy=82.9, loss=0.36] \n"
     ]
    },
    {
     "name": "stdout",
     "output_type": "stream",
     "text": [
      "------------------------------\n",
      "Epoch [87/100]\n"
     ]
    },
    {
     "name": "stderr",
     "output_type": "stream",
     "text": [
      "Training: 100%|██████████| 11/11 [00:01<00:00,  6.77batch/s, accuracy=82.8, loss=0.535]\n",
      "Validation: 100%|██████████| 3/3 [00:00<00:00, 25.51batch/s, accuracy=83.9, loss=0.344]\n"
     ]
    },
    {
     "name": "stdout",
     "output_type": "stream",
     "text": [
      "------------------------------\n",
      "Epoch [88/100]\n"
     ]
    },
    {
     "name": "stderr",
     "output_type": "stream",
     "text": [
      "Training: 100%|██████████| 11/11 [00:01<00:00,  6.67batch/s, accuracy=81, loss=0.41]  \n",
      "Validation: 100%|██████████| 3/3 [00:00<00:00, 25.91batch/s, accuracy=78.2, loss=0.478]\n"
     ]
    },
    {
     "name": "stdout",
     "output_type": "stream",
     "text": [
      "------------------------------\n",
      "Epoch [89/100]\n"
     ]
    },
    {
     "name": "stderr",
     "output_type": "stream",
     "text": [
      "Training: 100%|██████████| 11/11 [00:01<00:00,  6.82batch/s, accuracy=81.8, loss=0.415]\n",
      "Validation: 100%|██████████| 3/3 [00:00<00:00, 25.07batch/s, accuracy=82.9, loss=0.344]\n"
     ]
    },
    {
     "name": "stdout",
     "output_type": "stream",
     "text": [
      "------------------------------\n",
      "Epoch [90/100]\n"
     ]
    },
    {
     "name": "stderr",
     "output_type": "stream",
     "text": [
      "Training: 100%|██████████| 11/11 [00:01<00:00,  6.87batch/s, accuracy=81.7, loss=0.373]\n",
      "Validation: 100%|██████████| 3/3 [00:00<00:00, 24.85batch/s, accuracy=80.6, loss=0.388]\n"
     ]
    },
    {
     "name": "stdout",
     "output_type": "stream",
     "text": [
      "------------------------------\n",
      "Epoch [91/100]\n"
     ]
    },
    {
     "name": "stderr",
     "output_type": "stream",
     "text": [
      "Training: 100%|██████████| 11/11 [00:01<00:00,  7.01batch/s, accuracy=82, loss=0.386]  \n",
      "Validation: 100%|██████████| 3/3 [00:00<00:00, 24.65batch/s, accuracy=82.4, loss=0.361]\n"
     ]
    },
    {
     "name": "stdout",
     "output_type": "stream",
     "text": [
      "------------------------------\n",
      "Epoch [92/100]\n"
     ]
    },
    {
     "name": "stderr",
     "output_type": "stream",
     "text": [
      "Training: 100%|██████████| 11/11 [00:01<00:00,  6.88batch/s, accuracy=83, loss=0.338]  \n",
      "Validation: 100%|██████████| 3/3 [00:00<00:00, 21.60batch/s, accuracy=81.5, loss=0.369]\n"
     ]
    },
    {
     "name": "stdout",
     "output_type": "stream",
     "text": [
      "------------------------------\n",
      "Epoch [93/100]\n"
     ]
    },
    {
     "name": "stderr",
     "output_type": "stream",
     "text": [
      "Training: 100%|██████████| 11/11 [00:01<00:00,  6.84batch/s, accuracy=83, loss=0.423]  \n",
      "Validation: 100%|██████████| 3/3 [00:00<00:00, 23.39batch/s, accuracy=82.1, loss=0.362]\n"
     ]
    },
    {
     "name": "stdout",
     "output_type": "stream",
     "text": [
      "------------------------------\n",
      "Epoch [94/100]\n"
     ]
    },
    {
     "name": "stderr",
     "output_type": "stream",
     "text": [
      "Training: 100%|██████████| 11/11 [00:01<00:00,  6.48batch/s, accuracy=82.3, loss=0.261]\n",
      "Validation: 100%|██████████| 3/3 [00:00<00:00, 26.20batch/s, accuracy=81.5, loss=0.373]\n"
     ]
    },
    {
     "name": "stdout",
     "output_type": "stream",
     "text": [
      "------------------------------\n",
      "Epoch [95/100]\n"
     ]
    },
    {
     "name": "stderr",
     "output_type": "stream",
     "text": [
      "Training: 100%|██████████| 11/11 [00:01<00:00,  6.89batch/s, accuracy=82.9, loss=0.367]\n",
      "Validation: 100%|██████████| 3/3 [00:00<00:00, 24.04batch/s, accuracy=81.5, loss=0.368]\n"
     ]
    },
    {
     "name": "stdout",
     "output_type": "stream",
     "text": [
      "------------------------------\n",
      "Epoch [96/100]\n"
     ]
    },
    {
     "name": "stderr",
     "output_type": "stream",
     "text": [
      "Training: 100%|██████████| 11/11 [00:01<00:00,  6.82batch/s, accuracy=82.9, loss=0.303]\n",
      "Validation: 100%|██████████| 3/3 [00:00<00:00, 23.76batch/s, accuracy=82.1, loss=0.366]\n"
     ]
    },
    {
     "name": "stdout",
     "output_type": "stream",
     "text": [
      "------------------------------\n",
      "Epoch [97/100]\n"
     ]
    },
    {
     "name": "stderr",
     "output_type": "stream",
     "text": [
      "Training: 100%|██████████| 11/11 [00:01<00:00,  7.03batch/s, accuracy=83.1, loss=0.429]\n",
      "Validation: 100%|██████████| 3/3 [00:00<00:00, 25.05batch/s, accuracy=81.4, loss=0.371]\n"
     ]
    },
    {
     "name": "stdout",
     "output_type": "stream",
     "text": [
      "------------------------------\n",
      "Epoch [98/100]\n"
     ]
    },
    {
     "name": "stderr",
     "output_type": "stream",
     "text": [
      "Training: 100%|██████████| 11/11 [00:01<00:00,  7.12batch/s, accuracy=82.7, loss=0.52]\n",
      "Validation: 100%|██████████| 3/3 [00:00<00:00, 23.44batch/s, accuracy=81.7, loss=0.367]\n"
     ]
    },
    {
     "name": "stdout",
     "output_type": "stream",
     "text": [
      "------------------------------\n",
      "Epoch [99/100]\n"
     ]
    },
    {
     "name": "stderr",
     "output_type": "stream",
     "text": [
      "Training: 100%|██████████| 11/11 [00:01<00:00,  6.62batch/s, accuracy=83.5, loss=0.381]\n",
      "Validation: 100%|██████████| 3/3 [00:00<00:00, 24.96batch/s, accuracy=81.8, loss=0.369]\n"
     ]
    },
    {
     "name": "stdout",
     "output_type": "stream",
     "text": [
      "------------------------------\n",
      "Epoch [100/100]\n"
     ]
    },
    {
     "name": "stderr",
     "output_type": "stream",
     "text": [
      "Training: 100%|██████████| 11/11 [00:01<00:00,  6.83batch/s, accuracy=82.4, loss=0.345]\n",
      "Validation: 100%|██████████| 3/3 [00:00<00:00, 24.78batch/s, accuracy=82.4, loss=0.366]"
     ]
    },
    {
     "name": "stdout",
     "output_type": "stream",
     "text": [
      "------------------------------\n"
     ]
    },
    {
     "name": "stderr",
     "output_type": "stream",
     "text": [
      "\n"
     ]
    }
   ],
   "source": [
    "train_accuracies, train_losses, val_accuracy, val_losses = train_model(model, optimizer, criterion, \n",
    "                                                                       train_dataloader, test_dataloader, dataset, num_epochs=num_epochs, device=device)"
   ]
  },
  {
   "cell_type": "code",
   "execution_count": 10,
   "metadata": {},
   "outputs": [],
   "source": [
    "def plot_metric(metric, train_metric, val_metric, epochs=50):\n",
    "    plt.figure(figsize=(10, 5)) \n",
    "    plt.plot(range(1, epochs + 1), train_metric, label=f'Training {metric}', alpha=0.5) \n",
    "    plt.plot(range(1, epochs + 1), val_metric, label=f'Validation {metric}', alpha=0.5)  \n",
    "    plt.xlabel('Epoch') \n",
    "    plt.ylabel(metric) \n",
    "    plt.title(f'Training and Validation {metric} Over Epochs') \n",
    "    plt.legend() \n",
    "    plt.show()"
   ]
  },
  {
   "cell_type": "code",
   "execution_count": 14,
   "metadata": {},
   "outputs": [
    {
     "data": {
      "image/png": "[encoded data removed]",
      "text/plain": [
       "<Figure size 1000x500 with 1 Axes>"
      ]
     },
     "metadata": {},
     "output_type": "display_data"
    },
    {
     "data": {
      "image/png": "[encoded data removed]",
      "text/plain": [
       "<Figure size 1000x500 with 1 Axes>"
      ]
     },
     "metadata": {},
     "output_type": "display_data"
    }
   ],
   "source": [
    "plot_metric('Accuracy', train_accuracies, val_accuracy, epochs=num_epochs)\n",
    "plot_metric('Loss', train_losses, val_losses, epochs=num_epochs)"
   ]
  },
  {
   "cell_type": "code",
   "execution_count": 11,
   "metadata": {},
   "outputs": [],
   "source": [
    "class conv_block(nn.Module):\n",
    "  def __init__(self, in_channels, out_channels, **kwargs):\n",
    "    super(conv_block, self).__init__()\n",
    "    self.relu = nn.ReLU()\n",
    "    self.conv = nn.Conv2d(in_channels, out_channels, **kwargs)\n",
    "    self.batchnorm = nn.BatchNorm2d(out_channels)\n",
    "\n",
    "  def forward(self, x):\n",
    "    return self.relu(self.batchnorm(self.conv(x)))"
   ]
  },
  {
   "cell_type": "code",
   "execution_count": 12,
   "metadata": {},
   "outputs": [],
   "source": [
    "class ImprovedSkinCancerCNN(nn.Module):\n",
    "    def __init__(self):\n",
    "        super(ImprovedSkinCancerCNN, self).__init__()\n",
    "        \n",
    "        self.conv1 = conv_block(in_channels=3, out_channels=64, kernel_size=3, padding=1, stride=1)  \n",
    "        self.pool1 = nn.MaxPool2d(kernel_size=2, stride=2)  \n",
    "        self.dropout1 = nn.Dropout(p=0.15) \n",
    "        \n",
    "        self.conv2 = conv_block(in_channels=64, out_channels=128, kernel_size=3, padding=1, stride=1)  \n",
    "        self.pool2 = nn.MaxPool2d(kernel_size=2, stride=2) \n",
    "        self.dropout2 = nn.Dropout(p=0.15) \n",
    "        \n",
    "        self.conv3 = conv_block(in_channels=128, out_channels=256, kernel_size=3, padding=1, stride=1) \n",
    "        self.pool3 = nn.MaxPool2d(kernel_size=1, stride=2)\n",
    "        self.dropout3 = nn.Dropout(p=0.15) \n",
    "        \n",
    "        self.conv4 = conv_block(in_channels=256, out_channels=512, kernel_size=3, padding=1, stride=1)\n",
    "        self.pool4 = nn.MaxPool2d(kernel_size=2, stride=2)\n",
    "        self.dropout4 = nn.Dropout(p=0.15) \n",
    "        \n",
    "        self.flatten = nn.Flatten()\n",
    "        \n",
    "        self.fc1 = nn.Linear(2 * 2 * 512, 512) \n",
    "        self.fc2 = nn.Linear(512, 64)  \n",
    "        self.fc3 = nn.Linear(64, 2)   \n",
    "\n",
    "    def forward(self, x):\n",
    "        x = self.conv1(x)\n",
    "        x = self.pool1(x)\n",
    "        x = self.dropout1(x) \n",
    "        \n",
    "        x = self.conv2(x)\n",
    "        x = self.pool2(x)\n",
    "        x = self.dropout2(x) \n",
    "        \n",
    "        x = self.conv3(x)\n",
    "        x = self.pool3(x)\n",
    "        x = self.dropout3(x) \n",
    "        \n",
    "        x = self.conv4(x)\n",
    "        x = self.pool4(x)\n",
    "        x = self.dropout4(x) \n",
    "        \n",
    "        x = self.flatten(x)\n",
    "        \n",
    "        x = F.relu(self.fc1(x))\n",
    "        x = F.relu(self.fc2(x))\n",
    "        x = self.fc3(x)  \n",
    "        return x"
   ]
  },
  {
   "cell_type": "code",
   "execution_count": 17,
   "metadata": {},
   "outputs": [
    {
     "name": "stdout",
     "output_type": "stream",
     "text": [
      "Epoch [1/100]\n"
     ]
    },
    {
     "name": "stderr",
     "output_type": "stream",
     "text": [
      "Training: 100%|██████████| 11/11 [00:01<00:00,  6.36batch/s, accuracy=69.5, loss=0.565]\n",
      "Validation: 100%|██████████| 3/3 [00:00<00:00, 26.16batch/s, accuracy=66.4, loss=0.629]\n"
     ]
    },
    {
     "name": "stdout",
     "output_type": "stream",
     "text": [
      "------------------------------\n",
      "Epoch [2/100]\n"
     ]
    },
    {
     "name": "stderr",
     "output_type": "stream",
     "text": [
      "Training: 100%|██████████| 11/11 [00:01<00:00,  6.98batch/s, accuracy=78, loss=0.395]  \n",
      "Validation: 100%|██████████| 3/3 [00:00<00:00, 23.47batch/s, accuracy=64.8, loss=0.575]\n"
     ]
    },
    {
     "name": "stdout",
     "output_type": "stream",
     "text": [
      "------------------------------\n",
      "Epoch [3/100]\n"
     ]
    },
    {
     "name": "stderr",
     "output_type": "stream",
     "text": [
      "Training: 100%|██████████| 11/11 [00:01<00:00,  6.81batch/s, accuracy=79.6, loss=0.387]\n",
      "Validation: 100%|██████████| 3/3 [00:00<00:00, 22.26batch/s, accuracy=71.1, loss=0.525]\n"
     ]
    },
    {
     "name": "stdout",
     "output_type": "stream",
     "text": [
      "------------------------------\n",
      "Epoch [4/100]\n"
     ]
    },
    {
     "name": "stderr",
     "output_type": "stream",
     "text": [
      "Training: 100%|██████████| 11/11 [00:01<00:00,  6.37batch/s, accuracy=80.6, loss=0.412]\n",
      "Validation: 100%|██████████| 3/3 [00:00<00:00, 21.99batch/s, accuracy=75.8, loss=0.468]\n"
     ]
    },
    {
     "name": "stdout",
     "output_type": "stream",
     "text": [
      "------------------------------\n",
      "Epoch [5/100]\n"
     ]
    },
    {
     "name": "stderr",
     "output_type": "stream",
     "text": [
      "Training: 100%|██████████| 11/11 [00:01<00:00,  6.47batch/s, accuracy=81.4, loss=0.402]\n",
      "Validation: 100%|██████████| 3/3 [00:00<00:00, 22.72batch/s, accuracy=82.7, loss=0.352]\n"
     ]
    },
    {
     "name": "stdout",
     "output_type": "stream",
     "text": [
      "------------------------------\n",
      "Epoch [6/100]\n"
     ]
    },
    {
     "name": "stderr",
     "output_type": "stream",
     "text": [
      "Training: 100%|██████████| 11/11 [00:01<00:00,  6.44batch/s, accuracy=81.6, loss=0.33] \n",
      "Validation: 100%|██████████| 3/3 [00:00<00:00, 22.79batch/s, accuracy=80.3, loss=0.397]\n"
     ]
    },
    {
     "name": "stdout",
     "output_type": "stream",
     "text": [
      "------------------------------\n",
      "Epoch [7/100]\n"
     ]
    },
    {
     "name": "stderr",
     "output_type": "stream",
     "text": [
      "Training: 100%|██████████| 11/11 [00:01<00:00,  6.28batch/s, accuracy=82.3, loss=0.409]\n",
      "Validation: 100%|██████████| 3/3 [00:00<00:00, 22.79batch/s, accuracy=76.5, loss=0.47] \n"
     ]
    },
    {
     "name": "stdout",
     "output_type": "stream",
     "text": [
      "------------------------------\n",
      "Epoch [8/100]\n"
     ]
    },
    {
     "name": "stderr",
     "output_type": "stream",
     "text": [
      "Training: 100%|██████████| 11/11 [00:01<00:00,  6.39batch/s, accuracy=83.1, loss=0.352]\n",
      "Validation: 100%|██████████| 3/3 [00:00<00:00, 22.83batch/s, accuracy=84.2, loss=0.34] \n"
     ]
    },
    {
     "name": "stdout",
     "output_type": "stream",
     "text": [
      "------------------------------\n",
      "Epoch [9/100]\n"
     ]
    },
    {
     "name": "stderr",
     "output_type": "stream",
     "text": [
      "Training: 100%|██████████| 11/11 [00:01<00:00,  6.19batch/s, accuracy=83.7, loss=0.464]\n",
      "Validation: 100%|██████████| 3/3 [00:00<00:00, 21.91batch/s, accuracy=81.1, loss=0.383]\n"
     ]
    },
    {
     "name": "stdout",
     "output_type": "stream",
     "text": [
      "------------------------------\n",
      "Epoch [10/100]\n"
     ]
    },
    {
     "name": "stderr",
     "output_type": "stream",
     "text": [
      "Training: 100%|██████████| 11/11 [00:01<00:00,  6.26batch/s, accuracy=82.1, loss=0.373]\n",
      "Validation: 100%|██████████| 3/3 [00:00<00:00, 24.01batch/s, accuracy=84.1, loss=0.334]\n"
     ]
    },
    {
     "name": "stdout",
     "output_type": "stream",
     "text": [
      "------------------------------\n",
      "Epoch [11/100]\n"
     ]
    },
    {
     "name": "stderr",
     "output_type": "stream",
     "text": [
      "Training: 100%|██████████| 11/11 [00:01<00:00,  6.26batch/s, accuracy=82.6, loss=0.297]\n",
      "Validation: 100%|██████████| 3/3 [00:00<00:00, 22.73batch/s, accuracy=84.1, loss=0.332]\n"
     ]
    },
    {
     "name": "stdout",
     "output_type": "stream",
     "text": [
      "------------------------------\n",
      "Epoch [12/100]\n"
     ]
    },
    {
     "name": "stderr",
     "output_type": "stream",
     "text": [
      "Training: 100%|██████████| 11/11 [00:01<00:00,  6.29batch/s, accuracy=84.6, loss=0.404]\n",
      "Validation: 100%|██████████| 3/3 [00:00<00:00, 23.94batch/s, accuracy=81.1, loss=0.405]\n"
     ]
    },
    {
     "name": "stdout",
     "output_type": "stream",
     "text": [
      "------------------------------\n",
      "Epoch [13/100]\n"
     ]
    },
    {
     "name": "stderr",
     "output_type": "stream",
     "text": [
      "Training: 100%|██████████| 11/11 [00:01<00:00,  6.17batch/s, accuracy=83.6, loss=0.334]\n",
      "Validation: 100%|██████████| 3/3 [00:00<00:00, 23.73batch/s, accuracy=84.7, loss=0.332]\n"
     ]
    },
    {
     "name": "stdout",
     "output_type": "stream",
     "text": [
      "------------------------------\n",
      "Epoch [14/100]\n"
     ]
    },
    {
     "name": "stderr",
     "output_type": "stream",
     "text": [
      "Training: 100%|██████████| 11/11 [00:01<00:00,  6.29batch/s, accuracy=83.9, loss=0.463]\n",
      "Validation: 100%|██████████| 3/3 [00:00<00:00, 24.10batch/s, accuracy=83.5, loss=0.328]\n"
     ]
    },
    {
     "name": "stdout",
     "output_type": "stream",
     "text": [
      "------------------------------\n",
      "Epoch [15/100]\n"
     ]
    },
    {
     "name": "stderr",
     "output_type": "stream",
     "text": [
      "Training: 100%|██████████| 11/11 [00:01<00:00,  6.31batch/s, accuracy=84.6, loss=0.273]\n",
      "Validation: 100%|██████████| 3/3 [00:00<00:00, 23.23batch/s, accuracy=81.8, loss=0.398]\n"
     ]
    },
    {
     "name": "stdout",
     "output_type": "stream",
     "text": [
      "------------------------------\n",
      "Epoch [16/100]\n"
     ]
    },
    {
     "name": "stderr",
     "output_type": "stream",
     "text": [
      "Training: 100%|██████████| 11/11 [00:01<00:00,  6.29batch/s, accuracy=85.2, loss=0.378]\n",
      "Validation: 100%|██████████| 3/3 [00:00<00:00, 20.40batch/s, accuracy=78.9, loss=0.461]\n"
     ]
    },
    {
     "name": "stdout",
     "output_type": "stream",
     "text": [
      "------------------------------\n",
      "Epoch [17/100]\n"
     ]
    },
    {
     "name": "stderr",
     "output_type": "stream",
     "text": [
      "Training: 100%|██████████| 11/11 [00:01<00:00,  5.64batch/s, accuracy=85.1, loss=0.343]\n",
      "Validation: 100%|██████████| 3/3 [00:00<00:00, 20.43batch/s, accuracy=84.7, loss=0.319]\n"
     ]
    },
    {
     "name": "stdout",
     "output_type": "stream",
     "text": [
      "------------------------------\n",
      "Epoch [18/100]\n"
     ]
    },
    {
     "name": "stderr",
     "output_type": "stream",
     "text": [
      "Training: 100%|██████████| 11/11 [00:01<00:00,  5.64batch/s, accuracy=84.6, loss=0.339]\n",
      "Validation: 100%|██████████| 3/3 [00:00<00:00, 19.80batch/s, accuracy=83.9, loss=0.318]\n"
     ]
    },
    {
     "name": "stdout",
     "output_type": "stream",
     "text": [
      "------------------------------\n",
      "Epoch [19/100]\n"
     ]
    },
    {
     "name": "stderr",
     "output_type": "stream",
     "text": [
      "Training: 100%|██████████| 11/11 [00:01<00:00,  5.64batch/s, accuracy=84.5, loss=0.297]\n",
      "Validation: 100%|██████████| 3/3 [00:00<00:00, 19.61batch/s, accuracy=83.5, loss=0.35] \n"
     ]
    },
    {
     "name": "stdout",
     "output_type": "stream",
     "text": [
      "------------------------------\n",
      "Epoch [20/100]\n"
     ]
    },
    {
     "name": "stderr",
     "output_type": "stream",
     "text": [
      "Training: 100%|██████████| 11/11 [00:01<00:00,  5.72batch/s, accuracy=85.2, loss=0.265]\n",
      "Validation: 100%|██████████| 3/3 [00:00<00:00, 19.63batch/s, accuracy=84.8, loss=0.321]\n"
     ]
    },
    {
     "name": "stdout",
     "output_type": "stream",
     "text": [
      "------------------------------\n",
      "Epoch [21/100]\n"
     ]
    },
    {
     "name": "stderr",
     "output_type": "stream",
     "text": [
      "Training: 100%|██████████| 11/11 [00:01<00:00,  5.76batch/s, accuracy=84.1, loss=0.291]\n",
      "Validation: 100%|██████████| 3/3 [00:00<00:00, 20.57batch/s, accuracy=80.8, loss=0.412]\n"
     ]
    },
    {
     "name": "stdout",
     "output_type": "stream",
     "text": [
      "------------------------------\n",
      "Epoch [22/100]\n"
     ]
    },
    {
     "name": "stderr",
     "output_type": "stream",
     "text": [
      "Training: 100%|██████████| 11/11 [00:01<00:00,  5.84batch/s, accuracy=84.2, loss=0.411]\n",
      "Validation: 100%|██████████| 3/3 [00:00<00:00, 20.62batch/s, accuracy=84.7, loss=0.324]\n"
     ]
    },
    {
     "name": "stdout",
     "output_type": "stream",
     "text": [
      "------------------------------\n",
      "Epoch [23/100]\n"
     ]
    },
    {
     "name": "stderr",
     "output_type": "stream",
     "text": [
      "Training: 100%|██████████| 11/11 [00:01<00:00,  5.79batch/s, accuracy=86.2, loss=0.262]\n",
      "Validation: 100%|██████████| 3/3 [00:00<00:00, 19.90batch/s, accuracy=84.5, loss=0.349]\n"
     ]
    },
    {
     "name": "stdout",
     "output_type": "stream",
     "text": [
      "------------------------------\n",
      "Epoch [24/100]\n"
     ]
    },
    {
     "name": "stderr",
     "output_type": "stream",
     "text": [
      "Training: 100%|██████████| 11/11 [00:01<00:00,  5.95batch/s, accuracy=85.9, loss=0.308]\n",
      "Validation: 100%|██████████| 3/3 [00:00<00:00, 22.29batch/s, accuracy=82.9, loss=0.373]\n"
     ]
    },
    {
     "name": "stdout",
     "output_type": "stream",
     "text": [
      "------------------------------\n",
      "Epoch [25/100]\n"
     ]
    },
    {
     "name": "stderr",
     "output_type": "stream",
     "text": [
      "Training: 100%|██████████| 11/11 [00:01<00:00,  6.26batch/s, accuracy=85.5, loss=0.288]\n",
      "Validation: 100%|██████████| 3/3 [00:00<00:00, 22.11batch/s, accuracy=85.2, loss=0.3]  \n"
     ]
    },
    {
     "name": "stdout",
     "output_type": "stream",
     "text": [
      "------------------------------\n",
      "Epoch [26/100]\n"
     ]
    },
    {
     "name": "stderr",
     "output_type": "stream",
     "text": [
      "Training: 100%|██████████| 11/11 [00:01<00:00,  6.57batch/s, accuracy=86.3, loss=0.303]\n",
      "Validation: 100%|██████████| 3/3 [00:00<00:00, 22.71batch/s, accuracy=84.2, loss=0.325]\n"
     ]
    },
    {
     "name": "stdout",
     "output_type": "stream",
     "text": [
      "------------------------------\n",
      "Epoch [27/100]\n"
     ]
    },
    {
     "name": "stderr",
     "output_type": "stream",
     "text": [
      "Training: 100%|██████████| 11/11 [00:01<00:00,  6.49batch/s, accuracy=86.2, loss=0.317]\n",
      "Validation: 100%|██████████| 3/3 [00:00<00:00, 24.09batch/s, accuracy=85.5, loss=0.299]\n"
     ]
    },
    {
     "name": "stdout",
     "output_type": "stream",
     "text": [
      "------------------------------\n",
      "Epoch [28/100]\n"
     ]
    },
    {
     "name": "stderr",
     "output_type": "stream",
     "text": [
      "Training: 100%|██████████| 11/11 [00:01<00:00,  6.31batch/s, accuracy=86.4, loss=0.273]\n",
      "Validation: 100%|██████████| 3/3 [00:00<00:00, 19.36batch/s, accuracy=82, loss=0.373]\n"
     ]
    },
    {
     "name": "stdout",
     "output_type": "stream",
     "text": [
      "------------------------------\n",
      "Epoch [29/100]\n"
     ]
    },
    {
     "name": "stderr",
     "output_type": "stream",
     "text": [
      "Training: 100%|██████████| 11/11 [00:01<00:00,  5.82batch/s, accuracy=86.4, loss=0.253]\n",
      "Validation: 100%|██████████| 3/3 [00:00<00:00, 19.88batch/s, accuracy=80.9, loss=0.438]\n"
     ]
    },
    {
     "name": "stdout",
     "output_type": "stream",
     "text": [
      "------------------------------\n",
      "Epoch [30/100]\n"
     ]
    },
    {
     "name": "stderr",
     "output_type": "stream",
     "text": [
      "Training: 100%|██████████| 11/11 [00:01<00:00,  5.99batch/s, accuracy=87, loss=0.261]  \n",
      "Validation: 100%|██████████| 3/3 [00:00<00:00, 21.35batch/s, accuracy=86.2, loss=0.296]\n"
     ]
    },
    {
     "name": "stdout",
     "output_type": "stream",
     "text": [
      "------------------------------\n",
      "Epoch [31/100]\n"
     ]
    },
    {
     "name": "stderr",
     "output_type": "stream",
     "text": [
      "Training: 100%|██████████| 11/11 [00:01<00:00,  6.08batch/s, accuracy=86, loss=0.302]  \n",
      "Validation: 100%|██████████| 3/3 [00:00<00:00, 22.32batch/s, accuracy=83.6, loss=0.332]\n"
     ]
    },
    {
     "name": "stdout",
     "output_type": "stream",
     "text": [
      "------------------------------\n",
      "Epoch [32/100]\n"
     ]
    },
    {
     "name": "stderr",
     "output_type": "stream",
     "text": [
      "Training: 100%|██████████| 11/11 [00:01<00:00,  6.23batch/s, accuracy=86.8, loss=0.302]\n",
      "Validation: 100%|██████████| 3/3 [00:00<00:00, 24.24batch/s, accuracy=84.1, loss=0.314]\n"
     ]
    },
    {
     "name": "stdout",
     "output_type": "stream",
     "text": [
      "------------------------------\n",
      "Epoch [33/100]\n"
     ]
    },
    {
     "name": "stderr",
     "output_type": "stream",
     "text": [
      "Training: 100%|██████████| 11/11 [00:01<00:00,  6.44batch/s, accuracy=85.9, loss=0.241]\n",
      "Validation: 100%|██████████| 3/3 [00:00<00:00, 22.73batch/s, accuracy=85.6, loss=0.296]\n"
     ]
    },
    {
     "name": "stdout",
     "output_type": "stream",
     "text": [
      "------------------------------\n",
      "Epoch [34/100]\n"
     ]
    },
    {
     "name": "stderr",
     "output_type": "stream",
     "text": [
      "Training: 100%|██████████| 11/11 [00:01<00:00,  6.53batch/s, accuracy=85.7, loss=0.279]\n",
      "Validation: 100%|██████████| 3/3 [00:00<00:00, 22.12batch/s, accuracy=82.9, loss=0.341]\n"
     ]
    },
    {
     "name": "stdout",
     "output_type": "stream",
     "text": [
      "------------------------------\n",
      "Epoch [35/100]\n"
     ]
    },
    {
     "name": "stderr",
     "output_type": "stream",
     "text": [
      "Training: 100%|██████████| 11/11 [00:01<00:00,  6.18batch/s, accuracy=87.2, loss=0.226]\n",
      "Validation: 100%|██████████| 3/3 [00:00<00:00, 20.82batch/s, accuracy=79.2, loss=0.457]\n"
     ]
    },
    {
     "name": "stdout",
     "output_type": "stream",
     "text": [
      "------------------------------\n",
      "Epoch [36/100]\n"
     ]
    },
    {
     "name": "stderr",
     "output_type": "stream",
     "text": [
      "Training: 100%|██████████| 11/11 [00:01<00:00,  5.92batch/s, accuracy=87.5, loss=0.254]\n",
      "Validation: 100%|██████████| 3/3 [00:00<00:00, 22.06batch/s, accuracy=84.5, loss=0.334]\n"
     ]
    },
    {
     "name": "stdout",
     "output_type": "stream",
     "text": [
      "------------------------------\n",
      "Epoch [37/100]\n"
     ]
    },
    {
     "name": "stderr",
     "output_type": "stream",
     "text": [
      "Training: 100%|██████████| 11/11 [00:01<00:00,  6.62batch/s, accuracy=87.5, loss=0.244]\n",
      "Validation: 100%|██████████| 3/3 [00:00<00:00, 24.12batch/s, accuracy=81.5, loss=0.395]\n"
     ]
    },
    {
     "name": "stdout",
     "output_type": "stream",
     "text": [
      "------------------------------\n",
      "Epoch [38/100]\n"
     ]
    },
    {
     "name": "stderr",
     "output_type": "stream",
     "text": [
      "Training: 100%|██████████| 11/11 [00:01<00:00,  6.92batch/s, accuracy=86.5, loss=0.341]\n",
      "Validation: 100%|██████████| 3/3 [00:00<00:00, 25.37batch/s, accuracy=81.4, loss=0.436]\n"
     ]
    },
    {
     "name": "stdout",
     "output_type": "stream",
     "text": [
      "------------------------------\n",
      "Epoch [39/100]\n"
     ]
    },
    {
     "name": "stderr",
     "output_type": "stream",
     "text": [
      "Training: 100%|██████████| 11/11 [00:01<00:00,  6.56batch/s, accuracy=87.1, loss=0.285]\n",
      "Validation: 100%|██████████| 3/3 [00:00<00:00, 24.47batch/s, accuracy=84.1, loss=0.329]\n"
     ]
    },
    {
     "name": "stdout",
     "output_type": "stream",
     "text": [
      "------------------------------\n",
      "Epoch [40/100]\n"
     ]
    },
    {
     "name": "stderr",
     "output_type": "stream",
     "text": [
      "Training: 100%|██████████| 11/11 [00:01<00:00,  6.67batch/s, accuracy=88.2, loss=0.249]\n",
      "Validation: 100%|██████████| 3/3 [00:00<00:00, 22.61batch/s, accuracy=86.4, loss=0.326]\n"
     ]
    },
    {
     "name": "stdout",
     "output_type": "stream",
     "text": [
      "------------------------------\n",
      "Epoch [41/100]\n"
     ]
    },
    {
     "name": "stderr",
     "output_type": "stream",
     "text": [
      "Training: 100%|██████████| 11/11 [00:01<00:00,  6.56batch/s, accuracy=88.2, loss=0.282]\n",
      "Validation: 100%|██████████| 3/3 [00:00<00:00, 23.48batch/s, accuracy=85.6, loss=0.289]\n"
     ]
    },
    {
     "name": "stdout",
     "output_type": "stream",
     "text": [
      "------------------------------\n",
      "Epoch [42/100]\n"
     ]
    },
    {
     "name": "stderr",
     "output_type": "stream",
     "text": [
      "Training: 100%|██████████| 11/11 [00:01<00:00,  6.61batch/s, accuracy=86.4, loss=0.314]\n",
      "Validation: 100%|██████████| 3/3 [00:00<00:00, 24.15batch/s, accuracy=81.2, loss=0.393]\n"
     ]
    },
    {
     "name": "stdout",
     "output_type": "stream",
     "text": [
      "------------------------------\n",
      "Epoch [43/100]\n"
     ]
    },
    {
     "name": "stderr",
     "output_type": "stream",
     "text": [
      "Training: 100%|██████████| 11/11 [00:01<00:00,  6.07batch/s, accuracy=86.6, loss=0.303]\n",
      "Validation: 100%|██████████| 3/3 [00:00<00:00, 24.08batch/s, accuracy=85.6, loss=0.282]\n"
     ]
    },
    {
     "name": "stdout",
     "output_type": "stream",
     "text": [
      "------------------------------\n",
      "Epoch [44/100]\n"
     ]
    },
    {
     "name": "stderr",
     "output_type": "stream",
     "text": [
      "Training: 100%|██████████| 11/11 [00:01<00:00,  6.34batch/s, accuracy=86.7, loss=0.239]\n",
      "Validation: 100%|██████████| 3/3 [00:00<00:00, 23.40batch/s, accuracy=82.1, loss=0.441]\n"
     ]
    },
    {
     "name": "stdout",
     "output_type": "stream",
     "text": [
      "------------------------------\n",
      "Epoch [45/100]\n"
     ]
    },
    {
     "name": "stderr",
     "output_type": "stream",
     "text": [
      "Training: 100%|██████████| 11/11 [00:01<00:00,  6.60batch/s, accuracy=87.3, loss=0.242]\n",
      "Validation: 100%|██████████| 3/3 [00:00<00:00, 23.55batch/s, accuracy=87.1, loss=0.278]\n"
     ]
    },
    {
     "name": "stdout",
     "output_type": "stream",
     "text": [
      "------------------------------\n",
      "Epoch [46/100]\n"
     ]
    },
    {
     "name": "stderr",
     "output_type": "stream",
     "text": [
      "Training: 100%|██████████| 11/11 [00:01<00:00,  6.07batch/s, accuracy=88.3, loss=0.272]\n",
      "Validation: 100%|██████████| 3/3 [00:00<00:00, 20.62batch/s, accuracy=79.2, loss=0.558]\n"
     ]
    },
    {
     "name": "stdout",
     "output_type": "stream",
     "text": [
      "------------------------------\n",
      "Epoch [47/100]\n"
     ]
    },
    {
     "name": "stderr",
     "output_type": "stream",
     "text": [
      "Training: 100%|██████████| 11/11 [00:01<00:00,  5.82batch/s, accuracy=88.3, loss=0.291]\n",
      "Validation: 100%|██████████| 3/3 [00:00<00:00, 20.43batch/s, accuracy=86.8, loss=0.266]\n"
     ]
    },
    {
     "name": "stdout",
     "output_type": "stream",
     "text": [
      "------------------------------\n",
      "Epoch [48/100]\n"
     ]
    },
    {
     "name": "stderr",
     "output_type": "stream",
     "text": [
      "Training: 100%|██████████| 11/11 [00:01<00:00,  5.76batch/s, accuracy=87.4, loss=0.25] \n",
      "Validation: 100%|██████████| 3/3 [00:00<00:00, 22.81batch/s, accuracy=87, loss=0.284] \n"
     ]
    },
    {
     "name": "stdout",
     "output_type": "stream",
     "text": [
      "------------------------------\n",
      "Epoch [49/100]\n"
     ]
    },
    {
     "name": "stderr",
     "output_type": "stream",
     "text": [
      "Training: 100%|██████████| 11/11 [00:01<00:00,  6.34batch/s, accuracy=88.7, loss=0.299]\n",
      "Validation: 100%|██████████| 3/3 [00:00<00:00, 22.54batch/s, accuracy=82, loss=0.462]  \n"
     ]
    },
    {
     "name": "stdout",
     "output_type": "stream",
     "text": [
      "------------------------------\n",
      "Epoch [50/100]\n"
     ]
    },
    {
     "name": "stderr",
     "output_type": "stream",
     "text": [
      "Training: 100%|██████████| 11/11 [00:01<00:00,  6.65batch/s, accuracy=88.1, loss=0.315]\n",
      "Validation: 100%|██████████| 3/3 [00:00<00:00, 23.00batch/s, accuracy=87.1, loss=0.292]\n"
     ]
    },
    {
     "name": "stdout",
     "output_type": "stream",
     "text": [
      "------------------------------\n",
      "Epoch [51/100]\n"
     ]
    },
    {
     "name": "stderr",
     "output_type": "stream",
     "text": [
      "Training: 100%|██████████| 11/11 [00:01<00:00,  6.51batch/s, accuracy=87.4, loss=0.243]\n",
      "Validation: 100%|██████████| 3/3 [00:00<00:00, 23.82batch/s, accuracy=84.2, loss=0.302]\n"
     ]
    },
    {
     "name": "stdout",
     "output_type": "stream",
     "text": [
      "------------------------------\n",
      "Epoch [52/100]\n"
     ]
    },
    {
     "name": "stderr",
     "output_type": "stream",
     "text": [
      "Training: 100%|██████████| 11/11 [00:01<00:00,  6.21batch/s, accuracy=88, loss=0.32]  \n",
      "Validation: 100%|██████████| 3/3 [00:00<00:00, 22.94batch/s, accuracy=82.7, loss=0.405]\n"
     ]
    },
    {
     "name": "stdout",
     "output_type": "stream",
     "text": [
      "------------------------------\n",
      "Epoch [53/100]\n"
     ]
    },
    {
     "name": "stderr",
     "output_type": "stream",
     "text": [
      "Training: 100%|██████████| 11/11 [00:01<00:00,  6.34batch/s, accuracy=88.5, loss=0.229]\n",
      "Validation: 100%|██████████| 3/3 [00:00<00:00, 22.38batch/s, accuracy=86.1, loss=0.306]\n"
     ]
    },
    {
     "name": "stdout",
     "output_type": "stream",
     "text": [
      "------------------------------\n",
      "Epoch [54/100]\n"
     ]
    },
    {
     "name": "stderr",
     "output_type": "stream",
     "text": [
      "Training: 100%|██████████| 11/11 [00:01<00:00,  6.32batch/s, accuracy=87.6, loss=0.21] \n",
      "Validation: 100%|██████████| 3/3 [00:00<00:00, 21.33batch/s, accuracy=84.8, loss=0.338]\n"
     ]
    },
    {
     "name": "stdout",
     "output_type": "stream",
     "text": [
      "------------------------------\n",
      "Epoch [55/100]\n"
     ]
    },
    {
     "name": "stderr",
     "output_type": "stream",
     "text": [
      "Training: 100%|██████████| 11/11 [00:01<00:00,  6.26batch/s, accuracy=88.4, loss=0.292]\n",
      "Validation: 100%|██████████| 3/3 [00:00<00:00, 23.65batch/s, accuracy=87.3, loss=0.295]\n"
     ]
    },
    {
     "name": "stdout",
     "output_type": "stream",
     "text": [
      "------------------------------\n",
      "Epoch [56/100]\n"
     ]
    },
    {
     "name": "stderr",
     "output_type": "stream",
     "text": [
      "Training: 100%|██████████| 11/11 [00:01<00:00,  6.57batch/s, accuracy=89.2, loss=0.25]\n",
      "Validation: 100%|██████████| 3/3 [00:00<00:00, 22.73batch/s, accuracy=86.2, loss=0.297]\n"
     ]
    },
    {
     "name": "stdout",
     "output_type": "stream",
     "text": [
      "------------------------------\n",
      "Epoch [57/100]\n"
     ]
    },
    {
     "name": "stderr",
     "output_type": "stream",
     "text": [
      "Training: 100%|██████████| 11/11 [00:01<00:00,  6.49batch/s, accuracy=88.6, loss=0.282]\n",
      "Validation: 100%|██████████| 3/3 [00:00<00:00, 21.58batch/s, accuracy=76.7, loss=0.651]\n"
     ]
    },
    {
     "name": "stdout",
     "output_type": "stream",
     "text": [
      "------------------------------\n",
      "Epoch [58/100]\n"
     ]
    },
    {
     "name": "stderr",
     "output_type": "stream",
     "text": [
      "Training: 100%|██████████| 11/11 [00:01<00:00,  6.20batch/s, accuracy=88.9, loss=0.232]\n",
      "Validation: 100%|██████████| 3/3 [00:00<00:00, 20.77batch/s, accuracy=86.4, loss=0.307]\n"
     ]
    },
    {
     "name": "stdout",
     "output_type": "stream",
     "text": [
      "------------------------------\n",
      "Epoch [59/100]\n"
     ]
    },
    {
     "name": "stderr",
     "output_type": "stream",
     "text": [
      "Training: 100%|██████████| 11/11 [00:01<00:00,  6.19batch/s, accuracy=88.3, loss=0.324]\n",
      "Validation: 100%|██████████| 3/3 [00:00<00:00, 22.69batch/s, accuracy=83.3, loss=0.388]\n"
     ]
    },
    {
     "name": "stdout",
     "output_type": "stream",
     "text": [
      "------------------------------\n",
      "Epoch [60/100]\n"
     ]
    },
    {
     "name": "stderr",
     "output_type": "stream",
     "text": [
      "Training: 100%|██████████| 11/11 [00:01<00:00,  6.24batch/s, accuracy=90, loss=0.19]  \n",
      "Validation: 100%|██████████| 3/3 [00:00<00:00, 22.07batch/s, accuracy=80.5, loss=0.496]\n"
     ]
    },
    {
     "name": "stdout",
     "output_type": "stream",
     "text": [
      "------------------------------\n",
      "Epoch [61/100]\n"
     ]
    },
    {
     "name": "stderr",
     "output_type": "stream",
     "text": [
      "Training: 100%|██████████| 11/11 [00:01<00:00,  6.12batch/s, accuracy=89.8, loss=0.222]\n",
      "Validation: 100%|██████████| 3/3 [00:00<00:00, 22.52batch/s, accuracy=81.5, loss=0.486]\n"
     ]
    },
    {
     "name": "stdout",
     "output_type": "stream",
     "text": [
      "------------------------------\n",
      "Epoch [62/100]\n"
     ]
    },
    {
     "name": "stderr",
     "output_type": "stream",
     "text": [
      "Training: 100%|██████████| 11/11 [00:01<00:00,  6.10batch/s, accuracy=90, loss=0.296]  \n",
      "Validation: 100%|██████████| 3/3 [00:00<00:00, 20.57batch/s, accuracy=86.2, loss=0.313]\n"
     ]
    },
    {
     "name": "stdout",
     "output_type": "stream",
     "text": [
      "------------------------------\n",
      "Epoch [63/100]\n"
     ]
    },
    {
     "name": "stderr",
     "output_type": "stream",
     "text": [
      "Training: 100%|██████████| 11/11 [00:01<00:00,  5.96batch/s, accuracy=89.2, loss=0.155]\n",
      "Validation: 100%|██████████| 3/3 [00:00<00:00, 23.55batch/s, accuracy=83.9, loss=0.498]\n"
     ]
    },
    {
     "name": "stdout",
     "output_type": "stream",
     "text": [
      "------------------------------\n",
      "Epoch [64/100]\n"
     ]
    },
    {
     "name": "stderr",
     "output_type": "stream",
     "text": [
      "Training: 100%|██████████| 11/11 [00:01<00:00,  6.19batch/s, accuracy=88.9, loss=0.22] \n",
      "Validation: 100%|██████████| 3/3 [00:00<00:00, 22.62batch/s, accuracy=84.2, loss=0.386]\n"
     ]
    },
    {
     "name": "stdout",
     "output_type": "stream",
     "text": [
      "------------------------------\n",
      "Epoch [65/100]\n"
     ]
    },
    {
     "name": "stderr",
     "output_type": "stream",
     "text": [
      "Training: 100%|██████████| 11/11 [00:01<00:00,  5.89batch/s, accuracy=89.1, loss=0.207]\n",
      "Validation: 100%|██████████| 3/3 [00:00<00:00, 22.39batch/s, accuracy=87, loss=0.34]  \n"
     ]
    },
    {
     "name": "stdout",
     "output_type": "stream",
     "text": [
      "------------------------------\n",
      "Epoch [66/100]\n"
     ]
    },
    {
     "name": "stderr",
     "output_type": "stream",
     "text": [
      "Training: 100%|██████████| 11/11 [00:01<00:00,  6.08batch/s, accuracy=89.3, loss=0.204]\n",
      "Validation: 100%|██████████| 3/3 [00:00<00:00, 22.77batch/s, accuracy=84.8, loss=0.408]\n"
     ]
    },
    {
     "name": "stdout",
     "output_type": "stream",
     "text": [
      "------------------------------\n",
      "Epoch [67/100]\n"
     ]
    },
    {
     "name": "stderr",
     "output_type": "stream",
     "text": [
      "Training: 100%|██████████| 11/11 [00:01<00:00,  6.45batch/s, accuracy=89.4, loss=0.281]\n",
      "Validation: 100%|██████████| 3/3 [00:00<00:00, 22.16batch/s, accuracy=85, loss=0.339]  \n"
     ]
    },
    {
     "name": "stdout",
     "output_type": "stream",
     "text": [
      "------------------------------\n",
      "Epoch [68/100]\n"
     ]
    },
    {
     "name": "stderr",
     "output_type": "stream",
     "text": [
      "Training: 100%|██████████| 11/11 [00:01<00:00,  6.52batch/s, accuracy=88.5, loss=0.255]\n",
      "Validation: 100%|██████████| 3/3 [00:00<00:00, 20.60batch/s, accuracy=84.5, loss=0.405]\n"
     ]
    },
    {
     "name": "stdout",
     "output_type": "stream",
     "text": [
      "------------------------------\n",
      "Epoch [69/100]\n"
     ]
    },
    {
     "name": "stderr",
     "output_type": "stream",
     "text": [
      "Training: 100%|██████████| 11/11 [00:01<00:00,  5.86batch/s, accuracy=89.1, loss=0.172]\n",
      "Validation: 100%|██████████| 3/3 [00:00<00:00, 21.01batch/s, accuracy=85.9, loss=0.351]\n"
     ]
    },
    {
     "name": "stdout",
     "output_type": "stream",
     "text": [
      "------------------------------\n",
      "Epoch [70/100]\n"
     ]
    },
    {
     "name": "stderr",
     "output_type": "stream",
     "text": [
      "Training: 100%|██████████| 11/11 [00:01<00:00,  6.04batch/s, accuracy=90, loss=0.23]  \n",
      "Validation: 100%|██████████| 3/3 [00:00<00:00, 21.93batch/s, accuracy=86.7, loss=0.337]\n"
     ]
    },
    {
     "name": "stdout",
     "output_type": "stream",
     "text": [
      "------------------------------\n",
      "Epoch [71/100]\n"
     ]
    },
    {
     "name": "stderr",
     "output_type": "stream",
     "text": [
      "Training: 100%|██████████| 11/11 [00:01<00:00,  6.45batch/s, accuracy=90.1, loss=0.215]\n",
      "Validation: 100%|██████████| 3/3 [00:00<00:00, 23.50batch/s, accuracy=83.9, loss=0.409]\n"
     ]
    },
    {
     "name": "stdout",
     "output_type": "stream",
     "text": [
      "------------------------------\n",
      "Epoch [72/100]\n"
     ]
    },
    {
     "name": "stderr",
     "output_type": "stream",
     "text": [
      "Training: 100%|██████████| 11/11 [00:01<00:00,  6.47batch/s, accuracy=90.1, loss=0.313]\n",
      "Validation: 100%|██████████| 3/3 [00:00<00:00, 24.02batch/s, accuracy=82.4, loss=0.478]\n"
     ]
    },
    {
     "name": "stdout",
     "output_type": "stream",
     "text": [
      "------------------------------\n",
      "Epoch [73/100]\n"
     ]
    },
    {
     "name": "stderr",
     "output_type": "stream",
     "text": [
      "Training: 100%|██████████| 11/11 [00:01<00:00,  5.99batch/s, accuracy=89.3, loss=0.233]\n",
      "Validation: 100%|██████████| 3/3 [00:00<00:00, 21.41batch/s, accuracy=87, loss=0.319]  \n"
     ]
    },
    {
     "name": "stdout",
     "output_type": "stream",
     "text": [
      "------------------------------\n",
      "Epoch [74/100]\n"
     ]
    },
    {
     "name": "stderr",
     "output_type": "stream",
     "text": [
      "Training: 100%|██████████| 11/11 [00:01<00:00,  6.09batch/s, accuracy=90.1, loss=0.209]\n",
      "Validation: 100%|██████████| 3/3 [00:00<00:00, 22.18batch/s, accuracy=81.7, loss=0.516]\n"
     ]
    },
    {
     "name": "stdout",
     "output_type": "stream",
     "text": [
      "------------------------------\n",
      "Epoch [75/100]\n"
     ]
    },
    {
     "name": "stderr",
     "output_type": "stream",
     "text": [
      "Training: 100%|██████████| 11/11 [00:01<00:00,  6.28batch/s, accuracy=89.8, loss=0.364]\n",
      "Validation: 100%|██████████| 3/3 [00:00<00:00, 22.57batch/s, accuracy=88, loss=0.328]  \n"
     ]
    },
    {
     "name": "stdout",
     "output_type": "stream",
     "text": [
      "------------------------------\n",
      "Epoch [76/100]\n"
     ]
    },
    {
     "name": "stderr",
     "output_type": "stream",
     "text": [
      "Training: 100%|██████████| 11/11 [00:01<00:00,  6.29batch/s, accuracy=89.7, loss=0.188]\n",
      "Validation: 100%|██████████| 3/3 [00:00<00:00, 23.84batch/s, accuracy=85.6, loss=0.341]\n"
     ]
    },
    {
     "name": "stdout",
     "output_type": "stream",
     "text": [
      "------------------------------\n",
      "Epoch [77/100]\n"
     ]
    },
    {
     "name": "stderr",
     "output_type": "stream",
     "text": [
      "Training: 100%|██████████| 11/11 [00:01<00:00,  5.98batch/s, accuracy=89.6, loss=0.168]\n",
      "Validation: 100%|██████████| 3/3 [00:00<00:00, 20.55batch/s, accuracy=86.2, loss=0.318]\n"
     ]
    },
    {
     "name": "stdout",
     "output_type": "stream",
     "text": [
      "------------------------------\n",
      "Epoch [78/100]\n"
     ]
    },
    {
     "name": "stderr",
     "output_type": "stream",
     "text": [
      "Training: 100%|██████████| 11/11 [00:01<00:00,  5.95batch/s, accuracy=89.9, loss=0.165]\n",
      "Validation: 100%|██████████| 3/3 [00:00<00:00, 21.35batch/s, accuracy=83.2, loss=0.417]\n"
     ]
    },
    {
     "name": "stdout",
     "output_type": "stream",
     "text": [
      "------------------------------\n",
      "Epoch [79/100]\n"
     ]
    },
    {
     "name": "stderr",
     "output_type": "stream",
     "text": [
      "Training: 100%|██████████| 11/11 [00:01<00:00,  6.28batch/s, accuracy=90.7, loss=0.229]\n",
      "Validation: 100%|██████████| 3/3 [00:00<00:00, 23.02batch/s, accuracy=86.7, loss=0.299]\n"
     ]
    },
    {
     "name": "stdout",
     "output_type": "stream",
     "text": [
      "------------------------------\n",
      "Epoch [80/100]\n"
     ]
    },
    {
     "name": "stderr",
     "output_type": "stream",
     "text": [
      "Training: 100%|██████████| 11/11 [00:01<00:00,  6.32batch/s, accuracy=90.3, loss=0.23] \n",
      "Validation: 100%|██████████| 3/3 [00:00<00:00, 23.81batch/s, accuracy=82.3, loss=0.478]\n"
     ]
    },
    {
     "name": "stdout",
     "output_type": "stream",
     "text": [
      "------------------------------\n",
      "Epoch [81/100]\n"
     ]
    },
    {
     "name": "stderr",
     "output_type": "stream",
     "text": [
      "Training: 100%|██████████| 11/11 [00:01<00:00,  6.05batch/s, accuracy=90.4, loss=0.253]\n",
      "Validation: 100%|██████████| 3/3 [00:00<00:00, 22.16batch/s, accuracy=86.8, loss=0.336]\n"
     ]
    },
    {
     "name": "stdout",
     "output_type": "stream",
     "text": [
      "------------------------------\n",
      "Epoch [82/100]\n"
     ]
    },
    {
     "name": "stderr",
     "output_type": "stream",
     "text": [
      "Training: 100%|██████████| 11/11 [00:01<00:00,  5.89batch/s, accuracy=89.6, loss=0.395]\n",
      "Validation: 100%|██████████| 3/3 [00:00<00:00, 21.37batch/s, accuracy=86.8, loss=0.334]\n"
     ]
    },
    {
     "name": "stdout",
     "output_type": "stream",
     "text": [
      "------------------------------\n",
      "Epoch [83/100]\n"
     ]
    },
    {
     "name": "stderr",
     "output_type": "stream",
     "text": [
      "Training: 100%|██████████| 11/11 [00:01<00:00,  6.00batch/s, accuracy=91.1, loss=0.209]\n",
      "Validation: 100%|██████████| 3/3 [00:00<00:00, 17.98batch/s, accuracy=88, loss=0.335]  \n"
     ]
    },
    {
     "name": "stdout",
     "output_type": "stream",
     "text": [
      "------------------------------\n",
      "Epoch [84/100]\n"
     ]
    },
    {
     "name": "stderr",
     "output_type": "stream",
     "text": [
      "Training: 100%|██████████| 11/11 [00:01<00:00,  5.82batch/s, accuracy=91, loss=0.183]  \n",
      "Validation: 100%|██████████| 3/3 [00:00<00:00, 21.57batch/s, accuracy=80, loss=0.641]  \n"
     ]
    },
    {
     "name": "stdout",
     "output_type": "stream",
     "text": [
      "------------------------------\n",
      "Epoch [85/100]\n"
     ]
    },
    {
     "name": "stderr",
     "output_type": "stream",
     "text": [
      "Training: 100%|██████████| 11/11 [00:01<00:00,  5.93batch/s, accuracy=89.7, loss=0.31]\n",
      "Validation: 100%|██████████| 3/3 [00:00<00:00, 21.37batch/s, accuracy=87.1, loss=0.338]\n"
     ]
    },
    {
     "name": "stdout",
     "output_type": "stream",
     "text": [
      "------------------------------\n",
      "Epoch [86/100]\n"
     ]
    },
    {
     "name": "stderr",
     "output_type": "stream",
     "text": [
      "Training: 100%|██████████| 11/11 [00:01<00:00,  5.99batch/s, accuracy=90.1, loss=0.313]\n",
      "Validation: 100%|██████████| 3/3 [00:00<00:00, 22.25batch/s, accuracy=84.2, loss=0.409]\n"
     ]
    },
    {
     "name": "stdout",
     "output_type": "stream",
     "text": [
      "------------------------------\n",
      "Epoch [87/100]\n"
     ]
    },
    {
     "name": "stderr",
     "output_type": "stream",
     "text": [
      "Training: 100%|██████████| 11/11 [00:01<00:00,  6.01batch/s, accuracy=89.8, loss=0.234]\n",
      "Validation: 100%|██████████| 3/3 [00:00<00:00, 20.25batch/s, accuracy=86.7, loss=0.406]\n"
     ]
    },
    {
     "name": "stdout",
     "output_type": "stream",
     "text": [
      "------------------------------\n",
      "Epoch [88/100]\n"
     ]
    },
    {
     "name": "stderr",
     "output_type": "stream",
     "text": [
      "Training: 100%|██████████| 11/11 [00:01<00:00,  6.14batch/s, accuracy=90, loss=0.23]   \n",
      "Validation: 100%|██████████| 3/3 [00:00<00:00, 22.42batch/s, accuracy=87.6, loss=0.312]\n"
     ]
    },
    {
     "name": "stdout",
     "output_type": "stream",
     "text": [
      "------------------------------\n",
      "Epoch [89/100]\n"
     ]
    },
    {
     "name": "stderr",
     "output_type": "stream",
     "text": [
      "Training: 100%|██████████| 11/11 [00:01<00:00,  6.01batch/s, accuracy=91.4, loss=0.251]\n",
      "Validation: 100%|██████████| 3/3 [00:00<00:00, 22.75batch/s, accuracy=86.4, loss=0.385]\n"
     ]
    },
    {
     "name": "stdout",
     "output_type": "stream",
     "text": [
      "------------------------------\n",
      "Epoch [90/100]\n"
     ]
    },
    {
     "name": "stderr",
     "output_type": "stream",
     "text": [
      "Training: 100%|██████████| 11/11 [00:01<00:00,  5.63batch/s, accuracy=91.1, loss=0.127]\n",
      "Validation: 100%|██████████| 3/3 [00:00<00:00, 20.03batch/s, accuracy=87.4, loss=0.358]\n"
     ]
    },
    {
     "name": "stdout",
     "output_type": "stream",
     "text": [
      "------------------------------\n",
      "Epoch [91/100]\n"
     ]
    },
    {
     "name": "stderr",
     "output_type": "stream",
     "text": [
      "Training: 100%|██████████| 11/11 [00:01<00:00,  5.58batch/s, accuracy=91.2, loss=0.208]\n",
      "Validation: 100%|██████████| 3/3 [00:00<00:00, 18.91batch/s, accuracy=87.7, loss=0.387]\n"
     ]
    },
    {
     "name": "stdout",
     "output_type": "stream",
     "text": [
      "------------------------------\n",
      "Epoch [92/100]\n"
     ]
    },
    {
     "name": "stderr",
     "output_type": "stream",
     "text": [
      "Training: 100%|██████████| 11/11 [00:01<00:00,  5.61batch/s, accuracy=91, loss=0.152] \n",
      "Validation: 100%|██████████| 3/3 [00:00<00:00, 20.80batch/s, accuracy=87.6, loss=0.389]\n"
     ]
    },
    {
     "name": "stdout",
     "output_type": "stream",
     "text": [
      "------------------------------\n",
      "Epoch [93/100]\n"
     ]
    },
    {
     "name": "stderr",
     "output_type": "stream",
     "text": [
      "Training: 100%|██████████| 11/11 [00:01<00:00,  6.12batch/s, accuracy=92, loss=0.215]  \n",
      "Validation: 100%|██████████| 3/3 [00:00<00:00, 21.98batch/s, accuracy=87.1, loss=0.364]\n"
     ]
    },
    {
     "name": "stdout",
     "output_type": "stream",
     "text": [
      "------------------------------\n",
      "Epoch [94/100]\n"
     ]
    },
    {
     "name": "stderr",
     "output_type": "stream",
     "text": [
      "Training: 100%|██████████| 11/11 [00:01<00:00,  6.35batch/s, accuracy=92.7, loss=0.195]\n",
      "Validation: 100%|██████████| 3/3 [00:00<00:00, 21.54batch/s, accuracy=87.4, loss=0.378]\n"
     ]
    },
    {
     "name": "stdout",
     "output_type": "stream",
     "text": [
      "------------------------------\n",
      "Epoch [95/100]\n"
     ]
    },
    {
     "name": "stderr",
     "output_type": "stream",
     "text": [
      "Training: 100%|██████████| 11/11 [00:01<00:00,  6.13batch/s, accuracy=92.5, loss=0.114]\n",
      "Validation: 100%|██████████| 3/3 [00:00<00:00, 20.03batch/s, accuracy=87.3, loss=0.357]\n"
     ]
    },
    {
     "name": "stdout",
     "output_type": "stream",
     "text": [
      "------------------------------\n",
      "Epoch [96/100]\n"
     ]
    },
    {
     "name": "stderr",
     "output_type": "stream",
     "text": [
      "Training: 100%|██████████| 11/11 [00:01<00:00,  6.40batch/s, accuracy=91.7, loss=0.202]\n",
      "Validation: 100%|██████████| 3/3 [00:00<00:00, 21.02batch/s, accuracy=87.6, loss=0.39] \n"
     ]
    },
    {
     "name": "stdout",
     "output_type": "stream",
     "text": [
      "------------------------------\n",
      "Epoch [97/100]\n"
     ]
    },
    {
     "name": "stderr",
     "output_type": "stream",
     "text": [
      "Training: 100%|██████████| 11/11 [00:01<00:00,  6.14batch/s, accuracy=92.4, loss=0.112]\n",
      "Validation: 100%|██████████| 3/3 [00:00<00:00, 22.06batch/s, accuracy=88, loss=0.382]  \n"
     ]
    },
    {
     "name": "stdout",
     "output_type": "stream",
     "text": [
      "------------------------------\n",
      "Epoch [98/100]\n"
     ]
    },
    {
     "name": "stderr",
     "output_type": "stream",
     "text": [
      "Training: 100%|██████████| 11/11 [00:01<00:00,  6.65batch/s, accuracy=92.6, loss=0.223]\n",
      "Validation: 100%|██████████| 3/3 [00:00<00:00, 22.08batch/s, accuracy=88, loss=0.392]  \n"
     ]
    },
    {
     "name": "stdout",
     "output_type": "stream",
     "text": [
      "------------------------------\n",
      "Epoch [99/100]\n"
     ]
    },
    {
     "name": "stderr",
     "output_type": "stream",
     "text": [
      "Training: 100%|██████████| 11/11 [00:01<00:00,  6.66batch/s, accuracy=92.4, loss=0.159]\n",
      "Validation: 100%|██████████| 3/3 [00:00<00:00, 22.16batch/s, accuracy=88, loss=0.367]  \n"
     ]
    },
    {
     "name": "stdout",
     "output_type": "stream",
     "text": [
      "------------------------------\n",
      "Epoch [100/100]\n"
     ]
    },
    {
     "name": "stderr",
     "output_type": "stream",
     "text": [
      "Training: 100%|██████████| 11/11 [00:01<00:00,  6.62batch/s, accuracy=92, loss=0.235]  \n",
      "Validation: 100%|██████████| 3/3 [00:00<00:00, 24.21batch/s, accuracy=87.9, loss=0.383]"
     ]
    },
    {
     "name": "stdout",
     "output_type": "stream",
     "text": [
      "------------------------------\n"
     ]
    },
    {
     "name": "stderr",
     "output_type": "stream",
     "text": [
      "\n"
     ]
    }
   ],
   "source": [
    "improvedModel = ImprovedSkinCancerCNN().to(device)\n",
    "optimizer = optim.Adam(improvedModel.parameters(), lr=learning_rate)\n",
    "train_accuracies, train_losses, val_accuracy, val_losses = train_model(improvedModel, optimizer, criterion, \n",
    "                                                                       train_dataloader, test_dataloader, dataset, \n",
    "                                                                       num_epochs=num_epochs, device=device)"
   ]
  },
  {
   "cell_type": "code",
   "execution_count": 18,
   "metadata": {},
   "outputs": [
    {
     "data": {
      "image/png": "[encoded data removed]",
      "text/plain": [
       "<Figure size 1000x500 with 1 Axes>"
      ]
     },
     "metadata": {},
     "output_type": "display_data"
    },
    {
     "data": {
      "image/png": "[encoded data removed]",
      "text/plain": [
       "<Figure size 1000x500 with 1 Axes>"
      ]
     },
     "metadata": {},
     "output_type": "display_data"
    }
   ],
   "source": [
    "plot_metric('Accuracy', train_accuracies, val_accuracy, epochs=num_epochs)\n",
    "plot_metric('Loss', train_losses, val_losses, epochs=num_epochs)"
   ]
  },
  {
   "cell_type": "code",
   "execution_count": 18,
   "metadata": {},
   "outputs": [],
   "source": [
    "from torch import nn\n",
    "\n",
    "class GoogLeNet(nn.Module):\n",
    "  def __init__(self, aux_logits=True, num_classes=4):\n",
    "    super(GoogLeNet, self).__init__()\n",
    "    assert aux_logits == True or aux_logits == False\n",
    "    self.aux_logits = aux_logits\n",
    "\n",
    "    self.conv1 = conv_block(\n",
    "        in_channels=3,\n",
    "        out_channels=64,\n",
    "        kernel_size=7,\n",
    "        stride=2,\n",
    "        padding=3,\n",
    "    )\n",
    "\n",
    "    self.maxpool1 = nn.MaxPool2d(kernel_size=3, stride=2, padding=1)\n",
    "    self.conv2 = conv_block(64, 192, kernel_size=3, stride=1, padding=1)\n",
    "    self.maxpool2 = nn.MaxPool2d(kernel_size=3, stride=2, padding=1)\n",
    "\n",
    "    # In this order: in_channels, out_1x1, red_3x3, out_3x3, red_5x5, out_5x5, out_1x1pool\n",
    "    self.inception3a = Inception_block(192, 64, 96, 128, 16, 32, 32)\n",
    "    self.inception3b = Inception_block(256, 128, 128, 192, 32, 96, 64)\n",
    "    self.maxpool3 = nn.MaxPool2d(kernel_size=3, stride=2, padding=1)\n",
    "\n",
    "    self.inception4a = Inception_block(480, 192, 96, 208, 16, 48, 64)\n",
    "    self.inception4b = Inception_block(512, 160, 112, 224, 24, 64, 64)\n",
    "    self.inception4c = Inception_block(512, 128, 128, 256, 24, 64, 64)\n",
    "    self.inception4d = Inception_block(512, 112, 144, 288, 32, 64, 64)\n",
    "    self.inception4e = Inception_block(528, 256, 160, 320, 32, 128, 128)\n",
    "    self.maxpool4 = nn.MaxPool2d(kernel_size=3, stride=2, padding=1)\n",
    "\n",
    "    self.inception5a = Inception_block(832, 256, 160, 320, 32, 128, 128)\n",
    "    self.inception5b = Inception_block(832, 384, 192, 384, 48, 128, 128)\n",
    "\n",
    "    self.avgpool = nn.AvgPool2d(kernel_size=7, stride=1)\n",
    "    self.dropout = nn.Dropout(p=0.4)\n",
    "    self.fc1 = nn.Linear(1024, num_classes)\n",
    "\n",
    "    if self.aux_logits:\n",
    "      self.aux1 = InceptionAux(512, num_classes)\n",
    "      self.aux2 = InceptionAux(528, num_classes)\n",
    "    else:\n",
    "      self.aux1 = self.aux2 = None\n",
    "\n",
    "  def forward(self, x ):\n",
    "    x = self.conv1(x)       #\n",
    "    x = self.maxpool1(x)    #\n",
    "    x = self.conv2(x)       #\n",
    "    x = self.maxpool2(x)    #\n",
    "\n",
    "    x = self.inception3a(x) # 192, 64\n",
    "    x = self.inception3b(x) # 256, 128\n",
    "    x = self.maxpool3(x)    # \n",
    "\n",
    "    x = self.inception4a(x) #\n",
    "\n",
    "    # Auxiliary Softmax classifier 1\n",
    "    if self.aux_logits and self.training:\n",
    "      aux1 = self.aux1(x)\n",
    "\n",
    "    x = self.inception4b(x) # 512, 160\n",
    "    x = self.inception4c(x) # 512, 128\n",
    "    x = self.inception4d(x) # 512, 112\n",
    "\n",
    "    # Auxiliary Softmax classifier 2\n",
    "    if self.aux_logits and self.training:\n",
    "      aux2 = self.aux2(x)\n",
    "\n",
    "    x = self.inception4e(x)\n",
    "    x = self.maxpool4(x)\n",
    "    x = self.inception5a(x)\n",
    "    x = self.inception5b(x)\n",
    "    x = self.avgpool(x)\n",
    "    x = x.reshape(x.shape[0], -1)\n",
    "    x = self.dropout(x)\n",
    "    x = self.fc1(x)\n",
    "\n",
    "    if self.aux_logits and self.training:\n",
    "      return aux1, aux2, x\n",
    "    else:\n",
    "      return x\n",
    "\n",
    "\n",
    "class Inception_block(nn.Module):\n",
    "  def __init__(self, in_channels, out_1x1, red_3x3, out_3x3, red_5x5, out_5x5, out_1x1pool):\n",
    "    super(Inception_block, self).__init__()\n",
    "    self.branch1 = conv_block(in_channels, out_1x1, kernel_size=1)\n",
    "\n",
    "    self.branch2 = nn.Sequential(\n",
    "      conv_block(in_channels, red_3x3, kernel_size=1),\n",
    "      conv_block(red_3x3, out_3x3, kernel_size=(3, 3), padding=1),\n",
    "    )\n",
    "\n",
    "    self.branch3 = nn.Sequential(\n",
    "      conv_block(in_channels, red_5x5, kernel_size=1),\n",
    "      conv_block(red_5x5, out_5x5, kernel_size=5, padding=2),\n",
    "    )\n",
    "\n",
    "    self.branch4 = nn.Sequential(\n",
    "      nn.MaxPool2d(kernel_size=3, stride=1, padding=1),\n",
    "      conv_block(in_channels, out_1x1pool, kernel_size=1),\n",
    "    )\n",
    "\n",
    "  def forward(self, x):\n",
    "    return torch.cat([self.branch1(x), self.branch2(x), self.branch3(x), self.branch4(x)], 1)\n",
    "\n",
    "\n",
    "class InceptionAux(nn.Module):\n",
    "  def __init__(self, in_channels, num_classes):\n",
    "    super(InceptionAux, self).__init__()\n",
    "    self.relu = nn.ReLU()\n",
    "    self.dropout = nn.Dropout(p=0.7)\n",
    "    self.pool = nn.AvgPool2d(kernel_size=5, stride=3)\n",
    "    self.conv = conv_block(in_channels, 128, kernel_size=1)\n",
    "    self.fc1 = nn.Linear(2048, 1024)\n",
    "    self.fc2 = nn.Linear(1024, num_classes)\n",
    "\n",
    "  def forward(self, x):\n",
    "    x = self.pool(x)\n",
    "    x = self.conv(x)\n",
    "    x = x.reshape(x.shape[0], -1)\n",
    "    x = self.relu(self.fc1(x))\n",
    "    x = self.dropout(x)\n",
    "    x = self.fc2(x)\n",
    "    return x\n",
    "\n",
    "\n",
    "class conv_block(nn.Module):\n",
    "  def __init__(self, in_channels, out_channels, **kwargs):\n",
    "    super(conv_block, self).__init__()\n",
    "    self.relu = nn.ReLU()\n",
    "    self.conv = nn.Conv2d(in_channels, out_channels, **kwargs)\n",
    "    self.batchnorm = nn.BatchNorm2d(out_channels)\n",
    "\n",
    "  def forward(self, x):\n",
    "    return self.relu(self.batchnorm(self.conv(x)))\n",
    "\n"
   ]
  },
  {
   "cell_type": "code",
   "execution_count": 19,
   "metadata": {},
   "outputs": [],
   "source": [
    "custom_train_transform = transforms.Compose([\n",
    "    transforms.ToPILImage(),\n",
    "    transforms.RandomHorizontalFlip(),\n",
    "    transforms.RandomVerticalFlip(),\n",
    "    transforms.RandomRotation(15),\n",
    "    transforms.RandomResizedCrop(224, scale=(0.9, 1.1)),\n",
    "    transforms.ColorJitter(brightness=0.1, contrast=0.1, saturation=0.1),\n",
    "    ToTensorAndMove(device),\n",
    "])\n",
    "\n",
    "custom_val_transform = transforms.Compose([\n",
    "    transforms.ToPILImage(),\n",
    "    ToTensorAndMove(device),\n",
    "])"
   ]
  },
  {
   "cell_type": "code",
   "execution_count": 20,
   "metadata": {},
   "outputs": [
    {
     "name": "stdout",
     "output_type": "stream",
     "text": [
      "dataset shape is : (1800, 224, 224, 3)\n"
     ]
    }
   ],
   "source": [
    "google_net_dataset = Data(device, mode='train', \n",
    "                               train_transform=custom_train_transform, val_transform=custom_val_transform)\n",
    "\n",
    "google_net_dataset.normalize()\n",
    "google_net_dataset.train_val_split()\n",
    "\n",
    "google_net_train_dataloader = DataLoader(google_net_dataset, batch_size=batch_size, shuffle=True)\n",
    "google_net_test_dataloader = DataLoader(google_net_dataset, batch_size=batch_size, shuffle=False)"
   ]
  },
  {
   "cell_type": "code",
   "execution_count": null,
   "metadata": {},
   "outputs": [],
   "source": [
    "import torch\n",
    "import torch.nn as nn\n",
    "import torch.optim as optim\n",
    "from tqdm import tqdm\n",
    "\n",
    "def train_model(model, optimizer, criterion, train_loader, val_loader, dataset, num_epochs=10, device='cuda'):\n",
    "    model.to(device)\n",
    "    train_accuracies = []\n",
    "    train_losses = []\n",
    "    val_accuracies = []\n",
    "    val_losses = []\n",
    "    \n",
    "    # Learning rate scheduler based on validation loss\n",
    "    scheduler = torch.optim.lr_scheduler.ReduceLROnPlateau(optimizer, factor=0.1, patience=10, verbose=True)\n",
    "    \n",
    "    for epoch in range(num_epochs):\n",
    "        print(f\"Epoch [{epoch + 1}/{num_epochs}]\")\n",
    "        \n",
    "        # Training phase\n",
    "        dataset.mode = 'train'\n",
    "        model.train()\n",
    "        total_train_loss = 0.0\n",
    "        correct_train = 0\n",
    "        total_train = 0\n",
    "\n",
    "        with tqdm(total=len(train_loader), desc=\"Training\", unit=\"batch\") as pbar:\n",
    "            for batch in train_loader:\n",
    "                images, labels = batch['image'].to(device), batch['label'].to(device)\n",
    "                # print('images.shape: ', images.shape)\n",
    "                # Forward pass\n",
    "                optimizer.zero_grad()  \n",
    "                outputs = model(images)\n",
    "                \n",
    "                # Compute loss\n",
    "                if isinstance(outputs, tuple):  # GoogLeNet produces multiple outputs\n",
    "                    loss1 = criterion(outputs[0], labels.long())\n",
    "                    loss2 = criterion(outputs[1], labels.long())\n",
    "                    loss3 = criterion(outputs[2], labels.long())\n",
    "                    loss = loss1 + loss2 + loss3\n",
    "                else:\n",
    "                    loss = criterion(outputs, labels.long())\n",
    "                \n",
    "                # Backward pass\n",
    "                loss.backward()\n",
    "                optimizer.step()\n",
    "                \n",
    "                total_train_loss += loss.item()\n",
    "                \n",
    "                # Calculate accuracy\n",
    "                _, predicted = torch.max(outputs[2], 1)\n",
    "                # _, predicted = outputs[0].max(1)  # Use primary output for accuracy\n",
    "                total_train += labels.size(0)\n",
    "                correct_train += predicted.eq(labels).sum().item()\n",
    "                \n",
    "                # Progress bar update\n",
    "                pbar.set_postfix(loss=loss.item(), accuracy=100. * correct_train / total_train)\n",
    "                pbar.update(1)\n",
    "        \n",
    "        # Calculate average training loss and accuracy for the epoch\n",
    "        avg_train_loss = total_train_loss / len(train_loader)\n",
    "        train_accuracy = 100. * correct_train / total_train\n",
    "        train_accuracies.append(train_accuracy)\n",
    "        train_losses.append(avg_train_loss)\n",
    "        \n",
    "        # Validation phase\n",
    "        model.eval()\n",
    "        dataset.mode = 'val'\n",
    "        total_val_loss = 0.0\n",
    "        correct_val = 0\n",
    "        total_val = 0\n",
    "\n",
    "        with torch.no_grad():\n",
    "            with tqdm(total=len(val_loader), desc=\"Validation\", unit=\"batch\") as pbar:\n",
    "                for batch in val_loader:\n",
    "                    images, labels = batch['image'].to(device), batch['label'].to(device)\n",
    "                    # print(images.shape)\n",
    "\n",
    "                    # Forward pass\n",
    "                    outputs = model(images)\n",
    "                    \n",
    "                    # # Compute loss\n",
    "                    # if isinstance(outputs, tuple):\n",
    "                    #     loss1 = criterion(outputs[0], labels.long())\n",
    "                    #     loss2 = criterion(outputs[1], labels.long())\n",
    "                    #     loss3 = criterion(outputs[2], labels.long())\n",
    "                    #     loss = loss1 + loss2 + loss3\n",
    "                    # else:\n",
    "                    loss = criterion(outputs, labels.long())\n",
    "                    \n",
    "                    total_val_loss += loss.item()\n",
    "                    \n",
    "                    # Calculate accuracy\n",
    "                    _, predicted = outputs.max(1)                    \n",
    "                    # _, predicted = torch.max(outputs[2], 1)  # Use primary output for accuracy\n",
    "                    total_val += labels.size(0)\n",
    "                    correct_val += predicted.eq(labels).sum().item()\n",
    "                    \n",
    "                    # Progress bar update\n",
    "                    pbar.set_postfix(loss=loss.item(), accuracy=100. * correct_val / total_val)\n",
    "                    pbar.update(1)\n",
    "        \n",
    "        # Calculate average validation loss and accuracy for the epoch\n",
    "        avg_val_loss = total_val_loss / len(val_loader)\n",
    "        val_accuracy = 100. * correct_val / total_val\n",
    "        val_accuracies.append(val_accuracy)\n",
    "        val_losses.append(avg_val_loss)\n",
    "        \n",
    "        # Print epoch results\n",
    "        print(f\"Training Loss: {avg_train_loss:.4f}, Accuracy: {train_accuracy:.2f}%\")\n",
    "        print(f\"Validation Loss: {avg_val_loss:.4f}, Accuracy: {val_accuracy:.2f}%\")\n",
    "        print(\"-\" * 30)\n",
    "        \n",
    "        # Step the learning rate scheduler based on validation loss\n",
    "        scheduler.step(avg_val_loss)\n",
    "    \n",
    "    return train_accuracies, train_losses, val_accuracies, val_losses\n"
   ]
  },
  {
   "cell_type": "code",
   "execution_count": 22,
   "metadata": {},
   "outputs": [
    {
     "name": "stderr",
     "output_type": "stream",
     "text": [
      "c:\\Users\\USER\\AppData\\Local\\Programs\\Python\\Python312\\Lib\\site-packages\\torch\\optim\\lr_scheduler.py:62: UserWarning: The verbose parameter is deprecated. Please use get_last_lr() to access the learning rate.\n",
      "  warnings.warn(\n"
     ]
    },
    {
     "name": "stdout",
     "output_type": "stream",
     "text": [
      "Epoch [1/100]\n"
     ]
    },
    {
     "name": "stderr",
     "output_type": "stream",
     "text": [
      "Training: 100%|██████████| 11/11 [02:28<00:00, 13.53s/batch, accuracy=69.8, loss=1.22]\n",
      "Validation:   0%|          | 0/3 [00:00<?, ?batch/s]"
     ]
    },
    {
     "name": "stdout",
     "output_type": "stream",
     "text": [
      "torch.Size([256, 3, 224, 224])\n"
     ]
    },
    {
     "name": "stderr",
     "output_type": "stream",
     "text": [
      "Validation:  33%|███▎      | 1/3 [00:07<00:14,  7.35s/batch, accuracy=43.8, loss=1.07]"
     ]
    },
    {
     "name": "stdout",
     "output_type": "stream",
     "text": [
      "torch.Size([256, 3, 224, 224])\n"
     ]
    },
    {
     "name": "stderr",
     "output_type": "stream",
     "text": [
      "Validation:  67%|██████▋   | 2/3 [00:14<00:07,  7.31s/batch, accuracy=44.1, loss=1.07]"
     ]
    },
    {
     "name": "stdout",
     "output_type": "stream",
     "text": [
      "torch.Size([148, 3, 224, 224])\n"
     ]
    },
    {
     "name": "stderr",
     "output_type": "stream",
     "text": [
      "Validation: 100%|██████████| 3/3 [00:19<00:00,  6.36s/batch, accuracy=43.2, loss=1.08]\n"
     ]
    },
    {
     "name": "stdout",
     "output_type": "stream",
     "text": [
      "Training Loss: 1.9015, Accuracy: 69.81%\n",
      "Validation Loss: 1.0706, Accuracy: 43.18%\n",
      "------------------------------\n",
      "Epoch [2/100]\n"
     ]
    },
    {
     "name": "stderr",
     "output_type": "stream",
     "text": [
      "Training: 100%|██████████| 11/11 [02:27<00:00, 13.44s/batch, accuracy=81.3, loss=1.24]\n",
      "Validation:   0%|          | 0/3 [00:00<?, ?batch/s]"
     ]
    },
    {
     "name": "stdout",
     "output_type": "stream",
     "text": [
      "torch.Size([256, 3, 224, 224])\n"
     ]
    },
    {
     "name": "stderr",
     "output_type": "stream",
     "text": [
      "Validation:  33%|███▎      | 1/3 [00:06<00:13,  6.92s/batch, accuracy=56.2, loss=0.999]"
     ]
    },
    {
     "name": "stdout",
     "output_type": "stream",
     "text": [
      "torch.Size([256, 3, 224, 224])\n"
     ]
    },
    {
     "name": "stderr",
     "output_type": "stream",
     "text": [
      "Validation:  67%|██████▋   | 2/3 [00:13<00:06,  6.97s/batch, accuracy=55.9, loss=1]    "
     ]
    },
    {
     "name": "stdout",
     "output_type": "stream",
     "text": [
      "torch.Size([148, 3, 224, 224])\n"
     ]
    },
    {
     "name": "stderr",
     "output_type": "stream",
     "text": [
      "Validation: 100%|██████████| 3/3 [00:18<00:00,  6.08s/batch, accuracy=56.8, loss=0.933]\n"
     ]
    },
    {
     "name": "stdout",
     "output_type": "stream",
     "text": [
      "Training Loss: 1.2311, Accuracy: 81.34%\n",
      "Validation Loss: 0.9773, Accuracy: 56.82%\n",
      "------------------------------\n",
      "Epoch [3/100]\n"
     ]
    },
    {
     "name": "stderr",
     "output_type": "stream",
     "text": [
      "Training: 100%|██████████| 11/11 [02:28<00:00, 13.48s/batch, accuracy=82.2, loss=1.39]\n",
      "Validation:   0%|          | 0/3 [00:00<?, ?batch/s]"
     ]
    },
    {
     "name": "stdout",
     "output_type": "stream",
     "text": [
      "torch.Size([256, 3, 224, 224])\n"
     ]
    },
    {
     "name": "stderr",
     "output_type": "stream",
     "text": [
      "Validation:  33%|███▎      | 1/3 [00:07<00:14,  7.02s/batch, accuracy=56.2, loss=1.41]"
     ]
    },
    {
     "name": "stdout",
     "output_type": "stream",
     "text": [
      "torch.Size([256, 3, 224, 224])\n"
     ]
    },
    {
     "name": "stderr",
     "output_type": "stream",
     "text": [
      "Validation:  67%|██████▋   | 2/3 [00:14<00:07,  7.10s/batch, accuracy=55.9, loss=1.31]"
     ]
    },
    {
     "name": "stdout",
     "output_type": "stream",
     "text": [
      "torch.Size([148, 3, 224, 224])\n"
     ]
    },
    {
     "name": "stderr",
     "output_type": "stream",
     "text": [
      "Validation: 100%|██████████| 3/3 [00:18<00:00,  6.16s/batch, accuracy=56.8, loss=1.37]\n"
     ]
    },
    {
     "name": "stdout",
     "output_type": "stream",
     "text": [
      "Training Loss: 1.1229, Accuracy: 82.21%\n",
      "Validation Loss: 1.3615, Accuracy: 56.82%\n",
      "------------------------------\n",
      "Epoch [4/100]\n"
     ]
    },
    {
     "name": "stderr",
     "output_type": "stream",
     "text": [
      "Training: 100%|██████████| 11/11 [02:28<00:00, 13.50s/batch, accuracy=82.8, loss=1.41]\n",
      "Validation:   0%|          | 0/3 [00:00<?, ?batch/s]"
     ]
    },
    {
     "name": "stdout",
     "output_type": "stream",
     "text": [
      "torch.Size([256, 3, 224, 224])\n"
     ]
    },
    {
     "name": "stderr",
     "output_type": "stream",
     "text": [
      "Validation:  33%|███▎      | 1/3 [00:06<00:13,  6.89s/batch, accuracy=66, loss=0.729]"
     ]
    },
    {
     "name": "stdout",
     "output_type": "stream",
     "text": [
      "torch.Size([256, 3, 224, 224])\n"
     ]
    },
    {
     "name": "stderr",
     "output_type": "stream",
     "text": [
      "Validation:  67%|██████▋   | 2/3 [00:13<00:06,  6.89s/batch, accuracy=69.3, loss=0.592]"
     ]
    },
    {
     "name": "stdout",
     "output_type": "stream",
     "text": [
      "torch.Size([148, 3, 224, 224])\n"
     ]
    },
    {
     "name": "stderr",
     "output_type": "stream",
     "text": [
      "Validation: 100%|██████████| 3/3 [00:18<00:00,  6.01s/batch, accuracy=69.8, loss=0.666]\n"
     ]
    },
    {
     "name": "stdout",
     "output_type": "stream",
     "text": [
      "Training Loss: 1.1439, Accuracy: 82.82%\n",
      "Validation Loss: 0.6623, Accuracy: 69.85%\n",
      "------------------------------\n",
      "Epoch [5/100]\n"
     ]
    },
    {
     "name": "stderr",
     "output_type": "stream",
     "text": [
      "Training: 100%|██████████| 11/11 [02:25<00:00, 13.20s/batch, accuracy=83.8, loss=0.87]\n",
      "Validation:   0%|          | 0/3 [00:00<?, ?batch/s]"
     ]
    },
    {
     "name": "stdout",
     "output_type": "stream",
     "text": [
      "torch.Size([256, 3, 224, 224])\n"
     ]
    },
    {
     "name": "stderr",
     "output_type": "stream",
     "text": [
      "Validation:  33%|███▎      | 1/3 [00:06<00:13,  6.86s/batch, accuracy=75.8, loss=0.496]"
     ]
    },
    {
     "name": "stdout",
     "output_type": "stream",
     "text": [
      "torch.Size([256, 3, 224, 224])\n"
     ]
    },
    {
     "name": "stderr",
     "output_type": "stream",
     "text": [
      "Validation:  67%|██████▋   | 2/3 [00:13<00:06,  6.84s/batch, accuracy=80.3, loss=0.36] "
     ]
    },
    {
     "name": "stdout",
     "output_type": "stream",
     "text": [
      "torch.Size([148, 3, 224, 224])\n"
     ]
    },
    {
     "name": "stderr",
     "output_type": "stream",
     "text": [
      "Validation: 100%|██████████| 3/3 [00:17<00:00,  5.97s/batch, accuracy=80.2, loss=0.428]\n"
     ]
    },
    {
     "name": "stdout",
     "output_type": "stream",
     "text": [
      "Training Loss: 1.0128, Accuracy: 83.85%\n",
      "Validation Loss: 0.4278, Accuracy: 80.15%\n",
      "------------------------------\n",
      "Epoch [6/100]\n"
     ]
    },
    {
     "name": "stderr",
     "output_type": "stream",
     "text": [
      "Training: 100%|██████████| 11/11 [02:25<00:00, 13.21s/batch, accuracy=84.6, loss=1.07] \n",
      "Validation:   0%|          | 0/3 [00:00<?, ?batch/s]"
     ]
    },
    {
     "name": "stdout",
     "output_type": "stream",
     "text": [
      "torch.Size([256, 3, 224, 224])\n"
     ]
    },
    {
     "name": "stderr",
     "output_type": "stream",
     "text": [
      "Validation:  33%|███▎      | 1/3 [00:06<00:13,  6.89s/batch, accuracy=86.3, loss=0.327]"
     ]
    },
    {
     "name": "stdout",
     "output_type": "stream",
     "text": [
      "torch.Size([256, 3, 224, 224])\n"
     ]
    },
    {
     "name": "stderr",
     "output_type": "stream",
     "text": [
      "Validation:  67%|██████▋   | 2/3 [00:13<00:06,  6.91s/batch, accuracy=86.1, loss=0.287]"
     ]
    },
    {
     "name": "stdout",
     "output_type": "stream",
     "text": [
      "torch.Size([148, 3, 224, 224])\n"
     ]
    },
    {
     "name": "stderr",
     "output_type": "stream",
     "text": [
      "Validation: 100%|██████████| 3/3 [00:18<00:00,  6.10s/batch, accuracy=85.3, loss=0.41] \n"
     ]
    },
    {
     "name": "stdout",
     "output_type": "stream",
     "text": [
      "Training Loss: 0.9566, Accuracy: 84.64%\n",
      "Validation Loss: 0.3414, Accuracy: 85.30%\n",
      "------------------------------\n",
      "Epoch [7/100]\n"
     ]
    },
    {
     "name": "stderr",
     "output_type": "stream",
     "text": [
      "Training: 100%|██████████| 11/11 [02:26<00:00, 13.32s/batch, accuracy=85.4, loss=1.18] \n",
      "Validation:   0%|          | 0/3 [00:00<?, ?batch/s]"
     ]
    },
    {
     "name": "stdout",
     "output_type": "stream",
     "text": [
      "torch.Size([256, 3, 224, 224])\n"
     ]
    },
    {
     "name": "stderr",
     "output_type": "stream",
     "text": [
      "Validation:  33%|███▎      | 1/3 [00:06<00:13,  6.81s/batch, accuracy=67.2, loss=0.642]"
     ]
    },
    {
     "name": "stdout",
     "output_type": "stream",
     "text": [
      "torch.Size([256, 3, 224, 224])\n"
     ]
    },
    {
     "name": "stderr",
     "output_type": "stream",
     "text": [
      "Validation:  67%|██████▋   | 2/3 [00:13<00:06,  6.90s/batch, accuracy=69.7, loss=0.527]"
     ]
    },
    {
     "name": "stdout",
     "output_type": "stream",
     "text": [
      "torch.Size([148, 3, 224, 224])\n"
     ]
    },
    {
     "name": "stderr",
     "output_type": "stream",
     "text": [
      "Validation: 100%|██████████| 3/3 [00:17<00:00,  6.00s/batch, accuracy=69.2, loss=0.726]\n"
     ]
    },
    {
     "name": "stdout",
     "output_type": "stream",
     "text": [
      "Training Loss: 0.9312, Accuracy: 85.40%\n",
      "Validation Loss: 0.6316, Accuracy: 69.24%\n",
      "------------------------------\n",
      "Epoch [8/100]\n"
     ]
    },
    {
     "name": "stderr",
     "output_type": "stream",
     "text": [
      "Training: 100%|██████████| 11/11 [02:25<00:00, 13.26s/batch, accuracy=86.4, loss=0.881]\n",
      "Validation:   0%|          | 0/3 [00:00<?, ?batch/s]"
     ]
    },
    {
     "name": "stdout",
     "output_type": "stream",
     "text": [
      "torch.Size([256, 3, 224, 224])\n"
     ]
    },
    {
     "name": "stderr",
     "output_type": "stream",
     "text": [
      "Validation:  33%|███▎      | 1/3 [00:06<00:13,  6.83s/batch, accuracy=84, loss=0.322]"
     ]
    },
    {
     "name": "stdout",
     "output_type": "stream",
     "text": [
      "torch.Size([256, 3, 224, 224])\n"
     ]
    },
    {
     "name": "stderr",
     "output_type": "stream",
     "text": [
      "Validation:  67%|██████▋   | 2/3 [00:13<00:06,  6.82s/batch, accuracy=85, loss=0.334]"
     ]
    },
    {
     "name": "stdout",
     "output_type": "stream",
     "text": [
      "torch.Size([148, 3, 224, 224])\n"
     ]
    },
    {
     "name": "stderr",
     "output_type": "stream",
     "text": [
      "Validation: 100%|██████████| 3/3 [00:17<00:00,  5.95s/batch, accuracy=84.5, loss=0.374]\n"
     ]
    },
    {
     "name": "stdout",
     "output_type": "stream",
     "text": [
      "Training Loss: 0.8756, Accuracy: 86.39%\n",
      "Validation Loss: 0.3436, Accuracy: 84.55%\n",
      "------------------------------\n",
      "Epoch [9/100]\n"
     ]
    },
    {
     "name": "stderr",
     "output_type": "stream",
     "text": [
      "Training: 100%|██████████| 11/11 [02:25<00:00, 13.21s/batch, accuracy=85.2, loss=0.718]\n",
      "Validation:   0%|          | 0/3 [00:00<?, ?batch/s]"
     ]
    },
    {
     "name": "stdout",
     "output_type": "stream",
     "text": [
      "torch.Size([256, 3, 224, 224])\n"
     ]
    },
    {
     "name": "stderr",
     "output_type": "stream",
     "text": [
      "Validation:  33%|███▎      | 1/3 [00:06<00:13,  6.80s/batch, accuracy=84.8, loss=0.316]"
     ]
    },
    {
     "name": "stdout",
     "output_type": "stream",
     "text": [
      "torch.Size([256, 3, 224, 224])\n"
     ]
    },
    {
     "name": "stderr",
     "output_type": "stream",
     "text": [
      "Validation:  67%|██████▋   | 2/3 [00:13<00:06,  6.81s/batch, accuracy=85.2, loss=0.308]"
     ]
    },
    {
     "name": "stdout",
     "output_type": "stream",
     "text": [
      "torch.Size([148, 3, 224, 224])\n"
     ]
    },
    {
     "name": "stderr",
     "output_type": "stream",
     "text": [
      "Validation: 100%|██████████| 3/3 [00:17<00:00,  5.94s/batch, accuracy=84.1, loss=0.367]\n"
     ]
    },
    {
     "name": "stdout",
     "output_type": "stream",
     "text": [
      "Training Loss: 0.9234, Accuracy: 85.21%\n",
      "Validation Loss: 0.3304, Accuracy: 84.09%\n",
      "------------------------------\n",
      "Epoch [10/100]\n"
     ]
    },
    {
     "name": "stderr",
     "output_type": "stream",
     "text": [
      "Training: 100%|██████████| 11/11 [02:25<00:00, 13.23s/batch, accuracy=85.9, loss=0.871]\n",
      "Validation:   0%|          | 0/3 [00:00<?, ?batch/s]"
     ]
    },
    {
     "name": "stdout",
     "output_type": "stream",
     "text": [
      "torch.Size([256, 3, 224, 224])\n"
     ]
    },
    {
     "name": "stderr",
     "output_type": "stream",
     "text": [
      "Validation:  33%|███▎      | 1/3 [00:06<00:13,  6.86s/batch, accuracy=82.4, loss=0.332]"
     ]
    },
    {
     "name": "stdout",
     "output_type": "stream",
     "text": [
      "torch.Size([256, 3, 224, 224])\n"
     ]
    },
    {
     "name": "stderr",
     "output_type": "stream",
     "text": [
      "Validation:  67%|██████▋   | 2/3 [00:13<00:06,  6.81s/batch, accuracy=86.1, loss=0.261]"
     ]
    },
    {
     "name": "stdout",
     "output_type": "stream",
     "text": [
      "torch.Size([148, 3, 224, 224])\n"
     ]
    },
    {
     "name": "stderr",
     "output_type": "stream",
     "text": [
      "Validation: 100%|██████████| 3/3 [00:17<00:00,  5.94s/batch, accuracy=85.8, loss=0.356]\n"
     ]
    },
    {
     "name": "stdout",
     "output_type": "stream",
     "text": [
      "Training Loss: 0.8688, Accuracy: 85.93%\n",
      "Validation Loss: 0.3162, Accuracy: 85.76%\n",
      "------------------------------\n",
      "Epoch [11/100]\n"
     ]
    },
    {
     "name": "stderr",
     "output_type": "stream",
     "text": [
      "Training: 100%|██████████| 11/11 [02:26<00:00, 13.27s/batch, accuracy=87, loss=0.735]  \n",
      "Validation:   0%|          | 0/3 [00:00<?, ?batch/s]"
     ]
    },
    {
     "name": "stdout",
     "output_type": "stream",
     "text": [
      "torch.Size([256, 3, 224, 224])\n"
     ]
    },
    {
     "name": "stderr",
     "output_type": "stream",
     "text": [
      "Validation:  33%|███▎      | 1/3 [00:06<00:13,  6.83s/batch, accuracy=78.9, loss=0.421]"
     ]
    },
    {
     "name": "stdout",
     "output_type": "stream",
     "text": [
      "torch.Size([256, 3, 224, 224])\n"
     ]
    },
    {
     "name": "stderr",
     "output_type": "stream",
     "text": [
      "Validation:  67%|██████▋   | 2/3 [00:13<00:06,  6.82s/batch, accuracy=77.5, loss=0.441]"
     ]
    },
    {
     "name": "stdout",
     "output_type": "stream",
     "text": [
      "torch.Size([148, 3, 224, 224])\n"
     ]
    },
    {
     "name": "stderr",
     "output_type": "stream",
     "text": [
      "Validation: 100%|██████████| 3/3 [00:17<00:00,  5.95s/batch, accuracy=78.2, loss=0.486]\n"
     ]
    },
    {
     "name": "stdout",
     "output_type": "stream",
     "text": [
      "Training Loss: 0.8333, Accuracy: 86.95%\n",
      "Validation Loss: 0.4495, Accuracy: 78.18%\n",
      "------------------------------\n",
      "Epoch [12/100]\n"
     ]
    },
    {
     "name": "stderr",
     "output_type": "stream",
     "text": [
      "Training: 100%|██████████| 11/11 [02:25<00:00, 13.19s/batch, accuracy=87.1, loss=1.12] \n",
      "Validation:   0%|          | 0/3 [00:00<?, ?batch/s]"
     ]
    },
    {
     "name": "stdout",
     "output_type": "stream",
     "text": [
      "torch.Size([256, 3, 224, 224])\n"
     ]
    },
    {
     "name": "stderr",
     "output_type": "stream",
     "text": [
      "Validation:  33%|███▎      | 1/3 [00:06<00:13,  6.83s/batch, accuracy=74.6, loss=0.481]"
     ]
    },
    {
     "name": "stdout",
     "output_type": "stream",
     "text": [
      "torch.Size([256, 3, 224, 224])\n"
     ]
    },
    {
     "name": "stderr",
     "output_type": "stream",
     "text": [
      "Validation:  67%|██████▋   | 2/3 [00:13<00:06,  6.83s/batch, accuracy=77.7, loss=0.402]"
     ]
    },
    {
     "name": "stdout",
     "output_type": "stream",
     "text": [
      "torch.Size([148, 3, 224, 224])\n"
     ]
    },
    {
     "name": "stderr",
     "output_type": "stream",
     "text": [
      "Validation: 100%|██████████| 3/3 [00:17<00:00,  5.96s/batch, accuracy=76.2, loss=0.665]\n"
     ]
    },
    {
     "name": "stdout",
     "output_type": "stream",
     "text": [
      "Training Loss: 0.8234, Accuracy: 87.07%\n",
      "Validation Loss: 0.5161, Accuracy: 76.21%\n",
      "------------------------------\n",
      "Epoch [13/100]\n"
     ]
    },
    {
     "name": "stderr",
     "output_type": "stream",
     "text": [
      "Training: 100%|██████████| 11/11 [03:56<00:00, 21.49s/batch, accuracy=87.5, loss=0.685]\n",
      "Validation:   0%|          | 0/3 [00:00<?, ?batch/s]"
     ]
    },
    {
     "name": "stdout",
     "output_type": "stream",
     "text": [
      "torch.Size([256, 3, 224, 224])\n"
     ]
    },
    {
     "name": "stderr",
     "output_type": "stream",
     "text": [
      "Validation:  33%|███▎      | 1/3 [00:06<00:13,  6.81s/batch, accuracy=82.8, loss=0.365]"
     ]
    },
    {
     "name": "stdout",
     "output_type": "stream",
     "text": [
      "torch.Size([256, 3, 224, 224])\n"
     ]
    },
    {
     "name": "stderr",
     "output_type": "stream",
     "text": [
      "Validation:  67%|██████▋   | 2/3 [00:13<00:06,  6.82s/batch, accuracy=83.2, loss=0.335]"
     ]
    },
    {
     "name": "stdout",
     "output_type": "stream",
     "text": [
      "torch.Size([148, 3, 224, 224])\n"
     ]
    },
    {
     "name": "stderr",
     "output_type": "stream",
     "text": [
      "Validation: 100%|██████████| 3/3 [00:17<00:00,  5.96s/batch, accuracy=83.2, loss=0.347]\n"
     ]
    },
    {
     "name": "stdout",
     "output_type": "stream",
     "text": [
      "Training Loss: 0.8110, Accuracy: 87.49%\n",
      "Validation Loss: 0.3488, Accuracy: 83.18%\n",
      "------------------------------\n",
      "Epoch [14/100]\n"
     ]
    },
    {
     "name": "stderr",
     "output_type": "stream",
     "text": [
      "Training: 100%|██████████| 11/11 [02:27<00:00, 13.39s/batch, accuracy=86.8, loss=0.878]\n",
      "Validation:   0%|          | 0/3 [00:00<?, ?batch/s]"
     ]
    },
    {
     "name": "stdout",
     "output_type": "stream",
     "text": [
      "torch.Size([256, 3, 224, 224])\n"
     ]
    },
    {
     "name": "stderr",
     "output_type": "stream",
     "text": [
      "Validation:  33%|███▎      | 1/3 [00:06<00:13,  6.90s/batch, accuracy=82.4, loss=0.391]"
     ]
    },
    {
     "name": "stdout",
     "output_type": "stream",
     "text": [
      "torch.Size([256, 3, 224, 224])\n"
     ]
    },
    {
     "name": "stderr",
     "output_type": "stream",
     "text": [
      "Validation:  67%|██████▋   | 2/3 [00:13<00:06,  6.90s/batch, accuracy=84.6, loss=0.337]"
     ]
    },
    {
     "name": "stdout",
     "output_type": "stream",
     "text": [
      "torch.Size([148, 3, 224, 224])\n"
     ]
    },
    {
     "name": "stderr",
     "output_type": "stream",
     "text": [
      "Validation: 100%|██████████| 3/3 [00:18<00:00,  6.02s/batch, accuracy=83.9, loss=0.431]\n"
     ]
    },
    {
     "name": "stdout",
     "output_type": "stream",
     "text": [
      "Training Loss: 0.8308, Accuracy: 86.80%\n",
      "Validation Loss: 0.3865, Accuracy: 83.94%\n",
      "------------------------------\n",
      "Epoch [15/100]\n"
     ]
    },
    {
     "name": "stderr",
     "output_type": "stream",
     "text": [
      "Training: 100%|██████████| 11/11 [02:27<00:00, 13.38s/batch, accuracy=87.1, loss=0.727]\n",
      "Validation:   0%|          | 0/3 [00:00<?, ?batch/s]"
     ]
    },
    {
     "name": "stdout",
     "output_type": "stream",
     "text": [
      "torch.Size([256, 3, 224, 224])\n"
     ]
    },
    {
     "name": "stderr",
     "output_type": "stream",
     "text": [
      "Validation:  33%|███▎      | 1/3 [00:07<00:14,  7.02s/batch, accuracy=81.6, loss=0.53]"
     ]
    },
    {
     "name": "stdout",
     "output_type": "stream",
     "text": [
      "torch.Size([256, 3, 224, 224])\n"
     ]
    },
    {
     "name": "stderr",
     "output_type": "stream",
     "text": [
      "Validation:  67%|██████▋   | 2/3 [00:14<00:07,  7.04s/batch, accuracy=83.6, loss=0.427]"
     ]
    },
    {
     "name": "stdout",
     "output_type": "stream",
     "text": [
      "torch.Size([148, 3, 224, 224])\n"
     ]
    },
    {
     "name": "stderr",
     "output_type": "stream",
     "text": [
      "Validation: 100%|██████████| 3/3 [00:18<00:00,  6.13s/batch, accuracy=83.2, loss=0.688]\n"
     ]
    },
    {
     "name": "stdout",
     "output_type": "stream",
     "text": [
      "Training Loss: 0.8574, Accuracy: 87.07%\n",
      "Validation Loss: 0.5483, Accuracy: 83.18%\n",
      "------------------------------\n",
      "Epoch [16/100]\n"
     ]
    },
    {
     "name": "stderr",
     "output_type": "stream",
     "text": [
      "Training: 100%|██████████| 11/11 [02:28<00:00, 13.50s/batch, accuracy=86.1, loss=0.822]\n",
      "Validation:   0%|          | 0/3 [00:00<?, ?batch/s]"
     ]
    },
    {
     "name": "stdout",
     "output_type": "stream",
     "text": [
      "torch.Size([256, 3, 224, 224])\n"
     ]
    },
    {
     "name": "stderr",
     "output_type": "stream",
     "text": [
      "Validation:  33%|███▎      | 1/3 [00:06<00:13,  6.96s/batch, accuracy=77.7, loss=0.468]"
     ]
    },
    {
     "name": "stdout",
     "output_type": "stream",
     "text": [
      "torch.Size([256, 3, 224, 224])\n"
     ]
    },
    {
     "name": "stderr",
     "output_type": "stream",
     "text": [
      "Validation:  67%|██████▋   | 2/3 [00:13<00:06,  6.96s/batch, accuracy=75.4, loss=0.498]"
     ]
    },
    {
     "name": "stdout",
     "output_type": "stream",
     "text": [
      "torch.Size([148, 3, 224, 224])\n"
     ]
    },
    {
     "name": "stderr",
     "output_type": "stream",
     "text": [
      "Validation: 100%|██████████| 3/3 [00:18<00:00,  6.07s/batch, accuracy=75.9, loss=0.518]\n"
     ]
    },
    {
     "name": "stdout",
     "output_type": "stream",
     "text": [
      "Training Loss: 0.8335, Accuracy: 86.08%\n",
      "Validation Loss: 0.4943, Accuracy: 75.91%\n",
      "------------------------------\n",
      "Epoch [17/100]\n"
     ]
    },
    {
     "name": "stderr",
     "output_type": "stream",
     "text": [
      "Training: 100%|██████████| 11/11 [02:28<00:00, 13.53s/batch, accuracy=87, loss=1.11]  \n",
      "Validation:   0%|          | 0/3 [00:00<?, ?batch/s]"
     ]
    },
    {
     "name": "stdout",
     "output_type": "stream",
     "text": [
      "torch.Size([256, 3, 224, 224])\n"
     ]
    },
    {
     "name": "stderr",
     "output_type": "stream",
     "text": [
      "Validation:  33%|███▎      | 1/3 [00:07<00:14,  7.15s/batch, accuracy=85.2, loss=0.297]"
     ]
    },
    {
     "name": "stdout",
     "output_type": "stream",
     "text": [
      "torch.Size([256, 3, 224, 224])\n"
     ]
    },
    {
     "name": "stderr",
     "output_type": "stream",
     "text": [
      "Validation:  67%|██████▋   | 2/3 [00:14<00:07,  7.05s/batch, accuracy=87.7, loss=0.258]"
     ]
    },
    {
     "name": "stdout",
     "output_type": "stream",
     "text": [
      "torch.Size([148, 3, 224, 224])\n"
     ]
    },
    {
     "name": "stderr",
     "output_type": "stream",
     "text": [
      "Validation: 100%|██████████| 3/3 [00:18<00:00,  6.17s/batch, accuracy=87, loss=0.399]  \n"
     ]
    },
    {
     "name": "stdout",
     "output_type": "stream",
     "text": [
      "Training Loss: 0.8359, Accuracy: 86.99%\n",
      "Validation Loss: 0.3179, Accuracy: 86.97%\n",
      "------------------------------\n",
      "Epoch [18/100]\n"
     ]
    },
    {
     "name": "stderr",
     "output_type": "stream",
     "text": [
      "Training: 100%|██████████| 11/11 [02:34<00:00, 14.08s/batch, accuracy=88.9, loss=1.16]\n",
      "Validation:   0%|          | 0/3 [00:00<?, ?batch/s]"
     ]
    },
    {
     "name": "stdout",
     "output_type": "stream",
     "text": [
      "torch.Size([256, 3, 224, 224])\n"
     ]
    },
    {
     "name": "stderr",
     "output_type": "stream",
     "text": [
      "Validation:  33%|███▎      | 1/3 [00:06<00:13,  6.82s/batch, accuracy=77, loss=0.7]"
     ]
    },
    {
     "name": "stdout",
     "output_type": "stream",
     "text": [
      "torch.Size([256, 3, 224, 224])\n"
     ]
    },
    {
     "name": "stderr",
     "output_type": "stream",
     "text": [
      "Validation:  67%|██████▋   | 2/3 [00:13<00:06,  6.82s/batch, accuracy=80.7, loss=0.473]"
     ]
    },
    {
     "name": "stdout",
     "output_type": "stream",
     "text": [
      "torch.Size([148, 3, 224, 224])\n"
     ]
    },
    {
     "name": "stderr",
     "output_type": "stream",
     "text": [
      "Validation: 100%|██████████| 3/3 [00:18<00:00,  6.02s/batch, accuracy=80, loss=0.685]  \n"
     ]
    },
    {
     "name": "stdout",
     "output_type": "stream",
     "text": [
      "Training Loss: 0.7910, Accuracy: 88.89%\n",
      "Validation Loss: 0.6194, Accuracy: 80.00%\n",
      "------------------------------\n",
      "Epoch [19/100]\n"
     ]
    },
    {
     "name": "stderr",
     "output_type": "stream",
     "text": [
      "Training: 100%|██████████| 11/11 [02:31<00:00, 13.73s/batch, accuracy=88.9, loss=0.792]\n",
      "Validation:   0%|          | 0/3 [00:00<?, ?batch/s]"
     ]
    },
    {
     "name": "stdout",
     "output_type": "stream",
     "text": [
      "torch.Size([256, 3, 224, 224])\n"
     ]
    },
    {
     "name": "stderr",
     "output_type": "stream",
     "text": [
      "Validation:  33%|███▎      | 1/3 [00:06<00:13,  6.97s/batch, accuracy=85.9, loss=0.322]"
     ]
    },
    {
     "name": "stdout",
     "output_type": "stream",
     "text": [
      "torch.Size([256, 3, 224, 224])\n"
     ]
    },
    {
     "name": "stderr",
     "output_type": "stream",
     "text": [
      "Validation:  67%|██████▋   | 2/3 [00:13<00:06,  6.97s/batch, accuracy=85.4, loss=0.306]"
     ]
    },
    {
     "name": "stdout",
     "output_type": "stream",
     "text": [
      "torch.Size([148, 3, 224, 224])\n"
     ]
    },
    {
     "name": "stderr",
     "output_type": "stream",
     "text": [
      "Validation: 100%|██████████| 3/3 [00:18<00:00,  6.08s/batch, accuracy=85.2, loss=0.452]\n"
     ]
    },
    {
     "name": "stdout",
     "output_type": "stream",
     "text": [
      "Training Loss: 0.7572, Accuracy: 88.89%\n",
      "Validation Loss: 0.3598, Accuracy: 85.15%\n",
      "------------------------------\n",
      "Epoch [20/100]\n"
     ]
    },
    {
     "name": "stderr",
     "output_type": "stream",
     "text": [
      "Training: 100%|██████████| 11/11 [02:29<00:00, 13.56s/batch, accuracy=88.3, loss=0.611]\n",
      "Validation:   0%|          | 0/3 [00:00<?, ?batch/s]"
     ]
    },
    {
     "name": "stdout",
     "output_type": "stream",
     "text": [
      "torch.Size([256, 3, 224, 224])\n"
     ]
    },
    {
     "name": "stderr",
     "output_type": "stream",
     "text": [
      "Validation:  33%|███▎      | 1/3 [00:07<00:14,  7.37s/batch, accuracy=85.9, loss=0.32]"
     ]
    },
    {
     "name": "stdout",
     "output_type": "stream",
     "text": [
      "torch.Size([256, 3, 224, 224])\n"
     ]
    },
    {
     "name": "stderr",
     "output_type": "stream",
     "text": [
      "Validation:  67%|██████▋   | 2/3 [00:14<00:07,  7.20s/batch, accuracy=85.2, loss=0.352]"
     ]
    },
    {
     "name": "stdout",
     "output_type": "stream",
     "text": [
      "torch.Size([148, 3, 224, 224])\n"
     ]
    },
    {
     "name": "stderr",
     "output_type": "stream",
     "text": [
      "Validation: 100%|██████████| 3/3 [00:18<00:00,  6.29s/batch, accuracy=85, loss=0.494]  \n"
     ]
    },
    {
     "name": "stdout",
     "output_type": "stream",
     "text": [
      "Training Loss: 0.7193, Accuracy: 88.32%\n",
      "Validation Loss: 0.3884, Accuracy: 85.00%\n",
      "------------------------------\n",
      "Epoch [21/100]\n"
     ]
    },
    {
     "name": "stderr",
     "output_type": "stream",
     "text": [
      "Training: 100%|██████████| 11/11 [02:31<00:00, 13.74s/batch, accuracy=90, loss=0.814]  \n",
      "Validation:   0%|          | 0/3 [00:00<?, ?batch/s]"
     ]
    },
    {
     "name": "stdout",
     "output_type": "stream",
     "text": [
      "torch.Size([256, 3, 224, 224])\n"
     ]
    },
    {
     "name": "stderr",
     "output_type": "stream",
     "text": [
      "Validation:  33%|███▎      | 1/3 [00:07<00:14,  7.04s/batch, accuracy=85.9, loss=0.297]"
     ]
    },
    {
     "name": "stdout",
     "output_type": "stream",
     "text": [
      "torch.Size([256, 3, 224, 224])\n"
     ]
    },
    {
     "name": "stderr",
     "output_type": "stream",
     "text": [
      "Validation:  67%|██████▋   | 2/3 [00:14<00:07,  7.12s/batch, accuracy=85.9, loss=0.285]"
     ]
    },
    {
     "name": "stdout",
     "output_type": "stream",
     "text": [
      "torch.Size([148, 3, 224, 224])\n"
     ]
    },
    {
     "name": "stderr",
     "output_type": "stream",
     "text": [
      "Validation: 100%|██████████| 3/3 [00:18<00:00,  6.16s/batch, accuracy=85.6, loss=0.366]\n"
     ]
    },
    {
     "name": "stdout",
     "output_type": "stream",
     "text": [
      "Training Loss: 0.6818, Accuracy: 89.95%\n",
      "Validation Loss: 0.3160, Accuracy: 85.61%\n",
      "------------------------------\n",
      "Epoch [22/100]\n"
     ]
    },
    {
     "name": "stderr",
     "output_type": "stream",
     "text": [
      "Training: 100%|██████████| 11/11 [02:26<00:00, 13.35s/batch, accuracy=89.4, loss=0.585]\n",
      "Validation:   0%|          | 0/3 [00:00<?, ?batch/s]"
     ]
    },
    {
     "name": "stdout",
     "output_type": "stream",
     "text": [
      "torch.Size([256, 3, 224, 224])\n"
     ]
    },
    {
     "name": "stderr",
     "output_type": "stream",
     "text": [
      "Validation:  33%|███▎      | 1/3 [00:06<00:13,  6.83s/batch, accuracy=85.9, loss=0.284]"
     ]
    },
    {
     "name": "stdout",
     "output_type": "stream",
     "text": [
      "torch.Size([256, 3, 224, 224])\n"
     ]
    },
    {
     "name": "stderr",
     "output_type": "stream",
     "text": [
      "Validation:  67%|██████▋   | 2/3 [00:13<00:06,  6.91s/batch, accuracy=86.7, loss=0.327]"
     ]
    },
    {
     "name": "stdout",
     "output_type": "stream",
     "text": [
      "torch.Size([148, 3, 224, 224])\n"
     ]
    },
    {
     "name": "stderr",
     "output_type": "stream",
     "text": [
      "Validation: 100%|██████████| 3/3 [00:18<00:00,  6.10s/batch, accuracy=86.5, loss=0.281]\n"
     ]
    },
    {
     "name": "stdout",
     "output_type": "stream",
     "text": [
      "Training Loss: 0.6589, Accuracy: 89.38%\n",
      "Validation Loss: 0.2973, Accuracy: 86.52%\n",
      "------------------------------\n",
      "Epoch [23/100]\n"
     ]
    },
    {
     "name": "stderr",
     "output_type": "stream",
     "text": [
      "Training: 100%|██████████| 11/11 [02:32<00:00, 13.84s/batch, accuracy=89.6, loss=0.739]\n",
      "Validation:   0%|          | 0/3 [00:00<?, ?batch/s]"
     ]
    },
    {
     "name": "stdout",
     "output_type": "stream",
     "text": [
      "torch.Size([256, 3, 224, 224])\n"
     ]
    },
    {
     "name": "stderr",
     "output_type": "stream",
     "text": [
      "Validation:  33%|███▎      | 1/3 [00:07<00:14,  7.28s/batch, accuracy=85.5, loss=0.404]"
     ]
    },
    {
     "name": "stdout",
     "output_type": "stream",
     "text": [
      "torch.Size([256, 3, 224, 224])\n"
     ]
    },
    {
     "name": "stderr",
     "output_type": "stream",
     "text": [
      "Validation:  67%|██████▋   | 2/3 [00:14<00:07,  7.24s/batch, accuracy=84.2, loss=0.476]"
     ]
    },
    {
     "name": "stdout",
     "output_type": "stream",
     "text": [
      "torch.Size([148, 3, 224, 224])\n"
     ]
    },
    {
     "name": "stderr",
     "output_type": "stream",
     "text": [
      "Validation: 100%|██████████| 3/3 [00:19<00:00,  6.38s/batch, accuracy=84.7, loss=0.471]\n"
     ]
    },
    {
     "name": "stdout",
     "output_type": "stream",
     "text": [
      "Training Loss: 0.6716, Accuracy: 89.57%\n",
      "Validation Loss: 0.4502, Accuracy: 84.70%\n",
      "------------------------------\n",
      "Epoch [24/100]\n"
     ]
    },
    {
     "name": "stderr",
     "output_type": "stream",
     "text": [
      "Training: 100%|██████████| 11/11 [02:27<00:00, 13.37s/batch, accuracy=88.4, loss=1.08] \n",
      "Validation:   0%|          | 0/3 [00:00<?, ?batch/s]"
     ]
    },
    {
     "name": "stdout",
     "output_type": "stream",
     "text": [
      "torch.Size([256, 3, 224, 224])\n"
     ]
    },
    {
     "name": "stderr",
     "output_type": "stream",
     "text": [
      "Validation:  33%|███▎      | 1/3 [00:06<00:13,  6.86s/batch, accuracy=89.1, loss=0.267]"
     ]
    },
    {
     "name": "stdout",
     "output_type": "stream",
     "text": [
      "torch.Size([256, 3, 224, 224])\n"
     ]
    },
    {
     "name": "stderr",
     "output_type": "stream",
     "text": [
      "Validation:  67%|██████▋   | 2/3 [00:13<00:06,  6.85s/batch, accuracy=88.1, loss=0.304]"
     ]
    },
    {
     "name": "stdout",
     "output_type": "stream",
     "text": [
      "torch.Size([148, 3, 224, 224])\n"
     ]
    },
    {
     "name": "stderr",
     "output_type": "stream",
     "text": [
      "Validation: 100%|██████████| 3/3 [00:17<00:00,  5.98s/batch, accuracy=87.9, loss=0.49] \n"
     ]
    },
    {
     "name": "stdout",
     "output_type": "stream",
     "text": [
      "Training Loss: 0.7541, Accuracy: 88.40%\n",
      "Validation Loss: 0.3536, Accuracy: 87.88%\n",
      "------------------------------\n",
      "Epoch [25/100]\n"
     ]
    },
    {
     "name": "stderr",
     "output_type": "stream",
     "text": [
      "Training: 100%|██████████| 11/11 [02:33<00:00, 13.92s/batch, accuracy=90.2, loss=0.6]  \n",
      "Validation:   0%|          | 0/3 [00:00<?, ?batch/s]"
     ]
    },
    {
     "name": "stdout",
     "output_type": "stream",
     "text": [
      "torch.Size([256, 3, 224, 224])\n"
     ]
    },
    {
     "name": "stderr",
     "output_type": "stream",
     "text": [
      "Validation:  33%|███▎      | 1/3 [00:07<00:14,  7.20s/batch, accuracy=75, loss=0.793]"
     ]
    },
    {
     "name": "stdout",
     "output_type": "stream",
     "text": [
      "torch.Size([256, 3, 224, 224])\n"
     ]
    },
    {
     "name": "stderr",
     "output_type": "stream",
     "text": [
      "Validation:  67%|██████▋   | 2/3 [00:14<00:07,  7.19s/batch, accuracy=77.7, loss=0.573]"
     ]
    },
    {
     "name": "stdout",
     "output_type": "stream",
     "text": [
      "torch.Size([148, 3, 224, 224])\n"
     ]
    },
    {
     "name": "stderr",
     "output_type": "stream",
     "text": [
      "Validation: 100%|██████████| 3/3 [00:18<00:00,  6.28s/batch, accuracy=78, loss=0.727]  \n"
     ]
    },
    {
     "name": "stdout",
     "output_type": "stream",
     "text": [
      "Training Loss: 0.6642, Accuracy: 90.18%\n",
      "Validation Loss: 0.6975, Accuracy: 78.03%\n",
      "------------------------------\n",
      "Epoch [26/100]\n"
     ]
    },
    {
     "name": "stderr",
     "output_type": "stream",
     "text": [
      "Training: 100%|██████████| 11/11 [02:32<00:00, 13.86s/batch, accuracy=89.5, loss=0.636]\n",
      "Validation:   0%|          | 0/3 [00:00<?, ?batch/s]"
     ]
    },
    {
     "name": "stdout",
     "output_type": "stream",
     "text": [
      "torch.Size([256, 3, 224, 224])\n"
     ]
    },
    {
     "name": "stderr",
     "output_type": "stream",
     "text": [
      "Validation:  33%|███▎      | 1/3 [00:07<00:14,  7.17s/batch, accuracy=82.8, loss=0.375]"
     ]
    },
    {
     "name": "stdout",
     "output_type": "stream",
     "text": [
      "torch.Size([256, 3, 224, 224])\n"
     ]
    },
    {
     "name": "stderr",
     "output_type": "stream",
     "text": [
      "Validation:  67%|██████▋   | 2/3 [00:14<00:07,  7.26s/batch, accuracy=83.8, loss=0.344]"
     ]
    },
    {
     "name": "stdout",
     "output_type": "stream",
     "text": [
      "torch.Size([148, 3, 224, 224])\n"
     ]
    },
    {
     "name": "stderr",
     "output_type": "stream",
     "text": [
      "Validation: 100%|██████████| 3/3 [00:19<00:00,  6.39s/batch, accuracy=83.2, loss=0.416]\n"
     ]
    },
    {
     "name": "stdout",
     "output_type": "stream",
     "text": [
      "Training Loss: 0.7008, Accuracy: 89.50%\n",
      "Validation Loss: 0.3785, Accuracy: 83.18%\n",
      "------------------------------\n",
      "Epoch [27/100]\n"
     ]
    },
    {
     "name": "stderr",
     "output_type": "stream",
     "text": [
      "Training: 100%|██████████| 11/11 [02:31<00:00, 13.74s/batch, accuracy=90.3, loss=0.679]\n",
      "Validation:   0%|          | 0/3 [00:00<?, ?batch/s]"
     ]
    },
    {
     "name": "stdout",
     "output_type": "stream",
     "text": [
      "torch.Size([256, 3, 224, 224])\n"
     ]
    },
    {
     "name": "stderr",
     "output_type": "stream",
     "text": [
      "Validation:  33%|███▎      | 1/3 [00:06<00:13,  6.87s/batch, accuracy=77.3, loss=0.971]"
     ]
    },
    {
     "name": "stdout",
     "output_type": "stream",
     "text": [
      "torch.Size([256, 3, 224, 224])\n"
     ]
    },
    {
     "name": "stderr",
     "output_type": "stream",
     "text": [
      "Validation:  67%|██████▋   | 2/3 [00:13<00:06,  6.89s/batch, accuracy=78.7, loss=0.895]"
     ]
    },
    {
     "name": "stdout",
     "output_type": "stream",
     "text": [
      "torch.Size([148, 3, 224, 224])\n"
     ]
    },
    {
     "name": "stderr",
     "output_type": "stream",
     "text": [
      "Validation: 100%|██████████| 3/3 [00:18<00:00,  6.02s/batch, accuracy=79.7, loss=1.05] \n"
     ]
    },
    {
     "name": "stdout",
     "output_type": "stream",
     "text": [
      "Training Loss: 0.6549, Accuracy: 90.33%\n",
      "Validation Loss: 0.9718, Accuracy: 79.70%\n",
      "------------------------------\n",
      "Epoch [28/100]\n"
     ]
    },
    {
     "name": "stderr",
     "output_type": "stream",
     "text": [
      "Training: 100%|██████████| 11/11 [02:32<00:00, 13.83s/batch, accuracy=90.4, loss=0.668]\n",
      "Validation:   0%|          | 0/3 [00:00<?, ?batch/s]"
     ]
    },
    {
     "name": "stdout",
     "output_type": "stream",
     "text": [
      "torch.Size([256, 3, 224, 224])\n"
     ]
    },
    {
     "name": "stderr",
     "output_type": "stream",
     "text": [
      "Validation:  33%|███▎      | 1/3 [00:07<00:14,  7.13s/batch, accuracy=84, loss=0.366]"
     ]
    },
    {
     "name": "stdout",
     "output_type": "stream",
     "text": [
      "torch.Size([256, 3, 224, 224])\n"
     ]
    },
    {
     "name": "stderr",
     "output_type": "stream",
     "text": [
      "Validation:  67%|██████▋   | 2/3 [00:14<00:07,  7.12s/batch, accuracy=85, loss=0.327]"
     ]
    },
    {
     "name": "stdout",
     "output_type": "stream",
     "text": [
      "torch.Size([148, 3, 224, 224])\n"
     ]
    },
    {
     "name": "stderr",
     "output_type": "stream",
     "text": [
      "Validation: 100%|██████████| 3/3 [00:18<00:00,  6.17s/batch, accuracy=85.3, loss=0.324]\n"
     ]
    },
    {
     "name": "stdout",
     "output_type": "stream",
     "text": [
      "Training Loss: 0.6504, Accuracy: 90.37%\n",
      "Validation Loss: 0.3393, Accuracy: 85.30%\n",
      "------------------------------\n",
      "Epoch [29/100]\n"
     ]
    },
    {
     "name": "stderr",
     "output_type": "stream",
     "text": [
      "Training: 100%|██████████| 11/11 [02:30<00:00, 13.71s/batch, accuracy=89.7, loss=0.671]\n",
      "Validation:   0%|          | 0/3 [00:00<?, ?batch/s]"
     ]
    },
    {
     "name": "stdout",
     "output_type": "stream",
     "text": [
      "torch.Size([256, 3, 224, 224])\n"
     ]
    },
    {
     "name": "stderr",
     "output_type": "stream",
     "text": [
      "Validation:  33%|███▎      | 1/3 [00:06<00:13,  6.84s/batch, accuracy=89.1, loss=0.254]"
     ]
    },
    {
     "name": "stdout",
     "output_type": "stream",
     "text": [
      "torch.Size([256, 3, 224, 224])\n"
     ]
    },
    {
     "name": "stderr",
     "output_type": "stream",
     "text": [
      "Validation:  67%|██████▋   | 2/3 [00:13<00:06,  6.86s/batch, accuracy=87.9, loss=0.289]"
     ]
    },
    {
     "name": "stdout",
     "output_type": "stream",
     "text": [
      "torch.Size([148, 3, 224, 224])\n"
     ]
    },
    {
     "name": "stderr",
     "output_type": "stream",
     "text": [
      "Validation: 100%|██████████| 3/3 [00:17<00:00,  5.98s/batch, accuracy=87.3, loss=0.396]\n"
     ]
    },
    {
     "name": "stdout",
     "output_type": "stream",
     "text": [
      "Training Loss: 0.6429, Accuracy: 89.69%\n",
      "Validation Loss: 0.3131, Accuracy: 87.27%\n",
      "------------------------------\n",
      "Epoch [30/100]\n"
     ]
    },
    {
     "name": "stderr",
     "output_type": "stream",
     "text": [
      "Training:  27%|██▋       | 3/11 [00:42<01:54, 14.30s/batch, accuracy=91, loss=0.711]\n"
     ]
    },
    {
     "ename": "KeyboardInterrupt",
     "evalue": "",
     "output_type": "error",
     "traceback": [
      "\u001b[1;31m---------------------------------------------------------------------------\u001b[0m",
      "\u001b[1;31mKeyboardInterrupt\u001b[0m                         Traceback (most recent call last)",
      "Cell \u001b[1;32mIn[22], line 3\u001b[0m\n\u001b[0;32m      1\u001b[0m google_net_model \u001b[38;5;241m=\u001b[39m GoogLeNet()\u001b[38;5;241m.\u001b[39mto(device)\n\u001b[0;32m      2\u001b[0m optimizer \u001b[38;5;241m=\u001b[39m optim\u001b[38;5;241m.\u001b[39mAdam(google_net_model\u001b[38;5;241m.\u001b[39mparameters(), lr\u001b[38;5;241m=\u001b[39mlearning_rate)\n\u001b[1;32m----> 3\u001b[0m train_accuracies, train_losses, val_accuracy, val_losses \u001b[38;5;241m=\u001b[39m \u001b[43mtrain_model\u001b[49m\u001b[43m(\u001b[49m\u001b[43mgoogle_net_model\u001b[49m\u001b[43m,\u001b[49m\u001b[43m \u001b[49m\u001b[43moptimizer\u001b[49m\u001b[43m,\u001b[49m\u001b[43m \u001b[49m\u001b[43mcriterion\u001b[49m\u001b[43m,\u001b[49m\u001b[43m \u001b[49m\n\u001b[0;32m      4\u001b[0m \u001b[43m                                                                       \u001b[49m\u001b[43mgoogle_net_train_dataloader\u001b[49m\u001b[43m,\u001b[49m\u001b[43m \u001b[49m\u001b[43mgoogle_net_test_dataloader\u001b[49m\u001b[43m,\u001b[49m\u001b[43m \u001b[49m\n\u001b[0;32m      5\u001b[0m \u001b[43m                                                                       \u001b[49m\u001b[43mgoogle_net_dataset\u001b[49m\u001b[43m,\u001b[49m\u001b[43m \u001b[49m\u001b[43mnum_epochs\u001b[49m\u001b[38;5;241;43m=\u001b[39;49m\u001b[43mnum_epochs\u001b[49m\u001b[43m,\u001b[49m\u001b[43m \u001b[49m\u001b[43mdevice\u001b[49m\u001b[38;5;241;43m=\u001b[39;49m\u001b[43mdevice\u001b[49m\u001b[43m)\u001b[49m\n",
      "Cell \u001b[1;32mIn[21], line 27\u001b[0m, in \u001b[0;36mtrain_model\u001b[1;34m(model, optimizer, criterion, train_loader, val_loader, dataset, num_epochs, device)\u001b[0m\n\u001b[0;32m     24\u001b[0m total_train \u001b[38;5;241m=\u001b[39m \u001b[38;5;241m0\u001b[39m\n\u001b[0;32m     26\u001b[0m \u001b[38;5;28;01mwith\u001b[39;00m tqdm(total\u001b[38;5;241m=\u001b[39m\u001b[38;5;28mlen\u001b[39m(train_loader), desc\u001b[38;5;241m=\u001b[39m\u001b[38;5;124m\"\u001b[39m\u001b[38;5;124mTraining\u001b[39m\u001b[38;5;124m\"\u001b[39m, unit\u001b[38;5;241m=\u001b[39m\u001b[38;5;124m\"\u001b[39m\u001b[38;5;124mbatch\u001b[39m\u001b[38;5;124m\"\u001b[39m) \u001b[38;5;28;01mas\u001b[39;00m pbar:\n\u001b[1;32m---> 27\u001b[0m \u001b[43m    \u001b[49m\u001b[38;5;28;43;01mfor\u001b[39;49;00m\u001b[43m \u001b[49m\u001b[43mbatch\u001b[49m\u001b[43m \u001b[49m\u001b[38;5;129;43;01min\u001b[39;49;00m\u001b[43m \u001b[49m\u001b[43mtrain_loader\u001b[49m\u001b[43m:\u001b[49m\n\u001b[0;32m     28\u001b[0m \u001b[43m        \u001b[49m\u001b[43mimages\u001b[49m\u001b[43m,\u001b[49m\u001b[43m \u001b[49m\u001b[43mlabels\u001b[49m\u001b[43m \u001b[49m\u001b[38;5;241;43m=\u001b[39;49m\u001b[43m \u001b[49m\u001b[43mbatch\u001b[49m\u001b[43m[\u001b[49m\u001b[38;5;124;43m'\u001b[39;49m\u001b[38;5;124;43mimage\u001b[39;49m\u001b[38;5;124;43m'\u001b[39;49m\u001b[43m]\u001b[49m\u001b[38;5;241;43m.\u001b[39;49m\u001b[43mto\u001b[49m\u001b[43m(\u001b[49m\u001b[43mdevice\u001b[49m\u001b[43m)\u001b[49m\u001b[43m,\u001b[49m\u001b[43m \u001b[49m\u001b[43mbatch\u001b[49m\u001b[43m[\u001b[49m\u001b[38;5;124;43m'\u001b[39;49m\u001b[38;5;124;43mlabel\u001b[39;49m\u001b[38;5;124;43m'\u001b[39;49m\u001b[43m]\u001b[49m\u001b[38;5;241;43m.\u001b[39;49m\u001b[43mto\u001b[49m\u001b[43m(\u001b[49m\u001b[43mdevice\u001b[49m\u001b[43m)\u001b[49m\n\u001b[0;32m     29\u001b[0m \u001b[43m        \u001b[49m\u001b[38;5;66;43;03m# print('images.shape: ', images.shape)\u001b[39;49;00m\n\u001b[0;32m     30\u001b[0m \u001b[43m        \u001b[49m\u001b[38;5;66;43;03m# Forward pass\u001b[39;49;00m\n",
      "File \u001b[1;32mc:\\Users\\USER\\AppData\\Local\\Programs\\Python\\Python312\\Lib\\site-packages\\torch\\utils\\data\\dataloader.py:701\u001b[0m, in \u001b[0;36m_BaseDataLoaderIter.__next__\u001b[1;34m(self)\u001b[0m\n\u001b[0;32m    698\u001b[0m \u001b[38;5;28;01mif\u001b[39;00m \u001b[38;5;28mself\u001b[39m\u001b[38;5;241m.\u001b[39m_sampler_iter \u001b[38;5;129;01mis\u001b[39;00m \u001b[38;5;28;01mNone\u001b[39;00m:\n\u001b[0;32m    699\u001b[0m     \u001b[38;5;66;03m# TODO(https://github.com/pytorch/pytorch/issues/76750)\u001b[39;00m\n\u001b[0;32m    700\u001b[0m     \u001b[38;5;28mself\u001b[39m\u001b[38;5;241m.\u001b[39m_reset()  \u001b[38;5;66;03m# type: ignore[call-arg]\u001b[39;00m\n\u001b[1;32m--> 701\u001b[0m data \u001b[38;5;241m=\u001b[39m \u001b[38;5;28;43mself\u001b[39;49m\u001b[38;5;241;43m.\u001b[39;49m\u001b[43m_next_data\u001b[49m\u001b[43m(\u001b[49m\u001b[43m)\u001b[49m\n\u001b[0;32m    702\u001b[0m \u001b[38;5;28mself\u001b[39m\u001b[38;5;241m.\u001b[39m_num_yielded \u001b[38;5;241m+\u001b[39m\u001b[38;5;241m=\u001b[39m \u001b[38;5;241m1\u001b[39m\n\u001b[0;32m    703\u001b[0m \u001b[38;5;28;01mif\u001b[39;00m (\n\u001b[0;32m    704\u001b[0m     \u001b[38;5;28mself\u001b[39m\u001b[38;5;241m.\u001b[39m_dataset_kind \u001b[38;5;241m==\u001b[39m _DatasetKind\u001b[38;5;241m.\u001b[39mIterable\n\u001b[0;32m    705\u001b[0m     \u001b[38;5;129;01mand\u001b[39;00m \u001b[38;5;28mself\u001b[39m\u001b[38;5;241m.\u001b[39m_IterableDataset_len_called \u001b[38;5;129;01mis\u001b[39;00m \u001b[38;5;129;01mnot\u001b[39;00m \u001b[38;5;28;01mNone\u001b[39;00m\n\u001b[0;32m    706\u001b[0m     \u001b[38;5;129;01mand\u001b[39;00m \u001b[38;5;28mself\u001b[39m\u001b[38;5;241m.\u001b[39m_num_yielded \u001b[38;5;241m>\u001b[39m \u001b[38;5;28mself\u001b[39m\u001b[38;5;241m.\u001b[39m_IterableDataset_len_called\n\u001b[0;32m    707\u001b[0m ):\n",
      "File \u001b[1;32mc:\\Users\\USER\\AppData\\Local\\Programs\\Python\\Python312\\Lib\\site-packages\\torch\\utils\\data\\dataloader.py:757\u001b[0m, in \u001b[0;36m_SingleProcessDataLoaderIter._next_data\u001b[1;34m(self)\u001b[0m\n\u001b[0;32m    755\u001b[0m \u001b[38;5;28;01mdef\u001b[39;00m \u001b[38;5;21m_next_data\u001b[39m(\u001b[38;5;28mself\u001b[39m):\n\u001b[0;32m    756\u001b[0m     index \u001b[38;5;241m=\u001b[39m \u001b[38;5;28mself\u001b[39m\u001b[38;5;241m.\u001b[39m_next_index()  \u001b[38;5;66;03m# may raise StopIteration\u001b[39;00m\n\u001b[1;32m--> 757\u001b[0m     data \u001b[38;5;241m=\u001b[39m \u001b[38;5;28;43mself\u001b[39;49m\u001b[38;5;241;43m.\u001b[39;49m\u001b[43m_dataset_fetcher\u001b[49m\u001b[38;5;241;43m.\u001b[39;49m\u001b[43mfetch\u001b[49m\u001b[43m(\u001b[49m\u001b[43mindex\u001b[49m\u001b[43m)\u001b[49m  \u001b[38;5;66;03m# may raise StopIteration\u001b[39;00m\n\u001b[0;32m    758\u001b[0m     \u001b[38;5;28;01mif\u001b[39;00m \u001b[38;5;28mself\u001b[39m\u001b[38;5;241m.\u001b[39m_pin_memory:\n\u001b[0;32m    759\u001b[0m         data \u001b[38;5;241m=\u001b[39m _utils\u001b[38;5;241m.\u001b[39mpin_memory\u001b[38;5;241m.\u001b[39mpin_memory(data, \u001b[38;5;28mself\u001b[39m\u001b[38;5;241m.\u001b[39m_pin_memory_device)\n",
      "File \u001b[1;32mc:\\Users\\USER\\AppData\\Local\\Programs\\Python\\Python312\\Lib\\site-packages\\torch\\utils\\data\\_utils\\fetch.py:52\u001b[0m, in \u001b[0;36m_MapDatasetFetcher.fetch\u001b[1;34m(self, possibly_batched_index)\u001b[0m\n\u001b[0;32m     50\u001b[0m         data \u001b[38;5;241m=\u001b[39m \u001b[38;5;28mself\u001b[39m\u001b[38;5;241m.\u001b[39mdataset\u001b[38;5;241m.\u001b[39m__getitems__(possibly_batched_index)\n\u001b[0;32m     51\u001b[0m     \u001b[38;5;28;01melse\u001b[39;00m:\n\u001b[1;32m---> 52\u001b[0m         data \u001b[38;5;241m=\u001b[39m [\u001b[38;5;28;43mself\u001b[39;49m\u001b[38;5;241;43m.\u001b[39;49m\u001b[43mdataset\u001b[49m\u001b[43m[\u001b[49m\u001b[43midx\u001b[49m\u001b[43m]\u001b[49m \u001b[38;5;28;01mfor\u001b[39;00m idx \u001b[38;5;129;01min\u001b[39;00m possibly_batched_index]\n\u001b[0;32m     53\u001b[0m \u001b[38;5;28;01melse\u001b[39;00m:\n\u001b[0;32m     54\u001b[0m     data \u001b[38;5;241m=\u001b[39m \u001b[38;5;28mself\u001b[39m\u001b[38;5;241m.\u001b[39mdataset[possibly_batched_index]\n",
      "Cell \u001b[1;32mIn[4], line 56\u001b[0m, in \u001b[0;36mData.__getitem__\u001b[1;34m(self, idx)\u001b[0m\n\u001b[0;32m     54\u001b[0m \u001b[38;5;28;01mif\u001b[39;00m \u001b[38;5;28mself\u001b[39m\u001b[38;5;241m.\u001b[39mmode \u001b[38;5;241m==\u001b[39m \u001b[38;5;124m'\u001b[39m\u001b[38;5;124mtrain\u001b[39m\u001b[38;5;124m'\u001b[39m:\n\u001b[0;32m     55\u001b[0m     image, label \u001b[38;5;241m=\u001b[39m \u001b[38;5;28mself\u001b[39m\u001b[38;5;241m.\u001b[39mX_train[idx], \u001b[38;5;28mself\u001b[39m\u001b[38;5;241m.\u001b[39my_train[idx]\n\u001b[1;32m---> 56\u001b[0m     image \u001b[38;5;241m=\u001b[39m \u001b[38;5;28;43mself\u001b[39;49m\u001b[38;5;241;43m.\u001b[39;49m\u001b[43mtrain_transform\u001b[49m\u001b[43m(\u001b[49m\u001b[43mimage\u001b[49m\u001b[43m)\u001b[49m\n\u001b[0;32m     57\u001b[0m \u001b[38;5;28;01melif\u001b[39;00m \u001b[38;5;28mself\u001b[39m\u001b[38;5;241m.\u001b[39mmode \u001b[38;5;241m==\u001b[39m \u001b[38;5;124m'\u001b[39m\u001b[38;5;124mval\u001b[39m\u001b[38;5;124m'\u001b[39m:\n\u001b[0;32m     58\u001b[0m     image, label \u001b[38;5;241m=\u001b[39m \u001b[38;5;28mself\u001b[39m\u001b[38;5;241m.\u001b[39mX_test[idx], \u001b[38;5;28mself\u001b[39m\u001b[38;5;241m.\u001b[39my_test[idx]\n",
      "File \u001b[1;32mc:\\Users\\USER\\AppData\\Local\\Programs\\Python\\Python312\\Lib\\site-packages\\torchvision\\transforms\\transforms.py:95\u001b[0m, in \u001b[0;36mCompose.__call__\u001b[1;34m(self, img)\u001b[0m\n\u001b[0;32m     93\u001b[0m \u001b[38;5;28;01mdef\u001b[39;00m \u001b[38;5;21m__call__\u001b[39m(\u001b[38;5;28mself\u001b[39m, img):\n\u001b[0;32m     94\u001b[0m     \u001b[38;5;28;01mfor\u001b[39;00m t \u001b[38;5;129;01min\u001b[39;00m \u001b[38;5;28mself\u001b[39m\u001b[38;5;241m.\u001b[39mtransforms:\n\u001b[1;32m---> 95\u001b[0m         img \u001b[38;5;241m=\u001b[39m \u001b[43mt\u001b[49m\u001b[43m(\u001b[49m\u001b[43mimg\u001b[49m\u001b[43m)\u001b[49m\n\u001b[0;32m     96\u001b[0m     \u001b[38;5;28;01mreturn\u001b[39;00m img\n",
      "File \u001b[1;32mc:\\Users\\USER\\AppData\\Local\\Programs\\Python\\Python312\\Lib\\site-packages\\torchvision\\transforms\\transforms.py:234\u001b[0m, in \u001b[0;36mToPILImage.__call__\u001b[1;34m(self, pic)\u001b[0m\n\u001b[0;32m    225\u001b[0m \u001b[38;5;28;01mdef\u001b[39;00m \u001b[38;5;21m__call__\u001b[39m(\u001b[38;5;28mself\u001b[39m, pic):\n\u001b[0;32m    226\u001b[0m \u001b[38;5;250m    \u001b[39m\u001b[38;5;124;03m\"\"\"\u001b[39;00m\n\u001b[0;32m    227\u001b[0m \u001b[38;5;124;03m    Args:\u001b[39;00m\n\u001b[0;32m    228\u001b[0m \u001b[38;5;124;03m        pic (Tensor or numpy.ndarray): Image to be converted to PIL Image.\u001b[39;00m\n\u001b[1;32m   (...)\u001b[0m\n\u001b[0;32m    232\u001b[0m \n\u001b[0;32m    233\u001b[0m \u001b[38;5;124;03m    \"\"\"\u001b[39;00m\n\u001b[1;32m--> 234\u001b[0m     \u001b[38;5;28;01mreturn\u001b[39;00m \u001b[43mF\u001b[49m\u001b[38;5;241;43m.\u001b[39;49m\u001b[43mto_pil_image\u001b[49m\u001b[43m(\u001b[49m\u001b[43mpic\u001b[49m\u001b[43m,\u001b[49m\u001b[43m \u001b[49m\u001b[38;5;28;43mself\u001b[39;49m\u001b[38;5;241;43m.\u001b[39;49m\u001b[43mmode\u001b[49m\u001b[43m)\u001b[49m\n",
      "File \u001b[1;32mc:\\Users\\USER\\AppData\\Local\\Programs\\Python\\Python312\\Lib\\site-packages\\torchvision\\transforms\\functional.py:282\u001b[0m, in \u001b[0;36mto_pil_image\u001b[1;34m(pic, mode)\u001b[0m\n\u001b[0;32m    279\u001b[0m npimg \u001b[38;5;241m=\u001b[39m pic\n\u001b[0;32m    281\u001b[0m \u001b[38;5;28;01mif\u001b[39;00m np\u001b[38;5;241m.\u001b[39missubdtype(npimg\u001b[38;5;241m.\u001b[39mdtype, np\u001b[38;5;241m.\u001b[39mfloating) \u001b[38;5;129;01mand\u001b[39;00m mode \u001b[38;5;241m!=\u001b[39m \u001b[38;5;124m\"\u001b[39m\u001b[38;5;124mF\u001b[39m\u001b[38;5;124m\"\u001b[39m:\n\u001b[1;32m--> 282\u001b[0m     npimg \u001b[38;5;241m=\u001b[39m \u001b[43m(\u001b[49m\u001b[43mnpimg\u001b[49m\u001b[43m \u001b[49m\u001b[38;5;241;43m*\u001b[39;49m\u001b[43m \u001b[49m\u001b[38;5;241;43m255\u001b[39;49m\u001b[43m)\u001b[49m\u001b[38;5;241;43m.\u001b[39;49m\u001b[43mastype\u001b[49m\u001b[43m(\u001b[49m\u001b[43mnp\u001b[49m\u001b[38;5;241;43m.\u001b[39;49m\u001b[43muint8\u001b[49m\u001b[43m)\u001b[49m\n\u001b[0;32m    284\u001b[0m \u001b[38;5;28;01mif\u001b[39;00m npimg\u001b[38;5;241m.\u001b[39mshape[\u001b[38;5;241m2\u001b[39m] \u001b[38;5;241m==\u001b[39m \u001b[38;5;241m1\u001b[39m:\n\u001b[0;32m    285\u001b[0m     expected_mode \u001b[38;5;241m=\u001b[39m \u001b[38;5;28;01mNone\u001b[39;00m\n",
      "\u001b[1;31mKeyboardInterrupt\u001b[0m: "
     ]
    }
   ],
   "source": [
    "google_net_model = GoogLeNet().to(device)\n",
    "optimizer = optim.Adam(google_net_model.parameters(), lr=learning_rate)\n",
    "train_accuracies, train_losses, val_accuracy, val_losses = train_model(google_net_model, optimizer, criterion, \n",
    "                                                                       google_net_train_dataloader, google_net_test_dataloader, \n",
    "                                                                       google_net_dataset, num_epochs=num_epochs, device=device)"
   ]
  },
  {
   "cell_type": "code",
   "execution_count": null,
   "metadata": {},
   "outputs": [],
   "source": []
  }
 ],
 "metadata": {
  "kernelspec": {
   "display_name": "Python 3",
   "language": "python",
   "name": "python3"
  },
  "language_info": {
   "codemirror_mode": {
    "name": "ipython",
    "version": 3
   },
   "file_extension": ".py",
   "mimetype": "text/x-python",
   "name": "python",
   "nbconvert_exporter": "python",
   "pygments_lexer": "ipython3",
   "version": "3.12.6"
  }
 },
 "nbformat": 4,
 "nbformat_minor": 2
}
